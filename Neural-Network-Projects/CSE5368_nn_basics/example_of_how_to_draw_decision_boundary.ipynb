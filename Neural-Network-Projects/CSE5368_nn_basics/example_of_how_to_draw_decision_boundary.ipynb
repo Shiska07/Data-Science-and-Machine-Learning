{
 "cells": [
  {
   "cell_type": "markdown",
   "metadata": {},
   "source": [
    "#  Example of How to plot the decision boundary of a neuron\n",
    "\n",
    "This example shows how to plot a decision bundary and color the negative and positive regions accordingly.\n",
    "\n",
    "\n",
    "Farhad kamangar Sept. 2018"
   ]
  },
  {
   "cell_type": "code",
   "execution_count": 1,
   "metadata": {},
   "outputs": [
    {
     "data": {
      "image/png": "[encoded data removed]",
      "text/plain": [
       "<Figure size 432x288 with 1 Axes>"
      ]
     },
     "metadata": {
      "needs_background": "light"
     },
     "output_type": "display_data"
    }
   ],
   "source": [
    "#%matplotlib notebook\n",
    "%matplotlib inline\n",
    "import numpy as np\n",
    "import matplotlib.pyplot as plt\n",
    "import time\n",
    "\n",
    "fig = plt.figure()\n",
    "ax = fig.gca()\n",
    "resolution=200\n",
    "xs = np.linspace(-3., 3., resolution)\n",
    "ys = np.linspace(-3., 3., resolution)\n",
    "xx, yy = np.meshgrid(xs, ys)\n",
    "zz=2*xx+4*yy-5\n",
    "zz[zz<0]=-1\n",
    "zz[zz>0]=+1\n",
    "quad = ax.pcolormesh(xs, ys, zz)\n",
    "positive = np.array([[2, 2], [1, 2]])\n",
    "negative = np.array([[0, 0], [-1, -2]])\n",
    "plt.plot(positive[:, 0], positive[:,1], 'rx', markersize=10)\n",
    "plt.plot(negative[:, 0], negative[:,1], 'yo', markersize=10)\n",
    "plt.show()"
   ]
  }
 ],
 "metadata": {
  "hide_input": false,
  "kernelspec": {
   "display_name": "Python 3",
   "language": "python",
   "name": "python3"
  },
  "language_info": {
   "codemirror_mode": {
    "name": "ipython",
    "version": 3
   },
   "file_extension": ".py",
   "mimetype": "text/x-python",
   "name": "python",
   "nbconvert_exporter": "python",
   "pygments_lexer": "ipython3",
   "version": "3.7.3"
  },
  "varInspector": {
   "cols": {
    "lenName": 16,
    "lenType": 16,
    "lenVar": 40
   },
   "kernels_config": {
    "python": {
     "delete_cmd_postfix": "",
     "delete_cmd_prefix": "del ",
     "library": "var_list.py",
     "varRefreshCmd": "print(var_dic_list())"
    },
    "r": {
     "delete_cmd_postfix": ") ",
     "delete_cmd_prefix": "rm(",
     "library": "var_list.r",
     "varRefreshCmd": "cat(var_dic_list()) "
    }
   },
   "types_to_exclude": [
    "module",
    "function",
    "builtin_function_or_method",
    "instance",
    "_Feature"
   ],
   "window_display": false
  }
 },
 "nbformat": 4,
 "nbformat_minor": 2
}
