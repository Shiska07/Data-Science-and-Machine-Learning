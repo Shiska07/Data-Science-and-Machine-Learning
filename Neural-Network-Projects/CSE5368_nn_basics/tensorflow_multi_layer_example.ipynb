{
  "nbformat": 4,
  "nbformat_minor": 0,
  "metadata": {
    "colab": {
      "provenance": [],
      "collapsed_sections": [],
      "authorship_tag": "ABX9TyO5cO+bCGLiaBL/S0rM3/Wt",
      "include_colab_link": true
    },
    "kernelspec": {
      "name": "python3",
      "display_name": "Python 3"
    },
    "language_info": {
      "name": "python"
    }
  },
  "cells": [
    {
      "cell_type": "markdown",
      "metadata": {
        "id": "view-in-github",
        "colab_type": "text"
      },
      "source": [
        "<a href=\"https://colab.research.google.com/github/farhadkamangar/CSE5368/blob/master/tensorflow_multi_layer_example.ipynb\" target=\"_parent\"><img src=\"https://colab.research.google.com/assets/colab-badge.svg\" alt=\"Open In Colab\"/></a>"
      ]
    },
    {
      "cell_type": "code",
      "execution_count": null,
      "metadata": {
        "id": "QaCEGTiu9vo2",
        "colab": {
          "base_uri": "https://localhost:8080/"
        },
        "outputId": "19e9cf92-b026-463e-f9b6-9e27b7a50aac"
      },
      "outputs": [
        {
          "output_type": "stream",
          "name": "stdout",
          "text": [
            "The tensorboard extension is already loaded. To reload it, use:\n",
            "  %reload_ext tensorboard\n"
          ]
        }
      ],
      "source": [
        "import tensorflow as tf\n"
      ]
    },
    {
      "cell_type": "code",
      "source": [
        "class DenseLayer(tf.Module):\n",
        "  def __init__(self, input_dimension, number_of_nodes, name=None):\n",
        "    super().__init__(name=name)\n",
        "    self.w = tf.Variable(\n",
        "      tf.random.normal([input_dimension, number_of_nodes]), name='weights')\n",
        "    self.b = tf.Variable(tf.zeros([number_of_nodes]), name='biases')\n",
        "  def calculate_output(self, x):\n",
        "    y = tf.matmul(x, self.w) + self.b\n",
        "    return tf.nn.relu(y)"
      ],
      "metadata": {
        "id": "tgwA1djO-rHq"
      },
      "execution_count": null,
      "outputs": []
    },
    {
      "cell_type": "code",
      "source": [
        "class MultiLayer_NN(tf.Module):\n",
        "  def __init__(self, name=None):\n",
        "    super().__init__(name=name)\n",
        "\n",
        "    self.layer_1 = DenseLayer(input_dimension=3, number_of_nodes=3)\n",
        "    self.layer_2 = DenseLayer(input_dimension=3, number_of_nodes=6)\n",
        "\n",
        "  def predict(self, x):\n",
        "    x = self.layer_1.calculate_output(x)\n",
        "    return self.layer_2.calculate_output(x)\n",
        "\n",
        "my_model = MultiLayer_NN(name=\"the_model\")\n",
        "\n",
        "output_of_model=my_model.predict(tf.constant([[1.0, 2.0, 3.0]]))\n",
        "print(\"Model results:\", output_of_model)\n",
        "print(\"Weights \", my_model.layer_2.w)\n",
        "print(\"Submodules:\", my_model.submodules)\n",
        "for var in my_model.variables:\n",
        "  print(var, \"\\n\")"
      ],
      "metadata": {
        "colab": {
          "base_uri": "https://localhost:8080/"
        },
        "id": "1tAP58ldACAB",
        "outputId": "1910a9bf-9425-44be-ee18-6ffa6f469cd9"
      },
      "execution_count": null,
      "outputs": [
        {
          "output_type": "stream",
          "name": "stdout",
          "text": [
            "Model results: tf.Tensor([[0.        0.        2.0554593 0.        1.7507195 3.9516466]], shape=(1, 6), dtype=float32)\n",
            "Weights  <tf.Variable 'weights:0' shape=(3, 6) dtype=float32, numpy=\n",
            "array([[-1.2040013 , -0.41027942,  0.4943638 , -1.9943864 ,  0.7568495 ,\n",
            "         0.47564486],\n",
            "       [ 1.1751459 , -0.06662586,  1.5454153 , -0.705252  , -0.84897923,\n",
            "         0.07810022],\n",
            "       [-0.9712359 , -1.5651697 ,  0.5366369 , -0.0289091 , -0.21630858,\n",
            "         1.9838241 ]], dtype=float32)>\n",
            "Submodules: (<__main__.DenseLayer object at 0x7f81d08c7110>, <__main__.DenseLayer object at 0x7f81d08c7f10>)\n",
            "<tf.Variable 'biases:0' shape=(3,) dtype=float32, numpy=array([0., 0., 0.], dtype=float32)> \n",
            "\n",
            "<tf.Variable 'weights:0' shape=(3, 3) dtype=float32, numpy=\n",
            "array([[ 1.1812481 , -0.41367558, -1.0155593 ],\n",
            "       [ 0.8020408 , -0.83198446,  0.15475112],\n",
            "       [-0.02923901,  0.2549367 ,  0.6837357 ]], dtype=float32)> \n",
            "\n",
            "<tf.Variable 'biases:0' shape=(6,) dtype=float32, numpy=array([0., 0., 0., 0., 0., 0.], dtype=float32)> \n",
            "\n",
            "<tf.Variable 'weights:0' shape=(3, 6) dtype=float32, numpy=\n",
            "array([[-1.2040013 , -0.41027942,  0.4943638 , -1.9943864 ,  0.7568495 ,\n",
            "         0.47564486],\n",
            "       [ 1.1751459 , -0.06662586,  1.5454153 , -0.705252  , -0.84897923,\n",
            "         0.07810022],\n",
            "       [-0.9712359 , -1.5651697 ,  0.5366369 , -0.0289091 , -0.21630858,\n",
            "         1.9838241 ]], dtype=float32)> \n",
            "\n"
          ]
        }
      ]
    },
    {
      "cell_type": "code",
      "source": [
        "class FlexibleDenseLayer(tf.Module):\n",
        "  def __init__(self, number_of_nodes, name=None):\n",
        "    super().__init__(name=name)\n",
        "    self.first_time=True\n",
        "    self.number_of_nodes=number_of_nodes\n",
        "    \n",
        "  def calculate_output(self, x):\n",
        "    if self.first_time:\n",
        "      self.w = tf.Variable(tf.random.normal([x.shape[-1], self.number_of_nodes]), name='weights')\n",
        "      self.b = tf.Variable(tf.zeros([self.number_of_nodes]), name='biases')\n",
        "      self.first_time=False\n",
        "    y = tf.matmul(x, self.w) + self.b\n",
        "    # return tf.nn.hard_tanh(y)\n",
        "    # return tf.nn.relu(y)\n",
        "    return y"
      ],
      "metadata": {
        "id": "QkAjRF4ODFGA"
      },
      "execution_count": null,
      "outputs": []
    },
    {
      "cell_type": "code",
      "source": [
        "class MultiLayer_NN(tf.Module):\n",
        "  def __init__(self, name=None):\n",
        "    super().__init__(name=name)\n",
        "\n",
        "    self.layer_1 = FlexibleDenseLayer(number_of_nodes=3)\n",
        "    self.layer_2 = FlexibleDenseLayer(number_of_nodes=5)\n",
        "\n",
        "  def predict(self, x):\n",
        "    x = self.layer_1.calculate_output(x)\n",
        "    return self.layer_2.calculate_output(x)\n",
        "\n",
        "my_model = MultiLayer_NN(name=\"the_model\")\n",
        "\n",
        "output_of_model=my_model.predict(tf.constant([[1.0, 2.0, 3.0]]))\n",
        "print(\"Model results:\", output_of_model)\n",
        "print(\"Weights \", my_model.layer_2.w)\n",
        "print(\"Submodules:\", my_model.submodules)\n",
        "for var in my_model.variables:\n",
        "  print(var, \"\\n\")"
      ],
      "metadata": {
        "colab": {
          "base_uri": "https://localhost:8080/"
        },
        "id": "zKeRMW2qF63M",
        "outputId": "85a86298-6c77-4870-a7d1-20263e719435"
      },
      "execution_count": null,
      "outputs": [
        {
          "output_type": "stream",
          "name": "stdout",
          "text": [
            "Model results: tf.Tensor([[-1.8583658  4.2238026  1.9643538 -0.4884634  4.536718 ]], shape=(1, 5), dtype=float32)\n",
            "Weights  <tf.Variable 'weights:0' shape=(3, 5) dtype=float32, numpy=\n",
            "array([[-0.1492263 ,  0.9969619 , -0.46697536, -0.05895721, -0.4458336 ],\n",
            "       [-0.48961434, -0.8972078 , -1.9212656 , -0.6093035 , -1.3387625 ],\n",
            "       [ 1.8825271 , -2.0720181 ,  1.570494  ,  1.1322998 , -0.79636824]],\n",
            "      dtype=float32)>\n",
            "Submodules: (<__main__.FlexibleDenseLayer object at 0x7f1eecfd2750>, <__main__.FlexibleDenseLayer object at 0x7f1eecfd2250>)\n",
            "<tf.Variable 'biases:0' shape=(3,) dtype=float32, numpy=array([0., 0., 0.], dtype=float32)> \n",
            "\n",
            "<tf.Variable 'weights:0' shape=(3, 3) dtype=float32, numpy=\n",
            "array([[-0.12552713, -0.13028823, -1.7574427 ],\n",
            "       [-0.52977663,  0.8169243 ,  0.9981878 ],\n",
            "       [ 0.15518194, -1.7350601 , -0.04664988]], dtype=float32)> \n",
            "\n",
            "<tf.Variable 'biases:0' shape=(5,) dtype=float32, numpy=array([0., 0., 0., 0., 0.], dtype=float32)> \n",
            "\n",
            "<tf.Variable 'weights:0' shape=(3, 5) dtype=float32, numpy=\n",
            "array([[-0.1492263 ,  0.9969619 , -0.46697536, -0.05895721, -0.4458336 ],\n",
            "       [-0.48961434, -0.8972078 , -1.9212656 , -0.6093035 , -1.3387625 ],\n",
            "       [ 1.8825271 , -2.0720181 ,  1.570494  ,  1.1322998 , -0.79636824]],\n",
            "      dtype=float32)> \n",
            "\n"
          ]
        }
      ]
    },
    {
      "cell_type": "code",
      "source": [
        "chkp_path = \"my_checkpoint_01\"\n",
        "checkpoint = tf.train.Checkpoint(model=my_model)\n",
        "checkpoint.write(chkp_path)"
      ],
      "metadata": {
        "colab": {
          "base_uri": "https://localhost:8080/",
          "height": 35
        },
        "id": "9_dJy3WlGr2C",
        "outputId": "b0ad19f4-f319-4556-d998-688e916d9001"
      },
      "execution_count": null,
      "outputs": [
        {
          "output_type": "execute_result",
          "data": {
            "text/plain": [
              "'my_checkpoint_01'"
            ],
            "application/vnd.google.colaboratory.intrinsic+json": {
              "type": "string"
            }
          },
          "metadata": {},
          "execution_count": 14
        }
      ]
    },
    {
      "cell_type": "code",
      "source": [
        "ls my_checkpoint*"
      ],
      "metadata": {
        "colab": {
          "base_uri": "https://localhost:8080/"
        },
        "id": "HMgNp95QGzHq",
        "outputId": "c5539905-446d-40f7-a722-cfbe23a53961"
      },
      "execution_count": null,
      "outputs": [
        {
          "output_type": "stream",
          "name": "stdout",
          "text": [
            "my_checkpoint_01.data-00000-of-00001  my_checkpoint.data-00000-of-00001\n",
            "my_checkpoint_01.index                my_checkpoint.index\n"
          ]
        }
      ]
    },
    {
      "cell_type": "code",
      "source": [
        "tf.train.list_variables(chkp_path)"
      ],
      "metadata": {
        "colab": {
          "base_uri": "https://localhost:8080/"
        },
        "id": "ryNWnc7yHM7M",
        "outputId": "c0f65f3f-fa9e-4cd2-e9e3-a3e9775c2681"
      },
      "execution_count": null,
      "outputs": [
        {
          "output_type": "execute_result",
          "data": {
            "text/plain": [
              "[('_CHECKPOINTABLE_OBJECT_GRAPH', []),\n",
              " ('model/layer_1/b/.ATTRIBUTES/VARIABLE_VALUE', [3]),\n",
              " ('model/layer_1/w/.ATTRIBUTES/VARIABLE_VALUE', [3, 3]),\n",
              " ('model/layer_2/b/.ATTRIBUTES/VARIABLE_VALUE', [6]),\n",
              " ('model/layer_2/w/.ATTRIBUTES/VARIABLE_VALUE', [3, 6])]"
            ]
          },
          "metadata": {},
          "execution_count": 16
        }
      ]
    },
    {
      "cell_type": "code",
      "source": [
        "new_model = MultiLayer_NN()\n",
        "new_checkpoint = tf.train.Checkpoint(model=new_model)\n",
        "new_checkpoint.restore(\"my_checkpoint\")\n",
        "\n",
        "for var in my_model.variables:\n",
        "  print(var, \"\\n\")"
      ],
      "metadata": {
        "colab": {
          "base_uri": "https://localhost:8080/"
        },
        "id": "vufvZuxvHkwa",
        "outputId": "d7ad0ac4-2ce7-4cc1-b3bb-199b6b490aaf"
      },
      "execution_count": null,
      "outputs": [
        {
          "output_type": "stream",
          "name": "stdout",
          "text": [
            "<tf.Variable 'biases:0' shape=(3,) dtype=float32, numpy=array([0., 0., 0.], dtype=float32)> \n",
            "\n",
            "<tf.Variable 'weights:0' shape=(3, 3) dtype=float32, numpy=\n",
            "array([[ 1.1812481 , -0.41367558, -1.0155593 ],\n",
            "       [ 0.8020408 , -0.83198446,  0.15475112],\n",
            "       [-0.02923901,  0.2549367 ,  0.6837357 ]], dtype=float32)> \n",
            "\n",
            "<tf.Variable 'biases:0' shape=(6,) dtype=float32, numpy=array([0., 0., 0., 0., 0., 0.], dtype=float32)> \n",
            "\n",
            "<tf.Variable 'weights:0' shape=(3, 6) dtype=float32, numpy=\n",
            "array([[-1.2040013 , -0.41027942,  0.4943638 , -1.9943864 ,  0.7568495 ,\n",
            "         0.47564486],\n",
            "       [ 1.1751459 , -0.06662586,  1.5454153 , -0.705252  , -0.84897923,\n",
            "         0.07810022],\n",
            "       [-0.9712359 , -1.5651697 ,  0.5366369 , -0.0289091 , -0.21630858,\n",
            "         1.9838241 ]], dtype=float32)> \n",
            "\n"
          ]
        }
      ]
    }
  ]
}