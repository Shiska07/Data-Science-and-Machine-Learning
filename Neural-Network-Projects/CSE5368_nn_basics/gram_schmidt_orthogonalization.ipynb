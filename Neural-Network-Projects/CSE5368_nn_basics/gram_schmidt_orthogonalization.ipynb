{
 "cells": [
  {
   "cell_type": "markdown",
   "metadata": {},
   "source": [
    "# Gram-Schmidt Orthogonalization\n",
    "It is possible to convert a set of independent vectors into a set of orthogonal vectors\n",
    "that spans the same vector space. The standard procedure to accomplish\n",
    "this is called Gram-Schmidt orthogonalization.This notebook includes numerical examples of Gram-Schmidt orthogonalization.\n",
    "\n",
    "Farhad Kamangar  Sept. 2018"
   ]
  },
  {
   "cell_type": "markdown",
   "metadata": {},
   "source": [
    "## Gram-Schmidt Orthogonalization Procedure\n",
    "\n",
    "Given $n$ independent vectors $y_1,y_2,...,y_n$ , which span an $n$ dimensional vector space and are not necessarily orthogonal to each other, we want to obtain $n$ orthogonal vectors $v_1,v_2,...,v_n$ which span the same vector space.\n",
    "\n",
    "* ** Step 1: ** Select $v_1$ to be the same as $y_1$.\n",
    "* ** Step 2: ** Subtract the portion of $y_2$ which is in the direction of $v_1$. In other words find the projection of $y_2$ on $y_1$ and subtract it from $y_2$.\n",
    "\n",
    "$$\\large v_2=y_2-av_1$$\n",
    "Since $v_1$ and $v_2$ should be orthogonal to each other, We need to choose $a$ such that the inner product of $v_1$ and $v_2$ be equal to 0. \n",
    "$$ (v_1,v_2)=0 $$ \n",
    "\n",
    "$$(v_1,y_2-av_1)=0 $$\n",
    "\n",
    "$$ (v_1,y_2) -a(v_1,v_1)=0 $$\n",
    "\n",
    "$$ (v_1,y_2) =a(v_1,v_1) $$\n",
    "\n",
    "$$\\large a=\\frac {(v_1,y_2)}{(v_1,v_1)}$$\n",
    "\n",
    "Generalizing this approach to the kth vector results in:\n",
    "\n",
    "$$\\huge v_k=y_k-\\sum_{i=1}^{k-1} \\frac{(v_i,y_k)}{(v_i,v_i)}v_i $$\n"
   ]
  },
  {
   "cell_type": "markdown",
   "metadata": {},
   "source": [
    "## Numerical Example"
   ]
  },
  {
   "cell_type": "code",
   "execution_count": 34,
   "metadata": {},
   "outputs": [
    {
     "name": "stdout",
     "output_type": "stream",
     "text": [
      "original basis vectors:\n",
      "  [[ 1  0  1]\n",
      " [ 1  2  2]\n",
      " [ 2 -1  6]]\n",
      "After Gram_Schmidt Orthogonalization:\n",
      " [[ 1.   0.  -1.5]\n",
      " [ 1.   2.   0.3]\n",
      " [ 2.  -1.   0.6]]\n"
     ]
    }
   ],
   "source": [
    "import numpy as np\n",
    "def gram_schmidt_orthogonalization(y):\n",
    "    # given n basis vectors as a square matrix, this\n",
    "    # function finds and returns a set of n basis vectors\n",
    "    # which are orthogonal to each other and span the same \n",
    "    # vector space.\n",
    "    # Each column of the y matrix represents a bsis vector\n",
    "    # Farhad Kamangar Sept. 2018\n",
    "    v=[]\n",
    "    for k in range(len(y)):\n",
    "        current_y=y[:,k]\n",
    "        temp_vector=current_y\n",
    "        # calculate sigma part of the equation\n",
    "        for i in range(k):\n",
    "            #print(\"i: \",i,(np.dot(v[i],current_y)/np.dot(v[i],v[i])))\n",
    "            temp_vector=temp_vector-(np.dot(v[i],current_y)/np.dot(v[i],v[i]))*v[i]\n",
    "        v.append(temp_vector)\n",
    "    return np.transpose(np.array(v))\n",
    "        \n",
    "#y = np.transpose(np.array([[2,1], [1,2]]))\n",
    "#v=gram_schmidt_orthogonalization(y)\n",
    "#print(\"original basis vectors:\\n \", y)\n",
    "#print(\"After Gram_Schmidt Orthogonalization:\\n\",v)\n",
    "\n",
    "\n",
    "#y =np.transpose( np.array([[1,2,3], [2,-1,0], [1,0,2]]))\n",
    "#y =np.transpose( np.array([[1,0,2], [2,1,-1], [1,2,4]]))\n",
    "#y =np.transpose( np.array([[0,1,2], [2,2,-1], [1,2,6]]))\n",
    "y =np.transpose( np.array([[1,1,2], [0,2,-1], [1,2,6]]))\n",
    "v=gram_schmidt_orthogonalization(y)\n",
    "print(\"original basis vectors:\\n \", y)\n",
    "print(\"After Gram_Schmidt Orthogonalization:\\n\",v)"
   ]
  }
 ],
 "metadata": {
  "hide_input": false,
  "kernelspec": {
   "display_name": "Python 3",
   "language": "python",
   "name": "python3"
  },
  "language_info": {
   "codemirror_mode": {
    "name": "ipython",
    "version": 3
   },
   "file_extension": ".py",
   "mimetype": "text/x-python",
   "name": "python",
   "nbconvert_exporter": "python",
   "pygments_lexer": "ipython3",
   "version": "3.7.3"
  },
  "varInspector": {
   "cols": {
    "lenName": 16,
    "lenType": 16,
    "lenVar": 40
   },
   "kernels_config": {
    "python": {
     "delete_cmd_postfix": "",
     "delete_cmd_prefix": "del ",
     "library": "var_list.py",
     "varRefreshCmd": "print(var_dic_list())"
    },
    "r": {
     "delete_cmd_postfix": ") ",
     "delete_cmd_prefix": "rm(",
     "library": "var_list.r",
     "varRefreshCmd": "cat(var_dic_list()) "
    }
   },
   "types_to_exclude": [
    "module",
    "function",
    "builtin_function_or_method",
    "instance",
    "_Feature"
   ],
   "window_display": false
  }
 },
 "nbformat": 4,
 "nbformat_minor": 2
}
