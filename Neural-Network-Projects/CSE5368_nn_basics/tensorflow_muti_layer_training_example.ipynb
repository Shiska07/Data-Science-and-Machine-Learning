{
  "nbformat": 4,
  "nbformat_minor": 0,
  "metadata": {
    "colab": {
      "provenance": [],
      "collapsed_sections": [],
      "authorship_tag": "ABX9TyPhEtorhHZrfrmA9Yi1reMm",
      "include_colab_link": true
    },
    "kernelspec": {
      "name": "python3",
      "display_name": "Python 3"
    },
    "language_info": {
      "name": "python"
    }
  },
  "cells": [
    {
      "cell_type": "markdown",
      "metadata": {
        "id": "view-in-github",
        "colab_type": "text"
      },
      "source": [
        "<a href=\"https://colab.research.google.com/github/farhadkamangar/CSE5368/blob/master/tensorflow_muti_layer_training_example.ipynb\" target=\"_parent\"><img src=\"https://colab.research.google.com/assets/colab-badge.svg\" alt=\"Open In Colab\"/></a>"
      ]
    },
    {
      "cell_type": "code",
      "execution_count": 6,
      "metadata": {
        "colab": {
          "base_uri": "https://localhost:8080/"
        },
        "id": "I3fgizznjtTt",
        "outputId": "67a96e83-4a23-4123-a10e-95ee8aef889d"
      },
      "outputs": [
        {
          "output_type": "stream",
          "name": "stdout",
          "text": [
            "2.9.2\n"
          ]
        }
      ],
      "source": [
        "import tensorflow as tf\n",
        "import tensorflow_datasets as tfd\n",
        "print(tf.__version__)"
      ]
    },
    {
      "cell_type": "code",
      "source": [
        "import numpy as np\n",
        "import matplotlib.pyplot as plt\n",
        "import random\n",
        "from keras.datasets import mnist\n",
        "\n",
        "\n",
        "(X_train, y_train), (X_test, y_test) = mnist.load_data()\n",
        "print(\"X_train shape\", X_train.shape)\n",
        "print(\"y_train shape\", y_train.shape)\n",
        "print(\"X_test shape\", X_test.shape)\n",
        "print(\"y_test shape\", y_test.shape)\n",
        "# train_data, val_data, test_data = tfd.load(\"mnist\", \n",
        "#                                             split=['train[10000:]', 'train[0:10000]', 'test'],\n",
        "#                                             batch_size=128, as_supervised=True)"
      ],
      "metadata": {
        "colab": {
          "base_uri": "https://localhost:8080/"
        },
        "id": "_wIGG6sAk1Eg",
        "outputId": "bd7bb74a-6275-4d3f-d576-989ad6c48931"
      },
      "execution_count": 7,
      "outputs": [
        {
          "output_type": "stream",
          "name": "stdout",
          "text": [
            "X_train shape (60000, 28, 28)\n",
            "y_train shape (60000,)\n",
            "X_test shape (10000, 28, 28)\n",
            "y_test shape (10000,)\n"
          ]
        }
      ]
    },
    {
      "cell_type": "code",
      "source": [
        "# Let's look at the first sample (image)\n",
        "plt.rcParams['figure.figsize'] = (6,6)\n",
        "plt.subplot(1,1,1)\n",
        "plt.imshow(X_train[0], cmap='gray', interpolation='none')\n",
        "plt.title(\"Class {}\".format(y_train[0]))\n",
        "plt.tight_layout()\n",
        "plt.show()\n",
        "def matprint(mat, fmt=\"g\"):\n",
        "    col_maxes = [max([len((\"{:\"+fmt+\"}\").format(x)) for x in col]) for col in mat.T]\n",
        "    for x in mat:\n",
        "        for i, y in enumerate(x):\n",
        "            print((\"{:\"+str(col_maxes[i])+fmt+\"}\").format(y), end=\"  \")\n",
        "        print(\"\")\n",
        "        \n",
        "matprint(X_train[0])"
      ],
      "metadata": {
        "colab": {
          "base_uri": "https://localhost:8080/",
          "height": 927
        },
        "id": "Aa5T1jTUovAB",
        "outputId": "ba4b8f48-cdc8-411c-f055-b7e3837895f3"
      },
      "execution_count": 8,
      "outputs": [
        {
          "output_type": "display_data",
          "data": {
            "text/plain": [
              "<Figure size 432x432 with 1 Axes>"
            ],
            "image/png": "[encoded data removed]"
          },
          "metadata": {
            "needs_background": "light"
          }
        },
        {
          "output_type": "stream",
          "name": "stdout",
          "text": [
            "0  0  0  0    0    0    0    0    0    0    0    0    0    0    0    0    0    0    0    0    0    0    0    0  0  0  0  0  \n",
            "0  0  0  0    0    0    0    0    0    0    0    0    0    0    0    0    0    0    0    0    0    0    0    0  0  0  0  0  \n",
            "0  0  0  0    0    0    0    0    0    0    0    0    0    0    0    0    0    0    0    0    0    0    0    0  0  0  0  0  \n",
            "0  0  0  0    0    0    0    0    0    0    0    0    0    0    0    0    0    0    0    0    0    0    0    0  0  0  0  0  \n",
            "0  0  0  0    0    0    0    0    0    0    0    0    0    0    0    0    0    0    0    0    0    0    0    0  0  0  0  0  \n",
            "0  0  0  0    0    0    0    0    0    0    0    0    3   18   18   18  126  136  175   26  166  255  247  127  0  0  0  0  \n",
            "0  0  0  0    0    0    0    0   30   36   94  154  170  253  253  253  253  253  225  172  253  242  195   64  0  0  0  0  \n",
            "0  0  0  0    0    0    0   49  238  253  253  253  253  253  253  253  253  251   93   82   82   56   39    0  0  0  0  0  \n",
            "0  0  0  0    0    0    0   18  219  253  253  253  253  253  198  182  247  241    0    0    0    0    0    0  0  0  0  0  \n",
            "0  0  0  0    0    0    0    0   80  156  107  253  253  205   11    0   43  154    0    0    0    0    0    0  0  0  0  0  \n",
            "0  0  0  0    0    0    0    0    0   14    1  154  253   90    0    0    0    0    0    0    0    0    0    0  0  0  0  0  \n",
            "0  0  0  0    0    0    0    0    0    0    0  139  253  190    2    0    0    0    0    0    0    0    0    0  0  0  0  0  \n",
            "0  0  0  0    0    0    0    0    0    0    0   11  190  253   70    0    0    0    0    0    0    0    0    0  0  0  0  0  \n",
            "0  0  0  0    0    0    0    0    0    0    0    0   35  241  225  160  108    1    0    0    0    0    0    0  0  0  0  0  \n",
            "0  0  0  0    0    0    0    0    0    0    0    0    0   81  240  253  253  119   25    0    0    0    0    0  0  0  0  0  \n",
            "0  0  0  0    0    0    0    0    0    0    0    0    0    0   45  186  253  253  150   27    0    0    0    0  0  0  0  0  \n",
            "0  0  0  0    0    0    0    0    0    0    0    0    0    0    0   16   93  252  253  187    0    0    0    0  0  0  0  0  \n",
            "0  0  0  0    0    0    0    0    0    0    0    0    0    0    0    0    0  249  253  249   64    0    0    0  0  0  0  0  \n",
            "0  0  0  0    0    0    0    0    0    0    0    0    0    0   46  130  183  253  253  207    2    0    0    0  0  0  0  0  \n",
            "0  0  0  0    0    0    0    0    0    0    0    0   39  148  229  253  253  253  250  182    0    0    0    0  0  0  0  0  \n",
            "0  0  0  0    0    0    0    0    0    0   24  114  221  253  253  253  253  201   78    0    0    0    0    0  0  0  0  0  \n",
            "0  0  0  0    0    0    0    0   23   66  213  253  253  253  253  198   81    2    0    0    0    0    0    0  0  0  0  0  \n",
            "0  0  0  0    0    0   18  171  219  253  253  253  253  195   80    9    0    0    0    0    0    0    0    0  0  0  0  0  \n",
            "0  0  0  0   55  172  226  253  253  253  253  244  133   11    0    0    0    0    0    0    0    0    0    0  0  0  0  0  \n",
            "0  0  0  0  136  253  253  253  212  135  132   16    0    0    0    0    0    0    0    0    0    0    0    0  0  0  0  0  \n",
            "0  0  0  0    0    0    0    0    0    0    0    0    0    0    0    0    0    0    0    0    0    0    0    0  0  0  0  0  \n",
            "0  0  0  0    0    0    0    0    0    0    0    0    0    0    0    0    0    0    0    0    0    0    0    0  0  0  0  0  \n",
            "0  0  0  0    0    0    0    0    0    0    0    0    0    0    0    0    0    0    0    0    0    0    0    0  0  0  0  0  \n"
          ]
        }
      ]
    },
    {
      "cell_type": "code",
      "source": [
        "# Let's look at some random samples (images)\n",
        "plt.rcParams['figure.figsize'] = (10,10)\n",
        "\n",
        "for i in range(16):\n",
        "    plt.subplot(4,4,i+1)\n",
        "    num = random.randint(0, len(X_train))\n",
        "    plt.imshow(X_train[num], cmap='gray', interpolation='none')\n",
        "    plt.title(\"Class {}\".format(y_train[num]))\n",
        "    \n",
        "plt.tight_layout()"
      ],
      "metadata": {
        "colab": {
          "base_uri": "https://localhost:8080/",
          "height": 729
        },
        "id": "zLcmnH_fuxDp",
        "outputId": "53bc49a9-f00a-48e4-84be-8be0f1d5f7da"
      },
      "execution_count": 9,
      "outputs": [
        {
          "output_type": "display_data",
          "data": {
            "text/plain": [
              "<Figure size 720x720 with 16 Axes>"
            ],
            "image/png": "[encoded data removed]"
          },
          "metadata": {
            "needs_background": "light"
          }
        }
      ]
    },
    {
      "cell_type": "code",
      "source": [
        "# Prepare data for processing.\n",
        "# Reshape\n",
        "# Normalize\n",
        "\n",
        "X_train_reshaped = X_train.reshape(X_train.shape[0], X_train.shape[1]*X_train.shape[2]) \n",
        "X_test_reshaped = X_test.reshape(X_test.shape[0], X_test.shape[1]*X_test.shape[2])\n",
        "\n",
        "X_train_reshaped = X_train_reshaped.astype('float32')  \n",
        "X_test_reshaped = X_test_reshaped.astype('float32')\n",
        "\n",
        "X_train_reshaped=X_train_reshaped /255           \n",
        "X_test_reshaped=X_test_reshaped / 255\n",
        "\n",
        "print( X_train_reshaped.shape)\n",
        "print(X_test_reshaped.shape)"
      ],
      "metadata": {
        "colab": {
          "base_uri": "https://localhost:8080/"
        },
        "id": "cu2qBn2PvAeX",
        "outputId": "6f1475a4-518e-4d59-f191-16680070643e"
      },
      "execution_count": 10,
      "outputs": [
        {
          "output_type": "stream",
          "name": "stdout",
          "text": [
            "(60000, 784)\n",
            "(10000, 784)\n"
          ]
        }
      ]
    },
    {
      "cell_type": "code",
      "source": [
        "class FlexibleDenseLayer(tf.Module):\n",
        "  def __init__(self, number_of_nodes=2, activation=tf.identity):\n",
        "   \n",
        "    self.weights_are_initialized=False\n",
        "    self.number_of_nodes=number_of_nodes\n",
        "    self.activation=activation\n",
        "  @tf.function  \n",
        "  def calculate_output(self, x):\n",
        "    if not self.weights_are_initialized:\n",
        "      self.w = tf.Variable(tf.random.normal([x.shape[-1], self.number_of_nodes]), name='weights')\n",
        "      self.b = tf.Variable(tf.zeros([self.number_of_nodes]), name='biases')\n",
        "      self.weights_are_initialized=True\n",
        "    a = tf.add(tf.matmul(x, self.w) , self.b)\n",
        "    return self.activation(a)"
      ],
      "metadata": {
        "id": "RIZALkdnvNYi"
      },
      "execution_count": 21,
      "outputs": []
    },
    {
      "cell_type": "code",
      "source": [
        "class MultiLayer_NN(tf.Module):\n",
        "  def __init__(self,layers):\n",
        "    \n",
        "    self.layers=layers\n",
        "\n",
        "  @tf.function\n",
        "  def predict(self, x):\n",
        "    temp=x\n",
        "    for current_layer in self.layers:\n",
        "      temp=current_layer.calculate_output(temp)\n",
        "    \n",
        "    return temp\n"
      ],
      "metadata": {
        "id": "-eN932gbvPsS"
      },
      "execution_count": 22,
      "outputs": []
    },
    {
      "cell_type": "code",
      "source": [
        "layer_1_size = 20\n",
        "layer_2_size = 30\n",
        "output_layer_size = 10\n",
        "\n",
        "my_model = MultiLayer_NN([\n",
        "    FlexibleDenseLayer(number_of_nodes=layer_1_size, activation=tf.nn.relu),\n",
        "    FlexibleDenseLayer(number_of_nodes=layer_2_size, activation=tf.nn.relu),\n",
        "    FlexibleDenseLayer(number_of_nodes=output_layer_size)])"
      ],
      "metadata": {
        "id": "ipiTt5fm1nrO"
      },
      "execution_count": 23,
      "outputs": []
    },
    {
      "cell_type": "code",
      "source": [
        "output_of_model=my_model.predict(tf.constant([[1.0, 2.0, 3.0]]))\n",
        "print(output_of_model)"
      ],
      "metadata": {
        "colab": {
          "base_uri": "https://localhost:8080/"
        },
        "id": "H3cxUPJt3PPA",
        "outputId": "02823d97-cfe1-41f3-8c9b-9f438dd4b6c5"
      },
      "execution_count": 26,
      "outputs": [
        {
          "output_type": "stream",
          "name": "stdout",
          "text": [
            "tf.Tensor(\n",
            "[[-12.045758  14.3948   -82.03752   15.218633  22.274984 -25.64686\n",
            "   11.747948  21.237434 -74.76466   -4.767046]], shape=(1, 10), dtype=float32)\n"
          ]
        }
      ]
    }
  ]
}