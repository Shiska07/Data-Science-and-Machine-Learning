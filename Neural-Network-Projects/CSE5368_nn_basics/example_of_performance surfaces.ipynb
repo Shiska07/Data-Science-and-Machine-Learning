{
 "cells": [
  {
   "cell_type": "markdown",
   "metadata": {},
   "source": [
    "# Examples of Simple Performance Surfaces\n",
    "\n",
    "This notebook shows a few examples of simple 2-variable perfomance surfaces.\n",
    "\n",
    "Farhad Kamangar, Mar. 2020"
   ]
  },
  {
   "cell_type": "markdown",
   "metadata": {},
   "source": [
    "<h1 align=\"center\" style='background :yellow'>Surface Equation</h1>\n",
    "$$\\Huge F(X) = x_1^2 + 2x_2^2$$</span>"
   ]
  },
  {
   "cell_type": "code",
   "execution_count": 2,
   "metadata": {},
   "outputs": [
    {
     "data": {
      "application/vnd.jupyter.widget-view+json": {
       "model_id": "ffa846fc0ff14155a9eab43c34eef7d5",
       "version_major": 2,
       "version_minor": 0
      },
      "text/plain": [
       "VBox(children=(Figure(camera=PerspectiveCamera(fov=46.0, position=(0.12325683343243866, -1.992389396183491, 0.…"
      ]
     },
     "metadata": {},
     "output_type": "display_data"
    }
   ],
   "source": [
    "import numpy as np\n",
    "import ipyvolume as ipv\n",
    "from matplotlib import cm\n",
    "colormap = cm.coolwarm\n",
    "z_lim=6\n",
    "a = np.arange(-2, 2,.02)\n",
    "X1, X2 = np.meshgrid(a, a)\n",
    "Z = X1**2+2*X2**2\n",
    "Z[Z>=z_lim]=z_lim\n",
    "znorm = Z - Z.min()\n",
    "znorm /= znorm.ptp()\n",
    "v=np.array([X1,X2,Z])\n",
    "color = colormap(znorm)\n",
    "ipv.figure(width=800, height=600)\n",
    "# ipv.gcf()\n",
    "# ipv.plot_surface(X1, X2, Z, color=\"copper\")\n",
    "ipv.plot_surface(X1, X2, Z, color=color[...,:3])\n",
    "x = np.array([0.0])\n",
    "y = np.array([0.0])\n",
    "z = np.array([0.0])\n",
    "ipv.scatter(x, y, z, marker='sphere', size=5)\n",
    "# ipv.plot_wireframe(X1, X2, Z, color=\"orange\")\n",
    "# ipv.zlim(0,4)\n",
    "ipv.xlabel(\"x1\")\n",
    "ipv.ylabel(\"x2\")\n",
    "ipv.zlabel(\"F(X)\")\n",
    "ipv.view(45, -85, distance=2)\n",
    "ipv.show()\n"
   ]
  },
  {
   "cell_type": "markdown",
   "metadata": {},
   "source": [
    "<h1 align=\"center\" style='background :yellow'>Surface Equation</h1>\n",
    "$$\\Huge F(X) = x_1^2$$"
   ]
  },
  {
   "cell_type": "code",
   "execution_count": 3,
   "metadata": {},
   "outputs": [
    {
     "data": {
      "application/vnd.jupyter.widget-view+json": {
       "model_id": "385d17507a554056983ad4a72ae4627b",
       "version_major": 2,
       "version_minor": 0
      },
      "text/plain": [
       "VBox(children=(Figure(camera=PerspectiveCamera(fov=46.0, position=(0.12325683343243866, -1.992389396183491, 0.…"
      ]
     },
     "metadata": {},
     "output_type": "display_data"
    }
   ],
   "source": [
    "colormap = cm.coolwarm\n",
    "z_lim=8\n",
    "a = np.arange(-2, 2,.02)\n",
    "X1, X2 = np.meshgrid(a, a)\n",
    "Z = (X1**2)\n",
    "Z[Z>=z_lim]=z_lim\n",
    "znorm = Z - Z.min()\n",
    "znorm /= znorm.ptp()\n",
    "v=np.array([X1,X2,Z])\n",
    "color = colormap(znorm)\n",
    "ipv.figure(width=800, height=600)\n",
    "ipv.plot_surface(X1, X2, Z, color=color[...,:3])\n",
    "x = np.array([0.0])\n",
    "y = np.array([0.0])\n",
    "z = np.array([0.0])\n",
    "ipv.scatter(x, y, z, marker='sphere', size=5)\n",
    "ipv.xlabel(\"x1\")\n",
    "ipv.ylabel(\"x2\")\n",
    "ipv.zlabel(\"F(X)\")\n",
    "ipv.view(45, -85, distance=2)\n",
    "ipv.zlim(0,4)\n",
    "ipv.show()"
   ]
  },
  {
   "cell_type": "markdown",
   "metadata": {},
   "source": [
    "<h1 align=\"center\" style='background :yellow'>Surface Equation</h1>\n",
    "\n",
    "$$\\Huge F(X) = {({x_2} - {x_1})^4} + 30{x_1}{x_2} - {x_1} + {x_2} + 3$$"
   ]
  },
  {
   "cell_type": "code",
   "execution_count": 4,
   "metadata": {},
   "outputs": [
    {
     "data": {
      "application/vnd.jupyter.widget-view+json": {
       "model_id": "65c7dfd7d0ea4ea48f3008abc455d06c",
       "version_major": 2,
       "version_minor": 0
      },
      "text/plain": [
       "VBox(children=(Figure(camera=PerspectiveCamera(fov=46.0, position=(-0.08715574274765818, -1.7320508075688772, …"
      ]
     },
     "metadata": {},
     "output_type": "display_data"
    }
   ],
   "source": [
    "colormap = cm.coolwarm\n",
    "a = np.arange(-2, 2,.02)\n",
    "z_lim=12\n",
    "X1, X2 = np.meshgrid(a, a)\n",
    "Z = (X2-X1)**4+30*X1*X2-X1+X2+3\n",
    "Z[Z>=z_lim]=z_lim\n",
    "znorm = Z - Z.min()\n",
    "znorm /= znorm.ptp()\n",
    "v=np.array([X1,X2,Z])\n",
    "color = colormap(znorm)\n",
    "ipv.figure(width=800, height=600)\n",
    "# ipv.gcf()\n",
    "ipv.plot_surface(X1, X2, Z, color=color[...,:3])\n",
    "ipv.xlabel(\"x1\")\n",
    "ipv.ylabel(\"x2\")\n",
    "ipv.zlabel(\"F(X)\")\n",
    "ipv.view(azimuth=-5, elevation=-60, distance=2.0)\n",
    "ipv.show()"
   ]
  },
  {
   "cell_type": "markdown",
   "metadata": {},
   "source": [
    "<h1 align=\"center\" style='background :yellow'>Surface Equation</h1>\n",
    "\n",
    "$$\\Huge F(X) = ({x_1}^2 - 1.5{x_1}{x_2} + {x_2}^2){x_1}^2$$"
   ]
  },
  {
   "cell_type": "code",
   "execution_count": 5,
   "metadata": {},
   "outputs": [
    {
     "data": {
      "application/vnd.jupyter.widget-view+json": {
       "model_id": "8e99702174564f4090f535fd54347a66",
       "version_major": 2,
       "version_minor": 0
      },
      "text/plain": [
       "VBox(children=(Figure(camera=PerspectiveCamera(fov=46.0, position=(0.12325683343243866, -1.992389396183491, 0.…"
      ]
     },
     "metadata": {},
     "output_type": "display_data"
    }
   ],
   "source": [
    "colormap = cm.coolwarm\n",
    "z_lim=8\n",
    "a = np.arange(-2, 2,.02)\n",
    "X1, X2 = np.meshgrid(a, a)\n",
    "Z = (X1**2-1.5*X1*X2+2*X2**2)*(X1**2)\n",
    "Z[Z>=z_lim]=z_lim\n",
    "znorm = Z - Z.min()\n",
    "znorm /= znorm.ptp()\n",
    "v=np.array([X1,X2,Z])\n",
    "color = colormap(znorm)\n",
    "ipv.figure(width=800, height=600)\n",
    "ipv.plot_surface(X1, X2, Z, color=color[...,:3])\n",
    "ipv.xlabel(\"x1\")\n",
    "ipv.ylabel(\"x2\")\n",
    "ipv.zlabel(\"F(X)\")\n",
    "ipv.view(45, -85, distance=2)\n",
    "ipv.zlim(0,8)\n",
    "ipv.show()"
   ]
  },
  {
   "cell_type": "markdown",
   "metadata": {},
   "source": [
    "<h1 align=\"center\" style='background :yellow'>Surface Equation</h1>\n",
    "\n",
    "$$\\Huge F(X) = 0.25{x_1}^2 - 1.5{x_1}{x_2} - 0.25{x_2}^2$$"
   ]
  },
  {
   "cell_type": "code",
   "execution_count": 6,
   "metadata": {},
   "outputs": [
    {
     "data": {
      "application/vnd.jupyter.widget-view+json": {
       "model_id": "7d2c6dabe16d42cdb007b99cb753c153",
       "version_major": 2,
       "version_minor": 0
      },
      "text/plain": [
       "VBox(children=(Figure(camera=PerspectiveCamera(fov=46.0, position=(0.12325683343243866, -1.992389396183491, 0.…"
      ]
     },
     "metadata": {},
     "output_type": "display_data"
    }
   ],
   "source": [
    "colormap = cm.coolwarm\n",
    "z_lim=8\n",
    "a = np.arange(-2, 2,.02)\n",
    "X1, X2 = np.meshgrid(a, a)\n",
    "Z = -0.25*X1**2-1.5*X1*X2-0.25*X2**2\n",
    "Z[Z>=z_lim]=z_lim\n",
    "znorm = Z - Z.min()\n",
    "znorm /= znorm.ptp()\n",
    "v=np.array([X1,X2,Z])\n",
    "color = colormap(znorm)\n",
    "ipv.figure(width=800, height=600)\n",
    "ipv.plot_surface(X1, X2, Z, color=color[...,:3])\n",
    "ipv.xlabel(\"x1\")\n",
    "ipv.ylabel(\"x2\")\n",
    "ipv.zlabel(\"F(X)\")\n",
    "ipv.view(45, -85, distance=2)\n",
    "ipv.zlim(-8,4)\n",
    "ipv.show()"
   ]
  }
 ],
 "metadata": {
  "hide_input": false,
  "kernelspec": {
   "display_name": "Python 3",
   "language": "python",
   "name": "python3"
  },
  "language_info": {
   "codemirror_mode": {
    "name": "ipython",
    "version": 3
   },
   "file_extension": ".py",
   "mimetype": "text/x-python",
   "name": "python",
   "nbconvert_exporter": "python",
   "pygments_lexer": "ipython3",
   "version": "3.7.3"
  },
  "varInspector": {
   "cols": {
    "lenName": 16,
    "lenType": 16,
    "lenVar": 40
   },
   "kernels_config": {
    "python": {
     "delete_cmd_postfix": "",
     "delete_cmd_prefix": "del ",
     "library": "var_list.py",
     "varRefreshCmd": "print(var_dic_list())"
    },
    "r": {
     "delete_cmd_postfix": ") ",
     "delete_cmd_prefix": "rm(",
     "library": "var_list.r",
     "varRefreshCmd": "cat(var_dic_list()) "
    }
   },
   "types_to_exclude": [
    "module",
    "function",
    "builtin_function_or_method",
    "instance",
    "_Feature"
   ],
   "window_display": false
  }
 },
 "nbformat": 4,
 "nbformat_minor": 2
}
