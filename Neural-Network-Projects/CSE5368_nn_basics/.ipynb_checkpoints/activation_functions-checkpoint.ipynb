{
 "cells": [
  {
   "cell_type": "markdown",
   "metadata": {},
   "source": [
    "#  Example of How to Plot Activation Functions\n",
    "\n",
    "This example shows how to plot the activation function of a neuron with one input.\n",
    "\n",
    "Farhad kamangar 2018"
   ]
  },
  {
   "cell_type": "code",
   "execution_count": 2,
   "metadata": {},
   "outputs": [],
   "source": [
    "from __future__ import print_function\n",
    "from ipywidgets import interact, interactive, fixed, interact_manual\n",
    "import ipywidgets as widgets"
   ]
  },
  {
   "cell_type": "code",
   "execution_count": 3,
   "metadata": {},
   "outputs": [
    {
     "data": {
      "application/vnd.jupyter.widget-view+json": {
       "model_id": "d86024d6fcad46ed9724279252ef4345",
       "version_major": 2,
       "version_minor": 0
      },
      "text/plain": [
       "interactive(children=(FloatSlider(value=1.0, description='weight', max=10.0, min=-10.0, step=1.0), FloatSlider…"
      ]
     },
     "metadata": {},
     "output_type": "display_data"
    }
   ],
   "source": [
    "%matplotlib inline\n",
    "from ipywidgets import interactive\n",
    "import matplotlib.pyplot as plt\n",
    "import numpy as np\n",
    "\n",
    "def plot_activation(weight, bias,activation_type):\n",
    "    plt.figure(2)\n",
    "    input_array = np.linspace(-10, 10, num=100)\n",
    "    net = weight * input_array + bias\n",
    "   \n",
    "    if activation_type==\"Linear\":\n",
    "        activation = net\n",
    "    elif activation_type==\"Hard Limit\":      \n",
    "        net[net>=0]=1\n",
    "        net[net<0]=0\n",
    "        activation=net\n",
    "    elif activation_type==\"Sigmoid\":\n",
    "        activation = 1.0 / (1 + np.exp(-net))\n",
    "    elif activation_type==\"Relu\":\n",
    "        net[net<0]=0\n",
    "        activation=net\n",
    "    plt.plot(input_array,activation)\n",
    "    plt.ylim(-10, 10)\n",
    "    plt.xlabel('Input')\n",
    "    plt.ylabel('Output')\n",
    "    plt.grid(True)\n",
    "    plt.show()\n",
    "\n",
    "interactive_plot = interactive(plot_activation,\n",
    "                               weight=widgets.FloatSlider(min=-10,max=10,step=1,value=1),\n",
    "                               bias=widgets.FloatSlider(min=-10,max=10,step=1,value=0),\n",
    "                              activation_type=widgets.Dropdown(options=['Linear','Hard Limit','Sigmoid', 'Relu'],\n",
    "    value='Linear',\n",
    "    description='Activation Type:',\n",
    "    disabled=False,\n",
    "))\n",
    "interactive_plot"
   ]
  },
  {
   "cell_type": "code",
   "execution_count": null,
   "metadata": {},
   "outputs": [],
   "source": []
  }
 ],
 "metadata": {
  "hide_input": false,
  "kernelspec": {
   "display_name": "Python 3",
   "language": "python",
   "name": "python3"
  },
  "language_info": {
   "codemirror_mode": {
    "name": "ipython",
    "version": 3
   },
   "file_extension": ".py",
   "mimetype": "text/x-python",
   "name": "python",
   "nbconvert_exporter": "python",
   "pygments_lexer": "ipython3",
   "version": "3.7.9"
  },
  "varInspector": {
   "cols": {
    "lenName": 16,
    "lenType": 16,
    "lenVar": 40
   },
   "kernels_config": {
    "python": {
     "delete_cmd_postfix": "",
     "delete_cmd_prefix": "del ",
     "library": "var_list.py",
     "varRefreshCmd": "print(var_dic_list())"
    },
    "r": {
     "delete_cmd_postfix": ") ",
     "delete_cmd_prefix": "rm(",
     "library": "var_list.r",
     "varRefreshCmd": "cat(var_dic_list()) "
    }
   },
   "types_to_exclude": [
    "module",
    "function",
    "builtin_function_or_method",
    "instance",
    "_Feature"
   ],
   "window_display": false
  }
 },
 "nbformat": 4,
 "nbformat_minor": 2
}
