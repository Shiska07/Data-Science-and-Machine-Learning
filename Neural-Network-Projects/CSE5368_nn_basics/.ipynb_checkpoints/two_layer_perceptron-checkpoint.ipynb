{
 "cells": [
  {
   "cell_type": "code",
   "execution_count": 29,
   "metadata": {},
   "outputs": [
    {
     "name": "stdout",
     "output_type": "stream",
     "text": [
      "9.0 -5 -1.0 5\n",
      "6.0 -5 -4.0 5\n"
     ]
    },
    {
     "data": {
      "image/png": "[encoded data removed]",
      "text/plain": [
       "<Figure size 432x288 with 1 Axes>"
      ]
     },
     "metadata": {
      "needs_background": "light"
     },
     "output_type": "display_data"
    }
   ],
   "source": [
    "%matplotlib inline\n",
    "import numpy as np\n",
    "import matplotlib.pyplot as plt\n",
    "import time\n",
    "def predict(x,w1,w2):\n",
    "    # Append ones to the input\n",
    "    x_with_ones=np.vstack((np.ones((1, x.shape[1])), x))\n",
    "    net1=np.dot(w1,x_with_ones)\n",
    "    net1[net1>=0]=1\n",
    "    net1[net1<0]=0\n",
    "    a1=net1\n",
    "    a_with_ones=np.vstack((np.ones((1,a1.shape[1])),a1))\n",
    "    net2=np.dot(w2,a_with_ones)\n",
    "    net2[net2>0]=1\n",
    "    net2[net2<=0]=0\n",
    "    return net2\n",
    "def plot_line(ax,a,b,c):\n",
    "    limit=5\n",
    "    if a:\n",
    "        y1 = -limit\n",
    "        x1=-(y1*b+c)/a\n",
    "        y2 = limit\n",
    "        x2 = -(y2 * b + c) / a\n",
    "        # if b:\n",
    "        #     x2=100\n",
    "        #     y2=-(x2*a+c)/b\n",
    "        # else:\n",
    "        #     y2 = -100\n",
    "        #     x2=-(y2*b+c)/a\n",
    "\n",
    "    else:\n",
    "        x1=-limit\n",
    "        y1=-c/b\n",
    "        x2=limit\n",
    "        y2=-c/b\n",
    "    print(x1,y1,x2,y2)\n",
    "    plt.plot(np.array([x1,x2]),np.array([y1,y2]),lw=2,c='r')\n",
    "    # plt.plot(100*np.array([x1,x2]),100*np.array([y1,y2]),lw=30,c='w',zorder=10)\n",
    "resolution=100\n",
    "xs = np.linspace(-5., 5., resolution)\n",
    "ys = np.linspace(-5., 5., resolution)\n",
    "xx, yy = np.meshgrid(xs, ys)\n",
    "# Two nodes on the first layer\n",
    "# Bias is on the first column\n",
    "w1=np.array([[-4,1,1],[1,-1,-1]])\n",
    "# Second layer\n",
    "#w2=[0,1,1]\n",
    "w2=[-0.5,1,0] #This is an example of the first layer being correct but the second layer is incorrect\n",
    "xy=np.vstack((xx.flatten(),yy.flatten()))\n",
    "z=predict(xy,w1,w2)\n",
    "zz=z.reshape(xx.shape[0],-1)\n",
    "\n",
    "fig = plt.figure()\n",
    "ax = fig.gca()\n",
    "quad = ax.pcolormesh(xs, ys, zz)\n",
    "positive = np.array([[4, 1.4], [1.4, 4],[-1.4,1.4],[1.4,-1.4]])\n",
    "negative = np.array([[2, 1.4], [1.4, 2],[0.7,1.4],[1.4,0.7]])\n",
    "plt.plot(positive[:, 0], positive[:,1], 'rx', markersize=10)\n",
    "plt.plot(negative[:, 0], negative[:,1], 'yo', markersize=10)\n",
    "plot_line(ax,w1[0,1],w1[0,2],w1[0,0])\n",
    "plot_line(ax,w1[1,1],w1[1,2],w1[1,0])\n",
    "plt.xlim(-5, 5.0)\n",
    "plt.ylim(-5, 5.0)\n",
    "plt.grid(True)\n",
    "plt.show()"
   ]
  }
 ],
 "metadata": {
  "hide_input": false,
  "kernelspec": {
   "display_name": "Python 3",
   "language": "python",
   "name": "python3"
  },
  "language_info": {
   "codemirror_mode": {
    "name": "ipython",
    "version": 3
   },
   "file_extension": ".py",
   "mimetype": "text/x-python",
   "name": "python",
   "nbconvert_exporter": "python",
   "pygments_lexer": "ipython3",
   "version": "3.7.9"
  },
  "varInspector": {
   "cols": {
    "lenName": 16,
    "lenType": 16,
    "lenVar": 40
   },
   "kernels_config": {
    "python": {
     "delete_cmd_postfix": "",
     "delete_cmd_prefix": "del ",
     "library": "var_list.py",
     "varRefreshCmd": "print(var_dic_list())"
    },
    "r": {
     "delete_cmd_postfix": ") ",
     "delete_cmd_prefix": "rm(",
     "library": "var_list.r",
     "varRefreshCmd": "cat(var_dic_list()) "
    }
   },
   "types_to_exclude": [
    "module",
    "function",
    "builtin_function_or_method",
    "instance",
    "_Feature"
   ],
   "window_display": false
  }
 },
 "nbformat": 4,
 "nbformat_minor": 2
}
