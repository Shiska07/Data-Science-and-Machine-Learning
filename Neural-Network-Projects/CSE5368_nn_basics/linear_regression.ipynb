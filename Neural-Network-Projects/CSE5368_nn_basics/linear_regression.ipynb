{
 "cells": [
  {
   "cell_type": "markdown",
   "metadata": {},
   "source": [
    "#  Linear Regression\n",
    "\n",
    "\n",
    "Farhad kamangar 2019"
   ]
  },
  {
   "cell_type": "markdown",
   "metadata": {},
   "source": [
    "## What is regression ?\n",
    "Regression is a processes for estimating the relationships between a dependent variable (often called the 'outcome variable') and one or more independent variables. \n",
    "\n",
    "The most common form of regression analysis is linear regression"
   ]
  },
  {
   "cell_type": "markdown",
   "metadata": {},
   "source": [
    "Equation of a straight-line in two dimensional space is:\n",
    "$$\\Large y = ax + b$$\n",
    "\n",
    "where $a$ is commonly known as the **slope**, and $b$ is commonly known as the **intercept**.\n",
    "\n",
    "Consider the following data, which is scattered about a line with a slope of 2 and an intercept of -5:"
   ]
  },
  {
   "cell_type": "code",
   "execution_count": 1,
   "metadata": {},
   "outputs": [
    {
     "data": {
      "image/png": "[encoded data removed]",
      "text/plain": [
       "<Figure size 432x288 with 1 Axes>"
      ]
     },
     "metadata": {
      "needs_background": "light"
     },
     "output_type": "display_data"
    },
    {
     "name": "stdout",
     "output_type": "stream",
     "text": [
      "Model slope:     0.49999999999999994\n",
      "Model intercept: -27.66666666666666\n"
     ]
    }
   ],
   "source": [
    "%matplotlib inline\n",
    "#from __future__ import print_function\n",
    "from ipywidgets import interact, interactive, fixed, interact_manual\n",
    "import ipywidgets as widgets\n",
    "import numpy as np\n",
    "from sklearn.linear_model import LinearRegression\n",
    "from ipywidgets import interactive\n",
    "import matplotlib.pyplot as plt\n",
    "def plot_regression_points():\n",
    "    \n",
    "    x = np.array([100,120,110])\n",
    "    y = np.array([30,40,12])\n",
    "    model = LinearRegression(fit_intercept=True)\n",
    "\n",
    "    model.fit(x[:, np.newaxis], y)\n",
    "\n",
    "    xfit = np.linspace(np.amin(x), np.amax(x), 10)\n",
    "    yfit = model.predict(xfit[:, np.newaxis])\n",
    "\n",
    "    plt.scatter(x, y,c='red')\n",
    "    plt.plot(xfit, yfit);\n",
    "    #plt.scatter(x, y);\n",
    "    \n",
    "    \n",
    "    plt.xlim(np.amin(x)-1,np.amax(x)+1)\n",
    "    plt.ylim(np.amin(y)-1,np.amax(y)+1)\n",
    "    plt.xlabel('Input')\n",
    "    plt.ylabel('Output')\n",
    "    plt.grid(True)\n",
    "    plt.show()\n",
    "    print(\"Model slope:    \", model.coef_[0])\n",
    "    print(\"Model intercept:\", model.intercept_)\n",
    "\n",
    "plot_regression_points()"
   ]
  },
  {
   "cell_type": "code",
   "execution_count": 2,
   "metadata": {},
   "outputs": [
    {
     "data": {
      "application/vnd.jupyter.widget-view+json": {
       "model_id": "e6c55c2e4d714d42942d22649eb6f2a9",
       "version_major": 2,
       "version_minor": 0
      },
      "text/plain": [
       "interactive(children=(FloatSlider(value=1.0, description='slope', max=10.0, min=-10.0), FloatSlider(value=-2.0…"
      ]
     },
     "metadata": {},
     "output_type": "display_data"
    }
   ],
   "source": [
    "def plot_regression_with_random_points(slope, intercept,noise_level):\n",
    "    rng = np.random.RandomState(2)\n",
    "    x = 20 * rng.rand(50)-10\n",
    "    y = slope * x +intercept + noise_level*rng.randn(50)\n",
    "    model = LinearRegression(fit_intercept=True)\n",
    "\n",
    "    model.fit(x[:, np.newaxis], y)\n",
    "\n",
    "    xfit = np.linspace(-10, 10, 1000)\n",
    "    yfit = model.predict(xfit[:, np.newaxis])\n",
    "\n",
    "    plt.scatter(x, y)\n",
    "    plt.plot(xfit, yfit);\n",
    "    #plt.scatter(x, y);\n",
    "    \n",
    "    plt.ylim(-10, 10)\n",
    "    plt.xlim(-10,10)\n",
    "    plt.xlabel('Input')\n",
    "    plt.ylabel('Output')\n",
    "    plt.grid(True)\n",
    "    plt.show()\n",
    "    print(\"Model slope:    \", model.coef_[0])\n",
    "    print(\"Model intercept:\", model.intercept_)\n",
    "\n",
    "interactive_plot = interactive(plot_regression_with_random_points,\n",
    "                               slope=widgets.FloatSlider(min=-10,max=10,step=.1,value=1),\n",
    "                               intercept=widgets.FloatSlider(min=-10,max=10,step=.1,value=-2),\n",
    "                              noise_level=widgets.FloatSlider(min=0,max=10,step=.1,value=1.0))\n",
    "interactive_plot"
   ]
  },
  {
   "cell_type": "markdown",
   "metadata": {},
   "source": [
    "In general, for the multidimensional linear models,where there are multiple $x$ values, the model equation is:\n",
    "\n",
    "\n",
    "$$\\large\n",
    "y = a_0 + a_1 x_1 + a_2 x_2 + \\cdots\n",
    "$$\n",
    "\n",
    "Which can be written as:\n",
    "\n",
    "$$\\Large y=AX+b$$\n",
    "where \n",
    "$$\\large A = [a_1, a_2, a_3, \\cdots , a_N]$$\n",
    "and \n",
    "$$\\large\n",
    "\\mathbf X =  \\begin{bmatrix}\n",
    "x_1  \\\\\n",
    "x_2  \\\\\n",
    "\\vdots \\\\\n",
    "x_N  \n",
    "\\end{bmatrix}\n",
    "$$\n",
    "\n",
    "Alternatively, the above equation may be written as:\n",
    "\n",
    "$$\\Large y=A'Z$$\n",
    "where \n",
    "$$\\large A' = [a_0,a_1, a_2, a_3, \\cdots , a_N]$$\n",
    "and \n",
    "$$\\large\n",
    "\\mathbf Z =  \\begin{bmatrix}\n",
    "1 \\\\\n",
    "z_1  \\\\\n",
    "z_2  \\\\\n",
    "\\vdots \\\\\n",
    "z_N  \n",
    "\\end{bmatrix}\n",
    "$$\n",
    "\n",
    "**Note:** in the alternative form $a_0=b$\n",
    "\n",
    "Geometrically, this is fitting a hyper-plane to points in higher dimensions.\n",
    "\n",
    "We can not visualize the multidimensional regressions but we can print the estimated parameters of the hyperplane."
   ]
  },
  {
   "cell_type": "code",
   "execution_count": 3,
   "metadata": {},
   "outputs": [
    {
     "name": "stdout",
     "output_type": "stream",
     "text": [
      "2.22995593635777\n",
      "[ 1.45398856 -1.94056069  0.93145105]\n"
     ]
    }
   ],
   "source": [
    "rng = np.random.RandomState(1)\n",
    "X = 20 * rng.rand(100, 3)-10\n",
    "y = 2 + np.dot(X, [1.5, -2., 1.])+5*rng.randn(100)\n",
    "model = LinearRegression(fit_intercept=True)\n",
    "\n",
    "model.fit(X, y)\n",
    "print(model.intercept_)\n",
    "print(model.coef_)"
   ]
  }
 ],
 "metadata": {
  "hide_input": false,
  "kernelspec": {
   "display_name": "Python 3",
   "language": "python",
   "name": "python3"
  },
  "language_info": {
   "codemirror_mode": {
    "name": "ipython",
    "version": 3
   },
   "file_extension": ".py",
   "mimetype": "text/x-python",
   "name": "python",
   "nbconvert_exporter": "python",
   "pygments_lexer": "ipython3",
   "version": "3.7.4"
  },
  "varInspector": {
   "cols": {
    "lenName": 16,
    "lenType": 16,
    "lenVar": 40
   },
   "kernels_config": {
    "python": {
     "delete_cmd_postfix": "",
     "delete_cmd_prefix": "del ",
     "library": "var_list.py",
     "varRefreshCmd": "print(var_dic_list())"
    },
    "r": {
     "delete_cmd_postfix": ") ",
     "delete_cmd_prefix": "rm(",
     "library": "var_list.r",
     "varRefreshCmd": "cat(var_dic_list()) "
    }
   },
   "types_to_exclude": [
    "module",
    "function",
    "builtin_function_or_method",
    "instance",
    "_Feature"
   ],
   "window_display": false
  }
 },
 "nbformat": 4,
 "nbformat_minor": 2
}
