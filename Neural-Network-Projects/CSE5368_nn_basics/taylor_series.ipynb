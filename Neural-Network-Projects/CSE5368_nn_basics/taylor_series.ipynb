{
 "cells": [
  {
   "cell_type": "markdown",
   "metadata": {},
   "source": [
    "#  Taylor Series Examples\n",
    "\n",
    "This notebook demonstrates examples of the Taylor series expansion of some common functions.\n",
    "\n",
    "Farhad kamangar 2020"
   ]
  },
  {
   "cell_type": "markdown",
   "metadata": {},
   "source": [
    "The taylor series of a function $f(x)$ that is infinitely differentiable around point $a$ is the power series:\n",
    "\n",
    "\n",
    "$$\\Large f(x) = f(a) + \\frac{{f'(a)(x - a)}}{{1!}} + \\frac{{f''(a)}}{{2!}}{(x - a)^2} +  \\cdots  + \\frac{{{f^{(k)}}(a)}}{{k!}}{(x - a)^k} + ...,$$\n",
    "\n",
    "The above formula can be written in a more compact form as:\n",
    "\n",
    "$$\\Large f(x) = \\sum\\limits_{n = 0}^\\infty  {\\frac{{{f^{(n)}}(a)}}{{n!}}} {(x - a)^n}$$\n",
    "\n",
    "where $f^{(n)}(a)$ is the nth derivative of $f$ evaluated at the point $a$. \n",
    "\n",
    "**Note:** When $a = 0$, the Taylor series is also called a Maclaurin series.\n",
    "\n",
    "The code below demonstrates the Taylor series expansion of some common functions.\n"
   ]
  },
  {
   "cell_type": "code",
   "execution_count": 1,
   "metadata": {},
   "outputs": [
    {
     "data": {
      "application/vnd.jupyter.widget-view+json": {
       "model_id": "0a94ffdc63cd49d58f8e6bb3b42fa140",
       "version_major": 2,
       "version_minor": 0
      },
      "text/plain": [
       "interactive(children=(IntSlider(value=5, continuous_update=False, description='order', max=50), Dropdown(descr…"
      ]
     },
     "metadata": {},
     "output_type": "display_data"
    }
   ],
   "source": [
    "from __future__ import print_function\n",
    "%matplotlib inline\n",
    "\n",
    "from ipywidgets import interact, interactive, fixed, interact_manual\n",
    "import ipywidgets as widgets\n",
    "from ipywidgets import interactive\n",
    "import matplotlib.pyplot as plt\n",
    "import numpy as np\n",
    "import sympy as sy\n",
    "from sympy.functions import sin,cos,exp\n",
    "import math\n",
    "\n",
    "#plt.style.use(\"ggplot\")\n",
    "\n",
    "\n",
    "#x = sy.Symbol('x')\n",
    "#f = cos(x)\n",
    "\n",
    "def taylor(function,x_star,n):\n",
    "    x = sy.Symbol('x')\n",
    "    i = 0\n",
    "    f_hat = 0\n",
    "    for k in range(n+1):\n",
    "        f_hat = f_hat + (function.diff(x,k).subs(x,x_star))/(math.factorial(k))*(x-x_star)**k\n",
    "    return f_hat\n",
    "\n",
    "\n",
    "def plot_activation(order,function_type):\n",
    "    x = sy.Symbol('x')\n",
    "\n",
    "    plt.figure(2,figsize=(12,6))\n",
    "    x_lims = [-10,10]\n",
    "    x1 = np.linspace(x_lims[0],x_lims[1],100)\n",
    "    y1 = []\n",
    "    \n",
    "    if function_type==\"sin\":\n",
    "        f = sin(x)\n",
    "        plt.plot(x1,np.sin(x1),label=\"Actual \"+function_type+\"(x)\",alpha=0.6,c=\"red\",linewidth=3)\n",
    "        \n",
    "    elif function_type==\"cos\":\n",
    "        f = cos(x)\n",
    "        plt.plot(x1,np.cos(x1),label=\"Actual \"+function_type+\"(x)\",alpha=0.6,c=\"red\",linewidth=3)\n",
    "        \n",
    "    elif function_type==\"exp\":\n",
    "        f = exp(x)\n",
    "        plt.plot(x1,np.exp(x1),label=\"Actual \"+function_type+\"(x)\",alpha=0.6,c=\"red\",linewidth=3)\n",
    "\n",
    "    \n",
    "    \n",
    "    # Approximate up until 10 starting from 1 and using steps of 2\n",
    "    func = taylor(f,0,order)\n",
    "    for k in x1:\n",
    "            y1.append(func.subs(x,k))\n",
    "    plt.plot(x1,y1, linestyle='dashed',alpha=0.6,linewidth=3,\n",
    "             label='order '+str(order)+\" Taylor expansion\",c=\"blue\")\n",
    "   \n",
    "        \n",
    "    plt.xlim(x_lims)\n",
    "    plt.ylim([-5,5])\n",
    "    plt.xlabel('x')\n",
    "    plt.ylabel('y')\n",
    "    plt.legend()\n",
    "    plt.grid(True)\n",
    "    plt.axvline(0,c=\"black\")\n",
    "    plt.axhline(0,c=\"black\")\n",
    "    plt.title('Taylor series approximation')\n",
    "    plt.legend(loc='upper right')\n",
    "    plt.show()\n",
    "interactive_plot = interactive(plot_activation,\n",
    "                               order=widgets.IntSlider(min=0,max=50,value=5,continuous_update=False),\n",
    "                              function_type=widgets.Dropdown(options=['sin','cos','exp'],\n",
    "    value='sin',\n",
    "    description='Function Type:',\n",
    "    disabled=False,\n",
    "))\n",
    "interactive_plot"
   ]
  },
  {
   "cell_type": "markdown",
   "metadata": {},
   "source": [
    "## Taylor Series Expansion for Multi-Variable Funcions\n",
    "\n",
    "For a for multi-variable function, the Taylor series expansion around $f({a_1}, \\ldots ,{a_d})$ can be generalized as:\n",
    "\n",
    "$$\\large f({x_1}, \\ldots ,{x_d}) = \\sum\\limits_{{n_1} = 0}^\\infty   \\cdots  \\sum\\limits_{{n_d} = 0}^\\infty  {\\frac{{{{({x_1} - {a_1})}^{{n_1}}} \\cdots {{({x_d} - {a_d})}^{{n_d}}}}}{{{n_1}! \\cdots {n_d}!}}} {\\mkern 1mu} \\left( {\\frac{{{\\partial ^{{n_1} +  \\cdots  + {n_d}}}f}}{{\\partial x_1^{{n_1}} \\cdots \\partial x_d^{{n_d}}}}} \\right)({a_1}, \\ldots ,{a_d})$$\n",
    "\n",
    "\n",
    "or in another form :\n",
    "\n",
    "\n",
    "$$f({x_1}, \\ldots ,{x_d}) = f({a_1}, \\ldots ,{a_d}) + \\sum\\limits_{j = 1}^d {\\frac{{\\partial f({a_1}, \\ldots ,{a_d})}}{{\\partial {x_j}}}} ({x_j} - {a_j}) + \\frac{1}{{2!}}\\sum\\limits_{j = 1}^d {\\sum\\limits_{k = 1}^d {\\frac{{{\\partial ^2}f({a_1}, \\ldots ,{a_d})}}{{\\partial {x_j}\\partial {x_k}}}} } ({x_j} - {a_j})({x_k} - {a_k}) + \\frac{1}{{3!}}\\sum\\limits_{j = 1}^d {\\sum\\limits_{k = 1}^d {\\sum\\limits_{l = 1}^d {\\frac{{{\\partial ^3}f({a_1}, \\ldots ,{a_d})}}{{\\partial {x_j}\\partial {x_k}\\partial {x_l}}}} } } ({x_j} - {a_j})({x_k} - {a_k})({x_l} - {a_l}) +  \\cdots {\\text{ }}$$\n",
    "\n",
    "The second-order Taylor series expansion for a multi-variable function may be written more compactly as:\n",
    "\n",
    "$$f({\\bf{x}}) = f({\\bf{a}}) + \\nabla f{({\\bf{a}})^T}({\\bf{x}} - {\\bf{a}}) + \\frac{1}{{2!}}{({\\bf{x}} - {\\bf{a}})^T}({\\nabla ^2}f({\\bf{a}}))({\\bf{x}} - {\\bf{a}}) +  \\cdots $$\n",
    "\n",
    "where $\\nabla f \\bf(a)$ is the gradient of the $f(X)$ calculated at $\\bf{a}$  and ${\\nabla}^2 {f \\bf(a)}$ is the Hessian of the $f(X)$ calculated at $\\bf{a}$.\n",
    "\n",
    "where  $\\mathbf X =  \\begin{bmatrix}\n",
    "x_1  \\\\\n",
    "x_2  \\\\\n",
    "\\vdots \\\\\n",
    "x_n  \n",
    "\\end{bmatrix}\n",
    "$ and $\\mathbf a =  \\begin{bmatrix}\n",
    "a_1  \\\\\n",
    "a_2  \\\\\n",
    "\\vdots \\\\\n",
    "a_n  \n",
    "\\end{bmatrix}\n",
    "$"
   ]
  }
 ],
 "metadata": {
  "hide_input": false,
  "kernelspec": {
   "display_name": "Python 3",
   "language": "python",
   "name": "python3"
  },
  "language_info": {
   "codemirror_mode": {
    "name": "ipython",
    "version": 3
   },
   "file_extension": ".py",
   "mimetype": "text/x-python",
   "name": "python",
   "nbconvert_exporter": "python",
   "pygments_lexer": "ipython3",
   "version": "3.7.3"
  },
  "varInspector": {
   "cols": {
    "lenName": 16,
    "lenType": 16,
    "lenVar": 40
   },
   "kernels_config": {
    "python": {
     "delete_cmd_postfix": "",
     "delete_cmd_prefix": "del ",
     "library": "var_list.py",
     "varRefreshCmd": "print(var_dic_list())"
    },
    "r": {
     "delete_cmd_postfix": ") ",
     "delete_cmd_prefix": "rm(",
     "library": "var_list.r",
     "varRefreshCmd": "cat(var_dic_list()) "
    }
   },
   "types_to_exclude": [
    "module",
    "function",
    "builtin_function_or_method",
    "instance",
    "_Feature"
   ],
   "window_display": false
  }
 },
 "nbformat": 4,
 "nbformat_minor": 2
}
