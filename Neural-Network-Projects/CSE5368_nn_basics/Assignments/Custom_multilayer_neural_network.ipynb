{
 "cells": [
  {
   "cell_type": "code",
   "execution_count": 39,
   "metadata": {},
   "outputs": [],
   "source": [
    "# Raut, Shiska\n",
    "# 1001_526_329\n",
    "# 2023_02_26\n",
    "# Assignment_01_01\n",
    "\n",
    "import numpy as np\n",
    "\n",
    "# returns a weight matrix for of size r X c + 1 (including bias) \n",
    "def get_weights_matrix(r, c, seed):\n",
    "    \n",
    "    np.random.seed(seed)\n",
    "    weight_matrix = np.random.randn(r, c + 1)   # c + 1 for bias\n",
    "\n",
    "    return weight_matrix\n",
    "\n",
    "# given input 'x' and weight matrix 'W' return logsig(W*x) \n",
    "def get_layer_output(x, W):\n",
    "\n",
    "    net_value = np.dot(W, x)\n",
    "    activation_value = 1.0 / (1 + np.exp(-net_value))\n",
    "    \n",
    "    return activation_value\n",
    "\n",
    "# cakculates mean squared error for a single sample\n",
    "def get_mean_squared_error(y_sample, y_pred_sample):\n",
    "    \n",
    "    # get the numer of rows for output value\n",
    "    n = y_sample.shape[0]\n",
    "    \n",
    "    # sum of squared error\n",
    "    sse = np.sum(((y_sample - y_pred_sample)**2), axis = 1)\n",
    "    \n",
    "    # mean squared error\n",
    "    mse = sse/n\n",
    "    \n",
    "    return mse\n",
    "\n",
    "# calculates the average mse for results of a single epoch\n",
    "def get_average_mse(Y, Y_pred):\n",
    "    pass\n",
    "\n",
    "# adjusts weights after a training sample has been processed\n",
    "def adjust_weights(weights_list, x_train_sample, alpha, h):\n",
    "    pass\n",
    "\n",
    "# a single pass over the training data\n",
    "def train_network(X_train,Y_train, alpha, h):\n",
    "    pass\n",
    "\n",
    "# get predictions for X_test after training\n",
    "def get_predictions(weights_list, X_test):\n",
    "    pass\n",
    "\n",
    "\n",
    "def multi_layer_nn(X_train,Y_train,X_test,Y_test,layers,alpha,epochs,h=0.00001,seed=2):\n",
    "    \n",
    "    # get number of features and number of samples\n",
    "    n_feat_train, n_train = X_train.shape\n",
    "    __ , n_test = X_test.shape\n",
    "    \n",
    "    #get number of layers and initialize list to store weights for each layer\n",
    "    n_layers = len(layers)\n",
    "    weights_list = []\n",
    "    \n",
    "    # initalize list to store average MSE per epoch\n",
    "    avg_mse_per_epoch = []\n",
    "    \n",
    "    # get weights for each layer\n",
    "    for i in range(n_layers):\n",
    "        \n",
    "        if i == 0:\n",
    "            # get weights for first layer\n",
    "            weights_list.append(get_weights_matrix(layers[0], n_feat_train, seed))\n",
    "        else:\n",
    "            n_nodes = layers[i]\n",
    "            n_input = layers[i - 1]\n",
    "            weights_list.append(get_weights_matrix(n_nodes, n_input, seed))\n",
    "    \n",
    "    # do the following per epoch\n",
    "    for i in range(epochs):\n",
    "        weights_list = train_network(X_train,Y_train, alpha, h)\n",
    "        Y_pred = get_predictions(weights_list, X_test)\n",
    "        average_mse_per_epoch.append(get_average_mse(Y_test, Y_pred))\n",
    "    # This function creates and trains a multi-layer neural Network\n",
    "    # X_train: Array of input for training [input_dimensions,nof_train_samples]\n",
    "    # Y_train: Array of desired outputs for training samnples [output_dimensions,nof_train_samples]\n",
    "    # X_test: Array of input for testing [input_dimensions,nof_test_samples]\n",
    "    # Y_test: Array of desired outputs for test samples [output_dimensions,nof_test_samples]\n",
    "    # layers: array of integers representing number of nodes in each layer    \n",
    "    # alpha: learning rate\n",
    "    # epochs: number of epochs for training.\n",
    "    # h: step size\n",
    "    # seed: random number generator seed for initializing the weights.\n",
    "    # return: This function should return a list containing 3 elements:\n",
    "        # The first element of the return list should be a list of weight matrices.\n",
    "        # Each element of the list corresponds to the weight matrix of the corresponding layer.\n",
    "\n",
    "        # The second element should be a one dimensional array of numbers\n",
    "        # representing the average mse error after each epoch. Each error should\n",
    "        # be calculated by using the X_test array while the network is frozen.\n",
    "        # This means that the weights should not be adjusted while calculating the error.\n",
    "\n",
    "        # The third element should be a two-dimensional array [output_dimensions,nof_test_samples]\n",
    "        # representing the actual output of network when X_test is used as input.\n",
    "\n",
    "    # Notes:\n",
    "    # DO NOT use any other package other than numpy\n",
    "    # Bias should be included in the weight matrix in the first column.\n",
    "    # Assume that the activation functions for all the layers are sigmoid.\n",
    "    # Use MSE to calculate error.\n",
    "    # Use gradient descent for adjusting the weights.\n",
    "    # use centered difference approximation to calculate partial derivatives.\n",
    "    # (f(x + h)-f(x - h))/2*h\n",
    "    # Reseed the random number generator when initializing weights for each layer.\n",
    "    # i.e., Initialize the weights for each layer by:\n",
    "    # np.random.seed(seed)\n",
    "    # np.random.randn()\n",
    "    pass"
   ]
  },
  {
   "cell_type": "code",
   "execution_count": 40,
   "metadata": {},
   "outputs": [
    {
     "name": "stdout",
     "output_type": "stream",
     "text": [
      "[[0.04125537]\n",
      " [0.99982438]]\n"
     ]
    },
    {
     "data": {
      "text/plain": [
       "0"
      ]
     },
     "execution_count": 40,
     "metadata": {},
     "output_type": "execute_result"
    }
   ],
   "source": [
    "def sigmoid(x):\n",
    "    # This function calculates the sigmoid function\n",
    "    # x: input\n",
    "    # return: sigmoid(x)\n",
    "    # Your code goes here\n",
    "    return 1/(1+np.exp(-x))\n",
    "\n",
    "def create_toy_data_nonlinear(n_samples=1000):\n",
    "    X = np.zeros((n_samples, 4))\n",
    "    X[:, 0] = np.linspace(-1, 1, n_samples)\n",
    "    X[:, 1] = np.linspace(-1, 1, n_samples)\n",
    "    X[:, 2] = np.linspace(-1, 1, n_samples)\n",
    "    X[:, 3] = np.linspace(-1, 1, n_samples)\n",
    "\n",
    "    y = X[:, 0]**2 + 2*X[:, 1]  - 0.5*X[:, 2] + X[:, 3]**3 + 0.3\n",
    "\n",
    "    # shuffle X and y\n",
    "    idx = np.arange(n_samples)\n",
    "    np.random.shuffle(idx)\n",
    "    X = X[idx]\n",
    "    y = y[idx]\n",
    "\n",
    "    return X, y\n",
    "\n",
    "def create_toy_data_nonlinear_2d(n_samples=1000):\n",
    "    X = np.zeros((n_samples, 4))\n",
    "    X[:, 0] = np.linspace(-1, 1, n_samples)\n",
    "    X[:, 1] = np.linspace(-1, 1, n_samples)\n",
    "    X[:, 2] = np.linspace(-1, 1, n_samples)\n",
    "    X[:, 3] = np.linspace(-1, 1, n_samples)\n",
    "    y = np.zeros((n_samples, 2))\n",
    "    y[:, 0] = 0.5*X[:, 0] -0.2 * X[:, 1]**2 - 0.2*X[:, 2] + X[:, 3]*X[:,1] - 0.1\n",
    "    y[:, 1] = 1.5 * X[:, 0] + 1.25 * X[:, 1]*X[:, 0] + 0.4 * X[:, 2] * X[:, 0]\n",
    "\n",
    "    # shuffle X and y\n",
    "    idx = np.arange(n_samples)\n",
    "    np.random.shuffle(idx)\n",
    "    X = X[idx]\n",
    "    y = y[idx]\n",
    "\n",
    "    return X, y\n",
    "\n",
    "def test_can_fit_data_test():\n",
    "    np.random.seed(12345)\n",
    "    from sklearn.model_selection import train_test_split\n",
    "    X, y = create_toy_data_nonlinear(n_samples=110)\n",
    "    y = sigmoid(y)\n",
    "    X_train, X_test, Y_train, Y_test = train_test_split(X, y, test_size=0.1, random_state=42)\n",
    "    Y_train = Y_train.reshape(-1,1)\n",
    "    Y_train = Y_train\n",
    "    Y_test = Y_test.reshape(-1,1)\n",
    "    Y_test = Y_test\n",
    "\n",
    "    multi_layer_nn(X_train,Y_train,X_test,Y_test,[2,1],alpha=0.35,epochs=1000,h=1e-8,seed=1234)\n",
    "    \n",
    "    return 0\n",
    "\n",
    "test_can_fit_data_test()\n",
    "\n"
   ]
  },
  {
   "cell_type": "code",
   "execution_count": 2,
   "metadata": {},
   "outputs": [
    {
     "data": {
      "text/plain": [
       "array([2, 3, 4, 5, 6, 7])"
      ]
     },
     "execution_count": 2,
     "metadata": {},
     "output_type": "execute_result"
    }
   ],
   "source": [
    "import numpy as np\n",
    "x = np.array([1,2,3,4,5,6,7])\n",
    "x[1::]"
   ]
  },
  {
   "cell_type": "code",
   "execution_count": 5,
   "metadata": {},
   "outputs": [
    {
     "data": {
      "text/plain": [
       "array([[-0.09194992, -1.46335065,  1.08179168],\n",
       "       [-0.23932517, -0.49112914, -1.00227201],\n",
       "       [ 0.9188215 , -1.1036321 ,  0.62649346]])"
      ]
     },
     "execution_count": 5,
     "metadata": {},
     "output_type": "execute_result"
    }
   ],
   "source": [
    "np.random.seed(22)\n",
    "np.random.randn(3,3)"
   ]
  },
  {
   "cell_type": "code",
   "execution_count": 24,
   "metadata": {},
   "outputs": [
    {
     "data": {
      "text/plain": [
       "array([[1., 1., 1., 1., 1.],\n",
       "       [1., 1., 1., 1., 1.],\n",
       "       [1., 1., 1., 1., 1.],\n",
       "       [1., 1., 1., 1., 1.],\n",
       "       [1., 1., 1., 1., 1.]])"
      ]
     },
     "execution_count": 24,
     "metadata": {},
     "output_type": "execute_result"
    }
   ],
   "source": [
    "np.ones((5,5))"
   ]
  },
  {
   "cell_type": "code",
   "execution_count": 7,
   "metadata": {},
   "outputs": [],
   "source": [
    "x = np.random.randn(5,1)\n",
    "y = np.random.randn(4,1)"
   ]
  },
  {
   "cell_type": "code",
   "execution_count": 10,
   "metadata": {},
   "outputs": [
    {
     "data": {
      "text/plain": [
       "array([[-0.2821113 ],\n",
       "       [-0.06322892],\n",
       "       [-1.53699059],\n",
       "       [ 0.2917757 ],\n",
       "       [ 2.23383417]])"
      ]
     },
     "execution_count": 10,
     "metadata": {},
     "output_type": "execute_result"
    }
   ],
   "source": [
    "x"
   ]
  },
  {
   "cell_type": "code",
   "execution_count": 9,
   "metadata": {},
   "outputs": [
    {
     "data": {
      "text/plain": [
       "array([[ 1.44043622],\n",
       "       [ 0.02830434],\n",
       "       [-1.48941825],\n",
       "       [ 0.22179747]])"
      ]
     },
     "execution_count": 9,
     "metadata": {},
     "output_type": "execute_result"
    }
   ],
   "source": [
    "y"
   ]
  },
  {
   "cell_type": "code",
   "execution_count": 11,
   "metadata": {},
   "outputs": [],
   "source": [
    "x[1::] = y"
   ]
  },
  {
   "cell_type": "code",
   "execution_count": 13,
   "metadata": {},
   "outputs": [
    {
     "data": {
      "text/plain": [
       "(5, 1)"
      ]
     },
     "execution_count": 13,
     "metadata": {},
     "output_type": "execute_result"
    }
   ],
   "source": [
    "x.shape"
   ]
  },
  {
   "cell_type": "code",
   "execution_count": 14,
   "metadata": {},
   "outputs": [],
   "source": [
    "def get_layer_output(x, W):\n",
    "\n",
    "    net_value = np.dot(W, x)\n",
    "    activation_value = 1.0 / (1 + np.exp(-net_value))\n",
    "    \n",
    "    return activation_value\n",
    "\n",
    "# given sample 'x_sample' and list of all weights in the network 'weights_list', \n",
    "# returns network output y_sample\n",
    "def get_network_output(x_sample, weights_list):\n",
    "\n",
    "    nn_input = np.zeros((x_sample.shape[0]+1, 1))\n",
    "    nn_input[1::] = x_sample\n",
    "\n",
    "    for i in range(weights_list):\n",
    "        W = weights_list[i]\n",
    "        layer_output = get_layer_output(nn_input, W)\n",
    "        next_layer_input = np.zeros((layer_output.shape[0]+1, 1))\n",
    "        next_layer_input[1::] = layer_output\n",
    "    \n",
    "    return layer_output"
   ]
  },
  {
   "cell_type": "code",
   "execution_count": 17,
   "metadata": {},
   "outputs": [],
   "source": [
    "W_l1 = np.array([[ 0.47143516, -1.19097569,  1.43270697, -0.3126519 , -0.72058873],     \n",
    " [ 0.88716294,  0.85958841, -0.6365235 ,  0.01569637, -2.24268495]], ndmin = 2)\n",
    "W_l2 = np.array([[ 0.47143516, -1.19097569,  1.43270697]], ndmin = 2)"
   ]
  },
  {
   "cell_type": "code",
   "execution_count": 23,
   "metadata": {},
   "outputs": [],
   "source": [
    "X = np.array([1, 0.9266055, 0.9266055, 0.9266055, 0.9266055], ndmin = 2)\n",
    "X = np.transpose(X)"
   ]
  },
  {
   "cell_type": "code",
   "execution_count": 24,
   "metadata": {},
   "outputs": [
    {
     "data": {
      "text/plain": [
       "(5, 1)"
      ]
     },
     "execution_count": 24,
     "metadata": {},
     "output_type": "execute_result"
    }
   ],
   "source": [
    "X.shape"
   ]
  },
  {
   "cell_type": "code",
   "execution_count": 33,
   "metadata": {},
   "outputs": [
    {
     "data": {
      "text/plain": [
       "array([[-0.26198176],\n",
       "       [-0.96968375]])"
      ]
     },
     "execution_count": 33,
     "metadata": {},
     "output_type": "execute_result"
    }
   ],
   "source": [
    "np.dot(W_l1, X)"
   ]
  },
  {
   "cell_type": "code",
   "execution_count": 34,
   "metadata": {},
   "outputs": [
    {
     "data": {
      "text/plain": [
       "array([[0.43487661],\n",
       "       [0.27494354]])"
      ]
     },
     "execution_count": 34,
     "metadata": {},
     "output_type": "execute_result"
    }
   ],
   "source": [
    "1.0 / (1 + np.exp(-np.dot(W_l1, X)))"
   ]
  },
  {
   "cell_type": "code",
   "execution_count": 36,
   "metadata": {},
   "outputs": [],
   "source": [
    "X2 = np.array([[1.0],[0.43487661],[0.27494354]], ndmin = 2)"
   ]
  },
  {
   "cell_type": "code",
   "execution_count": 37,
   "metadata": {},
   "outputs": [
    {
     "data": {
      "text/plain": [
       "array([[1.        ],\n",
       "       [0.43487661],\n",
       "       [0.27494354]])"
      ]
     },
     "execution_count": 37,
     "metadata": {},
     "output_type": "execute_result"
    }
   ],
   "source": [
    "X2"
   ]
  },
  {
   "cell_type": "code",
   "execution_count": 38,
   "metadata": {},
   "outputs": [
    {
     "data": {
      "text/plain": [
       "array([[0.34742122]])"
      ]
     },
     "execution_count": 38,
     "metadata": {},
     "output_type": "execute_result"
    }
   ],
   "source": [
    "np.dot(W_l2, X2)"
   ]
  },
  {
   "cell_type": "code",
   "execution_count": 39,
   "metadata": {},
   "outputs": [
    {
     "data": {
      "text/plain": [
       "array([[0.58599209]])"
      ]
     },
     "execution_count": 39,
     "metadata": {},
     "output_type": "execute_result"
    }
   ],
   "source": [
    "1.0 / (1 + np.exp(-np.dot(W_l2, X2)))"
   ]
  },
  {
   "cell_type": "code",
   "execution_count": 41,
   "metadata": {},
   "outputs": [],
   "source": [
    "temp_list = [[1, 2, 3], ['a' 'b']]"
   ]
  },
  {
   "cell_type": "code",
   "execution_count": 50,
   "metadata": {},
   "outputs": [
    {
     "data": {
      "text/plain": [
       "[array([[1.       ],\n",
       "        [0.9266055],\n",
       "        [0.9266055],\n",
       "        [0.9266055],\n",
       "        [0.9266055]]),\n",
       " array([[1.        ],\n",
       "        [0.43487661],\n",
       "        [0.27494354]])]"
      ]
     },
     "execution_count": 50,
     "metadata": {},
     "output_type": "execute_result"
    }
   ],
   "source": [
    "temp_list"
   ]
  },
  {
   "cell_type": "code",
   "execution_count": 105,
   "metadata": {},
   "outputs": [],
   "source": [
    "temp_list = [X, X2]"
   ]
  },
  {
   "cell_type": "code",
   "execution_count": 106,
   "metadata": {},
   "outputs": [],
   "source": [
    "m = temp_list[0]\n",
    "m[0] = 500"
   ]
  },
  {
   "cell_type": "code",
   "execution_count": 107,
   "metadata": {},
   "outputs": [
    {
     "data": {
      "text/plain": [
       "[array([[500.       ],\n",
       "        [  0.9266055],\n",
       "        [  0.9266055],\n",
       "        [  0.9266055],\n",
       "        [  0.9266055]]),\n",
       " array([[1.        ],\n",
       "        [0.43487661],\n",
       "        [0.27494354]])]"
      ]
     },
     "execution_count": 107,
     "metadata": {},
     "output_type": "execute_result"
    }
   ],
   "source": [
    "temp_list"
   ]
  },
  {
   "cell_type": "code",
   "execution_count": 61,
   "metadata": {},
   "outputs": [
    {
     "data": {
      "text/plain": [
       "array([0.])"
      ]
     },
     "execution_count": 61,
     "metadata": {},
     "output_type": "execute_result"
    }
   ],
   "source": [
    "orig_val = temp_list[0][0].copy()\n",
    "orig_val"
   ]
  },
  {
   "cell_type": "code",
   "execution_count": 62,
   "metadata": {},
   "outputs": [],
   "source": [
    "temp_list[0][0] = 90"
   ]
  },
  {
   "cell_type": "code",
   "execution_count": 67,
   "metadata": {},
   "outputs": [],
   "source": [
    "a = 90000"
   ]
  },
  {
   "cell_type": "code",
   "execution_count": 76,
   "metadata": {},
   "outputs": [],
   "source": [
    "a = temp_list[0][0]"
   ]
  },
  {
   "cell_type": "code",
   "execution_count": 77,
   "metadata": {},
   "outputs": [],
   "source": [
    "a = 605"
   ]
  },
  {
   "cell_type": "code",
   "execution_count": 79,
   "metadata": {},
   "outputs": [],
   "source": [
    "ad_t = temp_list"
   ]
  },
  {
   "cell_type": "code",
   "execution_count": 81,
   "metadata": {},
   "outputs": [],
   "source": [
    "ad_t[0][0] = 45"
   ]
  },
  {
   "cell_type": "code",
   "execution_count": 82,
   "metadata": {},
   "outputs": [
    {
     "data": {
      "text/plain": [
       "[array([[45.       ],\n",
       "        [ 0.9266055],\n",
       "        [ 0.9266055],\n",
       "        [ 0.9266055],\n",
       "        [ 0.9266055]]),\n",
       " array([[1.        ],\n",
       "        [0.43487661],\n",
       "        [0.27494354]])]"
      ]
     },
     "execution_count": 82,
     "metadata": {},
     "output_type": "execute_result"
    }
   ],
   "source": [
    "temp_list"
   ]
  },
  {
   "cell_type": "code",
   "execution_count": 83,
   "metadata": {},
   "outputs": [],
   "source": [
    "temp_mat_1 = temp_list[0]"
   ]
  },
  {
   "cell_type": "code",
   "execution_count": 84,
   "metadata": {},
   "outputs": [],
   "source": [
    "temp_mat_1[0,0] = 800"
   ]
  },
  {
   "cell_type": "code",
   "execution_count": 96,
   "metadata": {},
   "outputs": [],
   "source": [
    "mymat = np.random.rand(2,3)"
   ]
  },
  {
   "cell_type": "code",
   "execution_count": 97,
   "metadata": {},
   "outputs": [],
   "source": [
    "mylist = []\n",
    "mylist.append(mymat)"
   ]
  },
  {
   "cell_type": "code",
   "execution_count": 98,
   "metadata": {},
   "outputs": [
    {
     "data": {
      "text/plain": [
       "[array([[0.96681378, 0.53878032, 0.55327257],\n",
       "        [0.19281462, 0.20460739, 0.32305099]])]"
      ]
     },
     "execution_count": 98,
     "metadata": {},
     "output_type": "execute_result"
    }
   ],
   "source": [
    "mylist"
   ]
  },
  {
   "cell_type": "code",
   "execution_count": 99,
   "metadata": {},
   "outputs": [],
   "source": [
    "mymat[0][0] = 0.29"
   ]
  },
  {
   "cell_type": "code",
   "execution_count": 100,
   "metadata": {},
   "outputs": [
    {
     "data": {
      "text/plain": [
       "array([[0.29      , 0.53878032, 0.55327257],\n",
       "       [0.19281462, 0.20460739, 0.32305099]])"
      ]
     },
     "execution_count": 100,
     "metadata": {},
     "output_type": "execute_result"
    }
   ],
   "source": [
    "mymat"
   ]
  },
  {
   "cell_type": "code",
   "execution_count": 101,
   "metadata": {},
   "outputs": [
    {
     "data": {
      "text/plain": [
       "[array([[0.29      , 0.53878032, 0.55327257],\n",
       "        [0.19281462, 0.20460739, 0.32305099]])]"
      ]
     },
     "execution_count": 101,
     "metadata": {},
     "output_type": "execute_result"
    }
   ],
   "source": [
    "mylist"
   ]
  },
  {
   "cell_type": "code",
   "execution_count": 103,
   "metadata": {},
   "outputs": [],
   "source": [
    "mymat = np.random.rand(9,3)"
   ]
  },
  {
   "cell_type": "code",
   "execution_count": 104,
   "metadata": {},
   "outputs": [
    {
     "data": {
      "text/plain": [
       "[array([[0.29      , 0.53878032, 0.55327257],\n",
       "        [0.19281462, 0.20460739, 0.32305099]])]"
      ]
     },
     "execution_count": 104,
     "metadata": {},
     "output_type": "execute_result"
    }
   ],
   "source": [
    "mylist"
   ]
  },
  {
   "cell_type": "code",
   "execution_count": null,
   "metadata": {},
   "outputs": [],
   "source": []
  }
 ],
 "metadata": {
  "kernelspec": {
   "display_name": "Python 3",
   "language": "python",
   "name": "python3"
  },
  "language_info": {
   "codemirror_mode": {
    "name": "ipython",
    "version": 3
   },
   "file_extension": ".py",
   "mimetype": "text/x-python",
   "name": "python",
   "nbconvert_exporter": "python",
   "pygments_lexer": "ipython3",
   "version": "3.8.11"
  }
 },
 "nbformat": 4,
 "nbformat_minor": 4
}
