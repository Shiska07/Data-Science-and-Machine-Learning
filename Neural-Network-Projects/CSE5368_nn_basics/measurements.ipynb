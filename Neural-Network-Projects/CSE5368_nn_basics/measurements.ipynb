{
 "cells": [
  {
   "cell_type": "markdown",
   "metadata": {},
   "source": [
    "#  Measurement Scales\n",
    "\n",
    "\n",
    "Farhad kamangar 2019"
   ]
  },
  {
   "cell_type": "markdown",
   "metadata": {},
   "source": [
    "In machine learning and statistical analysis, there are four types of data or measurement scales:\n",
    "* Nominal\n",
    "* Ordinal\n",
    "* Interval\n",
    "* Ratio\n",
    "\n",
    "Each of the above measurement scales satisfies one or more of the following properties of measurement.\n",
    "* **Identity** . Each value has a unique meaning.\n",
    "* **Order**. Values have an ordered relationship to one another.\n",
    "* **Equal intervals**. Units along the scale are equal to one another.\n",
    "* **True zero**. All values are greater than or equal to zero and there is a \"True Zero\".\n",
    "\n",
    "\n",
    "# Categorical Variables\n",
    "\n",
    "There are two types of categorical variable, **nominal** and **ordinal**.\n",
    "\n",
    "## Nominal\n",
    "\n",
    "A nominal variable has no intrinsic ordering. For example, gender is a nominal categorical variable having two categories (male and female) with no intrinsic ordering to the categories.\n",
    "Examples:\n",
    "* Man, woman\n",
    "* Red, green, blue, black, ....\n",
    "* Dog, cat, bird, ...\n",
    "\n",
    "Notes:\n",
    "* There is no order in the nominal examples above, i.e. red is not before or after green or blue.\n",
    "* The nominal scales of measurement only satisfies the **Identity** property of measurement. In other words the nominal values do not have any magnitude, nor they have equal intervals, and there is no minimum value of zero.\n",
    "\n",
    "## Ordinal\n",
    "\n",
    "Ordinal variables are used for the entities where the order is important but the difference between the variables is not known. For example:\n",
    "* Very unsatisfied, somewhat unsatisfied, neutral, somewhat satisfied, very satisfied\n",
    "* Cold, warm, hot\n",
    "\n",
    "Notes:\n",
    "* The order in the ordinal variables is important\n",
    "* The ordinal values satisfy the **Identity** and **Order** properties of the measurement scales.\n",
    "\n",
    "# Interval\n",
    "\n",
    "Interval variables have numeric values which have order and the exact difference between the values is known. For example:\n",
    "* Temperatures:  50, 60, 80 degrees Celsius\n",
    "* Time:  10:30 AM, 11:15 AM, 2:12 PM, ...\n",
    "\n",
    "Notes:\n",
    "* The order in the interval variables is obvious and also the difference between them can be calculated\n",
    "* The interval values satisfy the **Identity** and **Order** and **Equal intervals** properties of the measurement scales.\n",
    "* Interval scales do not have \"True zero\". We can add or subtract with interval scale values but there is no true meaning for multiplying or dividing their values. Think about it, is 40 degrees Celsius twice as hot as 20 degrees Celsius? If you have doubts convert the Celsius degrees to Fahrenheit and ask the same question again.\n",
    "\n",
    "# Ratio\n",
    "Ratio variables have all the properties of the interval scales in addition to having a **\"True Zero\"**. For example:\n",
    "* Height: 150 cm, 175 cm, ...\n",
    "* Weight:  70 Kg, 82 Kg, .. \n",
    "* Duration:  10, 15, 18, .. seconds\n",
    "\n",
    "Notes:\n",
    "* The ratio values satisfy all the **Identity**, **Order**, **Equal intervals**, and **True Zero** properties of the measurement scales.\n",
    "* We can add, subtract, multiply, or divide (ratio) of the ratio scale variables.\n"
   ]
  }
 ],
 "metadata": {
  "hide_input": false,
  "kernelspec": {
   "display_name": "Python 3",
   "language": "python",
   "name": "python3"
  },
  "language_info": {
   "codemirror_mode": {
    "name": "ipython",
    "version": 3
   },
   "file_extension": ".py",
   "mimetype": "text/x-python",
   "name": "python",
   "nbconvert_exporter": "python",
   "pygments_lexer": "ipython3",
   "version": "3.7.4"
  },
  "varInspector": {
   "cols": {
    "lenName": 16,
    "lenType": 16,
    "lenVar": 40
   },
   "kernels_config": {
    "python": {
     "delete_cmd_postfix": "",
     "delete_cmd_prefix": "del ",
     "library": "var_list.py",
     "varRefreshCmd": "print(var_dic_list())"
    },
    "r": {
     "delete_cmd_postfix": ") ",
     "delete_cmd_prefix": "rm(",
     "library": "var_list.r",
     "varRefreshCmd": "cat(var_dic_list()) "
    }
   },
   "types_to_exclude": [
    "module",
    "function",
    "builtin_function_or_method",
    "instance",
    "_Feature"
   ],
   "window_display": false
  }
 },
 "nbformat": 4,
 "nbformat_minor": 2
}
