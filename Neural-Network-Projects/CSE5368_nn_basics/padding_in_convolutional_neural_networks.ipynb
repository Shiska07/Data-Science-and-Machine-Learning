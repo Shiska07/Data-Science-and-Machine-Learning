{
 "cells": [
  {
   "cell_type": "markdown",
   "metadata": {},
   "source": [
    "# Padding in Tensorflow and Keras\n",
    "\n",
    "This notebook explains some of the features of the convolutional layers in Tensorflow and Keras.\n",
    "\n",
    "\n",
    "Farhad Kamangar, Apr. 2020"
   ]
  },
  {
   "cell_type": "markdown",
   "metadata": {},
   "source": [
    "The following is some of the points to remeber about convolutional neural networks as implemented in Tensorflow and Keras."
   ]
  },
  {
   "cell_type": "markdown",
   "metadata": {},
   "source": [
    "<hr size=\"9\" >\n",
    "\n",
    "### Shape of input for a layer in a CNN is 4D (Excluding fully connected layer).\n",
    "\n",
    "**The shape of the tensor is:  <span style=\"color:red; font-family: courier;\">[batch_size, input_height, input_width, input_depth]</span>**\n",
    "\n",
    "<hr size=\"9\" >"
   ]
  },
  {
   "cell_type": "markdown",
   "metadata": {},
   "source": [
    "<hr size=\"9\" >\n",
    "\n",
    "### Shape of the weight tensor (filter coefficients) for a layer in a CNN  is 4D (Excluding fully connected layer). \n",
    "\n",
    "#### The shape of the tensor is: : <span style=\"color:red; font-family: courier;\">[filter_height,filter_width, filter_depth,number_of_filters]</span>\n",
    "\n",
    "**Notes:** \n",
    "* The <span style=\"color:red; font-family: courier;\">input_depth</span> must be equal to the <span style=\"color:red; font-family: courier;\">filter_depth.</span>\n",
    "\n",
    "* The weight matrix for a fully connected layer is not 4D.\n",
    "\n",
    "<hr size=\"9\" >"
   ]
  },
  {
   "cell_type": "markdown",
   "metadata": {},
   "source": [
    "<hr size=\"9\" >\n",
    "\n",
    "### \"same\" and \"valid\" padding in Tensorflow and Keras\n",
    "\n",
    "\n",
    "\n",
    "\n",
    "**We know that for a convolutional operation the size of the output can be calculated as:**\n",
    "\n",
    "$$O = \\frac{{W - F + 2P}}{S} + 1$$\n",
    "\n",
    "Where:\n",
    "* $O$ is the size of the output\n",
    "* $W$ is the size of the inpput\n",
    "* $F$ is the size of the filter\n",
    "* $P$ is the size of zero padding\n",
    "* $S$ is the size of stride.\n",
    "\n",
    "**Note that the size of the output which is calculated from the above equation may not be an integer. Also it is assumed that the there are equal number of zero paddings on start and end of the input.**\n",
    "\n",
    "**When defining a convoultional layer in Tensorflow and Keras the value for the \"padding\" parameter can be set to either <span style=\"color:red; font-family: courier;\">\"same\"</span> or <span style=\"color:red; font-family: courier;\">\"valid\"</span> and Tensorflow will automatically calculate the required padding and size of the ouput.**\n",
    "\n",
    "The procedure which is implemented by Tensorflow for calculating the padding and ouput size is shown below:\n",
    "\n",
    "\n",
    "<code><span style=\"color:red; font-family: courier;\">\n",
    "if padding==\"same\" :\n",
    "    if  W%S ==0:\n",
    "        total_padding=max(F-S,0)\n",
    "    else:\n",
    "        total_padding=max(F-(W%S),0)\n",
    "    padding_on_start_side=math.floor(total_padding/2)\n",
    "    padding_on_end_side=total_padding-padding_on_start_side\n",
    "    size_of_output=math.ceil((W-F+padding_on_start_side+padding_on_end_side)/S)+1\n",
    "elif padding==\"valid\" :\n",
    "    padding_on_start_side=0\n",
    "    padding_on_end_side=0\n",
    "    size_of_output=math.ceil((W-F+1)/S)    \n",
    "</span></code>\n",
    "\n",
    "**Note:**\n",
    "The procedure for padding and output size in Tensorflow and Keras are different from other libraries such as Caffe."
   ]
  },
  {
   "cell_type": "code",
   "execution_count": 1,
   "metadata": {},
   "outputs": [
    {
     "name": "stdout",
     "output_type": "stream",
     "text": [
      "Start padding: 2\n",
      "End padding: 3\n",
      "Output size: 7\n"
     ]
    }
   ],
   "source": [
    "import math\n",
    "\n",
    "def calculate_padding_and_ouput_size(W,F,S=1,padding=\"same\"):\n",
    "    if padding==\"same\" :\n",
    "        if  W%S ==0:\n",
    "            total_padding=max(F-S,0)\n",
    "        else:\n",
    "            total_padding=max(F-(W%S),0)\n",
    "        padding_on_start_side=math.floor(total_padding/2)\n",
    "        padding_on_end_side=total_padding-padding_on_start_side\n",
    "        size_of_output=math.ceil((W-F+padding_on_start_side+padding_on_end_side)/S)+1\n",
    "    elif padding==\"valid\" :\n",
    "        padding_on_start_side=0\n",
    "        padding_on_end_side=0\n",
    "        size_of_output=math.ceil((W-F+1)/S)\n",
    "    return padding_on_start_side,padding_on_end_side,size_of_output\n",
    "W=20\n",
    "F=7\n",
    "S=3\n",
    "padding=\"same\"\n",
    "padding_on_start_side,padding_on_end_side,size_of_output=calculate_padding_and_ouput_size(W,F,S,padding)\n",
    "\n",
    "print(\"Start padding:\",padding_on_start_side)\n",
    "print(\"End padding:\",padding_on_end_side)\n",
    "print(\"Output size:\",size_of_output)"
   ]
  }
 ],
 "metadata": {
  "hide_input": false,
  "kernelspec": {
   "display_name": "Python 3",
   "language": "python",
   "name": "python3"
  },
  "language_info": {
   "codemirror_mode": {
    "name": "ipython",
    "version": 3
   },
   "file_extension": ".py",
   "mimetype": "text/x-python",
   "name": "python",
   "nbconvert_exporter": "python",
   "pygments_lexer": "ipython3",
   "version": "3.7.3"
  }
 },
 "nbformat": 4,
 "nbformat_minor": 2
}
