{
 "cells": [
  {
   "cell_type": "markdown",
   "metadata": {},
   "source": [
    "$\\begin{bmatrix}\n",
    "  0.00 &   1.00 &   2.00 &   3.00\\\\\n",
    "  4.00 &   5.00 &   6.00 &   7.00\\\\\n",
    "  8.00 &   9.00 &  10.00 &  11.00\\\\\n",
    " 12.00 &  13.00 &  14.00 &  15.00\\\\\n",
    "\\end{bmatrix}$"
   ]
  }
 ],
 "metadata": {
  "hide_input": false,
  "kernelspec": {
   "display_name": "Python 3",
   "language": "python",
   "name": "python3"
  },
  "language_info": {
   "codemirror_mode": {
    "name": "ipython",
    "version": 3
   },
   "file_extension": ".py",
   "mimetype": "text/x-python",
   "name": "python",
   "nbconvert_exporter": "python",
   "pygments_lexer": "ipython3",
   "version": "3.7.3"
  }
 },
 "nbformat": 4,
 "nbformat_minor": 2
}
