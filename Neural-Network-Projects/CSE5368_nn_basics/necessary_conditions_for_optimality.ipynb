{
 "cells": [
  {
   "cell_type": "markdown",
   "metadata": {},
   "source": [
    "<h1 align=center>Necessary Conditions for Optimality in Performance Surfaces</h1>\n",
    "\n",
    "This notebook explains the necessary conditions for optimal points (minima or maxima) in performance surfaces.\n",
    "\n",
    "\n",
    "Farhad Kamangar  Mar. 2020"
   ]
  },
  {
   "cell_type": "markdown",
   "metadata": {},
   "source": [
    "\n",
    "In the previous lesson different types of optimum points (minima) were discussed (strong, weak, and global minima). This notebook will explain the necessary and sufficient condition which need to be satisfied for a point to be an optimum (minimum ) point for a performance surface.\n",
    "\n",
    "We know that the second-order Taylor series expansion for a multi-variable function may be written more compactly as:\n",
    "\n",
    "$$\\Large f({\\bf{x}}) = f({\\bf{a}}) + \\nabla f{({\\bf{a}})^T}({\\bf{x}} - {\\bf{a}}) + \\frac{1}{{2!}}{({\\bf{x}} - {\\bf{a}})^T}({\\nabla ^2}f({\\bf{a}}))({\\bf{x}} - {\\bf{a}}) +  \\cdots $$\n",
    "\n",
    "where $\\nabla f \\bf(a)$ is the gradient of the $f(X)$ calculated at $\\bf{a}$  and ${\\nabla}^2 {f \\bf(a)}$ is the Hessian of the $f(X)$ calculated at $\\bf{a}$.\n",
    "\n",
    "where $\\mathbf X =  \\begin{bmatrix}\n",
    "x_1  \\\\\n",
    "x_2  \\\\\n",
    "\\vdots \\\\\n",
    "x_n  \n",
    "\\end{bmatrix}\n",
    "$ and $\\mathbf a =  \\begin{bmatrix}\n",
    "a_1  \\\\\n",
    "a_2  \\\\\n",
    "\\vdots \\\\\n",
    "a_n  \n",
    "\\end{bmatrix}\n",
    "$\n",
    "\n",
    "For simplicity let's denote $\\large {\\Delta \\bf{x}}=({\\bf{x}} - {\\bf{a}})$. Then, the above Taylor series expansion may be written as:\n",
    "\n",
    "$$\\Large f({\\bf{x}}) = f({\\bf{a}}) + \\nabla f{({\\bf{a}})^T}{\\Delta \\bf{x}} + \\frac{1}{{2!}}{{\\Delta \\bf{x}^T}}({\\nabla ^2}f({\\bf{a}})){\\Delta \\bf{x}} +  \\cdots $$\n",
    "\n",
    "for a very small ${\\Delta \\bf{x}}$, the higher terms in the Taylor series expansion can be neglected and the above equation can be written as:\n",
    "\n",
    "\n",
    "$$\\Large f({\\bf{x}}) \\approx f({\\bf{a}}) + \\nabla f{({\\bf{a}})^T}{\\Delta \\bf{x}}$$\n",
    "\n",
    "Knowing that $\\large {\\Delta \\bf{x}}=({\\bf{x}} - {\\bf{a}})$ implies that $\\large \\bf{x}= {\\Delta \\bf{x}}+{\\bf{a}}$ and the above equation can be written as:\n",
    "\n",
    "$$\\Large f({\\Delta \\bf{x}}+{\\bf{a}}) \\approx f({\\bf{a}}) + \\nabla f{({\\bf{a}})^T}{\\Delta \\bf{x}}$$\n",
    "\n",
    "Now, if the point $\\bf{a}$ is a minimum point then if move a little away to point $\\Large {\\Delta \\bf{x}}+{\\bf{a}}$ then the function should increase or at least not go down. This implies that the term $\\large \\nabla f{({\\bf{a}})^T}{\\Delta \\bf{x}}$ in the above equation should be positive. \n",
    "\n",
    "Notice that $\\large \\nabla f{({\\bf{a}})^T}{\\Delta \\bf{x}}$ is the result of two parts i.e., $\\large \\nabla f{({\\bf{a}})^T}$  and $\\large {\\Delta \\bf{x}}$. However if ve move in the direction of $\\large -{\\Delta \\bf{x}}$ then the term  $\\large \\nabla f{({\\bf{a}})^T}(-{\\Delta \\bf{x}})$ will be negative and the value of function will decrease (meaning point $\\bf{a}$ is not minimum). This is a contradiction. Therefore, the only possible solution is that \n",
    "\n",
    "\n",
    "\n",
    "$$\\large \\nabla f(\\bf{a})=\\bf(0)$$ \n",
    "\n",
    "\n",
    "This means that the **necessary**  condition for a point to be minimum point is that the gradient of the function **must be zero**  at that point.\n",
    "\n",
    "Note that the gradient being zero is a necessary condition but it may not be sufficient. \n",
    "<p align=\"left\" style='background :yellow'>Any point at which the gradient of the function is zero is called a stationary point. Note that a stationary point is not necessarily a minimum or maximum point. A saddle point is an example of a stationary point. See the example below.\n",
    "\n",
    "\n",
    "\n",
    "We know that at a stationary point the gradient of the function is zero and therefore the Taylor series expansion of the function can be written as:\n",
    "\n",
    "$$\\Large f({\\bf{x}}) = f({\\bf{a}}) +  \\frac{1}{{2!}}{{\\Delta \\bf{x}}^T}({\\nabla ^2}f({\\bf{a}})){\\Delta \\bf{x}} +  \\cdots $$\n",
    "\n",
    "Again, if we assume that point $\\bf{a}$ is a minimum point and we move away a small step, then the function should increase.\n",
    "This implies that \n",
    "\n",
    "$$\\large {{\\Delta \\bf{x}}^T}({\\nabla ^2}f({\\bf{a}})){\\Delta \\bf{x}} >0 $$\n",
    "\n",
    "For this condition to be true requires that the Hessian matrix be positive definite.\n",
    "\n",
    "Note that a matrix $\\bf{A}$ is positive definite if for any vector $\\bf{z}$ :\n",
    "\n",
    "$$\\large \\bf{z^TAz}>0 $$\n",
    "Also a matrix $\\bf{A}$ is positive semidefinite if for any vector $\\bf{z}$ :\n",
    "\n",
    "$$\\large \\bf{z^TAz} \\geq 0 $$\n",
    "\n",
    "**Questions?**  How do we find out if a matrix is positive definite? \n",
    "\n",
    "**Answer:** If all the eigenvalues of the matrix are **greater than** zero then the matrix is positive definite.\n",
    "\n",
    "**Questions?**  How do we find out if a matrix is positive semidefinite? \n",
    "\n",
    "**Answer:** If all the eigenvalues of the matrix are **greater than or equal to** zero then the matrix is positive semidefinite.\n",
    "\n",
    "\n",
    "\n",
    "\n",
    "\n",
    "\n",
    "# Summary\n",
    "\n",
    "### The necessary conditions for a point $\\bf{a}$ to be either a strong or weak minimum point are:\n",
    "\n",
    "### $\\huge \\nabla f(\\bf{a})=\\bf{0}$  and                $\\huge {\\nabla ^2}f({\\bf{a}})$ to be positive semidefinite.\n",
    "\n",
    "### The sufficient conditions for a point $\\bf{a}$ to be a strong minimum point are:\n",
    "\n",
    "### $\\huge \\nabla f(\\bf{a})=\\bf{0}$  and $\\huge {\\nabla ^2}f({\\bf{a}})$ to be positive definite.\n",
    "\n",
    "\n",
    "\n",
    "\n"
   ]
  },
  {
   "cell_type": "markdown",
   "metadata": {},
   "source": [
    "## Example1\n",
    "The code below displays a surface with a saddle point. \n",
    "<h1 align=\"center\" style='background :yellow'>Surface Equation</h1>\n",
    "\n",
    "$$\\Huge F(X) = -0.25{x_1}^2 - 1.5{x_1}{x_2} - 0.25{x_2}^2$$\n",
    "\n",
    "### Notes:\n",
    "* The gradient of this function is zero at point (0,0). This means that the point (0,0) is a stationary point.\n",
    "* The Hessian of this surface is $ {\\nabla ^2}f({\\bf{\\bf{X}}})=  \\left[ {\\begin{array}{cc}\n",
    "   { - 0.5} & { - 1.5}  \\\\ \n",
    "   { - 1.5} & { - 0.5}  \\\\\n",
    "  \\end{array} } \\right]\n",
    "$\n",
    "* The eigenvectors are:  $  \\bf{z_1}=\\left[ {\\begin{array}{c}\n",
    "   { -1}   \\\\ \n",
    "   { 1}   \\\\\n",
    "  \\end{array} } \\right]\n",
    "$  and  $  \\bf{z_2}=\\left[ {\\begin{array}{c}\n",
    "   { -1}   \\\\ \n",
    "   { -1}   \\\\\n",
    "  \\end{array} } \\right]\n",
    "$ \n",
    "\n",
    "* The eigenvalues of the Hessian matrix for this surface are $\\lambda_1=1$  and $\\lambda_2=-2$.  This means that the stationary point is neither a strong minimum nor a weak minimum. This stationary point is a saddle point. \n"
   ]
  },
  {
   "cell_type": "code",
   "execution_count": 1,
   "metadata": {},
   "outputs": [
    {
     "data": {
      "application/vnd.jupyter.widget-view+json": {
       "model_id": "805b1a37e8c847f6baf75a1fdad3018a",
       "version_major": 2,
       "version_minor": 0
      },
      "text/plain": [
       "VBox(children=(Figure(camera=PerspectiveCamera(fov=46.0, position=(0.12325683343243866, -1.992389396183491, 0.…"
      ]
     },
     "metadata": {},
     "output_type": "display_data"
    }
   ],
   "source": [
    "import numpy as np\n",
    "import ipyvolume as ipv\n",
    "from matplotlib import cm\n",
    "colormap = cm.coolwarm\n",
    "z_lim=8\n",
    "a = np.arange(-2, 2,.02)\n",
    "X1, X2 = np.meshgrid(a, a)\n",
    "Z = -0.25*X1**2-1.5*X1*X2-0.25*X2**2\n",
    "Z[Z>=z_lim]=z_lim\n",
    "znorm = Z - Z.min()\n",
    "znorm /= znorm.ptp()\n",
    "v=np.array([X1,X2,Z])\n",
    "color = colormap(znorm)\n",
    "ipv.figure(width=800, height=600)\n",
    "ipv.plot_surface(X1, X2, Z, color=color[...,:3])\n",
    "x = np.array([0.0])\n",
    "y = np.array([0.0])\n",
    "z = np.array([0.0])\n",
    "ipv.scatter(x, y, z, marker='sphere', size=3)\n",
    "ipv.xlabel(\"x1\")\n",
    "ipv.ylabel(\"x2\")\n",
    "ipv.zlabel(\"F(X)\")\n",
    "ipv.view(45, -85, distance=2)\n",
    "ipv.zlim(-8,4)\n",
    "ipv.show()"
   ]
  },
  {
   "cell_type": "markdown",
   "metadata": {},
   "source": [
    "## Example2\n",
    "The code below displays a surface with a strong minima. \n",
    "<h1 align=\"center\" style='background :yellow'>Surface Equation</h1>\n",
    "\n",
    "$$\\Huge F(X) = {x_1}^2 +{x_1}{x_2}+{x_2}^2$$\n",
    "\n",
    "### Notes:\n",
    "* The gradient of this function is zero at point (0,0). This means that the point (0,0) is a stationary point.\n",
    "* The Hessian of this surface is $ {\\nabla ^2}f({\\bf{\\bf{X}}})=  \\left[ {\\begin{array}{cc}\n",
    "   { 2} & { 1}  \\\\ \n",
    "   { 1} & { 2}  \\\\\n",
    "  \\end{array} } \\right]\n",
    "$\n",
    "* The eigenvectors are:  $  \\bf{z_1}=\\left[ {\\begin{array}{c}\n",
    "   { 1}   \\\\ \n",
    "   { -1}   \\\\\n",
    "  \\end{array} } \\right]\n",
    "$  and  $  \\bf{z_2}=\\left[ {\\begin{array}{c}\n",
    "   { 1}   \\\\ \n",
    "   { 1}   \\\\\n",
    "  \\end{array} } \\right]\n",
    "$ \n",
    "\n",
    "* The eigenvalues of the Hessian matrix for this surface are $\\lambda_1=1$  and $\\lambda_2=3$.  Since both eigenvalues are positive at the point where gradient is zero, this point is a strong minimum.\n"
   ]
  },
  {
   "cell_type": "code",
   "execution_count": 2,
   "metadata": {},
   "outputs": [
    {
     "data": {
      "application/vnd.jupyter.widget-view+json": {
       "model_id": "8c12a4f6a9c7492597b12e012c883236",
       "version_major": 2,
       "version_minor": 0
      },
      "text/plain": [
       "VBox(children=(Figure(camera=PerspectiveCamera(fov=46.0, position=(0.12325683343243866, -1.992389396183491, 0.…"
      ]
     },
     "metadata": {},
     "output_type": "display_data"
    }
   ],
   "source": [
    "import numpy as np\n",
    "import ipyvolume as ipv\n",
    "from matplotlib import cm\n",
    "colormap = cm.coolwarm\n",
    "z_lim=6\n",
    "a = np.arange(-2, 2,.02)\n",
    "X1, X2 = np.meshgrid(a, a)\n",
    "Z = X1**2+X1*X2+X2**2\n",
    "Z[Z>=z_lim]=z_lim\n",
    "znorm = Z - Z.min()\n",
    "znorm /= znorm.ptp()\n",
    "v=np.array([X1,X2,Z])\n",
    "color = colormap(znorm)\n",
    "ipv.figure(width=800, height=600)\n",
    "# ipv.gcf()\n",
    "# ipv.plot_surface(X1, X2, Z, color=\"copper\")\n",
    "ipv.plot_surface(X1, X2, Z, color=color[...,:3])\n",
    "x = np.array([0.0])\n",
    "y = np.array([0.0])\n",
    "z = np.array([0.0])\n",
    "ipv.scatter(x, y, z, marker='sphere', size=5)\n",
    "# ipv.plot_wireframe(X1, X2, Z, color=\"orange\")\n",
    "# ipv.zlim(0,4)\n",
    "ipv.xlabel(\"x1\")\n",
    "ipv.ylabel(\"x2\")\n",
    "ipv.zlabel(\"F(X)\")\n",
    "ipv.view(45, -85, distance=2)\n",
    "ipv.show()"
   ]
  },
  {
   "cell_type": "markdown",
   "metadata": {},
   "source": [
    "## Example2\n",
    "The code below displays a surface with a strong minima. \n",
    "<h1 align=\"center\" style='background :yellow'>Surface Equation</h1>\n",
    "\n",
    "$$\\Huge F(X) = 0.5{x_1}^2 -{x_1}{x_2}+0.5{x_2}^2$$\n",
    "\n",
    "### Notes:\n",
    "* The gradient of this function is zero at point (0,0). This means that the point (0,0) is a stationary point.\n",
    "* The Hessian of this surface is $ {\\nabla ^2}f({\\bf{\\bf{X}}})=  \\left[ {\\begin{array}{cc}\n",
    "   { 1} & { -1}  \\\\ \n",
    "   { -1} & { 1}  \\\\\n",
    "  \\end{array} } \\right]\n",
    "$\n",
    "* The eigenvectors are:  $  \\bf{z_1}=\\left[ {\\begin{array}{c}\n",
    "   { 1}   \\\\ \n",
    "   { -1}   \\\\\n",
    "  \\end{array} } \\right]\n",
    "$  and  $  \\bf{z_2}=\\left[ {\\begin{array}{c}\n",
    "   { -1}   \\\\ \n",
    "   { -1}   \\\\\n",
    "  \\end{array} } \\right]\n",
    "$ \n",
    "\n",
    "* The eigenvalues of the Hessian matrix for this surface are $\\lambda_1=2$  and $\\lambda_2=0$.  Since the second eigenvalue is zero then the hessian matrix is positive semidefinite. This means that we have zero curvature in the direction of second eigenvector $\\bf{z_2}$ which means that the point (0,0) is a weak minima."
   ]
  },
  {
   "cell_type": "code",
   "execution_count": 3,
   "metadata": {},
   "outputs": [
    {
     "data": {
      "application/vnd.jupyter.widget-view+json": {
       "model_id": "a8ec5bb465e24f18a5bf0d66ed465a46",
       "version_major": 2,
       "version_minor": 0
      },
      "text/plain": [
       "VBox(children=(Figure(camera=PerspectiveCamera(fov=46.0, position=(0.12325683343243866, -1.992389396183491, 0.…"
      ]
     },
     "metadata": {},
     "output_type": "display_data"
    }
   ],
   "source": [
    "import numpy as np\n",
    "import ipyvolume as ipv\n",
    "from matplotlib import cm\n",
    "colormap = cm.coolwarm\n",
    "z_lim=6\n",
    "a = np.arange(-2, 2,.02)\n",
    "X1, X2 = np.meshgrid(a, a)\n",
    "Z = 0.5*X1**2-X1*X2+0.5*X2**2\n",
    "Z[Z>=z_lim]=z_lim\n",
    "znorm = Z - Z.min()\n",
    "znorm /= znorm.ptp()\n",
    "v=np.array([X1,X2,Z])\n",
    "color = colormap(znorm)\n",
    "ipv.figure(width=800, height=600)\n",
    "# ipv.gcf()\n",
    "# ipv.plot_surface(X1, X2, Z, color=\"copper\")\n",
    "ipv.plot_surface(X1, X2, Z, color=color[...,:3])\n",
    "x = np.array([0.0])\n",
    "y = np.array([0.0])\n",
    "z = np.array([0.0])\n",
    "ipv.scatter(x, y, z, marker='sphere', size=5)\n",
    "# ipv.plot_wireframe(X1, X2, Z, color=\"orange\")\n",
    "# ipv.zlim(0,4)\n",
    "ipv.xlabel(\"x1\")\n",
    "ipv.ylabel(\"x2\")\n",
    "ipv.zlabel(\"F(X)\")\n",
    "ipv.view(45, -85, distance=2)\n",
    "ipv.show()"
   ]
  }
 ],
 "metadata": {
  "hide_input": false,
  "kernelspec": {
   "display_name": "Python 3",
   "language": "python",
   "name": "python3"
  },
  "language_info": {
   "codemirror_mode": {
    "name": "ipython",
    "version": 3
   },
   "file_extension": ".py",
   "mimetype": "text/x-python",
   "name": "python",
   "nbconvert_exporter": "python",
   "pygments_lexer": "ipython3",
   "version": "3.7.3"
  },
  "varInspector": {
   "cols": {
    "lenName": 16,
    "lenType": 16,
    "lenVar": 40
   },
   "kernels_config": {
    "python": {
     "delete_cmd_postfix": "",
     "delete_cmd_prefix": "del ",
     "library": "var_list.py",
     "varRefreshCmd": "print(var_dic_list())"
    },
    "r": {
     "delete_cmd_postfix": ") ",
     "delete_cmd_prefix": "rm(",
     "library": "var_list.r",
     "varRefreshCmd": "cat(var_dic_list()) "
    }
   },
   "types_to_exclude": [
    "module",
    "function",
    "builtin_function_or_method",
    "instance",
    "_Feature"
   ],
   "window_display": false
  }
 },
 "nbformat": 4,
 "nbformat_minor": 2
}
