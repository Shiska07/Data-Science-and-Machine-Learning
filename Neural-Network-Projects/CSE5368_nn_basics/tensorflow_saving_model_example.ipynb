{
  "nbformat": 4,
  "nbformat_minor": 0,
  "metadata": {
    "colab": {
      "provenance": [],
      "collapsed_sections": [],
      "authorship_tag": "ABX9TyO4XO8uX6SHFJ3o6VdVPLq3",
      "include_colab_link": true
    },
    "kernelspec": {
      "name": "python3",
      "display_name": "Python 3"
    },
    "language_info": {
      "name": "python"
    }
  },
  "cells": [
    {
      "cell_type": "markdown",
      "metadata": {
        "id": "view-in-github",
        "colab_type": "text"
      },
      "source": [
        "<a href=\"https://colab.research.google.com/github/farhadkamangar/CSE5368/blob/master/tensorflow_saving_model_example.ipynb\" target=\"_parent\"><img src=\"https://colab.research.google.com/assets/colab-badge.svg\" alt=\"Open In Colab\"/></a>"
      ]
    },
    {
      "cell_type": "code",
      "execution_count": 19,
      "metadata": {
        "id": "QaCEGTiu9vo2",
        "outputId": "201ad0a6-641e-4e60-8213-5e937238e956",
        "colab": {
          "base_uri": "https://localhost:8080/"
        }
      },
      "outputs": [
        {
          "output_type": "stream",
          "name": "stdout",
          "text": [
            "The tensorboard extension is already loaded. To reload it, use:\n",
            "  %reload_ext tensorboard\n"
          ]
        }
      ],
      "source": [
        "import tensorflow as tf\n",
        "from datetime import datetime"
      ]
    },
    {
      "cell_type": "code",
      "source": [
        "class FlexibleDenseLayer(tf.Module):\n",
        "  def __init__(self, number_of_nodes, name=None):\n",
        "    super().__init__(name=name)\n",
        "    self.first_time=True\n",
        "    self.number_of_nodes=number_of_nodes\n",
        "  @tf.function  \n",
        "  def calculate_output(self, x):\n",
        "    if self.first_time:\n",
        "      self.w = tf.Variable(tf.random.normal([x.shape[-1], self.number_of_nodes]), name='weights')\n",
        "      self.b = tf.Variable(tf.zeros([self.number_of_nodes]), name='biases')\n",
        "      self.first_time=False\n",
        "    y = tf.matmul(x, self.w) + self.b\n",
        "    # return tf.nn.hard_tanh(y)\n",
        "    # return tf.nn.relu(y)\n",
        "    return y"
      ],
      "metadata": {
        "id": "tgwA1djO-rHq"
      },
      "execution_count": 21,
      "outputs": []
    },
    {
      "cell_type": "code",
      "source": [
        "class MultiLayer_NN(tf.Module):\n",
        "  def __init__(self, name=None):\n",
        "    super().__init__(name=name)\n",
        "\n",
        "    self.layer_1 = FlexibleDenseLayer(number_of_nodes=3)\n",
        "    self.layer_2 = FlexibleDenseLayer(number_of_nodes=5)\n",
        "  @tf.function\n",
        "  def predict(self, x):\n",
        "    x = self.layer_1.calculate_output(x)\n",
        "    return self.layer_2.calculate_output(x)\n",
        "\n",
        "my_model = MultiLayer_NN(name=\"the_model\")\n",
        "\n",
        "output_of_model=my_model.predict(tf.constant([[1.0, 2.0, 3.0]]))\n",
        "print(\"Model results:\", output_of_model)\n",
        "print(\"Weights \", my_model.layer_2.w)\n",
        "print(\"Submodules:\", my_model.submodules)\n",
        "for var in my_model.variables:\n",
        "  print(var, \"\\n\")"
      ],
      "metadata": {
        "colab": {
          "base_uri": "https://localhost:8080/"
        },
        "id": "1tAP58ldACAB",
        "outputId": "910a885c-0503-4c04-9e17-fb202ab8f9bc"
      },
      "execution_count": 22,
      "outputs": [
        {
          "output_type": "stream",
          "name": "stdout",
          "text": [
            "Model results: tf.Tensor([[-0.07391735  1.553375    0.93301284  1.0583192  -2.8184297 ]], shape=(1, 5), dtype=float32)\n",
            "Weights  <tf.Variable 'weights:0' shape=(3, 5) dtype=float32, numpy=\n",
            "array([[-1.2272114 , -1.2106657 ,  0.5175059 ,  0.48413256, -1.2170948 ],\n",
            "       [ 0.31798697,  0.95185465,  0.16022263,  1.6761829 , -2.250372  ],\n",
            "       [ 0.05292824,  1.7372127 ,  0.9420731 ,  0.34149462, -2.0420725 ]],\n",
            "      dtype=float32)>\n",
            "Submodules: (<__main__.FlexibleDenseLayer object at 0x7ffb3722a0d0>, <__main__.FlexibleDenseLayer object at 0x7ffb3722a450>)\n",
            "<tf.Variable 'biases:0' shape=(3,) dtype=float32, numpy=array([0., 0., 0.], dtype=float32)> \n",
            "\n",
            "<tf.Variable 'weights:0' shape=(3, 3) dtype=float32, numpy=\n",
            "array([[ 1.0808226 ,  0.66871613,  3.188913  ],\n",
            "       [ 0.1440099 ,  0.7798974 , -0.7055703 ],\n",
            "       [-0.38929355, -0.6067691 , -0.32240286]], dtype=float32)> \n",
            "\n",
            "<tf.Variable 'biases:0' shape=(5,) dtype=float32, numpy=array([0., 0., 0., 0., 0.], dtype=float32)> \n",
            "\n",
            "<tf.Variable 'weights:0' shape=(3, 5) dtype=float32, numpy=\n",
            "array([[-1.2272114 , -1.2106657 ,  0.5175059 ,  0.48413256, -1.2170948 ],\n",
            "       [ 0.31798697,  0.95185465,  0.16022263,  1.6761829 , -2.250372  ],\n",
            "       [ 0.05292824,  1.7372127 ,  0.9420731 ,  0.34149462, -2.0420725 ]],\n",
            "      dtype=float32)> \n",
            "\n"
          ]
        }
      ]
    },
    {
      "cell_type": "code",
      "source": [
        "tf.saved_model.save(my_model, \"saved_model_02\")"
      ],
      "metadata": {
        "id": "8YeD8scGfUp9"
      },
      "execution_count": 23,
      "outputs": []
    },
    {
      "cell_type": "code",
      "source": [
        "ls -l saved_model_02"
      ],
      "metadata": {
        "id": "YbRA9vFBf3m1",
        "outputId": "5663b898-bf9b-43f2-aaa7-2fa5c2092582",
        "colab": {
          "base_uri": "https://localhost:8080/"
        }
      },
      "execution_count": 24,
      "outputs": [
        {
          "output_type": "stream",
          "name": "stdout",
          "text": [
            "total 28\n",
            "drwxr-xr-x 2 root root  4096 Oct 18 00:35 \u001b[0m\u001b[01;34massets\u001b[0m/\n",
            "-rw-r--r-- 1 root root 16959 Oct 18 00:38 saved_model.pb\n",
            "drwxr-xr-x 2 root root  4096 Oct 18 00:38 \u001b[01;34mvariables\u001b[0m/\n"
          ]
        }
      ]
    },
    {
      "cell_type": "code",
      "source": [
        "ls -l saved_model_02/variables"
      ],
      "metadata": {
        "id": "g8b-cjcGgB7Z",
        "outputId": "536d7d05-d880-4b40-bfbc-428c22bfb10d",
        "colab": {
          "base_uri": "https://localhost:8080/"
        }
      },
      "execution_count": 25,
      "outputs": [
        {
          "output_type": "stream",
          "name": "stdout",
          "text": [
            "total 8\n",
            "-rw-r--r-- 1 root root 628 Oct 18 00:38 variables.data-00000-of-00001\n",
            "-rw-r--r-- 1 root root 357 Oct 18 00:38 variables.index\n"
          ]
        }
      ]
    },
    {
      "cell_type": "code",
      "source": [
        "my_model_02 = tf.saved_model.load(\"saved_model_02\")\n",
        "output_of_model=my_model_02.predict(tf.constant([[1.0, 2.0, 3.0]]))\n",
        "print(\"Model results:\", output_of_model)"
      ],
      "metadata": {
        "id": "idHfuwiAgQ_n",
        "outputId": "36a01f4e-d773-4f5e-f195-81792e091552",
        "colab": {
          "base_uri": "https://localhost:8080/"
        }
      },
      "execution_count": 26,
      "outputs": [
        {
          "output_type": "stream",
          "name": "stdout",
          "text": [
            "Model results: tf.Tensor([[-0.07391735  1.553375    0.93301284  1.0583192  -2.8184297 ]], shape=(1, 5), dtype=float32)\n"
          ]
        }
      ]
    }
  ]
}