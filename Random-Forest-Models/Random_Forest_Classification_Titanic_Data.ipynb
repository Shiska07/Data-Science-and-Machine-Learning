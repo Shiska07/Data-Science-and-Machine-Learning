{
 "cells": [
  {
   "cell_type": "code",
   "execution_count": 60,
   "metadata": {},
   "outputs": [],
   "source": [
    "#importing libraries\n",
    "\n",
    "import numpy as np\n",
    "import pandas as pd\n",
    "import matplotlib.pyplot as plt\n",
    "import seaborn as sns\n",
    "%matplotlib inline"
   ]
  },
  {
   "cell_type": "code",
   "execution_count": 61,
   "metadata": {},
   "outputs": [],
   "source": [
    "# reading test and training data\n",
    "\n",
    "train = pd.read_csv('..\\\\..\\\\Data\\\\titanic_train.csv')\n",
    "test = pd.read_csv('..\\\\..\\\\Data\\\\titanic_test.csv')"
   ]
  },
  {
   "cell_type": "code",
   "execution_count": 62,
   "metadata": {},
   "outputs": [
    {
     "data": {
      "text/html": [
       "<div>\n",
       "<style scoped>\n",
       "    .dataframe tbody tr th:only-of-type {\n",
       "        vertical-align: middle;\n",
       "    }\n",
       "\n",
       "    .dataframe tbody tr th {\n",
       "        vertical-align: top;\n",
       "    }\n",
       "\n",
       "    .dataframe thead th {\n",
       "        text-align: right;\n",
       "    }\n",
       "</style>\n",
       "<table border=\"1\" class=\"dataframe\">\n",
       "  <thead>\n",
       "    <tr style=\"text-align: right;\">\n",
       "      <th></th>\n",
       "      <th>PassengerId</th>\n",
       "      <th>Survived</th>\n",
       "      <th>Pclass</th>\n",
       "      <th>Name</th>\n",
       "      <th>Sex</th>\n",
       "      <th>Age</th>\n",
       "      <th>SibSp</th>\n",
       "      <th>Parch</th>\n",
       "      <th>Ticket</th>\n",
       "      <th>Fare</th>\n",
       "      <th>Cabin</th>\n",
       "      <th>Embarked</th>\n",
       "    </tr>\n",
       "  </thead>\n",
       "  <tbody>\n",
       "    <tr>\n",
       "      <th>0</th>\n",
       "      <td>1</td>\n",
       "      <td>0</td>\n",
       "      <td>3</td>\n",
       "      <td>Braund, Mr. Owen Harris</td>\n",
       "      <td>male</td>\n",
       "      <td>22.0</td>\n",
       "      <td>1</td>\n",
       "      <td>0</td>\n",
       "      <td>A/5 21171</td>\n",
       "      <td>7.2500</td>\n",
       "      <td>NaN</td>\n",
       "      <td>S</td>\n",
       "    </tr>\n",
       "    <tr>\n",
       "      <th>1</th>\n",
       "      <td>2</td>\n",
       "      <td>1</td>\n",
       "      <td>1</td>\n",
       "      <td>Cumings, Mrs. John Bradley (Florence Briggs Th...</td>\n",
       "      <td>female</td>\n",
       "      <td>38.0</td>\n",
       "      <td>1</td>\n",
       "      <td>0</td>\n",
       "      <td>PC 17599</td>\n",
       "      <td>71.2833</td>\n",
       "      <td>C85</td>\n",
       "      <td>C</td>\n",
       "    </tr>\n",
       "    <tr>\n",
       "      <th>2</th>\n",
       "      <td>3</td>\n",
       "      <td>1</td>\n",
       "      <td>3</td>\n",
       "      <td>Heikkinen, Miss. Laina</td>\n",
       "      <td>female</td>\n",
       "      <td>26.0</td>\n",
       "      <td>0</td>\n",
       "      <td>0</td>\n",
       "      <td>STON/O2. 3101282</td>\n",
       "      <td>7.9250</td>\n",
       "      <td>NaN</td>\n",
       "      <td>S</td>\n",
       "    </tr>\n",
       "    <tr>\n",
       "      <th>3</th>\n",
       "      <td>4</td>\n",
       "      <td>1</td>\n",
       "      <td>1</td>\n",
       "      <td>Futrelle, Mrs. Jacques Heath (Lily May Peel)</td>\n",
       "      <td>female</td>\n",
       "      <td>35.0</td>\n",
       "      <td>1</td>\n",
       "      <td>0</td>\n",
       "      <td>113803</td>\n",
       "      <td>53.1000</td>\n",
       "      <td>C123</td>\n",
       "      <td>S</td>\n",
       "    </tr>\n",
       "    <tr>\n",
       "      <th>4</th>\n",
       "      <td>5</td>\n",
       "      <td>0</td>\n",
       "      <td>3</td>\n",
       "      <td>Allen, Mr. William Henry</td>\n",
       "      <td>male</td>\n",
       "      <td>35.0</td>\n",
       "      <td>0</td>\n",
       "      <td>0</td>\n",
       "      <td>373450</td>\n",
       "      <td>8.0500</td>\n",
       "      <td>NaN</td>\n",
       "      <td>S</td>\n",
       "    </tr>\n",
       "  </tbody>\n",
       "</table>\n",
       "</div>"
      ],
      "text/plain": [
       "   PassengerId  Survived  Pclass  \\\n",
       "0            1         0       3   \n",
       "1            2         1       1   \n",
       "2            3         1       3   \n",
       "3            4         1       1   \n",
       "4            5         0       3   \n",
       "\n",
       "                                                Name     Sex   Age  SibSp  \\\n",
       "0                            Braund, Mr. Owen Harris    male  22.0      1   \n",
       "1  Cumings, Mrs. John Bradley (Florence Briggs Th...  female  38.0      1   \n",
       "2                             Heikkinen, Miss. Laina  female  26.0      0   \n",
       "3       Futrelle, Mrs. Jacques Heath (Lily May Peel)  female  35.0      1   \n",
       "4                           Allen, Mr. William Henry    male  35.0      0   \n",
       "\n",
       "   Parch            Ticket     Fare Cabin Embarked  \n",
       "0      0         A/5 21171   7.2500   NaN        S  \n",
       "1      0          PC 17599  71.2833   C85        C  \n",
       "2      0  STON/O2. 3101282   7.9250   NaN        S  \n",
       "3      0            113803  53.1000  C123        S  \n",
       "4      0            373450   8.0500   NaN        S  "
      ]
     },
     "execution_count": 62,
     "metadata": {},
     "output_type": "execute_result"
    }
   ],
   "source": [
    "train.head()"
   ]
  },
  {
   "cell_type": "code",
   "execution_count": 63,
   "metadata": {},
   "outputs": [
    {
     "name": "stdout",
     "output_type": "stream",
     "text": [
      "<class 'pandas.core.frame.DataFrame'>\n",
      "RangeIndex: 891 entries, 0 to 890\n",
      "Data columns (total 12 columns):\n",
      " #   Column       Non-Null Count  Dtype  \n",
      "---  ------       --------------  -----  \n",
      " 0   PassengerId  891 non-null    int64  \n",
      " 1   Survived     891 non-null    int64  \n",
      " 2   Pclass       891 non-null    int64  \n",
      " 3   Name         891 non-null    object \n",
      " 4   Sex          891 non-null    object \n",
      " 5   Age          714 non-null    float64\n",
      " 6   SibSp        891 non-null    int64  \n",
      " 7   Parch        891 non-null    int64  \n",
      " 8   Ticket       891 non-null    object \n",
      " 9   Fare         891 non-null    float64\n",
      " 10  Cabin        204 non-null    object \n",
      " 11  Embarked     889 non-null    object \n",
      "dtypes: float64(2), int64(5), object(5)\n",
      "memory usage: 83.7+ KB\n"
     ]
    }
   ],
   "source": [
    "train.info()"
   ]
  },
  {
   "cell_type": "code",
   "execution_count": 64,
   "metadata": {},
   "outputs": [
    {
     "data": {
      "text/html": [
       "<div>\n",
       "<style scoped>\n",
       "    .dataframe tbody tr th:only-of-type {\n",
       "        vertical-align: middle;\n",
       "    }\n",
       "\n",
       "    .dataframe tbody tr th {\n",
       "        vertical-align: top;\n",
       "    }\n",
       "\n",
       "    .dataframe thead th {\n",
       "        text-align: right;\n",
       "    }\n",
       "</style>\n",
       "<table border=\"1\" class=\"dataframe\">\n",
       "  <thead>\n",
       "    <tr style=\"text-align: right;\">\n",
       "      <th></th>\n",
       "      <th>PassengerId</th>\n",
       "      <th>Pclass</th>\n",
       "      <th>Name</th>\n",
       "      <th>Sex</th>\n",
       "      <th>Age</th>\n",
       "      <th>SibSp</th>\n",
       "      <th>Parch</th>\n",
       "      <th>Ticket</th>\n",
       "      <th>Fare</th>\n",
       "      <th>Cabin</th>\n",
       "      <th>Embarked</th>\n",
       "    </tr>\n",
       "  </thead>\n",
       "  <tbody>\n",
       "    <tr>\n",
       "      <th>0</th>\n",
       "      <td>892</td>\n",
       "      <td>3</td>\n",
       "      <td>Kelly, Mr. James</td>\n",
       "      <td>male</td>\n",
       "      <td>34.5</td>\n",
       "      <td>0</td>\n",
       "      <td>0</td>\n",
       "      <td>330911</td>\n",
       "      <td>7.8292</td>\n",
       "      <td>NaN</td>\n",
       "      <td>Q</td>\n",
       "    </tr>\n",
       "    <tr>\n",
       "      <th>1</th>\n",
       "      <td>893</td>\n",
       "      <td>3</td>\n",
       "      <td>Wilkes, Mrs. James (Ellen Needs)</td>\n",
       "      <td>female</td>\n",
       "      <td>47.0</td>\n",
       "      <td>1</td>\n",
       "      <td>0</td>\n",
       "      <td>363272</td>\n",
       "      <td>7.0000</td>\n",
       "      <td>NaN</td>\n",
       "      <td>S</td>\n",
       "    </tr>\n",
       "    <tr>\n",
       "      <th>2</th>\n",
       "      <td>894</td>\n",
       "      <td>2</td>\n",
       "      <td>Myles, Mr. Thomas Francis</td>\n",
       "      <td>male</td>\n",
       "      <td>62.0</td>\n",
       "      <td>0</td>\n",
       "      <td>0</td>\n",
       "      <td>240276</td>\n",
       "      <td>9.6875</td>\n",
       "      <td>NaN</td>\n",
       "      <td>Q</td>\n",
       "    </tr>\n",
       "    <tr>\n",
       "      <th>3</th>\n",
       "      <td>895</td>\n",
       "      <td>3</td>\n",
       "      <td>Wirz, Mr. Albert</td>\n",
       "      <td>male</td>\n",
       "      <td>27.0</td>\n",
       "      <td>0</td>\n",
       "      <td>0</td>\n",
       "      <td>315154</td>\n",
       "      <td>8.6625</td>\n",
       "      <td>NaN</td>\n",
       "      <td>S</td>\n",
       "    </tr>\n",
       "    <tr>\n",
       "      <th>4</th>\n",
       "      <td>896</td>\n",
       "      <td>3</td>\n",
       "      <td>Hirvonen, Mrs. Alexander (Helga E Lindqvist)</td>\n",
       "      <td>female</td>\n",
       "      <td>22.0</td>\n",
       "      <td>1</td>\n",
       "      <td>1</td>\n",
       "      <td>3101298</td>\n",
       "      <td>12.2875</td>\n",
       "      <td>NaN</td>\n",
       "      <td>S</td>\n",
       "    </tr>\n",
       "  </tbody>\n",
       "</table>\n",
       "</div>"
      ],
      "text/plain": [
       "   PassengerId  Pclass                                          Name     Sex  \\\n",
       "0          892       3                              Kelly, Mr. James    male   \n",
       "1          893       3              Wilkes, Mrs. James (Ellen Needs)  female   \n",
       "2          894       2                     Myles, Mr. Thomas Francis    male   \n",
       "3          895       3                              Wirz, Mr. Albert    male   \n",
       "4          896       3  Hirvonen, Mrs. Alexander (Helga E Lindqvist)  female   \n",
       "\n",
       "    Age  SibSp  Parch   Ticket     Fare Cabin Embarked  \n",
       "0  34.5      0      0   330911   7.8292   NaN        Q  \n",
       "1  47.0      1      0   363272   7.0000   NaN        S  \n",
       "2  62.0      0      0   240276   9.6875   NaN        Q  \n",
       "3  27.0      0      0   315154   8.6625   NaN        S  \n",
       "4  22.0      1      1  3101298  12.2875   NaN        S  "
      ]
     },
     "execution_count": 64,
     "metadata": {},
     "output_type": "execute_result"
    }
   ],
   "source": [
    "test.head()"
   ]
  },
  {
   "cell_type": "code",
   "execution_count": 65,
   "metadata": {},
   "outputs": [
    {
     "data": {
      "text/plain": [
       "<AxesSubplot:xlabel='Survived', ylabel='count'>"
      ]
     },
     "execution_count": 65,
     "metadata": {},
     "output_type": "execute_result"
    },
    {
     "data": {
      "image/png": "[encoded data removed]",
      "text/plain": [
       "<Figure size 432x288 with 1 Axes>"
      ]
     },
     "metadata": {
      "needs_background": "light"
     },
     "output_type": "display_data"
    }
   ],
   "source": [
    "sns.countplot(x = 'Survived', data = train)"
   ]
  },
  {
   "cell_type": "code",
   "execution_count": 66,
   "metadata": {},
   "outputs": [],
   "source": [
    "#saving test data index for writing final file\n",
    "\n",
    "Final_Index = test['PassengerId']"
   ]
  },
  {
   "cell_type": "code",
   "execution_count": 67,
   "metadata": {},
   "outputs": [
    {
     "data": {
      "text/plain": [
       "<AxesSubplot:>"
      ]
     },
     "execution_count": 67,
     "metadata": {},
     "output_type": "execute_result"
    },
    {
     "data": {
      "image/png": "[encoded data removed]",
      "text/plain": [
       "<Figure size 432x288 with 2 Axes>"
      ]
     },
     "metadata": {
      "needs_background": "light"
     },
     "output_type": "display_data"
    }
   ],
   "source": [
    "#checking for null values\n",
    "\n",
    "sns.heatmap(train.isnull(),yticklabels = False)"
   ]
  },
  {
   "cell_type": "code",
   "execution_count": 68,
   "metadata": {},
   "outputs": [
    {
     "data": {
      "text/plain": [
       "PassengerId      0\n",
       "Survived         0\n",
       "Pclass           0\n",
       "Name             0\n",
       "Sex              0\n",
       "Age            177\n",
       "SibSp            0\n",
       "Parch            0\n",
       "Ticket           0\n",
       "Fare             0\n",
       "Cabin          687\n",
       "Embarked         2\n",
       "dtype: int64"
      ]
     },
     "execution_count": 68,
     "metadata": {},
     "output_type": "execute_result"
    }
   ],
   "source": [
    "train.isnull().sum()"
   ]
  },
  {
   "cell_type": "code",
   "execution_count": 69,
   "metadata": {},
   "outputs": [
    {
     "data": {
      "text/plain": [
       "<AxesSubplot:>"
      ]
     },
     "execution_count": 69,
     "metadata": {},
     "output_type": "execute_result"
    },
    {
     "data": {
      "image/png": "[encoded data removed]",
      "text/plain": [
       "<Figure size 432x288 with 2 Axes>"
      ]
     },
     "metadata": {
      "needs_background": "light"
     },
     "output_type": "display_data"
    }
   ],
   "source": [
    "sns.heatmap(test.isnull(),yticklabels = False)"
   ]
  },
  {
   "cell_type": "code",
   "execution_count": 70,
   "metadata": {},
   "outputs": [
    {
     "data": {
      "text/plain": [
       "PassengerId      0\n",
       "Pclass           0\n",
       "Name             0\n",
       "Sex              0\n",
       "Age             86\n",
       "SibSp            0\n",
       "Parch            0\n",
       "Ticket           0\n",
       "Fare             1\n",
       "Cabin          327\n",
       "Embarked         0\n",
       "dtype: int64"
      ]
     },
     "execution_count": 70,
     "metadata": {},
     "output_type": "execute_result"
    }
   ],
   "source": [
    "test.isnull().sum()"
   ]
  },
  {
   "cell_type": "markdown",
   "metadata": {},
   "source": [
    "Since there are a lof of missing values for 'Cabin', we will drop this column later. The next biggest attibute with missing values is 'Age', since there aren't a lot of missing values for this column we will look at the correlaton between different arributes and replace the missing values instead of dropping them."
   ]
  },
  {
   "cell_type": "code",
   "execution_count": 71,
   "metadata": {},
   "outputs": [
    {
     "data": {
      "text/plain": [
       "PassengerId    0.036847\n",
       "Survived      -0.077221\n",
       "Pclass        -0.369226\n",
       "Age            1.000000\n",
       "SibSp         -0.308247\n",
       "Parch         -0.189119\n",
       "Fare           0.096067\n",
       "Name: Age, dtype: float64"
      ]
     },
     "execution_count": 71,
     "metadata": {},
     "output_type": "execute_result"
    }
   ],
   "source": [
    "train.corr()['Age']"
   ]
  },
  {
   "cell_type": "code",
   "execution_count": 74,
   "metadata": {},
   "outputs": [
    {
     "data": {
      "text/plain": [
       "<AxesSubplot:xlabel='Age', ylabel='Count'>"
      ]
     },
     "execution_count": 74,
     "metadata": {},
     "output_type": "execute_result"
    },
    {
     "data": {
      "image/png": "[encoded data removed]",
      "text/plain": [
       "<Figure size 432x288 with 1 Axes>"
      ]
     },
     "metadata": {
      "needs_background": "light"
     },
     "output_type": "display_data"
    }
   ],
   "source": [
    "sns.histplot(train[train['Sex'] == 'male']['Age'], kde = True)"
   ]
  },
  {
   "cell_type": "code",
   "execution_count": 75,
   "metadata": {},
   "outputs": [
    {
     "data": {
      "text/plain": [
       "<AxesSubplot:xlabel='Age', ylabel='Count'>"
      ]
     },
     "execution_count": 75,
     "metadata": {},
     "output_type": "execute_result"
    },
    {
     "data": {
      "image/png": "[encoded data removed]",
      "text/plain": [
       "<Figure size 432x288 with 1 Axes>"
      ]
     },
     "metadata": {
      "needs_background": "light"
     },
     "output_type": "display_data"
    }
   ],
   "source": [
    "sns.histplot(train[train['Sex'] == 'female']['Age'], kde = True)"
   ]
  },
  {
   "cell_type": "code",
   "execution_count": 76,
   "metadata": {},
   "outputs": [
    {
     "data": {
      "text/plain": [
       "Sex\n",
       "female    0.206097\n",
       "male      0.475318\n",
       "Name: Age, dtype: float64"
      ]
     },
     "execution_count": 76,
     "metadata": {},
     "output_type": "execute_result"
    }
   ],
   "source": [
    "train.groupby('Sex').skew()['Age']"
   ]
  },
  {
   "cell_type": "code",
   "execution_count": 77,
   "metadata": {},
   "outputs": [
    {
     "name": "stdout",
     "output_type": "stream",
     "text": [
      "Sex\n",
      "female    27.915709\n",
      "male      30.726645\n",
      "Name: Age, dtype: float64\n",
      "Sex\n",
      "female    27.0\n",
      "male      29.0\n",
      "Name: Age, dtype: float64\n"
     ]
    }
   ],
   "source": [
    "print(train.groupby('Sex').mean()['Age'])\n",
    "print(train.groupby('Sex').median()['Age'])"
   ]
  },
  {
   "cell_type": "code",
   "execution_count": 78,
   "metadata": {},
   "outputs": [],
   "source": [
    "# We will use the mean to replace values for females and median for the mailes because the dist seems to be more skewed\n",
    "\n",
    "def replace_age(df):\n",
    "    sex = df[1]\n",
    "    age = df[0]\n",
    "    if pd.isnull(age):\n",
    "        if sex == 'male': return 29\n",
    "        else: return 28\n",
    "    else: return age"
   ]
  },
  {
   "cell_type": "code",
   "execution_count": 79,
   "metadata": {},
   "outputs": [],
   "source": [
    "#applying function to fill null values\n",
    "\n",
    "train['Age'] = train[['Age','Sex']].apply(replace_age, axis = 1)\n",
    "test['Age'] = test[['Age','Sex']].apply(replace_age, axis = 1)"
   ]
  },
  {
   "cell_type": "code",
   "execution_count": 80,
   "metadata": {},
   "outputs": [
    {
     "name": "stdout",
     "output_type": "stream",
     "text": [
      "Train data:\n",
      " PassengerId      0\n",
      "Survived         0\n",
      "Pclass           0\n",
      "Name             0\n",
      "Sex              0\n",
      "Age              0\n",
      "SibSp            0\n",
      "Parch            0\n",
      "Ticket           0\n",
      "Fare             0\n",
      "Cabin          687\n",
      "Embarked         2\n",
      "dtype: int64 \n",
      "\n",
      "Test Data\n",
      "PassengerId      0\n",
      "Pclass           0\n",
      "Name             0\n",
      "Sex              0\n",
      "Age              0\n",
      "SibSp            0\n",
      "Parch            0\n",
      "Ticket           0\n",
      "Fare             1\n",
      "Cabin          327\n",
      "Embarked         0\n",
      "dtype: int64\n"
     ]
    }
   ],
   "source": [
    "print(\"Train data:\\n\",train.isnull().sum(),\"\\n\\nTest Data\")\n",
    "print(test.isnull().sum())"
   ]
  },
  {
   "cell_type": "code",
   "execution_count": 81,
   "metadata": {},
   "outputs": [
    {
     "data": {
      "text/plain": [
       "152    3\n",
       "Name: Pclass, dtype: int64"
      ]
     },
     "execution_count": 81,
     "metadata": {},
     "output_type": "execute_result"
    }
   ],
   "source": [
    "# check the Pclass of the missing fare value in test data\n",
    "test[test['Fare'].isnull()]['Pclass']"
   ]
  },
  {
   "cell_type": "code",
   "execution_count": 82,
   "metadata": {},
   "outputs": [],
   "source": [
    "#finding average fare for null value\n",
    "\n",
    "av_fare = test[test['Pclass'] == 3]['Fare'].mean()"
   ]
  },
  {
   "cell_type": "code",
   "execution_count": 83,
   "metadata": {},
   "outputs": [],
   "source": [
    "test['Fare'].fillna(value = av_fare, inplace = True)"
   ]
  },
  {
   "cell_type": "code",
   "execution_count": 84,
   "metadata": {},
   "outputs": [
    {
     "name": "stdout",
     "output_type": "stream",
     "text": [
      "PassengerId      0\n",
      "Pclass           0\n",
      "Name             0\n",
      "Sex              0\n",
      "Age              0\n",
      "SibSp            0\n",
      "Parch            0\n",
      "Ticket           0\n",
      "Fare             0\n",
      "Cabin          327\n",
      "Embarked         0\n",
      "dtype: int64\n"
     ]
    }
   ],
   "source": [
    "print(test.isnull().sum())"
   ]
  },
  {
   "cell_type": "code",
   "execution_count": 85,
   "metadata": {},
   "outputs": [
    {
     "data": {
      "text/html": [
       "<div>\n",
       "<style scoped>\n",
       "    .dataframe tbody tr th:only-of-type {\n",
       "        vertical-align: middle;\n",
       "    }\n",
       "\n",
       "    .dataframe tbody tr th {\n",
       "        vertical-align: top;\n",
       "    }\n",
       "\n",
       "    .dataframe thead th {\n",
       "        text-align: right;\n",
       "    }\n",
       "</style>\n",
       "<table border=\"1\" class=\"dataframe\">\n",
       "  <thead>\n",
       "    <tr style=\"text-align: right;\">\n",
       "      <th></th>\n",
       "      <th>PassengerId</th>\n",
       "      <th>Survived</th>\n",
       "      <th>Pclass</th>\n",
       "      <th>Name</th>\n",
       "      <th>Sex</th>\n",
       "      <th>Age</th>\n",
       "      <th>SibSp</th>\n",
       "      <th>Parch</th>\n",
       "      <th>Ticket</th>\n",
       "      <th>Fare</th>\n",
       "      <th>Cabin</th>\n",
       "      <th>Embarked</th>\n",
       "    </tr>\n",
       "  </thead>\n",
       "  <tbody>\n",
       "    <tr>\n",
       "      <th>0</th>\n",
       "      <td>1</td>\n",
       "      <td>0</td>\n",
       "      <td>3</td>\n",
       "      <td>Braund, Mr. Owen Harris</td>\n",
       "      <td>male</td>\n",
       "      <td>22.0</td>\n",
       "      <td>1</td>\n",
       "      <td>0</td>\n",
       "      <td>A/5 21171</td>\n",
       "      <td>7.2500</td>\n",
       "      <td>NaN</td>\n",
       "      <td>S</td>\n",
       "    </tr>\n",
       "    <tr>\n",
       "      <th>1</th>\n",
       "      <td>2</td>\n",
       "      <td>1</td>\n",
       "      <td>1</td>\n",
       "      <td>Cumings, Mrs. John Bradley (Florence Briggs Th...</td>\n",
       "      <td>female</td>\n",
       "      <td>38.0</td>\n",
       "      <td>1</td>\n",
       "      <td>0</td>\n",
       "      <td>PC 17599</td>\n",
       "      <td>71.2833</td>\n",
       "      <td>C85</td>\n",
       "      <td>C</td>\n",
       "    </tr>\n",
       "    <tr>\n",
       "      <th>2</th>\n",
       "      <td>3</td>\n",
       "      <td>1</td>\n",
       "      <td>3</td>\n",
       "      <td>Heikkinen, Miss. Laina</td>\n",
       "      <td>female</td>\n",
       "      <td>26.0</td>\n",
       "      <td>0</td>\n",
       "      <td>0</td>\n",
       "      <td>STON/O2. 3101282</td>\n",
       "      <td>7.9250</td>\n",
       "      <td>NaN</td>\n",
       "      <td>S</td>\n",
       "    </tr>\n",
       "    <tr>\n",
       "      <th>3</th>\n",
       "      <td>4</td>\n",
       "      <td>1</td>\n",
       "      <td>1</td>\n",
       "      <td>Futrelle, Mrs. Jacques Heath (Lily May Peel)</td>\n",
       "      <td>female</td>\n",
       "      <td>35.0</td>\n",
       "      <td>1</td>\n",
       "      <td>0</td>\n",
       "      <td>113803</td>\n",
       "      <td>53.1000</td>\n",
       "      <td>C123</td>\n",
       "      <td>S</td>\n",
       "    </tr>\n",
       "    <tr>\n",
       "      <th>4</th>\n",
       "      <td>5</td>\n",
       "      <td>0</td>\n",
       "      <td>3</td>\n",
       "      <td>Allen, Mr. William Henry</td>\n",
       "      <td>male</td>\n",
       "      <td>35.0</td>\n",
       "      <td>0</td>\n",
       "      <td>0</td>\n",
       "      <td>373450</td>\n",
       "      <td>8.0500</td>\n",
       "      <td>NaN</td>\n",
       "      <td>S</td>\n",
       "    </tr>\n",
       "  </tbody>\n",
       "</table>\n",
       "</div>"
      ],
      "text/plain": [
       "   PassengerId  Survived  Pclass  \\\n",
       "0            1         0       3   \n",
       "1            2         1       1   \n",
       "2            3         1       3   \n",
       "3            4         1       1   \n",
       "4            5         0       3   \n",
       "\n",
       "                                                Name     Sex   Age  SibSp  \\\n",
       "0                            Braund, Mr. Owen Harris    male  22.0      1   \n",
       "1  Cumings, Mrs. John Bradley (Florence Briggs Th...  female  38.0      1   \n",
       "2                             Heikkinen, Miss. Laina  female  26.0      0   \n",
       "3       Futrelle, Mrs. Jacques Heath (Lily May Peel)  female  35.0      1   \n",
       "4                           Allen, Mr. William Henry    male  35.0      0   \n",
       "\n",
       "   Parch            Ticket     Fare Cabin Embarked  \n",
       "0      0         A/5 21171   7.2500   NaN        S  \n",
       "1      0          PC 17599  71.2833   C85        C  \n",
       "2      0  STON/O2. 3101282   7.9250   NaN        S  \n",
       "3      0            113803  53.1000  C123        S  \n",
       "4      0            373450   8.0500   NaN        S  "
      ]
     },
     "execution_count": 85,
     "metadata": {},
     "output_type": "execute_result"
    }
   ],
   "source": [
    " train.head()"
   ]
  },
  {
   "cell_type": "code",
   "execution_count": 86,
   "metadata": {},
   "outputs": [],
   "source": [
    "#dropping unwaned columns that will not play a role for prediction\n",
    "\n",
    "train.drop(['Cabin','PassengerId','Ticket','Name'], inplace = True, axis = 1)\n",
    "test.drop(['Cabin','PassengerId','Ticket','Name'], inplace = True, axis = 1)"
   ]
  },
  {
   "cell_type": "code",
   "execution_count": 87,
   "metadata": {},
   "outputs": [
    {
     "data": {
      "text/html": [
       "<div>\n",
       "<style scoped>\n",
       "    .dataframe tbody tr th:only-of-type {\n",
       "        vertical-align: middle;\n",
       "    }\n",
       "\n",
       "    .dataframe tbody tr th {\n",
       "        vertical-align: top;\n",
       "    }\n",
       "\n",
       "    .dataframe thead th {\n",
       "        text-align: right;\n",
       "    }\n",
       "</style>\n",
       "<table border=\"1\" class=\"dataframe\">\n",
       "  <thead>\n",
       "    <tr style=\"text-align: right;\">\n",
       "      <th></th>\n",
       "      <th>Survived</th>\n",
       "      <th>Pclass</th>\n",
       "      <th>Sex</th>\n",
       "      <th>Age</th>\n",
       "      <th>SibSp</th>\n",
       "      <th>Parch</th>\n",
       "      <th>Fare</th>\n",
       "      <th>Embarked</th>\n",
       "    </tr>\n",
       "  </thead>\n",
       "  <tbody>\n",
       "    <tr>\n",
       "      <th>0</th>\n",
       "      <td>0</td>\n",
       "      <td>3</td>\n",
       "      <td>male</td>\n",
       "      <td>22.0</td>\n",
       "      <td>1</td>\n",
       "      <td>0</td>\n",
       "      <td>7.2500</td>\n",
       "      <td>S</td>\n",
       "    </tr>\n",
       "    <tr>\n",
       "      <th>1</th>\n",
       "      <td>1</td>\n",
       "      <td>1</td>\n",
       "      <td>female</td>\n",
       "      <td>38.0</td>\n",
       "      <td>1</td>\n",
       "      <td>0</td>\n",
       "      <td>71.2833</td>\n",
       "      <td>C</td>\n",
       "    </tr>\n",
       "    <tr>\n",
       "      <th>2</th>\n",
       "      <td>1</td>\n",
       "      <td>3</td>\n",
       "      <td>female</td>\n",
       "      <td>26.0</td>\n",
       "      <td>0</td>\n",
       "      <td>0</td>\n",
       "      <td>7.9250</td>\n",
       "      <td>S</td>\n",
       "    </tr>\n",
       "    <tr>\n",
       "      <th>3</th>\n",
       "      <td>1</td>\n",
       "      <td>1</td>\n",
       "      <td>female</td>\n",
       "      <td>35.0</td>\n",
       "      <td>1</td>\n",
       "      <td>0</td>\n",
       "      <td>53.1000</td>\n",
       "      <td>S</td>\n",
       "    </tr>\n",
       "    <tr>\n",
       "      <th>4</th>\n",
       "      <td>0</td>\n",
       "      <td>3</td>\n",
       "      <td>male</td>\n",
       "      <td>35.0</td>\n",
       "      <td>0</td>\n",
       "      <td>0</td>\n",
       "      <td>8.0500</td>\n",
       "      <td>S</td>\n",
       "    </tr>\n",
       "  </tbody>\n",
       "</table>\n",
       "</div>"
      ],
      "text/plain": [
       "   Survived  Pclass     Sex   Age  SibSp  Parch     Fare Embarked\n",
       "0         0       3    male  22.0      1      0   7.2500        S\n",
       "1         1       1  female  38.0      1      0  71.2833        C\n",
       "2         1       3  female  26.0      0      0   7.9250        S\n",
       "3         1       1  female  35.0      1      0  53.1000        S\n",
       "4         0       3    male  35.0      0      0   8.0500        S"
      ]
     },
     "execution_count": 87,
     "metadata": {},
     "output_type": "execute_result"
    }
   ],
   "source": [
    "train.head()"
   ]
  },
  {
   "cell_type": "code",
   "execution_count": 88,
   "metadata": {},
   "outputs": [],
   "source": [
    "#get dummy values for important categorical data\n",
    "\n",
    "sex = pd.get_dummies(train['Sex'], drop_first = True)\n",
    "embark = pd.get_dummies(train['Embarked'], drop_first = True)\n",
    "pclass = pd.get_dummies(train['Pclass'], drop_first = True)"
   ]
  },
  {
   "cell_type": "code",
   "execution_count": 89,
   "metadata": {},
   "outputs": [],
   "source": [
    "#concatenate with original dataframe\n",
    "train = pd.concat([train,sex,embark,pclass], axis = 1)"
   ]
  },
  {
   "cell_type": "code",
   "execution_count": 90,
   "metadata": {},
   "outputs": [],
   "source": [
    "#do the same for test dataset\n",
    "\n",
    "sex = pd.get_dummies(test['Sex'], drop_first = True)\n",
    "embark = pd.get_dummies(test['Embarked'], drop_first = True)\n",
    "pclass = pd.get_dummies(test['Pclass'], drop_first = True)"
   ]
  },
  {
   "cell_type": "code",
   "execution_count": 91,
   "metadata": {},
   "outputs": [],
   "source": [
    "#concatenating with original dataframe\n",
    "test = pd.concat([test,sex,embark,pclass], axis = 1)"
   ]
  },
  {
   "cell_type": "code",
   "execution_count": 92,
   "metadata": {},
   "outputs": [
    {
     "data": {
      "text/html": [
       "<div>\n",
       "<style scoped>\n",
       "    .dataframe tbody tr th:only-of-type {\n",
       "        vertical-align: middle;\n",
       "    }\n",
       "\n",
       "    .dataframe tbody tr th {\n",
       "        vertical-align: top;\n",
       "    }\n",
       "\n",
       "    .dataframe thead th {\n",
       "        text-align: right;\n",
       "    }\n",
       "</style>\n",
       "<table border=\"1\" class=\"dataframe\">\n",
       "  <thead>\n",
       "    <tr style=\"text-align: right;\">\n",
       "      <th></th>\n",
       "      <th>Survived</th>\n",
       "      <th>Pclass</th>\n",
       "      <th>Sex</th>\n",
       "      <th>Age</th>\n",
       "      <th>SibSp</th>\n",
       "      <th>Parch</th>\n",
       "      <th>Fare</th>\n",
       "      <th>Embarked</th>\n",
       "      <th>male</th>\n",
       "      <th>Q</th>\n",
       "      <th>S</th>\n",
       "      <th>2</th>\n",
       "      <th>3</th>\n",
       "    </tr>\n",
       "  </thead>\n",
       "  <tbody>\n",
       "    <tr>\n",
       "      <th>0</th>\n",
       "      <td>0</td>\n",
       "      <td>3</td>\n",
       "      <td>male</td>\n",
       "      <td>22.0</td>\n",
       "      <td>1</td>\n",
       "      <td>0</td>\n",
       "      <td>7.2500</td>\n",
       "      <td>S</td>\n",
       "      <td>1</td>\n",
       "      <td>0</td>\n",
       "      <td>1</td>\n",
       "      <td>0</td>\n",
       "      <td>1</td>\n",
       "    </tr>\n",
       "    <tr>\n",
       "      <th>1</th>\n",
       "      <td>1</td>\n",
       "      <td>1</td>\n",
       "      <td>female</td>\n",
       "      <td>38.0</td>\n",
       "      <td>1</td>\n",
       "      <td>0</td>\n",
       "      <td>71.2833</td>\n",
       "      <td>C</td>\n",
       "      <td>0</td>\n",
       "      <td>0</td>\n",
       "      <td>0</td>\n",
       "      <td>0</td>\n",
       "      <td>0</td>\n",
       "    </tr>\n",
       "    <tr>\n",
       "      <th>2</th>\n",
       "      <td>1</td>\n",
       "      <td>3</td>\n",
       "      <td>female</td>\n",
       "      <td>26.0</td>\n",
       "      <td>0</td>\n",
       "      <td>0</td>\n",
       "      <td>7.9250</td>\n",
       "      <td>S</td>\n",
       "      <td>0</td>\n",
       "      <td>0</td>\n",
       "      <td>1</td>\n",
       "      <td>0</td>\n",
       "      <td>1</td>\n",
       "    </tr>\n",
       "    <tr>\n",
       "      <th>3</th>\n",
       "      <td>1</td>\n",
       "      <td>1</td>\n",
       "      <td>female</td>\n",
       "      <td>35.0</td>\n",
       "      <td>1</td>\n",
       "      <td>0</td>\n",
       "      <td>53.1000</td>\n",
       "      <td>S</td>\n",
       "      <td>0</td>\n",
       "      <td>0</td>\n",
       "      <td>1</td>\n",
       "      <td>0</td>\n",
       "      <td>0</td>\n",
       "    </tr>\n",
       "    <tr>\n",
       "      <th>4</th>\n",
       "      <td>0</td>\n",
       "      <td>3</td>\n",
       "      <td>male</td>\n",
       "      <td>35.0</td>\n",
       "      <td>0</td>\n",
       "      <td>0</td>\n",
       "      <td>8.0500</td>\n",
       "      <td>S</td>\n",
       "      <td>1</td>\n",
       "      <td>0</td>\n",
       "      <td>1</td>\n",
       "      <td>0</td>\n",
       "      <td>1</td>\n",
       "    </tr>\n",
       "  </tbody>\n",
       "</table>\n",
       "</div>"
      ],
      "text/plain": [
       "   Survived  Pclass     Sex   Age  SibSp  Parch     Fare Embarked  male  Q  S  \\\n",
       "0         0       3    male  22.0      1      0   7.2500        S     1  0  1   \n",
       "1         1       1  female  38.0      1      0  71.2833        C     0  0  0   \n",
       "2         1       3  female  26.0      0      0   7.9250        S     0  0  1   \n",
       "3         1       1  female  35.0      1      0  53.1000        S     0  0  1   \n",
       "4         0       3    male  35.0      0      0   8.0500        S     1  0  1   \n",
       "\n",
       "   2  3  \n",
       "0  0  1  \n",
       "1  0  0  \n",
       "2  0  1  \n",
       "3  0  0  \n",
       "4  0  1  "
      ]
     },
     "execution_count": 92,
     "metadata": {},
     "output_type": "execute_result"
    }
   ],
   "source": [
    "train.head()"
   ]
  },
  {
   "cell_type": "code",
   "execution_count": 93,
   "metadata": {},
   "outputs": [],
   "source": [
    "#drop categorical columns\n",
    "\n",
    "train.drop(['Pclass','Sex','Embarked'], inplace = True, axis = 1)\n",
    "test.drop(['Pclass','Sex','Embarked'], inplace = True, axis = 1)"
   ]
  },
  {
   "cell_type": "code",
   "execution_count": 94,
   "metadata": {},
   "outputs": [
    {
     "data": {
      "text/html": [
       "<div>\n",
       "<style scoped>\n",
       "    .dataframe tbody tr th:only-of-type {\n",
       "        vertical-align: middle;\n",
       "    }\n",
       "\n",
       "    .dataframe tbody tr th {\n",
       "        vertical-align: top;\n",
       "    }\n",
       "\n",
       "    .dataframe thead th {\n",
       "        text-align: right;\n",
       "    }\n",
       "</style>\n",
       "<table border=\"1\" class=\"dataframe\">\n",
       "  <thead>\n",
       "    <tr style=\"text-align: right;\">\n",
       "      <th></th>\n",
       "      <th>Survived</th>\n",
       "      <th>Age</th>\n",
       "      <th>SibSp</th>\n",
       "      <th>Parch</th>\n",
       "      <th>Fare</th>\n",
       "      <th>male</th>\n",
       "      <th>Q</th>\n",
       "      <th>S</th>\n",
       "      <th>2</th>\n",
       "      <th>3</th>\n",
       "    </tr>\n",
       "  </thead>\n",
       "  <tbody>\n",
       "    <tr>\n",
       "      <th>0</th>\n",
       "      <td>0</td>\n",
       "      <td>22.0</td>\n",
       "      <td>1</td>\n",
       "      <td>0</td>\n",
       "      <td>7.2500</td>\n",
       "      <td>1</td>\n",
       "      <td>0</td>\n",
       "      <td>1</td>\n",
       "      <td>0</td>\n",
       "      <td>1</td>\n",
       "    </tr>\n",
       "    <tr>\n",
       "      <th>1</th>\n",
       "      <td>1</td>\n",
       "      <td>38.0</td>\n",
       "      <td>1</td>\n",
       "      <td>0</td>\n",
       "      <td>71.2833</td>\n",
       "      <td>0</td>\n",
       "      <td>0</td>\n",
       "      <td>0</td>\n",
       "      <td>0</td>\n",
       "      <td>0</td>\n",
       "    </tr>\n",
       "    <tr>\n",
       "      <th>2</th>\n",
       "      <td>1</td>\n",
       "      <td>26.0</td>\n",
       "      <td>0</td>\n",
       "      <td>0</td>\n",
       "      <td>7.9250</td>\n",
       "      <td>0</td>\n",
       "      <td>0</td>\n",
       "      <td>1</td>\n",
       "      <td>0</td>\n",
       "      <td>1</td>\n",
       "    </tr>\n",
       "    <tr>\n",
       "      <th>3</th>\n",
       "      <td>1</td>\n",
       "      <td>35.0</td>\n",
       "      <td>1</td>\n",
       "      <td>0</td>\n",
       "      <td>53.1000</td>\n",
       "      <td>0</td>\n",
       "      <td>0</td>\n",
       "      <td>1</td>\n",
       "      <td>0</td>\n",
       "      <td>0</td>\n",
       "    </tr>\n",
       "    <tr>\n",
       "      <th>4</th>\n",
       "      <td>0</td>\n",
       "      <td>35.0</td>\n",
       "      <td>0</td>\n",
       "      <td>0</td>\n",
       "      <td>8.0500</td>\n",
       "      <td>1</td>\n",
       "      <td>0</td>\n",
       "      <td>1</td>\n",
       "      <td>0</td>\n",
       "      <td>1</td>\n",
       "    </tr>\n",
       "  </tbody>\n",
       "</table>\n",
       "</div>"
      ],
      "text/plain": [
       "   Survived   Age  SibSp  Parch     Fare  male  Q  S  2  3\n",
       "0         0  22.0      1      0   7.2500     1  0  1  0  1\n",
       "1         1  38.0      1      0  71.2833     0  0  0  0  0\n",
       "2         1  26.0      0      0   7.9250     0  0  1  0  1\n",
       "3         1  35.0      1      0  53.1000     0  0  1  0  0\n",
       "4         0  35.0      0      0   8.0500     1  0  1  0  1"
      ]
     },
     "execution_count": 94,
     "metadata": {},
     "output_type": "execute_result"
    }
   ],
   "source": [
    "train.head()"
   ]
  },
  {
   "cell_type": "code",
   "execution_count": 95,
   "metadata": {},
   "outputs": [],
   "source": [
    "#dividing data into attributes and class labels\n",
    "\n",
    "X_train = train.drop('Survived',axis = 1)\n",
    "y_train = train['Survived']\n",
    "\n",
    "X_test = test"
   ]
  },
  {
   "cell_type": "markdown",
   "metadata": {},
   "source": [
    "Since we have 8 categorical attributes and 2 numerical attributes, let's try using the random forest classifier."
   ]
  },
  {
   "cell_type": "code",
   "execution_count": 109,
   "metadata": {},
   "outputs": [],
   "source": [
    "from sklearn.ensemble import RandomForestClassifier"
   ]
  },
  {
   "cell_type": "code",
   "execution_count": 110,
   "metadata": {},
   "outputs": [],
   "source": [
    "# create an instance of the model because we will use cross validation for hyperparameter tuning\n",
    "rfc = RandomForestClassifier()"
   ]
  },
  {
   "cell_type": "code",
   "execution_count": 149,
   "metadata": {},
   "outputs": [
    {
     "name": "stdout",
     "output_type": "stream",
     "text": [
      "{'n_estimators': [15, 16, 18, 19, 21, 22, 24, 26, 27, 29, 30, 32, 33, 35, 37, 38, 40, 41, 43, 44, 46, 48, 49, 51, 52, 54, 56, 57, 59, 60, 62, 63, 65, 67, 68, 70, 71, 73, 74, 76, 78, 79, 81, 82, 84, 85, 87, 89, 90, 92, 93, 95, 97, 98, 100, 101, 103, 104, 106, 108, 109, 111, 112, 114, 115, 117, 119, 120, 122, 123, 125, 126, 128, 130, 131, 133, 134, 136, 138, 139, 141, 142, 144, 145, 147, 149, 150, 152, 153, 155, 156, 158, 160, 161, 163, 164, 166, 167, 169, 171, 172, 174, 175, 177, 179, 180, 182, 183, 185, 186, 188, 190, 191, 193, 194, 196, 197, 199, 201, 202, 204, 205, 207, 208, 210, 212, 213, 215, 216, 218, 220, 221, 223, 224, 226, 227, 229, 231, 232, 234, 235, 237, 238, 240, 242, 243, 245, 246, 248, 250], 'max_features': [None, 'sqrt', 'log2'], 'min_samples_leaf': [1, 3, 5], 'max_depth': [3, 6, 9, 13, 16, 19, 23, 26, 29, 33, 36, 39, 43, 46, 49, 53, 56, 59, 63, 66, 69, 73, 76, 79, 83, 86, 89, 93, 96, 99, 103, 106, 109, 113, 116, 119, 123, 126, 129, 133, 136, 139, 143, 146, 149, 153, 156, 159, 163, 166, 169, 173, 176, 179, 183, 186, 189, 193, 196, 200, None], 'bootstrap': [True, False]}\n"
     ]
    }
   ],
   "source": [
    "# create a grid of parameters\n",
    "\n",
    "n_estimators = [int(x) for x in np.linspace(start = 15, stop = 250, num = 150)]\n",
    "max_features = [None, 'sqrt','log2']\n",
    "min_samples_leaf = [1,3,5]\n",
    "max_depth = [int(x) for x in np.linspace(3, 200, num = 60)]\n",
    "max_depth.append(None)\n",
    "bootstrap = [True, False]\n",
    "\n",
    "random_grid = {'n_estimators': n_estimators,\n",
    "                'max_features': max_features,\n",
    "                'min_samples_leaf': min_samples_leaf,\n",
    "                'max_depth': max_depth,\n",
    "                'bootstrap': bootstrap}\n",
    "\n",
    "print(random_grid)"
   ]
  },
  {
   "cell_type": "code",
   "execution_count": 150,
   "metadata": {},
   "outputs": [],
   "source": [
    "# import libraries for cross validation\n",
    "\n",
    "from sklearn.model_selection import RandomizedSearchCV"
   ]
  },
  {
   "cell_type": "code",
   "execution_count": 154,
   "metadata": {},
   "outputs": [
    {
     "name": "stdout",
     "output_type": "stream",
     "text": [
      "Fitting 5 folds for each of 50 candidates, totalling 250 fits\n",
      "[CV] n_estimators=85, min_samples_leaf=3, max_features=sqrt, max_depth=109, bootstrap=True \n"
     ]
    },
    {
     "name": "stderr",
     "output_type": "stream",
     "text": [
      "[Parallel(n_jobs=1)]: Using backend SequentialBackend with 1 concurrent workers.\n"
     ]
    },
    {
     "name": "stdout",
     "output_type": "stream",
     "text": [
      "[CV]  n_estimators=85, min_samples_leaf=3, max_features=sqrt, max_depth=109, bootstrap=True, total=   0.2s\n",
      "[CV] n_estimators=85, min_samples_leaf=3, max_features=sqrt, max_depth=109, bootstrap=True \n",
      "[CV]  n_estimators=85, min_samples_leaf=3, max_features=sqrt, max_depth=109, bootstrap=True, total=   0.2s\n",
      "[CV] n_estimators=85, min_samples_leaf=3, max_features=sqrt, max_depth=109, bootstrap=True \n"
     ]
    },
    {
     "name": "stderr",
     "output_type": "stream",
     "text": [
      "[Parallel(n_jobs=1)]: Done   1 out of   1 | elapsed:    0.1s remaining:    0.0s\n"
     ]
    },
    {
     "name": "stdout",
     "output_type": "stream",
     "text": [
      "[CV]  n_estimators=85, min_samples_leaf=3, max_features=sqrt, max_depth=109, bootstrap=True, total=   0.2s\n",
      "[CV] n_estimators=85, min_samples_leaf=3, max_features=sqrt, max_depth=109, bootstrap=True \n",
      "[CV]  n_estimators=85, min_samples_leaf=3, max_features=sqrt, max_depth=109, bootstrap=True, total=   0.1s\n",
      "[CV] n_estimators=85, min_samples_leaf=3, max_features=sqrt, max_depth=109, bootstrap=True \n",
      "[CV]  n_estimators=85, min_samples_leaf=3, max_features=sqrt, max_depth=109, bootstrap=True, total=   0.1s\n",
      "[CV] n_estimators=167, min_samples_leaf=3, max_features=sqrt, max_depth=63, bootstrap=False \n",
      "[CV]  n_estimators=167, min_samples_leaf=3, max_features=sqrt, max_depth=63, bootstrap=False, total=   0.2s\n",
      "[CV] n_estimators=167, min_samples_leaf=3, max_features=sqrt, max_depth=63, bootstrap=False \n",
      "[CV]  n_estimators=167, min_samples_leaf=3, max_features=sqrt, max_depth=63, bootstrap=False, total=   0.3s\n",
      "[CV] n_estimators=167, min_samples_leaf=3, max_features=sqrt, max_depth=63, bootstrap=False \n",
      "[CV]  n_estimators=167, min_samples_leaf=3, max_features=sqrt, max_depth=63, bootstrap=False, total=   0.3s\n",
      "[CV] n_estimators=167, min_samples_leaf=3, max_features=sqrt, max_depth=63, bootstrap=False \n",
      "[CV]  n_estimators=167, min_samples_leaf=3, max_features=sqrt, max_depth=63, bootstrap=False, total=   0.2s\n",
      "[CV] n_estimators=167, min_samples_leaf=3, max_features=sqrt, max_depth=63, bootstrap=False \n",
      "[CV]  n_estimators=167, min_samples_leaf=3, max_features=sqrt, max_depth=63, bootstrap=False, total=   0.3s\n",
      "[CV] n_estimators=161, min_samples_leaf=1, max_features=sqrt, max_depth=116, bootstrap=False \n",
      "[CV]  n_estimators=161, min_samples_leaf=1, max_features=sqrt, max_depth=116, bootstrap=False, total=   0.3s\n",
      "[CV] n_estimators=161, min_samples_leaf=1, max_features=sqrt, max_depth=116, bootstrap=False \n",
      "[CV]  n_estimators=161, min_samples_leaf=1, max_features=sqrt, max_depth=116, bootstrap=False, total=   0.3s\n",
      "[CV] n_estimators=161, min_samples_leaf=1, max_features=sqrt, max_depth=116, bootstrap=False \n",
      "[CV]  n_estimators=161, min_samples_leaf=1, max_features=sqrt, max_depth=116, bootstrap=False, total=   0.3s\n",
      "[CV] n_estimators=161, min_samples_leaf=1, max_features=sqrt, max_depth=116, bootstrap=False \n",
      "[CV]  n_estimators=161, min_samples_leaf=1, max_features=sqrt, max_depth=116, bootstrap=False, total=   0.3s\n",
      "[CV] n_estimators=161, min_samples_leaf=1, max_features=sqrt, max_depth=116, bootstrap=False \n",
      "[CV]  n_estimators=161, min_samples_leaf=1, max_features=sqrt, max_depth=116, bootstrap=False, total=   0.3s\n",
      "[CV] n_estimators=24, min_samples_leaf=1, max_features=log2, max_depth=23, bootstrap=True \n",
      "[CV]  n_estimators=24, min_samples_leaf=1, max_features=log2, max_depth=23, bootstrap=True, total=   0.0s\n",
      "[CV] n_estimators=24, min_samples_leaf=1, max_features=log2, max_depth=23, bootstrap=True \n",
      "[CV]  n_estimators=24, min_samples_leaf=1, max_features=log2, max_depth=23, bootstrap=True, total=   0.0s\n",
      "[CV] n_estimators=24, min_samples_leaf=1, max_features=log2, max_depth=23, bootstrap=True \n",
      "[CV]  n_estimators=24, min_samples_leaf=1, max_features=log2, max_depth=23, bootstrap=True, total=   0.0s\n",
      "[CV] n_estimators=24, min_samples_leaf=1, max_features=log2, max_depth=23, bootstrap=True \n",
      "[CV]  n_estimators=24, min_samples_leaf=1, max_features=log2, max_depth=23, bootstrap=True, total=   0.1s\n",
      "[CV] n_estimators=24, min_samples_leaf=1, max_features=log2, max_depth=23, bootstrap=True \n",
      "[CV]  n_estimators=24, min_samples_leaf=1, max_features=log2, max_depth=23, bootstrap=True, total=   0.1s\n",
      "[CV] n_estimators=29, min_samples_leaf=5, max_features=None, max_depth=79, bootstrap=False \n",
      "[CV]  n_estimators=29, min_samples_leaf=5, max_features=None, max_depth=79, bootstrap=False, total=   0.1s\n",
      "[CV] n_estimators=29, min_samples_leaf=5, max_features=None, max_depth=79, bootstrap=False \n",
      "[CV]  n_estimators=29, min_samples_leaf=5, max_features=None, max_depth=79, bootstrap=False, total=   0.1s\n",
      "[CV] n_estimators=29, min_samples_leaf=5, max_features=None, max_depth=79, bootstrap=False \n",
      "[CV]  n_estimators=29, min_samples_leaf=5, max_features=None, max_depth=79, bootstrap=False, total=   0.1s\n",
      "[CV] n_estimators=29, min_samples_leaf=5, max_features=None, max_depth=79, bootstrap=False \n",
      "[CV]  n_estimators=29, min_samples_leaf=5, max_features=None, max_depth=79, bootstrap=False, total=   0.1s\n",
      "[CV] n_estimators=29, min_samples_leaf=5, max_features=None, max_depth=79, bootstrap=False \n",
      "[CV]  n_estimators=29, min_samples_leaf=5, max_features=None, max_depth=79, bootstrap=False, total=   0.1s\n",
      "[CV] n_estimators=54, min_samples_leaf=1, max_features=sqrt, max_depth=19, bootstrap=False \n",
      "[CV]  n_estimators=54, min_samples_leaf=1, max_features=sqrt, max_depth=19, bootstrap=False, total=   0.1s\n",
      "[CV] n_estimators=54, min_samples_leaf=1, max_features=sqrt, max_depth=19, bootstrap=False \n",
      "[CV]  n_estimators=54, min_samples_leaf=1, max_features=sqrt, max_depth=19, bootstrap=False, total=   0.1s\n",
      "[CV] n_estimators=54, min_samples_leaf=1, max_features=sqrt, max_depth=19, bootstrap=False \n",
      "[CV]  n_estimators=54, min_samples_leaf=1, max_features=sqrt, max_depth=19, bootstrap=False, total=   0.1s\n",
      "[CV] n_estimators=54, min_samples_leaf=1, max_features=sqrt, max_depth=19, bootstrap=False \n",
      "[CV]  n_estimators=54, min_samples_leaf=1, max_features=sqrt, max_depth=19, bootstrap=False, total=   0.1s\n",
      "[CV] n_estimators=54, min_samples_leaf=1, max_features=sqrt, max_depth=19, bootstrap=False \n",
      "[CV]  n_estimators=54, min_samples_leaf=1, max_features=sqrt, max_depth=19, bootstrap=False, total=   0.1s\n",
      "[CV] n_estimators=60, min_samples_leaf=1, max_features=None, max_depth=99, bootstrap=False \n",
      "[CV]  n_estimators=60, min_samples_leaf=1, max_features=None, max_depth=99, bootstrap=False, total=   0.1s\n",
      "[CV] n_estimators=60, min_samples_leaf=1, max_features=None, max_depth=99, bootstrap=False \n",
      "[CV]  n_estimators=60, min_samples_leaf=1, max_features=None, max_depth=99, bootstrap=False, total=   0.1s\n",
      "[CV] n_estimators=60, min_samples_leaf=1, max_features=None, max_depth=99, bootstrap=False \n",
      "[CV]  n_estimators=60, min_samples_leaf=1, max_features=None, max_depth=99, bootstrap=False, total=   0.1s\n",
      "[CV] n_estimators=60, min_samples_leaf=1, max_features=None, max_depth=99, bootstrap=False \n",
      "[CV]  n_estimators=60, min_samples_leaf=1, max_features=None, max_depth=99, bootstrap=False, total=   0.2s\n",
      "[CV] n_estimators=60, min_samples_leaf=1, max_features=None, max_depth=99, bootstrap=False \n",
      "[CV]  n_estimators=60, min_samples_leaf=1, max_features=None, max_depth=99, bootstrap=False, total=   0.1s\n",
      "[CV] n_estimators=70, min_samples_leaf=3, max_features=sqrt, max_depth=33, bootstrap=True \n",
      "[CV]  n_estimators=70, min_samples_leaf=3, max_features=sqrt, max_depth=33, bootstrap=True, total=   0.1s\n",
      "[CV] n_estimators=70, min_samples_leaf=3, max_features=sqrt, max_depth=33, bootstrap=True \n",
      "[CV]  n_estimators=70, min_samples_leaf=3, max_features=sqrt, max_depth=33, bootstrap=True, total=   0.1s\n",
      "[CV] n_estimators=70, min_samples_leaf=3, max_features=sqrt, max_depth=33, bootstrap=True \n",
      "[CV]  n_estimators=70, min_samples_leaf=3, max_features=sqrt, max_depth=33, bootstrap=True, total=   0.1s\n",
      "[CV] n_estimators=70, min_samples_leaf=3, max_features=sqrt, max_depth=33, bootstrap=True \n",
      "[CV]  n_estimators=70, min_samples_leaf=3, max_features=sqrt, max_depth=33, bootstrap=True, total=   0.1s\n",
      "[CV] n_estimators=70, min_samples_leaf=3, max_features=sqrt, max_depth=33, bootstrap=True \n",
      "[CV]  n_estimators=70, min_samples_leaf=3, max_features=sqrt, max_depth=33, bootstrap=True, total=   0.1s\n",
      "[CV] n_estimators=243, min_samples_leaf=3, max_features=sqrt, max_depth=129, bootstrap=False \n",
      "[CV]  n_estimators=243, min_samples_leaf=3, max_features=sqrt, max_depth=129, bootstrap=False, total=   0.4s\n",
      "[CV] n_estimators=243, min_samples_leaf=3, max_features=sqrt, max_depth=129, bootstrap=False \n",
      "[CV]  n_estimators=243, min_samples_leaf=3, max_features=sqrt, max_depth=129, bootstrap=False, total=   0.3s\n",
      "[CV] n_estimators=243, min_samples_leaf=3, max_features=sqrt, max_depth=129, bootstrap=False \n",
      "[CV]  n_estimators=243, min_samples_leaf=3, max_features=sqrt, max_depth=129, bootstrap=False, total=   0.4s\n",
      "[CV] n_estimators=243, min_samples_leaf=3, max_features=sqrt, max_depth=129, bootstrap=False \n",
      "[CV]  n_estimators=243, min_samples_leaf=3, max_features=sqrt, max_depth=129, bootstrap=False, total=   0.3s\n",
      "[CV] n_estimators=243, min_samples_leaf=3, max_features=sqrt, max_depth=129, bootstrap=False \n"
     ]
    },
    {
     "name": "stdout",
     "output_type": "stream",
     "text": [
      "[CV]  n_estimators=243, min_samples_leaf=3, max_features=sqrt, max_depth=129, bootstrap=False, total=   0.4s\n",
      "[CV] n_estimators=130, min_samples_leaf=5, max_features=log2, max_depth=3, bootstrap=False \n",
      "[CV]  n_estimators=130, min_samples_leaf=5, max_features=log2, max_depth=3, bootstrap=False, total=   0.1s\n",
      "[CV] n_estimators=130, min_samples_leaf=5, max_features=log2, max_depth=3, bootstrap=False \n",
      "[CV]  n_estimators=130, min_samples_leaf=5, max_features=log2, max_depth=3, bootstrap=False, total=   0.2s\n",
      "[CV] n_estimators=130, min_samples_leaf=5, max_features=log2, max_depth=3, bootstrap=False \n",
      "[CV]  n_estimators=130, min_samples_leaf=5, max_features=log2, max_depth=3, bootstrap=False, total=   0.1s\n",
      "[CV] n_estimators=130, min_samples_leaf=5, max_features=log2, max_depth=3, bootstrap=False \n",
      "[CV]  n_estimators=130, min_samples_leaf=5, max_features=log2, max_depth=3, bootstrap=False, total=   0.2s\n",
      "[CV] n_estimators=130, min_samples_leaf=5, max_features=log2, max_depth=3, bootstrap=False \n",
      "[CV]  n_estimators=130, min_samples_leaf=5, max_features=log2, max_depth=3, bootstrap=False, total=   0.1s\n",
      "[CV] n_estimators=41, min_samples_leaf=5, max_features=None, max_depth=99, bootstrap=False \n",
      "[CV]  n_estimators=41, min_samples_leaf=5, max_features=None, max_depth=99, bootstrap=False, total=   0.1s\n",
      "[CV] n_estimators=41, min_samples_leaf=5, max_features=None, max_depth=99, bootstrap=False \n",
      "[CV]  n_estimators=41, min_samples_leaf=5, max_features=None, max_depth=99, bootstrap=False, total=   0.1s\n",
      "[CV] n_estimators=41, min_samples_leaf=5, max_features=None, max_depth=99, bootstrap=False \n",
      "[CV]  n_estimators=41, min_samples_leaf=5, max_features=None, max_depth=99, bootstrap=False, total=   0.1s\n",
      "[CV] n_estimators=41, min_samples_leaf=5, max_features=None, max_depth=99, bootstrap=False \n",
      "[CV]  n_estimators=41, min_samples_leaf=5, max_features=None, max_depth=99, bootstrap=False, total=   0.1s\n",
      "[CV] n_estimators=41, min_samples_leaf=5, max_features=None, max_depth=99, bootstrap=False \n",
      "[CV]  n_estimators=41, min_samples_leaf=5, max_features=None, max_depth=99, bootstrap=False, total=   0.1s\n",
      "[CV] n_estimators=130, min_samples_leaf=1, max_features=sqrt, max_depth=123, bootstrap=True \n",
      "[CV]  n_estimators=130, min_samples_leaf=1, max_features=sqrt, max_depth=123, bootstrap=True, total=   0.2s\n",
      "[CV] n_estimators=130, min_samples_leaf=1, max_features=sqrt, max_depth=123, bootstrap=True \n",
      "[CV]  n_estimators=130, min_samples_leaf=1, max_features=sqrt, max_depth=123, bootstrap=True, total=   0.2s\n",
      "[CV] n_estimators=130, min_samples_leaf=1, max_features=sqrt, max_depth=123, bootstrap=True \n",
      "[CV]  n_estimators=130, min_samples_leaf=1, max_features=sqrt, max_depth=123, bootstrap=True, total=   0.2s\n",
      "[CV] n_estimators=130, min_samples_leaf=1, max_features=sqrt, max_depth=123, bootstrap=True \n",
      "[CV]  n_estimators=130, min_samples_leaf=1, max_features=sqrt, max_depth=123, bootstrap=True, total=   0.2s\n",
      "[CV] n_estimators=130, min_samples_leaf=1, max_features=sqrt, max_depth=123, bootstrap=True \n",
      "[CV]  n_estimators=130, min_samples_leaf=1, max_features=sqrt, max_depth=123, bootstrap=True, total=   0.2s\n",
      "[CV] n_estimators=153, min_samples_leaf=1, max_features=sqrt, max_depth=None, bootstrap=False \n",
      "[CV]  n_estimators=153, min_samples_leaf=1, max_features=sqrt, max_depth=None, bootstrap=False, total=   0.3s\n",
      "[CV] n_estimators=153, min_samples_leaf=1, max_features=sqrt, max_depth=None, bootstrap=False \n",
      "[CV]  n_estimators=153, min_samples_leaf=1, max_features=sqrt, max_depth=None, bootstrap=False, total=   0.2s\n",
      "[CV] n_estimators=153, min_samples_leaf=1, max_features=sqrt, max_depth=None, bootstrap=False \n",
      "[CV]  n_estimators=153, min_samples_leaf=1, max_features=sqrt, max_depth=None, bootstrap=False, total=   0.3s\n",
      "[CV] n_estimators=153, min_samples_leaf=1, max_features=sqrt, max_depth=None, bootstrap=False \n",
      "[CV]  n_estimators=153, min_samples_leaf=1, max_features=sqrt, max_depth=None, bootstrap=False, total=   0.3s\n",
      "[CV] n_estimators=153, min_samples_leaf=1, max_features=sqrt, max_depth=None, bootstrap=False \n",
      "[CV]  n_estimators=153, min_samples_leaf=1, max_features=sqrt, max_depth=None, bootstrap=False, total=   0.3s\n",
      "[CV] n_estimators=202, min_samples_leaf=1, max_features=sqrt, max_depth=89, bootstrap=True \n",
      "[CV]  n_estimators=202, min_samples_leaf=1, max_features=sqrt, max_depth=89, bootstrap=True, total=   0.4s\n",
      "[CV] n_estimators=202, min_samples_leaf=1, max_features=sqrt, max_depth=89, bootstrap=True \n",
      "[CV]  n_estimators=202, min_samples_leaf=1, max_features=sqrt, max_depth=89, bootstrap=True, total=   0.4s\n",
      "[CV] n_estimators=202, min_samples_leaf=1, max_features=sqrt, max_depth=89, bootstrap=True \n",
      "[CV]  n_estimators=202, min_samples_leaf=1, max_features=sqrt, max_depth=89, bootstrap=True, total=   0.4s\n",
      "[CV] n_estimators=202, min_samples_leaf=1, max_features=sqrt, max_depth=89, bootstrap=True \n",
      "[CV]  n_estimators=202, min_samples_leaf=1, max_features=sqrt, max_depth=89, bootstrap=True, total=   0.3s\n",
      "[CV] n_estimators=202, min_samples_leaf=1, max_features=sqrt, max_depth=89, bootstrap=True \n",
      "[CV]  n_estimators=202, min_samples_leaf=1, max_features=sqrt, max_depth=89, bootstrap=True, total=   0.3s\n",
      "[CV] n_estimators=43, min_samples_leaf=3, max_features=log2, max_depth=19, bootstrap=True \n",
      "[CV]  n_estimators=43, min_samples_leaf=3, max_features=log2, max_depth=19, bootstrap=True, total=   0.1s\n",
      "[CV] n_estimators=43, min_samples_leaf=3, max_features=log2, max_depth=19, bootstrap=True \n",
      "[CV]  n_estimators=43, min_samples_leaf=3, max_features=log2, max_depth=19, bootstrap=True, total=   0.1s\n",
      "[CV] n_estimators=43, min_samples_leaf=3, max_features=log2, max_depth=19, bootstrap=True \n",
      "[CV]  n_estimators=43, min_samples_leaf=3, max_features=log2, max_depth=19, bootstrap=True, total=   0.1s\n",
      "[CV] n_estimators=43, min_samples_leaf=3, max_features=log2, max_depth=19, bootstrap=True \n",
      "[CV]  n_estimators=43, min_samples_leaf=3, max_features=log2, max_depth=19, bootstrap=True, total=   0.1s\n",
      "[CV] n_estimators=43, min_samples_leaf=3, max_features=log2, max_depth=19, bootstrap=True \n",
      "[CV]  n_estimators=43, min_samples_leaf=3, max_features=log2, max_depth=19, bootstrap=True, total=   0.1s\n",
      "[CV] n_estimators=24, min_samples_leaf=1, max_features=None, max_depth=166, bootstrap=True \n",
      "[CV]  n_estimators=24, min_samples_leaf=1, max_features=None, max_depth=166, bootstrap=True, total=   0.1s\n",
      "[CV] n_estimators=24, min_samples_leaf=1, max_features=None, max_depth=166, bootstrap=True \n",
      "[CV]  n_estimators=24, min_samples_leaf=1, max_features=None, max_depth=166, bootstrap=True, total=   0.1s\n",
      "[CV] n_estimators=24, min_samples_leaf=1, max_features=None, max_depth=166, bootstrap=True \n",
      "[CV]  n_estimators=24, min_samples_leaf=1, max_features=None, max_depth=166, bootstrap=True, total=   0.1s\n",
      "[CV] n_estimators=24, min_samples_leaf=1, max_features=None, max_depth=166, bootstrap=True \n",
      "[CV]  n_estimators=24, min_samples_leaf=1, max_features=None, max_depth=166, bootstrap=True, total=   0.1s\n",
      "[CV] n_estimators=24, min_samples_leaf=1, max_features=None, max_depth=166, bootstrap=True \n",
      "[CV]  n_estimators=24, min_samples_leaf=1, max_features=None, max_depth=166, bootstrap=True, total=   0.1s\n",
      "[CV] n_estimators=190, min_samples_leaf=1, max_features=sqrt, max_depth=149, bootstrap=True \n",
      "[CV]  n_estimators=190, min_samples_leaf=1, max_features=sqrt, max_depth=149, bootstrap=True, total=   0.3s\n",
      "[CV] n_estimators=190, min_samples_leaf=1, max_features=sqrt, max_depth=149, bootstrap=True \n",
      "[CV]  n_estimators=190, min_samples_leaf=1, max_features=sqrt, max_depth=149, bootstrap=True, total=   0.3s\n",
      "[CV] n_estimators=190, min_samples_leaf=1, max_features=sqrt, max_depth=149, bootstrap=True \n",
      "[CV]  n_estimators=190, min_samples_leaf=1, max_features=sqrt, max_depth=149, bootstrap=True, total=   0.3s\n",
      "[CV] n_estimators=190, min_samples_leaf=1, max_features=sqrt, max_depth=149, bootstrap=True \n",
      "[CV]  n_estimators=190, min_samples_leaf=1, max_features=sqrt, max_depth=149, bootstrap=True, total=   0.3s\n",
      "[CV] n_estimators=190, min_samples_leaf=1, max_features=sqrt, max_depth=149, bootstrap=True \n",
      "[CV]  n_estimators=190, min_samples_leaf=1, max_features=sqrt, max_depth=149, bootstrap=True, total=   0.4s\n",
      "[CV] n_estimators=231, min_samples_leaf=5, max_features=log2, max_depth=36, bootstrap=True \n"
     ]
    },
    {
     "name": "stdout",
     "output_type": "stream",
     "text": [
      "[CV]  n_estimators=231, min_samples_leaf=5, max_features=log2, max_depth=36, bootstrap=True, total=   0.5s\n",
      "[CV] n_estimators=231, min_samples_leaf=5, max_features=log2, max_depth=36, bootstrap=True \n",
      "[CV]  n_estimators=231, min_samples_leaf=5, max_features=log2, max_depth=36, bootstrap=True, total=   0.4s\n",
      "[CV] n_estimators=231, min_samples_leaf=5, max_features=log2, max_depth=36, bootstrap=True \n",
      "[CV]  n_estimators=231, min_samples_leaf=5, max_features=log2, max_depth=36, bootstrap=True, total=   0.4s\n",
      "[CV] n_estimators=231, min_samples_leaf=5, max_features=log2, max_depth=36, bootstrap=True \n",
      "[CV]  n_estimators=231, min_samples_leaf=5, max_features=log2, max_depth=36, bootstrap=True, total=   0.4s\n",
      "[CV] n_estimators=231, min_samples_leaf=5, max_features=log2, max_depth=36, bootstrap=True \n",
      "[CV]  n_estimators=231, min_samples_leaf=5, max_features=log2, max_depth=36, bootstrap=True, total=   0.4s\n",
      "[CV] n_estimators=213, min_samples_leaf=1, max_features=sqrt, max_depth=73, bootstrap=True \n",
      "[CV]  n_estimators=213, min_samples_leaf=1, max_features=sqrt, max_depth=73, bootstrap=True, total=   0.4s\n",
      "[CV] n_estimators=213, min_samples_leaf=1, max_features=sqrt, max_depth=73, bootstrap=True \n",
      "[CV]  n_estimators=213, min_samples_leaf=1, max_features=sqrt, max_depth=73, bootstrap=True, total=   0.4s\n",
      "[CV] n_estimators=213, min_samples_leaf=1, max_features=sqrt, max_depth=73, bootstrap=True \n",
      "[CV]  n_estimators=213, min_samples_leaf=1, max_features=sqrt, max_depth=73, bootstrap=True, total=   0.4s\n",
      "[CV] n_estimators=213, min_samples_leaf=1, max_features=sqrt, max_depth=73, bootstrap=True \n",
      "[CV]  n_estimators=213, min_samples_leaf=1, max_features=sqrt, max_depth=73, bootstrap=True, total=   0.4s\n",
      "[CV] n_estimators=213, min_samples_leaf=1, max_features=sqrt, max_depth=73, bootstrap=True \n",
      "[CV]  n_estimators=213, min_samples_leaf=1, max_features=sqrt, max_depth=73, bootstrap=True, total=   0.4s\n",
      "[CV] n_estimators=141, min_samples_leaf=1, max_features=None, max_depth=79, bootstrap=True \n",
      "[CV]  n_estimators=141, min_samples_leaf=1, max_features=None, max_depth=79, bootstrap=True, total=   0.3s\n",
      "[CV] n_estimators=141, min_samples_leaf=1, max_features=None, max_depth=79, bootstrap=True \n",
      "[CV]  n_estimators=141, min_samples_leaf=1, max_features=None, max_depth=79, bootstrap=True, total=   0.3s\n",
      "[CV] n_estimators=141, min_samples_leaf=1, max_features=None, max_depth=79, bootstrap=True \n",
      "[CV]  n_estimators=141, min_samples_leaf=1, max_features=None, max_depth=79, bootstrap=True, total=   0.3s\n",
      "[CV] n_estimators=141, min_samples_leaf=1, max_features=None, max_depth=79, bootstrap=True \n",
      "[CV]  n_estimators=141, min_samples_leaf=1, max_features=None, max_depth=79, bootstrap=True, total=   0.3s\n",
      "[CV] n_estimators=141, min_samples_leaf=1, max_features=None, max_depth=79, bootstrap=True \n",
      "[CV]  n_estimators=141, min_samples_leaf=1, max_features=None, max_depth=79, bootstrap=True, total=   0.3s\n",
      "[CV] n_estimators=78, min_samples_leaf=3, max_features=None, max_depth=129, bootstrap=True \n",
      "[CV]  n_estimators=78, min_samples_leaf=3, max_features=None, max_depth=129, bootstrap=True, total=   0.2s\n",
      "[CV] n_estimators=78, min_samples_leaf=3, max_features=None, max_depth=129, bootstrap=True \n",
      "[CV]  n_estimators=78, min_samples_leaf=3, max_features=None, max_depth=129, bootstrap=True, total=   0.2s\n",
      "[CV] n_estimators=78, min_samples_leaf=3, max_features=None, max_depth=129, bootstrap=True \n",
      "[CV]  n_estimators=78, min_samples_leaf=3, max_features=None, max_depth=129, bootstrap=True, total=   0.2s\n",
      "[CV] n_estimators=78, min_samples_leaf=3, max_features=None, max_depth=129, bootstrap=True \n",
      "[CV]  n_estimators=78, min_samples_leaf=3, max_features=None, max_depth=129, bootstrap=True, total=   0.2s\n",
      "[CV] n_estimators=78, min_samples_leaf=3, max_features=None, max_depth=129, bootstrap=True \n",
      "[CV]  n_estimators=78, min_samples_leaf=3, max_features=None, max_depth=129, bootstrap=True, total=   0.2s\n",
      "[CV] n_estimators=81, min_samples_leaf=3, max_features=sqrt, max_depth=49, bootstrap=False \n",
      "[CV]  n_estimators=81, min_samples_leaf=3, max_features=sqrt, max_depth=49, bootstrap=False, total=   0.1s\n",
      "[CV] n_estimators=81, min_samples_leaf=3, max_features=sqrt, max_depth=49, bootstrap=False \n",
      "[CV]  n_estimators=81, min_samples_leaf=3, max_features=sqrt, max_depth=49, bootstrap=False, total=   0.1s\n",
      "[CV] n_estimators=81, min_samples_leaf=3, max_features=sqrt, max_depth=49, bootstrap=False \n",
      "[CV]  n_estimators=81, min_samples_leaf=3, max_features=sqrt, max_depth=49, bootstrap=False, total=   0.1s\n",
      "[CV] n_estimators=81, min_samples_leaf=3, max_features=sqrt, max_depth=49, bootstrap=False \n",
      "[CV]  n_estimators=81, min_samples_leaf=3, max_features=sqrt, max_depth=49, bootstrap=False, total=   0.1s\n",
      "[CV] n_estimators=81, min_samples_leaf=3, max_features=sqrt, max_depth=49, bootstrap=False \n",
      "[CV]  n_estimators=81, min_samples_leaf=3, max_features=sqrt, max_depth=49, bootstrap=False, total=   0.1s\n",
      "[CV] n_estimators=98, min_samples_leaf=3, max_features=sqrt, max_depth=193, bootstrap=False \n",
      "[CV]  n_estimators=98, min_samples_leaf=3, max_features=sqrt, max_depth=193, bootstrap=False, total=   0.1s\n",
      "[CV] n_estimators=98, min_samples_leaf=3, max_features=sqrt, max_depth=193, bootstrap=False \n",
      "[CV]  n_estimators=98, min_samples_leaf=3, max_features=sqrt, max_depth=193, bootstrap=False, total=   0.1s\n",
      "[CV] n_estimators=98, min_samples_leaf=3, max_features=sqrt, max_depth=193, bootstrap=False \n",
      "[CV]  n_estimators=98, min_samples_leaf=3, max_features=sqrt, max_depth=193, bootstrap=False, total=   0.1s\n",
      "[CV] n_estimators=98, min_samples_leaf=3, max_features=sqrt, max_depth=193, bootstrap=False \n",
      "[CV]  n_estimators=98, min_samples_leaf=3, max_features=sqrt, max_depth=193, bootstrap=False, total=   0.1s\n",
      "[CV] n_estimators=98, min_samples_leaf=3, max_features=sqrt, max_depth=193, bootstrap=False \n",
      "[CV]  n_estimators=98, min_samples_leaf=3, max_features=sqrt, max_depth=193, bootstrap=False, total=   0.1s\n",
      "[CV] n_estimators=37, min_samples_leaf=5, max_features=log2, max_depth=186, bootstrap=True \n",
      "[CV]  n_estimators=37, min_samples_leaf=5, max_features=log2, max_depth=186, bootstrap=True, total=   0.1s\n",
      "[CV] n_estimators=37, min_samples_leaf=5, max_features=log2, max_depth=186, bootstrap=True \n",
      "[CV]  n_estimators=37, min_samples_leaf=5, max_features=log2, max_depth=186, bootstrap=True, total=   0.1s\n",
      "[CV] n_estimators=37, min_samples_leaf=5, max_features=log2, max_depth=186, bootstrap=True \n",
      "[CV]  n_estimators=37, min_samples_leaf=5, max_features=log2, max_depth=186, bootstrap=True, total=   0.1s\n",
      "[CV] n_estimators=37, min_samples_leaf=5, max_features=log2, max_depth=186, bootstrap=True \n",
      "[CV]  n_estimators=37, min_samples_leaf=5, max_features=log2, max_depth=186, bootstrap=True, total=   0.1s\n",
      "[CV] n_estimators=37, min_samples_leaf=5, max_features=log2, max_depth=186, bootstrap=True \n",
      "[CV]  n_estimators=37, min_samples_leaf=5, max_features=log2, max_depth=186, bootstrap=True, total=   0.1s\n",
      "[CV] n_estimators=153, min_samples_leaf=3, max_features=sqrt, max_depth=23, bootstrap=False \n",
      "[CV]  n_estimators=153, min_samples_leaf=3, max_features=sqrt, max_depth=23, bootstrap=False, total=   0.2s\n",
      "[CV] n_estimators=153, min_samples_leaf=3, max_features=sqrt, max_depth=23, bootstrap=False \n",
      "[CV]  n_estimators=153, min_samples_leaf=3, max_features=sqrt, max_depth=23, bootstrap=False, total=   0.2s\n",
      "[CV] n_estimators=153, min_samples_leaf=3, max_features=sqrt, max_depth=23, bootstrap=False \n",
      "[CV]  n_estimators=153, min_samples_leaf=3, max_features=sqrt, max_depth=23, bootstrap=False, total=   0.2s\n",
      "[CV] n_estimators=153, min_samples_leaf=3, max_features=sqrt, max_depth=23, bootstrap=False \n",
      "[CV]  n_estimators=153, min_samples_leaf=3, max_features=sqrt, max_depth=23, bootstrap=False, total=   0.2s\n",
      "[CV] n_estimators=153, min_samples_leaf=3, max_features=sqrt, max_depth=23, bootstrap=False \n",
      "[CV]  n_estimators=153, min_samples_leaf=3, max_features=sqrt, max_depth=23, bootstrap=False, total=   0.2s\n",
      "[CV] n_estimators=15, min_samples_leaf=1, max_features=None, max_depth=193, bootstrap=True \n",
      "[CV]  n_estimators=15, min_samples_leaf=1, max_features=None, max_depth=193, bootstrap=True, total=   0.0s\n",
      "[CV] n_estimators=15, min_samples_leaf=1, max_features=None, max_depth=193, bootstrap=True \n",
      "[CV]  n_estimators=15, min_samples_leaf=1, max_features=None, max_depth=193, bootstrap=True, total=   0.0s\n",
      "[CV] n_estimators=15, min_samples_leaf=1, max_features=None, max_depth=193, bootstrap=True \n",
      "[CV]  n_estimators=15, min_samples_leaf=1, max_features=None, max_depth=193, bootstrap=True, total=   0.0s\n",
      "[CV] n_estimators=15, min_samples_leaf=1, max_features=None, max_depth=193, bootstrap=True \n",
      "[CV]  n_estimators=15, min_samples_leaf=1, max_features=None, max_depth=193, bootstrap=True, total=   0.0s\n",
      "[CV] n_estimators=15, min_samples_leaf=1, max_features=None, max_depth=193, bootstrap=True \n"
     ]
    },
    {
     "name": "stdout",
     "output_type": "stream",
     "text": [
      "[CV]  n_estimators=15, min_samples_leaf=1, max_features=None, max_depth=193, bootstrap=True, total=   0.0s\n",
      "[CV] n_estimators=70, min_samples_leaf=1, max_features=sqrt, max_depth=166, bootstrap=True \n",
      "[CV]  n_estimators=70, min_samples_leaf=1, max_features=sqrt, max_depth=166, bootstrap=True, total=   0.1s\n",
      "[CV] n_estimators=70, min_samples_leaf=1, max_features=sqrt, max_depth=166, bootstrap=True \n",
      "[CV]  n_estimators=70, min_samples_leaf=1, max_features=sqrt, max_depth=166, bootstrap=True, total=   0.1s\n",
      "[CV] n_estimators=70, min_samples_leaf=1, max_features=sqrt, max_depth=166, bootstrap=True \n",
      "[CV]  n_estimators=70, min_samples_leaf=1, max_features=sqrt, max_depth=166, bootstrap=True, total=   0.1s\n",
      "[CV] n_estimators=70, min_samples_leaf=1, max_features=sqrt, max_depth=166, bootstrap=True \n",
      "[CV]  n_estimators=70, min_samples_leaf=1, max_features=sqrt, max_depth=166, bootstrap=True, total=   0.1s\n",
      "[CV] n_estimators=70, min_samples_leaf=1, max_features=sqrt, max_depth=166, bootstrap=True \n",
      "[CV]  n_estimators=70, min_samples_leaf=1, max_features=sqrt, max_depth=166, bootstrap=True, total=   0.1s\n",
      "[CV] n_estimators=246, min_samples_leaf=1, max_features=log2, max_depth=36, bootstrap=True \n",
      "[CV]  n_estimators=246, min_samples_leaf=1, max_features=log2, max_depth=36, bootstrap=True, total=   0.4s\n",
      "[CV] n_estimators=246, min_samples_leaf=1, max_features=log2, max_depth=36, bootstrap=True \n",
      "[CV]  n_estimators=246, min_samples_leaf=1, max_features=log2, max_depth=36, bootstrap=True, total=   0.4s\n",
      "[CV] n_estimators=246, min_samples_leaf=1, max_features=log2, max_depth=36, bootstrap=True \n",
      "[CV]  n_estimators=246, min_samples_leaf=1, max_features=log2, max_depth=36, bootstrap=True, total=   0.4s\n",
      "[CV] n_estimators=246, min_samples_leaf=1, max_features=log2, max_depth=36, bootstrap=True \n",
      "[CV]  n_estimators=246, min_samples_leaf=1, max_features=log2, max_depth=36, bootstrap=True, total=   0.4s\n",
      "[CV] n_estimators=246, min_samples_leaf=1, max_features=log2, max_depth=36, bootstrap=True \n",
      "[CV]  n_estimators=246, min_samples_leaf=1, max_features=log2, max_depth=36, bootstrap=True, total=   0.4s\n",
      "[CV] n_estimators=106, min_samples_leaf=3, max_features=sqrt, max_depth=149, bootstrap=True \n",
      "[CV]  n_estimators=106, min_samples_leaf=3, max_features=sqrt, max_depth=149, bootstrap=True, total=   0.2s\n",
      "[CV] n_estimators=106, min_samples_leaf=3, max_features=sqrt, max_depth=149, bootstrap=True \n",
      "[CV]  n_estimators=106, min_samples_leaf=3, max_features=sqrt, max_depth=149, bootstrap=True, total=   0.2s\n",
      "[CV] n_estimators=106, min_samples_leaf=3, max_features=sqrt, max_depth=149, bootstrap=True \n",
      "[CV]  n_estimators=106, min_samples_leaf=3, max_features=sqrt, max_depth=149, bootstrap=True, total=   0.2s\n",
      "[CV] n_estimators=106, min_samples_leaf=3, max_features=sqrt, max_depth=149, bootstrap=True \n",
      "[CV]  n_estimators=106, min_samples_leaf=3, max_features=sqrt, max_depth=149, bootstrap=True, total=   0.2s\n",
      "[CV] n_estimators=106, min_samples_leaf=3, max_features=sqrt, max_depth=149, bootstrap=True \n",
      "[CV]  n_estimators=106, min_samples_leaf=3, max_features=sqrt, max_depth=149, bootstrap=True, total=   0.2s\n",
      "[CV] n_estimators=128, min_samples_leaf=1, max_features=log2, max_depth=96, bootstrap=False \n",
      "[CV]  n_estimators=128, min_samples_leaf=1, max_features=log2, max_depth=96, bootstrap=False, total=   0.2s\n",
      "[CV] n_estimators=128, min_samples_leaf=1, max_features=log2, max_depth=96, bootstrap=False \n",
      "[CV]  n_estimators=128, min_samples_leaf=1, max_features=log2, max_depth=96, bootstrap=False, total=   0.2s\n",
      "[CV] n_estimators=128, min_samples_leaf=1, max_features=log2, max_depth=96, bootstrap=False \n",
      "[CV]  n_estimators=128, min_samples_leaf=1, max_features=log2, max_depth=96, bootstrap=False, total=   0.2s\n",
      "[CV] n_estimators=128, min_samples_leaf=1, max_features=log2, max_depth=96, bootstrap=False \n",
      "[CV]  n_estimators=128, min_samples_leaf=1, max_features=log2, max_depth=96, bootstrap=False, total=   0.2s\n",
      "[CV] n_estimators=128, min_samples_leaf=1, max_features=log2, max_depth=96, bootstrap=False \n",
      "[CV]  n_estimators=128, min_samples_leaf=1, max_features=log2, max_depth=96, bootstrap=False, total=   0.2s\n",
      "[CV] n_estimators=156, min_samples_leaf=3, max_features=None, max_depth=66, bootstrap=True \n",
      "[CV]  n_estimators=156, min_samples_leaf=3, max_features=None, max_depth=66, bootstrap=True, total=   0.3s\n",
      "[CV] n_estimators=156, min_samples_leaf=3, max_features=None, max_depth=66, bootstrap=True \n",
      "[CV]  n_estimators=156, min_samples_leaf=3, max_features=None, max_depth=66, bootstrap=True, total=   0.3s\n",
      "[CV] n_estimators=156, min_samples_leaf=3, max_features=None, max_depth=66, bootstrap=True \n",
      "[CV]  n_estimators=156, min_samples_leaf=3, max_features=None, max_depth=66, bootstrap=True, total=   0.3s\n",
      "[CV] n_estimators=156, min_samples_leaf=3, max_features=None, max_depth=66, bootstrap=True \n",
      "[CV]  n_estimators=156, min_samples_leaf=3, max_features=None, max_depth=66, bootstrap=True, total=   0.3s\n",
      "[CV] n_estimators=156, min_samples_leaf=3, max_features=None, max_depth=66, bootstrap=True \n",
      "[CV]  n_estimators=156, min_samples_leaf=3, max_features=None, max_depth=66, bootstrap=True, total=   0.3s\n",
      "[CV] n_estimators=224, min_samples_leaf=1, max_features=None, max_depth=123, bootstrap=True \n",
      "[CV]  n_estimators=224, min_samples_leaf=1, max_features=None, max_depth=123, bootstrap=True, total=   0.4s\n",
      "[CV] n_estimators=224, min_samples_leaf=1, max_features=None, max_depth=123, bootstrap=True \n",
      "[CV]  n_estimators=224, min_samples_leaf=1, max_features=None, max_depth=123, bootstrap=True, total=   0.4s\n",
      "[CV] n_estimators=224, min_samples_leaf=1, max_features=None, max_depth=123, bootstrap=True \n",
      "[CV]  n_estimators=224, min_samples_leaf=1, max_features=None, max_depth=123, bootstrap=True, total=   0.5s\n",
      "[CV] n_estimators=224, min_samples_leaf=1, max_features=None, max_depth=123, bootstrap=True \n",
      "[CV]  n_estimators=224, min_samples_leaf=1, max_features=None, max_depth=123, bootstrap=True, total=   0.5s\n",
      "[CV] n_estimators=224, min_samples_leaf=1, max_features=None, max_depth=123, bootstrap=True \n",
      "[CV]  n_estimators=224, min_samples_leaf=1, max_features=None, max_depth=123, bootstrap=True, total=   0.5s\n",
      "[CV] n_estimators=52, min_samples_leaf=3, max_features=None, max_depth=13, bootstrap=False \n",
      "[CV]  n_estimators=52, min_samples_leaf=3, max_features=None, max_depth=13, bootstrap=False, total=   0.1s\n",
      "[CV] n_estimators=52, min_samples_leaf=3, max_features=None, max_depth=13, bootstrap=False \n",
      "[CV]  n_estimators=52, min_samples_leaf=3, max_features=None, max_depth=13, bootstrap=False, total=   0.1s\n",
      "[CV] n_estimators=52, min_samples_leaf=3, max_features=None, max_depth=13, bootstrap=False \n",
      "[CV]  n_estimators=52, min_samples_leaf=3, max_features=None, max_depth=13, bootstrap=False, total=   0.1s\n",
      "[CV] n_estimators=52, min_samples_leaf=3, max_features=None, max_depth=13, bootstrap=False \n",
      "[CV]  n_estimators=52, min_samples_leaf=3, max_features=None, max_depth=13, bootstrap=False, total=   0.1s\n",
      "[CV] n_estimators=52, min_samples_leaf=3, max_features=None, max_depth=13, bootstrap=False \n",
      "[CV]  n_estimators=52, min_samples_leaf=3, max_features=None, max_depth=13, bootstrap=False, total=   0.1s\n",
      "[CV] n_estimators=248, min_samples_leaf=3, max_features=None, max_depth=53, bootstrap=False \n",
      "[CV]  n_estimators=248, min_samples_leaf=3, max_features=None, max_depth=53, bootstrap=False, total=   0.5s\n",
      "[CV] n_estimators=248, min_samples_leaf=3, max_features=None, max_depth=53, bootstrap=False \n",
      "[CV]  n_estimators=248, min_samples_leaf=3, max_features=None, max_depth=53, bootstrap=False, total=   0.5s\n",
      "[CV] n_estimators=248, min_samples_leaf=3, max_features=None, max_depth=53, bootstrap=False \n",
      "[CV]  n_estimators=248, min_samples_leaf=3, max_features=None, max_depth=53, bootstrap=False, total=   0.5s\n",
      "[CV] n_estimators=248, min_samples_leaf=3, max_features=None, max_depth=53, bootstrap=False \n",
      "[CV]  n_estimators=248, min_samples_leaf=3, max_features=None, max_depth=53, bootstrap=False, total=   0.5s\n",
      "[CV] n_estimators=248, min_samples_leaf=3, max_features=None, max_depth=53, bootstrap=False \n",
      "[CV]  n_estimators=248, min_samples_leaf=3, max_features=None, max_depth=53, bootstrap=False, total=   0.5s\n",
      "[CV] n_estimators=216, min_samples_leaf=5, max_features=log2, max_depth=86, bootstrap=True \n"
     ]
    },
    {
     "name": "stdout",
     "output_type": "stream",
     "text": [
      "[CV]  n_estimators=216, min_samples_leaf=5, max_features=log2, max_depth=86, bootstrap=True, total=   0.3s\n",
      "[CV] n_estimators=216, min_samples_leaf=5, max_features=log2, max_depth=86, bootstrap=True \n",
      "[CV]  n_estimators=216, min_samples_leaf=5, max_features=log2, max_depth=86, bootstrap=True, total=   0.3s\n",
      "[CV] n_estimators=216, min_samples_leaf=5, max_features=log2, max_depth=86, bootstrap=True \n",
      "[CV]  n_estimators=216, min_samples_leaf=5, max_features=log2, max_depth=86, bootstrap=True, total=   0.3s\n",
      "[CV] n_estimators=216, min_samples_leaf=5, max_features=log2, max_depth=86, bootstrap=True \n",
      "[CV]  n_estimators=216, min_samples_leaf=5, max_features=log2, max_depth=86, bootstrap=True, total=   0.3s\n",
      "[CV] n_estimators=216, min_samples_leaf=5, max_features=log2, max_depth=86, bootstrap=True \n",
      "[CV]  n_estimators=216, min_samples_leaf=5, max_features=log2, max_depth=86, bootstrap=True, total=   0.3s\n",
      "[CV] n_estimators=169, min_samples_leaf=5, max_features=log2, max_depth=116, bootstrap=True \n",
      "[CV]  n_estimators=169, min_samples_leaf=5, max_features=log2, max_depth=116, bootstrap=True, total=   0.3s\n",
      "[CV] n_estimators=169, min_samples_leaf=5, max_features=log2, max_depth=116, bootstrap=True \n",
      "[CV]  n_estimators=169, min_samples_leaf=5, max_features=log2, max_depth=116, bootstrap=True, total=   0.3s\n",
      "[CV] n_estimators=169, min_samples_leaf=5, max_features=log2, max_depth=116, bootstrap=True \n",
      "[CV]  n_estimators=169, min_samples_leaf=5, max_features=log2, max_depth=116, bootstrap=True, total=   0.3s\n",
      "[CV] n_estimators=169, min_samples_leaf=5, max_features=log2, max_depth=116, bootstrap=True \n",
      "[CV]  n_estimators=169, min_samples_leaf=5, max_features=log2, max_depth=116, bootstrap=True, total=   0.3s\n",
      "[CV] n_estimators=169, min_samples_leaf=5, max_features=log2, max_depth=116, bootstrap=True \n",
      "[CV]  n_estimators=169, min_samples_leaf=5, max_features=log2, max_depth=116, bootstrap=True, total=   0.3s\n",
      "[CV] n_estimators=153, min_samples_leaf=1, max_features=sqrt, max_depth=36, bootstrap=False \n",
      "[CV]  n_estimators=153, min_samples_leaf=1, max_features=sqrt, max_depth=36, bootstrap=False, total=   0.2s\n",
      "[CV] n_estimators=153, min_samples_leaf=1, max_features=sqrt, max_depth=36, bootstrap=False \n",
      "[CV]  n_estimators=153, min_samples_leaf=1, max_features=sqrt, max_depth=36, bootstrap=False, total=   0.2s\n",
      "[CV] n_estimators=153, min_samples_leaf=1, max_features=sqrt, max_depth=36, bootstrap=False \n",
      "[CV]  n_estimators=153, min_samples_leaf=1, max_features=sqrt, max_depth=36, bootstrap=False, total=   0.2s\n",
      "[CV] n_estimators=153, min_samples_leaf=1, max_features=sqrt, max_depth=36, bootstrap=False \n",
      "[CV]  n_estimators=153, min_samples_leaf=1, max_features=sqrt, max_depth=36, bootstrap=False, total=   0.3s\n",
      "[CV] n_estimators=153, min_samples_leaf=1, max_features=sqrt, max_depth=36, bootstrap=False \n",
      "[CV]  n_estimators=153, min_samples_leaf=1, max_features=sqrt, max_depth=36, bootstrap=False, total=   0.2s\n",
      "[CV] n_estimators=119, min_samples_leaf=5, max_features=log2, max_depth=36, bootstrap=True \n",
      "[CV]  n_estimators=119, min_samples_leaf=5, max_features=log2, max_depth=36, bootstrap=True, total=   0.2s\n",
      "[CV] n_estimators=119, min_samples_leaf=5, max_features=log2, max_depth=36, bootstrap=True \n",
      "[CV]  n_estimators=119, min_samples_leaf=5, max_features=log2, max_depth=36, bootstrap=True, total=   0.2s\n",
      "[CV] n_estimators=119, min_samples_leaf=5, max_features=log2, max_depth=36, bootstrap=True \n",
      "[CV]  n_estimators=119, min_samples_leaf=5, max_features=log2, max_depth=36, bootstrap=True, total=   0.2s\n",
      "[CV] n_estimators=119, min_samples_leaf=5, max_features=log2, max_depth=36, bootstrap=True \n",
      "[CV]  n_estimators=119, min_samples_leaf=5, max_features=log2, max_depth=36, bootstrap=True, total=   0.2s\n",
      "[CV] n_estimators=119, min_samples_leaf=5, max_features=log2, max_depth=36, bootstrap=True \n",
      "[CV]  n_estimators=119, min_samples_leaf=5, max_features=log2, max_depth=36, bootstrap=True, total=   0.2s\n",
      "[CV] n_estimators=85, min_samples_leaf=3, max_features=log2, max_depth=133, bootstrap=True \n",
      "[CV]  n_estimators=85, min_samples_leaf=3, max_features=log2, max_depth=133, bootstrap=True, total=   0.1s\n",
      "[CV] n_estimators=85, min_samples_leaf=3, max_features=log2, max_depth=133, bootstrap=True \n",
      "[CV]  n_estimators=85, min_samples_leaf=3, max_features=log2, max_depth=133, bootstrap=True, total=   0.1s\n",
      "[CV] n_estimators=85, min_samples_leaf=3, max_features=log2, max_depth=133, bootstrap=True \n",
      "[CV]  n_estimators=85, min_samples_leaf=3, max_features=log2, max_depth=133, bootstrap=True, total=   0.1s\n",
      "[CV] n_estimators=85, min_samples_leaf=3, max_features=log2, max_depth=133, bootstrap=True \n",
      "[CV]  n_estimators=85, min_samples_leaf=3, max_features=log2, max_depth=133, bootstrap=True, total=   0.1s\n",
      "[CV] n_estimators=85, min_samples_leaf=3, max_features=log2, max_depth=133, bootstrap=True \n",
      "[CV]  n_estimators=85, min_samples_leaf=3, max_features=log2, max_depth=133, bootstrap=True, total=   0.1s\n",
      "[CV] n_estimators=68, min_samples_leaf=1, max_features=sqrt, max_depth=179, bootstrap=False \n",
      "[CV]  n_estimators=68, min_samples_leaf=1, max_features=sqrt, max_depth=179, bootstrap=False, total=   0.1s\n",
      "[CV] n_estimators=68, min_samples_leaf=1, max_features=sqrt, max_depth=179, bootstrap=False \n",
      "[CV]  n_estimators=68, min_samples_leaf=1, max_features=sqrt, max_depth=179, bootstrap=False, total=   0.1s\n",
      "[CV] n_estimators=68, min_samples_leaf=1, max_features=sqrt, max_depth=179, bootstrap=False \n",
      "[CV]  n_estimators=68, min_samples_leaf=1, max_features=sqrt, max_depth=179, bootstrap=False, total=   0.1s\n",
      "[CV] n_estimators=68, min_samples_leaf=1, max_features=sqrt, max_depth=179, bootstrap=False \n",
      "[CV]  n_estimators=68, min_samples_leaf=1, max_features=sqrt, max_depth=179, bootstrap=False, total=   0.1s\n",
      "[CV] n_estimators=68, min_samples_leaf=1, max_features=sqrt, max_depth=179, bootstrap=False \n",
      "[CV]  n_estimators=68, min_samples_leaf=1, max_features=sqrt, max_depth=179, bootstrap=False, total=   0.1s\n",
      "[CV] n_estimators=218, min_samples_leaf=1, max_features=sqrt, max_depth=176, bootstrap=True \n",
      "[CV]  n_estimators=218, min_samples_leaf=1, max_features=sqrt, max_depth=176, bootstrap=True, total=   0.4s\n",
      "[CV] n_estimators=218, min_samples_leaf=1, max_features=sqrt, max_depth=176, bootstrap=True \n",
      "[CV]  n_estimators=218, min_samples_leaf=1, max_features=sqrt, max_depth=176, bootstrap=True, total=   0.4s\n",
      "[CV] n_estimators=218, min_samples_leaf=1, max_features=sqrt, max_depth=176, bootstrap=True \n",
      "[CV]  n_estimators=218, min_samples_leaf=1, max_features=sqrt, max_depth=176, bootstrap=True, total=   0.4s\n",
      "[CV] n_estimators=218, min_samples_leaf=1, max_features=sqrt, max_depth=176, bootstrap=True \n",
      "[CV]  n_estimators=218, min_samples_leaf=1, max_features=sqrt, max_depth=176, bootstrap=True, total=   0.4s\n",
      "[CV] n_estimators=218, min_samples_leaf=1, max_features=sqrt, max_depth=176, bootstrap=True \n",
      "[CV]  n_estimators=218, min_samples_leaf=1, max_features=sqrt, max_depth=176, bootstrap=True, total=   0.4s\n",
      "[CV] n_estimators=164, min_samples_leaf=3, max_features=log2, max_depth=106, bootstrap=True \n",
      "[CV]  n_estimators=164, min_samples_leaf=3, max_features=log2, max_depth=106, bootstrap=True, total=   0.3s\n",
      "[CV] n_estimators=164, min_samples_leaf=3, max_features=log2, max_depth=106, bootstrap=True \n",
      "[CV]  n_estimators=164, min_samples_leaf=3, max_features=log2, max_depth=106, bootstrap=True, total=   0.3s\n",
      "[CV] n_estimators=164, min_samples_leaf=3, max_features=log2, max_depth=106, bootstrap=True \n",
      "[CV]  n_estimators=164, min_samples_leaf=3, max_features=log2, max_depth=106, bootstrap=True, total=   0.3s\n",
      "[CV] n_estimators=164, min_samples_leaf=3, max_features=log2, max_depth=106, bootstrap=True \n",
      "[CV]  n_estimators=164, min_samples_leaf=3, max_features=log2, max_depth=106, bootstrap=True, total=   0.3s\n",
      "[CV] n_estimators=164, min_samples_leaf=3, max_features=log2, max_depth=106, bootstrap=True \n",
      "[CV]  n_estimators=164, min_samples_leaf=3, max_features=log2, max_depth=106, bootstrap=True, total=   0.3s\n",
      "[CV] n_estimators=145, min_samples_leaf=5, max_features=log2, max_depth=9, bootstrap=False \n",
      "[CV]  n_estimators=145, min_samples_leaf=5, max_features=log2, max_depth=9, bootstrap=False, total=   0.2s\n",
      "[CV] n_estimators=145, min_samples_leaf=5, max_features=log2, max_depth=9, bootstrap=False \n",
      "[CV]  n_estimators=145, min_samples_leaf=5, max_features=log2, max_depth=9, bootstrap=False, total=   0.2s\n",
      "[CV] n_estimators=145, min_samples_leaf=5, max_features=log2, max_depth=9, bootstrap=False \n"
     ]
    },
    {
     "name": "stdout",
     "output_type": "stream",
     "text": [
      "[CV]  n_estimators=145, min_samples_leaf=5, max_features=log2, max_depth=9, bootstrap=False, total=   0.2s\n",
      "[CV] n_estimators=145, min_samples_leaf=5, max_features=log2, max_depth=9, bootstrap=False \n",
      "[CV]  n_estimators=145, min_samples_leaf=5, max_features=log2, max_depth=9, bootstrap=False, total=   0.2s\n",
      "[CV] n_estimators=145, min_samples_leaf=5, max_features=log2, max_depth=9, bootstrap=False \n",
      "[CV]  n_estimators=145, min_samples_leaf=5, max_features=log2, max_depth=9, bootstrap=False, total=   0.2s\n",
      "[CV] n_estimators=205, min_samples_leaf=1, max_features=log2, max_depth=96, bootstrap=True \n",
      "[CV]  n_estimators=205, min_samples_leaf=1, max_features=log2, max_depth=96, bootstrap=True, total=   0.3s\n",
      "[CV] n_estimators=205, min_samples_leaf=1, max_features=log2, max_depth=96, bootstrap=True \n",
      "[CV]  n_estimators=205, min_samples_leaf=1, max_features=log2, max_depth=96, bootstrap=True, total=   0.3s\n",
      "[CV] n_estimators=205, min_samples_leaf=1, max_features=log2, max_depth=96, bootstrap=True \n",
      "[CV]  n_estimators=205, min_samples_leaf=1, max_features=log2, max_depth=96, bootstrap=True, total=   0.4s\n",
      "[CV] n_estimators=205, min_samples_leaf=1, max_features=log2, max_depth=96, bootstrap=True \n",
      "[CV]  n_estimators=205, min_samples_leaf=1, max_features=log2, max_depth=96, bootstrap=True, total=   0.3s\n",
      "[CV] n_estimators=205, min_samples_leaf=1, max_features=log2, max_depth=96, bootstrap=True \n",
      "[CV]  n_estimators=205, min_samples_leaf=1, max_features=log2, max_depth=96, bootstrap=True, total=   0.3s\n",
      "[CV] n_estimators=93, min_samples_leaf=5, max_features=sqrt, max_depth=109, bootstrap=True \n",
      "[CV]  n_estimators=93, min_samples_leaf=5, max_features=sqrt, max_depth=109, bootstrap=True, total=   0.1s\n",
      "[CV] n_estimators=93, min_samples_leaf=5, max_features=sqrt, max_depth=109, bootstrap=True \n",
      "[CV]  n_estimators=93, min_samples_leaf=5, max_features=sqrt, max_depth=109, bootstrap=True, total=   0.2s\n",
      "[CV] n_estimators=93, min_samples_leaf=5, max_features=sqrt, max_depth=109, bootstrap=True \n",
      "[CV]  n_estimators=93, min_samples_leaf=5, max_features=sqrt, max_depth=109, bootstrap=True, total=   0.1s\n",
      "[CV] n_estimators=93, min_samples_leaf=5, max_features=sqrt, max_depth=109, bootstrap=True \n",
      "[CV]  n_estimators=93, min_samples_leaf=5, max_features=sqrt, max_depth=109, bootstrap=True, total=   0.2s\n",
      "[CV] n_estimators=93, min_samples_leaf=5, max_features=sqrt, max_depth=109, bootstrap=True \n",
      "[CV]  n_estimators=93, min_samples_leaf=5, max_features=sqrt, max_depth=109, bootstrap=True, total=   0.1s\n",
      "[CV] n_estimators=171, min_samples_leaf=1, max_features=sqrt, max_depth=73, bootstrap=False \n",
      "[CV]  n_estimators=171, min_samples_leaf=1, max_features=sqrt, max_depth=73, bootstrap=False, total=   0.3s\n",
      "[CV] n_estimators=171, min_samples_leaf=1, max_features=sqrt, max_depth=73, bootstrap=False \n",
      "[CV]  n_estimators=171, min_samples_leaf=1, max_features=sqrt, max_depth=73, bootstrap=False, total=   0.3s\n",
      "[CV] n_estimators=171, min_samples_leaf=1, max_features=sqrt, max_depth=73, bootstrap=False \n",
      "[CV]  n_estimators=171, min_samples_leaf=1, max_features=sqrt, max_depth=73, bootstrap=False, total=   0.3s\n",
      "[CV] n_estimators=171, min_samples_leaf=1, max_features=sqrt, max_depth=73, bootstrap=False \n",
      "[CV]  n_estimators=171, min_samples_leaf=1, max_features=sqrt, max_depth=73, bootstrap=False, total=   0.3s\n",
      "[CV] n_estimators=171, min_samples_leaf=1, max_features=sqrt, max_depth=73, bootstrap=False \n",
      "[CV]  n_estimators=171, min_samples_leaf=1, max_features=sqrt, max_depth=73, bootstrap=False, total=   0.3s\n",
      "[CV] n_estimators=26, min_samples_leaf=3, max_features=None, max_depth=96, bootstrap=False \n",
      "[CV]  n_estimators=26, min_samples_leaf=3, max_features=None, max_depth=96, bootstrap=False, total=   0.1s\n",
      "[CV] n_estimators=26, min_samples_leaf=3, max_features=None, max_depth=96, bootstrap=False \n",
      "[CV]  n_estimators=26, min_samples_leaf=3, max_features=None, max_depth=96, bootstrap=False, total=   0.1s\n",
      "[CV] n_estimators=26, min_samples_leaf=3, max_features=None, max_depth=96, bootstrap=False \n",
      "[CV]  n_estimators=26, min_samples_leaf=3, max_features=None, max_depth=96, bootstrap=False, total=   0.1s\n",
      "[CV] n_estimators=26, min_samples_leaf=3, max_features=None, max_depth=96, bootstrap=False \n",
      "[CV]  n_estimators=26, min_samples_leaf=3, max_features=None, max_depth=96, bootstrap=False, total=   0.1s\n",
      "[CV] n_estimators=26, min_samples_leaf=3, max_features=None, max_depth=96, bootstrap=False \n",
      "[CV]  n_estimators=26, min_samples_leaf=3, max_features=None, max_depth=96, bootstrap=False, total=   0.1s\n",
      "[CV] n_estimators=232, min_samples_leaf=3, max_features=log2, max_depth=16, bootstrap=False \n",
      "[CV]  n_estimators=232, min_samples_leaf=3, max_features=log2, max_depth=16, bootstrap=False, total=   0.3s\n",
      "[CV] n_estimators=232, min_samples_leaf=3, max_features=log2, max_depth=16, bootstrap=False \n",
      "[CV]  n_estimators=232, min_samples_leaf=3, max_features=log2, max_depth=16, bootstrap=False, total=   0.3s\n",
      "[CV] n_estimators=232, min_samples_leaf=3, max_features=log2, max_depth=16, bootstrap=False \n",
      "[CV]  n_estimators=232, min_samples_leaf=3, max_features=log2, max_depth=16, bootstrap=False, total=   0.3s\n",
      "[CV] n_estimators=232, min_samples_leaf=3, max_features=log2, max_depth=16, bootstrap=False \n",
      "[CV]  n_estimators=232, min_samples_leaf=3, max_features=log2, max_depth=16, bootstrap=False, total=   0.3s\n",
      "[CV] n_estimators=232, min_samples_leaf=3, max_features=log2, max_depth=16, bootstrap=False \n",
      "[CV]  n_estimators=232, min_samples_leaf=3, max_features=log2, max_depth=16, bootstrap=False, total=   0.3s\n",
      "[CV] n_estimators=164, min_samples_leaf=3, max_features=sqrt, max_depth=43, bootstrap=True \n",
      "[CV]  n_estimators=164, min_samples_leaf=3, max_features=sqrt, max_depth=43, bootstrap=True, total=   0.3s\n",
      "[CV] n_estimators=164, min_samples_leaf=3, max_features=sqrt, max_depth=43, bootstrap=True \n",
      "[CV]  n_estimators=164, min_samples_leaf=3, max_features=sqrt, max_depth=43, bootstrap=True, total=   0.3s\n",
      "[CV] n_estimators=164, min_samples_leaf=3, max_features=sqrt, max_depth=43, bootstrap=True \n",
      "[CV]  n_estimators=164, min_samples_leaf=3, max_features=sqrt, max_depth=43, bootstrap=True, total=   0.3s\n",
      "[CV] n_estimators=164, min_samples_leaf=3, max_features=sqrt, max_depth=43, bootstrap=True \n",
      "[CV]  n_estimators=164, min_samples_leaf=3, max_features=sqrt, max_depth=43, bootstrap=True, total=   0.3s\n",
      "[CV] n_estimators=164, min_samples_leaf=3, max_features=sqrt, max_depth=43, bootstrap=True \n",
      "[CV]  n_estimators=164, min_samples_leaf=3, max_features=sqrt, max_depth=43, bootstrap=True, total=   0.3s\n",
      "[CV] n_estimators=246, min_samples_leaf=1, max_features=sqrt, max_depth=146, bootstrap=True \n",
      "[CV]  n_estimators=246, min_samples_leaf=1, max_features=sqrt, max_depth=146, bootstrap=True, total=   0.5s\n",
      "[CV] n_estimators=246, min_samples_leaf=1, max_features=sqrt, max_depth=146, bootstrap=True \n",
      "[CV]  n_estimators=246, min_samples_leaf=1, max_features=sqrt, max_depth=146, bootstrap=True, total=   0.5s\n",
      "[CV] n_estimators=246, min_samples_leaf=1, max_features=sqrt, max_depth=146, bootstrap=True \n",
      "[CV]  n_estimators=246, min_samples_leaf=1, max_features=sqrt, max_depth=146, bootstrap=True, total=   0.4s\n",
      "[CV] n_estimators=246, min_samples_leaf=1, max_features=sqrt, max_depth=146, bootstrap=True \n",
      "[CV]  n_estimators=246, min_samples_leaf=1, max_features=sqrt, max_depth=146, bootstrap=True, total=   0.4s\n",
      "[CV] n_estimators=246, min_samples_leaf=1, max_features=sqrt, max_depth=146, bootstrap=True \n",
      "[CV]  n_estimators=246, min_samples_leaf=1, max_features=sqrt, max_depth=146, bootstrap=True, total=   0.4s\n"
     ]
    },
    {
     "name": "stderr",
     "output_type": "stream",
     "text": [
      "[Parallel(n_jobs=1)]: Done 250 out of 250 | elapsed:   56.3s finished\n"
     ]
    },
    {
     "data": {
      "text/plain": [
       "RandomizedSearchCV(cv=5, estimator=RandomForestClassifier(), n_iter=50,\n",
       "                   param_distributions={'bootstrap': [True, False],\n",
       "                                        'max_depth': [3, 6, 9, 13, 16, 19, 23,\n",
       "                                                      26, 29, 33, 36, 39, 43,\n",
       "                                                      46, 49, 53, 56, 59, 63,\n",
       "                                                      66, 69, 73, 76, 79, 83,\n",
       "                                                      86, 89, 93, 96, 99, ...],\n",
       "                                        'max_features': [None, 'sqrt', 'log2'],\n",
       "                                        'min_samples_leaf': [1, 3, 5],\n",
       "                                        'n_estimators': [15, 16, 18, 19, 21, 22,\n",
       "                                                         24, 26, 27, 29, 30, 32,\n",
       "                                                         33, 35, 37, 38, 40, 41,\n",
       "                                                         43, 44, 46, 48, 49, 51,\n",
       "                                                         52, 54, 56, 57, 59, 60, ...]},\n",
       "                   verbose=2)"
      ]
     },
     "execution_count": 154,
     "metadata": {},
     "output_type": "execute_result"
    }
   ],
   "source": [
    "# begin cross validation, we will only try 50 fits in this case\n",
    "\n",
    "rf_random = RandomizedSearchCV(estimator = rfc, param_distributions = random_grid, n_iter = 50,\n",
    "                               cv = 5, verbose = 2)\n",
    "\n",
    "rf_random.fit(X_train, y_train)"
   ]
  },
  {
   "cell_type": "code",
   "execution_count": 155,
   "metadata": {},
   "outputs": [
    {
     "data": {
      "text/plain": [
       "{'n_estimators': 156,\n",
       " 'min_samples_leaf': 3,\n",
       " 'max_features': None,\n",
       " 'max_depth': 66,\n",
       " 'bootstrap': True}"
      ]
     },
     "execution_count": 155,
     "metadata": {},
     "output_type": "execute_result"
    }
   ],
   "source": [
    "# find the best set of parameters\n",
    "rf_random.best_params_"
   ]
  },
  {
   "cell_type": "code",
   "execution_count": 156,
   "metadata": {},
   "outputs": [
    {
     "data": {
      "text/plain": [
       "0.8373109032703534"
      ]
     },
     "execution_count": 156,
     "metadata": {},
     "output_type": "execute_result"
    }
   ],
   "source": [
    "# also check the best score\n",
    "rf_random.best_score_"
   ]
  },
  {
   "cell_type": "code",
   "execution_count": 157,
   "metadata": {},
   "outputs": [],
   "source": [
    "params = rf_random.best_params_"
   ]
  },
  {
   "cell_type": "code",
   "execution_count": 158,
   "metadata": {},
   "outputs": [
    {
     "data": {
      "text/plain": [
       "RandomForestClassifier(max_depth=66, max_features=None, min_samples_leaf=3,\n",
       "                       n_estimators=156)"
      ]
     },
     "execution_count": 158,
     "metadata": {},
     "output_type": "execute_result"
    }
   ],
   "source": [
    "# create the final model with best parameters\n",
    "\n",
    "rfc_final = RandomForestClassifier(**params)\n",
    "\n",
    "rfc_final.fit(X_train, y_train)"
   ]
  },
  {
   "cell_type": "code",
   "execution_count": 159,
   "metadata": {},
   "outputs": [],
   "source": [
    "predictions = rfc_final.predict(test)"
   ]
  },
  {
   "cell_type": "code",
   "execution_count": 160,
   "metadata": {},
   "outputs": [
    {
     "data": {
      "text/plain": [
       "array([0, 0, 0, 0, 1, 0, 0, 0, 1, 0, 0, 0, 1, 0, 1, 1, 0, 0, 1, 0, 0, 1,\n",
       "       1, 0, 1, 0, 1, 0, 1, 0, 0, 0, 1, 0, 0, 0, 0, 0, 0, 1, 0, 1, 0, 1,\n",
       "       1, 0, 0, 0, 1, 1, 0, 0, 1, 1, 0, 0, 0, 0, 0, 1, 0, 0, 0, 1, 1, 1,\n",
       "       1, 0, 0, 1, 1, 0, 0, 0, 1, 1, 0, 1, 0, 1, 1, 0, 0, 0, 0, 0, 1, 0,\n",
       "       1, 1, 0, 0, 1, 0, 0, 0, 1, 0, 1, 0, 1, 0, 0, 0, 1, 0, 0, 0, 0, 0,\n",
       "       0, 1, 1, 1, 1, 0, 0, 1, 1, 1, 1, 0, 1, 0, 0, 1, 0, 1, 0, 0, 0, 0,\n",
       "       0, 0, 0, 0, 0, 0, 0, 0, 0, 1, 0, 0, 1, 0, 0, 0, 1, 0, 1, 0, 0, 1,\n",
       "       0, 0, 1, 1, 1, 1, 1, 1, 1, 0, 0, 0, 0, 0, 1, 0, 0, 0, 0, 0, 0, 1,\n",
       "       1, 0, 1, 1, 0, 0, 1, 0, 1, 0, 1, 0, 0, 0, 0, 0, 1, 0, 1, 0, 1, 1,\n",
       "       0, 0, 1, 1, 0, 1, 0, 0, 1, 0, 1, 0, 0, 0, 0, 1, 0, 0, 1, 0, 1, 0,\n",
       "       1, 0, 1, 0, 1, 0, 0, 1, 0, 0, 0, 1, 0, 0, 0, 0, 0, 0, 1, 1, 1, 1,\n",
       "       0, 0, 0, 0, 1, 0, 1, 0, 1, 0, 0, 0, 0, 0, 0, 0, 1, 0, 0, 0, 1, 1,\n",
       "       0, 0, 0, 0, 0, 0, 0, 0, 1, 1, 0, 1, 0, 0, 0, 0, 0, 1, 1, 0, 1, 0,\n",
       "       0, 0, 0, 0, 0, 1, 0, 0, 0, 0, 1, 0, 0, 0, 0, 0, 0, 0, 1, 1, 0, 1,\n",
       "       0, 0, 0, 0, 0, 0, 1, 1, 0, 0, 0, 0, 0, 0, 0, 1, 1, 0, 1, 0, 0, 0,\n",
       "       1, 0, 0, 1, 0, 0, 0, 0, 0, 0, 0, 0, 0, 1, 0, 1, 0, 0, 0, 1, 1, 0,\n",
       "       0, 0, 1, 0, 1, 0, 0, 1, 0, 1, 1, 0, 1, 0, 0, 0, 1, 0, 0, 1, 0, 0,\n",
       "       1, 1, 0, 0, 0, 0, 0, 0, 0, 1, 0, 1, 0, 0, 0, 0, 0, 1, 0, 0, 0, 1,\n",
       "       0, 1, 0, 0, 1, 0, 1, 0, 0, 0, 0, 0, 1, 1, 1, 1, 0, 0, 1, 0, 0, 0],\n",
       "      dtype=int64)"
      ]
     },
     "execution_count": 160,
     "metadata": {},
     "output_type": "execute_result"
    }
   ],
   "source": [
    "predictions"
   ]
  },
  {
   "cell_type": "code",
   "execution_count": 161,
   "metadata": {},
   "outputs": [],
   "source": [
    "#reading csv file with correct classification\n",
    "\n",
    "answers = pd.read_csv('..\\\\..\\\\Data\\\\gender_submission.csv')['Survived']"
   ]
  },
  {
   "cell_type": "code",
   "execution_count": 162,
   "metadata": {},
   "outputs": [
    {
     "data": {
      "text/plain": [
       "0    0\n",
       "1    1\n",
       "2    0\n",
       "3    0\n",
       "4    1\n",
       "Name: Survived, dtype: int64"
      ]
     },
     "execution_count": 162,
     "metadata": {},
     "output_type": "execute_result"
    }
   ],
   "source": [
    "answers.head()"
   ]
  },
  {
   "cell_type": "code",
   "execution_count": 163,
   "metadata": {},
   "outputs": [],
   "source": [
    "#creating prediction dataFrame\n",
    "\n",
    "pred = pd.DataFrame(index = Final_Index, data = predictions)"
   ]
  },
  {
   "cell_type": "code",
   "execution_count": 164,
   "metadata": {},
   "outputs": [],
   "source": [
    "from sklearn.metrics import classification_report"
   ]
  },
  {
   "cell_type": "code",
   "execution_count": 165,
   "metadata": {},
   "outputs": [
    {
     "name": "stdout",
     "output_type": "stream",
     "text": [
      "              precision    recall  f1-score   support\n",
      "\n",
      "           0       0.92      0.89      0.91       276\n",
      "           1       0.80      0.86      0.83       142\n",
      "\n",
      "    accuracy                           0.88       418\n",
      "   macro avg       0.86      0.88      0.87       418\n",
      "weighted avg       0.88      0.88      0.88       418\n",
      "\n"
     ]
    }
   ],
   "source": [
    "#printing classification report\n",
    "\n",
    "print(classification_report(predictions,answers))"
   ]
  },
  {
   "cell_type": "code",
   "execution_count": 166,
   "metadata": {},
   "outputs": [],
   "source": [
    "from sklearn.metrics import confusion_matrix"
   ]
  },
  {
   "cell_type": "code",
   "execution_count": 167,
   "metadata": {},
   "outputs": [
    {
     "name": "stdout",
     "output_type": "stream",
     "text": [
      "[[246  30]\n",
      " [ 20 122]]\n"
     ]
    }
   ],
   "source": [
    "print(confusion_matrix(predictions,answers))"
   ]
  },
  {
   "cell_type": "code",
   "execution_count": 168,
   "metadata": {},
   "outputs": [],
   "source": [
    "# Clearly the logictic regression model does a better job!"
   ]
  }
 ],
 "metadata": {
  "kernelspec": {
   "display_name": "Python 3",
   "language": "python",
   "name": "python3"
  },
  "language_info": {
   "codemirror_mode": {
    "name": "ipython",
    "version": 3
   },
   "file_extension": ".py",
   "mimetype": "text/x-python",
   "name": "python",
   "nbconvert_exporter": "python",
   "pygments_lexer": "ipython3",
   "version": "3.7.9"
  }
 },
 "nbformat": 4,
 "nbformat_minor": 4
}
