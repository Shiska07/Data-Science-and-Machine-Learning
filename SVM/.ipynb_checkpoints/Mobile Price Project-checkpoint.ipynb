{
 "cells": [
  {
   "cell_type": "code",
   "execution_count": 2,
   "metadata": {},
   "outputs": [],
   "source": [
    "import numpy as np\n",
    "import pandas as pd\n",
    "import matplotlib.pyplot as plt\n",
    "import seaborn as sns\n",
    "%matplotlib inline"
   ]
  },
  {
   "cell_type": "code",
   "execution_count": 3,
   "metadata": {},
   "outputs": [],
   "source": [
    "path = 'C:/Users/shisk/Desktop/Projects/Data/teleCust1000t.csv'"
   ]
  },
  {
   "cell_type": "code",
   "execution_count": 4,
   "metadata": {},
   "outputs": [
    {
     "data": {
      "text/html": [
       "<div>\n",
       "<style scoped>\n",
       "    .dataframe tbody tr th:only-of-type {\n",
       "        vertical-align: middle;\n",
       "    }\n",
       "\n",
       "    .dataframe tbody tr th {\n",
       "        vertical-align: top;\n",
       "    }\n",
       "\n",
       "    .dataframe thead th {\n",
       "        text-align: right;\n",
       "    }\n",
       "</style>\n",
       "<table border=\"1\" class=\"dataframe\">\n",
       "  <thead>\n",
       "    <tr style=\"text-align: right;\">\n",
       "      <th></th>\n",
       "      <th>region</th>\n",
       "      <th>tenure</th>\n",
       "      <th>age</th>\n",
       "      <th>marital</th>\n",
       "      <th>address</th>\n",
       "      <th>income</th>\n",
       "      <th>ed</th>\n",
       "      <th>employ</th>\n",
       "      <th>retire</th>\n",
       "      <th>gender</th>\n",
       "      <th>reside</th>\n",
       "      <th>custcat</th>\n",
       "    </tr>\n",
       "  </thead>\n",
       "  <tbody>\n",
       "    <tr>\n",
       "      <th>0</th>\n",
       "      <td>2</td>\n",
       "      <td>13</td>\n",
       "      <td>44</td>\n",
       "      <td>1</td>\n",
       "      <td>9</td>\n",
       "      <td>64.0</td>\n",
       "      <td>4</td>\n",
       "      <td>5</td>\n",
       "      <td>0.0</td>\n",
       "      <td>0</td>\n",
       "      <td>2</td>\n",
       "      <td>1</td>\n",
       "    </tr>\n",
       "    <tr>\n",
       "      <th>1</th>\n",
       "      <td>3</td>\n",
       "      <td>11</td>\n",
       "      <td>33</td>\n",
       "      <td>1</td>\n",
       "      <td>7</td>\n",
       "      <td>136.0</td>\n",
       "      <td>5</td>\n",
       "      <td>5</td>\n",
       "      <td>0.0</td>\n",
       "      <td>0</td>\n",
       "      <td>6</td>\n",
       "      <td>4</td>\n",
       "    </tr>\n",
       "    <tr>\n",
       "      <th>2</th>\n",
       "      <td>3</td>\n",
       "      <td>68</td>\n",
       "      <td>52</td>\n",
       "      <td>1</td>\n",
       "      <td>24</td>\n",
       "      <td>116.0</td>\n",
       "      <td>1</td>\n",
       "      <td>29</td>\n",
       "      <td>0.0</td>\n",
       "      <td>1</td>\n",
       "      <td>2</td>\n",
       "      <td>3</td>\n",
       "    </tr>\n",
       "    <tr>\n",
       "      <th>3</th>\n",
       "      <td>2</td>\n",
       "      <td>33</td>\n",
       "      <td>33</td>\n",
       "      <td>0</td>\n",
       "      <td>12</td>\n",
       "      <td>33.0</td>\n",
       "      <td>2</td>\n",
       "      <td>0</td>\n",
       "      <td>0.0</td>\n",
       "      <td>1</td>\n",
       "      <td>1</td>\n",
       "      <td>1</td>\n",
       "    </tr>\n",
       "    <tr>\n",
       "      <th>4</th>\n",
       "      <td>2</td>\n",
       "      <td>23</td>\n",
       "      <td>30</td>\n",
       "      <td>1</td>\n",
       "      <td>9</td>\n",
       "      <td>30.0</td>\n",
       "      <td>1</td>\n",
       "      <td>2</td>\n",
       "      <td>0.0</td>\n",
       "      <td>0</td>\n",
       "      <td>4</td>\n",
       "      <td>3</td>\n",
       "    </tr>\n",
       "  </tbody>\n",
       "</table>\n",
       "</div>"
      ],
      "text/plain": [
       "   region  tenure  age  marital  address  income  ed  employ  retire  gender  \\\n",
       "0       2      13   44        1        9    64.0   4       5     0.0       0   \n",
       "1       3      11   33        1        7   136.0   5       5     0.0       0   \n",
       "2       3      68   52        1       24   116.0   1      29     0.0       1   \n",
       "3       2      33   33        0       12    33.0   2       0     0.0       1   \n",
       "4       2      23   30        1        9    30.0   1       2     0.0       0   \n",
       "\n",
       "   reside  custcat  \n",
       "0       2        1  \n",
       "1       6        4  \n",
       "2       2        3  \n",
       "3       1        1  \n",
       "4       4        3  "
      ]
     },
     "execution_count": 4,
     "metadata": {},
     "output_type": "execute_result"
    }
   ],
   "source": [
    "df = pd.read_csv(path)\n",
    "df.head()"
   ]
  },
  {
   "cell_type": "code",
   "execution_count": 5,
   "metadata": {},
   "outputs": [
    {
     "name": "stdout",
     "output_type": "stream",
     "text": [
      "<class 'pandas.core.frame.DataFrame'>\n",
      "RangeIndex: 1000 entries, 0 to 999\n",
      "Data columns (total 12 columns):\n",
      " #   Column   Non-Null Count  Dtype  \n",
      "---  ------   --------------  -----  \n",
      " 0   region   1000 non-null   int64  \n",
      " 1   tenure   1000 non-null   int64  \n",
      " 2   age      1000 non-null   int64  \n",
      " 3   marital  1000 non-null   int64  \n",
      " 4   address  1000 non-null   int64  \n",
      " 5   income   1000 non-null   float64\n",
      " 6   ed       1000 non-null   int64  \n",
      " 7   employ   1000 non-null   int64  \n",
      " 8   retire   1000 non-null   float64\n",
      " 9   gender   1000 non-null   int64  \n",
      " 10  reside   1000 non-null   int64  \n",
      " 11  custcat  1000 non-null   int64  \n",
      "dtypes: float64(2), int64(10)\n",
      "memory usage: 93.9 KB\n"
     ]
    }
   ],
   "source": [
    "df.info()"
   ]
  },
  {
   "cell_type": "code",
   "execution_count": 6,
   "metadata": {},
   "outputs": [
    {
     "data": {
      "text/plain": [
       "region     0\n",
       "tenure     0\n",
       "age        0\n",
       "marital    0\n",
       "address    0\n",
       "income     0\n",
       "ed         0\n",
       "employ     0\n",
       "retire     0\n",
       "gender     0\n",
       "reside     0\n",
       "custcat    0\n",
       "dtype: int64"
      ]
     },
     "execution_count": 6,
     "metadata": {},
     "output_type": "execute_result"
    }
   ],
   "source": [
    "df.isnull().sum()"
   ]
  },
  {
   "cell_type": "code",
   "execution_count": 7,
   "metadata": {},
   "outputs": [],
   "source": [
    "# drop null values and reset index\n",
    "df = df.dropna(axis = 'rows')\n",
    "df.reset_index(drop = True, inplace = True)"
   ]
  },
  {
   "cell_type": "code",
   "execution_count": 8,
   "metadata": {},
   "outputs": [
    {
     "data": {
      "text/plain": [
       "region     0\n",
       "tenure     0\n",
       "age        0\n",
       "marital    0\n",
       "address    0\n",
       "income     0\n",
       "ed         0\n",
       "employ     0\n",
       "retire     0\n",
       "gender     0\n",
       "reside     0\n",
       "custcat    0\n",
       "dtype: int64"
      ]
     },
     "execution_count": 8,
     "metadata": {},
     "output_type": "execute_result"
    }
   ],
   "source": [
    "#recheck presense of null entries\n",
    "df.isnull().sum()"
   ]
  },
  {
   "cell_type": "code",
   "execution_count": 9,
   "metadata": {},
   "outputs": [
    {
     "data": {
      "text/html": [
       "<div>\n",
       "<style scoped>\n",
       "    .dataframe tbody tr th:only-of-type {\n",
       "        vertical-align: middle;\n",
       "    }\n",
       "\n",
       "    .dataframe tbody tr th {\n",
       "        vertical-align: top;\n",
       "    }\n",
       "\n",
       "    .dataframe thead th {\n",
       "        text-align: right;\n",
       "    }\n",
       "</style>\n",
       "<table border=\"1\" class=\"dataframe\">\n",
       "  <thead>\n",
       "    <tr style=\"text-align: right;\">\n",
       "      <th></th>\n",
       "      <th>tenure</th>\n",
       "      <th>age</th>\n",
       "      <th>marital</th>\n",
       "      <th>address</th>\n",
       "      <th>income</th>\n",
       "      <th>ed</th>\n",
       "      <th>employ</th>\n",
       "      <th>retire</th>\n",
       "      <th>gender</th>\n",
       "      <th>reside</th>\n",
       "      <th>custcat</th>\n",
       "    </tr>\n",
       "    <tr>\n",
       "      <th>region</th>\n",
       "      <th></th>\n",
       "      <th></th>\n",
       "      <th></th>\n",
       "      <th></th>\n",
       "      <th></th>\n",
       "      <th></th>\n",
       "      <th></th>\n",
       "      <th></th>\n",
       "      <th></th>\n",
       "      <th></th>\n",
       "      <th></th>\n",
       "    </tr>\n",
       "  </thead>\n",
       "  <tbody>\n",
       "    <tr>\n",
       "      <th>1</th>\n",
       "      <td>322</td>\n",
       "      <td>322</td>\n",
       "      <td>322</td>\n",
       "      <td>322</td>\n",
       "      <td>322</td>\n",
       "      <td>322</td>\n",
       "      <td>322</td>\n",
       "      <td>322</td>\n",
       "      <td>322</td>\n",
       "      <td>322</td>\n",
       "      <td>322</td>\n",
       "    </tr>\n",
       "    <tr>\n",
       "      <th>2</th>\n",
       "      <td>334</td>\n",
       "      <td>334</td>\n",
       "      <td>334</td>\n",
       "      <td>334</td>\n",
       "      <td>334</td>\n",
       "      <td>334</td>\n",
       "      <td>334</td>\n",
       "      <td>334</td>\n",
       "      <td>334</td>\n",
       "      <td>334</td>\n",
       "      <td>334</td>\n",
       "    </tr>\n",
       "    <tr>\n",
       "      <th>3</th>\n",
       "      <td>344</td>\n",
       "      <td>344</td>\n",
       "      <td>344</td>\n",
       "      <td>344</td>\n",
       "      <td>344</td>\n",
       "      <td>344</td>\n",
       "      <td>344</td>\n",
       "      <td>344</td>\n",
       "      <td>344</td>\n",
       "      <td>344</td>\n",
       "      <td>344</td>\n",
       "    </tr>\n",
       "  </tbody>\n",
       "</table>\n",
       "</div>"
      ],
      "text/plain": [
       "        tenure  age  marital  address  income   ed  employ  retire  gender  \\\n",
       "region                                                                       \n",
       "1          322  322      322      322     322  322     322     322     322   \n",
       "2          334  334      334      334     334  334     334     334     334   \n",
       "3          344  344      344      344     344  344     344     344     344   \n",
       "\n",
       "        reside  custcat  \n",
       "region                   \n",
       "1          322      322  \n",
       "2          334      334  \n",
       "3          344      344  "
      ]
     },
     "execution_count": 9,
     "metadata": {},
     "output_type": "execute_result"
    }
   ],
   "source": [
    "df.groupby('region').count()"
   ]
  },
  {
   "cell_type": "markdown",
   "metadata": {},
   "source": [
    "## Data Standardization"
   ]
  },
  {
   "cell_type": "code",
   "execution_count": 10,
   "metadata": {},
   "outputs": [],
   "source": [
    "from sklearn.preprocessing import StandardScaler"
   ]
  },
  {
   "cell_type": "code",
   "execution_count": 11,
   "metadata": {},
   "outputs": [],
   "source": [
    "sc = StandardScaler()"
   ]
  },
  {
   "cell_type": "code",
   "execution_count": 12,
   "metadata": {},
   "outputs": [
    {
     "data": {
      "text/plain": [
       "StandardScaler()"
      ]
     },
     "execution_count": 12,
     "metadata": {},
     "output_type": "execute_result"
    }
   ],
   "source": [
    "sc.fit(df.drop(labels = ['region'], axis = 1))"
   ]
  },
  {
   "cell_type": "code",
   "execution_count": 13,
   "metadata": {},
   "outputs": [],
   "source": [
    "sc_features = sc.transform(df.drop('region', axis = 1)) "
   ]
  },
  {
   "cell_type": "code",
   "execution_count": 14,
   "metadata": {},
   "outputs": [
    {
     "data": {
      "text/plain": [
       "Index(['region', 'tenure', 'age', 'marital', 'address', 'income', 'ed',\n",
       "       'employ', 'retire', 'gender', 'reside', 'custcat'],\n",
       "      dtype='object')"
      ]
     },
     "execution_count": 14,
     "metadata": {},
     "output_type": "execute_result"
    }
   ],
   "source": [
    "df.columns"
   ]
  },
  {
   "cell_type": "code",
   "execution_count": 15,
   "metadata": {},
   "outputs": [
    {
     "data": {
      "text/html": [
       "<div>\n",
       "<style scoped>\n",
       "    .dataframe tbody tr th:only-of-type {\n",
       "        vertical-align: middle;\n",
       "    }\n",
       "\n",
       "    .dataframe tbody tr th {\n",
       "        vertical-align: top;\n",
       "    }\n",
       "\n",
       "    .dataframe thead th {\n",
       "        text-align: right;\n",
       "    }\n",
       "</style>\n",
       "<table border=\"1\" class=\"dataframe\">\n",
       "  <thead>\n",
       "    <tr style=\"text-align: right;\">\n",
       "      <th></th>\n",
       "      <th>tenure</th>\n",
       "      <th>age</th>\n",
       "      <th>marital</th>\n",
       "      <th>address</th>\n",
       "      <th>income</th>\n",
       "      <th>ed</th>\n",
       "      <th>employ</th>\n",
       "      <th>retire</th>\n",
       "      <th>gender</th>\n",
       "      <th>reside</th>\n",
       "      <th>custcat</th>\n",
       "    </tr>\n",
       "  </thead>\n",
       "  <tbody>\n",
       "    <tr>\n",
       "      <th>0</th>\n",
       "      <td>-1.055125</td>\n",
       "      <td>0.184505</td>\n",
       "      <td>1.010051</td>\n",
       "      <td>-0.253034</td>\n",
       "      <td>-0.126506</td>\n",
       "      <td>1.087753</td>\n",
       "      <td>-0.594123</td>\n",
       "      <td>-0.222076</td>\n",
       "      <td>-1.034598</td>\n",
       "      <td>-0.230650</td>\n",
       "      <td>-1.327980</td>\n",
       "    </tr>\n",
       "    <tr>\n",
       "      <th>1</th>\n",
       "      <td>-1.148806</td>\n",
       "      <td>-0.691812</td>\n",
       "      <td>1.010051</td>\n",
       "      <td>-0.451415</td>\n",
       "      <td>0.546450</td>\n",
       "      <td>1.906227</td>\n",
       "      <td>-0.594123</td>\n",
       "      <td>-0.222076</td>\n",
       "      <td>-1.034598</td>\n",
       "      <td>2.556662</td>\n",
       "      <td>1.351199</td>\n",
       "    </tr>\n",
       "    <tr>\n",
       "      <th>2</th>\n",
       "      <td>1.521092</td>\n",
       "      <td>0.821826</td>\n",
       "      <td>1.010051</td>\n",
       "      <td>1.234819</td>\n",
       "      <td>0.359517</td>\n",
       "      <td>-1.367671</td>\n",
       "      <td>1.787528</td>\n",
       "      <td>-0.222076</td>\n",
       "      <td>0.966559</td>\n",
       "      <td>-0.230650</td>\n",
       "      <td>0.458140</td>\n",
       "    </tr>\n",
       "    <tr>\n",
       "      <th>3</th>\n",
       "      <td>-0.118319</td>\n",
       "      <td>-0.691812</td>\n",
       "      <td>-0.990050</td>\n",
       "      <td>0.044536</td>\n",
       "      <td>-0.416251</td>\n",
       "      <td>-0.549196</td>\n",
       "      <td>-1.090300</td>\n",
       "      <td>-0.222076</td>\n",
       "      <td>0.966559</td>\n",
       "      <td>-0.927478</td>\n",
       "      <td>-1.327980</td>\n",
       "    </tr>\n",
       "    <tr>\n",
       "      <th>4</th>\n",
       "      <td>-0.586722</td>\n",
       "      <td>-0.930808</td>\n",
       "      <td>1.010051</td>\n",
       "      <td>-0.253034</td>\n",
       "      <td>-0.444291</td>\n",
       "      <td>-1.367671</td>\n",
       "      <td>-0.891829</td>\n",
       "      <td>-0.222076</td>\n",
       "      <td>-1.034598</td>\n",
       "      <td>1.163006</td>\n",
       "      <td>0.458140</td>\n",
       "    </tr>\n",
       "  </tbody>\n",
       "</table>\n",
       "</div>"
      ],
      "text/plain": [
       "     tenure       age   marital   address    income        ed    employ  \\\n",
       "0 -1.055125  0.184505  1.010051 -0.253034 -0.126506  1.087753 -0.594123   \n",
       "1 -1.148806 -0.691812  1.010051 -0.451415  0.546450  1.906227 -0.594123   \n",
       "2  1.521092  0.821826  1.010051  1.234819  0.359517 -1.367671  1.787528   \n",
       "3 -0.118319 -0.691812 -0.990050  0.044536 -0.416251 -0.549196 -1.090300   \n",
       "4 -0.586722 -0.930808  1.010051 -0.253034 -0.444291 -1.367671 -0.891829   \n",
       "\n",
       "     retire    gender    reside   custcat  \n",
       "0 -0.222076 -1.034598 -0.230650 -1.327980  \n",
       "1 -0.222076 -1.034598  2.556662  1.351199  \n",
       "2 -0.222076  0.966559 -0.230650  0.458140  \n",
       "3 -0.222076  0.966559 -0.927478 -1.327980  \n",
       "4 -0.222076 -1.034598  1.163006  0.458140  "
      ]
     },
     "execution_count": 15,
     "metadata": {},
     "output_type": "execute_result"
    }
   ],
   "source": [
    "df_feat = pd.DataFrame(sc_features, columns = ['tenure', 'age', 'marital', 'address', 'income', 'ed', 'employ', 'retire', 'gender', 'reside', 'custcat'])\n",
    "df_feat.head()"
   ]
  },
  {
   "cell_type": "code",
   "execution_count": 16,
   "metadata": {},
   "outputs": [],
   "source": [
    "from sklearn.model_selection import train_test_split"
   ]
  },
  {
   "cell_type": "code",
   "execution_count": 17,
   "metadata": {},
   "outputs": [],
   "source": [
    "X = df_feat\n",
    "y = df['region']\n",
    "\n",
    "X_train, X_test, y_train, y_test = train_test_split(X, y, test_size=0.20, random_state=100)"
   ]
  },
  {
   "cell_type": "code",
   "execution_count": 18,
   "metadata": {},
   "outputs": [],
   "source": [
    "from sklearn.svm import SVC\n",
    "\n",
    "svc = SVC()"
   ]
  },
  {
   "cell_type": "code",
   "execution_count": 19,
   "metadata": {},
   "outputs": [],
   "source": [
    "from sklearn.model_selection import RandomizedSearchCV"
   ]
  },
  {
   "cell_type": "code",
   "execution_count": 20,
   "metadata": {},
   "outputs": [],
   "source": [
    "C = [float(x) for x in np.linspace(start = 0.02, stop = 100, num = 1000)]\n",
    "\n",
    "grid = {\n",
    "    'kernel': ['linear', 'poly','rbf','sigmoid'],\n",
    "    'C': C,\n",
    "    'gamma': ['auto']\n",
    "}"
   ]
  },
  {
   "cell_type": "code",
   "execution_count": 21,
   "metadata": {},
   "outputs": [],
   "source": [
    "svc_cv = RandomizedSearchCV(estimator = svc, param_distributions = grid, cv = 5, n_iter = 120, verbose = 1)"
   ]
  },
  {
   "cell_type": "code",
   "execution_count": 22,
   "metadata": {},
   "outputs": [
    {
     "name": "stdout",
     "output_type": "stream",
     "text": [
      "Fitting 5 folds for each of 120 candidates, totalling 600 fits\n"
     ]
    },
    {
     "name": "stderr",
     "output_type": "stream",
     "text": [
      "[Parallel(n_jobs=1)]: Using backend SequentialBackend with 1 concurrent workers.\n",
      "[Parallel(n_jobs=1)]: Done 600 out of 600 | elapsed:  3.0min finished\n"
     ]
    },
    {
     "data": {
      "text/plain": [
       "RandomizedSearchCV(cv=5, estimator=SVC(), n_iter=120,\n",
       "                   param_distributions={'C': [0.02, 0.12008008008008009,\n",
       "                                              0.22016016016016016,\n",
       "                                              0.3202402402402403,\n",
       "                                              0.42032032032032035,\n",
       "                                              0.5204004004004005,\n",
       "                                              0.6204804804804805,\n",
       "                                              0.7205605605605606,\n",
       "                                              0.8206406406406407,\n",
       "                                              0.9207207207207208,\n",
       "                                              1.020800800800801,\n",
       "                                              1.120880880880881,\n",
       "                                              1.220960960960961,\n",
       "                                              1.3210410410410411,\n",
       "                                              1.4211211211211212,\n",
       "                                              1.5212012012012013,\n",
       "                                              1.6212812812812814,\n",
       "                                              1.7213613613613614,\n",
       "                                              1.8214414414414415,\n",
       "                                              1.9215215215215216,\n",
       "                                              2.021601601601602,\n",
       "                                              2.121681681681682,\n",
       "                                              2.221761761761762,\n",
       "                                              2.321841841841842,\n",
       "                                              2.421921921921922,\n",
       "                                              2.522002002002002,\n",
       "                                              2.6220820820820823,\n",
       "                                              2.7221621621621623,\n",
       "                                              2.8222422422422424,\n",
       "                                              2.9223223223223225, ...],\n",
       "                                        'gamma': ['auto'],\n",
       "                                        'kernel': ['linear', 'poly', 'rbf',\n",
       "                                                   'sigmoid']},\n",
       "                   verbose=1)"
      ]
     },
     "execution_count": 22,
     "metadata": {},
     "output_type": "execute_result"
    }
   ],
   "source": [
    "svc_cv.fit(X_train, y_train)"
   ]
  },
  {
   "cell_type": "code",
   "execution_count": 23,
   "metadata": {},
   "outputs": [],
   "source": [
    "params = svc_cv.best_params_"
   ]
  },
  {
   "cell_type": "code",
   "execution_count": 24,
   "metadata": {},
   "outputs": [
    {
     "data": {
      "text/plain": [
       "SVC(C=1.8214414414414415, gamma='auto', kernel='sigmoid')"
      ]
     },
     "execution_count": 24,
     "metadata": {},
     "output_type": "execute_result"
    }
   ],
   "source": [
    "svc_final = SVC(**params)\n",
    "svc_final.fit(X_train, y_train)"
   ]
  },
  {
   "cell_type": "code",
   "execution_count": 25,
   "metadata": {},
   "outputs": [],
   "source": [
    "from sklearn.metrics import confusion_matrix, classification_report\n",
    "\n",
    "predictions = svc_final.predict(X_test)"
   ]
  },
  {
   "cell_type": "code",
   "execution_count": 26,
   "metadata": {},
   "outputs": [
    {
     "name": "stdout",
     "output_type": "stream",
     "text": [
      "[[13 26 32]\n",
      " [11 32 19]\n",
      " [10 31 26]]\n",
      "              precision    recall  f1-score   support\n",
      "\n",
      "           1       0.38      0.18      0.25        71\n",
      "           2       0.36      0.52      0.42        62\n",
      "           3       0.34      0.39      0.36        67\n",
      "\n",
      "    accuracy                           0.36       200\n",
      "   macro avg       0.36      0.36      0.34       200\n",
      "weighted avg       0.36      0.35      0.34       200\n",
      "\n"
     ]
    }
   ],
   "source": [
    "print(confusion_matrix(y_test, predictions))\n",
    "print(classification_report(y_test, predictions))"
   ]
  },
  {
   "cell_type": "markdown",
   "metadata": {},
   "source": [
    "## Princial Component Analysis(PCA) for dimensionality reduction"
   ]
  },
  {
   "cell_type": "code",
   "execution_count": 28,
   "metadata": {},
   "outputs": [],
   "source": [
    "from sklearn.decomposition import PCA\n",
    "from tqdm import tqdm"
   ]
  },
  {
   "cell_type": "code",
   "execution_count": 29,
   "metadata": {},
   "outputs": [],
   "source": [
    "def get_component_performance(feat):\n",
    "    results = []\n",
    "    for k in tqdm(range(2, 10)):\n",
    "        pca = PCA(n_components = k)\n",
    "        cmpts = pca.fit_transform(feat)\n",
    "        variance = np.sum(pca.explained_variance_ratio_)\n",
    "        results.append([k, variance])\n",
    "    return results"
   ]
  },
  {
   "cell_type": "code",
   "execution_count": 30,
   "metadata": {},
   "outputs": [
    {
     "name": "stderr",
     "output_type": "stream",
     "text": [
      "100%|███████████████████████████████████████████████████████████████████████████████████████████████████| 8/8 [00:00<00:00, 20.67it/s]\n"
     ]
    }
   ],
   "source": [
    "res = get_component_performance(X_train)"
   ]
  },
  {
   "cell_type": "code",
   "execution_count": 32,
   "metadata": {},
   "outputs": [],
   "source": [
    "results_df = pd.DataFrame(res, columns = ['Components', 'Explained Variance'])"
   ]
  },
  {
   "cell_type": "code",
   "execution_count": 33,
   "metadata": {},
   "outputs": [
    {
     "data": {
      "text/html": [
       "<div>\n",
       "<style scoped>\n",
       "    .dataframe tbody tr th:only-of-type {\n",
       "        vertical-align: middle;\n",
       "    }\n",
       "\n",
       "    .dataframe tbody tr th {\n",
       "        vertical-align: top;\n",
       "    }\n",
       "\n",
       "    .dataframe thead th {\n",
       "        text-align: right;\n",
       "    }\n",
       "</style>\n",
       "<table border=\"1\" class=\"dataframe\">\n",
       "  <thead>\n",
       "    <tr style=\"text-align: right;\">\n",
       "      <th></th>\n",
       "      <th>Components</th>\n",
       "      <th>Explained Variance</th>\n",
       "    </tr>\n",
       "  </thead>\n",
       "  <tbody>\n",
       "    <tr>\n",
       "      <th>0</th>\n",
       "      <td>2</td>\n",
       "      <td>0.440839</td>\n",
       "    </tr>\n",
       "    <tr>\n",
       "      <th>1</th>\n",
       "      <td>3</td>\n",
       "      <td>0.565638</td>\n",
       "    </tr>\n",
       "    <tr>\n",
       "      <th>2</th>\n",
       "      <td>4</td>\n",
       "      <td>0.657606</td>\n",
       "    </tr>\n",
       "    <tr>\n",
       "      <th>3</th>\n",
       "      <td>5</td>\n",
       "      <td>0.747156</td>\n",
       "    </tr>\n",
       "    <tr>\n",
       "      <th>4</th>\n",
       "      <td>6</td>\n",
       "      <td>0.814616</td>\n",
       "    </tr>\n",
       "    <tr>\n",
       "      <th>5</th>\n",
       "      <td>7</td>\n",
       "      <td>0.877281</td>\n",
       "    </tr>\n",
       "    <tr>\n",
       "      <th>6</th>\n",
       "      <td>8</td>\n",
       "      <td>0.918952</td>\n",
       "    </tr>\n",
       "    <tr>\n",
       "      <th>7</th>\n",
       "      <td>9</td>\n",
       "      <td>0.952619</td>\n",
       "    </tr>\n",
       "  </tbody>\n",
       "</table>\n",
       "</div>"
      ],
      "text/plain": [
       "   Components  Explained Variance\n",
       "0           2            0.440839\n",
       "1           3            0.565638\n",
       "2           4            0.657606\n",
       "3           5            0.747156\n",
       "4           6            0.814616\n",
       "5           7            0.877281\n",
       "6           8            0.918952\n",
       "7           9            0.952619"
      ]
     },
     "execution_count": 33,
     "metadata": {},
     "output_type": "execute_result"
    }
   ],
   "source": [
    "results_df"
   ]
  },
  {
   "cell_type": "code",
   "execution_count": 36,
   "metadata": {},
   "outputs": [
    {
     "data": {
      "image/png": "[encoded data removed]",
      "text/plain": [
       "<Figure size 432x288 with 1 Axes>"
      ]
     },
     "metadata": {
      "needs_background": "light"
     },
     "output_type": "display_data"
    }
   ],
   "source": [
    "ax = sns.lineplot(data = results_df, x = 'Components', y = 'Explained Variance')\n",
    "ax.grid(b=True, which='major', color='black', linewidth=0.075)\n",
    "ax.grid(b=True, which='minor', color='black', linewidth=0.075)"
   ]
  },
  {
   "cell_type": "code",
   "execution_count": 38,
   "metadata": {},
   "outputs": [],
   "source": [
    "pca = PCA(n_components = 7)\n",
    "train_cmpts = pca.fit_transform(X_train)"
   ]
  },
  {
   "cell_type": "code",
   "execution_count": 39,
   "metadata": {},
   "outputs": [],
   "source": [
    "test_cmpts = pca.transform(X_test)"
   ]
  },
  {
   "cell_type": "code",
   "execution_count": 40,
   "metadata": {},
   "outputs": [
    {
     "name": "stdout",
     "output_type": "stream",
     "text": [
      "Fitting 5 folds for each of 120 candidates, totalling 600 fits\n"
     ]
    },
    {
     "name": "stderr",
     "output_type": "stream",
     "text": [
      "[Parallel(n_jobs=1)]: Using backend SequentialBackend with 1 concurrent workers.\n",
      "[Parallel(n_jobs=1)]: Done 600 out of 600 | elapsed:  4.4min finished\n"
     ]
    },
    {
     "data": {
      "text/plain": [
       "RandomizedSearchCV(cv=5, estimator=SVC(), n_iter=120,\n",
       "                   param_distributions={'C': [0.02, 0.12008008008008009,\n",
       "                                              0.22016016016016016,\n",
       "                                              0.3202402402402403,\n",
       "                                              0.42032032032032035,\n",
       "                                              0.5204004004004005,\n",
       "                                              0.6204804804804805,\n",
       "                                              0.7205605605605606,\n",
       "                                              0.8206406406406407,\n",
       "                                              0.9207207207207208,\n",
       "                                              1.020800800800801,\n",
       "                                              1.120880880880881,\n",
       "                                              1.220960960960961,\n",
       "                                              1.3210410410410411,\n",
       "                                              1.4211211211211212,\n",
       "                                              1.5212012012012013,\n",
       "                                              1.6212812812812814,\n",
       "                                              1.7213613613613614,\n",
       "                                              1.8214414414414415,\n",
       "                                              1.9215215215215216,\n",
       "                                              2.021601601601602,\n",
       "                                              2.121681681681682,\n",
       "                                              2.221761761761762,\n",
       "                                              2.321841841841842,\n",
       "                                              2.421921921921922,\n",
       "                                              2.522002002002002,\n",
       "                                              2.6220820820820823,\n",
       "                                              2.7221621621621623,\n",
       "                                              2.8222422422422424,\n",
       "                                              2.9223223223223225, ...],\n",
       "                                        'gamma': ['auto'],\n",
       "                                        'kernel': ['linear', 'poly', 'rbf',\n",
       "                                                   'sigmoid']},\n",
       "                   verbose=1)"
      ]
     },
     "execution_count": 40,
     "metadata": {},
     "output_type": "execute_result"
    }
   ],
   "source": [
    "svc_cv.fit(train_cmpts, y_train)"
   ]
  },
  {
   "cell_type": "code",
   "execution_count": 41,
   "metadata": {},
   "outputs": [],
   "source": [
    "params = svc_cv.best_params_"
   ]
  },
  {
   "cell_type": "code",
   "execution_count": 42,
   "metadata": {},
   "outputs": [
    {
     "data": {
      "text/plain": [
       "SVC(C=59.167327327327335, gamma='auto', kernel='sigmoid')"
      ]
     },
     "execution_count": 42,
     "metadata": {},
     "output_type": "execute_result"
    }
   ],
   "source": [
    "svc_final = SVC(**params)\n",
    "svc_final.fit(train_cmpts, y_train)"
   ]
  },
  {
   "cell_type": "code",
   "execution_count": 43,
   "metadata": {},
   "outputs": [],
   "source": [
    "from sklearn.metrics import confusion_matrix, classification_report\n",
    "\n",
    "predictions = svc_final.predict(test_cmpts)"
   ]
  },
  {
   "cell_type": "code",
   "execution_count": 44,
   "metadata": {},
   "outputs": [
    {
     "name": "stdout",
     "output_type": "stream",
     "text": [
      "[[19 19 33]\n",
      " [13 29 20]\n",
      " [25 19 23]]\n",
      "              precision    recall  f1-score   support\n",
      "\n",
      "           1       0.33      0.27      0.30        71\n",
      "           2       0.43      0.47      0.45        62\n",
      "           3       0.30      0.34      0.32        67\n",
      "\n",
      "    accuracy                           0.36       200\n",
      "   macro avg       0.36      0.36      0.36       200\n",
      "weighted avg       0.35      0.35      0.35       200\n",
      "\n"
     ]
    }
   ],
   "source": [
    "print(confusion_matrix(y_test, predictions))\n",
    "print(classification_report(y_test, predictions))"
   ]
  },
  {
   "cell_type": "code",
   "execution_count": null,
   "metadata": {},
   "outputs": [],
   "source": []
  }
 ],
 "metadata": {
  "kernelspec": {
   "display_name": "Python 3",
   "language": "python",
   "name": "python3"
  },
  "language_info": {
   "codemirror_mode": {
    "name": "ipython",
    "version": 3
   },
   "file_extension": ".py",
   "mimetype": "text/x-python",
   "name": "python",
   "nbconvert_exporter": "python",
   "pygments_lexer": "ipython3",
   "version": "3.7.9"
  }
 },
 "nbformat": 4,
 "nbformat_minor": 4
}
