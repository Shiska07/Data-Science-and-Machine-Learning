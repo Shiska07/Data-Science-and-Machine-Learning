{
 "cells": [
  {
   "cell_type": "code",
   "execution_count": 55,
   "metadata": {},
   "outputs": [],
   "source": [
    "import numpy as np\n",
    "import pandas as pd\n",
    "import matplotlib.pyplot as plt\n",
    "import seaborn as sns\n",
    "%matplotlib inline"
   ]
  },
  {
   "cell_type": "code",
   "execution_count": 56,
   "metadata": {},
   "outputs": [],
   "source": [
    "#provide path\n",
    "path = 'C:/Users/shisk/Desktop/Projects/Data/iris.csv'"
   ]
  },
  {
   "cell_type": "code",
   "execution_count": 57,
   "metadata": {},
   "outputs": [
    {
     "data": {
      "text/html": [
       "<div>\n",
       "<style scoped>\n",
       "    .dataframe tbody tr th:only-of-type {\n",
       "        vertical-align: middle;\n",
       "    }\n",
       "\n",
       "    .dataframe tbody tr th {\n",
       "        vertical-align: top;\n",
       "    }\n",
       "\n",
       "    .dataframe thead th {\n",
       "        text-align: right;\n",
       "    }\n",
       "</style>\n",
       "<table border=\"1\" class=\"dataframe\">\n",
       "  <thead>\n",
       "    <tr style=\"text-align: right;\">\n",
       "      <th></th>\n",
       "      <th>Id</th>\n",
       "      <th>SepalLengthCm</th>\n",
       "      <th>SepalWidthCm</th>\n",
       "      <th>PetalLengthCm</th>\n",
       "      <th>PetalWidthCm</th>\n",
       "      <th>Species</th>\n",
       "    </tr>\n",
       "  </thead>\n",
       "  <tbody>\n",
       "    <tr>\n",
       "      <th>145</th>\n",
       "      <td>146</td>\n",
       "      <td>6.7</td>\n",
       "      <td>3.0</td>\n",
       "      <td>5.2</td>\n",
       "      <td>2.3</td>\n",
       "      <td>Iris-virginica</td>\n",
       "    </tr>\n",
       "    <tr>\n",
       "      <th>146</th>\n",
       "      <td>147</td>\n",
       "      <td>6.3</td>\n",
       "      <td>2.5</td>\n",
       "      <td>5.0</td>\n",
       "      <td>1.9</td>\n",
       "      <td>Iris-virginica</td>\n",
       "    </tr>\n",
       "    <tr>\n",
       "      <th>147</th>\n",
       "      <td>148</td>\n",
       "      <td>6.5</td>\n",
       "      <td>3.0</td>\n",
       "      <td>5.2</td>\n",
       "      <td>2.0</td>\n",
       "      <td>Iris-virginica</td>\n",
       "    </tr>\n",
       "    <tr>\n",
       "      <th>148</th>\n",
       "      <td>149</td>\n",
       "      <td>6.2</td>\n",
       "      <td>3.4</td>\n",
       "      <td>5.4</td>\n",
       "      <td>2.3</td>\n",
       "      <td>Iris-virginica</td>\n",
       "    </tr>\n",
       "    <tr>\n",
       "      <th>149</th>\n",
       "      <td>150</td>\n",
       "      <td>5.9</td>\n",
       "      <td>3.0</td>\n",
       "      <td>5.1</td>\n",
       "      <td>1.8</td>\n",
       "      <td>Iris-virginica</td>\n",
       "    </tr>\n",
       "  </tbody>\n",
       "</table>\n",
       "</div>"
      ],
      "text/plain": [
       "      Id  SepalLengthCm  SepalWidthCm  PetalLengthCm  PetalWidthCm  \\\n",
       "145  146            6.7           3.0            5.2           2.3   \n",
       "146  147            6.3           2.5            5.0           1.9   \n",
       "147  148            6.5           3.0            5.2           2.0   \n",
       "148  149            6.2           3.4            5.4           2.3   \n",
       "149  150            5.9           3.0            5.1           1.8   \n",
       "\n",
       "            Species  \n",
       "145  Iris-virginica  \n",
       "146  Iris-virginica  \n",
       "147  Iris-virginica  \n",
       "148  Iris-virginica  \n",
       "149  Iris-virginica  "
      ]
     },
     "execution_count": 57,
     "metadata": {},
     "output_type": "execute_result"
    }
   ],
   "source": [
    "data = pd.read_csv(path)\n",
    "data.tail()"
   ]
  },
  {
   "cell_type": "code",
   "execution_count": 58,
   "metadata": {},
   "outputs": [
    {
     "name": "stdout",
     "output_type": "stream",
     "text": [
      "<class 'pandas.core.frame.DataFrame'>\n",
      "RangeIndex: 150 entries, 0 to 149\n",
      "Data columns (total 6 columns):\n",
      " #   Column         Non-Null Count  Dtype  \n",
      "---  ------         --------------  -----  \n",
      " 0   Id             150 non-null    int64  \n",
      " 1   SepalLengthCm  150 non-null    float64\n",
      " 2   SepalWidthCm   150 non-null    float64\n",
      " 3   PetalLengthCm  150 non-null    float64\n",
      " 4   PetalWidthCm   150 non-null    float64\n",
      " 5   Species        150 non-null    object \n",
      "dtypes: float64(4), int64(1), object(1)\n",
      "memory usage: 7.2+ KB\n"
     ]
    }
   ],
   "source": [
    "data.info()"
   ]
  },
  {
   "cell_type": "code",
   "execution_count": 59,
   "metadata": {},
   "outputs": [
    {
     "data": {
      "text/plain": [
       "Id               0\n",
       "SepalLengthCm    0\n",
       "SepalWidthCm     0\n",
       "PetalLengthCm    0\n",
       "PetalWidthCm     0\n",
       "Species          0\n",
       "dtype: int64"
      ]
     },
     "execution_count": 59,
     "metadata": {},
     "output_type": "execute_result"
    }
   ],
   "source": [
    "data.isnull().sum()"
   ]
  },
  {
   "cell_type": "code",
   "execution_count": 60,
   "metadata": {},
   "outputs": [],
   "source": [
    "# drop null values and reset index\n",
    "df = data.dropna(axis = 'rows')\n",
    "df.reset_index(drop = True, inplace = True)"
   ]
  },
  {
   "cell_type": "code",
   "execution_count": 61,
   "metadata": {},
   "outputs": [
    {
     "data": {
      "text/plain": [
       "Id               0\n",
       "SepalLengthCm    0\n",
       "SepalWidthCm     0\n",
       "PetalLengthCm    0\n",
       "PetalWidthCm     0\n",
       "Species          0\n",
       "dtype: int64"
      ]
     },
     "execution_count": 61,
     "metadata": {},
     "output_type": "execute_result"
    }
   ],
   "source": [
    "#recheck presense of null entries\n",
    "df.isnull().sum()"
   ]
  },
  {
   "cell_type": "code",
   "execution_count": 62,
   "metadata": {},
   "outputs": [
    {
     "data": {
      "text/html": [
       "<div>\n",
       "<style scoped>\n",
       "    .dataframe tbody tr th:only-of-type {\n",
       "        vertical-align: middle;\n",
       "    }\n",
       "\n",
       "    .dataframe tbody tr th {\n",
       "        vertical-align: top;\n",
       "    }\n",
       "\n",
       "    .dataframe thead th {\n",
       "        text-align: right;\n",
       "    }\n",
       "</style>\n",
       "<table border=\"1\" class=\"dataframe\">\n",
       "  <thead>\n",
       "    <tr style=\"text-align: right;\">\n",
       "      <th></th>\n",
       "      <th>SepalLengthCm</th>\n",
       "      <th>SepalWidthCm</th>\n",
       "      <th>PetalLengthCm</th>\n",
       "      <th>PetalWidthCm</th>\n",
       "      <th>Species</th>\n",
       "    </tr>\n",
       "  </thead>\n",
       "  <tbody>\n",
       "    <tr>\n",
       "      <th>145</th>\n",
       "      <td>6.7</td>\n",
       "      <td>3.0</td>\n",
       "      <td>5.2</td>\n",
       "      <td>2.3</td>\n",
       "      <td>Iris-virginica</td>\n",
       "    </tr>\n",
       "    <tr>\n",
       "      <th>146</th>\n",
       "      <td>6.3</td>\n",
       "      <td>2.5</td>\n",
       "      <td>5.0</td>\n",
       "      <td>1.9</td>\n",
       "      <td>Iris-virginica</td>\n",
       "    </tr>\n",
       "    <tr>\n",
       "      <th>147</th>\n",
       "      <td>6.5</td>\n",
       "      <td>3.0</td>\n",
       "      <td>5.2</td>\n",
       "      <td>2.0</td>\n",
       "      <td>Iris-virginica</td>\n",
       "    </tr>\n",
       "    <tr>\n",
       "      <th>148</th>\n",
       "      <td>6.2</td>\n",
       "      <td>3.4</td>\n",
       "      <td>5.4</td>\n",
       "      <td>2.3</td>\n",
       "      <td>Iris-virginica</td>\n",
       "    </tr>\n",
       "    <tr>\n",
       "      <th>149</th>\n",
       "      <td>5.9</td>\n",
       "      <td>3.0</td>\n",
       "      <td>5.1</td>\n",
       "      <td>1.8</td>\n",
       "      <td>Iris-virginica</td>\n",
       "    </tr>\n",
       "  </tbody>\n",
       "</table>\n",
       "</div>"
      ],
      "text/plain": [
       "     SepalLengthCm  SepalWidthCm  PetalLengthCm  PetalWidthCm         Species\n",
       "145            6.7           3.0            5.2           2.3  Iris-virginica\n",
       "146            6.3           2.5            5.0           1.9  Iris-virginica\n",
       "147            6.5           3.0            5.2           2.0  Iris-virginica\n",
       "148            6.2           3.4            5.4           2.3  Iris-virginica\n",
       "149            5.9           3.0            5.1           1.8  Iris-virginica"
      ]
     },
     "execution_count": 62,
     "metadata": {},
     "output_type": "execute_result"
    }
   ],
   "source": [
    "# drop col 'Id' as it is the same as index\n",
    "df.drop(labels = 'Id', axis = 1, inplace = True)\n",
    "df.tail()"
   ]
  },
  {
   "cell_type": "code",
   "execution_count": 63,
   "metadata": {},
   "outputs": [],
   "source": [
    "# convert 'Species' to numeric\n",
    "from sklearn import preprocessing\n",
    "\n",
    "le = preprocessing.LabelEncoder()"
   ]
  },
  {
   "cell_type": "code",
   "execution_count": 64,
   "metadata": {},
   "outputs": [
    {
     "data": {
      "text/html": [
       "<div>\n",
       "<style scoped>\n",
       "    .dataframe tbody tr th:only-of-type {\n",
       "        vertical-align: middle;\n",
       "    }\n",
       "\n",
       "    .dataframe tbody tr th {\n",
       "        vertical-align: top;\n",
       "    }\n",
       "\n",
       "    .dataframe thead th {\n",
       "        text-align: right;\n",
       "    }\n",
       "</style>\n",
       "<table border=\"1\" class=\"dataframe\">\n",
       "  <thead>\n",
       "    <tr style=\"text-align: right;\">\n",
       "      <th></th>\n",
       "      <th>SepalLengthCm</th>\n",
       "      <th>SepalWidthCm</th>\n",
       "      <th>PetalLengthCm</th>\n",
       "      <th>PetalWidthCm</th>\n",
       "    </tr>\n",
       "    <tr>\n",
       "      <th>Species</th>\n",
       "      <th></th>\n",
       "      <th></th>\n",
       "      <th></th>\n",
       "      <th></th>\n",
       "    </tr>\n",
       "  </thead>\n",
       "  <tbody>\n",
       "    <tr>\n",
       "      <th>Iris-setosa</th>\n",
       "      <td>5.006</td>\n",
       "      <td>3.418</td>\n",
       "      <td>1.464</td>\n",
       "      <td>0.244</td>\n",
       "    </tr>\n",
       "    <tr>\n",
       "      <th>Iris-versicolor</th>\n",
       "      <td>5.936</td>\n",
       "      <td>2.770</td>\n",
       "      <td>4.260</td>\n",
       "      <td>1.326</td>\n",
       "    </tr>\n",
       "    <tr>\n",
       "      <th>Iris-virginica</th>\n",
       "      <td>6.588</td>\n",
       "      <td>2.974</td>\n",
       "      <td>5.552</td>\n",
       "      <td>2.026</td>\n",
       "    </tr>\n",
       "  </tbody>\n",
       "</table>\n",
       "</div>"
      ],
      "text/plain": [
       "                 SepalLengthCm  SepalWidthCm  PetalLengthCm  PetalWidthCm\n",
       "Species                                                                  \n",
       "Iris-setosa              5.006         3.418          1.464         0.244\n",
       "Iris-versicolor          5.936         2.770          4.260         1.326\n",
       "Iris-virginica           6.588         2.974          5.552         2.026"
      ]
     },
     "execution_count": 64,
     "metadata": {},
     "output_type": "execute_result"
    }
   ],
   "source": [
    "# check the number of classes\n",
    "df.groupby('Species').mean()"
   ]
  },
  {
   "cell_type": "code",
   "execution_count": 65,
   "metadata": {},
   "outputs": [
    {
     "data": {
      "text/html": [
       "<div>\n",
       "<style scoped>\n",
       "    .dataframe tbody tr th:only-of-type {\n",
       "        vertical-align: middle;\n",
       "    }\n",
       "\n",
       "    .dataframe tbody tr th {\n",
       "        vertical-align: top;\n",
       "    }\n",
       "\n",
       "    .dataframe thead th {\n",
       "        text-align: right;\n",
       "    }\n",
       "</style>\n",
       "<table border=\"1\" class=\"dataframe\">\n",
       "  <thead>\n",
       "    <tr style=\"text-align: right;\">\n",
       "      <th></th>\n",
       "      <th>SepalLengthCm</th>\n",
       "      <th>SepalWidthCm</th>\n",
       "      <th>PetalLengthCm</th>\n",
       "      <th>PetalWidthCm</th>\n",
       "    </tr>\n",
       "    <tr>\n",
       "      <th>Species</th>\n",
       "      <th></th>\n",
       "      <th></th>\n",
       "      <th></th>\n",
       "      <th></th>\n",
       "    </tr>\n",
       "  </thead>\n",
       "  <tbody>\n",
       "    <tr>\n",
       "      <th>Iris-setosa</th>\n",
       "      <td>50</td>\n",
       "      <td>50</td>\n",
       "      <td>50</td>\n",
       "      <td>50</td>\n",
       "    </tr>\n",
       "    <tr>\n",
       "      <th>Iris-versicolor</th>\n",
       "      <td>50</td>\n",
       "      <td>50</td>\n",
       "      <td>50</td>\n",
       "      <td>50</td>\n",
       "    </tr>\n",
       "    <tr>\n",
       "      <th>Iris-virginica</th>\n",
       "      <td>50</td>\n",
       "      <td>50</td>\n",
       "      <td>50</td>\n",
       "      <td>50</td>\n",
       "    </tr>\n",
       "  </tbody>\n",
       "</table>\n",
       "</div>"
      ],
      "text/plain": [
       "                 SepalLengthCm  SepalWidthCm  PetalLengthCm  PetalWidthCm\n",
       "Species                                                                  \n",
       "Iris-setosa                 50            50             50            50\n",
       "Iris-versicolor             50            50             50            50\n",
       "Iris-virginica              50            50             50            50"
      ]
     },
     "execution_count": 65,
     "metadata": {},
     "output_type": "execute_result"
    }
   ],
   "source": [
    "# check if the data is balanced\n",
    "df.groupby('Species').count()"
   ]
  },
  {
   "cell_type": "code",
   "execution_count": 66,
   "metadata": {},
   "outputs": [],
   "source": [
    "species_name = le.fit_transform(df['Species'])\n",
    "df['Species'] = species_name"
   ]
  },
  {
   "cell_type": "code",
   "execution_count": 67,
   "metadata": {},
   "outputs": [
    {
     "data": {
      "text/plain": [
       "array(['Iris-setosa', 'Iris-versicolor', 'Iris-virginica'], dtype=object)"
      ]
     },
     "execution_count": 67,
     "metadata": {},
     "output_type": "execute_result"
    }
   ],
   "source": [
    "le.inverse_transform([0, 1, 2])"
   ]
  },
  {
   "cell_type": "code",
   "execution_count": 68,
   "metadata": {},
   "outputs": [
    {
     "data": {
      "text/html": [
       "<div>\n",
       "<style scoped>\n",
       "    .dataframe tbody tr th:only-of-type {\n",
       "        vertical-align: middle;\n",
       "    }\n",
       "\n",
       "    .dataframe tbody tr th {\n",
       "        vertical-align: top;\n",
       "    }\n",
       "\n",
       "    .dataframe thead th {\n",
       "        text-align: right;\n",
       "    }\n",
       "</style>\n",
       "<table border=\"1\" class=\"dataframe\">\n",
       "  <thead>\n",
       "    <tr style=\"text-align: right;\">\n",
       "      <th></th>\n",
       "      <th>SepalLengthCm</th>\n",
       "      <th>SepalWidthCm</th>\n",
       "      <th>PetalLengthCm</th>\n",
       "      <th>PetalWidthCm</th>\n",
       "      <th>Species</th>\n",
       "    </tr>\n",
       "  </thead>\n",
       "  <tbody>\n",
       "    <tr>\n",
       "      <th>0</th>\n",
       "      <td>5.1</td>\n",
       "      <td>3.5</td>\n",
       "      <td>1.4</td>\n",
       "      <td>0.2</td>\n",
       "      <td>0</td>\n",
       "    </tr>\n",
       "    <tr>\n",
       "      <th>1</th>\n",
       "      <td>4.9</td>\n",
       "      <td>3.0</td>\n",
       "      <td>1.4</td>\n",
       "      <td>0.2</td>\n",
       "      <td>0</td>\n",
       "    </tr>\n",
       "    <tr>\n",
       "      <th>2</th>\n",
       "      <td>4.7</td>\n",
       "      <td>3.2</td>\n",
       "      <td>1.3</td>\n",
       "      <td>0.2</td>\n",
       "      <td>0</td>\n",
       "    </tr>\n",
       "    <tr>\n",
       "      <th>3</th>\n",
       "      <td>4.6</td>\n",
       "      <td>3.1</td>\n",
       "      <td>1.5</td>\n",
       "      <td>0.2</td>\n",
       "      <td>0</td>\n",
       "    </tr>\n",
       "    <tr>\n",
       "      <th>4</th>\n",
       "      <td>5.0</td>\n",
       "      <td>3.6</td>\n",
       "      <td>1.4</td>\n",
       "      <td>0.2</td>\n",
       "      <td>0</td>\n",
       "    </tr>\n",
       "  </tbody>\n",
       "</table>\n",
       "</div>"
      ],
      "text/plain": [
       "   SepalLengthCm  SepalWidthCm  PetalLengthCm  PetalWidthCm  Species\n",
       "0            5.1           3.5            1.4           0.2        0\n",
       "1            4.9           3.0            1.4           0.2        0\n",
       "2            4.7           3.2            1.3           0.2        0\n",
       "3            4.6           3.1            1.5           0.2        0\n",
       "4            5.0           3.6            1.4           0.2        0"
      ]
     },
     "execution_count": 68,
     "metadata": {},
     "output_type": "execute_result"
    }
   ],
   "source": [
    "df.head()"
   ]
  },
  {
   "cell_type": "code",
   "execution_count": 69,
   "metadata": {},
   "outputs": [],
   "source": [
    "# as KNN claculated distance for each attribute to classify test datapoint scale of attributes matter\n",
    "# we will use standard scaler to standarize scale of the data\n",
    "from sklearn.preprocessing import StandardScaler\n",
    "\n",
    "sc = StandardScaler()"
   ]
  },
  {
   "cell_type": "markdown",
   "metadata": {},
   "source": [
    "## Classification Model to Predict Species"
   ]
  },
  {
   "cell_type": "code",
   "execution_count": 70,
   "metadata": {},
   "outputs": [
    {
     "data": {
      "text/plain": [
       "StandardScaler()"
      ]
     },
     "execution_count": 70,
     "metadata": {},
     "output_type": "execute_result"
    }
   ],
   "source": [
    "# fit calculates major moments of data distribution like mean, variance, standard deviation, etc.\n",
    "sc.fit(df.drop('Species', axis = 1))"
   ]
  },
  {
   "cell_type": "code",
   "execution_count": 71,
   "metadata": {},
   "outputs": [],
   "source": [
    "# transform uses the moments calculated by fit() ti standardize the data\n",
    "sc_features = sc.transform(df.drop('Species', axis = 1))"
   ]
  },
  {
   "cell_type": "code",
   "execution_count": 72,
   "metadata": {},
   "outputs": [],
   "source": [
    "# create new df with scaled features\n",
    "df_feat = pd.DataFrame(sc_features, columns = df.columns[:-1])"
   ]
  },
  {
   "cell_type": "code",
   "execution_count": 73,
   "metadata": {},
   "outputs": [],
   "source": [
    "from sklearn.model_selection import train_test_split"
   ]
  },
  {
   "cell_type": "code",
   "execution_count": 74,
   "metadata": {},
   "outputs": [],
   "source": [
    "X = df_feat\n",
    "y = df['Species']\n",
    "\n",
    "X_train, X_test, y_train, y_test = train_test_split(X, y, test_size=0.20, random_state=100)"
   ]
  },
  {
   "cell_type": "code",
   "execution_count": 75,
   "metadata": {},
   "outputs": [],
   "source": [
    "from sklearn.neighbors import KNeighborsClassifier\n",
    "\n",
    "knn_c = KNeighborsClassifier()"
   ]
  },
  {
   "cell_type": "code",
   "execution_count": 76,
   "metadata": {},
   "outputs": [],
   "source": [
    "# using grid search CV for cross validation\n",
    "from sklearn.model_selection import RandomizedSearchCV\n",
    "\n",
    "random_grid = {\n",
    "    'n_neighbors': [3, 4, 5, 6, 7],\n",
    "    'weights':['uniform','distance'],\n",
    "    'leaf_size': [15, 26],\n",
    "    'p': [1, 2]\n",
    "}"
   ]
  },
  {
   "cell_type": "code",
   "execution_count": 77,
   "metadata": {},
   "outputs": [
    {
     "name": "stderr",
     "output_type": "stream",
     "text": [
      "C:\\Users\\shisk\\anaconda3\\envs\\py37version\\lib\\site-packages\\sklearn\\model_selection\\_search.py:282: UserWarning: The total space of parameters 40 is smaller than n_iter=100. Running 40 iterations. For exhaustive searches, use GridSearchCV.\n",
      "  % (grid_size, self.n_iter, grid_size), UserWarning)\n",
      "[Parallel(n_jobs=1)]: Using backend SequentialBackend with 1 concurrent workers.\n",
      "[Parallel(n_jobs=1)]: Done   1 out of   1 | elapsed:    0.0s remaining:    0.0s\n"
     ]
    },
    {
     "name": "stdout",
     "output_type": "stream",
     "text": [
      "Fitting 5 folds for each of 40 candidates, totalling 200 fits\n",
      "[CV] weights=uniform, p=1, n_neighbors=3, leaf_size=15 ...............\n",
      "[CV]  weights=uniform, p=1, n_neighbors=3, leaf_size=15, total=   0.0s\n",
      "[CV] weights=uniform, p=1, n_neighbors=3, leaf_size=15 ...............\n",
      "[CV]  weights=uniform, p=1, n_neighbors=3, leaf_size=15, total=   0.0s\n",
      "[CV] weights=uniform, p=1, n_neighbors=3, leaf_size=15 ...............\n",
      "[CV]  weights=uniform, p=1, n_neighbors=3, leaf_size=15, total=   0.0s\n",
      "[CV] weights=uniform, p=1, n_neighbors=3, leaf_size=15 ...............\n",
      "[CV]  weights=uniform, p=1, n_neighbors=3, leaf_size=15, total=   0.0s\n",
      "[CV] weights=uniform, p=1, n_neighbors=3, leaf_size=15 ...............\n",
      "[CV]  weights=uniform, p=1, n_neighbors=3, leaf_size=15, total=   0.0s\n",
      "[CV] weights=distance, p=1, n_neighbors=3, leaf_size=15 ..............\n",
      "[CV]  weights=distance, p=1, n_neighbors=3, leaf_size=15, total=   0.0s\n",
      "[CV] weights=distance, p=1, n_neighbors=3, leaf_size=15 ..............\n",
      "[CV]  weights=distance, p=1, n_neighbors=3, leaf_size=15, total=   0.0s\n",
      "[CV] weights=distance, p=1, n_neighbors=3, leaf_size=15 ..............\n",
      "[CV]  weights=distance, p=1, n_neighbors=3, leaf_size=15, total=   0.0s\n",
      "[CV] weights=distance, p=1, n_neighbors=3, leaf_size=15 ..............\n",
      "[CV]  weights=distance, p=1, n_neighbors=3, leaf_size=15, total=   0.0s\n",
      "[CV] weights=distance, p=1, n_neighbors=3, leaf_size=15 ..............\n",
      "[CV]  weights=distance, p=1, n_neighbors=3, leaf_size=15, total=   0.0s\n",
      "[CV] weights=uniform, p=2, n_neighbors=3, leaf_size=15 ...............\n",
      "[CV]  weights=uniform, p=2, n_neighbors=3, leaf_size=15, total=   0.0s\n",
      "[CV] weights=uniform, p=2, n_neighbors=3, leaf_size=15 ...............\n",
      "[CV]  weights=uniform, p=2, n_neighbors=3, leaf_size=15, total=   0.0s\n",
      "[CV] weights=uniform, p=2, n_neighbors=3, leaf_size=15 ...............\n",
      "[CV]  weights=uniform, p=2, n_neighbors=3, leaf_size=15, total=   0.0s\n",
      "[CV] weights=uniform, p=2, n_neighbors=3, leaf_size=15 ...............\n",
      "[CV]  weights=uniform, p=2, n_neighbors=3, leaf_size=15, total=   0.0s\n",
      "[CV] weights=uniform, p=2, n_neighbors=3, leaf_size=15 ...............\n",
      "[CV]  weights=uniform, p=2, n_neighbors=3, leaf_size=15, total=   0.0s\n",
      "[CV] weights=distance, p=2, n_neighbors=3, leaf_size=15 ..............\n",
      "[CV]  weights=distance, p=2, n_neighbors=3, leaf_size=15, total=   0.0s\n",
      "[CV] weights=distance, p=2, n_neighbors=3, leaf_size=15 ..............\n",
      "[CV]  weights=distance, p=2, n_neighbors=3, leaf_size=15, total=   0.0s\n",
      "[CV] weights=distance, p=2, n_neighbors=3, leaf_size=15 ..............\n",
      "[CV]  weights=distance, p=2, n_neighbors=3, leaf_size=15, total=   0.0s\n",
      "[CV] weights=distance, p=2, n_neighbors=3, leaf_size=15 ..............\n",
      "[CV]  weights=distance, p=2, n_neighbors=3, leaf_size=15, total=   0.0s\n",
      "[CV] weights=distance, p=2, n_neighbors=3, leaf_size=15 ..............\n",
      "[CV]  weights=distance, p=2, n_neighbors=3, leaf_size=15, total=   0.0s\n",
      "[CV] weights=uniform, p=1, n_neighbors=4, leaf_size=15 ...............\n",
      "[CV]  weights=uniform, p=1, n_neighbors=4, leaf_size=15, total=   0.0s\n",
      "[CV] weights=uniform, p=1, n_neighbors=4, leaf_size=15 ...............\n",
      "[CV]  weights=uniform, p=1, n_neighbors=4, leaf_size=15, total=   0.0s\n",
      "[CV] weights=uniform, p=1, n_neighbors=4, leaf_size=15 ...............\n",
      "[CV]  weights=uniform, p=1, n_neighbors=4, leaf_size=15, total=   0.0s\n",
      "[CV] weights=uniform, p=1, n_neighbors=4, leaf_size=15 ...............\n",
      "[CV]  weights=uniform, p=1, n_neighbors=4, leaf_size=15, total=   0.0s\n",
      "[CV] weights=uniform, p=1, n_neighbors=4, leaf_size=15 ...............\n",
      "[CV]  weights=uniform, p=1, n_neighbors=4, leaf_size=15, total=   0.0s\n",
      "[CV] weights=distance, p=1, n_neighbors=4, leaf_size=15 ..............\n",
      "[CV]  weights=distance, p=1, n_neighbors=4, leaf_size=15, total=   0.0s\n",
      "[CV] weights=distance, p=1, n_neighbors=4, leaf_size=15 ..............\n",
      "[CV]  weights=distance, p=1, n_neighbors=4, leaf_size=15, total=   0.0s\n",
      "[CV] weights=distance, p=1, n_neighbors=4, leaf_size=15 ..............\n",
      "[CV]  weights=distance, p=1, n_neighbors=4, leaf_size=15, total=   0.0s\n",
      "[CV] weights=distance, p=1, n_neighbors=4, leaf_size=15 ..............\n",
      "[CV]  weights=distance, p=1, n_neighbors=4, leaf_size=15, total=   0.0s\n",
      "[CV] weights=distance, p=1, n_neighbors=4, leaf_size=15 ..............\n",
      "[CV]  weights=distance, p=1, n_neighbors=4, leaf_size=15, total=   0.0s\n",
      "[CV] weights=uniform, p=2, n_neighbors=4, leaf_size=15 ...............\n",
      "[CV]  weights=uniform, p=2, n_neighbors=4, leaf_size=15, total=   0.0s\n",
      "[CV] weights=uniform, p=2, n_neighbors=4, leaf_size=15 ...............\n",
      "[CV]  weights=uniform, p=2, n_neighbors=4, leaf_size=15, total=   0.0s\n",
      "[CV] weights=uniform, p=2, n_neighbors=4, leaf_size=15 ...............\n",
      "[CV]  weights=uniform, p=2, n_neighbors=4, leaf_size=15, total=   0.0s\n",
      "[CV] weights=uniform, p=2, n_neighbors=4, leaf_size=15 ...............\n",
      "[CV]  weights=uniform, p=2, n_neighbors=4, leaf_size=15, total=   0.0s\n",
      "[CV] weights=uniform, p=2, n_neighbors=4, leaf_size=15 ...............\n",
      "[CV]  weights=uniform, p=2, n_neighbors=4, leaf_size=15, total=   0.0s\n",
      "[CV] weights=distance, p=2, n_neighbors=4, leaf_size=15 ..............\n",
      "[CV]  weights=distance, p=2, n_neighbors=4, leaf_size=15, total=   0.0s\n",
      "[CV] weights=distance, p=2, n_neighbors=4, leaf_size=15 ..............\n",
      "[CV]  weights=distance, p=2, n_neighbors=4, leaf_size=15, total=   0.0s\n",
      "[CV] weights=distance, p=2, n_neighbors=4, leaf_size=15 ..............\n",
      "[CV]  weights=distance, p=2, n_neighbors=4, leaf_size=15, total=   0.0s\n",
      "[CV] weights=distance, p=2, n_neighbors=4, leaf_size=15 ..............\n",
      "[CV]  weights=distance, p=2, n_neighbors=4, leaf_size=15, total=   0.0s\n",
      "[CV] weights=distance, p=2, n_neighbors=4, leaf_size=15 ..............\n",
      "[CV]  weights=distance, p=2, n_neighbors=4, leaf_size=15, total=   0.0s\n",
      "[CV] weights=uniform, p=1, n_neighbors=5, leaf_size=15 ...............\n",
      "[CV]  weights=uniform, p=1, n_neighbors=5, leaf_size=15, total=   0.0s\n",
      "[CV] weights=uniform, p=1, n_neighbors=5, leaf_size=15 ...............\n",
      "[CV]  weights=uniform, p=1, n_neighbors=5, leaf_size=15, total=   0.0s\n",
      "[CV] weights=uniform, p=1, n_neighbors=5, leaf_size=15 ...............\n",
      "[CV]  weights=uniform, p=1, n_neighbors=5, leaf_size=15, total=   0.0s\n",
      "[CV] weights=uniform, p=1, n_neighbors=5, leaf_size=15 ...............\n",
      "[CV]  weights=uniform, p=1, n_neighbors=5, leaf_size=15, total=   0.0s\n",
      "[CV] weights=uniform, p=1, n_neighbors=5, leaf_size=15 ...............\n",
      "[CV]  weights=uniform, p=1, n_neighbors=5, leaf_size=15, total=   0.0s\n",
      "[CV] weights=distance, p=1, n_neighbors=5, leaf_size=15 ..............\n",
      "[CV]  weights=distance, p=1, n_neighbors=5, leaf_size=15, total=   0.0s\n",
      "[CV] weights=distance, p=1, n_neighbors=5, leaf_size=15 ..............\n",
      "[CV]  weights=distance, p=1, n_neighbors=5, leaf_size=15, total=   0.0s\n",
      "[CV] weights=distance, p=1, n_neighbors=5, leaf_size=15 ..............\n",
      "[CV]  weights=distance, p=1, n_neighbors=5, leaf_size=15, total=   0.0s\n",
      "[CV] weights=distance, p=1, n_neighbors=5, leaf_size=15 ..............\n",
      "[CV]  weights=distance, p=1, n_neighbors=5, leaf_size=15, total=   0.0s\n",
      "[CV] weights=distance, p=1, n_neighbors=5, leaf_size=15 ..............\n",
      "[CV]  weights=distance, p=1, n_neighbors=5, leaf_size=15, total=   0.0s\n",
      "[CV] weights=uniform, p=2, n_neighbors=5, leaf_size=15 ...............\n",
      "[CV]  weights=uniform, p=2, n_neighbors=5, leaf_size=15, total=   0.0s\n",
      "[CV] weights=uniform, p=2, n_neighbors=5, leaf_size=15 ...............\n",
      "[CV]  weights=uniform, p=2, n_neighbors=5, leaf_size=15, total=   0.0s\n",
      "[CV] weights=uniform, p=2, n_neighbors=5, leaf_size=15 ...............\n",
      "[CV]  weights=uniform, p=2, n_neighbors=5, leaf_size=15, total=   0.0s\n",
      "[CV] weights=uniform, p=2, n_neighbors=5, leaf_size=15 ...............\n",
      "[CV]  weights=uniform, p=2, n_neighbors=5, leaf_size=15, total=   0.0s\n",
      "[CV] weights=uniform, p=2, n_neighbors=5, leaf_size=15 ...............\n",
      "[CV]  weights=uniform, p=2, n_neighbors=5, leaf_size=15, total=   0.0s\n",
      "[CV] weights=distance, p=2, n_neighbors=5, leaf_size=15 ..............\n",
      "[CV]  weights=distance, p=2, n_neighbors=5, leaf_size=15, total=   0.0s\n",
      "[CV] weights=distance, p=2, n_neighbors=5, leaf_size=15 ..............\n",
      "[CV]  weights=distance, p=2, n_neighbors=5, leaf_size=15, total=   0.0s\n",
      "[CV] weights=distance, p=2, n_neighbors=5, leaf_size=15 ..............\n",
      "[CV]  weights=distance, p=2, n_neighbors=5, leaf_size=15, total=   0.0s\n",
      "[CV] weights=distance, p=2, n_neighbors=5, leaf_size=15 ..............\n",
      "[CV]  weights=distance, p=2, n_neighbors=5, leaf_size=15, total=   0.0s\n",
      "[CV] weights=distance, p=2, n_neighbors=5, leaf_size=15 ..............\n"
     ]
    },
    {
     "name": "stdout",
     "output_type": "stream",
     "text": [
      "[CV]  weights=distance, p=2, n_neighbors=5, leaf_size=15, total=   0.0s\n",
      "[CV] weights=uniform, p=1, n_neighbors=6, leaf_size=15 ...............\n",
      "[CV]  weights=uniform, p=1, n_neighbors=6, leaf_size=15, total=   0.0s\n",
      "[CV] weights=uniform, p=1, n_neighbors=6, leaf_size=15 ...............\n",
      "[CV]  weights=uniform, p=1, n_neighbors=6, leaf_size=15, total=   0.0s\n",
      "[CV] weights=uniform, p=1, n_neighbors=6, leaf_size=15 ...............\n",
      "[CV]  weights=uniform, p=1, n_neighbors=6, leaf_size=15, total=   0.0s\n",
      "[CV] weights=uniform, p=1, n_neighbors=6, leaf_size=15 ...............\n",
      "[CV]  weights=uniform, p=1, n_neighbors=6, leaf_size=15, total=   0.0s\n",
      "[CV] weights=uniform, p=1, n_neighbors=6, leaf_size=15 ...............\n",
      "[CV]  weights=uniform, p=1, n_neighbors=6, leaf_size=15, total=   0.0s\n",
      "[CV] weights=distance, p=1, n_neighbors=6, leaf_size=15 ..............\n",
      "[CV]  weights=distance, p=1, n_neighbors=6, leaf_size=15, total=   0.0s\n",
      "[CV] weights=distance, p=1, n_neighbors=6, leaf_size=15 ..............\n",
      "[CV]  weights=distance, p=1, n_neighbors=6, leaf_size=15, total=   0.0s\n",
      "[CV] weights=distance, p=1, n_neighbors=6, leaf_size=15 ..............\n",
      "[CV]  weights=distance, p=1, n_neighbors=6, leaf_size=15, total=   0.0s\n",
      "[CV] weights=distance, p=1, n_neighbors=6, leaf_size=15 ..............\n",
      "[CV]  weights=distance, p=1, n_neighbors=6, leaf_size=15, total=   0.0s\n",
      "[CV] weights=distance, p=1, n_neighbors=6, leaf_size=15 ..............\n",
      "[CV]  weights=distance, p=1, n_neighbors=6, leaf_size=15, total=   0.0s\n",
      "[CV] weights=uniform, p=2, n_neighbors=6, leaf_size=15 ...............\n",
      "[CV]  weights=uniform, p=2, n_neighbors=6, leaf_size=15, total=   0.0s\n",
      "[CV] weights=uniform, p=2, n_neighbors=6, leaf_size=15 ...............\n",
      "[CV]  weights=uniform, p=2, n_neighbors=6, leaf_size=15, total=   0.0s\n",
      "[CV] weights=uniform, p=2, n_neighbors=6, leaf_size=15 ...............\n",
      "[CV]  weights=uniform, p=2, n_neighbors=6, leaf_size=15, total=   0.0s\n",
      "[CV] weights=uniform, p=2, n_neighbors=6, leaf_size=15 ...............\n",
      "[CV]  weights=uniform, p=2, n_neighbors=6, leaf_size=15, total=   0.0s\n",
      "[CV] weights=uniform, p=2, n_neighbors=6, leaf_size=15 ...............\n",
      "[CV]  weights=uniform, p=2, n_neighbors=6, leaf_size=15, total=   0.0s\n",
      "[CV] weights=distance, p=2, n_neighbors=6, leaf_size=15 ..............\n",
      "[CV]  weights=distance, p=2, n_neighbors=6, leaf_size=15, total=   0.0s\n",
      "[CV] weights=distance, p=2, n_neighbors=6, leaf_size=15 ..............\n",
      "[CV]  weights=distance, p=2, n_neighbors=6, leaf_size=15, total=   0.0s\n",
      "[CV] weights=distance, p=2, n_neighbors=6, leaf_size=15 ..............\n",
      "[CV]  weights=distance, p=2, n_neighbors=6, leaf_size=15, total=   0.0s\n",
      "[CV] weights=distance, p=2, n_neighbors=6, leaf_size=15 ..............\n",
      "[CV]  weights=distance, p=2, n_neighbors=6, leaf_size=15, total=   0.0s\n",
      "[CV] weights=distance, p=2, n_neighbors=6, leaf_size=15 ..............\n",
      "[CV]  weights=distance, p=2, n_neighbors=6, leaf_size=15, total=   0.0s\n",
      "[CV] weights=uniform, p=1, n_neighbors=7, leaf_size=15 ...............\n",
      "[CV]  weights=uniform, p=1, n_neighbors=7, leaf_size=15, total=   0.0s\n",
      "[CV] weights=uniform, p=1, n_neighbors=7, leaf_size=15 ...............\n",
      "[CV]  weights=uniform, p=1, n_neighbors=7, leaf_size=15, total=   0.0s\n",
      "[CV] weights=uniform, p=1, n_neighbors=7, leaf_size=15 ...............\n",
      "[CV]  weights=uniform, p=1, n_neighbors=7, leaf_size=15, total=   0.0s\n",
      "[CV] weights=uniform, p=1, n_neighbors=7, leaf_size=15 ...............\n",
      "[CV]  weights=uniform, p=1, n_neighbors=7, leaf_size=15, total=   0.0s\n",
      "[CV] weights=uniform, p=1, n_neighbors=7, leaf_size=15 ...............\n",
      "[CV]  weights=uniform, p=1, n_neighbors=7, leaf_size=15, total=   0.0s\n",
      "[CV] weights=distance, p=1, n_neighbors=7, leaf_size=15 ..............\n",
      "[CV]  weights=distance, p=1, n_neighbors=7, leaf_size=15, total=   0.0s\n",
      "[CV] weights=distance, p=1, n_neighbors=7, leaf_size=15 ..............\n",
      "[CV]  weights=distance, p=1, n_neighbors=7, leaf_size=15, total=   0.0s\n",
      "[CV] weights=distance, p=1, n_neighbors=7, leaf_size=15 ..............\n",
      "[CV]  weights=distance, p=1, n_neighbors=7, leaf_size=15, total=   0.0s\n",
      "[CV] weights=distance, p=1, n_neighbors=7, leaf_size=15 ..............\n",
      "[CV]  weights=distance, p=1, n_neighbors=7, leaf_size=15, total=   0.0s\n",
      "[CV] weights=distance, p=1, n_neighbors=7, leaf_size=15 ..............\n",
      "[CV]  weights=distance, p=1, n_neighbors=7, leaf_size=15, total=   0.0s\n",
      "[CV] weights=uniform, p=2, n_neighbors=7, leaf_size=15 ...............\n",
      "[CV]  weights=uniform, p=2, n_neighbors=7, leaf_size=15, total=   0.0s\n",
      "[CV] weights=uniform, p=2, n_neighbors=7, leaf_size=15 ...............\n",
      "[CV]  weights=uniform, p=2, n_neighbors=7, leaf_size=15, total=   0.0s\n",
      "[CV] weights=uniform, p=2, n_neighbors=7, leaf_size=15 ...............\n",
      "[CV]  weights=uniform, p=2, n_neighbors=7, leaf_size=15, total=   0.0s\n",
      "[CV] weights=uniform, p=2, n_neighbors=7, leaf_size=15 ...............\n",
      "[CV]  weights=uniform, p=2, n_neighbors=7, leaf_size=15, total=   0.0s\n",
      "[CV] weights=uniform, p=2, n_neighbors=7, leaf_size=15 ...............\n",
      "[CV]  weights=uniform, p=2, n_neighbors=7, leaf_size=15, total=   0.0s\n",
      "[CV] weights=distance, p=2, n_neighbors=7, leaf_size=15 ..............\n",
      "[CV]  weights=distance, p=2, n_neighbors=7, leaf_size=15, total=   0.0s\n",
      "[CV] weights=distance, p=2, n_neighbors=7, leaf_size=15 ..............\n",
      "[CV]  weights=distance, p=2, n_neighbors=7, leaf_size=15, total=   0.0s\n",
      "[CV] weights=distance, p=2, n_neighbors=7, leaf_size=15 ..............\n",
      "[CV]  weights=distance, p=2, n_neighbors=7, leaf_size=15, total=   0.0s\n",
      "[CV] weights=distance, p=2, n_neighbors=7, leaf_size=15 ..............\n",
      "[CV]  weights=distance, p=2, n_neighbors=7, leaf_size=15, total=   0.0s\n",
      "[CV] weights=distance, p=2, n_neighbors=7, leaf_size=15 ..............\n",
      "[CV]  weights=distance, p=2, n_neighbors=7, leaf_size=15, total=   0.0s\n",
      "[CV] weights=uniform, p=1, n_neighbors=3, leaf_size=26 ...............\n",
      "[CV]  weights=uniform, p=1, n_neighbors=3, leaf_size=26, total=   0.0s\n",
      "[CV] weights=uniform, p=1, n_neighbors=3, leaf_size=26 ...............\n",
      "[CV]  weights=uniform, p=1, n_neighbors=3, leaf_size=26, total=   0.0s\n",
      "[CV] weights=uniform, p=1, n_neighbors=3, leaf_size=26 ...............\n",
      "[CV]  weights=uniform, p=1, n_neighbors=3, leaf_size=26, total=   0.0s\n",
      "[CV] weights=uniform, p=1, n_neighbors=3, leaf_size=26 ...............\n",
      "[CV]  weights=uniform, p=1, n_neighbors=3, leaf_size=26, total=   0.0s\n",
      "[CV] weights=uniform, p=1, n_neighbors=3, leaf_size=26 ...............\n",
      "[CV]  weights=uniform, p=1, n_neighbors=3, leaf_size=26, total=   0.0s\n",
      "[CV] weights=distance, p=1, n_neighbors=3, leaf_size=26 ..............\n",
      "[CV]  weights=distance, p=1, n_neighbors=3, leaf_size=26, total=   0.0s\n",
      "[CV] weights=distance, p=1, n_neighbors=3, leaf_size=26 ..............\n",
      "[CV]  weights=distance, p=1, n_neighbors=3, leaf_size=26, total=   0.0s\n",
      "[CV] weights=distance, p=1, n_neighbors=3, leaf_size=26 ..............\n",
      "[CV]  weights=distance, p=1, n_neighbors=3, leaf_size=26, total=   0.0s\n",
      "[CV] weights=distance, p=1, n_neighbors=3, leaf_size=26 ..............\n",
      "[CV]  weights=distance, p=1, n_neighbors=3, leaf_size=26, total=   0.0s\n",
      "[CV] weights=distance, p=1, n_neighbors=3, leaf_size=26 ..............\n",
      "[CV]  weights=distance, p=1, n_neighbors=3, leaf_size=26, total=   0.0s\n",
      "[CV] weights=uniform, p=2, n_neighbors=3, leaf_size=26 ...............\n",
      "[CV]  weights=uniform, p=2, n_neighbors=3, leaf_size=26, total=   0.0s\n",
      "[CV] weights=uniform, p=2, n_neighbors=3, leaf_size=26 ...............\n",
      "[CV]  weights=uniform, p=2, n_neighbors=3, leaf_size=26, total=   0.0s\n",
      "[CV] weights=uniform, p=2, n_neighbors=3, leaf_size=26 ...............\n",
      "[CV]  weights=uniform, p=2, n_neighbors=3, leaf_size=26, total=   0.0s\n",
      "[CV] weights=uniform, p=2, n_neighbors=3, leaf_size=26 ...............\n",
      "[CV]  weights=uniform, p=2, n_neighbors=3, leaf_size=26, total=   0.0s\n",
      "[CV] weights=uniform, p=2, n_neighbors=3, leaf_size=26 ...............\n",
      "[CV]  weights=uniform, p=2, n_neighbors=3, leaf_size=26, total=   0.0s\n",
      "[CV] weights=distance, p=2, n_neighbors=3, leaf_size=26 ..............\n",
      "[CV]  weights=distance, p=2, n_neighbors=3, leaf_size=26, total=   0.0s\n",
      "[CV] weights=distance, p=2, n_neighbors=3, leaf_size=26 ..............\n",
      "[CV]  weights=distance, p=2, n_neighbors=3, leaf_size=26, total=   0.0s\n",
      "[CV] weights=distance, p=2, n_neighbors=3, leaf_size=26 ..............\n",
      "[CV]  weights=distance, p=2, n_neighbors=3, leaf_size=26, total=   0.0s\n",
      "[CV] weights=distance, p=2, n_neighbors=3, leaf_size=26 ..............\n",
      "[CV]  weights=distance, p=2, n_neighbors=3, leaf_size=26, total=   0.0s\n",
      "[CV] weights=distance, p=2, n_neighbors=3, leaf_size=26 ..............\n",
      "[CV]  weights=distance, p=2, n_neighbors=3, leaf_size=26, total=   0.0s\n",
      "[CV] weights=uniform, p=1, n_neighbors=4, leaf_size=26 ...............\n",
      "[CV]  weights=uniform, p=1, n_neighbors=4, leaf_size=26, total=   0.0s\n",
      "[CV] weights=uniform, p=1, n_neighbors=4, leaf_size=26 ...............\n",
      "[CV]  weights=uniform, p=1, n_neighbors=4, leaf_size=26, total=   0.0s\n",
      "[CV] weights=uniform, p=1, n_neighbors=4, leaf_size=26 ...............\n",
      "[CV]  weights=uniform, p=1, n_neighbors=4, leaf_size=26, total=   0.0s\n",
      "[CV] weights=uniform, p=1, n_neighbors=4, leaf_size=26 ...............\n"
     ]
    },
    {
     "name": "stdout",
     "output_type": "stream",
     "text": [
      "[CV]  weights=uniform, p=1, n_neighbors=4, leaf_size=26, total=   0.0s\n",
      "[CV] weights=uniform, p=1, n_neighbors=4, leaf_size=26 ...............\n",
      "[CV]  weights=uniform, p=1, n_neighbors=4, leaf_size=26, total=   0.0s\n",
      "[CV] weights=distance, p=1, n_neighbors=4, leaf_size=26 ..............\n",
      "[CV]  weights=distance, p=1, n_neighbors=4, leaf_size=26, total=   0.0s\n",
      "[CV] weights=distance, p=1, n_neighbors=4, leaf_size=26 ..............\n",
      "[CV]  weights=distance, p=1, n_neighbors=4, leaf_size=26, total=   0.0s\n",
      "[CV] weights=distance, p=1, n_neighbors=4, leaf_size=26 ..............\n",
      "[CV]  weights=distance, p=1, n_neighbors=4, leaf_size=26, total=   0.0s\n",
      "[CV] weights=distance, p=1, n_neighbors=4, leaf_size=26 ..............\n",
      "[CV]  weights=distance, p=1, n_neighbors=4, leaf_size=26, total=   0.0s\n",
      "[CV] weights=distance, p=1, n_neighbors=4, leaf_size=26 ..............\n",
      "[CV]  weights=distance, p=1, n_neighbors=4, leaf_size=26, total=   0.0s\n",
      "[CV] weights=uniform, p=2, n_neighbors=4, leaf_size=26 ...............\n",
      "[CV]  weights=uniform, p=2, n_neighbors=4, leaf_size=26, total=   0.0s\n",
      "[CV] weights=uniform, p=2, n_neighbors=4, leaf_size=26 ...............\n",
      "[CV]  weights=uniform, p=2, n_neighbors=4, leaf_size=26, total=   0.0s\n",
      "[CV] weights=uniform, p=2, n_neighbors=4, leaf_size=26 ...............\n",
      "[CV]  weights=uniform, p=2, n_neighbors=4, leaf_size=26, total=   0.0s\n",
      "[CV] weights=uniform, p=2, n_neighbors=4, leaf_size=26 ...............\n",
      "[CV]  weights=uniform, p=2, n_neighbors=4, leaf_size=26, total=   0.0s\n",
      "[CV] weights=uniform, p=2, n_neighbors=4, leaf_size=26 ...............\n",
      "[CV]  weights=uniform, p=2, n_neighbors=4, leaf_size=26, total=   0.0s\n",
      "[CV] weights=distance, p=2, n_neighbors=4, leaf_size=26 ..............\n",
      "[CV]  weights=distance, p=2, n_neighbors=4, leaf_size=26, total=   0.0s\n",
      "[CV] weights=distance, p=2, n_neighbors=4, leaf_size=26 ..............\n",
      "[CV]  weights=distance, p=2, n_neighbors=4, leaf_size=26, total=   0.0s\n",
      "[CV] weights=distance, p=2, n_neighbors=4, leaf_size=26 ..............\n",
      "[CV]  weights=distance, p=2, n_neighbors=4, leaf_size=26, total=   0.0s\n",
      "[CV] weights=distance, p=2, n_neighbors=4, leaf_size=26 ..............\n",
      "[CV]  weights=distance, p=2, n_neighbors=4, leaf_size=26, total=   0.0s\n",
      "[CV] weights=distance, p=2, n_neighbors=4, leaf_size=26 ..............\n",
      "[CV]  weights=distance, p=2, n_neighbors=4, leaf_size=26, total=   0.0s\n",
      "[CV] weights=uniform, p=1, n_neighbors=5, leaf_size=26 ...............\n",
      "[CV]  weights=uniform, p=1, n_neighbors=5, leaf_size=26, total=   0.0s\n",
      "[CV] weights=uniform, p=1, n_neighbors=5, leaf_size=26 ...............\n",
      "[CV]  weights=uniform, p=1, n_neighbors=5, leaf_size=26, total=   0.0s\n",
      "[CV] weights=uniform, p=1, n_neighbors=5, leaf_size=26 ...............\n",
      "[CV]  weights=uniform, p=1, n_neighbors=5, leaf_size=26, total=   0.0s\n",
      "[CV] weights=uniform, p=1, n_neighbors=5, leaf_size=26 ...............\n",
      "[CV]  weights=uniform, p=1, n_neighbors=5, leaf_size=26, total=   0.0s\n",
      "[CV] weights=uniform, p=1, n_neighbors=5, leaf_size=26 ...............\n",
      "[CV]  weights=uniform, p=1, n_neighbors=5, leaf_size=26, total=   0.0s\n",
      "[CV] weights=distance, p=1, n_neighbors=5, leaf_size=26 ..............\n",
      "[CV]  weights=distance, p=1, n_neighbors=5, leaf_size=26, total=   0.0s\n",
      "[CV] weights=distance, p=1, n_neighbors=5, leaf_size=26 ..............\n",
      "[CV]  weights=distance, p=1, n_neighbors=5, leaf_size=26, total=   0.0s\n",
      "[CV] weights=distance, p=1, n_neighbors=5, leaf_size=26 ..............\n",
      "[CV]  weights=distance, p=1, n_neighbors=5, leaf_size=26, total=   0.0s\n",
      "[CV] weights=distance, p=1, n_neighbors=5, leaf_size=26 ..............\n",
      "[CV]  weights=distance, p=1, n_neighbors=5, leaf_size=26, total=   0.0s\n",
      "[CV] weights=distance, p=1, n_neighbors=5, leaf_size=26 ..............\n",
      "[CV]  weights=distance, p=1, n_neighbors=5, leaf_size=26, total=   0.0s\n",
      "[CV] weights=uniform, p=2, n_neighbors=5, leaf_size=26 ...............\n",
      "[CV]  weights=uniform, p=2, n_neighbors=5, leaf_size=26, total=   0.0s\n",
      "[CV] weights=uniform, p=2, n_neighbors=5, leaf_size=26 ...............\n",
      "[CV]  weights=uniform, p=2, n_neighbors=5, leaf_size=26, total=   0.0s\n",
      "[CV] weights=uniform, p=2, n_neighbors=5, leaf_size=26 ...............\n",
      "[CV]  weights=uniform, p=2, n_neighbors=5, leaf_size=26, total=   0.0s\n",
      "[CV] weights=uniform, p=2, n_neighbors=5, leaf_size=26 ...............\n",
      "[CV]  weights=uniform, p=2, n_neighbors=5, leaf_size=26, total=   0.0s\n",
      "[CV] weights=uniform, p=2, n_neighbors=5, leaf_size=26 ...............\n",
      "[CV]  weights=uniform, p=2, n_neighbors=5, leaf_size=26, total=   0.0s\n",
      "[CV] weights=distance, p=2, n_neighbors=5, leaf_size=26 ..............\n",
      "[CV]  weights=distance, p=2, n_neighbors=5, leaf_size=26, total=   0.0s\n",
      "[CV] weights=distance, p=2, n_neighbors=5, leaf_size=26 ..............\n",
      "[CV]  weights=distance, p=2, n_neighbors=5, leaf_size=26, total=   0.0s\n",
      "[CV] weights=distance, p=2, n_neighbors=5, leaf_size=26 ..............\n",
      "[CV]  weights=distance, p=2, n_neighbors=5, leaf_size=26, total=   0.0s\n",
      "[CV] weights=distance, p=2, n_neighbors=5, leaf_size=26 ..............\n",
      "[CV]  weights=distance, p=2, n_neighbors=5, leaf_size=26, total=   0.0s\n",
      "[CV] weights=distance, p=2, n_neighbors=5, leaf_size=26 ..............\n",
      "[CV]  weights=distance, p=2, n_neighbors=5, leaf_size=26, total=   0.0s\n",
      "[CV] weights=uniform, p=1, n_neighbors=6, leaf_size=26 ...............\n",
      "[CV]  weights=uniform, p=1, n_neighbors=6, leaf_size=26, total=   0.0s\n",
      "[CV] weights=uniform, p=1, n_neighbors=6, leaf_size=26 ...............\n",
      "[CV]  weights=uniform, p=1, n_neighbors=6, leaf_size=26, total=   0.0s\n",
      "[CV] weights=uniform, p=1, n_neighbors=6, leaf_size=26 ...............\n",
      "[CV]  weights=uniform, p=1, n_neighbors=6, leaf_size=26, total=   0.0s\n",
      "[CV] weights=uniform, p=1, n_neighbors=6, leaf_size=26 ...............\n",
      "[CV]  weights=uniform, p=1, n_neighbors=6, leaf_size=26, total=   0.0s\n",
      "[CV] weights=uniform, p=1, n_neighbors=6, leaf_size=26 ...............\n",
      "[CV]  weights=uniform, p=1, n_neighbors=6, leaf_size=26, total=   0.0s\n",
      "[CV] weights=distance, p=1, n_neighbors=6, leaf_size=26 ..............\n",
      "[CV]  weights=distance, p=1, n_neighbors=6, leaf_size=26, total=   0.0s\n",
      "[CV] weights=distance, p=1, n_neighbors=6, leaf_size=26 ..............\n",
      "[CV]  weights=distance, p=1, n_neighbors=6, leaf_size=26, total=   0.0s\n",
      "[CV] weights=distance, p=1, n_neighbors=6, leaf_size=26 ..............\n",
      "[CV]  weights=distance, p=1, n_neighbors=6, leaf_size=26, total=   0.0s\n",
      "[CV] weights=distance, p=1, n_neighbors=6, leaf_size=26 ..............\n",
      "[CV]  weights=distance, p=1, n_neighbors=6, leaf_size=26, total=   0.0s\n",
      "[CV] weights=distance, p=1, n_neighbors=6, leaf_size=26 ..............\n",
      "[CV]  weights=distance, p=1, n_neighbors=6, leaf_size=26, total=   0.0s\n",
      "[CV] weights=uniform, p=2, n_neighbors=6, leaf_size=26 ...............\n",
      "[CV]  weights=uniform, p=2, n_neighbors=6, leaf_size=26, total=   0.0s\n",
      "[CV] weights=uniform, p=2, n_neighbors=6, leaf_size=26 ...............\n",
      "[CV]  weights=uniform, p=2, n_neighbors=6, leaf_size=26, total=   0.0s\n",
      "[CV] weights=uniform, p=2, n_neighbors=6, leaf_size=26 ...............\n",
      "[CV]  weights=uniform, p=2, n_neighbors=6, leaf_size=26, total=   0.0s\n",
      "[CV] weights=uniform, p=2, n_neighbors=6, leaf_size=26 ...............\n",
      "[CV]  weights=uniform, p=2, n_neighbors=6, leaf_size=26, total=   0.0s\n",
      "[CV] weights=uniform, p=2, n_neighbors=6, leaf_size=26 ...............\n",
      "[CV]  weights=uniform, p=2, n_neighbors=6, leaf_size=26, total=   0.0s\n",
      "[CV] weights=distance, p=2, n_neighbors=6, leaf_size=26 ..............\n",
      "[CV]  weights=distance, p=2, n_neighbors=6, leaf_size=26, total=   0.0s\n",
      "[CV] weights=distance, p=2, n_neighbors=6, leaf_size=26 ..............\n",
      "[CV]  weights=distance, p=2, n_neighbors=6, leaf_size=26, total=   0.0s\n",
      "[CV] weights=distance, p=2, n_neighbors=6, leaf_size=26 ..............\n",
      "[CV]  weights=distance, p=2, n_neighbors=6, leaf_size=26, total=   0.0s\n",
      "[CV] weights=distance, p=2, n_neighbors=6, leaf_size=26 ..............\n",
      "[CV]  weights=distance, p=2, n_neighbors=6, leaf_size=26, total=   0.0s\n",
      "[CV] weights=distance, p=2, n_neighbors=6, leaf_size=26 ..............\n",
      "[CV]  weights=distance, p=2, n_neighbors=6, leaf_size=26, total=   0.0s\n",
      "[CV] weights=uniform, p=1, n_neighbors=7, leaf_size=26 ...............\n",
      "[CV]  weights=uniform, p=1, n_neighbors=7, leaf_size=26, total=   0.0s\n",
      "[CV] weights=uniform, p=1, n_neighbors=7, leaf_size=26 ...............\n",
      "[CV]  weights=uniform, p=1, n_neighbors=7, leaf_size=26, total=   0.0s\n",
      "[CV] weights=uniform, p=1, n_neighbors=7, leaf_size=26 ...............\n",
      "[CV]  weights=uniform, p=1, n_neighbors=7, leaf_size=26, total=   0.0s\n",
      "[CV] weights=uniform, p=1, n_neighbors=7, leaf_size=26 ...............\n",
      "[CV]  weights=uniform, p=1, n_neighbors=7, leaf_size=26, total=   0.0s\n",
      "[CV] weights=uniform, p=1, n_neighbors=7, leaf_size=26 ...............\n",
      "[CV]  weights=uniform, p=1, n_neighbors=7, leaf_size=26, total=   0.0s\n",
      "[CV] weights=distance, p=1, n_neighbors=7, leaf_size=26 ..............\n"
     ]
    },
    {
     "name": "stdout",
     "output_type": "stream",
     "text": [
      "[CV]  weights=distance, p=1, n_neighbors=7, leaf_size=26, total=   0.0s\n",
      "[CV] weights=distance, p=1, n_neighbors=7, leaf_size=26 ..............\n",
      "[CV]  weights=distance, p=1, n_neighbors=7, leaf_size=26, total=   0.0s\n",
      "[CV] weights=distance, p=1, n_neighbors=7, leaf_size=26 ..............\n",
      "[CV]  weights=distance, p=1, n_neighbors=7, leaf_size=26, total=   0.0s\n",
      "[CV] weights=distance, p=1, n_neighbors=7, leaf_size=26 ..............\n",
      "[CV]  weights=distance, p=1, n_neighbors=7, leaf_size=26, total=   0.0s\n",
      "[CV] weights=distance, p=1, n_neighbors=7, leaf_size=26 ..............\n",
      "[CV]  weights=distance, p=1, n_neighbors=7, leaf_size=26, total=   0.0s\n",
      "[CV] weights=uniform, p=2, n_neighbors=7, leaf_size=26 ...............\n",
      "[CV]  weights=uniform, p=2, n_neighbors=7, leaf_size=26, total=   0.0s\n",
      "[CV] weights=uniform, p=2, n_neighbors=7, leaf_size=26 ...............\n",
      "[CV]  weights=uniform, p=2, n_neighbors=7, leaf_size=26, total=   0.0s\n",
      "[CV] weights=uniform, p=2, n_neighbors=7, leaf_size=26 ...............\n",
      "[CV]  weights=uniform, p=2, n_neighbors=7, leaf_size=26, total=   0.0s\n",
      "[CV] weights=uniform, p=2, n_neighbors=7, leaf_size=26 ...............\n",
      "[CV]  weights=uniform, p=2, n_neighbors=7, leaf_size=26, total=   0.0s\n",
      "[CV] weights=uniform, p=2, n_neighbors=7, leaf_size=26 ...............\n",
      "[CV]  weights=uniform, p=2, n_neighbors=7, leaf_size=26, total=   0.0s\n",
      "[CV] weights=distance, p=2, n_neighbors=7, leaf_size=26 ..............\n",
      "[CV]  weights=distance, p=2, n_neighbors=7, leaf_size=26, total=   0.0s\n",
      "[CV] weights=distance, p=2, n_neighbors=7, leaf_size=26 ..............\n",
      "[CV]  weights=distance, p=2, n_neighbors=7, leaf_size=26, total=   0.0s\n",
      "[CV] weights=distance, p=2, n_neighbors=7, leaf_size=26 ..............\n",
      "[CV]  weights=distance, p=2, n_neighbors=7, leaf_size=26, total=   0.0s\n",
      "[CV] weights=distance, p=2, n_neighbors=7, leaf_size=26 ..............\n",
      "[CV]  weights=distance, p=2, n_neighbors=7, leaf_size=26, total=   0.0s\n",
      "[CV] weights=distance, p=2, n_neighbors=7, leaf_size=26 ..............\n",
      "[CV]  weights=distance, p=2, n_neighbors=7, leaf_size=26, total=   0.0s\n"
     ]
    },
    {
     "name": "stderr",
     "output_type": "stream",
     "text": [
      "[Parallel(n_jobs=1)]: Done 200 out of 200 | elapsed:    3.0s finished\n"
     ]
    },
    {
     "data": {
      "text/plain": [
       "RandomizedSearchCV(cv=5, estimator=KNeighborsClassifier(), n_iter=100,\n",
       "                   param_distributions={'leaf_size': [15, 26],\n",
       "                                        'n_neighbors': [3, 4, 5, 6, 7],\n",
       "                                        'p': [1, 2],\n",
       "                                        'weights': ['uniform', 'distance']},\n",
       "                   verbose=2)"
      ]
     },
     "execution_count": 77,
     "metadata": {},
     "output_type": "execute_result"
    }
   ],
   "source": [
    "knn_cv = RandomizedSearchCV(estimator = knn_c, param_distributions = random_grid, n_iter = 100,\n",
    "                               cv = 5, verbose = 2)\n",
    "knn_cv.fit(X_train, y_train)"
   ]
  },
  {
   "cell_type": "code",
   "execution_count": 78,
   "metadata": {},
   "outputs": [
    {
     "data": {
      "text/plain": [
       "{'weights': 'distance', 'p': 2, 'n_neighbors': 5, 'leaf_size': 15}"
      ]
     },
     "execution_count": 78,
     "metadata": {},
     "output_type": "execute_result"
    }
   ],
   "source": [
    "knn_cv.best_params_"
   ]
  },
  {
   "cell_type": "code",
   "execution_count": 79,
   "metadata": {},
   "outputs": [],
   "source": [
    "params = {'weights': 'uniform', 'p': 2, 'n_neighbors': 6, 'leaf_size': 15}\n",
    "knn_final = knn_c = KNeighborsClassifier(**params)"
   ]
  },
  {
   "cell_type": "code",
   "execution_count": 80,
   "metadata": {},
   "outputs": [],
   "source": [
    "knn_final.fit(X_train, y_train)\n",
    "predictions = knn_final.predict(X_test)"
   ]
  },
  {
   "cell_type": "code",
   "execution_count": 82,
   "metadata": {},
   "outputs": [],
   "source": [
    "from sklearn.metrics import classification_report, confusion_matrix"
   ]
  },
  {
   "cell_type": "code",
   "execution_count": 84,
   "metadata": {},
   "outputs": [
    {
     "name": "stdout",
     "output_type": "stream",
     "text": [
      "[[11  0  0]\n",
      " [ 0  6  0]\n",
      " [ 0  1 12]]\n",
      "              precision    recall  f1-score   support\n",
      "\n",
      "           0       1.00      1.00      1.00        11\n",
      "           1       0.86      1.00      0.92         6\n",
      "           2       1.00      0.92      0.96        13\n",
      "\n",
      "    accuracy                           0.97        30\n",
      "   macro avg       0.95      0.97      0.96        30\n",
      "weighted avg       0.97      0.97      0.97        30\n",
      "\n"
     ]
    }
   ],
   "source": [
    "print(confusion_matrix(y_test,predictions))\n",
    "print(classification_report(y_test,predictions))"
   ]
  },
  {
   "cell_type": "code",
   "execution_count": null,
   "metadata": {},
   "outputs": [],
   "source": []
  }
 ],
 "metadata": {
  "kernelspec": {
   "display_name": "Python 3",
   "language": "python",
   "name": "python3"
  },
  "language_info": {
   "codemirror_mode": {
    "name": "ipython",
    "version": 3
   },
   "file_extension": ".py",
   "mimetype": "text/x-python",
   "name": "python",
   "nbconvert_exporter": "python",
   "pygments_lexer": "ipython3",
   "version": "3.7.9"
  }
 },
 "nbformat": 4,
 "nbformat_minor": 4
}
