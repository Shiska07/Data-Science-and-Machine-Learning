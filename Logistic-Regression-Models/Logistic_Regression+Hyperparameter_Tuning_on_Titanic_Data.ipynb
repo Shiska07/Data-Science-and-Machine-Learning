{
 "cells": [
  {
   "cell_type": "markdown",
   "metadata": {},
   "source": [
    "# Creating a Logistic Regression model with Hyperparameter Tuning "
   ]
  },
  {
   "cell_type": "markdown",
   "metadata": {},
   "source": [
    "Instead of doing a simple logistic regression, in this noteboook we use RandomizedSearchCV and cross validation to find good hyperparameters for the logistic regression model. \n",
    "\n",
    "In addition, after categorical attributes have been converted to numerical attributes using dummy variables, a correlation heatmap will be used to drop additional attributes that have low correlation with the target attribute."
   ]
  },
  {
   "cell_type": "code",
   "execution_count": 1,
   "metadata": {},
   "outputs": [],
   "source": [
    "#importing libraries\n",
    "\n",
    "import numpy as np\n",
    "import pandas as pd\n",
    "import matplotlib.pyplot as plt\n",
    "import seaborn as sns\n",
    "%matplotlib inline"
   ]
  },
  {
   "cell_type": "code",
   "execution_count": 2,
   "metadata": {},
   "outputs": [],
   "source": [
    "# reading test and training data\n",
    "\n",
    "train = pd.read_csv('..\\\\..\\\\Data\\\\titanic_train.csv')\n",
    "test = pd.read_csv('..\\\\..\\\\Data\\\\titanic_test.csv')"
   ]
  },
  {
   "cell_type": "code",
   "execution_count": 3,
   "metadata": {},
   "outputs": [
    {
     "data": {
      "text/html": [
       "<div>\n",
       "<style scoped>\n",
       "    .dataframe tbody tr th:only-of-type {\n",
       "        vertical-align: middle;\n",
       "    }\n",
       "\n",
       "    .dataframe tbody tr th {\n",
       "        vertical-align: top;\n",
       "    }\n",
       "\n",
       "    .dataframe thead th {\n",
       "        text-align: right;\n",
       "    }\n",
       "</style>\n",
       "<table border=\"1\" class=\"dataframe\">\n",
       "  <thead>\n",
       "    <tr style=\"text-align: right;\">\n",
       "      <th></th>\n",
       "      <th>PassengerId</th>\n",
       "      <th>Survived</th>\n",
       "      <th>Pclass</th>\n",
       "      <th>Name</th>\n",
       "      <th>Sex</th>\n",
       "      <th>Age</th>\n",
       "      <th>SibSp</th>\n",
       "      <th>Parch</th>\n",
       "      <th>Ticket</th>\n",
       "      <th>Fare</th>\n",
       "      <th>Cabin</th>\n",
       "      <th>Embarked</th>\n",
       "    </tr>\n",
       "  </thead>\n",
       "  <tbody>\n",
       "    <tr>\n",
       "      <th>0</th>\n",
       "      <td>1</td>\n",
       "      <td>0</td>\n",
       "      <td>3</td>\n",
       "      <td>Braund, Mr. Owen Harris</td>\n",
       "      <td>male</td>\n",
       "      <td>22.0</td>\n",
       "      <td>1</td>\n",
       "      <td>0</td>\n",
       "      <td>A/5 21171</td>\n",
       "      <td>7.2500</td>\n",
       "      <td>NaN</td>\n",
       "      <td>S</td>\n",
       "    </tr>\n",
       "    <tr>\n",
       "      <th>1</th>\n",
       "      <td>2</td>\n",
       "      <td>1</td>\n",
       "      <td>1</td>\n",
       "      <td>Cumings, Mrs. John Bradley (Florence Briggs Th...</td>\n",
       "      <td>female</td>\n",
       "      <td>38.0</td>\n",
       "      <td>1</td>\n",
       "      <td>0</td>\n",
       "      <td>PC 17599</td>\n",
       "      <td>71.2833</td>\n",
       "      <td>C85</td>\n",
       "      <td>C</td>\n",
       "    </tr>\n",
       "    <tr>\n",
       "      <th>2</th>\n",
       "      <td>3</td>\n",
       "      <td>1</td>\n",
       "      <td>3</td>\n",
       "      <td>Heikkinen, Miss. Laina</td>\n",
       "      <td>female</td>\n",
       "      <td>26.0</td>\n",
       "      <td>0</td>\n",
       "      <td>0</td>\n",
       "      <td>STON/O2. 3101282</td>\n",
       "      <td>7.9250</td>\n",
       "      <td>NaN</td>\n",
       "      <td>S</td>\n",
       "    </tr>\n",
       "    <tr>\n",
       "      <th>3</th>\n",
       "      <td>4</td>\n",
       "      <td>1</td>\n",
       "      <td>1</td>\n",
       "      <td>Futrelle, Mrs. Jacques Heath (Lily May Peel)</td>\n",
       "      <td>female</td>\n",
       "      <td>35.0</td>\n",
       "      <td>1</td>\n",
       "      <td>0</td>\n",
       "      <td>113803</td>\n",
       "      <td>53.1000</td>\n",
       "      <td>C123</td>\n",
       "      <td>S</td>\n",
       "    </tr>\n",
       "    <tr>\n",
       "      <th>4</th>\n",
       "      <td>5</td>\n",
       "      <td>0</td>\n",
       "      <td>3</td>\n",
       "      <td>Allen, Mr. William Henry</td>\n",
       "      <td>male</td>\n",
       "      <td>35.0</td>\n",
       "      <td>0</td>\n",
       "      <td>0</td>\n",
       "      <td>373450</td>\n",
       "      <td>8.0500</td>\n",
       "      <td>NaN</td>\n",
       "      <td>S</td>\n",
       "    </tr>\n",
       "  </tbody>\n",
       "</table>\n",
       "</div>"
      ],
      "text/plain": [
       "   PassengerId  Survived  Pclass  \\\n",
       "0            1         0       3   \n",
       "1            2         1       1   \n",
       "2            3         1       3   \n",
       "3            4         1       1   \n",
       "4            5         0       3   \n",
       "\n",
       "                                                Name     Sex   Age  SibSp  \\\n",
       "0                            Braund, Mr. Owen Harris    male  22.0      1   \n",
       "1  Cumings, Mrs. John Bradley (Florence Briggs Th...  female  38.0      1   \n",
       "2                             Heikkinen, Miss. Laina  female  26.0      0   \n",
       "3       Futrelle, Mrs. Jacques Heath (Lily May Peel)  female  35.0      1   \n",
       "4                           Allen, Mr. William Henry    male  35.0      0   \n",
       "\n",
       "   Parch            Ticket     Fare Cabin Embarked  \n",
       "0      0         A/5 21171   7.2500   NaN        S  \n",
       "1      0          PC 17599  71.2833   C85        C  \n",
       "2      0  STON/O2. 3101282   7.9250   NaN        S  \n",
       "3      0            113803  53.1000  C123        S  \n",
       "4      0            373450   8.0500   NaN        S  "
      ]
     },
     "execution_count": 3,
     "metadata": {},
     "output_type": "execute_result"
    }
   ],
   "source": [
    "train.head()"
   ]
  },
  {
   "cell_type": "code",
   "execution_count": 4,
   "metadata": {},
   "outputs": [
    {
     "name": "stdout",
     "output_type": "stream",
     "text": [
      "<class 'pandas.core.frame.DataFrame'>\n",
      "RangeIndex: 891 entries, 0 to 890\n",
      "Data columns (total 12 columns):\n",
      " #   Column       Non-Null Count  Dtype  \n",
      "---  ------       --------------  -----  \n",
      " 0   PassengerId  891 non-null    int64  \n",
      " 1   Survived     891 non-null    int64  \n",
      " 2   Pclass       891 non-null    int64  \n",
      " 3   Name         891 non-null    object \n",
      " 4   Sex          891 non-null    object \n",
      " 5   Age          714 non-null    float64\n",
      " 6   SibSp        891 non-null    int64  \n",
      " 7   Parch        891 non-null    int64  \n",
      " 8   Ticket       891 non-null    object \n",
      " 9   Fare         891 non-null    float64\n",
      " 10  Cabin        204 non-null    object \n",
      " 11  Embarked     889 non-null    object \n",
      "dtypes: float64(2), int64(5), object(5)\n",
      "memory usage: 83.7+ KB\n"
     ]
    }
   ],
   "source": [
    "train.info()"
   ]
  },
  {
   "cell_type": "code",
   "execution_count": 5,
   "metadata": {},
   "outputs": [
    {
     "data": {
      "text/html": [
       "<div>\n",
       "<style scoped>\n",
       "    .dataframe tbody tr th:only-of-type {\n",
       "        vertical-align: middle;\n",
       "    }\n",
       "\n",
       "    .dataframe tbody tr th {\n",
       "        vertical-align: top;\n",
       "    }\n",
       "\n",
       "    .dataframe thead th {\n",
       "        text-align: right;\n",
       "    }\n",
       "</style>\n",
       "<table border=\"1\" class=\"dataframe\">\n",
       "  <thead>\n",
       "    <tr style=\"text-align: right;\">\n",
       "      <th></th>\n",
       "      <th>PassengerId</th>\n",
       "      <th>Pclass</th>\n",
       "      <th>Name</th>\n",
       "      <th>Sex</th>\n",
       "      <th>Age</th>\n",
       "      <th>SibSp</th>\n",
       "      <th>Parch</th>\n",
       "      <th>Ticket</th>\n",
       "      <th>Fare</th>\n",
       "      <th>Cabin</th>\n",
       "      <th>Embarked</th>\n",
       "    </tr>\n",
       "  </thead>\n",
       "  <tbody>\n",
       "    <tr>\n",
       "      <th>0</th>\n",
       "      <td>892</td>\n",
       "      <td>3</td>\n",
       "      <td>Kelly, Mr. James</td>\n",
       "      <td>male</td>\n",
       "      <td>34.5</td>\n",
       "      <td>0</td>\n",
       "      <td>0</td>\n",
       "      <td>330911</td>\n",
       "      <td>7.8292</td>\n",
       "      <td>NaN</td>\n",
       "      <td>Q</td>\n",
       "    </tr>\n",
       "    <tr>\n",
       "      <th>1</th>\n",
       "      <td>893</td>\n",
       "      <td>3</td>\n",
       "      <td>Wilkes, Mrs. James (Ellen Needs)</td>\n",
       "      <td>female</td>\n",
       "      <td>47.0</td>\n",
       "      <td>1</td>\n",
       "      <td>0</td>\n",
       "      <td>363272</td>\n",
       "      <td>7.0000</td>\n",
       "      <td>NaN</td>\n",
       "      <td>S</td>\n",
       "    </tr>\n",
       "    <tr>\n",
       "      <th>2</th>\n",
       "      <td>894</td>\n",
       "      <td>2</td>\n",
       "      <td>Myles, Mr. Thomas Francis</td>\n",
       "      <td>male</td>\n",
       "      <td>62.0</td>\n",
       "      <td>0</td>\n",
       "      <td>0</td>\n",
       "      <td>240276</td>\n",
       "      <td>9.6875</td>\n",
       "      <td>NaN</td>\n",
       "      <td>Q</td>\n",
       "    </tr>\n",
       "    <tr>\n",
       "      <th>3</th>\n",
       "      <td>895</td>\n",
       "      <td>3</td>\n",
       "      <td>Wirz, Mr. Albert</td>\n",
       "      <td>male</td>\n",
       "      <td>27.0</td>\n",
       "      <td>0</td>\n",
       "      <td>0</td>\n",
       "      <td>315154</td>\n",
       "      <td>8.6625</td>\n",
       "      <td>NaN</td>\n",
       "      <td>S</td>\n",
       "    </tr>\n",
       "    <tr>\n",
       "      <th>4</th>\n",
       "      <td>896</td>\n",
       "      <td>3</td>\n",
       "      <td>Hirvonen, Mrs. Alexander (Helga E Lindqvist)</td>\n",
       "      <td>female</td>\n",
       "      <td>22.0</td>\n",
       "      <td>1</td>\n",
       "      <td>1</td>\n",
       "      <td>3101298</td>\n",
       "      <td>12.2875</td>\n",
       "      <td>NaN</td>\n",
       "      <td>S</td>\n",
       "    </tr>\n",
       "  </tbody>\n",
       "</table>\n",
       "</div>"
      ],
      "text/plain": [
       "   PassengerId  Pclass                                          Name     Sex  \\\n",
       "0          892       3                              Kelly, Mr. James    male   \n",
       "1          893       3              Wilkes, Mrs. James (Ellen Needs)  female   \n",
       "2          894       2                     Myles, Mr. Thomas Francis    male   \n",
       "3          895       3                              Wirz, Mr. Albert    male   \n",
       "4          896       3  Hirvonen, Mrs. Alexander (Helga E Lindqvist)  female   \n",
       "\n",
       "    Age  SibSp  Parch   Ticket     Fare Cabin Embarked  \n",
       "0  34.5      0      0   330911   7.8292   NaN        Q  \n",
       "1  47.0      1      0   363272   7.0000   NaN        S  \n",
       "2  62.0      0      0   240276   9.6875   NaN        Q  \n",
       "3  27.0      0      0   315154   8.6625   NaN        S  \n",
       "4  22.0      1      1  3101298  12.2875   NaN        S  "
      ]
     },
     "execution_count": 5,
     "metadata": {},
     "output_type": "execute_result"
    }
   ],
   "source": [
    "test.head()"
   ]
  },
  {
   "cell_type": "markdown",
   "metadata": {},
   "source": [
    "## Check if the dataset is balanced"
   ]
  },
  {
   "cell_type": "code",
   "execution_count": 6,
   "metadata": {},
   "outputs": [
    {
     "data": {
      "text/plain": [
       "<AxesSubplot:xlabel='Survived', ylabel='count'>"
      ]
     },
     "execution_count": 6,
     "metadata": {},
     "output_type": "execute_result"
    },
    {
     "data": {
      "image/png": "[encoded data removed]",
      "text/plain": [
       "<Figure size 432x288 with 1 Axes>"
      ]
     },
     "metadata": {
      "needs_background": "light"
     },
     "output_type": "display_data"
    }
   ],
   "source": [
    "sns.countplot(x = 'Survived', data = train)"
   ]
  },
  {
   "cell_type": "code",
   "execution_count": 7,
   "metadata": {},
   "outputs": [],
   "source": [
    "#saving test data index for writing final file\n",
    "\n",
    "Final_Index = test['PassengerId']"
   ]
  },
  {
   "cell_type": "markdown",
   "metadata": {},
   "source": [
    "### Check for missing values to drop/replace them "
   ]
  },
  {
   "cell_type": "code",
   "execution_count": 8,
   "metadata": {},
   "outputs": [
    {
     "data": {
      "text/plain": [
       "<AxesSubplot:>"
      ]
     },
     "execution_count": 8,
     "metadata": {},
     "output_type": "execute_result"
    },
    {
     "data": {
      "image/png": "[encoded data removed]",
      "text/plain": [
       "<Figure size 432x288 with 2 Axes>"
      ]
     },
     "metadata": {
      "needs_background": "light"
     },
     "output_type": "display_data"
    }
   ],
   "source": [
    "#checking for null values\n",
    "\n",
    "sns.heatmap(train.isnull(),yticklabels = False)"
   ]
  },
  {
   "cell_type": "code",
   "execution_count": 9,
   "metadata": {},
   "outputs": [
    {
     "data": {
      "text/plain": [
       "PassengerId      0\n",
       "Survived         0\n",
       "Pclass           0\n",
       "Name             0\n",
       "Sex              0\n",
       "Age            177\n",
       "SibSp            0\n",
       "Parch            0\n",
       "Ticket           0\n",
       "Fare             0\n",
       "Cabin          687\n",
       "Embarked         2\n",
       "dtype: int64"
      ]
     },
     "execution_count": 9,
     "metadata": {},
     "output_type": "execute_result"
    }
   ],
   "source": [
    "train.isnull().sum()"
   ]
  },
  {
   "cell_type": "code",
   "execution_count": 10,
   "metadata": {},
   "outputs": [
    {
     "data": {
      "text/plain": [
       "<AxesSubplot:>"
      ]
     },
     "execution_count": 10,
     "metadata": {},
     "output_type": "execute_result"
    },
    {
     "data": {
      "image/png": "[encoded data removed]",
      "text/plain": [
       "<Figure size 432x288 with 2 Axes>"
      ]
     },
     "metadata": {
      "needs_background": "light"
     },
     "output_type": "display_data"
    }
   ],
   "source": [
    "sns.heatmap(test.isnull(),yticklabels = False)"
   ]
  },
  {
   "cell_type": "code",
   "execution_count": 11,
   "metadata": {},
   "outputs": [
    {
     "data": {
      "text/plain": [
       "PassengerId      0\n",
       "Pclass           0\n",
       "Name             0\n",
       "Sex              0\n",
       "Age             86\n",
       "SibSp            0\n",
       "Parch            0\n",
       "Ticket           0\n",
       "Fare             1\n",
       "Cabin          327\n",
       "Embarked         0\n",
       "dtype: int64"
      ]
     },
     "execution_count": 11,
     "metadata": {},
     "output_type": "execute_result"
    }
   ],
   "source": [
    "test.isnull().sum()"
   ]
  },
  {
   "cell_type": "markdown",
   "metadata": {},
   "source": [
    "### Use mean to replace missing values "
   ]
  },
  {
   "cell_type": "markdown",
   "metadata": {},
   "source": [
    "Since there are a lof of missing values for 'Cabin', we will drop this column later. The next biggest attibute with missing values is 'Age', since there aren't a lot of missing values for this column we will look at the correlaton between different arributes and replace the missing values instead of dropping them."
   ]
  },
  {
   "cell_type": "code",
   "execution_count": 12,
   "metadata": {},
   "outputs": [
    {
     "data": {
      "text/plain": [
       "PassengerId    0.036847\n",
       "Survived      -0.077221\n",
       "Pclass        -0.369226\n",
       "Age            1.000000\n",
       "SibSp         -0.308247\n",
       "Parch         -0.189119\n",
       "Fare           0.096067\n",
       "Name: Age, dtype: float64"
      ]
     },
     "execution_count": 12,
     "metadata": {},
     "output_type": "execute_result"
    }
   ],
   "source": [
    "# check correlation of 'Age' with other attributes\n",
    "train.corr()['Age']"
   ]
  },
  {
   "cell_type": "code",
   "execution_count": 13,
   "metadata": {},
   "outputs": [
    {
     "data": {
      "text/plain": [
       "<AxesSubplot:xlabel='Pclass', ylabel='Age'>"
      ]
     },
     "execution_count": 13,
     "metadata": {},
     "output_type": "execute_result"
    },
    {
     "data": {
      "image/png": "[encoded data removed]",
      "text/plain": [
       "<Figure size 432x288 with 1 Axes>"
      ]
     },
     "metadata": {
      "needs_background": "light"
     },
     "output_type": "display_data"
    }
   ],
   "source": [
    "# 'Age' will be used as it has the highest correlation\n",
    "sns.boxplot(x = 'Pclass', y = 'Age', data = train)"
   ]
  },
  {
   "cell_type": "code",
   "execution_count": 14,
   "metadata": {},
   "outputs": [
    {
     "data": {
      "text/plain": [
       "Pclass\n",
       "1    38.233441\n",
       "2    29.877630\n",
       "3    25.140620\n",
       "Name: Age, dtype: float64"
      ]
     },
     "execution_count": 14,
     "metadata": {},
     "output_type": "execute_result"
    }
   ],
   "source": [
    "# get average age\n",
    "train.groupby('Pclass').mean()['Age']"
   ]
  },
  {
   "cell_type": "code",
   "execution_count": 15,
   "metadata": {},
   "outputs": [
    {
     "data": {
      "text/plain": [
       "<AxesSubplot:xlabel='Pclass', ylabel='Age'>"
      ]
     },
     "execution_count": 15,
     "metadata": {},
     "output_type": "execute_result"
    },
    {
     "data": {
      "image/png": "[encoded data removed]",
      "text/plain": [
       "<Figure size 432x288 with 1 Axes>"
      ]
     },
     "metadata": {
      "needs_background": "light"
     },
     "output_type": "display_data"
    }
   ],
   "source": [
    "sns.boxplot(x = 'Pclass', y = 'Age', data = test)"
   ]
  },
  {
   "cell_type": "code",
   "execution_count": 16,
   "metadata": {},
   "outputs": [
    {
     "data": {
      "text/plain": [
       "Pclass\n",
       "1    40.918367\n",
       "2    28.777500\n",
       "3    24.027945\n",
       "Name: Age, dtype: float64"
      ]
     },
     "execution_count": 16,
     "metadata": {},
     "output_type": "execute_result"
    }
   ],
   "source": [
    "test.groupby('Pclass').mean()['Age']"
   ]
  },
  {
   "cell_type": "code",
   "execution_count": 17,
   "metadata": {},
   "outputs": [],
   "source": [
    "# write functions to replace missing values of age based on passenger class\n",
    "\n",
    "def replace_train_age(df):\n",
    "    age = df[0]\n",
    "    pclass = df[1]\n",
    "    if pd.isnull(age):\n",
    "\n",
    "        if pclass == 1:\n",
    "            return 38\n",
    "\n",
    "        elif pclass == 2:\n",
    "            return 30\n",
    "\n",
    "        else:\n",
    "            return 20\n",
    "\n",
    "    else:\n",
    "        return age\n",
    "        \n",
    "def replace_test_age(df):\n",
    "    age = df[0]\n",
    "    pclass = df[1]\n",
    "    if pd.isnull(age):\n",
    "\n",
    "        if pclass == 1:\n",
    "            return 41\n",
    "\n",
    "        elif pclass == 2:\n",
    "            return 29\n",
    "\n",
    "        else:\n",
    "            return 24\n",
    "\n",
    "    else:\n",
    "        return age"
   ]
  },
  {
   "cell_type": "code",
   "execution_count": 18,
   "metadata": {},
   "outputs": [],
   "source": [
    "# applying function to fill null values\n",
    "\n",
    "train['Age'] = train[['Age','Sex']].apply(replace_train_age, axis = 1)\n",
    "test['Age'] = test[['Age','Sex']].apply(replace_test_age, axis = 1)"
   ]
  },
  {
   "cell_type": "code",
   "execution_count": 19,
   "metadata": {},
   "outputs": [
    {
     "name": "stdout",
     "output_type": "stream",
     "text": [
      "Train data:\n",
      " PassengerId      0\n",
      "Survived         0\n",
      "Pclass           0\n",
      "Name             0\n",
      "Sex              0\n",
      "Age              0\n",
      "SibSp            0\n",
      "Parch            0\n",
      "Ticket           0\n",
      "Fare             0\n",
      "Cabin          687\n",
      "Embarked         2\n",
      "dtype: int64 \n",
      "\n",
      "Test Data\n",
      "PassengerId      0\n",
      "Pclass           0\n",
      "Name             0\n",
      "Sex              0\n",
      "Age              0\n",
      "SibSp            0\n",
      "Parch            0\n",
      "Ticket           0\n",
      "Fare             1\n",
      "Cabin          327\n",
      "Embarked         0\n",
      "dtype: int64\n"
     ]
    }
   ],
   "source": [
    "print(\"Train data:\\n\",train.isnull().sum(),\"\\n\\nTest Data\")\n",
    "print(test.isnull().sum())"
   ]
  },
  {
   "cell_type": "code",
   "execution_count": 20,
   "metadata": {},
   "outputs": [
    {
     "data": {
      "text/plain": [
       "PassengerId    0.012658\n",
       "Survived       0.257307\n",
       "Pclass        -0.549500\n",
       "Age            0.116500\n",
       "SibSp          0.159651\n",
       "Parch          0.216225\n",
       "Fare           1.000000\n",
       "Name: Fare, dtype: float64"
      ]
     },
     "execution_count": 20,
     "metadata": {},
     "output_type": "execute_result"
    }
   ],
   "source": [
    "# check correlation of 'Fare' with other attributes\n",
    "train.corr()['Fare']"
   ]
  },
  {
   "cell_type": "code",
   "execution_count": 21,
   "metadata": {},
   "outputs": [
    {
     "data": {
      "text/plain": [
       "152    3\n",
       "Name: Pclass, dtype: int64"
      ]
     },
     "execution_count": 21,
     "metadata": {},
     "output_type": "execute_result"
    }
   ],
   "source": [
    "# as 'Age' is highly correlated with 'Pclass', check the Pclass of the missing fare value in test data\n",
    "test[test['Fare'].isnull()]['Pclass']"
   ]
  },
  {
   "cell_type": "code",
   "execution_count": 22,
   "metadata": {},
   "outputs": [],
   "source": [
    "# we will now replace the missing 'Age' value with average age of passengers in class 3\n",
    "av_fare = test[test['Pclass'] == 3]['Fare'].mean()"
   ]
  },
  {
   "cell_type": "code",
   "execution_count": 23,
   "metadata": {},
   "outputs": [],
   "source": [
    "test['Fare'].fillna(value = av_fare, inplace = True)"
   ]
  },
  {
   "cell_type": "code",
   "execution_count": 24,
   "metadata": {},
   "outputs": [
    {
     "name": "stdout",
     "output_type": "stream",
     "text": [
      "PassengerId      0\n",
      "Pclass           0\n",
      "Name             0\n",
      "Sex              0\n",
      "Age              0\n",
      "SibSp            0\n",
      "Parch            0\n",
      "Ticket           0\n",
      "Fare             0\n",
      "Cabin          327\n",
      "Embarked         0\n",
      "dtype: int64\n"
     ]
    }
   ],
   "source": [
    "print(test.isnull().sum())"
   ]
  },
  {
   "cell_type": "code",
   "execution_count": 25,
   "metadata": {},
   "outputs": [
    {
     "data": {
      "text/html": [
       "<div>\n",
       "<style scoped>\n",
       "    .dataframe tbody tr th:only-of-type {\n",
       "        vertical-align: middle;\n",
       "    }\n",
       "\n",
       "    .dataframe tbody tr th {\n",
       "        vertical-align: top;\n",
       "    }\n",
       "\n",
       "    .dataframe thead th {\n",
       "        text-align: right;\n",
       "    }\n",
       "</style>\n",
       "<table border=\"1\" class=\"dataframe\">\n",
       "  <thead>\n",
       "    <tr style=\"text-align: right;\">\n",
       "      <th></th>\n",
       "      <th>PassengerId</th>\n",
       "      <th>Survived</th>\n",
       "      <th>Pclass</th>\n",
       "      <th>Name</th>\n",
       "      <th>Sex</th>\n",
       "      <th>Age</th>\n",
       "      <th>SibSp</th>\n",
       "      <th>Parch</th>\n",
       "      <th>Ticket</th>\n",
       "      <th>Fare</th>\n",
       "      <th>Cabin</th>\n",
       "      <th>Embarked</th>\n",
       "    </tr>\n",
       "  </thead>\n",
       "  <tbody>\n",
       "    <tr>\n",
       "      <th>0</th>\n",
       "      <td>1</td>\n",
       "      <td>0</td>\n",
       "      <td>3</td>\n",
       "      <td>Braund, Mr. Owen Harris</td>\n",
       "      <td>male</td>\n",
       "      <td>22.0</td>\n",
       "      <td>1</td>\n",
       "      <td>0</td>\n",
       "      <td>A/5 21171</td>\n",
       "      <td>7.2500</td>\n",
       "      <td>NaN</td>\n",
       "      <td>S</td>\n",
       "    </tr>\n",
       "    <tr>\n",
       "      <th>1</th>\n",
       "      <td>2</td>\n",
       "      <td>1</td>\n",
       "      <td>1</td>\n",
       "      <td>Cumings, Mrs. John Bradley (Florence Briggs Th...</td>\n",
       "      <td>female</td>\n",
       "      <td>38.0</td>\n",
       "      <td>1</td>\n",
       "      <td>0</td>\n",
       "      <td>PC 17599</td>\n",
       "      <td>71.2833</td>\n",
       "      <td>C85</td>\n",
       "      <td>C</td>\n",
       "    </tr>\n",
       "    <tr>\n",
       "      <th>2</th>\n",
       "      <td>3</td>\n",
       "      <td>1</td>\n",
       "      <td>3</td>\n",
       "      <td>Heikkinen, Miss. Laina</td>\n",
       "      <td>female</td>\n",
       "      <td>26.0</td>\n",
       "      <td>0</td>\n",
       "      <td>0</td>\n",
       "      <td>STON/O2. 3101282</td>\n",
       "      <td>7.9250</td>\n",
       "      <td>NaN</td>\n",
       "      <td>S</td>\n",
       "    </tr>\n",
       "    <tr>\n",
       "      <th>3</th>\n",
       "      <td>4</td>\n",
       "      <td>1</td>\n",
       "      <td>1</td>\n",
       "      <td>Futrelle, Mrs. Jacques Heath (Lily May Peel)</td>\n",
       "      <td>female</td>\n",
       "      <td>35.0</td>\n",
       "      <td>1</td>\n",
       "      <td>0</td>\n",
       "      <td>113803</td>\n",
       "      <td>53.1000</td>\n",
       "      <td>C123</td>\n",
       "      <td>S</td>\n",
       "    </tr>\n",
       "    <tr>\n",
       "      <th>4</th>\n",
       "      <td>5</td>\n",
       "      <td>0</td>\n",
       "      <td>3</td>\n",
       "      <td>Allen, Mr. William Henry</td>\n",
       "      <td>male</td>\n",
       "      <td>35.0</td>\n",
       "      <td>0</td>\n",
       "      <td>0</td>\n",
       "      <td>373450</td>\n",
       "      <td>8.0500</td>\n",
       "      <td>NaN</td>\n",
       "      <td>S</td>\n",
       "    </tr>\n",
       "  </tbody>\n",
       "</table>\n",
       "</div>"
      ],
      "text/plain": [
       "   PassengerId  Survived  Pclass  \\\n",
       "0            1         0       3   \n",
       "1            2         1       1   \n",
       "2            3         1       3   \n",
       "3            4         1       1   \n",
       "4            5         0       3   \n",
       "\n",
       "                                                Name     Sex   Age  SibSp  \\\n",
       "0                            Braund, Mr. Owen Harris    male  22.0      1   \n",
       "1  Cumings, Mrs. John Bradley (Florence Briggs Th...  female  38.0      1   \n",
       "2                             Heikkinen, Miss. Laina  female  26.0      0   \n",
       "3       Futrelle, Mrs. Jacques Heath (Lily May Peel)  female  35.0      1   \n",
       "4                           Allen, Mr. William Henry    male  35.0      0   \n",
       "\n",
       "   Parch            Ticket     Fare Cabin Embarked  \n",
       "0      0         A/5 21171   7.2500   NaN        S  \n",
       "1      0          PC 17599  71.2833   C85        C  \n",
       "2      0  STON/O2. 3101282   7.9250   NaN        S  \n",
       "3      0            113803  53.1000  C123        S  \n",
       "4      0            373450   8.0500   NaN        S  "
      ]
     },
     "execution_count": 25,
     "metadata": {},
     "output_type": "execute_result"
    }
   ],
   "source": [
    " train.head()"
   ]
  },
  {
   "cell_type": "markdown",
   "metadata": {},
   "source": [
    "## Drop attributes that have low correlation with target variable"
   ]
  },
  {
   "cell_type": "code",
   "execution_count": 26,
   "metadata": {},
   "outputs": [
    {
     "data": {
      "text/plain": [
       "PassengerId   -0.005007\n",
       "Survived       1.000000\n",
       "Pclass        -0.338481\n",
       "Age           -0.040591\n",
       "SibSp         -0.035322\n",
       "Parch          0.081629\n",
       "Fare           0.257307\n",
       "Name: Survived, dtype: float64"
      ]
     },
     "execution_count": 26,
     "metadata": {},
     "output_type": "execute_result"
    }
   ],
   "source": [
    "train.corr()['Survived']"
   ]
  },
  {
   "cell_type": "markdown",
   "metadata": {},
   "source": [
    "We can see above that our target class 'Survived' has low correlation with 'PassengerId'. Additionally, we can use our intuition to guess that attributes like 'Name' and 'Ticket' may not be as important as other attributes in the classification process."
   ]
  },
  {
   "cell_type": "code",
   "execution_count": 27,
   "metadata": {},
   "outputs": [],
   "source": [
    "#dropping columns that will not play a role for prediction\n",
    "\n",
    "train.drop(['Cabin','PassengerId','Ticket','Name'], inplace = True, axis = 1)\n",
    "test.drop(['Cabin','PassengerId','Ticket','Name'], inplace = True, axis = 1)"
   ]
  },
  {
   "cell_type": "code",
   "execution_count": 28,
   "metadata": {},
   "outputs": [
    {
     "data": {
      "text/html": [
       "<div>\n",
       "<style scoped>\n",
       "    .dataframe tbody tr th:only-of-type {\n",
       "        vertical-align: middle;\n",
       "    }\n",
       "\n",
       "    .dataframe tbody tr th {\n",
       "        vertical-align: top;\n",
       "    }\n",
       "\n",
       "    .dataframe thead th {\n",
       "        text-align: right;\n",
       "    }\n",
       "</style>\n",
       "<table border=\"1\" class=\"dataframe\">\n",
       "  <thead>\n",
       "    <tr style=\"text-align: right;\">\n",
       "      <th></th>\n",
       "      <th>Survived</th>\n",
       "      <th>Pclass</th>\n",
       "      <th>Sex</th>\n",
       "      <th>Age</th>\n",
       "      <th>SibSp</th>\n",
       "      <th>Parch</th>\n",
       "      <th>Fare</th>\n",
       "      <th>Embarked</th>\n",
       "    </tr>\n",
       "  </thead>\n",
       "  <tbody>\n",
       "    <tr>\n",
       "      <th>0</th>\n",
       "      <td>0</td>\n",
       "      <td>3</td>\n",
       "      <td>male</td>\n",
       "      <td>22.0</td>\n",
       "      <td>1</td>\n",
       "      <td>0</td>\n",
       "      <td>7.2500</td>\n",
       "      <td>S</td>\n",
       "    </tr>\n",
       "    <tr>\n",
       "      <th>1</th>\n",
       "      <td>1</td>\n",
       "      <td>1</td>\n",
       "      <td>female</td>\n",
       "      <td>38.0</td>\n",
       "      <td>1</td>\n",
       "      <td>0</td>\n",
       "      <td>71.2833</td>\n",
       "      <td>C</td>\n",
       "    </tr>\n",
       "    <tr>\n",
       "      <th>2</th>\n",
       "      <td>1</td>\n",
       "      <td>3</td>\n",
       "      <td>female</td>\n",
       "      <td>26.0</td>\n",
       "      <td>0</td>\n",
       "      <td>0</td>\n",
       "      <td>7.9250</td>\n",
       "      <td>S</td>\n",
       "    </tr>\n",
       "    <tr>\n",
       "      <th>3</th>\n",
       "      <td>1</td>\n",
       "      <td>1</td>\n",
       "      <td>female</td>\n",
       "      <td>35.0</td>\n",
       "      <td>1</td>\n",
       "      <td>0</td>\n",
       "      <td>53.1000</td>\n",
       "      <td>S</td>\n",
       "    </tr>\n",
       "    <tr>\n",
       "      <th>4</th>\n",
       "      <td>0</td>\n",
       "      <td>3</td>\n",
       "      <td>male</td>\n",
       "      <td>35.0</td>\n",
       "      <td>0</td>\n",
       "      <td>0</td>\n",
       "      <td>8.0500</td>\n",
       "      <td>S</td>\n",
       "    </tr>\n",
       "  </tbody>\n",
       "</table>\n",
       "</div>"
      ],
      "text/plain": [
       "   Survived  Pclass     Sex   Age  SibSp  Parch     Fare Embarked\n",
       "0         0       3    male  22.0      1      0   7.2500        S\n",
       "1         1       1  female  38.0      1      0  71.2833        C\n",
       "2         1       3  female  26.0      0      0   7.9250        S\n",
       "3         1       1  female  35.0      1      0  53.1000        S\n",
       "4         0       3    male  35.0      0      0   8.0500        S"
      ]
     },
     "execution_count": 28,
     "metadata": {},
     "output_type": "execute_result"
    }
   ],
   "source": [
    "train.head()"
   ]
  },
  {
   "cell_type": "markdown",
   "metadata": {},
   "source": [
    "### Dummy Variables for categorical data "
   ]
  },
  {
   "cell_type": "code",
   "execution_count": 29,
   "metadata": {},
   "outputs": [],
   "source": [
    "#get dummy values for important categorical data\n",
    "\n",
    "sex = pd.get_dummies(train['Sex'], drop_first = True)\n",
    "embark = pd.get_dummies(train['Embarked'], drop_first = True)\n",
    "pclass = pd.get_dummies(train['Pclass'], drop_first = True)"
   ]
  },
  {
   "cell_type": "code",
   "execution_count": 30,
   "metadata": {},
   "outputs": [],
   "source": [
    "#concatenate with original dataframe\n",
    "train = pd.concat([train,sex,embark,pclass], axis = 1)"
   ]
  },
  {
   "cell_type": "code",
   "execution_count": 31,
   "metadata": {},
   "outputs": [],
   "source": [
    "#do the same for test dataset\n",
    "\n",
    "sex = pd.get_dummies(test['Sex'], drop_first = True)\n",
    "embark = pd.get_dummies(test['Embarked'], drop_first = True)\n",
    "pclass = pd.get_dummies(test['Pclass'], drop_first = True)"
   ]
  },
  {
   "cell_type": "code",
   "execution_count": 32,
   "metadata": {},
   "outputs": [],
   "source": [
    "#concatenating with original dataframe\n",
    "test = pd.concat([test,sex,embark,pclass], axis = 1)"
   ]
  },
  {
   "cell_type": "code",
   "execution_count": 33,
   "metadata": {},
   "outputs": [
    {
     "data": {
      "text/html": [
       "<div>\n",
       "<style scoped>\n",
       "    .dataframe tbody tr th:only-of-type {\n",
       "        vertical-align: middle;\n",
       "    }\n",
       "\n",
       "    .dataframe tbody tr th {\n",
       "        vertical-align: top;\n",
       "    }\n",
       "\n",
       "    .dataframe thead th {\n",
       "        text-align: right;\n",
       "    }\n",
       "</style>\n",
       "<table border=\"1\" class=\"dataframe\">\n",
       "  <thead>\n",
       "    <tr style=\"text-align: right;\">\n",
       "      <th></th>\n",
       "      <th>Survived</th>\n",
       "      <th>Pclass</th>\n",
       "      <th>Sex</th>\n",
       "      <th>Age</th>\n",
       "      <th>SibSp</th>\n",
       "      <th>Parch</th>\n",
       "      <th>Fare</th>\n",
       "      <th>Embarked</th>\n",
       "      <th>male</th>\n",
       "      <th>Q</th>\n",
       "      <th>S</th>\n",
       "      <th>2</th>\n",
       "      <th>3</th>\n",
       "    </tr>\n",
       "  </thead>\n",
       "  <tbody>\n",
       "    <tr>\n",
       "      <th>0</th>\n",
       "      <td>0</td>\n",
       "      <td>3</td>\n",
       "      <td>male</td>\n",
       "      <td>22.0</td>\n",
       "      <td>1</td>\n",
       "      <td>0</td>\n",
       "      <td>7.2500</td>\n",
       "      <td>S</td>\n",
       "      <td>1</td>\n",
       "      <td>0</td>\n",
       "      <td>1</td>\n",
       "      <td>0</td>\n",
       "      <td>1</td>\n",
       "    </tr>\n",
       "    <tr>\n",
       "      <th>1</th>\n",
       "      <td>1</td>\n",
       "      <td>1</td>\n",
       "      <td>female</td>\n",
       "      <td>38.0</td>\n",
       "      <td>1</td>\n",
       "      <td>0</td>\n",
       "      <td>71.2833</td>\n",
       "      <td>C</td>\n",
       "      <td>0</td>\n",
       "      <td>0</td>\n",
       "      <td>0</td>\n",
       "      <td>0</td>\n",
       "      <td>0</td>\n",
       "    </tr>\n",
       "    <tr>\n",
       "      <th>2</th>\n",
       "      <td>1</td>\n",
       "      <td>3</td>\n",
       "      <td>female</td>\n",
       "      <td>26.0</td>\n",
       "      <td>0</td>\n",
       "      <td>0</td>\n",
       "      <td>7.9250</td>\n",
       "      <td>S</td>\n",
       "      <td>0</td>\n",
       "      <td>0</td>\n",
       "      <td>1</td>\n",
       "      <td>0</td>\n",
       "      <td>1</td>\n",
       "    </tr>\n",
       "    <tr>\n",
       "      <th>3</th>\n",
       "      <td>1</td>\n",
       "      <td>1</td>\n",
       "      <td>female</td>\n",
       "      <td>35.0</td>\n",
       "      <td>1</td>\n",
       "      <td>0</td>\n",
       "      <td>53.1000</td>\n",
       "      <td>S</td>\n",
       "      <td>0</td>\n",
       "      <td>0</td>\n",
       "      <td>1</td>\n",
       "      <td>0</td>\n",
       "      <td>0</td>\n",
       "    </tr>\n",
       "    <tr>\n",
       "      <th>4</th>\n",
       "      <td>0</td>\n",
       "      <td>3</td>\n",
       "      <td>male</td>\n",
       "      <td>35.0</td>\n",
       "      <td>0</td>\n",
       "      <td>0</td>\n",
       "      <td>8.0500</td>\n",
       "      <td>S</td>\n",
       "      <td>1</td>\n",
       "      <td>0</td>\n",
       "      <td>1</td>\n",
       "      <td>0</td>\n",
       "      <td>1</td>\n",
       "    </tr>\n",
       "  </tbody>\n",
       "</table>\n",
       "</div>"
      ],
      "text/plain": [
       "   Survived  Pclass     Sex   Age  SibSp  Parch     Fare Embarked  male  Q  S  \\\n",
       "0         0       3    male  22.0      1      0   7.2500        S     1  0  1   \n",
       "1         1       1  female  38.0      1      0  71.2833        C     0  0  0   \n",
       "2         1       3  female  26.0      0      0   7.9250        S     0  0  1   \n",
       "3         1       1  female  35.0      1      0  53.1000        S     0  0  1   \n",
       "4         0       3    male  35.0      0      0   8.0500        S     1  0  1   \n",
       "\n",
       "   2  3  \n",
       "0  0  1  \n",
       "1  0  0  \n",
       "2  0  1  \n",
       "3  0  0  \n",
       "4  0  1  "
      ]
     },
     "execution_count": 33,
     "metadata": {},
     "output_type": "execute_result"
    }
   ],
   "source": [
    "train.head()"
   ]
  },
  {
   "cell_type": "code",
   "execution_count": 34,
   "metadata": {},
   "outputs": [],
   "source": [
    "#drop categorical columns\n",
    "\n",
    "train.drop(['Pclass','Sex','Embarked'], inplace = True, axis = 1)\n",
    "test.drop(['Pclass','Sex','Embarked'], inplace = True, axis = 1)"
   ]
  },
  {
   "cell_type": "code",
   "execution_count": 35,
   "metadata": {},
   "outputs": [
    {
     "data": {
      "text/html": [
       "<div>\n",
       "<style scoped>\n",
       "    .dataframe tbody tr th:only-of-type {\n",
       "        vertical-align: middle;\n",
       "    }\n",
       "\n",
       "    .dataframe tbody tr th {\n",
       "        vertical-align: top;\n",
       "    }\n",
       "\n",
       "    .dataframe thead th {\n",
       "        text-align: right;\n",
       "    }\n",
       "</style>\n",
       "<table border=\"1\" class=\"dataframe\">\n",
       "  <thead>\n",
       "    <tr style=\"text-align: right;\">\n",
       "      <th></th>\n",
       "      <th>Survived</th>\n",
       "      <th>Age</th>\n",
       "      <th>SibSp</th>\n",
       "      <th>Parch</th>\n",
       "      <th>Fare</th>\n",
       "      <th>male</th>\n",
       "      <th>Q</th>\n",
       "      <th>S</th>\n",
       "      <th>2</th>\n",
       "      <th>3</th>\n",
       "    </tr>\n",
       "  </thead>\n",
       "  <tbody>\n",
       "    <tr>\n",
       "      <th>0</th>\n",
       "      <td>0</td>\n",
       "      <td>22.0</td>\n",
       "      <td>1</td>\n",
       "      <td>0</td>\n",
       "      <td>7.2500</td>\n",
       "      <td>1</td>\n",
       "      <td>0</td>\n",
       "      <td>1</td>\n",
       "      <td>0</td>\n",
       "      <td>1</td>\n",
       "    </tr>\n",
       "    <tr>\n",
       "      <th>1</th>\n",
       "      <td>1</td>\n",
       "      <td>38.0</td>\n",
       "      <td>1</td>\n",
       "      <td>0</td>\n",
       "      <td>71.2833</td>\n",
       "      <td>0</td>\n",
       "      <td>0</td>\n",
       "      <td>0</td>\n",
       "      <td>0</td>\n",
       "      <td>0</td>\n",
       "    </tr>\n",
       "    <tr>\n",
       "      <th>2</th>\n",
       "      <td>1</td>\n",
       "      <td>26.0</td>\n",
       "      <td>0</td>\n",
       "      <td>0</td>\n",
       "      <td>7.9250</td>\n",
       "      <td>0</td>\n",
       "      <td>0</td>\n",
       "      <td>1</td>\n",
       "      <td>0</td>\n",
       "      <td>1</td>\n",
       "    </tr>\n",
       "    <tr>\n",
       "      <th>3</th>\n",
       "      <td>1</td>\n",
       "      <td>35.0</td>\n",
       "      <td>1</td>\n",
       "      <td>0</td>\n",
       "      <td>53.1000</td>\n",
       "      <td>0</td>\n",
       "      <td>0</td>\n",
       "      <td>1</td>\n",
       "      <td>0</td>\n",
       "      <td>0</td>\n",
       "    </tr>\n",
       "    <tr>\n",
       "      <th>4</th>\n",
       "      <td>0</td>\n",
       "      <td>35.0</td>\n",
       "      <td>0</td>\n",
       "      <td>0</td>\n",
       "      <td>8.0500</td>\n",
       "      <td>1</td>\n",
       "      <td>0</td>\n",
       "      <td>1</td>\n",
       "      <td>0</td>\n",
       "      <td>1</td>\n",
       "    </tr>\n",
       "  </tbody>\n",
       "</table>\n",
       "</div>"
      ],
      "text/plain": [
       "   Survived   Age  SibSp  Parch     Fare  male  Q  S  2  3\n",
       "0         0  22.0      1      0   7.2500     1  0  1  0  1\n",
       "1         1  38.0      1      0  71.2833     0  0  0  0  0\n",
       "2         1  26.0      0      0   7.9250     0  0  1  0  1\n",
       "3         1  35.0      1      0  53.1000     0  0  1  0  0\n",
       "4         0  35.0      0      0   8.0500     1  0  1  0  1"
      ]
     },
     "execution_count": 35,
     "metadata": {},
     "output_type": "execute_result"
    }
   ],
   "source": [
    "train.head()"
   ]
  },
  {
   "cell_type": "markdown",
   "metadata": {},
   "source": [
    "### Recheck Correlation of target variable with all remaining attributes"
   ]
  },
  {
   "cell_type": "markdown",
   "metadata": {},
   "source": [
    "Now that all attributes are in numerical form, check the correlation again using a heatmap. We want to reduce the number of attributes that have low correlation with the data as much as we can. Although some attributes may have a non-linear relationship with the target variable, we can come back and restore them if our model performs poorly. But for now, we will drop these columns."
   ]
  },
  {
   "cell_type": "code",
   "execution_count": 36,
   "metadata": {},
   "outputs": [],
   "source": [
    "tr_df_corr = train.corr()"
   ]
  },
  {
   "cell_type": "code",
   "execution_count": 37,
   "metadata": {},
   "outputs": [],
   "source": [
    "mask = np.triu(np.ones_like(tr_df_corr, dtype= bool))"
   ]
  },
  {
   "cell_type": "code",
   "execution_count": 38,
   "metadata": {},
   "outputs": [
    {
     "data": {
      "text/plain": [
       "<AxesSubplot:>"
      ]
     },
     "execution_count": 38,
     "metadata": {},
     "output_type": "execute_result"
    },
    {
     "data": {
      "image/png": "[encoded data removed]",
      "text/plain": [
       "<Figure size 720x576 with 2 Axes>"
      ]
     },
     "metadata": {
      "needs_background": "light"
     },
     "output_type": "display_data"
    }
   ],
   "source": [
    "plt.figure(figsize = (10,8))\n",
    "sns.heatmap(train.corr(), mask = mask, annot = True, fmt = \".2f\", cbar = \"True\", vmin=-1, vmax=1, cmap = \"YlGnBu\")"
   ]
  },
  {
   "cell_type": "markdown",
   "metadata": {},
   "source": [
    "We can see that 'Q' and 'SibSp' have very low collrealtion with the target class. Therefore, we will drop them and see how this affects the result. "
   ]
  },
  {
   "cell_type": "code",
   "execution_count": 39,
   "metadata": {},
   "outputs": [],
   "source": [
    "train.drop(['Q','SibSp'], inplace = True, axis = 1)\n",
    "test.drop(['Q','SibSp'], inplace = True, axis = 1)"
   ]
  },
  {
   "cell_type": "code",
   "execution_count": 40,
   "metadata": {},
   "outputs": [],
   "source": [
    "#dividing data into attributes and class labels\n",
    "\n",
    "X_train = train.drop('Survived',axis = 1)\n",
    "y_train = train['Survived']\n",
    "\n",
    "X_test = test"
   ]
  },
  {
   "cell_type": "markdown",
   "metadata": {},
   "source": [
    "Since we have 6 categorical attributes and 2 numerical attributes, let's try using the random forest classifier."
   ]
  },
  {
   "cell_type": "code",
   "execution_count": 41,
   "metadata": {},
   "outputs": [],
   "source": [
    "from sklearn.linear_model import LogisticRegression\n",
    "\n",
    "logr = LogisticRegression()"
   ]
  },
  {
   "cell_type": "markdown",
   "metadata": {},
   "source": [
    "## RandomizedSearchCV for Hyperparameter Tuning "
   ]
  },
  {
   "cell_type": "code",
   "execution_count": 42,
   "metadata": {},
   "outputs": [
    {
     "name": "stdout",
     "output_type": "stream",
     "text": [
      "{'max_iter': [50, 54, 58, 62, 66, 70, 74, 79, 83, 87, 91, 95, 99, 104, 108, 112, 116, 120, 124, 128, 133, 137, 141, 145, 149, 153, 158, 162, 166, 170, 174, 178, 182, 187, 191, 195, 199, 203, 207, 212, 216, 220, 224, 228, 232, 236, 241, 245, 249, 253, 257, 261, 266, 270, 274, 278, 282, 286, 290, 295, 299, 303, 307, 311, 315, 320, 324, 328, 332, 336, 340, 344, 349, 353, 357, 361, 365, 369, 374, 378, 382, 386, 390, 394, 398, 403, 407, 411, 415, 419, 423, 428, 432, 436, 440, 444, 448, 453, 457, 461, 465, 469, 473, 477, 482, 486, 490, 494, 498, 502, 507, 511, 515, 519, 523, 527, 531, 536, 540, 544, 548, 552, 556, 561, 565, 569, 573, 577, 581, 585, 590, 594, 598, 602, 606, 610, 615, 619, 623, 627, 631, 635, 639, 644, 648, 652, 656, 660, 664, 669, 673, 677, 681, 685, 689, 693, 698, 702, 706, 710, 714, 718, 723, 727, 731, 735, 739, 743, 747, 752, 756, 760, 764, 768, 772, 777, 781, 785, 789, 793, 797, 802, 806, 810, 814, 818, 822, 826, 831, 835, 839, 843, 847, 851, 856, 860, 864, 868, 872, 876, 880, 885, 889, 893, 897, 901, 905, 910, 914, 918, 922, 926, 930, 934, 939, 943, 947, 951, 955, 959, 964, 968, 972, 976, 980, 984, 988, 993, 997, 1001, 1005, 1009, 1013, 1018, 1022, 1026, 1030, 1034, 1038, 1042, 1047, 1051, 1055, 1059, 1063, 1067, 1072, 1076, 1080, 1084, 1088, 1092, 1096, 1101, 1105, 1109, 1113, 1117, 1121, 1126, 1130, 1134, 1138, 1142, 1146, 1151, 1155, 1159, 1163, 1167, 1171, 1175, 1180, 1184, 1188, 1192, 1196, 1200, 1205, 1209, 1213, 1217, 1221, 1225, 1229, 1234, 1238, 1242, 1246, 1250, 1254, 1259, 1263, 1267, 1271, 1275, 1279, 1283, 1288, 1292, 1296, 1300, 1304, 1308, 1313, 1317, 1321, 1325, 1329, 1333, 1337, 1342, 1346, 1350, 1354, 1358, 1362, 1367, 1371, 1375, 1379, 1383, 1387, 1391, 1396, 1400, 1404, 1408, 1412, 1416, 1421, 1425, 1429, 1433, 1437, 1441, 1445, 1450, 1454, 1458, 1462, 1466, 1470, 1475, 1479, 1483, 1487, 1491, 1495, 1500], 'C': [100, 10, 1.0, 0.1, 0.01, 0.001]}\n"
     ]
    }
   ],
   "source": [
    "# create a grid of parameters\n",
    "\n",
    "max_iter = [int(x) for x in np.linspace(start = 50, stop = 1500, num = 350)]\n",
    "C = [100, 10, 1.0, 0.1, 0.01, 0.001]\n",
    "\n",
    "random_grid = {'max_iter': max_iter,\n",
    "               'C': C}\n",
    "\n",
    "print(random_grid)"
   ]
  },
  {
   "cell_type": "code",
   "execution_count": 43,
   "metadata": {},
   "outputs": [],
   "source": [
    "# import libraries for cross validation\n",
    "\n",
    "from sklearn.model_selection import RandomizedSearchCV"
   ]
  },
  {
   "cell_type": "markdown",
   "metadata": {},
   "source": [
    "### Carry out cross-validation "
   ]
  },
  {
   "cell_type": "code",
   "execution_count": 44,
   "metadata": {},
   "outputs": [
    {
     "name": "stdout",
     "output_type": "stream",
     "text": [
      "Fitting 3 folds for each of 100 candidates, totalling 300 fits\n",
      "[CV] max_iter=1034, C=100 ............................................\n",
      "[CV] ............................. max_iter=1034, C=100, total=   0.1s\n",
      "[CV] max_iter=1034, C=100 ............................................\n",
      "[CV] ............................. max_iter=1034, C=100, total=   0.0s\n",
      "[CV] max_iter=1034, C=100 ............................................\n",
      "[CV] ............................. max_iter=1034, C=100, total=   0.0s\n",
      "[CV] max_iter=669, C=100 .............................................\n",
      "[CV] .............................. max_iter=669, C=100, total=   0.0s\n",
      "[CV] max_iter=669, C=100 .............................................\n",
      "[CV] .............................. max_iter=669, C=100, total=   0.0s"
     ]
    },
    {
     "name": "stderr",
     "output_type": "stream",
     "text": [
      "[Parallel(n_jobs=1)]: Using backend SequentialBackend with 1 concurrent workers.\n",
      "[Parallel(n_jobs=1)]: Done   1 out of   1 | elapsed:    0.0s remaining:    0.0s\n"
     ]
    },
    {
     "name": "stdout",
     "output_type": "stream",
     "text": [
      "\n",
      "[CV] max_iter=669, C=100 .............................................\n",
      "[CV] .............................. max_iter=669, C=100, total=   0.1s\n",
      "[CV] max_iter=407, C=0.1 .............................................\n",
      "[CV] .............................. max_iter=407, C=0.1, total=   0.0s\n",
      "[CV] max_iter=407, C=0.1 .............................................\n",
      "[CV] .............................. max_iter=407, C=0.1, total=   0.0s\n",
      "[CV] max_iter=407, C=0.1 .............................................\n",
      "[CV] .............................. max_iter=407, C=0.1, total=   0.0s\n",
      "[CV] max_iter=1479, C=100 ............................................\n",
      "[CV] ............................. max_iter=1479, C=100, total=   0.0s\n",
      "[CV] max_iter=1479, C=100 ............................................\n",
      "[CV] ............................. max_iter=1479, C=100, total=   0.0s\n",
      "[CV] max_iter=1479, C=100 ............................................\n",
      "[CV] ............................. max_iter=1479, C=100, total=   0.0s\n",
      "[CV] max_iter=141, C=10 ..............................................\n",
      "[CV] ............................... max_iter=141, C=10, total=   0.0s\n",
      "[CV] max_iter=141, C=10 ..............................................\n",
      "[CV] ............................... max_iter=141, C=10, total=   0.0s\n",
      "[CV] max_iter=141, C=10 ..............................................\n",
      "[CV] ............................... max_iter=141, C=10, total=   0.0s\n",
      "[CV] max_iter=419, C=0.1 .............................................\n",
      "[CV] .............................. max_iter=419, C=0.1, total=   0.0s\n",
      "[CV] max_iter=419, C=0.1 .............................................\n",
      "[CV] .............................. max_iter=419, C=0.1, total=   0.0s\n",
      "[CV] max_iter=419, C=0.1 .............................................\n",
      "[CV] .............................. max_iter=419, C=0.1, total=   0.0s\n",
      "[CV] max_iter=1358, C=0.01 ...........................................\n",
      "[CV] ............................ max_iter=1358, C=0.01, total=   0.0s\n",
      "[CV] max_iter=1358, C=0.01 ...........................................\n",
      "[CV] ............................ max_iter=1358, C=0.01, total=   0.0s\n",
      "[CV] max_iter=1358, C=0.01 ...........................................\n",
      "[CV] ............................ max_iter=1358, C=0.01, total=   0.0s\n",
      "[CV] max_iter=158, C=10 ..............................................\n",
      "[CV] ............................... max_iter=158, C=10, total=   0.0s\n",
      "[CV] max_iter=158, C=10 ..............................................\n",
      "[CV] ............................... max_iter=158, C=10, total=   0.0s\n",
      "[CV] max_iter=158, C=10 ..............................................\n",
      "[CV] ............................... max_iter=158, C=10, total=   0.0s\n",
      "[CV] max_iter=74, C=10 ...............................................\n",
      "[CV] ................................ max_iter=74, C=10, total=   0.0s\n",
      "[CV] max_iter=74, C=10 ...............................................\n"
     ]
    },
    {
     "name": "stderr",
     "output_type": "stream",
     "text": [
      "C:\\Users\\shisk\\anaconda3\\envs\\py37version\\lib\\site-packages\\sklearn\\model_selection\\_validation.py:552: FitFailedWarning: Estimator fit failed. The score on this train-test partition for these parameters will be set to nan. Details: \n",
      "Traceback (most recent call last):\n",
      "  File \"C:\\Users\\shisk\\anaconda3\\envs\\py37version\\lib\\site-packages\\sklearn\\model_selection\\_validation.py\", line 531, in _fit_and_score\n",
      "    estimator.fit(X_train, y_train, **fit_params)\n",
      "  File \"C:\\Users\\shisk\\anaconda3\\envs\\py37version\\lib\\site-packages\\sklearn\\linear_model\\_logistic.py\", line 1417, in fit\n",
      "    for class_, warm_start_coef_ in zip(classes_, warm_start_coef))\n",
      "  File \"C:\\Users\\shisk\\anaconda3\\envs\\py37version\\lib\\site-packages\\joblib\\parallel.py\", line 1048, in __call__\n",
      "    if self.dispatch_one_batch(iterator):\n",
      "  File \"C:\\Users\\shisk\\anaconda3\\envs\\py37version\\lib\\site-packages\\joblib\\parallel.py\", line 866, in dispatch_one_batch\n",
      "    self._dispatch(tasks)\n",
      "  File \"C:\\Users\\shisk\\anaconda3\\envs\\py37version\\lib\\site-packages\\joblib\\parallel.py\", line 784, in _dispatch\n",
      "    job = self._backend.apply_async(batch, callback=cb)\n",
      "  File \"C:\\Users\\shisk\\anaconda3\\envs\\py37version\\lib\\site-packages\\joblib\\_parallel_backends.py\", line 208, in apply_async\n",
      "    result = ImmediateResult(func)\n",
      "  File \"C:\\Users\\shisk\\anaconda3\\envs\\py37version\\lib\\site-packages\\joblib\\_parallel_backends.py\", line 572, in __init__\n",
      "    self.results = batch()\n",
      "  File \"C:\\Users\\shisk\\anaconda3\\envs\\py37version\\lib\\site-packages\\joblib\\parallel.py\", line 263, in __call__\n",
      "    for func, args, kwargs in self.items]\n",
      "  File \"C:\\Users\\shisk\\anaconda3\\envs\\py37version\\lib\\site-packages\\joblib\\parallel.py\", line 263, in <listcomp>\n",
      "    for func, args, kwargs in self.items]\n",
      "  File \"C:\\Users\\shisk\\anaconda3\\envs\\py37version\\lib\\site-packages\\sklearn\\linear_model\\_logistic.py\", line 764, in _logistic_regression_path\n",
      "    extra_warning_msg=_LOGISTIC_SOLVER_CONVERGENCE_MSG)\n",
      "  File \"C:\\Users\\shisk\\anaconda3\\envs\\py37version\\lib\\site-packages\\sklearn\\utils\\optimize.py\", line 243, in _check_optimize_result\n",
      "    ).format(solver, result.status, result.message.decode(\"latin1\"))\n",
      "AttributeError: 'str' object has no attribute 'decode'\n",
      "\n",
      "  FitFailedWarning)\n",
      "C:\\Users\\shisk\\anaconda3\\envs\\py37version\\lib\\site-packages\\sklearn\\model_selection\\_validation.py:552: FitFailedWarning: Estimator fit failed. The score on this train-test partition for these parameters will be set to nan. Details: \n",
      "Traceback (most recent call last):\n",
      "  File \"C:\\Users\\shisk\\anaconda3\\envs\\py37version\\lib\\site-packages\\sklearn\\model_selection\\_validation.py\", line 531, in _fit_and_score\n",
      "    estimator.fit(X_train, y_train, **fit_params)\n",
      "  File \"C:\\Users\\shisk\\anaconda3\\envs\\py37version\\lib\\site-packages\\sklearn\\linear_model\\_logistic.py\", line 1417, in fit\n",
      "    for class_, warm_start_coef_ in zip(classes_, warm_start_coef))\n",
      "  File \"C:\\Users\\shisk\\anaconda3\\envs\\py37version\\lib\\site-packages\\joblib\\parallel.py\", line 1048, in __call__\n",
      "    if self.dispatch_one_batch(iterator):\n",
      "  File \"C:\\Users\\shisk\\anaconda3\\envs\\py37version\\lib\\site-packages\\joblib\\parallel.py\", line 866, in dispatch_one_batch\n",
      "    self._dispatch(tasks)\n",
      "  File \"C:\\Users\\shisk\\anaconda3\\envs\\py37version\\lib\\site-packages\\joblib\\parallel.py\", line 784, in _dispatch\n",
      "    job = self._backend.apply_async(batch, callback=cb)\n",
      "  File \"C:\\Users\\shisk\\anaconda3\\envs\\py37version\\lib\\site-packages\\joblib\\_parallel_backends.py\", line 208, in apply_async\n",
      "    result = ImmediateResult(func)\n",
      "  File \"C:\\Users\\shisk\\anaconda3\\envs\\py37version\\lib\\site-packages\\joblib\\_parallel_backends.py\", line 572, in __init__\n",
      "    self.results = batch()\n",
      "  File \"C:\\Users\\shisk\\anaconda3\\envs\\py37version\\lib\\site-packages\\joblib\\parallel.py\", line 263, in __call__\n",
      "    for func, args, kwargs in self.items]\n",
      "  File \"C:\\Users\\shisk\\anaconda3\\envs\\py37version\\lib\\site-packages\\joblib\\parallel.py\", line 263, in <listcomp>\n",
      "    for func, args, kwargs in self.items]\n",
      "  File \"C:\\Users\\shisk\\anaconda3\\envs\\py37version\\lib\\site-packages\\sklearn\\linear_model\\_logistic.py\", line 764, in _logistic_regression_path\n",
      "    extra_warning_msg=_LOGISTIC_SOLVER_CONVERGENCE_MSG)\n",
      "  File \"C:\\Users\\shisk\\anaconda3\\envs\\py37version\\lib\\site-packages\\sklearn\\utils\\optimize.py\", line 243, in _check_optimize_result\n",
      "    ).format(solver, result.status, result.message.decode(\"latin1\"))\n",
      "AttributeError: 'str' object has no attribute 'decode'\n",
      "\n",
      "  FitFailedWarning)\n",
      "C:\\Users\\shisk\\anaconda3\\envs\\py37version\\lib\\site-packages\\sklearn\\model_selection\\_validation.py:552: FitFailedWarning: Estimator fit failed. The score on this train-test partition for these parameters will be set to nan. Details: \n",
      "Traceback (most recent call last):\n",
      "  File \"C:\\Users\\shisk\\anaconda3\\envs\\py37version\\lib\\site-packages\\sklearn\\model_selection\\_validation.py\", line 531, in _fit_and_score\n",
      "    estimator.fit(X_train, y_train, **fit_params)\n",
      "  File \"C:\\Users\\shisk\\anaconda3\\envs\\py37version\\lib\\site-packages\\sklearn\\linear_model\\_logistic.py\", line 1417, in fit\n",
      "    for class_, warm_start_coef_ in zip(classes_, warm_start_coef))\n",
      "  File \"C:\\Users\\shisk\\anaconda3\\envs\\py37version\\lib\\site-packages\\joblib\\parallel.py\", line 1048, in __call__\n",
      "    if self.dispatch_one_batch(iterator):\n",
      "  File \"C:\\Users\\shisk\\anaconda3\\envs\\py37version\\lib\\site-packages\\joblib\\parallel.py\", line 866, in dispatch_one_batch\n",
      "    self._dispatch(tasks)\n",
      "  File \"C:\\Users\\shisk\\anaconda3\\envs\\py37version\\lib\\site-packages\\joblib\\parallel.py\", line 784, in _dispatch\n",
      "    job = self._backend.apply_async(batch, callback=cb)\n",
      "  File \"C:\\Users\\shisk\\anaconda3\\envs\\py37version\\lib\\site-packages\\joblib\\_parallel_backends.py\", line 208, in apply_async\n",
      "    result = ImmediateResult(func)\n",
      "  File \"C:\\Users\\shisk\\anaconda3\\envs\\py37version\\lib\\site-packages\\joblib\\_parallel_backends.py\", line 572, in __init__\n",
      "    self.results = batch()\n",
      "  File \"C:\\Users\\shisk\\anaconda3\\envs\\py37version\\lib\\site-packages\\joblib\\parallel.py\", line 263, in __call__\n",
      "    for func, args, kwargs in self.items]\n",
      "  File \"C:\\Users\\shisk\\anaconda3\\envs\\py37version\\lib\\site-packages\\joblib\\parallel.py\", line 263, in <listcomp>\n",
      "    for func, args, kwargs in self.items]\n",
      "  File \"C:\\Users\\shisk\\anaconda3\\envs\\py37version\\lib\\site-packages\\sklearn\\linear_model\\_logistic.py\", line 764, in _logistic_regression_path\n",
      "    extra_warning_msg=_LOGISTIC_SOLVER_CONVERGENCE_MSG)\n",
      "  File \"C:\\Users\\shisk\\anaconda3\\envs\\py37version\\lib\\site-packages\\sklearn\\utils\\optimize.py\", line 243, in _check_optimize_result\n",
      "    ).format(solver, result.status, result.message.decode(\"latin1\"))\n",
      "AttributeError: 'str' object has no attribute 'decode'\n",
      "\n",
      "  FitFailedWarning)\n"
     ]
    },
    {
     "name": "stdout",
     "output_type": "stream",
     "text": [
      "[CV] ................................ max_iter=74, C=10, total=   0.1s\n",
      "[CV] max_iter=74, C=10 ...............................................\n",
      "[CV] ................................ max_iter=74, C=10, total=   0.0s\n",
      "[CV] max_iter=311, C=100 .............................................\n",
      "[CV] .............................. max_iter=311, C=100, total=   0.0s\n",
      "[CV] max_iter=311, C=100 .............................................\n",
      "[CV] .............................. max_iter=311, C=100, total=   0.0s\n",
      "[CV] max_iter=311, C=100 .............................................\n",
      "[CV] .............................. max_iter=311, C=100, total=   0.0s\n",
      "[CV] max_iter=565, C=0.01 ............................................\n",
      "[CV] ............................. max_iter=565, C=0.01, total=   0.0s\n",
      "[CV] max_iter=565, C=0.01 ............................................\n",
      "[CV] ............................. max_iter=565, C=0.01, total=   0.0s\n",
      "[CV] max_iter=565, C=0.01 ............................................\n",
      "[CV] ............................. max_iter=565, C=0.01, total=   0.0s\n",
      "[CV] max_iter=286, C=0.001 ...........................................\n",
      "[CV] ............................ max_iter=286, C=0.001, total=   0.0s\n",
      "[CV] max_iter=286, C=0.001 ...........................................\n",
      "[CV] ............................ max_iter=286, C=0.001, total=   0.0s\n",
      "[CV] max_iter=286, C=0.001 ...........................................\n",
      "[CV] ............................ max_iter=286, C=0.001, total=   0.0s\n",
      "[CV] max_iter=897, C=100 .............................................\n",
      "[CV] .............................. max_iter=897, C=100, total=   0.0s\n",
      "[CV] max_iter=897, C=100 .............................................\n",
      "[CV] .............................. max_iter=897, C=100, total=   0.0s\n",
      "[CV] max_iter=897, C=100 .............................................\n",
      "[CV] .............................. max_iter=897, C=100, total=   0.0s\n",
      "[CV] max_iter=307, C=0.1 .............................................\n",
      "[CV] .............................. max_iter=307, C=0.1, total=   0.0s\n",
      "[CV] max_iter=307, C=0.1 .............................................\n",
      "[CV] .............................. max_iter=307, C=0.1, total=   0.0s\n",
      "[CV] max_iter=307, C=0.1 .............................................\n",
      "[CV] .............................. max_iter=307, C=0.1, total=   0.0s\n",
      "[CV] max_iter=610, C=0.001 ...........................................\n",
      "[CV] ............................ max_iter=610, C=0.001, total=   0.0s\n",
      "[CV] max_iter=610, C=0.001 ...........................................\n",
      "[CV] ............................ max_iter=610, C=0.001, total=   0.0s\n",
      "[CV] max_iter=610, C=0.001 ...........................................\n",
      "[CV] ............................ max_iter=610, C=0.001, total=   0.0s\n",
      "[CV] max_iter=257, C=0.001 ...........................................\n",
      "[CV] ............................ max_iter=257, C=0.001, total=   0.0s\n",
      "[CV] max_iter=257, C=0.001 ...........................................\n",
      "[CV] ............................ max_iter=257, C=0.001, total=   0.0s\n",
      "[CV] max_iter=257, C=0.001 ...........................................\n",
      "[CV] ............................ max_iter=257, C=0.001, total=   0.0s\n",
      "[CV] max_iter=461, C=0.001 ...........................................\n",
      "[CV] ............................ max_iter=461, C=0.001, total=   0.0s\n",
      "[CV] max_iter=461, C=0.001 ...........................................\n",
      "[CV] ............................ max_iter=461, C=0.001, total=   0.0s\n",
      "[CV] max_iter=461, C=0.001 ...........................................\n",
      "[CV] ............................ max_iter=461, C=0.001, total=   0.0s\n",
      "[CV] max_iter=548, C=0.1 .............................................\n",
      "[CV] .............................. max_iter=548, C=0.1, total=   0.0s\n",
      "[CV] max_iter=548, C=0.1 .............................................\n",
      "[CV] .............................. max_iter=548, C=0.1, total=   0.0s\n",
      "[CV] max_iter=548, C=0.1 .............................................\n",
      "[CV] .............................. max_iter=548, C=0.1, total=   0.0s\n",
      "[CV] max_iter=652, C=0.01 ............................................\n",
      "[CV] ............................. max_iter=652, C=0.01, total=   0.0s\n",
      "[CV] max_iter=652, C=0.01 ............................................\n",
      "[CV] ............................. max_iter=652, C=0.01, total=   0.0s\n",
      "[CV] max_iter=652, C=0.01 ............................................\n",
      "[CV] ............................. max_iter=652, C=0.01, total=   0.0s\n",
      "[CV] max_iter=278, C=10 ..............................................\n",
      "[CV] ............................... max_iter=278, C=10, total=   0.0s\n",
      "[CV] max_iter=278, C=10 ..............................................\n",
      "[CV] ............................... max_iter=278, C=10, total=   0.0s\n",
      "[CV] max_iter=278, C=10 ..............................................\n",
      "[CV] ............................... max_iter=278, C=10, total=   0.0s\n",
      "[CV] max_iter=735, C=0.01 ............................................\n",
      "[CV] ............................. max_iter=735, C=0.01, total=   0.0s\n",
      "[CV] max_iter=735, C=0.01 ............................................\n",
      "[CV] ............................. max_iter=735, C=0.01, total=   0.0s\n",
      "[CV] max_iter=735, C=0.01 ............................................\n",
      "[CV] ............................. max_iter=735, C=0.01, total=   0.0s\n",
      "[CV] max_iter=232, C=0.01 ............................................\n",
      "[CV] ............................. max_iter=232, C=0.01, total=   0.0s\n",
      "[CV] max_iter=232, C=0.01 ............................................\n",
      "[CV] ............................. max_iter=232, C=0.01, total=   0.0s\n",
      "[CV] max_iter=232, C=0.01 ............................................\n",
      "[CV] ............................. max_iter=232, C=0.01, total=   0.0s\n",
      "[CV] max_iter=1433, C=0.1 ............................................\n",
      "[CV] ............................. max_iter=1433, C=0.1, total=   0.0s\n",
      "[CV] max_iter=1433, C=0.1 ............................................\n",
      "[CV] ............................. max_iter=1433, C=0.1, total=   0.0s\n",
      "[CV] max_iter=1433, C=0.1 ............................................\n",
      "[CV] ............................. max_iter=1433, C=0.1, total=   0.0s\n",
      "[CV] max_iter=615, C=0.1 .............................................\n",
      "[CV] .............................. max_iter=615, C=0.1, total=   0.0s\n",
      "[CV] max_iter=615, C=0.1 .............................................\n",
      "[CV] .............................. max_iter=615, C=0.1, total=   0.0s\n",
      "[CV] max_iter=615, C=0.1 .............................................\n",
      "[CV] .............................. max_iter=615, C=0.1, total=   0.0s\n",
      "[CV] max_iter=1080, C=0.001 ..........................................\n",
      "[CV] ........................... max_iter=1080, C=0.001, total=   0.0s\n",
      "[CV] max_iter=1080, C=0.001 ..........................................\n",
      "[CV] ........................... max_iter=1080, C=0.001, total=   0.0s\n",
      "[CV] max_iter=1080, C=0.001 ..........................................\n",
      "[CV] ........................... max_iter=1080, C=0.001, total=   0.0s\n",
      "[CV] max_iter=706, C=100 .............................................\n",
      "[CV] .............................. max_iter=706, C=100, total=   0.1s\n",
      "[CV] max_iter=706, C=100 .............................................\n",
      "[CV] .............................. max_iter=706, C=100, total=   0.0s\n",
      "[CV] max_iter=706, C=100 .............................................\n",
      "[CV] .............................. max_iter=706, C=100, total=   0.1s\n",
      "[CV] max_iter=1101, C=10 .............................................\n",
      "[CV] .............................. max_iter=1101, C=10, total=   0.0s\n",
      "[CV] max_iter=1101, C=10 .............................................\n",
      "[CV] .............................. max_iter=1101, C=10, total=   0.0s\n",
      "[CV] max_iter=1101, C=10 .............................................\n",
      "[CV] .............................. max_iter=1101, C=10, total=   0.0s\n",
      "[CV] max_iter=386, C=1.0 .............................................\n",
      "[CV] .............................. max_iter=386, C=1.0, total=   0.1s\n",
      "[CV] max_iter=386, C=1.0 .............................................\n",
      "[CV] .............................. max_iter=386, C=1.0, total=   0.0s\n",
      "[CV] max_iter=386, C=1.0 .............................................\n",
      "[CV] .............................. max_iter=386, C=1.0, total=   0.0s\n",
      "[CV] max_iter=87, C=10 ...............................................\n"
     ]
    },
    {
     "name": "stdout",
     "output_type": "stream",
     "text": [
      "[CV] ................................ max_iter=87, C=10, total=   0.0s\n",
      "[CV] max_iter=87, C=10 ...............................................\n",
      "[CV] ................................ max_iter=87, C=10, total=   0.0s\n",
      "[CV] max_iter=87, C=10 ...............................................\n"
     ]
    },
    {
     "name": "stderr",
     "output_type": "stream",
     "text": [
      "C:\\Users\\shisk\\anaconda3\\envs\\py37version\\lib\\site-packages\\sklearn\\model_selection\\_validation.py:552: FitFailedWarning: Estimator fit failed. The score on this train-test partition for these parameters will be set to nan. Details: \n",
      "Traceback (most recent call last):\n",
      "  File \"C:\\Users\\shisk\\anaconda3\\envs\\py37version\\lib\\site-packages\\sklearn\\model_selection\\_validation.py\", line 531, in _fit_and_score\n",
      "    estimator.fit(X_train, y_train, **fit_params)\n",
      "  File \"C:\\Users\\shisk\\anaconda3\\envs\\py37version\\lib\\site-packages\\sklearn\\linear_model\\_logistic.py\", line 1417, in fit\n",
      "    for class_, warm_start_coef_ in zip(classes_, warm_start_coef))\n",
      "  File \"C:\\Users\\shisk\\anaconda3\\envs\\py37version\\lib\\site-packages\\joblib\\parallel.py\", line 1048, in __call__\n",
      "    if self.dispatch_one_batch(iterator):\n",
      "  File \"C:\\Users\\shisk\\anaconda3\\envs\\py37version\\lib\\site-packages\\joblib\\parallel.py\", line 866, in dispatch_one_batch\n",
      "    self._dispatch(tasks)\n",
      "  File \"C:\\Users\\shisk\\anaconda3\\envs\\py37version\\lib\\site-packages\\joblib\\parallel.py\", line 784, in _dispatch\n",
      "    job = self._backend.apply_async(batch, callback=cb)\n",
      "  File \"C:\\Users\\shisk\\anaconda3\\envs\\py37version\\lib\\site-packages\\joblib\\_parallel_backends.py\", line 208, in apply_async\n",
      "    result = ImmediateResult(func)\n",
      "  File \"C:\\Users\\shisk\\anaconda3\\envs\\py37version\\lib\\site-packages\\joblib\\_parallel_backends.py\", line 572, in __init__\n",
      "    self.results = batch()\n",
      "  File \"C:\\Users\\shisk\\anaconda3\\envs\\py37version\\lib\\site-packages\\joblib\\parallel.py\", line 263, in __call__\n",
      "    for func, args, kwargs in self.items]\n",
      "  File \"C:\\Users\\shisk\\anaconda3\\envs\\py37version\\lib\\site-packages\\joblib\\parallel.py\", line 263, in <listcomp>\n",
      "    for func, args, kwargs in self.items]\n",
      "  File \"C:\\Users\\shisk\\anaconda3\\envs\\py37version\\lib\\site-packages\\sklearn\\linear_model\\_logistic.py\", line 764, in _logistic_regression_path\n",
      "    extra_warning_msg=_LOGISTIC_SOLVER_CONVERGENCE_MSG)\n",
      "  File \"C:\\Users\\shisk\\anaconda3\\envs\\py37version\\lib\\site-packages\\sklearn\\utils\\optimize.py\", line 243, in _check_optimize_result\n",
      "    ).format(solver, result.status, result.message.decode(\"latin1\"))\n",
      "AttributeError: 'str' object has no attribute 'decode'\n",
      "\n",
      "  FitFailedWarning)\n",
      "C:\\Users\\shisk\\anaconda3\\envs\\py37version\\lib\\site-packages\\sklearn\\model_selection\\_validation.py:552: FitFailedWarning: Estimator fit failed. The score on this train-test partition for these parameters will be set to nan. Details: \n",
      "Traceback (most recent call last):\n",
      "  File \"C:\\Users\\shisk\\anaconda3\\envs\\py37version\\lib\\site-packages\\sklearn\\model_selection\\_validation.py\", line 531, in _fit_and_score\n",
      "    estimator.fit(X_train, y_train, **fit_params)\n",
      "  File \"C:\\Users\\shisk\\anaconda3\\envs\\py37version\\lib\\site-packages\\sklearn\\linear_model\\_logistic.py\", line 1417, in fit\n",
      "    for class_, warm_start_coef_ in zip(classes_, warm_start_coef))\n",
      "  File \"C:\\Users\\shisk\\anaconda3\\envs\\py37version\\lib\\site-packages\\joblib\\parallel.py\", line 1048, in __call__\n",
      "    if self.dispatch_one_batch(iterator):\n",
      "  File \"C:\\Users\\shisk\\anaconda3\\envs\\py37version\\lib\\site-packages\\joblib\\parallel.py\", line 866, in dispatch_one_batch\n",
      "    self._dispatch(tasks)\n",
      "  File \"C:\\Users\\shisk\\anaconda3\\envs\\py37version\\lib\\site-packages\\joblib\\parallel.py\", line 784, in _dispatch\n",
      "    job = self._backend.apply_async(batch, callback=cb)\n",
      "  File \"C:\\Users\\shisk\\anaconda3\\envs\\py37version\\lib\\site-packages\\joblib\\_parallel_backends.py\", line 208, in apply_async\n",
      "    result = ImmediateResult(func)\n",
      "  File \"C:\\Users\\shisk\\anaconda3\\envs\\py37version\\lib\\site-packages\\joblib\\_parallel_backends.py\", line 572, in __init__\n",
      "    self.results = batch()\n",
      "  File \"C:\\Users\\shisk\\anaconda3\\envs\\py37version\\lib\\site-packages\\joblib\\parallel.py\", line 263, in __call__\n",
      "    for func, args, kwargs in self.items]\n",
      "  File \"C:\\Users\\shisk\\anaconda3\\envs\\py37version\\lib\\site-packages\\joblib\\parallel.py\", line 263, in <listcomp>\n",
      "    for func, args, kwargs in self.items]\n",
      "  File \"C:\\Users\\shisk\\anaconda3\\envs\\py37version\\lib\\site-packages\\sklearn\\linear_model\\_logistic.py\", line 764, in _logistic_regression_path\n",
      "    extra_warning_msg=_LOGISTIC_SOLVER_CONVERGENCE_MSG)\n",
      "  File \"C:\\Users\\shisk\\anaconda3\\envs\\py37version\\lib\\site-packages\\sklearn\\utils\\optimize.py\", line 243, in _check_optimize_result\n",
      "    ).format(solver, result.status, result.message.decode(\"latin1\"))\n",
      "AttributeError: 'str' object has no attribute 'decode'\n",
      "\n",
      "  FitFailedWarning)\n",
      "C:\\Users\\shisk\\anaconda3\\envs\\py37version\\lib\\site-packages\\sklearn\\model_selection\\_validation.py:552: FitFailedWarning: Estimator fit failed. The score on this train-test partition for these parameters will be set to nan. Details: \n",
      "Traceback (most recent call last):\n",
      "  File \"C:\\Users\\shisk\\anaconda3\\envs\\py37version\\lib\\site-packages\\sklearn\\model_selection\\_validation.py\", line 531, in _fit_and_score\n",
      "    estimator.fit(X_train, y_train, **fit_params)\n",
      "  File \"C:\\Users\\shisk\\anaconda3\\envs\\py37version\\lib\\site-packages\\sklearn\\linear_model\\_logistic.py\", line 1417, in fit\n",
      "    for class_, warm_start_coef_ in zip(classes_, warm_start_coef))\n",
      "  File \"C:\\Users\\shisk\\anaconda3\\envs\\py37version\\lib\\site-packages\\joblib\\parallel.py\", line 1048, in __call__\n",
      "    if self.dispatch_one_batch(iterator):\n",
      "  File \"C:\\Users\\shisk\\anaconda3\\envs\\py37version\\lib\\site-packages\\joblib\\parallel.py\", line 866, in dispatch_one_batch\n",
      "    self._dispatch(tasks)\n",
      "  File \"C:\\Users\\shisk\\anaconda3\\envs\\py37version\\lib\\site-packages\\joblib\\parallel.py\", line 784, in _dispatch\n",
      "    job = self._backend.apply_async(batch, callback=cb)\n",
      "  File \"C:\\Users\\shisk\\anaconda3\\envs\\py37version\\lib\\site-packages\\joblib\\_parallel_backends.py\", line 208, in apply_async\n",
      "    result = ImmediateResult(func)\n",
      "  File \"C:\\Users\\shisk\\anaconda3\\envs\\py37version\\lib\\site-packages\\joblib\\_parallel_backends.py\", line 572, in __init__\n",
      "    self.results = batch()\n",
      "  File \"C:\\Users\\shisk\\anaconda3\\envs\\py37version\\lib\\site-packages\\joblib\\parallel.py\", line 263, in __call__\n",
      "    for func, args, kwargs in self.items]\n",
      "  File \"C:\\Users\\shisk\\anaconda3\\envs\\py37version\\lib\\site-packages\\joblib\\parallel.py\", line 263, in <listcomp>\n",
      "    for func, args, kwargs in self.items]\n",
      "  File \"C:\\Users\\shisk\\anaconda3\\envs\\py37version\\lib\\site-packages\\sklearn\\linear_model\\_logistic.py\", line 764, in _logistic_regression_path\n",
      "    extra_warning_msg=_LOGISTIC_SOLVER_CONVERGENCE_MSG)\n",
      "  File \"C:\\Users\\shisk\\anaconda3\\envs\\py37version\\lib\\site-packages\\sklearn\\utils\\optimize.py\", line 243, in _check_optimize_result\n",
      "    ).format(solver, result.status, result.message.decode(\"latin1\"))\n",
      "AttributeError: 'str' object has no attribute 'decode'\n",
      "\n",
      "  FitFailedWarning)\n"
     ]
    },
    {
     "name": "stdout",
     "output_type": "stream",
     "text": [
      "[CV] ................................ max_iter=87, C=10, total=   0.0s\n",
      "[CV] max_iter=689, C=100 .............................................\n",
      "[CV] .............................. max_iter=689, C=100, total=   0.0s\n",
      "[CV] max_iter=689, C=100 .............................................\n",
      "[CV] .............................. max_iter=689, C=100, total=   0.0s\n",
      "[CV] max_iter=689, C=100 .............................................\n",
      "[CV] .............................. max_iter=689, C=100, total=   0.0s\n",
      "[CV] max_iter=752, C=0.001 ...........................................\n",
      "[CV] ............................ max_iter=752, C=0.001, total=   0.0s\n",
      "[CV] max_iter=752, C=0.001 ...........................................\n",
      "[CV] ............................ max_iter=752, C=0.001, total=   0.0s\n",
      "[CV] max_iter=752, C=0.001 ...........................................\n",
      "[CV] ............................ max_iter=752, C=0.001, total=   0.0s\n",
      "[CV] max_iter=1254, C=0.001 ..........................................\n",
      "[CV] ........................... max_iter=1254, C=0.001, total=   0.0s\n",
      "[CV] max_iter=1254, C=0.001 ..........................................\n",
      "[CV] ........................... max_iter=1254, C=0.001, total=   0.0s\n",
      "[CV] max_iter=1254, C=0.001 ..........................................\n",
      "[CV] ........................... max_iter=1254, C=0.001, total=   0.0s\n",
      "[CV] max_iter=1462, C=100 ............................................\n",
      "[CV] ............................. max_iter=1462, C=100, total=   0.0s\n",
      "[CV] max_iter=1462, C=100 ............................................\n",
      "[CV] ............................. max_iter=1462, C=100, total=   0.0s\n",
      "[CV] max_iter=1462, C=100 ............................................\n",
      "[CV] ............................. max_iter=1462, C=100, total=   0.0s\n",
      "[CV] max_iter=477, C=0.01 ............................................\n",
      "[CV] ............................. max_iter=477, C=0.01, total=   0.1s\n",
      "[CV] max_iter=477, C=0.01 ............................................\n",
      "[CV] ............................. max_iter=477, C=0.01, total=   0.0s\n",
      "[CV] max_iter=477, C=0.01 ............................................\n",
      "[CV] ............................. max_iter=477, C=0.01, total=   0.1s\n",
      "[CV] max_iter=1101, C=0.001 ..........................................\n",
      "[CV] ........................... max_iter=1101, C=0.001, total=   0.0s\n",
      "[CV] max_iter=1101, C=0.001 ..........................................\n",
      "[CV] ........................... max_iter=1101, C=0.001, total=   0.0s\n",
      "[CV] max_iter=1101, C=0.001 ..........................................\n",
      "[CV] ........................... max_iter=1101, C=0.001, total=   0.0s\n",
      "[CV] max_iter=993, C=0.001 ...........................................\n",
      "[CV] ............................ max_iter=993, C=0.001, total=   0.0s\n",
      "[CV] max_iter=993, C=0.001 ...........................................\n",
      "[CV] ............................ max_iter=993, C=0.001, total=   0.0s\n",
      "[CV] max_iter=993, C=0.001 ...........................................\n",
      "[CV] ............................ max_iter=993, C=0.001, total=   0.0s\n",
      "[CV] max_iter=278, C=1.0 .............................................\n",
      "[CV] .............................. max_iter=278, C=1.0, total=   0.1s\n",
      "[CV] max_iter=278, C=1.0 .............................................\n",
      "[CV] .............................. max_iter=278, C=1.0, total=   0.0s\n",
      "[CV] max_iter=278, C=1.0 .............................................\n",
      "[CV] .............................. max_iter=278, C=1.0, total=   0.0s\n",
      "[CV] max_iter=702, C=0.01 ............................................\n",
      "[CV] ............................. max_iter=702, C=0.01, total=   0.0s\n",
      "[CV] max_iter=702, C=0.01 ............................................\n",
      "[CV] ............................. max_iter=702, C=0.01, total=   0.0s\n",
      "[CV] max_iter=702, C=0.01 ............................................\n",
      "[CV] ............................. max_iter=702, C=0.01, total=   0.0s\n",
      "[CV] max_iter=822, C=10 ..............................................\n",
      "[CV] ............................... max_iter=822, C=10, total=   0.0s\n",
      "[CV] max_iter=822, C=10 ..............................................\n",
      "[CV] ............................... max_iter=822, C=10, total=   0.0s\n",
      "[CV] max_iter=822, C=10 ..............................................\n",
      "[CV] ............................... max_iter=822, C=10, total=   0.0s\n",
      "[CV] max_iter=810, C=0.01 ............................................\n",
      "[CV] ............................. max_iter=810, C=0.01, total=   0.0s\n",
      "[CV] max_iter=810, C=0.01 ............................................\n",
      "[CV] ............................. max_iter=810, C=0.01, total=   0.0s\n",
      "[CV] max_iter=810, C=0.01 ............................................\n",
      "[CV] ............................. max_iter=810, C=0.01, total=   0.0s\n",
      "[CV] max_iter=1188, C=10 .............................................\n",
      "[CV] .............................. max_iter=1188, C=10, total=   0.0s\n",
      "[CV] max_iter=1188, C=10 .............................................\n",
      "[CV] .............................. max_iter=1188, C=10, total=   0.0s\n",
      "[CV] max_iter=1188, C=10 .............................................\n",
      "[CV] .............................. max_iter=1188, C=10, total=   0.0s\n",
      "[CV] max_iter=772, C=1.0 .............................................\n",
      "[CV] .............................. max_iter=772, C=1.0, total=   0.1s\n",
      "[CV] max_iter=772, C=1.0 .............................................\n",
      "[CV] .............................. max_iter=772, C=1.0, total=   0.0s\n",
      "[CV] max_iter=772, C=1.0 .............................................\n",
      "[CV] .............................. max_iter=772, C=1.0, total=   0.1s\n",
      "[CV] max_iter=976, C=0.001 ...........................................\n",
      "[CV] ............................ max_iter=976, C=0.001, total=   0.0s\n",
      "[CV] max_iter=976, C=0.001 ...........................................\n",
      "[CV] ............................ max_iter=976, C=0.001, total=   0.0s\n",
      "[CV] max_iter=976, C=0.001 ...........................................\n",
      "[CV] ............................ max_iter=976, C=0.001, total=   0.0s\n",
      "[CV] max_iter=1117, C=1.0 ............................................\n",
      "[CV] ............................. max_iter=1117, C=1.0, total=   0.0s\n",
      "[CV] max_iter=1117, C=1.0 ............................................\n",
      "[CV] ............................. max_iter=1117, C=1.0, total=   0.0s\n",
      "[CV] max_iter=1117, C=1.0 ............................................\n",
      "[CV] ............................. max_iter=1117, C=1.0, total=   0.1s\n",
      "[CV] max_iter=1495, C=0.01 ...........................................\n",
      "[CV] ............................ max_iter=1495, C=0.01, total=   0.0s\n",
      "[CV] max_iter=1495, C=0.01 ...........................................\n",
      "[CV] ............................ max_iter=1495, C=0.01, total=   0.0s\n",
      "[CV] max_iter=1495, C=0.01 ...........................................\n",
      "[CV] ............................ max_iter=1495, C=0.01, total=   0.0s\n",
      "[CV] max_iter=220, C=1.0 .............................................\n",
      "[CV] .............................. max_iter=220, C=1.0, total=   0.0s\n",
      "[CV] max_iter=220, C=1.0 .............................................\n",
      "[CV] .............................. max_iter=220, C=1.0, total=   0.0s\n",
      "[CV] max_iter=220, C=1.0 .............................................\n",
      "[CV] .............................. max_iter=220, C=1.0, total=   0.0s\n",
      "[CV] max_iter=224, C=0.1 .............................................\n",
      "[CV] .............................. max_iter=224, C=0.1, total=   0.0s\n",
      "[CV] max_iter=224, C=0.1 .............................................\n",
      "[CV] .............................. max_iter=224, C=0.1, total=   0.0s\n",
      "[CV] max_iter=224, C=0.1 .............................................\n",
      "[CV] .............................. max_iter=224, C=0.1, total=   0.0s\n",
      "[CV] max_iter=249, C=0.1 .............................................\n",
      "[CV] .............................. max_iter=249, C=0.1, total=   0.0s\n",
      "[CV] max_iter=249, C=0.1 .............................................\n",
      "[CV] .............................. max_iter=249, C=0.1, total=   0.0s\n",
      "[CV] max_iter=249, C=0.1 .............................................\n",
      "[CV] .............................. max_iter=249, C=0.1, total=   0.0s\n",
      "[CV] max_iter=964, C=10 ..............................................\n"
     ]
    },
    {
     "name": "stdout",
     "output_type": "stream",
     "text": [
      "[CV] ............................... max_iter=964, C=10, total=   0.0s\n",
      "[CV] max_iter=964, C=10 ..............................................\n",
      "[CV] ............................... max_iter=964, C=10, total=   0.0s\n",
      "[CV] max_iter=964, C=10 ..............................................\n",
      "[CV] ............................... max_iter=964, C=10, total=   0.0s\n",
      "[CV] max_iter=594, C=1.0 .............................................\n",
      "[CV] .............................. max_iter=594, C=1.0, total=   0.0s\n",
      "[CV] max_iter=594, C=1.0 .............................................\n",
      "[CV] .............................. max_iter=594, C=1.0, total=   0.0s\n",
      "[CV] max_iter=594, C=1.0 .............................................\n",
      "[CV] .............................. max_iter=594, C=1.0, total=   0.1s\n",
      "[CV] max_iter=752, C=100 .............................................\n",
      "[CV] .............................. max_iter=752, C=100, total=   0.1s\n",
      "[CV] max_iter=752, C=100 .............................................\n",
      "[CV] .............................. max_iter=752, C=100, total=   0.0s\n",
      "[CV] max_iter=752, C=100 .............................................\n",
      "[CV] .............................. max_iter=752, C=100, total=   0.1s\n",
      "[CV] max_iter=74, C=1.0 ..............................................\n"
     ]
    },
    {
     "name": "stderr",
     "output_type": "stream",
     "text": [
      "C:\\Users\\shisk\\anaconda3\\envs\\py37version\\lib\\site-packages\\sklearn\\model_selection\\_validation.py:552: FitFailedWarning: Estimator fit failed. The score on this train-test partition for these parameters will be set to nan. Details: \n",
      "Traceback (most recent call last):\n",
      "  File \"C:\\Users\\shisk\\anaconda3\\envs\\py37version\\lib\\site-packages\\sklearn\\model_selection\\_validation.py\", line 531, in _fit_and_score\n",
      "    estimator.fit(X_train, y_train, **fit_params)\n",
      "  File \"C:\\Users\\shisk\\anaconda3\\envs\\py37version\\lib\\site-packages\\sklearn\\linear_model\\_logistic.py\", line 1417, in fit\n",
      "    for class_, warm_start_coef_ in zip(classes_, warm_start_coef))\n",
      "  File \"C:\\Users\\shisk\\anaconda3\\envs\\py37version\\lib\\site-packages\\joblib\\parallel.py\", line 1048, in __call__\n",
      "    if self.dispatch_one_batch(iterator):\n",
      "  File \"C:\\Users\\shisk\\anaconda3\\envs\\py37version\\lib\\site-packages\\joblib\\parallel.py\", line 866, in dispatch_one_batch\n",
      "    self._dispatch(tasks)\n",
      "  File \"C:\\Users\\shisk\\anaconda3\\envs\\py37version\\lib\\site-packages\\joblib\\parallel.py\", line 784, in _dispatch\n",
      "    job = self._backend.apply_async(batch, callback=cb)\n",
      "  File \"C:\\Users\\shisk\\anaconda3\\envs\\py37version\\lib\\site-packages\\joblib\\_parallel_backends.py\", line 208, in apply_async\n",
      "    result = ImmediateResult(func)\n",
      "  File \"C:\\Users\\shisk\\anaconda3\\envs\\py37version\\lib\\site-packages\\joblib\\_parallel_backends.py\", line 572, in __init__\n",
      "    self.results = batch()\n",
      "  File \"C:\\Users\\shisk\\anaconda3\\envs\\py37version\\lib\\site-packages\\joblib\\parallel.py\", line 263, in __call__\n",
      "    for func, args, kwargs in self.items]\n",
      "  File \"C:\\Users\\shisk\\anaconda3\\envs\\py37version\\lib\\site-packages\\joblib\\parallel.py\", line 263, in <listcomp>\n",
      "    for func, args, kwargs in self.items]\n",
      "  File \"C:\\Users\\shisk\\anaconda3\\envs\\py37version\\lib\\site-packages\\sklearn\\linear_model\\_logistic.py\", line 764, in _logistic_regression_path\n",
      "    extra_warning_msg=_LOGISTIC_SOLVER_CONVERGENCE_MSG)\n",
      "  File \"C:\\Users\\shisk\\anaconda3\\envs\\py37version\\lib\\site-packages\\sklearn\\utils\\optimize.py\", line 243, in _check_optimize_result\n",
      "    ).format(solver, result.status, result.message.decode(\"latin1\"))\n",
      "AttributeError: 'str' object has no attribute 'decode'\n",
      "\n",
      "  FitFailedWarning)\n",
      "C:\\Users\\shisk\\anaconda3\\envs\\py37version\\lib\\site-packages\\sklearn\\model_selection\\_validation.py:552: FitFailedWarning: Estimator fit failed. The score on this train-test partition for these parameters will be set to nan. Details: \n",
      "Traceback (most recent call last):\n",
      "  File \"C:\\Users\\shisk\\anaconda3\\envs\\py37version\\lib\\site-packages\\sklearn\\model_selection\\_validation.py\", line 531, in _fit_and_score\n",
      "    estimator.fit(X_train, y_train, **fit_params)\n",
      "  File \"C:\\Users\\shisk\\anaconda3\\envs\\py37version\\lib\\site-packages\\sklearn\\linear_model\\_logistic.py\", line 1417, in fit\n",
      "    for class_, warm_start_coef_ in zip(classes_, warm_start_coef))\n",
      "  File \"C:\\Users\\shisk\\anaconda3\\envs\\py37version\\lib\\site-packages\\joblib\\parallel.py\", line 1048, in __call__\n",
      "    if self.dispatch_one_batch(iterator):\n",
      "  File \"C:\\Users\\shisk\\anaconda3\\envs\\py37version\\lib\\site-packages\\joblib\\parallel.py\", line 866, in dispatch_one_batch\n",
      "    self._dispatch(tasks)\n",
      "  File \"C:\\Users\\shisk\\anaconda3\\envs\\py37version\\lib\\site-packages\\joblib\\parallel.py\", line 784, in _dispatch\n",
      "    job = self._backend.apply_async(batch, callback=cb)\n",
      "  File \"C:\\Users\\shisk\\anaconda3\\envs\\py37version\\lib\\site-packages\\joblib\\_parallel_backends.py\", line 208, in apply_async\n",
      "    result = ImmediateResult(func)\n",
      "  File \"C:\\Users\\shisk\\anaconda3\\envs\\py37version\\lib\\site-packages\\joblib\\_parallel_backends.py\", line 572, in __init__\n",
      "    self.results = batch()\n",
      "  File \"C:\\Users\\shisk\\anaconda3\\envs\\py37version\\lib\\site-packages\\joblib\\parallel.py\", line 263, in __call__\n",
      "    for func, args, kwargs in self.items]\n",
      "  File \"C:\\Users\\shisk\\anaconda3\\envs\\py37version\\lib\\site-packages\\joblib\\parallel.py\", line 263, in <listcomp>\n",
      "    for func, args, kwargs in self.items]\n",
      "  File \"C:\\Users\\shisk\\anaconda3\\envs\\py37version\\lib\\site-packages\\sklearn\\linear_model\\_logistic.py\", line 764, in _logistic_regression_path\n",
      "    extra_warning_msg=_LOGISTIC_SOLVER_CONVERGENCE_MSG)\n",
      "  File \"C:\\Users\\shisk\\anaconda3\\envs\\py37version\\lib\\site-packages\\sklearn\\utils\\optimize.py\", line 243, in _check_optimize_result\n",
      "    ).format(solver, result.status, result.message.decode(\"latin1\"))\n",
      "AttributeError: 'str' object has no attribute 'decode'\n",
      "\n",
      "  FitFailedWarning)\n",
      "C:\\Users\\shisk\\anaconda3\\envs\\py37version\\lib\\site-packages\\sklearn\\model_selection\\_validation.py:552: FitFailedWarning: Estimator fit failed. The score on this train-test partition for these parameters will be set to nan. Details: \n",
      "Traceback (most recent call last):\n",
      "  File \"C:\\Users\\shisk\\anaconda3\\envs\\py37version\\lib\\site-packages\\sklearn\\model_selection\\_validation.py\", line 531, in _fit_and_score\n",
      "    estimator.fit(X_train, y_train, **fit_params)\n",
      "  File \"C:\\Users\\shisk\\anaconda3\\envs\\py37version\\lib\\site-packages\\sklearn\\linear_model\\_logistic.py\", line 1417, in fit\n",
      "    for class_, warm_start_coef_ in zip(classes_, warm_start_coef))\n",
      "  File \"C:\\Users\\shisk\\anaconda3\\envs\\py37version\\lib\\site-packages\\joblib\\parallel.py\", line 1048, in __call__\n",
      "    if self.dispatch_one_batch(iterator):\n",
      "  File \"C:\\Users\\shisk\\anaconda3\\envs\\py37version\\lib\\site-packages\\joblib\\parallel.py\", line 866, in dispatch_one_batch\n",
      "    self._dispatch(tasks)\n",
      "  File \"C:\\Users\\shisk\\anaconda3\\envs\\py37version\\lib\\site-packages\\joblib\\parallel.py\", line 784, in _dispatch\n",
      "    job = self._backend.apply_async(batch, callback=cb)\n",
      "  File \"C:\\Users\\shisk\\anaconda3\\envs\\py37version\\lib\\site-packages\\joblib\\_parallel_backends.py\", line 208, in apply_async\n",
      "    result = ImmediateResult(func)\n",
      "  File \"C:\\Users\\shisk\\anaconda3\\envs\\py37version\\lib\\site-packages\\joblib\\_parallel_backends.py\", line 572, in __init__\n",
      "    self.results = batch()\n",
      "  File \"C:\\Users\\shisk\\anaconda3\\envs\\py37version\\lib\\site-packages\\joblib\\parallel.py\", line 263, in __call__\n",
      "    for func, args, kwargs in self.items]\n",
      "  File \"C:\\Users\\shisk\\anaconda3\\envs\\py37version\\lib\\site-packages\\joblib\\parallel.py\", line 263, in <listcomp>\n",
      "    for func, args, kwargs in self.items]\n",
      "  File \"C:\\Users\\shisk\\anaconda3\\envs\\py37version\\lib\\site-packages\\sklearn\\linear_model\\_logistic.py\", line 764, in _logistic_regression_path\n",
      "    extra_warning_msg=_LOGISTIC_SOLVER_CONVERGENCE_MSG)\n",
      "  File \"C:\\Users\\shisk\\anaconda3\\envs\\py37version\\lib\\site-packages\\sklearn\\utils\\optimize.py\", line 243, in _check_optimize_result\n",
      "    ).format(solver, result.status, result.message.decode(\"latin1\"))\n",
      "AttributeError: 'str' object has no attribute 'decode'\n",
      "\n",
      "  FitFailedWarning)\n"
     ]
    },
    {
     "name": "stdout",
     "output_type": "stream",
     "text": [
      "[CV] ............................... max_iter=74, C=1.0, total=   0.0s\n",
      "[CV] max_iter=74, C=1.0 ..............................................\n",
      "[CV] ............................... max_iter=74, C=1.0, total=   0.0s\n",
      "[CV] max_iter=74, C=1.0 ..............................................\n",
      "[CV] ............................... max_iter=74, C=1.0, total=   0.0s\n",
      "[CV] max_iter=1254, C=100 ............................................\n",
      "[CV] ............................. max_iter=1254, C=100, total=   0.0s\n",
      "[CV] max_iter=1254, C=100 ............................................\n",
      "[CV] ............................. max_iter=1254, C=100, total=   0.0s\n",
      "[CV] max_iter=1254, C=100 ............................................\n",
      "[CV] ............................. max_iter=1254, C=100, total=   0.0s\n",
      "[CV] max_iter=141, C=0.1 .............................................\n",
      "[CV] .............................. max_iter=141, C=0.1, total=   0.0s\n",
      "[CV] max_iter=141, C=0.1 .............................................\n",
      "[CV] .............................. max_iter=141, C=0.1, total=   0.0s\n",
      "[CV] max_iter=141, C=0.1 .............................................\n",
      "[CV] .............................. max_iter=141, C=0.1, total=   0.0s\n",
      "[CV] max_iter=889, C=1.0 .............................................\n",
      "[CV] .............................. max_iter=889, C=1.0, total=   0.0s\n",
      "[CV] max_iter=889, C=1.0 .............................................\n",
      "[CV] .............................. max_iter=889, C=1.0, total=   0.0s\n",
      "[CV] max_iter=889, C=1.0 .............................................\n",
      "[CV] .............................. max_iter=889, C=1.0, total=   0.0s\n",
      "[CV] max_iter=851, C=1.0 .............................................\n",
      "[CV] .............................. max_iter=851, C=1.0, total=   0.0s\n",
      "[CV] max_iter=851, C=1.0 .............................................\n",
      "[CV] .............................. max_iter=851, C=1.0, total=   0.0s\n",
      "[CV] max_iter=851, C=1.0 .............................................\n",
      "[CV] .............................. max_iter=851, C=1.0, total=   0.0s\n",
      "[CV] max_iter=91, C=0.001 ............................................\n",
      "[CV] ............................. max_iter=91, C=0.001, total=   0.0s\n",
      "[CV] max_iter=91, C=0.001 ............................................\n",
      "[CV] ............................. max_iter=91, C=0.001, total=   0.0s\n",
      "[CV] max_iter=91, C=0.001 ............................................\n",
      "[CV] ............................. max_iter=91, C=0.001, total=   0.0s\n",
      "[CV] max_iter=976, C=1.0 .............................................\n",
      "[CV] .............................. max_iter=976, C=1.0, total=   0.0s\n",
      "[CV] max_iter=976, C=1.0 .............................................\n",
      "[CV] .............................. max_iter=976, C=1.0, total=   0.0s\n",
      "[CV] max_iter=976, C=1.0 .............................................\n",
      "[CV] .............................. max_iter=976, C=1.0, total=   0.0s\n",
      "[CV] max_iter=349, C=100 .............................................\n",
      "[CV] .............................. max_iter=349, C=100, total=   0.0s\n",
      "[CV] max_iter=349, C=100 .............................................\n",
      "[CV] .............................. max_iter=349, C=100, total=   0.0s\n",
      "[CV] max_iter=349, C=100 .............................................\n",
      "[CV] .............................. max_iter=349, C=100, total=   0.0s\n",
      "[CV] max_iter=261, C=0.001 ...........................................\n",
      "[CV] ............................ max_iter=261, C=0.001, total=   0.0s\n",
      "[CV] max_iter=261, C=0.001 ...........................................\n",
      "[CV] ............................ max_iter=261, C=0.001, total=   0.0s\n",
      "[CV] max_iter=261, C=0.001 ...........................................\n",
      "[CV] ............................ max_iter=261, C=0.001, total=   0.0s\n",
      "[CV] max_iter=137, C=0.1 .............................................\n",
      "[CV] .............................. max_iter=137, C=0.1, total=   0.0s\n",
      "[CV] max_iter=137, C=0.1 .............................................\n",
      "[CV] .............................. max_iter=137, C=0.1, total=   0.0s\n",
      "[CV] max_iter=137, C=0.1 .............................................\n",
      "[CV] .............................. max_iter=137, C=0.1, total=   0.0s\n",
      "[CV] max_iter=54, C=100 ..............................................\n",
      "[CV] ............................... max_iter=54, C=100, total=   0.0s\n",
      "[CV] max_iter=54, C=100 ..............................................\n",
      "[CV] ............................... max_iter=54, C=100, total=   0.0s\n",
      "[CV] max_iter=54, C=100 ..............................................\n",
      "[CV] ............................... max_iter=54, C=100, total=   0.0s\n",
      "[CV] max_iter=797, C=100 .............................................\n",
      "[CV] .............................. max_iter=797, C=100, total=   0.0s\n",
      "[CV] max_iter=797, C=100 .............................................\n",
      "[CV] .............................. max_iter=797, C=100, total=   0.0s\n",
      "[CV] max_iter=797, C=100 .............................................\n",
      "[CV] .............................. max_iter=797, C=100, total=   0.0s\n",
      "[CV] max_iter=74, C=0.01 .............................................\n",
      "[CV] .............................. max_iter=74, C=0.01, total=   0.0s\n",
      "[CV] max_iter=74, C=0.01 .............................................\n",
      "[CV] .............................. max_iter=74, C=0.01, total=   0.0s\n",
      "[CV] max_iter=74, C=0.01 .............................................\n"
     ]
    },
    {
     "name": "stderr",
     "output_type": "stream",
     "text": [
      "C:\\Users\\shisk\\anaconda3\\envs\\py37version\\lib\\site-packages\\sklearn\\model_selection\\_validation.py:552: FitFailedWarning: Estimator fit failed. The score on this train-test partition for these parameters will be set to nan. Details: \n",
      "Traceback (most recent call last):\n",
      "  File \"C:\\Users\\shisk\\anaconda3\\envs\\py37version\\lib\\site-packages\\sklearn\\model_selection\\_validation.py\", line 531, in _fit_and_score\n",
      "    estimator.fit(X_train, y_train, **fit_params)\n",
      "  File \"C:\\Users\\shisk\\anaconda3\\envs\\py37version\\lib\\site-packages\\sklearn\\linear_model\\_logistic.py\", line 1417, in fit\n",
      "    for class_, warm_start_coef_ in zip(classes_, warm_start_coef))\n",
      "  File \"C:\\Users\\shisk\\anaconda3\\envs\\py37version\\lib\\site-packages\\joblib\\parallel.py\", line 1048, in __call__\n",
      "    if self.dispatch_one_batch(iterator):\n",
      "  File \"C:\\Users\\shisk\\anaconda3\\envs\\py37version\\lib\\site-packages\\joblib\\parallel.py\", line 866, in dispatch_one_batch\n",
      "    self._dispatch(tasks)\n",
      "  File \"C:\\Users\\shisk\\anaconda3\\envs\\py37version\\lib\\site-packages\\joblib\\parallel.py\", line 784, in _dispatch\n",
      "    job = self._backend.apply_async(batch, callback=cb)\n",
      "  File \"C:\\Users\\shisk\\anaconda3\\envs\\py37version\\lib\\site-packages\\joblib\\_parallel_backends.py\", line 208, in apply_async\n",
      "    result = ImmediateResult(func)\n",
      "  File \"C:\\Users\\shisk\\anaconda3\\envs\\py37version\\lib\\site-packages\\joblib\\_parallel_backends.py\", line 572, in __init__\n",
      "    self.results = batch()\n",
      "  File \"C:\\Users\\shisk\\anaconda3\\envs\\py37version\\lib\\site-packages\\joblib\\parallel.py\", line 263, in __call__\n",
      "    for func, args, kwargs in self.items]\n",
      "  File \"C:\\Users\\shisk\\anaconda3\\envs\\py37version\\lib\\site-packages\\joblib\\parallel.py\", line 263, in <listcomp>\n",
      "    for func, args, kwargs in self.items]\n",
      "  File \"C:\\Users\\shisk\\anaconda3\\envs\\py37version\\lib\\site-packages\\sklearn\\linear_model\\_logistic.py\", line 764, in _logistic_regression_path\n",
      "    extra_warning_msg=_LOGISTIC_SOLVER_CONVERGENCE_MSG)\n",
      "  File \"C:\\Users\\shisk\\anaconda3\\envs\\py37version\\lib\\site-packages\\sklearn\\utils\\optimize.py\", line 243, in _check_optimize_result\n",
      "    ).format(solver, result.status, result.message.decode(\"latin1\"))\n",
      "AttributeError: 'str' object has no attribute 'decode'\n",
      "\n",
      "  FitFailedWarning)\n",
      "C:\\Users\\shisk\\anaconda3\\envs\\py37version\\lib\\site-packages\\sklearn\\model_selection\\_validation.py:552: FitFailedWarning: Estimator fit failed. The score on this train-test partition for these parameters will be set to nan. Details: \n",
      "Traceback (most recent call last):\n",
      "  File \"C:\\Users\\shisk\\anaconda3\\envs\\py37version\\lib\\site-packages\\sklearn\\model_selection\\_validation.py\", line 531, in _fit_and_score\n",
      "    estimator.fit(X_train, y_train, **fit_params)\n",
      "  File \"C:\\Users\\shisk\\anaconda3\\envs\\py37version\\lib\\site-packages\\sklearn\\linear_model\\_logistic.py\", line 1417, in fit\n",
      "    for class_, warm_start_coef_ in zip(classes_, warm_start_coef))\n",
      "  File \"C:\\Users\\shisk\\anaconda3\\envs\\py37version\\lib\\site-packages\\joblib\\parallel.py\", line 1048, in __call__\n",
      "    if self.dispatch_one_batch(iterator):\n",
      "  File \"C:\\Users\\shisk\\anaconda3\\envs\\py37version\\lib\\site-packages\\joblib\\parallel.py\", line 866, in dispatch_one_batch\n",
      "    self._dispatch(tasks)\n",
      "  File \"C:\\Users\\shisk\\anaconda3\\envs\\py37version\\lib\\site-packages\\joblib\\parallel.py\", line 784, in _dispatch\n",
      "    job = self._backend.apply_async(batch, callback=cb)\n",
      "  File \"C:\\Users\\shisk\\anaconda3\\envs\\py37version\\lib\\site-packages\\joblib\\_parallel_backends.py\", line 208, in apply_async\n",
      "    result = ImmediateResult(func)\n",
      "  File \"C:\\Users\\shisk\\anaconda3\\envs\\py37version\\lib\\site-packages\\joblib\\_parallel_backends.py\", line 572, in __init__\n",
      "    self.results = batch()\n",
      "  File \"C:\\Users\\shisk\\anaconda3\\envs\\py37version\\lib\\site-packages\\joblib\\parallel.py\", line 263, in __call__\n",
      "    for func, args, kwargs in self.items]\n",
      "  File \"C:\\Users\\shisk\\anaconda3\\envs\\py37version\\lib\\site-packages\\joblib\\parallel.py\", line 263, in <listcomp>\n",
      "    for func, args, kwargs in self.items]\n",
      "  File \"C:\\Users\\shisk\\anaconda3\\envs\\py37version\\lib\\site-packages\\sklearn\\linear_model\\_logistic.py\", line 764, in _logistic_regression_path\n",
      "    extra_warning_msg=_LOGISTIC_SOLVER_CONVERGENCE_MSG)\n",
      "  File \"C:\\Users\\shisk\\anaconda3\\envs\\py37version\\lib\\site-packages\\sklearn\\utils\\optimize.py\", line 243, in _check_optimize_result\n",
      "    ).format(solver, result.status, result.message.decode(\"latin1\"))\n",
      "AttributeError: 'str' object has no attribute 'decode'\n",
      "\n",
      "  FitFailedWarning)\n",
      "C:\\Users\\shisk\\anaconda3\\envs\\py37version\\lib\\site-packages\\sklearn\\model_selection\\_validation.py:552: FitFailedWarning: Estimator fit failed. The score on this train-test partition for these parameters will be set to nan. Details: \n",
      "Traceback (most recent call last):\n",
      "  File \"C:\\Users\\shisk\\anaconda3\\envs\\py37version\\lib\\site-packages\\sklearn\\model_selection\\_validation.py\", line 531, in _fit_and_score\n",
      "    estimator.fit(X_train, y_train, **fit_params)\n",
      "  File \"C:\\Users\\shisk\\anaconda3\\envs\\py37version\\lib\\site-packages\\sklearn\\linear_model\\_logistic.py\", line 1417, in fit\n",
      "    for class_, warm_start_coef_ in zip(classes_, warm_start_coef))\n",
      "  File \"C:\\Users\\shisk\\anaconda3\\envs\\py37version\\lib\\site-packages\\joblib\\parallel.py\", line 1048, in __call__\n",
      "    if self.dispatch_one_batch(iterator):\n",
      "  File \"C:\\Users\\shisk\\anaconda3\\envs\\py37version\\lib\\site-packages\\joblib\\parallel.py\", line 866, in dispatch_one_batch\n",
      "    self._dispatch(tasks)\n",
      "  File \"C:\\Users\\shisk\\anaconda3\\envs\\py37version\\lib\\site-packages\\joblib\\parallel.py\", line 784, in _dispatch\n",
      "    job = self._backend.apply_async(batch, callback=cb)\n",
      "  File \"C:\\Users\\shisk\\anaconda3\\envs\\py37version\\lib\\site-packages\\joblib\\_parallel_backends.py\", line 208, in apply_async\n",
      "    result = ImmediateResult(func)\n",
      "  File \"C:\\Users\\shisk\\anaconda3\\envs\\py37version\\lib\\site-packages\\joblib\\_parallel_backends.py\", line 572, in __init__\n",
      "    self.results = batch()\n",
      "  File \"C:\\Users\\shisk\\anaconda3\\envs\\py37version\\lib\\site-packages\\joblib\\parallel.py\", line 263, in __call__\n",
      "    for func, args, kwargs in self.items]\n",
      "  File \"C:\\Users\\shisk\\anaconda3\\envs\\py37version\\lib\\site-packages\\joblib\\parallel.py\", line 263, in <listcomp>\n",
      "    for func, args, kwargs in self.items]\n",
      "  File \"C:\\Users\\shisk\\anaconda3\\envs\\py37version\\lib\\site-packages\\sklearn\\linear_model\\_logistic.py\", line 764, in _logistic_regression_path\n",
      "    extra_warning_msg=_LOGISTIC_SOLVER_CONVERGENCE_MSG)\n",
      "  File \"C:\\Users\\shisk\\anaconda3\\envs\\py37version\\lib\\site-packages\\sklearn\\utils\\optimize.py\", line 243, in _check_optimize_result\n",
      "    ).format(solver, result.status, result.message.decode(\"latin1\"))\n",
      "AttributeError: 'str' object has no attribute 'decode'\n",
      "\n",
      "  FitFailedWarning)\n"
     ]
    },
    {
     "name": "stdout",
     "output_type": "stream",
     "text": [
      "[CV] .............................. max_iter=74, C=0.01, total=   0.0s\n",
      "[CV] max_iter=1367, C=0.01 ...........................................\n",
      "[CV] ............................ max_iter=1367, C=0.01, total=   0.0s\n",
      "[CV] max_iter=1367, C=0.01 ...........................................\n",
      "[CV] ............................ max_iter=1367, C=0.01, total=   0.0s\n",
      "[CV] max_iter=1367, C=0.01 ...........................................\n",
      "[CV] ............................ max_iter=1367, C=0.01, total=   0.0s\n",
      "[CV] max_iter=1005, C=0.01 ...........................................\n",
      "[CV] ............................ max_iter=1005, C=0.01, total=   0.0s\n",
      "[CV] max_iter=1005, C=0.01 ...........................................\n",
      "[CV] ............................ max_iter=1005, C=0.01, total=   0.0s\n",
      "[CV] max_iter=1005, C=0.01 ...........................................\n",
      "[CV] ............................ max_iter=1005, C=0.01, total=   0.0s\n",
      "[CV] max_iter=398, C=0.01 ............................................\n",
      "[CV] ............................. max_iter=398, C=0.01, total=   0.0s\n",
      "[CV] max_iter=398, C=0.01 ............................................\n",
      "[CV] ............................. max_iter=398, C=0.01, total=   0.0s\n",
      "[CV] max_iter=398, C=0.01 ............................................\n",
      "[CV] ............................. max_iter=398, C=0.01, total=   0.0s\n",
      "[CV] max_iter=1175, C=0.001 ..........................................\n",
      "[CV] ........................... max_iter=1175, C=0.001, total=   0.0s\n",
      "[CV] max_iter=1175, C=0.001 ..........................................\n",
      "[CV] ........................... max_iter=1175, C=0.001, total=   0.0s\n",
      "[CV] max_iter=1175, C=0.001 ..........................................\n",
      "[CV] ........................... max_iter=1175, C=0.001, total=   0.0s\n",
      "[CV] max_iter=847, C=100 .............................................\n",
      "[CV] .............................. max_iter=847, C=100, total=   0.0s\n",
      "[CV] max_iter=847, C=100 .............................................\n",
      "[CV] .............................. max_iter=847, C=100, total=   0.0s\n",
      "[CV] max_iter=847, C=100 .............................................\n",
      "[CV] .............................. max_iter=847, C=100, total=   0.0s\n",
      "[CV] max_iter=565, C=10 ..............................................\n",
      "[CV] ............................... max_iter=565, C=10, total=   0.0s\n",
      "[CV] max_iter=565, C=10 ..............................................\n",
      "[CV] ............................... max_iter=565, C=10, total=   0.0s\n",
      "[CV] max_iter=565, C=10 ..............................................\n",
      "[CV] ............................... max_iter=565, C=10, total=   0.0s\n",
      "[CV] max_iter=864, C=0.01 ............................................\n",
      "[CV] ............................. max_iter=864, C=0.01, total=   0.0s\n",
      "[CV] max_iter=864, C=0.01 ............................................\n",
      "[CV] ............................. max_iter=864, C=0.01, total=   0.0s\n",
      "[CV] max_iter=864, C=0.01 ............................................\n",
      "[CV] ............................. max_iter=864, C=0.01, total=   0.0s\n",
      "[CV] max_iter=1383, C=10 .............................................\n",
      "[CV] .............................. max_iter=1383, C=10, total=   0.0s\n",
      "[CV] max_iter=1383, C=10 .............................................\n",
      "[CV] .............................. max_iter=1383, C=10, total=   0.0s\n",
      "[CV] max_iter=1383, C=10 .............................................\n",
      "[CV] .............................. max_iter=1383, C=10, total=   0.0s\n",
      "[CV] max_iter=249, C=10 ..............................................\n",
      "[CV] ............................... max_iter=249, C=10, total=   0.0s\n",
      "[CV] max_iter=249, C=10 ..............................................\n",
      "[CV] ............................... max_iter=249, C=10, total=   0.0s\n",
      "[CV] max_iter=249, C=10 ..............................................\n",
      "[CV] ............................... max_iter=249, C=10, total=   0.0s\n",
      "[CV] max_iter=1155, C=10 .............................................\n",
      "[CV] .............................. max_iter=1155, C=10, total=   0.0s\n",
      "[CV] max_iter=1155, C=10 .............................................\n",
      "[CV] .............................. max_iter=1155, C=10, total=   0.0s\n",
      "[CV] max_iter=1155, C=10 .............................................\n",
      "[CV] .............................. max_iter=1155, C=10, total=   0.0s\n",
      "[CV] max_iter=677, C=0.001 ...........................................\n",
      "[CV] ............................ max_iter=677, C=0.001, total=   0.0s\n",
      "[CV] max_iter=677, C=0.001 ...........................................\n",
      "[CV] ............................ max_iter=677, C=0.001, total=   0.0s\n",
      "[CV] max_iter=677, C=0.001 ...........................................\n",
      "[CV] ............................ max_iter=677, C=0.001, total=   0.0s\n",
      "[CV] max_iter=1018, C=10 .............................................\n",
      "[CV] .............................. max_iter=1018, C=10, total=   0.0s\n",
      "[CV] max_iter=1018, C=10 .............................................\n",
      "[CV] .............................. max_iter=1018, C=10, total=   0.0s\n",
      "[CV] max_iter=1018, C=10 .............................................\n",
      "[CV] .............................. max_iter=1018, C=10, total=   0.0s\n",
      "[CV] max_iter=137, C=0.01 ............................................\n",
      "[CV] ............................. max_iter=137, C=0.01, total=   0.0s\n",
      "[CV] max_iter=137, C=0.01 ............................................\n",
      "[CV] ............................. max_iter=137, C=0.01, total=   0.0s\n",
      "[CV] max_iter=137, C=0.01 ............................................\n",
      "[CV] ............................. max_iter=137, C=0.01, total=   0.0s\n",
      "[CV] max_iter=523, C=0.1 .............................................\n",
      "[CV] .............................. max_iter=523, C=0.1, total=   0.0s\n",
      "[CV] max_iter=523, C=0.1 .............................................\n",
      "[CV] .............................. max_iter=523, C=0.1, total=   0.0s\n",
      "[CV] max_iter=523, C=0.1 .............................................\n",
      "[CV] .............................. max_iter=523, C=0.1, total=   0.0s\n",
      "[CV] max_iter=453, C=100 .............................................\n",
      "[CV] .............................. max_iter=453, C=100, total=   0.0s\n",
      "[CV] max_iter=453, C=100 .............................................\n",
      "[CV] .............................. max_iter=453, C=100, total=   0.0s\n",
      "[CV] max_iter=453, C=100 .............................................\n",
      "[CV] .............................. max_iter=453, C=100, total=   0.0s\n",
      "[CV] max_iter=108, C=0.1 .............................................\n",
      "[CV] .............................. max_iter=108, C=0.1, total=   0.0s\n",
      "[CV] max_iter=108, C=0.1 .............................................\n",
      "[CV] .............................. max_iter=108, C=0.1, total=   0.0s\n",
      "[CV] max_iter=108, C=0.1 .............................................\n",
      "[CV] .............................. max_iter=108, C=0.1, total=   0.0s\n",
      "[CV] max_iter=802, C=0.01 ............................................\n",
      "[CV] ............................. max_iter=802, C=0.01, total=   0.0s\n",
      "[CV] max_iter=802, C=0.01 ............................................\n",
      "[CV] ............................. max_iter=802, C=0.01, total=   0.0s\n",
      "[CV] max_iter=802, C=0.01 ............................................\n",
      "[CV] ............................. max_iter=802, C=0.01, total=   0.0s\n",
      "[CV] max_iter=631, C=10 ..............................................\n",
      "[CV] ............................... max_iter=631, C=10, total=   0.0s\n",
      "[CV] max_iter=631, C=10 ..............................................\n",
      "[CV] ............................... max_iter=631, C=10, total=   0.0s\n",
      "[CV] max_iter=631, C=10 ..............................................\n",
      "[CV] ............................... max_iter=631, C=10, total=   0.0s\n",
      "[CV] max_iter=1130, C=0.01 ...........................................\n",
      "[CV] ............................ max_iter=1130, C=0.01, total=   0.0s\n",
      "[CV] max_iter=1130, C=0.01 ...........................................\n",
      "[CV] ............................ max_iter=1130, C=0.01, total=   0.0s\n",
      "[CV] max_iter=1130, C=0.01 ...........................................\n",
      "[CV] ............................ max_iter=1130, C=0.01, total=   0.0s\n",
      "[CV] max_iter=623, C=1.0 .............................................\n",
      "[CV] .............................. max_iter=623, C=1.0, total=   0.0s\n",
      "[CV] max_iter=623, C=1.0 .............................................\n",
      "[CV] .............................. max_iter=623, C=1.0, total=   0.0s\n",
      "[CV] max_iter=623, C=1.0 .............................................\n",
      "[CV] .............................. max_iter=623, C=1.0, total=   0.1s\n",
      "[CV] max_iter=307, C=1.0 .............................................\n"
     ]
    },
    {
     "name": "stdout",
     "output_type": "stream",
     "text": [
      "[CV] .............................. max_iter=307, C=1.0, total=   0.0s\n",
      "[CV] max_iter=307, C=1.0 .............................................\n",
      "[CV] .............................. max_iter=307, C=1.0, total=   0.0s\n",
      "[CV] max_iter=307, C=1.0 .............................................\n",
      "[CV] .............................. max_iter=307, C=1.0, total=   0.0s\n",
      "[CV] max_iter=851, C=0.1 .............................................\n",
      "[CV] .............................. max_iter=851, C=0.1, total=   0.0s\n",
      "[CV] max_iter=851, C=0.1 .............................................\n",
      "[CV] .............................. max_iter=851, C=0.1, total=   0.0s\n",
      "[CV] max_iter=851, C=0.1 .............................................\n",
      "[CV] .............................. max_iter=851, C=0.1, total=   0.0s\n",
      "[CV] max_iter=120, C=0.001 ...........................................\n",
      "[CV] ............................ max_iter=120, C=0.001, total=   0.0s\n",
      "[CV] max_iter=120, C=0.001 ...........................................\n",
      "[CV] ............................ max_iter=120, C=0.001, total=   0.0s\n",
      "[CV] max_iter=120, C=0.001 ...........................................\n",
      "[CV] ............................ max_iter=120, C=0.001, total=   0.0s\n",
      "[CV] max_iter=685, C=1.0 .............................................\n",
      "[CV] .............................. max_iter=685, C=1.0, total=   0.0s\n",
      "[CV] max_iter=685, C=1.0 .............................................\n",
      "[CV] .............................. max_iter=685, C=1.0, total=   0.0s\n",
      "[CV] max_iter=685, C=1.0 .............................................\n",
      "[CV] .............................. max_iter=685, C=1.0, total=   0.0s\n",
      "[CV] max_iter=453, C=0.01 ............................................\n",
      "[CV] ............................. max_iter=453, C=0.01, total=   0.0s\n",
      "[CV] max_iter=453, C=0.01 ............................................\n",
      "[CV] ............................. max_iter=453, C=0.01, total=   0.0s\n",
      "[CV] max_iter=453, C=0.01 ............................................\n",
      "[CV] ............................. max_iter=453, C=0.01, total=   0.0s\n",
      "[CV] max_iter=332, C=10 ..............................................\n",
      "[CV] ............................... max_iter=332, C=10, total=   0.0s\n",
      "[CV] max_iter=332, C=10 ..............................................\n",
      "[CV] ............................... max_iter=332, C=10, total=   0.0s\n",
      "[CV] max_iter=332, C=10 ..............................................\n",
      "[CV] ............................... max_iter=332, C=10, total=   0.0s\n",
      "[CV] max_iter=398, C=0.1 .............................................\n",
      "[CV] .............................. max_iter=398, C=0.1, total=   0.0s\n",
      "[CV] max_iter=398, C=0.1 .............................................\n",
      "[CV] .............................. max_iter=398, C=0.1, total=   0.0s\n",
      "[CV] max_iter=398, C=0.1 .............................................\n",
      "[CV] .............................. max_iter=398, C=0.1, total=   0.0s\n",
      "[CV] max_iter=959, C=10 ..............................................\n",
      "[CV] ............................... max_iter=959, C=10, total=   0.0s\n",
      "[CV] max_iter=959, C=10 ..............................................\n",
      "[CV] ............................... max_iter=959, C=10, total=   0.0s\n",
      "[CV] max_iter=959, C=10 ..............................................\n",
      "[CV] ............................... max_iter=959, C=10, total=   0.0s\n",
      "[CV] max_iter=216, C=0.01 ............................................\n",
      "[CV] ............................. max_iter=216, C=0.01, total=   0.0s\n",
      "[CV] max_iter=216, C=0.01 ............................................\n",
      "[CV] ............................. max_iter=216, C=0.01, total=   0.0s\n",
      "[CV] max_iter=216, C=0.01 ............................................\n",
      "[CV] ............................. max_iter=216, C=0.01, total=   0.0s\n",
      "[CV] max_iter=128, C=100 .............................................\n",
      "[CV] .............................. max_iter=128, C=100, total=   0.0s\n",
      "[CV] max_iter=128, C=100 .............................................\n",
      "[CV] .............................. max_iter=128, C=100, total=   0.0s\n",
      "[CV] max_iter=128, C=100 .............................................\n",
      "[CV] .............................. max_iter=128, C=100, total=   0.0s\n",
      "[CV] max_iter=536, C=0.001 ...........................................\n",
      "[CV] ............................ max_iter=536, C=0.001, total=   0.0s\n",
      "[CV] max_iter=536, C=0.001 ...........................................\n",
      "[CV] ............................ max_iter=536, C=0.001, total=   0.0s\n",
      "[CV] max_iter=536, C=0.001 ...........................................\n"
     ]
    },
    {
     "name": "stderr",
     "output_type": "stream",
     "text": [
      "C:\\Users\\shisk\\anaconda3\\envs\\py37version\\lib\\site-packages\\sklearn\\model_selection\\_validation.py:552: FitFailedWarning: Estimator fit failed. The score on this train-test partition for these parameters will be set to nan. Details: \n",
      "Traceback (most recent call last):\n",
      "  File \"C:\\Users\\shisk\\anaconda3\\envs\\py37version\\lib\\site-packages\\sklearn\\model_selection\\_validation.py\", line 531, in _fit_and_score\n",
      "    estimator.fit(X_train, y_train, **fit_params)\n",
      "  File \"C:\\Users\\shisk\\anaconda3\\envs\\py37version\\lib\\site-packages\\sklearn\\linear_model\\_logistic.py\", line 1417, in fit\n",
      "    for class_, warm_start_coef_ in zip(classes_, warm_start_coef))\n",
      "  File \"C:\\Users\\shisk\\anaconda3\\envs\\py37version\\lib\\site-packages\\joblib\\parallel.py\", line 1048, in __call__\n",
      "    if self.dispatch_one_batch(iterator):\n",
      "  File \"C:\\Users\\shisk\\anaconda3\\envs\\py37version\\lib\\site-packages\\joblib\\parallel.py\", line 866, in dispatch_one_batch\n",
      "    self._dispatch(tasks)\n",
      "  File \"C:\\Users\\shisk\\anaconda3\\envs\\py37version\\lib\\site-packages\\joblib\\parallel.py\", line 784, in _dispatch\n",
      "    job = self._backend.apply_async(batch, callback=cb)\n",
      "  File \"C:\\Users\\shisk\\anaconda3\\envs\\py37version\\lib\\site-packages\\joblib\\_parallel_backends.py\", line 208, in apply_async\n",
      "    result = ImmediateResult(func)\n",
      "  File \"C:\\Users\\shisk\\anaconda3\\envs\\py37version\\lib\\site-packages\\joblib\\_parallel_backends.py\", line 572, in __init__\n",
      "    self.results = batch()\n",
      "  File \"C:\\Users\\shisk\\anaconda3\\envs\\py37version\\lib\\site-packages\\joblib\\parallel.py\", line 263, in __call__\n",
      "    for func, args, kwargs in self.items]\n",
      "  File \"C:\\Users\\shisk\\anaconda3\\envs\\py37version\\lib\\site-packages\\joblib\\parallel.py\", line 263, in <listcomp>\n",
      "    for func, args, kwargs in self.items]\n",
      "  File \"C:\\Users\\shisk\\anaconda3\\envs\\py37version\\lib\\site-packages\\sklearn\\linear_model\\_logistic.py\", line 764, in _logistic_regression_path\n",
      "    extra_warning_msg=_LOGISTIC_SOLVER_CONVERGENCE_MSG)\n",
      "  File \"C:\\Users\\shisk\\anaconda3\\envs\\py37version\\lib\\site-packages\\sklearn\\utils\\optimize.py\", line 243, in _check_optimize_result\n",
      "    ).format(solver, result.status, result.message.decode(\"latin1\"))\n",
      "AttributeError: 'str' object has no attribute 'decode'\n",
      "\n",
      "  FitFailedWarning)\n",
      "C:\\Users\\shisk\\anaconda3\\envs\\py37version\\lib\\site-packages\\sklearn\\model_selection\\_validation.py:552: FitFailedWarning: Estimator fit failed. The score on this train-test partition for these parameters will be set to nan. Details: \n",
      "Traceback (most recent call last):\n",
      "  File \"C:\\Users\\shisk\\anaconda3\\envs\\py37version\\lib\\site-packages\\sklearn\\model_selection\\_validation.py\", line 531, in _fit_and_score\n",
      "    estimator.fit(X_train, y_train, **fit_params)\n",
      "  File \"C:\\Users\\shisk\\anaconda3\\envs\\py37version\\lib\\site-packages\\sklearn\\linear_model\\_logistic.py\", line 1417, in fit\n",
      "    for class_, warm_start_coef_ in zip(classes_, warm_start_coef))\n",
      "  File \"C:\\Users\\shisk\\anaconda3\\envs\\py37version\\lib\\site-packages\\joblib\\parallel.py\", line 1048, in __call__\n",
      "    if self.dispatch_one_batch(iterator):\n",
      "  File \"C:\\Users\\shisk\\anaconda3\\envs\\py37version\\lib\\site-packages\\joblib\\parallel.py\", line 866, in dispatch_one_batch\n",
      "    self._dispatch(tasks)\n",
      "  File \"C:\\Users\\shisk\\anaconda3\\envs\\py37version\\lib\\site-packages\\joblib\\parallel.py\", line 784, in _dispatch\n",
      "    job = self._backend.apply_async(batch, callback=cb)\n",
      "  File \"C:\\Users\\shisk\\anaconda3\\envs\\py37version\\lib\\site-packages\\joblib\\_parallel_backends.py\", line 208, in apply_async\n",
      "    result = ImmediateResult(func)\n",
      "  File \"C:\\Users\\shisk\\anaconda3\\envs\\py37version\\lib\\site-packages\\joblib\\_parallel_backends.py\", line 572, in __init__\n",
      "    self.results = batch()\n",
      "  File \"C:\\Users\\shisk\\anaconda3\\envs\\py37version\\lib\\site-packages\\joblib\\parallel.py\", line 263, in __call__\n",
      "    for func, args, kwargs in self.items]\n",
      "  File \"C:\\Users\\shisk\\anaconda3\\envs\\py37version\\lib\\site-packages\\joblib\\parallel.py\", line 263, in <listcomp>\n",
      "    for func, args, kwargs in self.items]\n",
      "  File \"C:\\Users\\shisk\\anaconda3\\envs\\py37version\\lib\\site-packages\\sklearn\\linear_model\\_logistic.py\", line 764, in _logistic_regression_path\n",
      "    extra_warning_msg=_LOGISTIC_SOLVER_CONVERGENCE_MSG)\n",
      "  File \"C:\\Users\\shisk\\anaconda3\\envs\\py37version\\lib\\site-packages\\sklearn\\utils\\optimize.py\", line 243, in _check_optimize_result\n",
      "    ).format(solver, result.status, result.message.decode(\"latin1\"))\n",
      "AttributeError: 'str' object has no attribute 'decode'\n",
      "\n",
      "  FitFailedWarning)\n"
     ]
    },
    {
     "name": "stdout",
     "output_type": "stream",
     "text": [
      "[CV] ............................ max_iter=536, C=0.001, total=   0.0s\n",
      "[CV] max_iter=440, C=0.1 .............................................\n",
      "[CV] .............................. max_iter=440, C=0.1, total=   0.0s\n",
      "[CV] max_iter=440, C=0.1 .............................................\n",
      "[CV] .............................. max_iter=440, C=0.1, total=   0.0s\n",
      "[CV] max_iter=440, C=0.1 .............................................\n",
      "[CV] .............................. max_iter=440, C=0.1, total=   0.0s\n",
      "[CV] max_iter=1005, C=0.001 ..........................................\n",
      "[CV] ........................... max_iter=1005, C=0.001, total=   0.0s\n",
      "[CV] max_iter=1005, C=0.001 ..........................................\n",
      "[CV] ........................... max_iter=1005, C=0.001, total=   0.0s\n",
      "[CV] max_iter=1005, C=0.001 ..........................................\n",
      "[CV] ........................... max_iter=1005, C=0.001, total=   0.0s\n",
      "[CV] max_iter=939, C=0.01 ............................................\n",
      "[CV] ............................. max_iter=939, C=0.01, total=   0.0s\n",
      "[CV] max_iter=939, C=0.01 ............................................\n",
      "[CV] ............................. max_iter=939, C=0.01, total=   0.0s\n",
      "[CV] max_iter=939, C=0.01 ............................................\n",
      "[CV] ............................. max_iter=939, C=0.01, total=   0.0s\n",
      "[CV] max_iter=357, C=0.001 ...........................................\n",
      "[CV] ............................ max_iter=357, C=0.001, total=   0.0s\n",
      "[CV] max_iter=357, C=0.001 ...........................................\n",
      "[CV] ............................ max_iter=357, C=0.001, total=   0.0s\n",
      "[CV] max_iter=357, C=0.001 ...........................................\n",
      "[CV] ............................ max_iter=357, C=0.001, total=   0.0s\n",
      "[CV] max_iter=1138, C=100 ............................................\n",
      "[CV] ............................. max_iter=1138, C=100, total=   0.0s\n",
      "[CV] max_iter=1138, C=100 ............................................\n",
      "[CV] ............................. max_iter=1138, C=100, total=   0.0s\n",
      "[CV] max_iter=1138, C=100 ............................................\n",
      "[CV] ............................. max_iter=1138, C=100, total=   0.0s\n"
     ]
    },
    {
     "name": "stderr",
     "output_type": "stream",
     "text": [
      "[Parallel(n_jobs=1)]: Done 300 out of 300 | elapsed:    8.6s finished\n"
     ]
    },
    {
     "data": {
      "text/plain": [
       "RandomizedSearchCV(cv=3, estimator=LogisticRegression(), n_iter=100,\n",
       "                   param_distributions={'C': [100, 10, 1.0, 0.1, 0.01, 0.001],\n",
       "                                        'max_iter': [50, 54, 58, 62, 66, 70, 74,\n",
       "                                                     79, 83, 87, 91, 95, 99,\n",
       "                                                     104, 108, 112, 116, 120,\n",
       "                                                     124, 128, 133, 137, 141,\n",
       "                                                     145, 149, 153, 158, 162,\n",
       "                                                     166, 170, ...]},\n",
       "                   verbose=2)"
      ]
     },
     "execution_count": 44,
     "metadata": {},
     "output_type": "execute_result"
    }
   ],
   "source": [
    "# begin cross validation, we will only try 50 fits in this case\n",
    "\n",
    "logr_random = RandomizedSearchCV(estimator = logr, param_distributions = random_grid, n_iter = 100,\n",
    "                               cv = 3, verbose = 2)\n",
    "\n",
    "logr_random.fit(X_train, y_train)"
   ]
  },
  {
   "cell_type": "code",
   "execution_count": 45,
   "metadata": {},
   "outputs": [
    {
     "data": {
      "text/plain": [
       "{'max_iter': 407, 'C': 0.1}"
      ]
     },
     "execution_count": 45,
     "metadata": {},
     "output_type": "execute_result"
    }
   ],
   "source": [
    "# find the best set of parameters\n",
    "logr_random.best_params_"
   ]
  },
  {
   "cell_type": "code",
   "execution_count": 46,
   "metadata": {},
   "outputs": [
    {
     "data": {
      "text/plain": [
       "0.7856341189674523"
      ]
     },
     "execution_count": 46,
     "metadata": {},
     "output_type": "execute_result"
    }
   ],
   "source": [
    "# also check the best score\n",
    "logr_random.best_score_"
   ]
  },
  {
   "cell_type": "code",
   "execution_count": 47,
   "metadata": {},
   "outputs": [],
   "source": [
    "params = logr_random.best_params_"
   ]
  },
  {
   "cell_type": "markdown",
   "metadata": {},
   "source": [
    "### Choose best parameters to create the final model "
   ]
  },
  {
   "cell_type": "code",
   "execution_count": 48,
   "metadata": {},
   "outputs": [
    {
     "data": {
      "text/plain": [
       "LogisticRegression(C=0.1, max_iter=407)"
      ]
     },
     "execution_count": 48,
     "metadata": {},
     "output_type": "execute_result"
    }
   ],
   "source": [
    "logr_final = LogisticRegression(**params)\n",
    "\n",
    "logr_final.fit(X_train, y_train)"
   ]
  },
  {
   "cell_type": "code",
   "execution_count": 49,
   "metadata": {},
   "outputs": [],
   "source": [
    "predictions = logr_final.predict(test)"
   ]
  },
  {
   "cell_type": "code",
   "execution_count": 50,
   "metadata": {},
   "outputs": [
    {
     "data": {
      "text/plain": [
       "array([0, 0, 0, 0, 0, 0, 1, 0, 1, 0, 0, 0, 1, 0, 1, 1, 0, 0, 0, 1, 0, 0,\n",
       "       1, 0, 1, 0, 1, 0, 0, 0, 0, 0, 0, 0, 0, 0, 1, 1, 0, 0, 0, 0, 0, 1,\n",
       "       1, 0, 0, 0, 1, 0, 0, 0, 1, 1, 0, 0, 0, 0, 0, 1, 0, 0, 0, 1, 1, 1,\n",
       "       1, 0, 0, 1, 1, 0, 0, 0, 1, 1, 0, 1, 0, 1, 0, 0, 0, 0, 0, 0, 1, 1,\n",
       "       1, 0, 1, 0, 1, 0, 0, 0, 1, 0, 1, 0, 1, 0, 0, 0, 1, 0, 0, 0, 0, 0,\n",
       "       0, 1, 1, 1, 1, 0, 0, 1, 0, 1, 1, 0, 1, 0, 0, 1, 0, 1, 0, 0, 0, 0,\n",
       "       0, 0, 0, 0, 0, 0, 1, 0, 1, 1, 1, 0, 0, 0, 0, 0, 0, 0, 1, 0, 0, 0,\n",
       "       0, 0, 1, 1, 0, 0, 1, 0, 1, 0, 0, 0, 0, 0, 1, 1, 0, 0, 0, 0, 0, 1,\n",
       "       1, 0, 1, 1, 0, 0, 1, 0, 1, 0, 1, 0, 1, 0, 0, 0, 0, 0, 0, 0, 1, 1,\n",
       "       0, 1, 1, 0, 1, 1, 0, 0, 1, 0, 1, 0, 0, 0, 0, 1, 0, 0, 1, 0, 1, 0,\n",
       "       1, 0, 1, 0, 1, 1, 0, 1, 0, 0, 0, 1, 0, 0, 0, 0, 0, 0, 1, 1, 1, 1,\n",
       "       0, 0, 0, 0, 1, 0, 1, 1, 1, 0, 1, 0, 0, 0, 0, 0, 1, 0, 0, 0, 1, 1,\n",
       "       0, 0, 0, 0, 1, 0, 0, 0, 1, 1, 0, 1, 0, 0, 0, 0, 1, 0, 1, 1, 1, 0,\n",
       "       0, 0, 0, 0, 0, 1, 0, 0, 0, 0, 1, 0, 0, 0, 0, 0, 0, 0, 1, 1, 0, 0,\n",
       "       0, 0, 0, 0, 0, 1, 1, 1, 0, 0, 0, 0, 0, 0, 0, 0, 1, 0, 1, 0, 0, 0,\n",
       "       1, 0, 0, 1, 0, 0, 0, 0, 0, 0, 0, 0, 0, 1, 0, 1, 0, 1, 0, 1, 1, 0,\n",
       "       0, 0, 1, 0, 1, 0, 0, 0, 0, 1, 1, 0, 1, 0, 0, 1, 1, 0, 0, 1, 0, 0,\n",
       "       1, 1, 1, 0, 0, 0, 0, 0, 1, 1, 0, 1, 0, 0, 0, 0, 0, 1, 0, 0, 0, 1,\n",
       "       0, 1, 0, 0, 1, 0, 1, 0, 0, 0, 0, 1, 1, 1, 1, 1, 0, 0, 1, 0, 0, 0],\n",
       "      dtype=int64)"
      ]
     },
     "execution_count": 50,
     "metadata": {},
     "output_type": "execute_result"
    }
   ],
   "source": [
    "predictions"
   ]
  },
  {
   "cell_type": "code",
   "execution_count": 51,
   "metadata": {},
   "outputs": [],
   "source": [
    "#reading csv file with correct classification\n",
    "\n",
    "answers = pd.read_csv('..\\\\..\\\\Data\\\\gender_submission.csv')['Survived']"
   ]
  },
  {
   "cell_type": "code",
   "execution_count": 52,
   "metadata": {},
   "outputs": [
    {
     "data": {
      "text/plain": [
       "0    0\n",
       "1    1\n",
       "2    0\n",
       "3    0\n",
       "4    1\n",
       "Name: Survived, dtype: int64"
      ]
     },
     "execution_count": 52,
     "metadata": {},
     "output_type": "execute_result"
    }
   ],
   "source": [
    "answers.head()"
   ]
  },
  {
   "cell_type": "code",
   "execution_count": 53,
   "metadata": {},
   "outputs": [],
   "source": [
    "#creating prediction dataFrame\n",
    "\n",
    "pred = pd.DataFrame(index = Final_Index, data = predictions)"
   ]
  },
  {
   "cell_type": "markdown",
   "metadata": {},
   "source": [
    "## Model Evaluation"
   ]
  },
  {
   "cell_type": "code",
   "execution_count": 54,
   "metadata": {},
   "outputs": [],
   "source": [
    "from sklearn.metrics import classification_report"
   ]
  },
  {
   "cell_type": "code",
   "execution_count": 55,
   "metadata": {},
   "outputs": [
    {
     "name": "stdout",
     "output_type": "stream",
     "text": [
      "              precision    recall  f1-score   support\n",
      "\n",
      "           0       0.97      0.94      0.96       275\n",
      "           1       0.89      0.95      0.92       143\n",
      "\n",
      "    accuracy                           0.94       418\n",
      "   macro avg       0.93      0.95      0.94       418\n",
      "weighted avg       0.95      0.94      0.95       418\n",
      "\n"
     ]
    }
   ],
   "source": [
    "#printing classification report\n",
    "\n",
    "print(classification_report(predictions,answers))"
   ]
  },
  {
   "cell_type": "code",
   "execution_count": 56,
   "metadata": {},
   "outputs": [],
   "source": [
    "from sklearn.metrics import confusion_matrix"
   ]
  },
  {
   "cell_type": "code",
   "execution_count": 57,
   "metadata": {},
   "outputs": [
    {
     "name": "stdout",
     "output_type": "stream",
     "text": [
      "[[259  16]\n",
      " [  7 136]]\n"
     ]
    }
   ],
   "source": [
    "print(confusion_matrix(predictions,answers))"
   ]
  },
  {
   "cell_type": "code",
   "execution_count": 58,
   "metadata": {},
   "outputs": [
    {
     "data": {
      "text/html": [
       "<div>\n",
       "<style scoped>\n",
       "    .dataframe tbody tr th:only-of-type {\n",
       "        vertical-align: middle;\n",
       "    }\n",
       "\n",
       "    .dataframe tbody tr th {\n",
       "        vertical-align: top;\n",
       "    }\n",
       "\n",
       "    .dataframe thead th {\n",
       "        text-align: right;\n",
       "    }\n",
       "</style>\n",
       "<table border=\"1\" class=\"dataframe\">\n",
       "  <thead>\n",
       "    <tr style=\"text-align: right;\">\n",
       "      <th></th>\n",
       "      <th>Survived</th>\n",
       "    </tr>\n",
       "    <tr>\n",
       "      <th>PassengerId</th>\n",
       "      <th></th>\n",
       "    </tr>\n",
       "  </thead>\n",
       "  <tbody>\n",
       "    <tr>\n",
       "      <th>892</th>\n",
       "      <td>0</td>\n",
       "    </tr>\n",
       "    <tr>\n",
       "      <th>893</th>\n",
       "      <td>0</td>\n",
       "    </tr>\n",
       "    <tr>\n",
       "      <th>894</th>\n",
       "      <td>0</td>\n",
       "    </tr>\n",
       "    <tr>\n",
       "      <th>895</th>\n",
       "      <td>0</td>\n",
       "    </tr>\n",
       "    <tr>\n",
       "      <th>896</th>\n",
       "      <td>0</td>\n",
       "    </tr>\n",
       "  </tbody>\n",
       "</table>\n",
       "</div>"
      ],
      "text/plain": [
       "             Survived\n",
       "PassengerId          \n",
       "892                 0\n",
       "893                 0\n",
       "894                 0\n",
       "895                 0\n",
       "896                 0"
      ]
     },
     "execution_count": 58,
     "metadata": {},
     "output_type": "execute_result"
    }
   ],
   "source": [
    "df = pred.rename(columns = {'PassengerId':'PassengerId', 0:'Survived'})\n",
    "df.head()"
   ]
  },
  {
   "cell_type": "markdown",
   "metadata": {},
   "source": [
    "### Save prediction results "
   ]
  },
  {
   "cell_type": "code",
   "execution_count": null,
   "metadata": {},
   "outputs": [],
   "source": [
    "df.to_csv('Prediction_Titanic_with_cross_validation.csv')"
   ]
  },
  {
   "cell_type": "code",
   "execution_count": null,
   "metadata": {},
   "outputs": [],
   "source": []
  }
 ],
 "metadata": {
  "kernelspec": {
   "display_name": "Python 3",
   "language": "python",
   "name": "python3"
  },
  "language_info": {
   "codemirror_mode": {
    "name": "ipython",
    "version": 3
   },
   "file_extension": ".py",
   "mimetype": "text/x-python",
   "name": "python",
   "nbconvert_exporter": "python",
   "pygments_lexer": "ipython3",
   "version": "3.7.9"
  }
 },
 "nbformat": 4,
 "nbformat_minor": 4
}
