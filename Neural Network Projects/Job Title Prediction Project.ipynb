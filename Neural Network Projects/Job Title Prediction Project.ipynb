{
 "cells": [
  {
   "cell_type": "code",
   "execution_count": 1,
   "metadata": {},
   "outputs": [],
   "source": [
    "import numpy as np\n",
    "import pandas as pd\n",
    "import matplotlib.pyplot as plt\n",
    "import seaborn as sns\n",
    "%matplotlib inline"
   ]
  },
  {
   "cell_type": "code",
   "execution_count": 2,
   "metadata": {},
   "outputs": [],
   "source": [
    "# provide path to data\n",
    "path = 'C:/Users/shisk/Desktop/Projects/Data/eda_data.csv'"
   ]
  },
  {
   "cell_type": "code",
   "execution_count": 3,
   "metadata": {},
   "outputs": [
    {
     "name": "stdout",
     "output_type": "stream",
     "text": [
      "<class 'pandas.core.frame.DataFrame'>\n",
      "RangeIndex: 742 entries, 0 to 741\n",
      "Data columns (total 33 columns):\n",
      " #   Column             Non-Null Count  Dtype  \n",
      "---  ------             --------------  -----  \n",
      " 0   Unnamed: 0         742 non-null    int64  \n",
      " 1   Job Title          742 non-null    object \n",
      " 2   Salary Estimate    742 non-null    object \n",
      " 3   Job Description    742 non-null    object \n",
      " 4   Rating             742 non-null    float64\n",
      " 5   Company Name       742 non-null    object \n",
      " 6   Location           742 non-null    object \n",
      " 7   Headquarters       742 non-null    object \n",
      " 8   Size               742 non-null    object \n",
      " 9   Founded            742 non-null    int64  \n",
      " 10  Type of ownership  742 non-null    object \n",
      " 11  Industry           742 non-null    object \n",
      " 12  Sector             742 non-null    object \n",
      " 13  Revenue            742 non-null    object \n",
      " 14  Competitors        742 non-null    object \n",
      " 15  hourly             742 non-null    int64  \n",
      " 16  employer_provided  742 non-null    int64  \n",
      " 17  min_salary         742 non-null    int64  \n",
      " 18  max_salary         742 non-null    int64  \n",
      " 19  avg_salary         742 non-null    float64\n",
      " 20  company_txt        742 non-null    object \n",
      " 21  job_state          742 non-null    object \n",
      " 22  same_state         742 non-null    int64  \n",
      " 23  age                742 non-null    int64  \n",
      " 24  python_yn          742 non-null    int64  \n",
      " 25  R_yn               742 non-null    int64  \n",
      " 26  spark              742 non-null    int64  \n",
      " 27  aws                742 non-null    int64  \n",
      " 28  excel              742 non-null    int64  \n",
      " 29  job_simp           742 non-null    object \n",
      " 30  seniority          742 non-null    object \n",
      " 31  desc_len           742 non-null    int64  \n",
      " 32  num_comp           742 non-null    int64  \n",
      "dtypes: float64(2), int64(15), object(16)\n",
      "memory usage: 191.4+ KB\n"
     ]
    }
   ],
   "source": [
    "df = pd.read_csv(path)\n",
    "df.info()"
   ]
  },
  {
   "cell_type": "code",
   "execution_count": 4,
   "metadata": {},
   "outputs": [
    {
     "data": {
      "text/plain": [
       "Unnamed: 0           0\n",
       "Job Title            0\n",
       "Salary Estimate      0\n",
       "Job Description      0\n",
       "Rating               0\n",
       "Company Name         0\n",
       "Location             0\n",
       "Headquarters         0\n",
       "Size                 0\n",
       "Founded              0\n",
       "Type of ownership    0\n",
       "Industry             0\n",
       "Sector               0\n",
       "Revenue              0\n",
       "Competitors          0\n",
       "hourly               0\n",
       "employer_provided    0\n",
       "min_salary           0\n",
       "max_salary           0\n",
       "avg_salary           0\n",
       "company_txt          0\n",
       "job_state            0\n",
       "same_state           0\n",
       "age                  0\n",
       "python_yn            0\n",
       "R_yn                 0\n",
       "spark                0\n",
       "aws                  0\n",
       "excel                0\n",
       "job_simp             0\n",
       "seniority            0\n",
       "desc_len             0\n",
       "num_comp             0\n",
       "dtype: int64"
      ]
     },
     "execution_count": 4,
     "metadata": {},
     "output_type": "execute_result"
    }
   ],
   "source": [
    "df.isnull().sum()"
   ]
  },
  {
   "cell_type": "code",
   "execution_count": 5,
   "metadata": {},
   "outputs": [
    {
     "data": {
      "text/html": [
       "<div>\n",
       "<style scoped>\n",
       "    .dataframe tbody tr th:only-of-type {\n",
       "        vertical-align: middle;\n",
       "    }\n",
       "\n",
       "    .dataframe tbody tr th {\n",
       "        vertical-align: top;\n",
       "    }\n",
       "\n",
       "    .dataframe thead th {\n",
       "        text-align: right;\n",
       "    }\n",
       "</style>\n",
       "<table border=\"1\" class=\"dataframe\">\n",
       "  <thead>\n",
       "    <tr style=\"text-align: right;\">\n",
       "      <th></th>\n",
       "      <th>count</th>\n",
       "      <th>mean</th>\n",
       "      <th>std</th>\n",
       "      <th>min</th>\n",
       "      <th>25%</th>\n",
       "      <th>50%</th>\n",
       "      <th>75%</th>\n",
       "      <th>max</th>\n",
       "    </tr>\n",
       "  </thead>\n",
       "  <tbody>\n",
       "    <tr>\n",
       "      <th>Unnamed: 0</th>\n",
       "      <td>742.0</td>\n",
       "      <td>370.500000</td>\n",
       "      <td>214.341239</td>\n",
       "      <td>0.0</td>\n",
       "      <td>185.25</td>\n",
       "      <td>370.5</td>\n",
       "      <td>555.75</td>\n",
       "      <td>741.0</td>\n",
       "    </tr>\n",
       "    <tr>\n",
       "      <th>Rating</th>\n",
       "      <td>742.0</td>\n",
       "      <td>3.618868</td>\n",
       "      <td>0.801210</td>\n",
       "      <td>-1.0</td>\n",
       "      <td>3.30</td>\n",
       "      <td>3.7</td>\n",
       "      <td>4.00</td>\n",
       "      <td>5.0</td>\n",
       "    </tr>\n",
       "    <tr>\n",
       "      <th>Founded</th>\n",
       "      <td>742.0</td>\n",
       "      <td>1837.154987</td>\n",
       "      <td>497.183763</td>\n",
       "      <td>-1.0</td>\n",
       "      <td>1939.00</td>\n",
       "      <td>1988.0</td>\n",
       "      <td>2007.00</td>\n",
       "      <td>2019.0</td>\n",
       "    </tr>\n",
       "    <tr>\n",
       "      <th>hourly</th>\n",
       "      <td>742.0</td>\n",
       "      <td>0.032345</td>\n",
       "      <td>0.177034</td>\n",
       "      <td>0.0</td>\n",
       "      <td>0.00</td>\n",
       "      <td>0.0</td>\n",
       "      <td>0.00</td>\n",
       "      <td>1.0</td>\n",
       "    </tr>\n",
       "    <tr>\n",
       "      <th>employer_provided</th>\n",
       "      <td>742.0</td>\n",
       "      <td>0.022911</td>\n",
       "      <td>0.149721</td>\n",
       "      <td>0.0</td>\n",
       "      <td>0.00</td>\n",
       "      <td>0.0</td>\n",
       "      <td>0.00</td>\n",
       "      <td>1.0</td>\n",
       "    </tr>\n",
       "    <tr>\n",
       "      <th>min_salary</th>\n",
       "      <td>742.0</td>\n",
       "      <td>74.719677</td>\n",
       "      <td>30.980593</td>\n",
       "      <td>15.0</td>\n",
       "      <td>52.00</td>\n",
       "      <td>69.5</td>\n",
       "      <td>91.00</td>\n",
       "      <td>202.0</td>\n",
       "    </tr>\n",
       "    <tr>\n",
       "      <th>max_salary</th>\n",
       "      <td>742.0</td>\n",
       "      <td>128.149596</td>\n",
       "      <td>45.220324</td>\n",
       "      <td>16.0</td>\n",
       "      <td>96.00</td>\n",
       "      <td>124.0</td>\n",
       "      <td>155.00</td>\n",
       "      <td>306.0</td>\n",
       "    </tr>\n",
       "    <tr>\n",
       "      <th>avg_salary</th>\n",
       "      <td>742.0</td>\n",
       "      <td>100.626011</td>\n",
       "      <td>38.855948</td>\n",
       "      <td>13.5</td>\n",
       "      <td>73.50</td>\n",
       "      <td>97.5</td>\n",
       "      <td>122.50</td>\n",
       "      <td>254.0</td>\n",
       "    </tr>\n",
       "    <tr>\n",
       "      <th>same_state</th>\n",
       "      <td>742.0</td>\n",
       "      <td>0.557951</td>\n",
       "      <td>0.496965</td>\n",
       "      <td>0.0</td>\n",
       "      <td>0.00</td>\n",
       "      <td>1.0</td>\n",
       "      <td>1.00</td>\n",
       "      <td>1.0</td>\n",
       "    </tr>\n",
       "    <tr>\n",
       "      <th>age</th>\n",
       "      <td>742.0</td>\n",
       "      <td>46.591644</td>\n",
       "      <td>53.778815</td>\n",
       "      <td>-1.0</td>\n",
       "      <td>11.00</td>\n",
       "      <td>24.0</td>\n",
       "      <td>59.00</td>\n",
       "      <td>276.0</td>\n",
       "    </tr>\n",
       "    <tr>\n",
       "      <th>python_yn</th>\n",
       "      <td>742.0</td>\n",
       "      <td>0.528302</td>\n",
       "      <td>0.499535</td>\n",
       "      <td>0.0</td>\n",
       "      <td>0.00</td>\n",
       "      <td>1.0</td>\n",
       "      <td>1.00</td>\n",
       "      <td>1.0</td>\n",
       "    </tr>\n",
       "    <tr>\n",
       "      <th>R_yn</th>\n",
       "      <td>742.0</td>\n",
       "      <td>0.002695</td>\n",
       "      <td>0.051882</td>\n",
       "      <td>0.0</td>\n",
       "      <td>0.00</td>\n",
       "      <td>0.0</td>\n",
       "      <td>0.00</td>\n",
       "      <td>1.0</td>\n",
       "    </tr>\n",
       "    <tr>\n",
       "      <th>spark</th>\n",
       "      <td>742.0</td>\n",
       "      <td>0.225067</td>\n",
       "      <td>0.417908</td>\n",
       "      <td>0.0</td>\n",
       "      <td>0.00</td>\n",
       "      <td>0.0</td>\n",
       "      <td>0.00</td>\n",
       "      <td>1.0</td>\n",
       "    </tr>\n",
       "    <tr>\n",
       "      <th>aws</th>\n",
       "      <td>742.0</td>\n",
       "      <td>0.237197</td>\n",
       "      <td>0.425651</td>\n",
       "      <td>0.0</td>\n",
       "      <td>0.00</td>\n",
       "      <td>0.0</td>\n",
       "      <td>0.00</td>\n",
       "      <td>1.0</td>\n",
       "    </tr>\n",
       "    <tr>\n",
       "      <th>excel</th>\n",
       "      <td>742.0</td>\n",
       "      <td>0.522911</td>\n",
       "      <td>0.499812</td>\n",
       "      <td>0.0</td>\n",
       "      <td>0.00</td>\n",
       "      <td>1.0</td>\n",
       "      <td>1.00</td>\n",
       "      <td>1.0</td>\n",
       "    </tr>\n",
       "    <tr>\n",
       "      <th>desc_len</th>\n",
       "      <td>742.0</td>\n",
       "      <td>3869.545822</td>\n",
       "      <td>1521.495868</td>\n",
       "      <td>407.0</td>\n",
       "      <td>2801.00</td>\n",
       "      <td>3731.0</td>\n",
       "      <td>4740.00</td>\n",
       "      <td>10051.0</td>\n",
       "    </tr>\n",
       "    <tr>\n",
       "      <th>num_comp</th>\n",
       "      <td>742.0</td>\n",
       "      <td>1.053908</td>\n",
       "      <td>1.384239</td>\n",
       "      <td>0.0</td>\n",
       "      <td>0.00</td>\n",
       "      <td>0.0</td>\n",
       "      <td>3.00</td>\n",
       "      <td>4.0</td>\n",
       "    </tr>\n",
       "  </tbody>\n",
       "</table>\n",
       "</div>"
      ],
      "text/plain": [
       "                   count         mean          std    min      25%     50%  \\\n",
       "Unnamed: 0         742.0   370.500000   214.341239    0.0   185.25   370.5   \n",
       "Rating             742.0     3.618868     0.801210   -1.0     3.30     3.7   \n",
       "Founded            742.0  1837.154987   497.183763   -1.0  1939.00  1988.0   \n",
       "hourly             742.0     0.032345     0.177034    0.0     0.00     0.0   \n",
       "employer_provided  742.0     0.022911     0.149721    0.0     0.00     0.0   \n",
       "min_salary         742.0    74.719677    30.980593   15.0    52.00    69.5   \n",
       "max_salary         742.0   128.149596    45.220324   16.0    96.00   124.0   \n",
       "avg_salary         742.0   100.626011    38.855948   13.5    73.50    97.5   \n",
       "same_state         742.0     0.557951     0.496965    0.0     0.00     1.0   \n",
       "age                742.0    46.591644    53.778815   -1.0    11.00    24.0   \n",
       "python_yn          742.0     0.528302     0.499535    0.0     0.00     1.0   \n",
       "R_yn               742.0     0.002695     0.051882    0.0     0.00     0.0   \n",
       "spark              742.0     0.225067     0.417908    0.0     0.00     0.0   \n",
       "aws                742.0     0.237197     0.425651    0.0     0.00     0.0   \n",
       "excel              742.0     0.522911     0.499812    0.0     0.00     1.0   \n",
       "desc_len           742.0  3869.545822  1521.495868  407.0  2801.00  3731.0   \n",
       "num_comp           742.0     1.053908     1.384239    0.0     0.00     0.0   \n",
       "\n",
       "                       75%      max  \n",
       "Unnamed: 0          555.75    741.0  \n",
       "Rating                4.00      5.0  \n",
       "Founded            2007.00   2019.0  \n",
       "hourly                0.00      1.0  \n",
       "employer_provided     0.00      1.0  \n",
       "min_salary           91.00    202.0  \n",
       "max_salary          155.00    306.0  \n",
       "avg_salary          122.50    254.0  \n",
       "same_state            1.00      1.0  \n",
       "age                  59.00    276.0  \n",
       "python_yn             1.00      1.0  \n",
       "R_yn                  0.00      1.0  \n",
       "spark                 0.00      1.0  \n",
       "aws                   0.00      1.0  \n",
       "excel                 1.00      1.0  \n",
       "desc_len           4740.00  10051.0  \n",
       "num_comp              3.00      4.0  "
      ]
     },
     "execution_count": 5,
     "metadata": {},
     "output_type": "execute_result"
    }
   ],
   "source": [
    "df.describe().transpose()"
   ]
  },
  {
   "cell_type": "code",
   "execution_count": 6,
   "metadata": {},
   "outputs": [
    {
     "data": {
      "text/plain": [
       "Unnamed: 0          -0.041765\n",
       "Rating               0.013492\n",
       "Founded             -0.015149\n",
       "hourly              -0.356082\n",
       "employer_provided    0.076287\n",
       "min_salary           0.967765\n",
       "max_salary           0.986862\n",
       "avg_salary           1.000000\n",
       "same_state          -0.034641\n",
       "age                  0.019655\n",
       "python_yn            0.327796\n",
       "R_yn                -0.040000\n",
       "spark                0.176559\n",
       "aws                  0.171379\n",
       "excel               -0.057252\n",
       "desc_len             0.078808\n",
       "num_comp             0.093813\n",
       "Name: avg_salary, dtype: float64"
      ]
     },
     "execution_count": 6,
     "metadata": {},
     "output_type": "execute_result"
    }
   ],
   "source": [
    "df.corr()['avg_salary']"
   ]
  },
  {
   "cell_type": "code",
   "execution_count": 7,
   "metadata": {},
   "outputs": [
    {
     "data": {
      "text/html": [
       "<div>\n",
       "<style scoped>\n",
       "    .dataframe tbody tr th:only-of-type {\n",
       "        vertical-align: middle;\n",
       "    }\n",
       "\n",
       "    .dataframe tbody tr th {\n",
       "        vertical-align: top;\n",
       "    }\n",
       "\n",
       "    .dataframe thead th {\n",
       "        text-align: right;\n",
       "    }\n",
       "</style>\n",
       "<table border=\"1\" class=\"dataframe\">\n",
       "  <thead>\n",
       "    <tr style=\"text-align: right;\">\n",
       "      <th></th>\n",
       "      <th>Unnamed: 0</th>\n",
       "      <th>Job Title</th>\n",
       "      <th>Salary Estimate</th>\n",
       "      <th>Job Description</th>\n",
       "      <th>Rating</th>\n",
       "      <th>Company Name</th>\n",
       "      <th>Location</th>\n",
       "      <th>Headquarters</th>\n",
       "      <th>Size</th>\n",
       "      <th>Founded</th>\n",
       "      <th>...</th>\n",
       "      <th>age</th>\n",
       "      <th>python_yn</th>\n",
       "      <th>R_yn</th>\n",
       "      <th>spark</th>\n",
       "      <th>aws</th>\n",
       "      <th>excel</th>\n",
       "      <th>job_simp</th>\n",
       "      <th>seniority</th>\n",
       "      <th>desc_len</th>\n",
       "      <th>num_comp</th>\n",
       "    </tr>\n",
       "  </thead>\n",
       "  <tbody>\n",
       "    <tr>\n",
       "      <th>0</th>\n",
       "      <td>0</td>\n",
       "      <td>Data Scientist</td>\n",
       "      <td>$53K-$91K (Glassdoor est.)</td>\n",
       "      <td>Data Scientist\\nLocation: Albuquerque, NM\\nEdu...</td>\n",
       "      <td>3.8</td>\n",
       "      <td>Tecolote Research\\n3.8</td>\n",
       "      <td>Albuquerque, NM</td>\n",
       "      <td>Goleta, CA</td>\n",
       "      <td>501 to 1000 employees</td>\n",
       "      <td>1973</td>\n",
       "      <td>...</td>\n",
       "      <td>47</td>\n",
       "      <td>1</td>\n",
       "      <td>0</td>\n",
       "      <td>0</td>\n",
       "      <td>0</td>\n",
       "      <td>1</td>\n",
       "      <td>data scientist</td>\n",
       "      <td>na</td>\n",
       "      <td>2536</td>\n",
       "      <td>0</td>\n",
       "    </tr>\n",
       "    <tr>\n",
       "      <th>1</th>\n",
       "      <td>1</td>\n",
       "      <td>Healthcare Data Scientist</td>\n",
       "      <td>$63K-$112K (Glassdoor est.)</td>\n",
       "      <td>What You Will Do:\\n\\nI. General Summary\\n\\nThe...</td>\n",
       "      <td>3.4</td>\n",
       "      <td>University of Maryland Medical System\\n3.4</td>\n",
       "      <td>Linthicum, MD</td>\n",
       "      <td>Baltimore, MD</td>\n",
       "      <td>10000+ employees</td>\n",
       "      <td>1984</td>\n",
       "      <td>...</td>\n",
       "      <td>36</td>\n",
       "      <td>1</td>\n",
       "      <td>0</td>\n",
       "      <td>0</td>\n",
       "      <td>0</td>\n",
       "      <td>0</td>\n",
       "      <td>data scientist</td>\n",
       "      <td>na</td>\n",
       "      <td>4783</td>\n",
       "      <td>0</td>\n",
       "    </tr>\n",
       "    <tr>\n",
       "      <th>2</th>\n",
       "      <td>2</td>\n",
       "      <td>Data Scientist</td>\n",
       "      <td>$80K-$90K (Glassdoor est.)</td>\n",
       "      <td>KnowBe4, Inc. is a high growth information sec...</td>\n",
       "      <td>4.8</td>\n",
       "      <td>KnowBe4\\n4.8</td>\n",
       "      <td>Clearwater, FL</td>\n",
       "      <td>Clearwater, FL</td>\n",
       "      <td>501 to 1000 employees</td>\n",
       "      <td>2010</td>\n",
       "      <td>...</td>\n",
       "      <td>10</td>\n",
       "      <td>1</td>\n",
       "      <td>0</td>\n",
       "      <td>1</td>\n",
       "      <td>0</td>\n",
       "      <td>1</td>\n",
       "      <td>data scientist</td>\n",
       "      <td>na</td>\n",
       "      <td>3461</td>\n",
       "      <td>0</td>\n",
       "    </tr>\n",
       "    <tr>\n",
       "      <th>3</th>\n",
       "      <td>3</td>\n",
       "      <td>Data Scientist</td>\n",
       "      <td>$56K-$97K (Glassdoor est.)</td>\n",
       "      <td>*Organization and Job ID**\\nJob ID: 310709\\n\\n...</td>\n",
       "      <td>3.8</td>\n",
       "      <td>PNNL\\n3.8</td>\n",
       "      <td>Richland, WA</td>\n",
       "      <td>Richland, WA</td>\n",
       "      <td>1001 to 5000 employees</td>\n",
       "      <td>1965</td>\n",
       "      <td>...</td>\n",
       "      <td>55</td>\n",
       "      <td>1</td>\n",
       "      <td>0</td>\n",
       "      <td>0</td>\n",
       "      <td>0</td>\n",
       "      <td>0</td>\n",
       "      <td>data scientist</td>\n",
       "      <td>na</td>\n",
       "      <td>3883</td>\n",
       "      <td>3</td>\n",
       "    </tr>\n",
       "    <tr>\n",
       "      <th>4</th>\n",
       "      <td>4</td>\n",
       "      <td>Data Scientist</td>\n",
       "      <td>$86K-$143K (Glassdoor est.)</td>\n",
       "      <td>Data Scientist\\nAffinity Solutions / Marketing...</td>\n",
       "      <td>2.9</td>\n",
       "      <td>Affinity Solutions\\n2.9</td>\n",
       "      <td>New York, NY</td>\n",
       "      <td>New York, NY</td>\n",
       "      <td>51 to 200 employees</td>\n",
       "      <td>1998</td>\n",
       "      <td>...</td>\n",
       "      <td>22</td>\n",
       "      <td>1</td>\n",
       "      <td>0</td>\n",
       "      <td>0</td>\n",
       "      <td>0</td>\n",
       "      <td>1</td>\n",
       "      <td>data scientist</td>\n",
       "      <td>na</td>\n",
       "      <td>2728</td>\n",
       "      <td>3</td>\n",
       "    </tr>\n",
       "  </tbody>\n",
       "</table>\n",
       "<p>5 rows × 33 columns</p>\n",
       "</div>"
      ],
      "text/plain": [
       "   Unnamed: 0                  Job Title              Salary Estimate  \\\n",
       "0           0             Data Scientist   $53K-$91K (Glassdoor est.)   \n",
       "1           1  Healthcare Data Scientist  $63K-$112K (Glassdoor est.)   \n",
       "2           2             Data Scientist   $80K-$90K (Glassdoor est.)   \n",
       "3           3             Data Scientist   $56K-$97K (Glassdoor est.)   \n",
       "4           4             Data Scientist  $86K-$143K (Glassdoor est.)   \n",
       "\n",
       "                                     Job Description  Rating  \\\n",
       "0  Data Scientist\\nLocation: Albuquerque, NM\\nEdu...     3.8   \n",
       "1  What You Will Do:\\n\\nI. General Summary\\n\\nThe...     3.4   \n",
       "2  KnowBe4, Inc. is a high growth information sec...     4.8   \n",
       "3  *Organization and Job ID**\\nJob ID: 310709\\n\\n...     3.8   \n",
       "4  Data Scientist\\nAffinity Solutions / Marketing...     2.9   \n",
       "\n",
       "                                 Company Name         Location  \\\n",
       "0                      Tecolote Research\\n3.8  Albuquerque, NM   \n",
       "1  University of Maryland Medical System\\n3.4    Linthicum, MD   \n",
       "2                                KnowBe4\\n4.8   Clearwater, FL   \n",
       "3                                   PNNL\\n3.8     Richland, WA   \n",
       "4                     Affinity Solutions\\n2.9     New York, NY   \n",
       "\n",
       "     Headquarters                    Size  Founded  ... age python_yn R_yn  \\\n",
       "0      Goleta, CA   501 to 1000 employees     1973  ...  47         1    0   \n",
       "1   Baltimore, MD        10000+ employees     1984  ...  36         1    0   \n",
       "2  Clearwater, FL   501 to 1000 employees     2010  ...  10         1    0   \n",
       "3    Richland, WA  1001 to 5000 employees     1965  ...  55         1    0   \n",
       "4    New York, NY     51 to 200 employees     1998  ...  22         1    0   \n",
       "\n",
       "  spark aws  excel        job_simp  seniority  desc_len  num_comp  \n",
       "0     0   0      1  data scientist         na      2536         0  \n",
       "1     0   0      0  data scientist         na      4783         0  \n",
       "2     1   0      1  data scientist         na      3461         0  \n",
       "3     0   0      0  data scientist         na      3883         3  \n",
       "4     0   0      1  data scientist         na      2728         3  \n",
       "\n",
       "[5 rows x 33 columns]"
      ]
     },
     "execution_count": 7,
     "metadata": {},
     "output_type": "execute_result"
    }
   ],
   "source": [
    "df.head()"
   ]
  },
  {
   "cell_type": "code",
   "execution_count": 8,
   "metadata": {
    "scrolled": true
   },
   "outputs": [
    {
     "data": {
      "text/html": [
       "<div>\n",
       "<style scoped>\n",
       "    .dataframe tbody tr th:only-of-type {\n",
       "        vertical-align: middle;\n",
       "    }\n",
       "\n",
       "    .dataframe tbody tr th {\n",
       "        vertical-align: top;\n",
       "    }\n",
       "\n",
       "    .dataframe thead th {\n",
       "        text-align: right;\n",
       "    }\n",
       "</style>\n",
       "<table border=\"1\" class=\"dataframe\">\n",
       "  <thead>\n",
       "    <tr style=\"text-align: right;\">\n",
       "      <th></th>\n",
       "      <th>Job Title</th>\n",
       "      <th>Salary Estimate</th>\n",
       "      <th>Job Description</th>\n",
       "      <th>Rating</th>\n",
       "      <th>Company Name</th>\n",
       "      <th>Location</th>\n",
       "      <th>Headquarters</th>\n",
       "      <th>Size</th>\n",
       "      <th>Founded</th>\n",
       "      <th>Type of ownership</th>\n",
       "      <th>...</th>\n",
       "      <th>age</th>\n",
       "      <th>python_yn</th>\n",
       "      <th>R_yn</th>\n",
       "      <th>spark</th>\n",
       "      <th>aws</th>\n",
       "      <th>excel</th>\n",
       "      <th>job_simp</th>\n",
       "      <th>seniority</th>\n",
       "      <th>desc_len</th>\n",
       "      <th>num_comp</th>\n",
       "    </tr>\n",
       "  </thead>\n",
       "  <tbody>\n",
       "    <tr>\n",
       "      <th>0</th>\n",
       "      <td>Data Scientist</td>\n",
       "      <td>$53K-$91K (Glassdoor est.)</td>\n",
       "      <td>Data Scientist\\nLocation: Albuquerque, NM\\nEdu...</td>\n",
       "      <td>3.8</td>\n",
       "      <td>Tecolote Research\\n3.8</td>\n",
       "      <td>Albuquerque, NM</td>\n",
       "      <td>Goleta, CA</td>\n",
       "      <td>501 to 1000 employees</td>\n",
       "      <td>1973</td>\n",
       "      <td>Company - Private</td>\n",
       "      <td>...</td>\n",
       "      <td>47</td>\n",
       "      <td>1</td>\n",
       "      <td>0</td>\n",
       "      <td>0</td>\n",
       "      <td>0</td>\n",
       "      <td>1</td>\n",
       "      <td>data scientist</td>\n",
       "      <td>na</td>\n",
       "      <td>2536</td>\n",
       "      <td>0</td>\n",
       "    </tr>\n",
       "    <tr>\n",
       "      <th>1</th>\n",
       "      <td>Healthcare Data Scientist</td>\n",
       "      <td>$63K-$112K (Glassdoor est.)</td>\n",
       "      <td>What You Will Do:\\n\\nI. General Summary\\n\\nThe...</td>\n",
       "      <td>3.4</td>\n",
       "      <td>University of Maryland Medical System\\n3.4</td>\n",
       "      <td>Linthicum, MD</td>\n",
       "      <td>Baltimore, MD</td>\n",
       "      <td>10000+ employees</td>\n",
       "      <td>1984</td>\n",
       "      <td>Other Organization</td>\n",
       "      <td>...</td>\n",
       "      <td>36</td>\n",
       "      <td>1</td>\n",
       "      <td>0</td>\n",
       "      <td>0</td>\n",
       "      <td>0</td>\n",
       "      <td>0</td>\n",
       "      <td>data scientist</td>\n",
       "      <td>na</td>\n",
       "      <td>4783</td>\n",
       "      <td>0</td>\n",
       "    </tr>\n",
       "    <tr>\n",
       "      <th>2</th>\n",
       "      <td>Data Scientist</td>\n",
       "      <td>$80K-$90K (Glassdoor est.)</td>\n",
       "      <td>KnowBe4, Inc. is a high growth information sec...</td>\n",
       "      <td>4.8</td>\n",
       "      <td>KnowBe4\\n4.8</td>\n",
       "      <td>Clearwater, FL</td>\n",
       "      <td>Clearwater, FL</td>\n",
       "      <td>501 to 1000 employees</td>\n",
       "      <td>2010</td>\n",
       "      <td>Company - Private</td>\n",
       "      <td>...</td>\n",
       "      <td>10</td>\n",
       "      <td>1</td>\n",
       "      <td>0</td>\n",
       "      <td>1</td>\n",
       "      <td>0</td>\n",
       "      <td>1</td>\n",
       "      <td>data scientist</td>\n",
       "      <td>na</td>\n",
       "      <td>3461</td>\n",
       "      <td>0</td>\n",
       "    </tr>\n",
       "    <tr>\n",
       "      <th>3</th>\n",
       "      <td>Data Scientist</td>\n",
       "      <td>$56K-$97K (Glassdoor est.)</td>\n",
       "      <td>*Organization and Job ID**\\nJob ID: 310709\\n\\n...</td>\n",
       "      <td>3.8</td>\n",
       "      <td>PNNL\\n3.8</td>\n",
       "      <td>Richland, WA</td>\n",
       "      <td>Richland, WA</td>\n",
       "      <td>1001 to 5000 employees</td>\n",
       "      <td>1965</td>\n",
       "      <td>Government</td>\n",
       "      <td>...</td>\n",
       "      <td>55</td>\n",
       "      <td>1</td>\n",
       "      <td>0</td>\n",
       "      <td>0</td>\n",
       "      <td>0</td>\n",
       "      <td>0</td>\n",
       "      <td>data scientist</td>\n",
       "      <td>na</td>\n",
       "      <td>3883</td>\n",
       "      <td>3</td>\n",
       "    </tr>\n",
       "    <tr>\n",
       "      <th>4</th>\n",
       "      <td>Data Scientist</td>\n",
       "      <td>$86K-$143K (Glassdoor est.)</td>\n",
       "      <td>Data Scientist\\nAffinity Solutions / Marketing...</td>\n",
       "      <td>2.9</td>\n",
       "      <td>Affinity Solutions\\n2.9</td>\n",
       "      <td>New York, NY</td>\n",
       "      <td>New York, NY</td>\n",
       "      <td>51 to 200 employees</td>\n",
       "      <td>1998</td>\n",
       "      <td>Company - Private</td>\n",
       "      <td>...</td>\n",
       "      <td>22</td>\n",
       "      <td>1</td>\n",
       "      <td>0</td>\n",
       "      <td>0</td>\n",
       "      <td>0</td>\n",
       "      <td>1</td>\n",
       "      <td>data scientist</td>\n",
       "      <td>na</td>\n",
       "      <td>2728</td>\n",
       "      <td>3</td>\n",
       "    </tr>\n",
       "  </tbody>\n",
       "</table>\n",
       "<p>5 rows × 32 columns</p>\n",
       "</div>"
      ],
      "text/plain": [
       "                   Job Title              Salary Estimate  \\\n",
       "0             Data Scientist   $53K-$91K (Glassdoor est.)   \n",
       "1  Healthcare Data Scientist  $63K-$112K (Glassdoor est.)   \n",
       "2             Data Scientist   $80K-$90K (Glassdoor est.)   \n",
       "3             Data Scientist   $56K-$97K (Glassdoor est.)   \n",
       "4             Data Scientist  $86K-$143K (Glassdoor est.)   \n",
       "\n",
       "                                     Job Description  Rating  \\\n",
       "0  Data Scientist\\nLocation: Albuquerque, NM\\nEdu...     3.8   \n",
       "1  What You Will Do:\\n\\nI. General Summary\\n\\nThe...     3.4   \n",
       "2  KnowBe4, Inc. is a high growth information sec...     4.8   \n",
       "3  *Organization and Job ID**\\nJob ID: 310709\\n\\n...     3.8   \n",
       "4  Data Scientist\\nAffinity Solutions / Marketing...     2.9   \n",
       "\n",
       "                                 Company Name         Location  \\\n",
       "0                      Tecolote Research\\n3.8  Albuquerque, NM   \n",
       "1  University of Maryland Medical System\\n3.4    Linthicum, MD   \n",
       "2                                KnowBe4\\n4.8   Clearwater, FL   \n",
       "3                                   PNNL\\n3.8     Richland, WA   \n",
       "4                     Affinity Solutions\\n2.9     New York, NY   \n",
       "\n",
       "     Headquarters                    Size  Founded   Type of ownership  ...  \\\n",
       "0      Goleta, CA   501 to 1000 employees     1973   Company - Private  ...   \n",
       "1   Baltimore, MD        10000+ employees     1984  Other Organization  ...   \n",
       "2  Clearwater, FL   501 to 1000 employees     2010   Company - Private  ...   \n",
       "3    Richland, WA  1001 to 5000 employees     1965          Government  ...   \n",
       "4    New York, NY     51 to 200 employees     1998   Company - Private  ...   \n",
       "\n",
       "  age python_yn R_yn spark  aws  excel        job_simp  seniority  desc_len  \\\n",
       "0  47         1    0     0    0      1  data scientist         na      2536   \n",
       "1  36         1    0     0    0      0  data scientist         na      4783   \n",
       "2  10         1    0     1    0      1  data scientist         na      3461   \n",
       "3  55         1    0     0    0      0  data scientist         na      3883   \n",
       "4  22         1    0     0    0      1  data scientist         na      2728   \n",
       "\n",
       "  num_comp  \n",
       "0        0  \n",
       "1        0  \n",
       "2        0  \n",
       "3        3  \n",
       "4        3  \n",
       "\n",
       "[5 rows x 32 columns]"
      ]
     },
     "execution_count": 8,
     "metadata": {},
     "output_type": "execute_result"
    }
   ],
   "source": [
    "# drop \"unnamed\"\n",
    "df.drop('Unnamed: 0', axis = 1, inplace = True)\n",
    "df.head()"
   ]
  },
  {
   "cell_type": "markdown",
   "metadata": {},
   "source": [
    "## Use Label Encoder to numerize Target Attribute (Job Title)"
   ]
  },
  {
   "cell_type": "code",
   "execution_count": 9,
   "metadata": {},
   "outputs": [
    {
     "name": "stdout",
     "output_type": "stream",
     "text": [
      "Data Scientist                                                      131\n",
      "Data Engineer                                                        53\n",
      "Senior Data Scientist                                                34\n",
      "Data Analyst                                                         15\n",
      "Senior Data Engineer                                                 14\n",
      "                                                                   ... \n",
      "Software Engineer Staff Scientist: Human Language Technologies        1\n",
      "RESEARCH SCIENTIST - BIOLOGICAL SAFETY                                1\n",
      "Software Engineer (Data Scientist/Software Engineer) - SISW - MG      1\n",
      "Associate Data Scientist/Computer Scientist                           1\n",
      "Scientist – Cancer Discovery, Molecular Assay                         1\n",
      "Name: Job Title, Length: 264, dtype: int64\n"
     ]
    }
   ],
   "source": [
    "print(df['Job Title'].value_counts())"
   ]
  },
  {
   "cell_type": "code",
   "execution_count": 10,
   "metadata": {},
   "outputs": [
    {
     "name": "stdout",
     "output_type": "stream",
     "text": [
      "data scientist    279\n",
      "na                184\n",
      "data engineer     119\n",
      "analyst           102\n",
      "manager            22\n",
      "mle                22\n",
      "director           14\n",
      "Name: job_simp, dtype: int64\n"
     ]
    }
   ],
   "source": [
    "print(df['job_simp'].value_counts())"
   ]
  },
  {
   "cell_type": "code",
   "execution_count": 11,
   "metadata": {},
   "outputs": [],
   "source": [
    "df['job_simp'] = df['job_simp'].replace(['na'],'unknown job')"
   ]
  },
  {
   "cell_type": "code",
   "execution_count": 12,
   "metadata": {},
   "outputs": [],
   "source": [
    "# rename 'job_simp' to 'job_title' as this will be our target variable\n",
    "df.rename(columns = {'job_simp' : 'job_title'}, inplace = True)"
   ]
  },
  {
   "cell_type": "code",
   "execution_count": 13,
   "metadata": {},
   "outputs": [],
   "source": [
    "# use label encoder to convert target values to numerical values\n",
    "from sklearn.preprocessing import LabelEncoder\n",
    "\n",
    "le = LabelEncoder()"
   ]
  },
  {
   "cell_type": "code",
   "execution_count": 14,
   "metadata": {},
   "outputs": [],
   "source": [
    "encoded_job_titles = le.fit_transform(df['job_title'])\n",
    "df['job_title'] = encoded_job_titles"
   ]
  },
  {
   "cell_type": "code",
   "execution_count": 87,
   "metadata": {},
   "outputs": [],
   "source": [
    "target_values = list(le.inverse_transform(pd.Series([0, 1, 2, 3, 4, 5, 6])))"
   ]
  },
  {
   "cell_type": "code",
   "execution_count": 89,
   "metadata": {},
   "outputs": [
    {
     "data": {
      "text/plain": [
       "{0: 'analyst',\n",
       " 1: 'data engineer',\n",
       " 2: 'data scientist',\n",
       " 3: 'director',\n",
       " 4: 'manager',\n",
       " 5: 'mle',\n",
       " 6: 'unknown job'}"
      ]
     },
     "execution_count": 89,
     "metadata": {},
     "output_type": "execute_result"
    }
   ],
   "source": [
    "convert_label = {}\n",
    "for i, value in enumerate(target_values):\n",
    "    convert_label[i] = value\n",
    "    \n",
    "convert_label"
   ]
  },
  {
   "cell_type": "code",
   "execution_count": null,
   "metadata": {},
   "outputs": [],
   "source": [
    "# convert encoded integers to dummy variables\n",
    "\n",
    "from keras.utils import np_utils\n",
    "y = np.utils.to_categorical(encoded_job_titles)"
   ]
  },
  {
   "cell_type": "code",
   "execution_count": 16,
   "metadata": {},
   "outputs": [],
   "source": [
    "# drop 'job title', 'job description' and 'salary estimate' as they have too many categories\n",
    "# we already have min, max and average salary so salary estimate is redundant\n",
    "df.drop(['Job Title', 'Job Description', 'Salary Estimate'], axis = 1, inplace = True)"
   ]
  },
  {
   "cell_type": "markdown",
   "metadata": {},
   "source": [
    "## Distribution of Numerical Data"
   ]
  },
  {
   "cell_type": "code",
   "execution_count": 17,
   "metadata": {},
   "outputs": [
    {
     "name": "stdout",
     "output_type": "stream",
     "text": [
      "<class 'pandas.core.frame.DataFrame'>\n",
      "RangeIndex: 742 entries, 0 to 741\n",
      "Data columns (total 29 columns):\n",
      " #   Column             Non-Null Count  Dtype  \n",
      "---  ------             --------------  -----  \n",
      " 0   Rating             742 non-null    float64\n",
      " 1   Company Name       742 non-null    object \n",
      " 2   Location           742 non-null    object \n",
      " 3   Headquarters       742 non-null    object \n",
      " 4   Size               742 non-null    object \n",
      " 5   Founded            742 non-null    int64  \n",
      " 6   Type of ownership  742 non-null    object \n",
      " 7   Industry           742 non-null    object \n",
      " 8   Sector             742 non-null    object \n",
      " 9   Revenue            742 non-null    object \n",
      " 10  Competitors        742 non-null    object \n",
      " 11  hourly             742 non-null    int64  \n",
      " 12  employer_provided  742 non-null    int64  \n",
      " 13  min_salary         742 non-null    int64  \n",
      " 14  max_salary         742 non-null    int64  \n",
      " 15  avg_salary         742 non-null    float64\n",
      " 16  company_txt        742 non-null    object \n",
      " 17  job_state          742 non-null    object \n",
      " 18  same_state         742 non-null    int64  \n",
      " 19  age                742 non-null    int64  \n",
      " 20  python_yn          742 non-null    int64  \n",
      " 21  R_yn               742 non-null    int64  \n",
      " 22  spark              742 non-null    int64  \n",
      " 23  aws                742 non-null    int64  \n",
      " 24  excel              742 non-null    int64  \n",
      " 25  job_title          742 non-null    int32  \n",
      " 26  seniority          742 non-null    object \n",
      " 27  desc_len           742 non-null    int64  \n",
      " 28  num_comp           742 non-null    int64  \n",
      "dtypes: float64(2), int32(1), int64(14), object(12)\n",
      "memory usage: 165.3+ KB\n"
     ]
    }
   ],
   "source": [
    "df.info()"
   ]
  },
  {
   "cell_type": "code",
   "execution_count": 18,
   "metadata": {},
   "outputs": [
    {
     "data": {
      "text/plain": [
       "Index(['Rating', 'Company Name', 'Location', 'Headquarters', 'Size', 'Founded',\n",
       "       'Type of ownership', 'Industry', 'Sector', 'Revenue', 'Competitors',\n",
       "       'hourly', 'employer_provided', 'min_salary', 'max_salary', 'avg_salary',\n",
       "       'company_txt', 'job_state', 'same_state', 'age', 'python_yn', 'R_yn',\n",
       "       'spark', 'aws', 'excel', 'job_title', 'seniority', 'desc_len',\n",
       "       'num_comp'],\n",
       "      dtype='object')"
      ]
     },
     "execution_count": 18,
     "metadata": {},
     "output_type": "execute_result"
    }
   ],
   "source": [
    "df.columns"
   ]
  },
  {
   "cell_type": "code",
   "execution_count": 19,
   "metadata": {},
   "outputs": [
    {
     "data": {
      "text/html": [
       "<div>\n",
       "<style scoped>\n",
       "    .dataframe tbody tr th:only-of-type {\n",
       "        vertical-align: middle;\n",
       "    }\n",
       "\n",
       "    .dataframe tbody tr th {\n",
       "        vertical-align: top;\n",
       "    }\n",
       "\n",
       "    .dataframe thead th {\n",
       "        text-align: right;\n",
       "    }\n",
       "</style>\n",
       "<table border=\"1\" class=\"dataframe\">\n",
       "  <thead>\n",
       "    <tr style=\"text-align: right;\">\n",
       "      <th></th>\n",
       "      <th>Rating</th>\n",
       "      <th>employer_provided</th>\n",
       "      <th>min_salary</th>\n",
       "      <th>max_salary</th>\n",
       "      <th>avg_salary</th>\n",
       "      <th>age</th>\n",
       "      <th>desc_len</th>\n",
       "      <th>num_comp</th>\n",
       "    </tr>\n",
       "  </thead>\n",
       "  <tbody>\n",
       "    <tr>\n",
       "      <th>Rating</th>\n",
       "      <td>1.000000</td>\n",
       "      <td>-0.468234</td>\n",
       "      <td>-0.009573</td>\n",
       "      <td>0.027344</td>\n",
       "      <td>0.013492</td>\n",
       "      <td>0.021655</td>\n",
       "      <td>-0.012281</td>\n",
       "      <td>0.027190</td>\n",
       "    </tr>\n",
       "    <tr>\n",
       "      <th>employer_provided</th>\n",
       "      <td>-0.468234</td>\n",
       "      <td>1.000000</td>\n",
       "      <td>0.187591</td>\n",
       "      <td>0.028794</td>\n",
       "      <td>0.076287</td>\n",
       "      <td>-0.109288</td>\n",
       "      <td>-0.102218</td>\n",
       "      <td>-0.116665</td>\n",
       "    </tr>\n",
       "    <tr>\n",
       "      <th>min_salary</th>\n",
       "      <td>-0.009573</td>\n",
       "      <td>0.187591</td>\n",
       "      <td>1.000000</td>\n",
       "      <td>0.940136</td>\n",
       "      <td>0.967765</td>\n",
       "      <td>0.003110</td>\n",
       "      <td>0.060420</td>\n",
       "      <td>0.076004</td>\n",
       "    </tr>\n",
       "    <tr>\n",
       "      <th>max_salary</th>\n",
       "      <td>0.027344</td>\n",
       "      <td>0.028794</td>\n",
       "      <td>0.940136</td>\n",
       "      <td>1.000000</td>\n",
       "      <td>0.986862</td>\n",
       "      <td>0.034395</td>\n",
       "      <td>0.075634</td>\n",
       "      <td>0.086195</td>\n",
       "    </tr>\n",
       "    <tr>\n",
       "      <th>avg_salary</th>\n",
       "      <td>0.013492</td>\n",
       "      <td>0.076287</td>\n",
       "      <td>0.967765</td>\n",
       "      <td>0.986862</td>\n",
       "      <td>1.000000</td>\n",
       "      <td>0.019655</td>\n",
       "      <td>0.078808</td>\n",
       "      <td>0.093813</td>\n",
       "    </tr>\n",
       "    <tr>\n",
       "      <th>age</th>\n",
       "      <td>0.021655</td>\n",
       "      <td>-0.109288</td>\n",
       "      <td>0.003110</td>\n",
       "      <td>0.034395</td>\n",
       "      <td>0.019655</td>\n",
       "      <td>1.000000</td>\n",
       "      <td>0.163911</td>\n",
       "      <td>0.126687</td>\n",
       "    </tr>\n",
       "    <tr>\n",
       "      <th>desc_len</th>\n",
       "      <td>-0.012281</td>\n",
       "      <td>-0.102218</td>\n",
       "      <td>0.060420</td>\n",
       "      <td>0.075634</td>\n",
       "      <td>0.078808</td>\n",
       "      <td>0.163911</td>\n",
       "      <td>1.000000</td>\n",
       "      <td>0.104620</td>\n",
       "    </tr>\n",
       "    <tr>\n",
       "      <th>num_comp</th>\n",
       "      <td>0.027190</td>\n",
       "      <td>-0.116665</td>\n",
       "      <td>0.076004</td>\n",
       "      <td>0.086195</td>\n",
       "      <td>0.093813</td>\n",
       "      <td>0.126687</td>\n",
       "      <td>0.104620</td>\n",
       "      <td>1.000000</td>\n",
       "    </tr>\n",
       "  </tbody>\n",
       "</table>\n",
       "</div>"
      ],
      "text/plain": [
       "                     Rating  employer_provided  min_salary  max_salary  \\\n",
       "Rating             1.000000          -0.468234   -0.009573    0.027344   \n",
       "employer_provided -0.468234           1.000000    0.187591    0.028794   \n",
       "min_salary        -0.009573           0.187591    1.000000    0.940136   \n",
       "max_salary         0.027344           0.028794    0.940136    1.000000   \n",
       "avg_salary         0.013492           0.076287    0.967765    0.986862   \n",
       "age                0.021655          -0.109288    0.003110    0.034395   \n",
       "desc_len          -0.012281          -0.102218    0.060420    0.075634   \n",
       "num_comp           0.027190          -0.116665    0.076004    0.086195   \n",
       "\n",
       "                   avg_salary       age  desc_len  num_comp  \n",
       "Rating               0.013492  0.021655 -0.012281  0.027190  \n",
       "employer_provided    0.076287 -0.109288 -0.102218 -0.116665  \n",
       "min_salary           0.967765  0.003110  0.060420  0.076004  \n",
       "max_salary           0.986862  0.034395  0.075634  0.086195  \n",
       "avg_salary           1.000000  0.019655  0.078808  0.093813  \n",
       "age                  0.019655  1.000000  0.163911  0.126687  \n",
       "desc_len             0.078808  0.163911  1.000000  0.104620  \n",
       "num_comp             0.093813  0.126687  0.104620  1.000000  "
      ]
     },
     "execution_count": 19,
     "metadata": {},
     "output_type": "execute_result"
    }
   ],
   "source": [
    "# check correlation between numerical attributes\n",
    "df[['Rating', 'employer_provided', 'min_salary',\n",
    "       'max_salary', 'avg_salary', 'age', 'desc_len', 'num_comp']].corr()"
   ]
  },
  {
   "cell_type": "code",
   "execution_count": 20,
   "metadata": {},
   "outputs": [
    {
     "name": "stdout",
     "output_type": "stream",
     "text": [
      "-1      50\n",
      " 10     32\n",
      " 12     31\n",
      " 24     27\n",
      " 14     24\n",
      "        ..\n",
      " 121     1\n",
      " 118     1\n",
      " 106     1\n",
      " 103     1\n",
      " 276     1\n",
      "Name: age, Length: 102, dtype: int64\n"
     ]
    }
   ],
   "source": [
    "print(df['age'].value_counts())"
   ]
  },
  {
   "cell_type": "code",
   "execution_count": 21,
   "metadata": {},
   "outputs": [
    {
     "data": {
      "image/png": "[encoded data removed]",
      "text/plain": [
       "<Figure size 432x288 with 1 Axes>"
      ]
     },
     "metadata": {
      "needs_background": "light"
     },
     "output_type": "display_data"
    }
   ],
   "source": [
    "ax = sns.histplot(df['age'], kde = True)"
   ]
  },
  {
   "cell_type": "code",
   "execution_count": 22,
   "metadata": {},
   "outputs": [],
   "source": [
    "# drop age, we will use 'Founded' to calculate company age \n",
    "df.drop('age', axis = 1, inplace = True)"
   ]
  },
  {
   "cell_type": "code",
   "execution_count": 23,
   "metadata": {},
   "outputs": [
    {
     "data": {
      "image/png": "[encoded data removed]",
      "text/plain": [
       "<Figure size 432x288 with 1 Axes>"
      ]
     },
     "metadata": {
      "needs_background": "light"
     },
     "output_type": "display_data"
    }
   ],
   "source": [
    "ax = sns.histplot(df['avg_salary'], kde = True)"
   ]
  },
  {
   "cell_type": "code",
   "execution_count": 24,
   "metadata": {},
   "outputs": [
    {
     "data": {
      "text/plain": [
       "<AxesSubplot:xlabel='hourly', ylabel='count'>"
      ]
     },
     "execution_count": 24,
     "metadata": {},
     "output_type": "execute_result"
    },
    {
     "data": {
      "image/png": "[encoded data removed]",
      "text/plain": [
       "<Figure size 432x288 with 1 Axes>"
      ]
     },
     "metadata": {
      "needs_background": "light"
     },
     "output_type": "display_data"
    }
   ],
   "source": [
    "sns.countplot(x = df['hourly'])"
   ]
  },
  {
   "cell_type": "markdown",
   "metadata": {},
   "source": [
    "## Dummy Variables for Categorical Data"
   ]
  },
  {
   "cell_type": "code",
   "execution_count": 25,
   "metadata": {},
   "outputs": [
    {
     "name": "stdout",
     "output_type": "stream",
     "text": [
      "Takeda Pharmaceuticals\\n3.7                   14\n",
      "MassMutual\\n3.6                               14\n",
      "Reynolds American\\n3.1                        14\n",
      "Software Engineering Institute\\n2.6           11\n",
      "PNNL\\n3.8                                     10\n",
      "                                              ..\n",
      "University of Maryland Medical System\\n3.4     1\n",
      "BWX Technologies\\n3.5                          1\n",
      "e-IT Professionals Corp.\\n3.5                  1\n",
      "Quartet Health\\n3.9                            1\n",
      "Serigor Inc.\\n3.9                              1\n",
      "Name: Company Name, Length: 343, dtype: int64\n"
     ]
    }
   ],
   "source": [
    "# check the number of companies\n",
    "print(df['Company Name'].value_counts())"
   ]
  },
  {
   "cell_type": "code",
   "execution_count": 26,
   "metadata": {},
   "outputs": [
    {
     "name": "stdout",
     "output_type": "stream",
     "text": [
      "New York, NY         55\n",
      "San Francisco, CA    49\n",
      "Cambridge, MA        47\n",
      "Chicago, IL          32\n",
      "Boston, MA           23\n",
      "                     ..\n",
      "Dayton, OH            1\n",
      "Lyndhurst, NJ         1\n",
      "Ann Arbor, MI         1\n",
      "Brisbane, CA          1\n",
      "Portsmouth, VA        1\n",
      "Name: Location, Length: 200, dtype: int64\n"
     ]
    }
   ],
   "source": [
    "# also check location, type of ownership and headquarters\n",
    "print(df['Location'].value_counts())"
   ]
  },
  {
   "cell_type": "code",
   "execution_count": 27,
   "metadata": {},
   "outputs": [
    {
     "name": "stdout",
     "output_type": "stream",
     "text": [
      "New York, NY         52\n",
      "San Francisco, CA    42\n",
      "Chicago, IL          30\n",
      "Cambridge, MA        20\n",
      "Winston-Salem, NC    14\n",
      "                     ..\n",
      "Lowell, MA            1\n",
      "Pompano Beach, FL     1\n",
      "Fort Mill, SC         1\n",
      "Santa Barbara, CA     1\n",
      "Bethesda, MD          1\n",
      "Name: Headquarters, Length: 198, dtype: int64\n"
     ]
    }
   ],
   "source": [
    "print(df['Headquarters'].value_counts())"
   ]
  },
  {
   "cell_type": "code",
   "execution_count": 28,
   "metadata": {},
   "outputs": [],
   "source": [
    "# we will drop 'Company Name', 'Location name' and 'headquarters' and only use 'job_state' for feature engineering\n",
    "df.drop(['Company Name','Location', 'Headquarters'], axis = 1, inplace = True)"
   ]
  },
  {
   "cell_type": "code",
   "execution_count": 29,
   "metadata": {},
   "outputs": [],
   "source": [
    "val = df['Type of ownership'].value_counts()"
   ]
  },
  {
   "cell_type": "code",
   "execution_count": 30,
   "metadata": {},
   "outputs": [
    {
     "data": {
      "text/plain": [
       "[Text(0, 0, 'Company - Private'),\n",
       " Text(1, 0, 'Company - Public'),\n",
       " Text(2, 0, 'Nonprofit Organization'),\n",
       " Text(3, 0, 'Subsidiary or Business Segment'),\n",
       " Text(4, 0, 'Government'),\n",
       " Text(5, 0, 'Hospital'),\n",
       " Text(6, 0, 'College / University'),\n",
       " Text(7, 0, 'Other Organization'),\n",
       " Text(8, 0, 'School / School District'),\n",
       " Text(9, 0, 'Unknown'),\n",
       " Text(10, 0, '-1')]"
      ]
     },
     "execution_count": 30,
     "metadata": {},
     "output_type": "execute_result"
    },
    {
     "data": {
      "image/png": "[encoded data removed]",
      "text/plain": [
       "<Figure size 576x432 with 1 Axes>"
      ]
     },
     "metadata": {
      "needs_background": "light"
     },
     "output_type": "display_data"
    }
   ],
   "source": [
    "plt.figure(figsize = (8, 6))\n",
    "ax = sns.barplot(x = val.index, y = val, palette = \"mako\")\n",
    "ax.set_xticklabels(ax.get_xticklabels(), rotation=90)"
   ]
  },
  {
   "cell_type": "code",
   "execution_count": 31,
   "metadata": {},
   "outputs": [],
   "source": [
    "# drop row with -1 for type of ownership as \"unknown\"\n",
    "df.drop(index = df[(df['Type of ownership'] == '-1') |(df['Type of ownership'] == 'Unknown')].index, inplace = True)\n",
    "\n",
    "# reset index after dropping rows\n",
    "df.reset_index(drop = True, inplace = True)"
   ]
  },
  {
   "cell_type": "code",
   "execution_count": 32,
   "metadata": {},
   "outputs": [
    {
     "name": "stdout",
     "output_type": "stream",
     "text": [
      "Company - Private                 410\n",
      "Company - Public                  193\n",
      "Nonprofit Organization             55\n",
      "Subsidiary or Business Segment     34\n",
      "Government                         15\n",
      "Hospital                           15\n",
      "College / University               13\n",
      "Other Organization                  3\n",
      "School / School District            2\n",
      "Name: Type of ownership, dtype: int64\n"
     ]
    }
   ],
   "source": [
    "print(df['Type of ownership'].value_counts())"
   ]
  },
  {
   "cell_type": "code",
   "execution_count": 33,
   "metadata": {},
   "outputs": [
    {
     "data": {
      "text/html": [
       "<div>\n",
       "<style scoped>\n",
       "    .dataframe tbody tr th:only-of-type {\n",
       "        vertical-align: middle;\n",
       "    }\n",
       "\n",
       "    .dataframe tbody tr th {\n",
       "        vertical-align: top;\n",
       "    }\n",
       "\n",
       "    .dataframe thead th {\n",
       "        text-align: right;\n",
       "    }\n",
       "</style>\n",
       "<table border=\"1\" class=\"dataframe\">\n",
       "  <thead>\n",
       "    <tr style=\"text-align: right;\">\n",
       "      <th></th>\n",
       "      <th>College / University</th>\n",
       "      <th>Company - Private</th>\n",
       "      <th>Company - Public</th>\n",
       "      <th>Government</th>\n",
       "      <th>Hospital</th>\n",
       "      <th>Nonprofit Organization</th>\n",
       "      <th>Other Organization</th>\n",
       "      <th>School / School District</th>\n",
       "      <th>Subsidiary or Business Segment</th>\n",
       "    </tr>\n",
       "  </thead>\n",
       "  <tbody>\n",
       "    <tr>\n",
       "      <th>0</th>\n",
       "      <td>0</td>\n",
       "      <td>1</td>\n",
       "      <td>0</td>\n",
       "      <td>0</td>\n",
       "      <td>0</td>\n",
       "      <td>0</td>\n",
       "      <td>0</td>\n",
       "      <td>0</td>\n",
       "      <td>0</td>\n",
       "    </tr>\n",
       "    <tr>\n",
       "      <th>1</th>\n",
       "      <td>0</td>\n",
       "      <td>0</td>\n",
       "      <td>0</td>\n",
       "      <td>0</td>\n",
       "      <td>0</td>\n",
       "      <td>0</td>\n",
       "      <td>1</td>\n",
       "      <td>0</td>\n",
       "      <td>0</td>\n",
       "    </tr>\n",
       "    <tr>\n",
       "      <th>2</th>\n",
       "      <td>0</td>\n",
       "      <td>1</td>\n",
       "      <td>0</td>\n",
       "      <td>0</td>\n",
       "      <td>0</td>\n",
       "      <td>0</td>\n",
       "      <td>0</td>\n",
       "      <td>0</td>\n",
       "      <td>0</td>\n",
       "    </tr>\n",
       "    <tr>\n",
       "      <th>3</th>\n",
       "      <td>0</td>\n",
       "      <td>0</td>\n",
       "      <td>0</td>\n",
       "      <td>1</td>\n",
       "      <td>0</td>\n",
       "      <td>0</td>\n",
       "      <td>0</td>\n",
       "      <td>0</td>\n",
       "      <td>0</td>\n",
       "    </tr>\n",
       "    <tr>\n",
       "      <th>4</th>\n",
       "      <td>0</td>\n",
       "      <td>1</td>\n",
       "      <td>0</td>\n",
       "      <td>0</td>\n",
       "      <td>0</td>\n",
       "      <td>0</td>\n",
       "      <td>0</td>\n",
       "      <td>0</td>\n",
       "      <td>0</td>\n",
       "    </tr>\n",
       "  </tbody>\n",
       "</table>\n",
       "</div>"
      ],
      "text/plain": [
       "   College / University  Company - Private  Company - Public  Government  \\\n",
       "0                     0                  1                 0           0   \n",
       "1                     0                  0                 0           0   \n",
       "2                     0                  1                 0           0   \n",
       "3                     0                  0                 0           1   \n",
       "4                     0                  1                 0           0   \n",
       "\n",
       "   Hospital  Nonprofit Organization  Other Organization  \\\n",
       "0         0                       0                   0   \n",
       "1         0                       0                   1   \n",
       "2         0                       0                   0   \n",
       "3         0                       0                   0   \n",
       "4         0                       0                   0   \n",
       "\n",
       "   School / School District  Subsidiary or Business Segment  \n",
       "0                         0                               0  \n",
       "1                         0                               0  \n",
       "2                         0                               0  \n",
       "3                         0                               0  \n",
       "4                         0                               0  "
      ]
     },
     "execution_count": 33,
     "metadata": {},
     "output_type": "execute_result"
    }
   ],
   "source": [
    "# convert categories of 'type of Ownership' into single binary categories using dummy variables\n",
    "too_dummydf = pd.get_dummies(df['Type of ownership'])\n",
    "too_dummydf.head()"
   ]
  },
  {
   "cell_type": "code",
   "execution_count": 34,
   "metadata": {},
   "outputs": [
    {
     "name": "stdout",
     "output_type": "stream",
     "text": [
      "<class 'pandas.core.frame.DataFrame'>\n",
      "RangeIndex: 740 entries, 0 to 739\n",
      "Data columns (total 34 columns):\n",
      " #   Column                          Non-Null Count  Dtype  \n",
      "---  ------                          --------------  -----  \n",
      " 0   Rating                          740 non-null    float64\n",
      " 1   Size                            740 non-null    object \n",
      " 2   Founded                         740 non-null    int64  \n",
      " 3   Type of ownership               740 non-null    object \n",
      " 4   Industry                        740 non-null    object \n",
      " 5   Sector                          740 non-null    object \n",
      " 6   Revenue                         740 non-null    object \n",
      " 7   Competitors                     740 non-null    object \n",
      " 8   hourly                          740 non-null    int64  \n",
      " 9   employer_provided               740 non-null    int64  \n",
      " 10  min_salary                      740 non-null    int64  \n",
      " 11  max_salary                      740 non-null    int64  \n",
      " 12  avg_salary                      740 non-null    float64\n",
      " 13  company_txt                     740 non-null    object \n",
      " 14  job_state                       740 non-null    object \n",
      " 15  same_state                      740 non-null    int64  \n",
      " 16  python_yn                       740 non-null    int64  \n",
      " 17  R_yn                            740 non-null    int64  \n",
      " 18  spark                           740 non-null    int64  \n",
      " 19  aws                             740 non-null    int64  \n",
      " 20  excel                           740 non-null    int64  \n",
      " 21  job_title                       740 non-null    int32  \n",
      " 22  seniority                       740 non-null    object \n",
      " 23  desc_len                        740 non-null    int64  \n",
      " 24  num_comp                        740 non-null    int64  \n",
      " 25  College / University            740 non-null    uint8  \n",
      " 26  Company - Private               740 non-null    uint8  \n",
      " 27  Company - Public                740 non-null    uint8  \n",
      " 28  Government                      740 non-null    uint8  \n",
      " 29  Hospital                        740 non-null    uint8  \n",
      " 30  Nonprofit Organization          740 non-null    uint8  \n",
      " 31  Other Organization              740 non-null    uint8  \n",
      " 32  School / School District        740 non-null    uint8  \n",
      " 33  Subsidiary or Business Segment  740 non-null    uint8  \n",
      "dtypes: float64(2), int32(1), int64(13), object(9), uint8(9)\n",
      "memory usage: 148.3+ KB\n"
     ]
    }
   ],
   "source": [
    "df = pd.concat([df, too_dummydf], axis = 1)\n",
    "df.info()"
   ]
  },
  {
   "cell_type": "code",
   "execution_count": 35,
   "metadata": {},
   "outputs": [],
   "source": [
    "df.drop('Type of ownership', axis = 1, inplace = True)"
   ]
  },
  {
   "cell_type": "code",
   "execution_count": 36,
   "metadata": {},
   "outputs": [
    {
     "data": {
      "text/html": [
       "<div>\n",
       "<style scoped>\n",
       "    .dataframe tbody tr th:only-of-type {\n",
       "        vertical-align: middle;\n",
       "    }\n",
       "\n",
       "    .dataframe tbody tr th {\n",
       "        vertical-align: top;\n",
       "    }\n",
       "\n",
       "    .dataframe thead th {\n",
       "        text-align: right;\n",
       "    }\n",
       "</style>\n",
       "<table border=\"1\" class=\"dataframe\">\n",
       "  <thead>\n",
       "    <tr style=\"text-align: right;\">\n",
       "      <th></th>\n",
       "      <th>Rating</th>\n",
       "      <th>Size</th>\n",
       "      <th>Founded</th>\n",
       "      <th>Industry</th>\n",
       "      <th>Sector</th>\n",
       "      <th>Revenue</th>\n",
       "      <th>Competitors</th>\n",
       "      <th>hourly</th>\n",
       "      <th>employer_provided</th>\n",
       "      <th>min_salary</th>\n",
       "      <th>...</th>\n",
       "      <th>num_comp</th>\n",
       "      <th>College / University</th>\n",
       "      <th>Company - Private</th>\n",
       "      <th>Company - Public</th>\n",
       "      <th>Government</th>\n",
       "      <th>Hospital</th>\n",
       "      <th>Nonprofit Organization</th>\n",
       "      <th>Other Organization</th>\n",
       "      <th>School / School District</th>\n",
       "      <th>Subsidiary or Business Segment</th>\n",
       "    </tr>\n",
       "    <tr>\n",
       "      <th>seniority</th>\n",
       "      <th></th>\n",
       "      <th></th>\n",
       "      <th></th>\n",
       "      <th></th>\n",
       "      <th></th>\n",
       "      <th></th>\n",
       "      <th></th>\n",
       "      <th></th>\n",
       "      <th></th>\n",
       "      <th></th>\n",
       "      <th></th>\n",
       "      <th></th>\n",
       "      <th></th>\n",
       "      <th></th>\n",
       "      <th></th>\n",
       "      <th></th>\n",
       "      <th></th>\n",
       "      <th></th>\n",
       "      <th></th>\n",
       "      <th></th>\n",
       "      <th></th>\n",
       "    </tr>\n",
       "  </thead>\n",
       "  <tbody>\n",
       "    <tr>\n",
       "      <th>jr</th>\n",
       "      <td>2</td>\n",
       "      <td>2</td>\n",
       "      <td>2</td>\n",
       "      <td>2</td>\n",
       "      <td>2</td>\n",
       "      <td>2</td>\n",
       "      <td>2</td>\n",
       "      <td>2</td>\n",
       "      <td>2</td>\n",
       "      <td>2</td>\n",
       "      <td>...</td>\n",
       "      <td>2</td>\n",
       "      <td>2</td>\n",
       "      <td>2</td>\n",
       "      <td>2</td>\n",
       "      <td>2</td>\n",
       "      <td>2</td>\n",
       "      <td>2</td>\n",
       "      <td>2</td>\n",
       "      <td>2</td>\n",
       "      <td>2</td>\n",
       "    </tr>\n",
       "    <tr>\n",
       "      <th>na</th>\n",
       "      <td>518</td>\n",
       "      <td>518</td>\n",
       "      <td>518</td>\n",
       "      <td>518</td>\n",
       "      <td>518</td>\n",
       "      <td>518</td>\n",
       "      <td>518</td>\n",
       "      <td>518</td>\n",
       "      <td>518</td>\n",
       "      <td>518</td>\n",
       "      <td>...</td>\n",
       "      <td>518</td>\n",
       "      <td>518</td>\n",
       "      <td>518</td>\n",
       "      <td>518</td>\n",
       "      <td>518</td>\n",
       "      <td>518</td>\n",
       "      <td>518</td>\n",
       "      <td>518</td>\n",
       "      <td>518</td>\n",
       "      <td>518</td>\n",
       "    </tr>\n",
       "    <tr>\n",
       "      <th>senior</th>\n",
       "      <td>220</td>\n",
       "      <td>220</td>\n",
       "      <td>220</td>\n",
       "      <td>220</td>\n",
       "      <td>220</td>\n",
       "      <td>220</td>\n",
       "      <td>220</td>\n",
       "      <td>220</td>\n",
       "      <td>220</td>\n",
       "      <td>220</td>\n",
       "      <td>...</td>\n",
       "      <td>220</td>\n",
       "      <td>220</td>\n",
       "      <td>220</td>\n",
       "      <td>220</td>\n",
       "      <td>220</td>\n",
       "      <td>220</td>\n",
       "      <td>220</td>\n",
       "      <td>220</td>\n",
       "      <td>220</td>\n",
       "      <td>220</td>\n",
       "    </tr>\n",
       "  </tbody>\n",
       "</table>\n",
       "<p>3 rows × 32 columns</p>\n",
       "</div>"
      ],
      "text/plain": [
       "           Rating  Size  Founded  Industry  Sector  Revenue  Competitors  \\\n",
       "seniority                                                                  \n",
       "jr              2     2        2         2       2        2            2   \n",
       "na            518   518      518       518     518      518          518   \n",
       "senior        220   220      220       220     220      220          220   \n",
       "\n",
       "           hourly  employer_provided  min_salary  ...  num_comp  \\\n",
       "seniority                                         ...             \n",
       "jr              2                  2           2  ...         2   \n",
       "na            518                518         518  ...       518   \n",
       "senior        220                220         220  ...       220   \n",
       "\n",
       "           College / University  Company - Private  Company - Public  \\\n",
       "seniority                                                              \n",
       "jr                            2                  2                 2   \n",
       "na                          518                518               518   \n",
       "senior                      220                220               220   \n",
       "\n",
       "           Government  Hospital  Nonprofit Organization  Other Organization  \\\n",
       "seniority                                                                     \n",
       "jr                  2         2                       2                   2   \n",
       "na                518       518                     518                 518   \n",
       "senior            220       220                     220                 220   \n",
       "\n",
       "           School / School District  Subsidiary or Business Segment  \n",
       "seniority                                                            \n",
       "jr                                2                               2  \n",
       "na                              518                             518  \n",
       "senior                          220                             220  \n",
       "\n",
       "[3 rows x 32 columns]"
      ]
     },
     "execution_count": 36,
     "metadata": {},
     "output_type": "execute_result"
    }
   ],
   "source": [
    "df.groupby('seniority').count()"
   ]
  },
  {
   "cell_type": "code",
   "execution_count": 37,
   "metadata": {},
   "outputs": [],
   "source": [
    "df['seniority'] = df['seniority'].replace(['na'], 'mid')"
   ]
  },
  {
   "cell_type": "code",
   "execution_count": 38,
   "metadata": {},
   "outputs": [
    {
     "name": "stdout",
     "output_type": "stream",
     "text": [
      "<class 'pandas.core.frame.DataFrame'>\n",
      "RangeIndex: 740 entries, 0 to 739\n",
      "Data columns (total 35 columns):\n",
      " #   Column                          Non-Null Count  Dtype  \n",
      "---  ------                          --------------  -----  \n",
      " 0   Rating                          740 non-null    float64\n",
      " 1   Size                            740 non-null    object \n",
      " 2   Founded                         740 non-null    int64  \n",
      " 3   Industry                        740 non-null    object \n",
      " 4   Sector                          740 non-null    object \n",
      " 5   Revenue                         740 non-null    object \n",
      " 6   Competitors                     740 non-null    object \n",
      " 7   hourly                          740 non-null    int64  \n",
      " 8   employer_provided               740 non-null    int64  \n",
      " 9   min_salary                      740 non-null    int64  \n",
      " 10  max_salary                      740 non-null    int64  \n",
      " 11  avg_salary                      740 non-null    float64\n",
      " 12  company_txt                     740 non-null    object \n",
      " 13  job_state                       740 non-null    object \n",
      " 14  same_state                      740 non-null    int64  \n",
      " 15  python_yn                       740 non-null    int64  \n",
      " 16  R_yn                            740 non-null    int64  \n",
      " 17  spark                           740 non-null    int64  \n",
      " 18  aws                             740 non-null    int64  \n",
      " 19  excel                           740 non-null    int64  \n",
      " 20  job_title                       740 non-null    int32  \n",
      " 21  desc_len                        740 non-null    int64  \n",
      " 22  num_comp                        740 non-null    int64  \n",
      " 23  College / University            740 non-null    uint8  \n",
      " 24  Company - Private               740 non-null    uint8  \n",
      " 25  Company - Public                740 non-null    uint8  \n",
      " 26  Government                      740 non-null    uint8  \n",
      " 27  Hospital                        740 non-null    uint8  \n",
      " 28  Nonprofit Organization          740 non-null    uint8  \n",
      " 29  Other Organization              740 non-null    uint8  \n",
      " 30  School / School District        740 non-null    uint8  \n",
      " 31  Subsidiary or Business Segment  740 non-null    uint8  \n",
      " 32  jr                              740 non-null    uint8  \n",
      " 33  mid                             740 non-null    uint8  \n",
      " 34  senior                          740 non-null    uint8  \n",
      "dtypes: float64(2), int32(1), int64(13), object(7), uint8(12)\n",
      "memory usage: 138.9+ KB\n"
     ]
    }
   ],
   "source": [
    "# convert categories of 'seniority' into single binary categories using dummy variables\n",
    "s_dummydf = pd.get_dummies(df['seniority'])\n",
    "df = pd.concat([df, s_dummydf], axis = 1)\n",
    "df.drop('seniority', axis = 1, inplace = True)\n",
    "df.info()"
   ]
  },
  {
   "cell_type": "code",
   "execution_count": 39,
   "metadata": {},
   "outputs": [
    {
     "name": "stdout",
     "output_type": "stream",
     "text": [
      "Biotech & Pharmaceuticals                   112\n",
      "Insurance Carriers                           63\n",
      "Computer Hardware & Software                 59\n",
      "IT Services                                  50\n",
      "Health Care Services & Hospitals             49\n",
      "Enterprise Software & Network Solutions      42\n",
      "Consulting                                   29\n",
      "Internet                                     29\n",
      "Aerospace & Defense                          25\n",
      "Advertising & Marketing                      25\n",
      "Consumer Products Manufacturing              20\n",
      "Research & Development                       19\n",
      "Colleges & Universities                      16\n",
      "Energy                                       14\n",
      "Banks & Credit Unions                        12\n",
      "Federal Agencies                             11\n",
      "Staffing & Outsourcing                       10\n",
      "-1                                            9\n",
      "Travel Agencies                               8\n",
      "Food & Beverage Manufacturing                 8\n",
      "Real Estate                                   8\n",
      "Lending                                       8\n",
      "Financial Analytics & Research                8\n",
      "Security Services                             7\n",
      "Department, Clothing, & Shoe Stores           6\n",
      "Religious Organizations                       6\n",
      "Insurance Agencies & Brokerages               6\n",
      "Investment Banking & Asset Management         5\n",
      "Logistics & Supply Chain                      4\n",
      "Gas Stations                                  4\n",
      "K-12 Education                                4\n",
      "Telecommunications Services                   4\n",
      "Industrial Manufacturing                      4\n",
      "Financial Transaction Processing              4\n",
      "Gambling                                      4\n",
      "Education Training Services                   3\n",
      "Social Assistance                             3\n",
      "Architectural & Engineering Services          3\n",
      "Video Games                                   3\n",
      "Stock Exchanges                               3\n",
      "Consumer Product Rental                       3\n",
      "Construction                                  3\n",
      "Wholesale                                     3\n",
      "Transportation Management                     3\n",
      "Metals Brokers                                2\n",
      "Sporting Goods Stores                         2\n",
      "TV Broadcast & Cable Networks                 2\n",
      "Telecommunications Manufacturing              2\n",
      "Brokerage Services                            2\n",
      "Mining                                        1\n",
      "Transportation Equipment Manufacturing        1\n",
      "Beauty & Personal Accessories Stores          1\n",
      "Farm Support Services                         1\n",
      "Health, Beauty, & Fitness                     1\n",
      "Auctions & Galleries                          1\n",
      "Health Care Products Manufacturing            1\n",
      "Accounting                                    1\n",
      "Motion Picture Production & Distribution      1\n",
      "Other Retail Stores                           1\n",
      "Trucking                                      1\n",
      "Name: Industry, dtype: int64\n"
     ]
    }
   ],
   "source": [
    "# Let's check out the remaining 5 categorical attributes\n",
    "print(df['Industry'].value_counts())"
   ]
  },
  {
   "cell_type": "code",
   "execution_count": 40,
   "metadata": {},
   "outputs": [
    {
     "name": "stdout",
     "output_type": "stream",
     "text": [
      "Information Technology                180\n",
      "Biotech & Pharmaceuticals             112\n",
      "Business Services                      96\n",
      "Insurance                              69\n",
      "Health Care                            49\n",
      "Finance                                42\n",
      "Manufacturing                          34\n",
      "Aerospace & Defense                    25\n",
      "Education                              23\n",
      "Retail                                 15\n",
      "Oil, Gas, Energy & Utilities           14\n",
      "Government                             11\n",
      "Non-Profit                              9\n",
      "-1                                      9\n",
      "Travel & Tourism                        8\n",
      "Real Estate                             8\n",
      "Transportation & Logistics              8\n",
      "Media                                   6\n",
      "Telecommunications                      6\n",
      "Consumer Services                       4\n",
      "Arts, Entertainment & Recreation        4\n",
      "Mining & Metals                         3\n",
      "Construction, Repair & Maintenance      3\n",
      "Agriculture & Forestry                  1\n",
      "Accounting & Legal                      1\n",
      "Name: Sector, dtype: int64\n"
     ]
    }
   ],
   "source": [
    "print(df['Sector'].value_counts())"
   ]
  },
  {
   "cell_type": "code",
   "execution_count": 41,
   "metadata": {},
   "outputs": [
    {
     "name": "stdout",
     "output_type": "stream",
     "text": [
      "Unknown / Non-Applicable            203\n",
      "$10+ billion (USD)                  124\n",
      "$100 to $500 million (USD)           91\n",
      "$1 to $2 billion (USD)               60\n",
      "$500 million to $1 billion (USD)     57\n",
      "$50 to $100 million (USD)            46\n",
      "$2 to $5 billion (USD)               39\n",
      "$25 to $50 million (USD)             39\n",
      "$10 to $25 million (USD)             32\n",
      "$5 to $10 billion (USD)              19\n",
      "$5 to $10 million (USD)              18\n",
      "$1 to $5 million (USD)                8\n",
      "Less than $1 million (USD)            4\n",
      "Name: Revenue, dtype: int64\n"
     ]
    }
   ],
   "source": [
    "print(df['Revenue'].value_counts())"
   ]
  },
  {
   "cell_type": "code",
   "execution_count": 42,
   "metadata": {},
   "outputs": [
    {
     "name": "stdout",
     "output_type": "stream",
     "text": [
      "-1                                                                                              458\n",
      "Novartis, Baxter, Pfizer                                                                         14\n",
      "Oak Ridge National Laboratory, National Renewable Energy Lab, Los Alamos National Laboratory     12\n",
      "Travelers, Allstate, State Farm                                                                  10\n",
      "Roche, GlaxoSmithKline, Novartis                                                                  9\n",
      "                                                                                               ... \n",
      "Life Fitness, Brooks Running, Under Armour                                                        1\n",
      "Outcome Health, Health Media Network, Mesmerize Marketing                                         1\n",
      "Genentech, Ultragenyx Pharmaceutical, Gilead Sciences                                             1\n",
      "MIT Lincoln Laboratory, Lockheed Martin, Northrop Grumman                                         1\n",
      "Lhoist, Graymont, Sibelco Group                                                                   1\n",
      "Name: Competitors, Length: 128, dtype: int64\n"
     ]
    }
   ],
   "source": [
    "print(df['Competitors'].value_counts())"
   ]
  },
  {
   "cell_type": "code",
   "execution_count": 43,
   "metadata": {},
   "outputs": [
    {
     "name": "stdout",
     "output_type": "stream",
     "text": [
      "MassMutual                        14\n",
      "Reynolds American                 14\n",
      "Takeda Pharmaceuticals            14\n",
      "Software Engineering Institute    11\n",
      "PNNL                              10\n",
      "                                  ..\n",
      "Excella Consulting                 1\n",
      "Centauri                           1\n",
      "ICW Group                          1\n",
      "WK Dickson                         1\n",
      "Pharmavite                         1\n",
      "Name: company_txt, Length: 341, dtype: int64\n"
     ]
    }
   ],
   "source": [
    "print(df['company_txt'].value_counts())"
   ]
  },
  {
   "cell_type": "code",
   "execution_count": 44,
   "metadata": {},
   "outputs": [],
   "source": [
    "# drop 'Industry', 'Sector' and 'competitors' as they have too many categories, we can do feature engineering on 'revenue'\n",
    "df.drop(['Industry', 'Sector', 'Competitors', 'company_txt'], axis = 1, inplace = True)"
   ]
  },
  {
   "cell_type": "code",
   "execution_count": 45,
   "metadata": {},
   "outputs": [
    {
     "name": "stdout",
     "output_type": "stream",
     "text": [
      "<class 'pandas.core.frame.DataFrame'>\n",
      "RangeIndex: 740 entries, 0 to 739\n",
      "Data columns (total 31 columns):\n",
      " #   Column                          Non-Null Count  Dtype  \n",
      "---  ------                          --------------  -----  \n",
      " 0   Rating                          740 non-null    float64\n",
      " 1   Size                            740 non-null    object \n",
      " 2   Founded                         740 non-null    int64  \n",
      " 3   Revenue                         740 non-null    object \n",
      " 4   hourly                          740 non-null    int64  \n",
      " 5   employer_provided               740 non-null    int64  \n",
      " 6   min_salary                      740 non-null    int64  \n",
      " 7   max_salary                      740 non-null    int64  \n",
      " 8   avg_salary                      740 non-null    float64\n",
      " 9   job_state                       740 non-null    object \n",
      " 10  same_state                      740 non-null    int64  \n",
      " 11  python_yn                       740 non-null    int64  \n",
      " 12  R_yn                            740 non-null    int64  \n",
      " 13  spark                           740 non-null    int64  \n",
      " 14  aws                             740 non-null    int64  \n",
      " 15  excel                           740 non-null    int64  \n",
      " 16  job_title                       740 non-null    int32  \n",
      " 17  desc_len                        740 non-null    int64  \n",
      " 18  num_comp                        740 non-null    int64  \n",
      " 19  College / University            740 non-null    uint8  \n",
      " 20  Company - Private               740 non-null    uint8  \n",
      " 21  Company - Public                740 non-null    uint8  \n",
      " 22  Government                      740 non-null    uint8  \n",
      " 23  Hospital                        740 non-null    uint8  \n",
      " 24  Nonprofit Organization          740 non-null    uint8  \n",
      " 25  Other Organization              740 non-null    uint8  \n",
      " 26  School / School District        740 non-null    uint8  \n",
      " 27  Subsidiary or Business Segment  740 non-null    uint8  \n",
      " 28  jr                              740 non-null    uint8  \n",
      " 29  mid                             740 non-null    uint8  \n",
      " 30  senior                          740 non-null    uint8  \n",
      "dtypes: float64(2), int32(1), int64(13), object(3), uint8(12)\n",
      "memory usage: 115.8+ KB\n"
     ]
    }
   ],
   "source": [
    "df.info()"
   ]
  },
  {
   "cell_type": "markdown",
   "metadata": {},
   "source": [
    "## Feature engineering for categorical attribute types"
   ]
  },
  {
   "cell_type": "code",
   "execution_count": 46,
   "metadata": {},
   "outputs": [],
   "source": [
    "'''\n",
    "Although 'Founded' is not categorical, we will do some feature engineering to change the values to reflect\n",
    "the company's age which can be more rel;evant for pattern recognition.\n",
    "''' \n",
    "df['Founded'] = df['Founded'].apply(lambda x: (2023 -x))\n",
    "df = df.rename(columns = {'Founded': 'company_age'})"
   ]
  },
  {
   "cell_type": "code",
   "execution_count": 47,
   "metadata": {},
   "outputs": [
    {
     "name": "stdout",
     "output_type": "stream",
     "text": [
      "3670    5\n",
      "3243    4\n",
      "2801    4\n",
      "3776    4\n",
      "4471    4\n",
      "       ..\n",
      "7548    1\n",
      "4475    1\n",
      "4897    1\n",
      "3448    1\n",
      "2047    1\n",
      "Name: desc_len, Length: 441, dtype: int64\n"
     ]
    }
   ],
   "source": [
    "# 'desc_len' is also a numerical attribute\n",
    "print(df['desc_len'].value_counts())"
   ]
  },
  {
   "cell_type": "code",
   "execution_count": 48,
   "metadata": {},
   "outputs": [],
   "source": [
    "# we will do feature engineering on the following attributes: 'size', 'revenue' and 'job state'\n",
    "import math\n",
    "\n",
    "def get_avg_size(s):\n",
    "    values = []\n",
    "    words = s.split()\n",
    "    for word in words:\n",
    "        word = word.strip('+')\n",
    "        if word.isdigit():\n",
    "            values.append(int(word))\n",
    "    return math.ceil(sum(values)/len(values))"
   ]
  },
  {
   "cell_type": "code",
   "execution_count": 49,
   "metadata": {},
   "outputs": [
    {
     "name": "stdout",
     "output_type": "stream",
     "text": [
      "1001 to 5000 employees     150\n",
      "501 to 1000 employees      134\n",
      "10000+ employees           130\n",
      "201 to 500 employees       117\n",
      "51 to 200 employees         93\n",
      "5001 to 10000 employees     76\n",
      "1 to 50 employees           31\n",
      "Unknown                      9\n",
      "Name: Size, dtype: int64\n"
     ]
    }
   ],
   "source": [
    "print(df['Size'].value_counts())"
   ]
  },
  {
   "cell_type": "code",
   "execution_count": 50,
   "metadata": {},
   "outputs": [],
   "source": [
    "# drop rows with unknown or '-1' as \n",
    "df.drop(index = df[(df['Size'] == 'Unknown') | (df['Size'] == '-1')].index, inplace = True)\n",
    "val = df['Size'].value_counts()"
   ]
  },
  {
   "cell_type": "code",
   "execution_count": 51,
   "metadata": {},
   "outputs": [],
   "source": [
    "# reset index after dropping rows\n",
    "df.reset_index(drop = True, inplace = True)"
   ]
  },
  {
   "cell_type": "code",
   "execution_count": 52,
   "metadata": {},
   "outputs": [
    {
     "data": {
      "text/plain": [
       "[Text(0, 0, '1001 to 5000 employees'),\n",
       " Text(1, 0, '501 to 1000 employees'),\n",
       " Text(2, 0, '10000+ employees'),\n",
       " Text(3, 0, '201 to 500 employees'),\n",
       " Text(4, 0, '51 to 200 employees'),\n",
       " Text(5, 0, '5001 to 10000 employees'),\n",
       " Text(6, 0, '1 to 50 employees')]"
      ]
     },
     "execution_count": 52,
     "metadata": {},
     "output_type": "execute_result"
    },
    {
     "data": {
      "image/png": "[encoded data removed]",
      "text/plain": [
       "<Figure size 576x432 with 1 Axes>"
      ]
     },
     "metadata": {
      "needs_background": "light"
     },
     "output_type": "display_data"
    }
   ],
   "source": [
    "#let's check the count\n",
    "plt.figure(figsize = (8,6))\n",
    "ax = sns.barplot(x = val.index, y = val, palette = \"mako\")\n",
    "ax.set_xticklabels(ax.get_xticklabels(), rotation=90)"
   ]
  },
  {
   "cell_type": "code",
   "execution_count": 53,
   "metadata": {},
   "outputs": [
    {
     "data": {
      "text/html": [
       "<div>\n",
       "<style scoped>\n",
       "    .dataframe tbody tr th:only-of-type {\n",
       "        vertical-align: middle;\n",
       "    }\n",
       "\n",
       "    .dataframe tbody tr th {\n",
       "        vertical-align: top;\n",
       "    }\n",
       "\n",
       "    .dataframe thead th {\n",
       "        text-align: right;\n",
       "    }\n",
       "</style>\n",
       "<table border=\"1\" class=\"dataframe\">\n",
       "  <thead>\n",
       "    <tr style=\"text-align: right;\">\n",
       "      <th></th>\n",
       "      <th>Rating</th>\n",
       "      <th>Size</th>\n",
       "      <th>company_age</th>\n",
       "      <th>Revenue</th>\n",
       "      <th>hourly</th>\n",
       "      <th>employer_provided</th>\n",
       "      <th>min_salary</th>\n",
       "      <th>max_salary</th>\n",
       "      <th>avg_salary</th>\n",
       "      <th>job_state</th>\n",
       "      <th>...</th>\n",
       "      <th>Company - Public</th>\n",
       "      <th>Government</th>\n",
       "      <th>Hospital</th>\n",
       "      <th>Nonprofit Organization</th>\n",
       "      <th>Other Organization</th>\n",
       "      <th>School / School District</th>\n",
       "      <th>Subsidiary or Business Segment</th>\n",
       "      <th>jr</th>\n",
       "      <th>mid</th>\n",
       "      <th>senior</th>\n",
       "    </tr>\n",
       "  </thead>\n",
       "  <tbody>\n",
       "    <tr>\n",
       "      <th>726</th>\n",
       "      <td>3.9</td>\n",
       "      <td>10000+ employees</td>\n",
       "      <td>193</td>\n",
       "      <td>$10+ billion (USD)</td>\n",
       "      <td>0</td>\n",
       "      <td>0</td>\n",
       "      <td>58</td>\n",
       "      <td>111</td>\n",
       "      <td>84.5</td>\n",
       "      <td>MA</td>\n",
       "      <td>...</td>\n",
       "      <td>1</td>\n",
       "      <td>0</td>\n",
       "      <td>0</td>\n",
       "      <td>0</td>\n",
       "      <td>0</td>\n",
       "      <td>0</td>\n",
       "      <td>0</td>\n",
       "      <td>0</td>\n",
       "      <td>0</td>\n",
       "      <td>1</td>\n",
       "    </tr>\n",
       "    <tr>\n",
       "      <th>727</th>\n",
       "      <td>4.4</td>\n",
       "      <td>1001 to 5000 employees</td>\n",
       "      <td>17</td>\n",
       "      <td>$100 to $500 million (USD)</td>\n",
       "      <td>0</td>\n",
       "      <td>0</td>\n",
       "      <td>72</td>\n",
       "      <td>133</td>\n",
       "      <td>102.5</td>\n",
       "      <td>TN</td>\n",
       "      <td>...</td>\n",
       "      <td>1</td>\n",
       "      <td>0</td>\n",
       "      <td>0</td>\n",
       "      <td>0</td>\n",
       "      <td>0</td>\n",
       "      <td>0</td>\n",
       "      <td>0</td>\n",
       "      <td>0</td>\n",
       "      <td>0</td>\n",
       "      <td>1</td>\n",
       "    </tr>\n",
       "    <tr>\n",
       "      <th>728</th>\n",
       "      <td>2.6</td>\n",
       "      <td>501 to 1000 employees</td>\n",
       "      <td>39</td>\n",
       "      <td>Unknown / Non-Applicable</td>\n",
       "      <td>0</td>\n",
       "      <td>0</td>\n",
       "      <td>56</td>\n",
       "      <td>91</td>\n",
       "      <td>73.5</td>\n",
       "      <td>PA</td>\n",
       "      <td>...</td>\n",
       "      <td>0</td>\n",
       "      <td>0</td>\n",
       "      <td>0</td>\n",
       "      <td>0</td>\n",
       "      <td>0</td>\n",
       "      <td>0</td>\n",
       "      <td>0</td>\n",
       "      <td>0</td>\n",
       "      <td>1</td>\n",
       "      <td>0</td>\n",
       "    </tr>\n",
       "    <tr>\n",
       "      <th>729</th>\n",
       "      <td>3.2</td>\n",
       "      <td>1 to 50 employees</td>\n",
       "      <td>2024</td>\n",
       "      <td>$5 to $10 million (USD)</td>\n",
       "      <td>0</td>\n",
       "      <td>0</td>\n",
       "      <td>95</td>\n",
       "      <td>160</td>\n",
       "      <td>127.5</td>\n",
       "      <td>PA</td>\n",
       "      <td>...</td>\n",
       "      <td>0</td>\n",
       "      <td>0</td>\n",
       "      <td>0</td>\n",
       "      <td>0</td>\n",
       "      <td>0</td>\n",
       "      <td>0</td>\n",
       "      <td>0</td>\n",
       "      <td>0</td>\n",
       "      <td>1</td>\n",
       "      <td>0</td>\n",
       "    </tr>\n",
       "    <tr>\n",
       "      <th>730</th>\n",
       "      <td>3.6</td>\n",
       "      <td>501 to 1000 employees</td>\n",
       "      <td>56</td>\n",
       "      <td>$50 to $100 million (USD)</td>\n",
       "      <td>0</td>\n",
       "      <td>0</td>\n",
       "      <td>61</td>\n",
       "      <td>126</td>\n",
       "      <td>93.5</td>\n",
       "      <td>OH</td>\n",
       "      <td>...</td>\n",
       "      <td>0</td>\n",
       "      <td>0</td>\n",
       "      <td>0</td>\n",
       "      <td>1</td>\n",
       "      <td>0</td>\n",
       "      <td>0</td>\n",
       "      <td>0</td>\n",
       "      <td>0</td>\n",
       "      <td>1</td>\n",
       "      <td>0</td>\n",
       "    </tr>\n",
       "  </tbody>\n",
       "</table>\n",
       "<p>5 rows × 31 columns</p>\n",
       "</div>"
      ],
      "text/plain": [
       "     Rating                    Size  company_age                     Revenue  \\\n",
       "726     3.9        10000+ employees          193          $10+ billion (USD)   \n",
       "727     4.4  1001 to 5000 employees           17  $100 to $500 million (USD)   \n",
       "728     2.6   501 to 1000 employees           39    Unknown / Non-Applicable   \n",
       "729     3.2       1 to 50 employees         2024     $5 to $10 million (USD)   \n",
       "730     3.6   501 to 1000 employees           56   $50 to $100 million (USD)   \n",
       "\n",
       "     hourly  employer_provided  min_salary  max_salary  avg_salary job_state  \\\n",
       "726       0                  0          58         111        84.5        MA   \n",
       "727       0                  0          72         133       102.5        TN   \n",
       "728       0                  0          56          91        73.5        PA   \n",
       "729       0                  0          95         160       127.5        PA   \n",
       "730       0                  0          61         126        93.5        OH   \n",
       "\n",
       "     ...  Company - Public  Government  Hospital  Nonprofit Organization  \\\n",
       "726  ...                 1           0         0                       0   \n",
       "727  ...                 1           0         0                       0   \n",
       "728  ...                 0           0         0                       0   \n",
       "729  ...                 0           0         0                       0   \n",
       "730  ...                 0           0         0                       1   \n",
       "\n",
       "     Other Organization  School / School District  \\\n",
       "726                   0                         0   \n",
       "727                   0                         0   \n",
       "728                   0                         0   \n",
       "729                   0                         0   \n",
       "730                   0                         0   \n",
       "\n",
       "     Subsidiary or Business Segment  jr  mid  senior  \n",
       "726                               0   0    0       1  \n",
       "727                               0   0    0       1  \n",
       "728                               0   0    1       0  \n",
       "729                               0   0    1       0  \n",
       "730                               0   0    1       0  \n",
       "\n",
       "[5 rows x 31 columns]"
      ]
     },
     "execution_count": 53,
     "metadata": {},
     "output_type": "execute_result"
    }
   ],
   "source": [
    "df.tail()"
   ]
  },
  {
   "cell_type": "code",
   "execution_count": 54,
   "metadata": {},
   "outputs": [],
   "source": [
    "df['Size'] = df['Size'].apply(get_avg_size)"
   ]
  },
  {
   "cell_type": "code",
   "execution_count": 55,
   "metadata": {},
   "outputs": [],
   "source": [
    "df = df.rename(columns = {'Size': 'avg_company_size'})"
   ]
  },
  {
   "cell_type": "code",
   "execution_count": 56,
   "metadata": {},
   "outputs": [],
   "source": [
    "# let's work with 'Revenue'\n",
    "val = df['Revenue'].value_counts()"
   ]
  },
  {
   "cell_type": "code",
   "execution_count": 57,
   "metadata": {},
   "outputs": [
    {
     "data": {
      "text/plain": [
       "[Text(0, 0, 'Unknown / Non-Applicable'),\n",
       " Text(1, 0, '$10+ billion (USD)'),\n",
       " Text(2, 0, '$100 to $500 million (USD)'),\n",
       " Text(3, 0, '$1 to $2 billion (USD)'),\n",
       " Text(4, 0, '$500 million to $1 billion (USD)'),\n",
       " Text(5, 0, '$50 to $100 million (USD)'),\n",
       " Text(6, 0, '$2 to $5 billion (USD)'),\n",
       " Text(7, 0, '$25 to $50 million (USD)'),\n",
       " Text(8, 0, '$10 to $25 million (USD)'),\n",
       " Text(9, 0, '$5 to $10 billion (USD)'),\n",
       " Text(10, 0, '$5 to $10 million (USD)'),\n",
       " Text(11, 0, '$1 to $5 million (USD)'),\n",
       " Text(12, 0, 'Less than $1 million (USD)')]"
      ]
     },
     "execution_count": 57,
     "metadata": {},
     "output_type": "execute_result"
    },
    {
     "data": {
      "image/png": "[encoded data removed]",
      "text/plain": [
       "<Figure size 576x432 with 1 Axes>"
      ]
     },
     "metadata": {
      "needs_background": "light"
     },
     "output_type": "display_data"
    }
   ],
   "source": [
    "#let's check the count\n",
    "plt.figure(figsize = (8,6))\n",
    "ax = sns.barplot(x = val.index, y = val, palette = \"crest\")\n",
    "ax.set_xticklabels(ax.get_xticklabels(), rotation=90)"
   ]
  },
  {
   "cell_type": "code",
   "execution_count": 58,
   "metadata": {},
   "outputs": [],
   "source": [
    "# 200 out of 700 values for 'Revenue' is unknown so we will drop this column\n",
    "df.drop('Revenue', axis = 1, inplace = True)"
   ]
  },
  {
   "cell_type": "code",
   "execution_count": 59,
   "metadata": {},
   "outputs": [],
   "source": [
    "# we will now convert US states to regions\n",
    "# these dictionaries were obtained from https://gist.github.com/rogerallen/1583593\n",
    "states_to_regions = {\n",
    "    'Washington': 'West', 'Oregon': 'West', 'California': 'West', 'Nevada': 'West',\n",
    "    'Idaho': 'West', 'Montana': 'West', 'Wyoming': 'West', 'Utah': 'West',\n",
    "    'Colorado': 'West', 'Alaska': 'West', 'Hawaii': 'West', 'Maine': 'Northeast',\n",
    "    'Vermont': 'Northeast', 'New York': 'Northeast', 'New Hampshire': 'Northeast',\n",
    "    'Massachusetts': 'Northeast', 'Rhode Island': 'Northeast', 'Connecticut': 'Northeast',\n",
    "    'New Jersey': 'Northeast', 'Pennsylvania': 'Northeast', 'North Dakota': 'Midwest',\n",
    "    'South Dakota': 'Midwest', 'Nebraska': 'Midwest', 'Kansas': 'Midwest',\n",
    "    'Minnesota': 'Midwest', 'Iowa': 'Midwest', 'Missouri': 'Midwest', 'Wisconsin': 'Midwest',\n",
    "    'Illinois': 'Midwest', 'Michigan': 'Midwest', 'Indiana': 'Midwest', 'Ohio': 'Midwest',\n",
    "    'West Virginia': 'South', 'District of Columbia': 'South', 'Maryland': 'South',\n",
    "    'Virginia': 'South', 'Kentucky': 'South', 'Tennessee': 'South', 'North Carolina': 'South',\n",
    "    'Mississippi': 'South', 'Arkansas': 'South', 'Louisiana': 'South', 'Alabama': 'South',\n",
    "    'Georgia': 'South', 'South Carolina': 'South', 'Florida': 'South', 'Delaware': 'South',\n",
    "    'Arizona': 'Southwest', 'New Mexico': 'Southwest', 'Oklahoma': 'Southwest',\n",
    "    'Texas': 'Southwest'}\n",
    "\n",
    "us_state_to_abbrev = {\n",
    "    \"Alabama\": \"AL\",\n",
    "    \"Alaska\": \"AK\",\n",
    "    \"Arizona\": \"AZ\",\n",
    "    \"Arkansas\": \"AR\",\n",
    "    \"California\": \"CA\",\n",
    "    \"Colorado\": \"CO\",\n",
    "    \"Connecticut\": \"CT\",\n",
    "    \"Delaware\": \"DE\",\n",
    "    \"Florida\": \"FL\",\n",
    "    \"Georgia\": \"GA\",\n",
    "    \"Hawaii\": \"HI\",\n",
    "    \"Idaho\": \"ID\",\n",
    "    \"Illinois\": \"IL\",\n",
    "    \"Indiana\": \"IN\",\n",
    "    \"Iowa\": \"IA\",\n",
    "    \"Kansas\": \"KS\",\n",
    "    \"Kentucky\": \"KY\",\n",
    "    \"Louisiana\": \"LA\",\n",
    "    \"Maine\": \"ME\",\n",
    "    \"Maryland\": \"MD\",\n",
    "    \"Massachusetts\": \"MA\",\n",
    "    \"Michigan\": \"MI\",\n",
    "    \"Minnesota\": \"MN\",\n",
    "    \"Mississippi\": \"MS\",\n",
    "    \"Missouri\": \"MO\",\n",
    "    \"Montana\": \"MT\",\n",
    "    \"Nebraska\": \"NE\",\n",
    "    \"Nevada\": \"NV\",\n",
    "    \"New Hampshire\": \"NH\",\n",
    "    \"New Jersey\": \"NJ\",\n",
    "    \"New Mexico\": \"NM\",\n",
    "    \"New York\": \"NY\",\n",
    "    \"North Carolina\": \"NC\",\n",
    "    \"North Dakota\": \"ND\",\n",
    "    \"Ohio\": \"OH\",\n",
    "    \"Oklahoma\": \"OK\",\n",
    "    \"Oregon\": \"OR\",\n",
    "    \"Pennsylvania\": \"PA\",\n",
    "    \"Rhode Island\": \"RI\",\n",
    "    \"South Carolina\": \"SC\",\n",
    "    \"South Dakota\": \"SD\",\n",
    "    \"Tennessee\": \"TN\",\n",
    "    \"Texas\": \"TX\",\n",
    "    \"Utah\": \"UT\",\n",
    "    \"Vermont\": \"VT\",\n",
    "    \"Virginia\": \"VA\",\n",
    "    \"Washington\": \"WA\",\n",
    "    \"West Virginia\": \"WV\",\n",
    "    \"Wisconsin\": \"WI\",\n",
    "    \"Wyoming\": \"WY\",\n",
    "    \"District of Columbia\": \"DC\",\n",
    "    \"American Samoa\": \"AS\",\n",
    "    \"Guam\": \"GU\",\n",
    "    \"Northern Mariana Islands\": \"MP\",\n",
    "    \"Puerto Rico\": \"PR\",\n",
    "    \"United States Minor Outlying Islands\": \"UM\",\n",
    "    \"U.S. Virgin Islands\": \"VI\",\n",
    "}\n",
    "    \n",
    "# invert the dictionary\n",
    "abbrev_to_us_state = dict(map(reversed, us_state_to_abbrev.items()))"
   ]
  },
  {
   "cell_type": "code",
   "execution_count": 60,
   "metadata": {},
   "outputs": [],
   "source": [
    "def get_region(abbrv):\n",
    "    state = abbrev_to_us_state[abbrv]\n",
    "    region = states_to_regions[state]\n",
    "    return region"
   ]
  },
  {
   "cell_type": "code",
   "execution_count": 61,
   "metadata": {},
   "outputs": [],
   "source": [
    "df['job_state'] = df['job_state'].apply(get_region)"
   ]
  },
  {
   "cell_type": "code",
   "execution_count": 62,
   "metadata": {},
   "outputs": [],
   "source": [
    "val = df['job_state'].value_counts()"
   ]
  },
  {
   "cell_type": "code",
   "execution_count": 63,
   "metadata": {},
   "outputs": [
    {
     "data": {
      "text/plain": [
       "[Text(0, 0, 'Northeast'),\n",
       " Text(1, 0, 'West'),\n",
       " Text(2, 0, 'South'),\n",
       " Text(3, 0, 'Midwest'),\n",
       " Text(4, 0, 'Southwest')]"
      ]
     },
     "execution_count": 63,
     "metadata": {},
     "output_type": "execute_result"
    },
    {
     "data": {
      "image/png": "[encoded data removed]",
      "text/plain": [
       "<Figure size 576x432 with 1 Axes>"
      ]
     },
     "metadata": {
      "needs_background": "light"
     },
     "output_type": "display_data"
    }
   ],
   "source": [
    "#let's check the count\n",
    "plt.figure(figsize = (8,6))\n",
    "ax = sns.barplot(x = val.index, y = val, palette = \"flare\")\n",
    "ax.set_xticklabels(ax.get_xticklabels(), rotation=90)"
   ]
  },
  {
   "cell_type": "code",
   "execution_count": 64,
   "metadata": {},
   "outputs": [],
   "source": [
    "# now we convert 'job_region' to dummy variables\n",
    "\n",
    "fr_dummydf = pd.get_dummies(df['job_state'])"
   ]
  },
  {
   "cell_type": "code",
   "execution_count": 65,
   "metadata": {},
   "outputs": [],
   "source": [
    "# add dummy variable columns for region\n",
    "df = pd.concat([df, fr_dummydf], axis = 1)"
   ]
  },
  {
   "cell_type": "code",
   "execution_count": 66,
   "metadata": {},
   "outputs": [],
   "source": [
    "# drop 'job_state'\n",
    "df.drop('job_state', axis = 1, inplace = True)"
   ]
  },
  {
   "cell_type": "code",
   "execution_count": 67,
   "metadata": {},
   "outputs": [
    {
     "name": "stdout",
     "output_type": "stream",
     "text": [
      "<class 'pandas.core.frame.DataFrame'>\n",
      "RangeIndex: 731 entries, 0 to 730\n",
      "Data columns (total 34 columns):\n",
      " #   Column                          Non-Null Count  Dtype  \n",
      "---  ------                          --------------  -----  \n",
      " 0   Rating                          731 non-null    float64\n",
      " 1   avg_company_size                731 non-null    int64  \n",
      " 2   company_age                     731 non-null    int64  \n",
      " 3   hourly                          731 non-null    int64  \n",
      " 4   employer_provided               731 non-null    int64  \n",
      " 5   min_salary                      731 non-null    int64  \n",
      " 6   max_salary                      731 non-null    int64  \n",
      " 7   avg_salary                      731 non-null    float64\n",
      " 8   same_state                      731 non-null    int64  \n",
      " 9   python_yn                       731 non-null    int64  \n",
      " 10  R_yn                            731 non-null    int64  \n",
      " 11  spark                           731 non-null    int64  \n",
      " 12  aws                             731 non-null    int64  \n",
      " 13  excel                           731 non-null    int64  \n",
      " 14  job_title                       731 non-null    int32  \n",
      " 15  desc_len                        731 non-null    int64  \n",
      " 16  num_comp                        731 non-null    int64  \n",
      " 17  College / University            731 non-null    uint8  \n",
      " 18  Company - Private               731 non-null    uint8  \n",
      " 19  Company - Public                731 non-null    uint8  \n",
      " 20  Government                      731 non-null    uint8  \n",
      " 21  Hospital                        731 non-null    uint8  \n",
      " 22  Nonprofit Organization          731 non-null    uint8  \n",
      " 23  Other Organization              731 non-null    uint8  \n",
      " 24  School / School District        731 non-null    uint8  \n",
      " 25  Subsidiary or Business Segment  731 non-null    uint8  \n",
      " 26  jr                              731 non-null    uint8  \n",
      " 27  mid                             731 non-null    uint8  \n",
      " 28  senior                          731 non-null    uint8  \n",
      " 29  Midwest                         731 non-null    uint8  \n",
      " 30  Northeast                       731 non-null    uint8  \n",
      " 31  South                           731 non-null    uint8  \n",
      " 32  Southwest                       731 non-null    uint8  \n",
      " 33  West                            731 non-null    uint8  \n",
      "dtypes: float64(2), int32(1), int64(14), uint8(17)\n",
      "memory usage: 106.5 KB\n"
     ]
    }
   ],
   "source": [
    "df.info()"
   ]
  },
  {
   "cell_type": "code",
   "execution_count": 70,
   "metadata": {},
   "outputs": [],
   "source": [
    "# separate features \n",
    "df_feat = df.drop('job_title', axis = 1).values"
   ]
  },
  {
   "cell_type": "code",
   "execution_count": 71,
   "metadata": {},
   "outputs": [],
   "source": [
    "y = df['job_title'].copy().values"
   ]
  },
  {
   "cell_type": "markdown",
   "metadata": {},
   "source": [
    "## Data Preparation for Training "
   ]
  },
  {
   "cell_type": "code",
   "execution_count": 74,
   "metadata": {},
   "outputs": [],
   "source": [
    "from sklearn.preprocessing import MinMaxScaler"
   ]
  },
  {
   "cell_type": "code",
   "execution_count": 75,
   "metadata": {},
   "outputs": [],
   "source": [
    "sc = MinMaxScaler()"
   ]
  },
  {
   "cell_type": "code",
   "execution_count": 72,
   "metadata": {},
   "outputs": [],
   "source": [
    "# train test split\n",
    "from sklearn.model_selection import train_test_split"
   ]
  },
  {
   "cell_type": "code",
   "execution_count": 76,
   "metadata": {},
   "outputs": [],
   "source": [
    "X_train, X_test, y_train, y_test = train_test_split(df_feat, y, test_size=0.20, random_state = 100)"
   ]
  },
  {
   "cell_type": "code",
   "execution_count": 78,
   "metadata": {},
   "outputs": [],
   "source": [
    "# we do the scaling post-split because we want to prevent data leakage from the test set\n",
    "X_train = sc.fit_transform(X_train)"
   ]
  },
  {
   "cell_type": "code",
   "execution_count": 79,
   "metadata": {},
   "outputs": [],
   "source": [
    "X_test = sc.transform(X_test)"
   ]
  },
  {
   "cell_type": "code",
   "execution_count": 81,
   "metadata": {},
   "outputs": [],
   "source": [
    "from tensorflow.keras.models import Sequential\n",
    "from tensorflow.keras.layers import Dense, Dropout"
   ]
  },
  {
   "cell_type": "code",
   "execution_count": 82,
   "metadata": {},
   "outputs": [
    {
     "data": {
      "text/plain": [
       "(584, 33)"
      ]
     },
     "execution_count": 82,
     "metadata": {},
     "output_type": "execute_result"
    }
   ],
   "source": [
    "X_train.shape"
   ]
  },
  {
   "cell_type": "code",
   "execution_count": 86,
   "metadata": {},
   "outputs": [
    {
     "data": {
      "text/plain": [
       "2    219\n",
       "6    144\n",
       "1     91\n",
       "0     82\n",
       "5     18\n",
       "4     18\n",
       "3     12\n",
       "dtype: int64"
      ]
     },
     "execution_count": 86,
     "metadata": {},
     "output_type": "execute_result"
    }
   ],
   "source": [
    "pd.Series(y_train).value_counts()"
   ]
  },
  {
   "cell_type": "code",
   "execution_count": null,
   "metadata": {},
   "outputs": [],
   "source": [
    "model = Sequential()\n",
    "\n",
    "# we have 33 input attributes\n",
    "model.add(Dense(33, activation = 'relu'))\n",
    "model.add(Dense(24, activation = 'relu'))\n",
    "model.add(Dense(16, activation = 'relu'))\n",
    "\n",
    "# we have 7 target class\n",
    "model.add(Dense(7, activation = 'softmax'))\n",
    "\n",
    "model.compile(optimizer = 'adam', loss = 'categorical_crossentropy')"
   ]
  }
 ],
 "metadata": {
  "kernelspec": {
   "display_name": "Python 3",
   "language": "python",
   "name": "python3"
  },
  "language_info": {
   "codemirror_mode": {
    "name": "ipython",
    "version": 3
   },
   "file_extension": ".py",
   "mimetype": "text/x-python",
   "name": "python",
   "nbconvert_exporter": "python",
   "pygments_lexer": "ipython3",
   "version": "3.7.9"
  }
 },
 "nbformat": 4,
 "nbformat_minor": 4
}
