{
 "cells": [
  {
   "cell_type": "code",
   "execution_count": 2,
   "metadata": {},
   "outputs": [],
   "source": [
    "import numpy as np\n",
    "import pandas as pd\n",
    "import matplotlib.pyplot as plt\n",
    "import seaborn as sns\n",
    "%matplotlib inline"
   ]
  },
  {
   "cell_type": "code",
   "execution_count": 3,
   "metadata": {},
   "outputs": [],
   "source": [
    "# provide path to data\n",
    "path = 'C:/Users/shisk/Desktop/Projects/Data/eda_data.csv'"
   ]
  },
  {
   "cell_type": "code",
   "execution_count": 5,
   "metadata": {},
   "outputs": [
    {
     "name": "stdout",
     "output_type": "stream",
     "text": [
      "<class 'pandas.core.frame.DataFrame'>\n",
      "RangeIndex: 742 entries, 0 to 741\n",
      "Data columns (total 33 columns):\n",
      " #   Column             Non-Null Count  Dtype  \n",
      "---  ------             --------------  -----  \n",
      " 0   Unnamed: 0         742 non-null    int64  \n",
      " 1   Job Title          742 non-null    object \n",
      " 2   Salary Estimate    742 non-null    object \n",
      " 3   Job Description    742 non-null    object \n",
      " 4   Rating             742 non-null    float64\n",
      " 5   Company Name       742 non-null    object \n",
      " 6   Location           742 non-null    object \n",
      " 7   Headquarters       742 non-null    object \n",
      " 8   Size               742 non-null    object \n",
      " 9   Founded            742 non-null    int64  \n",
      " 10  Type of ownership  742 non-null    object \n",
      " 11  Industry           742 non-null    object \n",
      " 12  Sector             742 non-null    object \n",
      " 13  Revenue            742 non-null    object \n",
      " 14  Competitors        742 non-null    object \n",
      " 15  hourly             742 non-null    int64  \n",
      " 16  employer_provided  742 non-null    int64  \n",
      " 17  min_salary         742 non-null    int64  \n",
      " 18  max_salary         742 non-null    int64  \n",
      " 19  avg_salary         742 non-null    float64\n",
      " 20  company_txt        742 non-null    object \n",
      " 21  job_state          742 non-null    object \n",
      " 22  same_state         742 non-null    int64  \n",
      " 23  age                742 non-null    int64  \n",
      " 24  python_yn          742 non-null    int64  \n",
      " 25  R_yn               742 non-null    int64  \n",
      " 26  spark              742 non-null    int64  \n",
      " 27  aws                742 non-null    int64  \n",
      " 28  excel              742 non-null    int64  \n",
      " 29  job_simp           742 non-null    object \n",
      " 30  seniority          742 non-null    object \n",
      " 31  desc_len           742 non-null    int64  \n",
      " 32  num_comp           742 non-null    int64  \n",
      "dtypes: float64(2), int64(15), object(16)\n",
      "memory usage: 191.4+ KB\n"
     ]
    }
   ],
   "source": [
    "df = pd.read_csv(path)\n",
    "df.info()"
   ]
  },
  {
   "cell_type": "code",
   "execution_count": null,
   "metadata": {},
   "outputs": [],
   "source": []
  }
 ],
 "metadata": {
  "kernelspec": {
   "display_name": "Python 3",
   "language": "python",
   "name": "python3"
  },
  "language_info": {
   "codemirror_mode": {
    "name": "ipython",
    "version": 3
   },
   "file_extension": ".py",
   "mimetype": "text/x-python",
   "name": "python",
   "nbconvert_exporter": "python",
   "pygments_lexer": "ipython3",
   "version": "3.7.9"
  }
 },
 "nbformat": 4,
 "nbformat_minor": 4
}
