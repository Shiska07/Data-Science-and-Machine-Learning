{
 "cells": [
  {
   "cell_type": "code",
   "execution_count": 1289,
   "metadata": {},
   "outputs": [],
   "source": [
    "import numpy as np\n",
    "import pandas as pd\n",
    "import matplotlib.pyplot as plt\n",
    "import seaborn as sns\n",
    "\n",
    "%matplotlib inline"
   ]
  },
  {
   "cell_type": "code",
   "execution_count": 1290,
   "metadata": {},
   "outputs": [],
   "source": [
    "df_info = pd.read_csv('../Data/lending_club_info.csv')"
   ]
  },
  {
   "cell_type": "code",
   "execution_count": 1291,
   "metadata": {},
   "outputs": [
    {
     "data": {
      "text/html": [
       "<div>\n",
       "<style scoped>\n",
       "    .dataframe tbody tr th:only-of-type {\n",
       "        vertical-align: middle;\n",
       "    }\n",
       "\n",
       "    .dataframe tbody tr th {\n",
       "        vertical-align: top;\n",
       "    }\n",
       "\n",
       "    .dataframe thead th {\n",
       "        text-align: right;\n",
       "    }\n",
       "</style>\n",
       "<table border=\"1\" class=\"dataframe\">\n",
       "  <thead>\n",
       "    <tr style=\"text-align: right;\">\n",
       "      <th></th>\n",
       "      <th>LoanStatNew</th>\n",
       "      <th>Description</th>\n",
       "    </tr>\n",
       "  </thead>\n",
       "  <tbody>\n",
       "    <tr>\n",
       "      <th>0</th>\n",
       "      <td>loan_amnt</td>\n",
       "      <td>The listed amount of the loan applied for by t...</td>\n",
       "    </tr>\n",
       "    <tr>\n",
       "      <th>1</th>\n",
       "      <td>term</td>\n",
       "      <td>The number of payments on the loan. Values are...</td>\n",
       "    </tr>\n",
       "    <tr>\n",
       "      <th>2</th>\n",
       "      <td>int_rate</td>\n",
       "      <td>Interest Rate on the loan</td>\n",
       "    </tr>\n",
       "    <tr>\n",
       "      <th>3</th>\n",
       "      <td>installment</td>\n",
       "      <td>The monthly payment owed by the borrower if th...</td>\n",
       "    </tr>\n",
       "    <tr>\n",
       "      <th>4</th>\n",
       "      <td>grade</td>\n",
       "      <td>LC assigned loan grade</td>\n",
       "    </tr>\n",
       "  </tbody>\n",
       "</table>\n",
       "</div>"
      ],
      "text/plain": [
       "   LoanStatNew                                        Description\n",
       "0    loan_amnt  The listed amount of the loan applied for by t...\n",
       "1         term  The number of payments on the loan. Values are...\n",
       "2     int_rate                          Interest Rate on the loan\n",
       "3  installment  The monthly payment owed by the borrower if th...\n",
       "4        grade                             LC assigned loan grade"
      ]
     },
     "execution_count": 1291,
     "metadata": {},
     "output_type": "execute_result"
    }
   ],
   "source": [
    "df_info.head()"
   ]
  },
  {
   "cell_type": "code",
   "execution_count": 1292,
   "metadata": {},
   "outputs": [],
   "source": [
    "def feat_info(feat_name):\n",
    "    return df_info[df_info['LoanStatNew'] == feat_name]['Description']"
   ]
  },
  {
   "cell_type": "code",
   "execution_count": 1293,
   "metadata": {},
   "outputs": [],
   "source": [
    "df = pd.read_csv('Data/lending_club_loan_two.csv')"
   ]
  },
  {
   "cell_type": "code",
   "execution_count": 1294,
   "metadata": {
    "scrolled": false
   },
   "outputs": [
    {
     "data": {
      "text/html": [
       "<div>\n",
       "<style scoped>\n",
       "    .dataframe tbody tr th:only-of-type {\n",
       "        vertical-align: middle;\n",
       "    }\n",
       "\n",
       "    .dataframe tbody tr th {\n",
       "        vertical-align: top;\n",
       "    }\n",
       "\n",
       "    .dataframe thead th {\n",
       "        text-align: right;\n",
       "    }\n",
       "</style>\n",
       "<table border=\"1\" class=\"dataframe\">\n",
       "  <thead>\n",
       "    <tr style=\"text-align: right;\">\n",
       "      <th></th>\n",
       "      <th>loan_amnt</th>\n",
       "      <th>term</th>\n",
       "      <th>int_rate</th>\n",
       "      <th>installment</th>\n",
       "      <th>grade</th>\n",
       "      <th>sub_grade</th>\n",
       "      <th>emp_title</th>\n",
       "      <th>emp_length</th>\n",
       "      <th>home_ownership</th>\n",
       "      <th>annual_inc</th>\n",
       "      <th>...</th>\n",
       "      <th>open_acc</th>\n",
       "      <th>pub_rec</th>\n",
       "      <th>revol_bal</th>\n",
       "      <th>revol_util</th>\n",
       "      <th>total_acc</th>\n",
       "      <th>initial_list_status</th>\n",
       "      <th>application_type</th>\n",
       "      <th>mort_acc</th>\n",
       "      <th>pub_rec_bankruptcies</th>\n",
       "      <th>address</th>\n",
       "    </tr>\n",
       "  </thead>\n",
       "  <tbody>\n",
       "    <tr>\n",
       "      <th>0</th>\n",
       "      <td>10000.0</td>\n",
       "      <td>36 months</td>\n",
       "      <td>11.44</td>\n",
       "      <td>329.48</td>\n",
       "      <td>B</td>\n",
       "      <td>B4</td>\n",
       "      <td>Marketing</td>\n",
       "      <td>10+ years</td>\n",
       "      <td>RENT</td>\n",
       "      <td>117000.0</td>\n",
       "      <td>...</td>\n",
       "      <td>16.0</td>\n",
       "      <td>0.0</td>\n",
       "      <td>36369.0</td>\n",
       "      <td>41.8</td>\n",
       "      <td>25.0</td>\n",
       "      <td>w</td>\n",
       "      <td>INDIVIDUAL</td>\n",
       "      <td>0.0</td>\n",
       "      <td>0.0</td>\n",
       "      <td>0174 Michelle Gateway\\nMendozaberg, OK 22690</td>\n",
       "    </tr>\n",
       "    <tr>\n",
       "      <th>1</th>\n",
       "      <td>8000.0</td>\n",
       "      <td>36 months</td>\n",
       "      <td>11.99</td>\n",
       "      <td>265.68</td>\n",
       "      <td>B</td>\n",
       "      <td>B5</td>\n",
       "      <td>Credit analyst</td>\n",
       "      <td>4 years</td>\n",
       "      <td>MORTGAGE</td>\n",
       "      <td>65000.0</td>\n",
       "      <td>...</td>\n",
       "      <td>17.0</td>\n",
       "      <td>0.0</td>\n",
       "      <td>20131.0</td>\n",
       "      <td>53.3</td>\n",
       "      <td>27.0</td>\n",
       "      <td>f</td>\n",
       "      <td>INDIVIDUAL</td>\n",
       "      <td>3.0</td>\n",
       "      <td>0.0</td>\n",
       "      <td>1076 Carney Fort Apt. 347\\nLoganmouth, SD 05113</td>\n",
       "    </tr>\n",
       "    <tr>\n",
       "      <th>2</th>\n",
       "      <td>15600.0</td>\n",
       "      <td>36 months</td>\n",
       "      <td>10.49</td>\n",
       "      <td>506.97</td>\n",
       "      <td>B</td>\n",
       "      <td>B3</td>\n",
       "      <td>Statistician</td>\n",
       "      <td>&lt; 1 year</td>\n",
       "      <td>RENT</td>\n",
       "      <td>43057.0</td>\n",
       "      <td>...</td>\n",
       "      <td>13.0</td>\n",
       "      <td>0.0</td>\n",
       "      <td>11987.0</td>\n",
       "      <td>92.2</td>\n",
       "      <td>26.0</td>\n",
       "      <td>f</td>\n",
       "      <td>INDIVIDUAL</td>\n",
       "      <td>0.0</td>\n",
       "      <td>0.0</td>\n",
       "      <td>87025 Mark Dale Apt. 269\\nNew Sabrina, WV 05113</td>\n",
       "    </tr>\n",
       "    <tr>\n",
       "      <th>3</th>\n",
       "      <td>7200.0</td>\n",
       "      <td>36 months</td>\n",
       "      <td>6.49</td>\n",
       "      <td>220.65</td>\n",
       "      <td>A</td>\n",
       "      <td>A2</td>\n",
       "      <td>Client Advocate</td>\n",
       "      <td>6 years</td>\n",
       "      <td>RENT</td>\n",
       "      <td>54000.0</td>\n",
       "      <td>...</td>\n",
       "      <td>6.0</td>\n",
       "      <td>0.0</td>\n",
       "      <td>5472.0</td>\n",
       "      <td>21.5</td>\n",
       "      <td>13.0</td>\n",
       "      <td>f</td>\n",
       "      <td>INDIVIDUAL</td>\n",
       "      <td>0.0</td>\n",
       "      <td>0.0</td>\n",
       "      <td>823 Reid Ford\\nDelacruzside, MA 00813</td>\n",
       "    </tr>\n",
       "    <tr>\n",
       "      <th>4</th>\n",
       "      <td>24375.0</td>\n",
       "      <td>60 months</td>\n",
       "      <td>17.27</td>\n",
       "      <td>609.33</td>\n",
       "      <td>C</td>\n",
       "      <td>C5</td>\n",
       "      <td>Destiny Management Inc.</td>\n",
       "      <td>9 years</td>\n",
       "      <td>MORTGAGE</td>\n",
       "      <td>55000.0</td>\n",
       "      <td>...</td>\n",
       "      <td>13.0</td>\n",
       "      <td>0.0</td>\n",
       "      <td>24584.0</td>\n",
       "      <td>69.8</td>\n",
       "      <td>43.0</td>\n",
       "      <td>f</td>\n",
       "      <td>INDIVIDUAL</td>\n",
       "      <td>1.0</td>\n",
       "      <td>0.0</td>\n",
       "      <td>679 Luna Roads\\nGreggshire, VA 11650</td>\n",
       "    </tr>\n",
       "  </tbody>\n",
       "</table>\n",
       "<p>5 rows × 27 columns</p>\n",
       "</div>"
      ],
      "text/plain": [
       "   loan_amnt        term  int_rate  installment grade sub_grade  \\\n",
       "0    10000.0   36 months     11.44       329.48     B        B4   \n",
       "1     8000.0   36 months     11.99       265.68     B        B5   \n",
       "2    15600.0   36 months     10.49       506.97     B        B3   \n",
       "3     7200.0   36 months      6.49       220.65     A        A2   \n",
       "4    24375.0   60 months     17.27       609.33     C        C5   \n",
       "\n",
       "                 emp_title emp_length home_ownership  annual_inc  ...  \\\n",
       "0                Marketing  10+ years           RENT    117000.0  ...   \n",
       "1          Credit analyst     4 years       MORTGAGE     65000.0  ...   \n",
       "2             Statistician   < 1 year           RENT     43057.0  ...   \n",
       "3          Client Advocate    6 years           RENT     54000.0  ...   \n",
       "4  Destiny Management Inc.    9 years       MORTGAGE     55000.0  ...   \n",
       "\n",
       "  open_acc pub_rec revol_bal revol_util total_acc  initial_list_status  \\\n",
       "0     16.0     0.0   36369.0       41.8      25.0                    w   \n",
       "1     17.0     0.0   20131.0       53.3      27.0                    f   \n",
       "2     13.0     0.0   11987.0       92.2      26.0                    f   \n",
       "3      6.0     0.0    5472.0       21.5      13.0                    f   \n",
       "4     13.0     0.0   24584.0       69.8      43.0                    f   \n",
       "\n",
       "  application_type  mort_acc  pub_rec_bankruptcies  \\\n",
       "0       INDIVIDUAL       0.0                   0.0   \n",
       "1       INDIVIDUAL       3.0                   0.0   \n",
       "2       INDIVIDUAL       0.0                   0.0   \n",
       "3       INDIVIDUAL       0.0                   0.0   \n",
       "4       INDIVIDUAL       1.0                   0.0   \n",
       "\n",
       "                                           address  \n",
       "0     0174 Michelle Gateway\\nMendozaberg, OK 22690  \n",
       "1  1076 Carney Fort Apt. 347\\nLoganmouth, SD 05113  \n",
       "2  87025 Mark Dale Apt. 269\\nNew Sabrina, WV 05113  \n",
       "3            823 Reid Ford\\nDelacruzside, MA 00813  \n",
       "4             679 Luna Roads\\nGreggshire, VA 11650  \n",
       "\n",
       "[5 rows x 27 columns]"
      ]
     },
     "execution_count": 1294,
     "metadata": {},
     "output_type": "execute_result"
    }
   ],
   "source": [
    "df.head()"
   ]
  },
  {
   "cell_type": "code",
   "execution_count": 1295,
   "metadata": {
    "scrolled": false
   },
   "outputs": [
    {
     "name": "stdout",
     "output_type": "stream",
     "text": [
      "<class 'pandas.core.frame.DataFrame'>\n",
      "RangeIndex: 396030 entries, 0 to 396029\n",
      "Data columns (total 27 columns):\n",
      " #   Column                Non-Null Count   Dtype  \n",
      "---  ------                --------------   -----  \n",
      " 0   loan_amnt             396030 non-null  float64\n",
      " 1   term                  396030 non-null  object \n",
      " 2   int_rate              396030 non-null  float64\n",
      " 3   installment           396030 non-null  float64\n",
      " 4   grade                 396030 non-null  object \n",
      " 5   sub_grade             396030 non-null  object \n",
      " 6   emp_title             373103 non-null  object \n",
      " 7   emp_length            377729 non-null  object \n",
      " 8   home_ownership        396030 non-null  object \n",
      " 9   annual_inc            396030 non-null  float64\n",
      " 10  verification_status   396030 non-null  object \n",
      " 11  issue_d               396030 non-null  object \n",
      " 12  loan_status           396030 non-null  object \n",
      " 13  purpose               396030 non-null  object \n",
      " 14  title                 394275 non-null  object \n",
      " 15  dti                   396030 non-null  float64\n",
      " 16  earliest_cr_line      396030 non-null  object \n",
      " 17  open_acc              396030 non-null  float64\n",
      " 18  pub_rec               396030 non-null  float64\n",
      " 19  revol_bal             396030 non-null  float64\n",
      " 20  revol_util            395754 non-null  float64\n",
      " 21  total_acc             396030 non-null  float64\n",
      " 22  initial_list_status   396030 non-null  object \n",
      " 23  application_type      396030 non-null  object \n",
      " 24  mort_acc              358235 non-null  float64\n",
      " 25  pub_rec_bankruptcies  395495 non-null  float64\n",
      " 26  address               396030 non-null  object \n",
      "dtypes: float64(12), object(15)\n",
      "memory usage: 81.6+ MB\n"
     ]
    }
   ],
   "source": [
    "df.info()"
   ]
  },
  {
   "cell_type": "code",
   "execution_count": 1296,
   "metadata": {},
   "outputs": [
    {
     "data": {
      "text/plain": [
       "4    LC assigned loan grade\n",
       "Name: Description, dtype: object"
      ]
     },
     "execution_count": 1296,
     "metadata": {},
     "output_type": "execute_result"
    }
   ],
   "source": [
    "feat_info('grade')"
   ]
  },
  {
   "cell_type": "code",
   "execution_count": 1297,
   "metadata": {},
   "outputs": [
    {
     "data": {
      "text/html": [
       "<div>\n",
       "<style scoped>\n",
       "    .dataframe tbody tr th:only-of-type {\n",
       "        vertical-align: middle;\n",
       "    }\n",
       "\n",
       "    .dataframe tbody tr th {\n",
       "        vertical-align: top;\n",
       "    }\n",
       "\n",
       "    .dataframe thead th {\n",
       "        text-align: right;\n",
       "    }\n",
       "</style>\n",
       "<table border=\"1\" class=\"dataframe\">\n",
       "  <thead>\n",
       "    <tr style=\"text-align: right;\">\n",
       "      <th></th>\n",
       "      <th>count</th>\n",
       "      <th>mean</th>\n",
       "      <th>std</th>\n",
       "      <th>min</th>\n",
       "      <th>25%</th>\n",
       "      <th>50%</th>\n",
       "      <th>75%</th>\n",
       "      <th>max</th>\n",
       "    </tr>\n",
       "  </thead>\n",
       "  <tbody>\n",
       "    <tr>\n",
       "      <th>loan_amnt</th>\n",
       "      <td>396030.0</td>\n",
       "      <td>14113.888089</td>\n",
       "      <td>8357.441341</td>\n",
       "      <td>500.00</td>\n",
       "      <td>8000.00</td>\n",
       "      <td>12000.00</td>\n",
       "      <td>20000.00</td>\n",
       "      <td>40000.00</td>\n",
       "    </tr>\n",
       "    <tr>\n",
       "      <th>int_rate</th>\n",
       "      <td>396030.0</td>\n",
       "      <td>13.639400</td>\n",
       "      <td>4.472157</td>\n",
       "      <td>5.32</td>\n",
       "      <td>10.49</td>\n",
       "      <td>13.33</td>\n",
       "      <td>16.49</td>\n",
       "      <td>30.99</td>\n",
       "    </tr>\n",
       "    <tr>\n",
       "      <th>installment</th>\n",
       "      <td>396030.0</td>\n",
       "      <td>431.849698</td>\n",
       "      <td>250.727790</td>\n",
       "      <td>16.08</td>\n",
       "      <td>250.33</td>\n",
       "      <td>375.43</td>\n",
       "      <td>567.30</td>\n",
       "      <td>1533.81</td>\n",
       "    </tr>\n",
       "    <tr>\n",
       "      <th>annual_inc</th>\n",
       "      <td>396030.0</td>\n",
       "      <td>74203.175798</td>\n",
       "      <td>61637.621158</td>\n",
       "      <td>0.00</td>\n",
       "      <td>45000.00</td>\n",
       "      <td>64000.00</td>\n",
       "      <td>90000.00</td>\n",
       "      <td>8706582.00</td>\n",
       "    </tr>\n",
       "    <tr>\n",
       "      <th>dti</th>\n",
       "      <td>396030.0</td>\n",
       "      <td>17.379514</td>\n",
       "      <td>18.019092</td>\n",
       "      <td>0.00</td>\n",
       "      <td>11.28</td>\n",
       "      <td>16.91</td>\n",
       "      <td>22.98</td>\n",
       "      <td>9999.00</td>\n",
       "    </tr>\n",
       "    <tr>\n",
       "      <th>open_acc</th>\n",
       "      <td>396030.0</td>\n",
       "      <td>11.311153</td>\n",
       "      <td>5.137649</td>\n",
       "      <td>0.00</td>\n",
       "      <td>8.00</td>\n",
       "      <td>10.00</td>\n",
       "      <td>14.00</td>\n",
       "      <td>90.00</td>\n",
       "    </tr>\n",
       "    <tr>\n",
       "      <th>pub_rec</th>\n",
       "      <td>396030.0</td>\n",
       "      <td>0.178191</td>\n",
       "      <td>0.530671</td>\n",
       "      <td>0.00</td>\n",
       "      <td>0.00</td>\n",
       "      <td>0.00</td>\n",
       "      <td>0.00</td>\n",
       "      <td>86.00</td>\n",
       "    </tr>\n",
       "    <tr>\n",
       "      <th>revol_bal</th>\n",
       "      <td>396030.0</td>\n",
       "      <td>15844.539853</td>\n",
       "      <td>20591.836109</td>\n",
       "      <td>0.00</td>\n",
       "      <td>6025.00</td>\n",
       "      <td>11181.00</td>\n",
       "      <td>19620.00</td>\n",
       "      <td>1743266.00</td>\n",
       "    </tr>\n",
       "    <tr>\n",
       "      <th>revol_util</th>\n",
       "      <td>395754.0</td>\n",
       "      <td>53.791749</td>\n",
       "      <td>24.452193</td>\n",
       "      <td>0.00</td>\n",
       "      <td>35.80</td>\n",
       "      <td>54.80</td>\n",
       "      <td>72.90</td>\n",
       "      <td>892.30</td>\n",
       "    </tr>\n",
       "    <tr>\n",
       "      <th>total_acc</th>\n",
       "      <td>396030.0</td>\n",
       "      <td>25.414744</td>\n",
       "      <td>11.886991</td>\n",
       "      <td>2.00</td>\n",
       "      <td>17.00</td>\n",
       "      <td>24.00</td>\n",
       "      <td>32.00</td>\n",
       "      <td>151.00</td>\n",
       "    </tr>\n",
       "    <tr>\n",
       "      <th>mort_acc</th>\n",
       "      <td>358235.0</td>\n",
       "      <td>1.813991</td>\n",
       "      <td>2.147930</td>\n",
       "      <td>0.00</td>\n",
       "      <td>0.00</td>\n",
       "      <td>1.00</td>\n",
       "      <td>3.00</td>\n",
       "      <td>34.00</td>\n",
       "    </tr>\n",
       "    <tr>\n",
       "      <th>pub_rec_bankruptcies</th>\n",
       "      <td>395495.0</td>\n",
       "      <td>0.121648</td>\n",
       "      <td>0.356174</td>\n",
       "      <td>0.00</td>\n",
       "      <td>0.00</td>\n",
       "      <td>0.00</td>\n",
       "      <td>0.00</td>\n",
       "      <td>8.00</td>\n",
       "    </tr>\n",
       "  </tbody>\n",
       "</table>\n",
       "</div>"
      ],
      "text/plain": [
       "                         count          mean           std     min       25%  \\\n",
       "loan_amnt             396030.0  14113.888089   8357.441341  500.00   8000.00   \n",
       "int_rate              396030.0     13.639400      4.472157    5.32     10.49   \n",
       "installment           396030.0    431.849698    250.727790   16.08    250.33   \n",
       "annual_inc            396030.0  74203.175798  61637.621158    0.00  45000.00   \n",
       "dti                   396030.0     17.379514     18.019092    0.00     11.28   \n",
       "open_acc              396030.0     11.311153      5.137649    0.00      8.00   \n",
       "pub_rec               396030.0      0.178191      0.530671    0.00      0.00   \n",
       "revol_bal             396030.0  15844.539853  20591.836109    0.00   6025.00   \n",
       "revol_util            395754.0     53.791749     24.452193    0.00     35.80   \n",
       "total_acc             396030.0     25.414744     11.886991    2.00     17.00   \n",
       "mort_acc              358235.0      1.813991      2.147930    0.00      0.00   \n",
       "pub_rec_bankruptcies  395495.0      0.121648      0.356174    0.00      0.00   \n",
       "\n",
       "                           50%       75%         max  \n",
       "loan_amnt             12000.00  20000.00    40000.00  \n",
       "int_rate                 13.33     16.49       30.99  \n",
       "installment             375.43    567.30     1533.81  \n",
       "annual_inc            64000.00  90000.00  8706582.00  \n",
       "dti                      16.91     22.98     9999.00  \n",
       "open_acc                 10.00     14.00       90.00  \n",
       "pub_rec                   0.00      0.00       86.00  \n",
       "revol_bal             11181.00  19620.00  1743266.00  \n",
       "revol_util               54.80     72.90      892.30  \n",
       "total_acc                24.00     32.00      151.00  \n",
       "mort_acc                  1.00      3.00       34.00  \n",
       "pub_rec_bankruptcies      0.00      0.00        8.00  "
      ]
     },
     "execution_count": 1297,
     "metadata": {},
     "output_type": "execute_result"
    }
   ],
   "source": [
    "df.describe().transpose()"
   ]
  },
  {
   "cell_type": "markdown",
   "metadata": {},
   "source": [
    "DEALING WITH MISSING VALUES"
   ]
  },
  {
   "cell_type": "code",
   "execution_count": 1298,
   "metadata": {},
   "outputs": [
    {
     "data": {
      "text/plain": [
       "loan_amnt                   0\n",
       "term                        0\n",
       "int_rate                    0\n",
       "installment                 0\n",
       "grade                       0\n",
       "sub_grade                   0\n",
       "emp_title               22927\n",
       "emp_length              18301\n",
       "home_ownership              0\n",
       "annual_inc                  0\n",
       "verification_status         0\n",
       "issue_d                     0\n",
       "loan_status                 0\n",
       "purpose                     0\n",
       "title                    1755\n",
       "dti                         0\n",
       "earliest_cr_line            0\n",
       "open_acc                    0\n",
       "pub_rec                     0\n",
       "revol_bal                   0\n",
       "revol_util                276\n",
       "total_acc                   0\n",
       "initial_list_status         0\n",
       "application_type            0\n",
       "mort_acc                37795\n",
       "pub_rec_bankruptcies      535\n",
       "address                     0\n",
       "dtype: int64"
      ]
     },
     "execution_count": 1298,
     "metadata": {},
     "output_type": "execute_result"
    }
   ],
   "source": [
    "df.isnull().sum()"
   ]
  },
  {
   "cell_type": "code",
   "execution_count": 1299,
   "metadata": {},
   "outputs": [
    {
     "data": {
      "text/plain": [
       "Teacher                         4389\n",
       "Manager                         4250\n",
       "Registered Nurse                1856\n",
       "RN                              1846\n",
       "Supervisor                      1830\n",
       "                                ... \n",
       "general service tech               1\n",
       "cooler loader                      1\n",
       "Rancorn Wildman Architects         1\n",
       "Armstrong Group of Companies       1\n",
       "Motor Carrier Investigator         1\n",
       "Name: emp_title, Length: 173105, dtype: int64"
      ]
     },
     "execution_count": 1299,
     "metadata": {},
     "output_type": "execute_result"
    }
   ],
   "source": [
    "df['emp_title'].value_counts()"
   ]
  },
  {
   "cell_type": "code",
   "execution_count": 1300,
   "metadata": {},
   "outputs": [],
   "source": [
    "\n",
    "def get_num(length):\n",
    "    if type(length) == str:\n",
    "        words = length.split()\n",
    "        for word in words:\n",
    "            if word.isdigit():\n",
    "                return int(word)\n",
    "    else:\n",
    "        return length"
   ]
  },
  {
   "cell_type": "code",
   "execution_count": 1301,
   "metadata": {},
   "outputs": [],
   "source": [
    "df['emp_length'] = df['emp_length'].apply(get_num)"
   ]
  },
  {
   "cell_type": "code",
   "execution_count": 1302,
   "metadata": {},
   "outputs": [],
   "source": [
    "inc_by_emplen = df.groupby('emp_length')['annual_inc'].mean()"
   ]
  },
  {
   "cell_type": "code",
   "execution_count": 1303,
   "metadata": {},
   "outputs": [
    {
     "data": {
      "text/plain": [
       "69421.87970229312"
      ]
     },
     "execution_count": 1303,
     "metadata": {},
     "output_type": "execute_result"
    }
   ],
   "source": [
    "inc_by_emplen.iloc[0]"
   ]
  },
  {
   "cell_type": "code",
   "execution_count": 1304,
   "metadata": {},
   "outputs": [],
   "source": [
    "df['emp_length'].fillna(-1, inplace = True)"
   ]
  },
  {
   "cell_type": "code",
   "execution_count": 1305,
   "metadata": {},
   "outputs": [
    {
     "data": {
      "text/html": [
       "<div>\n",
       "<style scoped>\n",
       "    .dataframe tbody tr th:only-of-type {\n",
       "        vertical-align: middle;\n",
       "    }\n",
       "\n",
       "    .dataframe tbody tr th {\n",
       "        vertical-align: top;\n",
       "    }\n",
       "\n",
       "    .dataframe thead th {\n",
       "        text-align: right;\n",
       "    }\n",
       "</style>\n",
       "<table border=\"1\" class=\"dataframe\">\n",
       "  <thead>\n",
       "    <tr style=\"text-align: right;\">\n",
       "      <th></th>\n",
       "      <th>loan_amnt</th>\n",
       "      <th>term</th>\n",
       "      <th>int_rate</th>\n",
       "      <th>installment</th>\n",
       "      <th>grade</th>\n",
       "      <th>sub_grade</th>\n",
       "      <th>emp_title</th>\n",
       "      <th>emp_length</th>\n",
       "      <th>home_ownership</th>\n",
       "      <th>annual_inc</th>\n",
       "      <th>...</th>\n",
       "      <th>open_acc</th>\n",
       "      <th>pub_rec</th>\n",
       "      <th>revol_bal</th>\n",
       "      <th>revol_util</th>\n",
       "      <th>total_acc</th>\n",
       "      <th>initial_list_status</th>\n",
       "      <th>application_type</th>\n",
       "      <th>mort_acc</th>\n",
       "      <th>pub_rec_bankruptcies</th>\n",
       "      <th>address</th>\n",
       "    </tr>\n",
       "  </thead>\n",
       "  <tbody>\n",
       "    <tr>\n",
       "      <th>0</th>\n",
       "      <td>10000.0</td>\n",
       "      <td>36 months</td>\n",
       "      <td>11.44</td>\n",
       "      <td>329.48</td>\n",
       "      <td>B</td>\n",
       "      <td>B4</td>\n",
       "      <td>Marketing</td>\n",
       "      <td>-1.0</td>\n",
       "      <td>RENT</td>\n",
       "      <td>117000.0</td>\n",
       "      <td>...</td>\n",
       "      <td>16.0</td>\n",
       "      <td>0.0</td>\n",
       "      <td>36369.0</td>\n",
       "      <td>41.8</td>\n",
       "      <td>25.0</td>\n",
       "      <td>w</td>\n",
       "      <td>INDIVIDUAL</td>\n",
       "      <td>0.0</td>\n",
       "      <td>0.0</td>\n",
       "      <td>0174 Michelle Gateway\\nMendozaberg, OK 22690</td>\n",
       "    </tr>\n",
       "    <tr>\n",
       "      <th>1</th>\n",
       "      <td>8000.0</td>\n",
       "      <td>36 months</td>\n",
       "      <td>11.99</td>\n",
       "      <td>265.68</td>\n",
       "      <td>B</td>\n",
       "      <td>B5</td>\n",
       "      <td>Credit analyst</td>\n",
       "      <td>4.0</td>\n",
       "      <td>MORTGAGE</td>\n",
       "      <td>65000.0</td>\n",
       "      <td>...</td>\n",
       "      <td>17.0</td>\n",
       "      <td>0.0</td>\n",
       "      <td>20131.0</td>\n",
       "      <td>53.3</td>\n",
       "      <td>27.0</td>\n",
       "      <td>f</td>\n",
       "      <td>INDIVIDUAL</td>\n",
       "      <td>3.0</td>\n",
       "      <td>0.0</td>\n",
       "      <td>1076 Carney Fort Apt. 347\\nLoganmouth, SD 05113</td>\n",
       "    </tr>\n",
       "    <tr>\n",
       "      <th>2</th>\n",
       "      <td>15600.0</td>\n",
       "      <td>36 months</td>\n",
       "      <td>10.49</td>\n",
       "      <td>506.97</td>\n",
       "      <td>B</td>\n",
       "      <td>B3</td>\n",
       "      <td>Statistician</td>\n",
       "      <td>1.0</td>\n",
       "      <td>RENT</td>\n",
       "      <td>43057.0</td>\n",
       "      <td>...</td>\n",
       "      <td>13.0</td>\n",
       "      <td>0.0</td>\n",
       "      <td>11987.0</td>\n",
       "      <td>92.2</td>\n",
       "      <td>26.0</td>\n",
       "      <td>f</td>\n",
       "      <td>INDIVIDUAL</td>\n",
       "      <td>0.0</td>\n",
       "      <td>0.0</td>\n",
       "      <td>87025 Mark Dale Apt. 269\\nNew Sabrina, WV 05113</td>\n",
       "    </tr>\n",
       "    <tr>\n",
       "      <th>3</th>\n",
       "      <td>7200.0</td>\n",
       "      <td>36 months</td>\n",
       "      <td>6.49</td>\n",
       "      <td>220.65</td>\n",
       "      <td>A</td>\n",
       "      <td>A2</td>\n",
       "      <td>Client Advocate</td>\n",
       "      <td>6.0</td>\n",
       "      <td>RENT</td>\n",
       "      <td>54000.0</td>\n",
       "      <td>...</td>\n",
       "      <td>6.0</td>\n",
       "      <td>0.0</td>\n",
       "      <td>5472.0</td>\n",
       "      <td>21.5</td>\n",
       "      <td>13.0</td>\n",
       "      <td>f</td>\n",
       "      <td>INDIVIDUAL</td>\n",
       "      <td>0.0</td>\n",
       "      <td>0.0</td>\n",
       "      <td>823 Reid Ford\\nDelacruzside, MA 00813</td>\n",
       "    </tr>\n",
       "    <tr>\n",
       "      <th>4</th>\n",
       "      <td>24375.0</td>\n",
       "      <td>60 months</td>\n",
       "      <td>17.27</td>\n",
       "      <td>609.33</td>\n",
       "      <td>C</td>\n",
       "      <td>C5</td>\n",
       "      <td>Destiny Management Inc.</td>\n",
       "      <td>9.0</td>\n",
       "      <td>MORTGAGE</td>\n",
       "      <td>55000.0</td>\n",
       "      <td>...</td>\n",
       "      <td>13.0</td>\n",
       "      <td>0.0</td>\n",
       "      <td>24584.0</td>\n",
       "      <td>69.8</td>\n",
       "      <td>43.0</td>\n",
       "      <td>f</td>\n",
       "      <td>INDIVIDUAL</td>\n",
       "      <td>1.0</td>\n",
       "      <td>0.0</td>\n",
       "      <td>679 Luna Roads\\nGreggshire, VA 11650</td>\n",
       "    </tr>\n",
       "  </tbody>\n",
       "</table>\n",
       "<p>5 rows × 27 columns</p>\n",
       "</div>"
      ],
      "text/plain": [
       "   loan_amnt        term  int_rate  installment grade sub_grade  \\\n",
       "0    10000.0   36 months     11.44       329.48     B        B4   \n",
       "1     8000.0   36 months     11.99       265.68     B        B5   \n",
       "2    15600.0   36 months     10.49       506.97     B        B3   \n",
       "3     7200.0   36 months      6.49       220.65     A        A2   \n",
       "4    24375.0   60 months     17.27       609.33     C        C5   \n",
       "\n",
       "                 emp_title  emp_length home_ownership  annual_inc  ...  \\\n",
       "0                Marketing        -1.0           RENT    117000.0  ...   \n",
       "1          Credit analyst          4.0       MORTGAGE     65000.0  ...   \n",
       "2             Statistician         1.0           RENT     43057.0  ...   \n",
       "3          Client Advocate         6.0           RENT     54000.0  ...   \n",
       "4  Destiny Management Inc.         9.0       MORTGAGE     55000.0  ...   \n",
       "\n",
       "  open_acc pub_rec revol_bal revol_util total_acc  initial_list_status  \\\n",
       "0     16.0     0.0   36369.0       41.8      25.0                    w   \n",
       "1     17.0     0.0   20131.0       53.3      27.0                    f   \n",
       "2     13.0     0.0   11987.0       92.2      26.0                    f   \n",
       "3      6.0     0.0    5472.0       21.5      13.0                    f   \n",
       "4     13.0     0.0   24584.0       69.8      43.0                    f   \n",
       "\n",
       "  application_type  mort_acc  pub_rec_bankruptcies  \\\n",
       "0       INDIVIDUAL       0.0                   0.0   \n",
       "1       INDIVIDUAL       3.0                   0.0   \n",
       "2       INDIVIDUAL       0.0                   0.0   \n",
       "3       INDIVIDUAL       0.0                   0.0   \n",
       "4       INDIVIDUAL       1.0                   0.0   \n",
       "\n",
       "                                           address  \n",
       "0     0174 Michelle Gateway\\nMendozaberg, OK 22690  \n",
       "1  1076 Carney Fort Apt. 347\\nLoganmouth, SD 05113  \n",
       "2  87025 Mark Dale Apt. 269\\nNew Sabrina, WV 05113  \n",
       "3            823 Reid Ford\\nDelacruzside, MA 00813  \n",
       "4             679 Luna Roads\\nGreggshire, VA 11650  \n",
       "\n",
       "[5 rows x 27 columns]"
      ]
     },
     "execution_count": 1305,
     "metadata": {},
     "output_type": "execute_result"
    }
   ],
   "source": [
    "df.head()"
   ]
  },
  {
   "cell_type": "code",
   "execution_count": 1306,
   "metadata": {},
   "outputs": [],
   "source": [
    "\n",
    "def get_len(df_data):\n",
    "    length = df_data[0]\n",
    "    income = df_data[1]\n",
    "    if length == -1:\n",
    "        if income < inc_by_emplen.iloc[0]:\n",
    "            return 1\n",
    "        elif income < inc_by_emplen.iloc[1]:\n",
    "            return 2\n",
    "        elif income < inc_by_emplen.iloc[2]:\n",
    "            return 3\n",
    "        elif income < inc_by_emplen.iloc[3]:\n",
    "            return 4\n",
    "        elif income < inc_by_emplen.iloc[4]:\n",
    "            return 5\n",
    "        elif income < inc_by_emplen.iloc[5]:\n",
    "            return 6\n",
    "        elif income < inc_by_emplen.iloc[6]:\n",
    "            return 7\n",
    "        elif income < inc_by_emplen.iloc[7]:\n",
    "            return 8\n",
    "        elif income < inc_by_emplen.iloc[8]:\n",
    "            return 9\n",
    "        else:\n",
    "            return 10\n",
    "    else:\n",
    "        return length"
   ]
  },
  {
   "cell_type": "code",
   "execution_count": 1307,
   "metadata": {},
   "outputs": [],
   "source": [
    "df['length_emp'] = df[['emp_length','annual_inc']].apply(get_len, axis = 1)"
   ]
  },
  {
   "cell_type": "code",
   "execution_count": 1308,
   "metadata": {},
   "outputs": [
    {
     "data": {
      "text/html": [
       "<div>\n",
       "<style scoped>\n",
       "    .dataframe tbody tr th:only-of-type {\n",
       "        vertical-align: middle;\n",
       "    }\n",
       "\n",
       "    .dataframe tbody tr th {\n",
       "        vertical-align: top;\n",
       "    }\n",
       "\n",
       "    .dataframe thead th {\n",
       "        text-align: right;\n",
       "    }\n",
       "</style>\n",
       "<table border=\"1\" class=\"dataframe\">\n",
       "  <thead>\n",
       "    <tr style=\"text-align: right;\">\n",
       "      <th></th>\n",
       "      <th>loan_amnt</th>\n",
       "      <th>term</th>\n",
       "      <th>int_rate</th>\n",
       "      <th>installment</th>\n",
       "      <th>grade</th>\n",
       "      <th>sub_grade</th>\n",
       "      <th>emp_title</th>\n",
       "      <th>emp_length</th>\n",
       "      <th>home_ownership</th>\n",
       "      <th>annual_inc</th>\n",
       "      <th>...</th>\n",
       "      <th>open_acc</th>\n",
       "      <th>pub_rec</th>\n",
       "      <th>revol_bal</th>\n",
       "      <th>revol_util</th>\n",
       "      <th>total_acc</th>\n",
       "      <th>initial_list_status</th>\n",
       "      <th>application_type</th>\n",
       "      <th>mort_acc</th>\n",
       "      <th>pub_rec_bankruptcies</th>\n",
       "      <th>length_emp</th>\n",
       "    </tr>\n",
       "    <tr>\n",
       "      <th>address</th>\n",
       "      <th></th>\n",
       "      <th></th>\n",
       "      <th></th>\n",
       "      <th></th>\n",
       "      <th></th>\n",
       "      <th></th>\n",
       "      <th></th>\n",
       "      <th></th>\n",
       "      <th></th>\n",
       "      <th></th>\n",
       "      <th></th>\n",
       "      <th></th>\n",
       "      <th></th>\n",
       "      <th></th>\n",
       "      <th></th>\n",
       "      <th></th>\n",
       "      <th></th>\n",
       "      <th></th>\n",
       "      <th></th>\n",
       "      <th></th>\n",
       "      <th></th>\n",
       "    </tr>\n",
       "  </thead>\n",
       "  <tbody>\n",
       "    <tr>\n",
       "      <th>000 Adam Station Apt. 329\\nAshleyberg, AZ 22690</th>\n",
       "      <td>1</td>\n",
       "      <td>1</td>\n",
       "      <td>1</td>\n",
       "      <td>1</td>\n",
       "      <td>1</td>\n",
       "      <td>1</td>\n",
       "      <td>1</td>\n",
       "      <td>1</td>\n",
       "      <td>1</td>\n",
       "      <td>1</td>\n",
       "      <td>...</td>\n",
       "      <td>1</td>\n",
       "      <td>1</td>\n",
       "      <td>1</td>\n",
       "      <td>1</td>\n",
       "      <td>1</td>\n",
       "      <td>1</td>\n",
       "      <td>1</td>\n",
       "      <td>1</td>\n",
       "      <td>1</td>\n",
       "      <td>1</td>\n",
       "    </tr>\n",
       "    <tr>\n",
       "      <th>000 Adrian Cliffs\\nRandyton, LA 22690</th>\n",
       "      <td>1</td>\n",
       "      <td>1</td>\n",
       "      <td>1</td>\n",
       "      <td>1</td>\n",
       "      <td>1</td>\n",
       "      <td>1</td>\n",
       "      <td>1</td>\n",
       "      <td>1</td>\n",
       "      <td>1</td>\n",
       "      <td>1</td>\n",
       "      <td>...</td>\n",
       "      <td>1</td>\n",
       "      <td>1</td>\n",
       "      <td>1</td>\n",
       "      <td>1</td>\n",
       "      <td>1</td>\n",
       "      <td>1</td>\n",
       "      <td>1</td>\n",
       "      <td>1</td>\n",
       "      <td>1</td>\n",
       "      <td>1</td>\n",
       "    </tr>\n",
       "    <tr>\n",
       "      <th>000 Alexandria Street\\nPort Richard, FL 22690</th>\n",
       "      <td>1</td>\n",
       "      <td>1</td>\n",
       "      <td>1</td>\n",
       "      <td>1</td>\n",
       "      <td>1</td>\n",
       "      <td>1</td>\n",
       "      <td>0</td>\n",
       "      <td>1</td>\n",
       "      <td>1</td>\n",
       "      <td>1</td>\n",
       "      <td>...</td>\n",
       "      <td>1</td>\n",
       "      <td>1</td>\n",
       "      <td>1</td>\n",
       "      <td>1</td>\n",
       "      <td>1</td>\n",
       "      <td>1</td>\n",
       "      <td>1</td>\n",
       "      <td>0</td>\n",
       "      <td>1</td>\n",
       "      <td>1</td>\n",
       "    </tr>\n",
       "    <tr>\n",
       "      <th>000 Amber Court\\nLake Pamelatown, IN 00813</th>\n",
       "      <td>1</td>\n",
       "      <td>1</td>\n",
       "      <td>1</td>\n",
       "      <td>1</td>\n",
       "      <td>1</td>\n",
       "      <td>1</td>\n",
       "      <td>1</td>\n",
       "      <td>1</td>\n",
       "      <td>1</td>\n",
       "      <td>1</td>\n",
       "      <td>...</td>\n",
       "      <td>1</td>\n",
       "      <td>1</td>\n",
       "      <td>1</td>\n",
       "      <td>1</td>\n",
       "      <td>1</td>\n",
       "      <td>1</td>\n",
       "      <td>1</td>\n",
       "      <td>1</td>\n",
       "      <td>1</td>\n",
       "      <td>1</td>\n",
       "    </tr>\n",
       "    <tr>\n",
       "      <th>000 Amy Pines Suite 498\\nSouth Susan, ND 22690</th>\n",
       "      <td>1</td>\n",
       "      <td>1</td>\n",
       "      <td>1</td>\n",
       "      <td>1</td>\n",
       "      <td>1</td>\n",
       "      <td>1</td>\n",
       "      <td>1</td>\n",
       "      <td>1</td>\n",
       "      <td>1</td>\n",
       "      <td>1</td>\n",
       "      <td>...</td>\n",
       "      <td>1</td>\n",
       "      <td>1</td>\n",
       "      <td>1</td>\n",
       "      <td>1</td>\n",
       "      <td>1</td>\n",
       "      <td>1</td>\n",
       "      <td>1</td>\n",
       "      <td>1</td>\n",
       "      <td>1</td>\n",
       "      <td>1</td>\n",
       "    </tr>\n",
       "    <tr>\n",
       "      <th>...</th>\n",
       "      <td>...</td>\n",
       "      <td>...</td>\n",
       "      <td>...</td>\n",
       "      <td>...</td>\n",
       "      <td>...</td>\n",
       "      <td>...</td>\n",
       "      <td>...</td>\n",
       "      <td>...</td>\n",
       "      <td>...</td>\n",
       "      <td>...</td>\n",
       "      <td>...</td>\n",
       "      <td>...</td>\n",
       "      <td>...</td>\n",
       "      <td>...</td>\n",
       "      <td>...</td>\n",
       "      <td>...</td>\n",
       "      <td>...</td>\n",
       "      <td>...</td>\n",
       "      <td>...</td>\n",
       "      <td>...</td>\n",
       "      <td>...</td>\n",
       "    </tr>\n",
       "    <tr>\n",
       "      <th>Unit 9995 Box 6277\\nDPO AE 48052</th>\n",
       "      <td>1</td>\n",
       "      <td>1</td>\n",
       "      <td>1</td>\n",
       "      <td>1</td>\n",
       "      <td>1</td>\n",
       "      <td>1</td>\n",
       "      <td>1</td>\n",
       "      <td>1</td>\n",
       "      <td>1</td>\n",
       "      <td>1</td>\n",
       "      <td>...</td>\n",
       "      <td>1</td>\n",
       "      <td>1</td>\n",
       "      <td>1</td>\n",
       "      <td>1</td>\n",
       "      <td>1</td>\n",
       "      <td>1</td>\n",
       "      <td>1</td>\n",
       "      <td>1</td>\n",
       "      <td>1</td>\n",
       "      <td>1</td>\n",
       "    </tr>\n",
       "    <tr>\n",
       "      <th>Unit 9995 Box 8360\\nDPO AP 00813</th>\n",
       "      <td>1</td>\n",
       "      <td>1</td>\n",
       "      <td>1</td>\n",
       "      <td>1</td>\n",
       "      <td>1</td>\n",
       "      <td>1</td>\n",
       "      <td>1</td>\n",
       "      <td>1</td>\n",
       "      <td>1</td>\n",
       "      <td>1</td>\n",
       "      <td>...</td>\n",
       "      <td>1</td>\n",
       "      <td>1</td>\n",
       "      <td>1</td>\n",
       "      <td>1</td>\n",
       "      <td>1</td>\n",
       "      <td>1</td>\n",
       "      <td>1</td>\n",
       "      <td>1</td>\n",
       "      <td>1</td>\n",
       "      <td>1</td>\n",
       "    </tr>\n",
       "    <tr>\n",
       "      <th>Unit 9996 Box 9255\\nDPO AP 05113</th>\n",
       "      <td>1</td>\n",
       "      <td>1</td>\n",
       "      <td>1</td>\n",
       "      <td>1</td>\n",
       "      <td>1</td>\n",
       "      <td>1</td>\n",
       "      <td>1</td>\n",
       "      <td>1</td>\n",
       "      <td>1</td>\n",
       "      <td>1</td>\n",
       "      <td>...</td>\n",
       "      <td>1</td>\n",
       "      <td>1</td>\n",
       "      <td>1</td>\n",
       "      <td>1</td>\n",
       "      <td>1</td>\n",
       "      <td>1</td>\n",
       "      <td>1</td>\n",
       "      <td>1</td>\n",
       "      <td>1</td>\n",
       "      <td>1</td>\n",
       "    </tr>\n",
       "    <tr>\n",
       "      <th>Unit 9997 Box 3228\\nDPO AA 11650</th>\n",
       "      <td>1</td>\n",
       "      <td>1</td>\n",
       "      <td>1</td>\n",
       "      <td>1</td>\n",
       "      <td>1</td>\n",
       "      <td>1</td>\n",
       "      <td>1</td>\n",
       "      <td>1</td>\n",
       "      <td>1</td>\n",
       "      <td>1</td>\n",
       "      <td>...</td>\n",
       "      <td>1</td>\n",
       "      <td>1</td>\n",
       "      <td>1</td>\n",
       "      <td>1</td>\n",
       "      <td>1</td>\n",
       "      <td>1</td>\n",
       "      <td>1</td>\n",
       "      <td>1</td>\n",
       "      <td>1</td>\n",
       "      <td>1</td>\n",
       "    </tr>\n",
       "    <tr>\n",
       "      <th>Unit 9997 Box 3834\\nDPO AP 86630</th>\n",
       "      <td>1</td>\n",
       "      <td>1</td>\n",
       "      <td>1</td>\n",
       "      <td>1</td>\n",
       "      <td>1</td>\n",
       "      <td>1</td>\n",
       "      <td>1</td>\n",
       "      <td>1</td>\n",
       "      <td>1</td>\n",
       "      <td>1</td>\n",
       "      <td>...</td>\n",
       "      <td>1</td>\n",
       "      <td>1</td>\n",
       "      <td>1</td>\n",
       "      <td>1</td>\n",
       "      <td>1</td>\n",
       "      <td>1</td>\n",
       "      <td>1</td>\n",
       "      <td>1</td>\n",
       "      <td>1</td>\n",
       "      <td>1</td>\n",
       "    </tr>\n",
       "  </tbody>\n",
       "</table>\n",
       "<p>393700 rows × 27 columns</p>\n",
       "</div>"
      ],
      "text/plain": [
       "                                                 loan_amnt  term  int_rate  \\\n",
       "address                                                                      \n",
       "000 Adam Station Apt. 329\\nAshleyberg, AZ 22690          1     1         1   \n",
       "000 Adrian Cliffs\\nRandyton, LA 22690                    1     1         1   \n",
       "000 Alexandria Street\\nPort Richard, FL 22690            1     1         1   \n",
       "000 Amber Court\\nLake Pamelatown, IN 00813               1     1         1   \n",
       "000 Amy Pines Suite 498\\nSouth Susan, ND 22690           1     1         1   \n",
       "...                                                    ...   ...       ...   \n",
       "Unit 9995 Box 6277\\nDPO AE 48052                         1     1         1   \n",
       "Unit 9995 Box 8360\\nDPO AP 00813                         1     1         1   \n",
       "Unit 9996 Box 9255\\nDPO AP 05113                         1     1         1   \n",
       "Unit 9997 Box 3228\\nDPO AA 11650                         1     1         1   \n",
       "Unit 9997 Box 3834\\nDPO AP 86630                         1     1         1   \n",
       "\n",
       "                                                 installment  grade  \\\n",
       "address                                                               \n",
       "000 Adam Station Apt. 329\\nAshleyberg, AZ 22690            1      1   \n",
       "000 Adrian Cliffs\\nRandyton, LA 22690                      1      1   \n",
       "000 Alexandria Street\\nPort Richard, FL 22690              1      1   \n",
       "000 Amber Court\\nLake Pamelatown, IN 00813                 1      1   \n",
       "000 Amy Pines Suite 498\\nSouth Susan, ND 22690             1      1   \n",
       "...                                                      ...    ...   \n",
       "Unit 9995 Box 6277\\nDPO AE 48052                           1      1   \n",
       "Unit 9995 Box 8360\\nDPO AP 00813                           1      1   \n",
       "Unit 9996 Box 9255\\nDPO AP 05113                           1      1   \n",
       "Unit 9997 Box 3228\\nDPO AA 11650                           1      1   \n",
       "Unit 9997 Box 3834\\nDPO AP 86630                           1      1   \n",
       "\n",
       "                                                 sub_grade  emp_title  \\\n",
       "address                                                                 \n",
       "000 Adam Station Apt. 329\\nAshleyberg, AZ 22690          1          1   \n",
       "000 Adrian Cliffs\\nRandyton, LA 22690                    1          1   \n",
       "000 Alexandria Street\\nPort Richard, FL 22690            1          0   \n",
       "000 Amber Court\\nLake Pamelatown, IN 00813               1          1   \n",
       "000 Amy Pines Suite 498\\nSouth Susan, ND 22690           1          1   \n",
       "...                                                    ...        ...   \n",
       "Unit 9995 Box 6277\\nDPO AE 48052                         1          1   \n",
       "Unit 9995 Box 8360\\nDPO AP 00813                         1          1   \n",
       "Unit 9996 Box 9255\\nDPO AP 05113                         1          1   \n",
       "Unit 9997 Box 3228\\nDPO AA 11650                         1          1   \n",
       "Unit 9997 Box 3834\\nDPO AP 86630                         1          1   \n",
       "\n",
       "                                                 emp_length  home_ownership  \\\n",
       "address                                                                       \n",
       "000 Adam Station Apt. 329\\nAshleyberg, AZ 22690           1               1   \n",
       "000 Adrian Cliffs\\nRandyton, LA 22690                     1               1   \n",
       "000 Alexandria Street\\nPort Richard, FL 22690             1               1   \n",
       "000 Amber Court\\nLake Pamelatown, IN 00813                1               1   \n",
       "000 Amy Pines Suite 498\\nSouth Susan, ND 22690            1               1   \n",
       "...                                                     ...             ...   \n",
       "Unit 9995 Box 6277\\nDPO AE 48052                          1               1   \n",
       "Unit 9995 Box 8360\\nDPO AP 00813                          1               1   \n",
       "Unit 9996 Box 9255\\nDPO AP 05113                          1               1   \n",
       "Unit 9997 Box 3228\\nDPO AA 11650                          1               1   \n",
       "Unit 9997 Box 3834\\nDPO AP 86630                          1               1   \n",
       "\n",
       "                                                 annual_inc  ...  open_acc  \\\n",
       "address                                                      ...             \n",
       "000 Adam Station Apt. 329\\nAshleyberg, AZ 22690           1  ...         1   \n",
       "000 Adrian Cliffs\\nRandyton, LA 22690                     1  ...         1   \n",
       "000 Alexandria Street\\nPort Richard, FL 22690             1  ...         1   \n",
       "000 Amber Court\\nLake Pamelatown, IN 00813                1  ...         1   \n",
       "000 Amy Pines Suite 498\\nSouth Susan, ND 22690            1  ...         1   \n",
       "...                                                     ...  ...       ...   \n",
       "Unit 9995 Box 6277\\nDPO AE 48052                          1  ...         1   \n",
       "Unit 9995 Box 8360\\nDPO AP 00813                          1  ...         1   \n",
       "Unit 9996 Box 9255\\nDPO AP 05113                          1  ...         1   \n",
       "Unit 9997 Box 3228\\nDPO AA 11650                          1  ...         1   \n",
       "Unit 9997 Box 3834\\nDPO AP 86630                          1  ...         1   \n",
       "\n",
       "                                                 pub_rec  revol_bal  \\\n",
       "address                                                               \n",
       "000 Adam Station Apt. 329\\nAshleyberg, AZ 22690        1          1   \n",
       "000 Adrian Cliffs\\nRandyton, LA 22690                  1          1   \n",
       "000 Alexandria Street\\nPort Richard, FL 22690          1          1   \n",
       "000 Amber Court\\nLake Pamelatown, IN 00813             1          1   \n",
       "000 Amy Pines Suite 498\\nSouth Susan, ND 22690         1          1   \n",
       "...                                                  ...        ...   \n",
       "Unit 9995 Box 6277\\nDPO AE 48052                       1          1   \n",
       "Unit 9995 Box 8360\\nDPO AP 00813                       1          1   \n",
       "Unit 9996 Box 9255\\nDPO AP 05113                       1          1   \n",
       "Unit 9997 Box 3228\\nDPO AA 11650                       1          1   \n",
       "Unit 9997 Box 3834\\nDPO AP 86630                       1          1   \n",
       "\n",
       "                                                 revol_util  total_acc  \\\n",
       "address                                                                  \n",
       "000 Adam Station Apt. 329\\nAshleyberg, AZ 22690           1          1   \n",
       "000 Adrian Cliffs\\nRandyton, LA 22690                     1          1   \n",
       "000 Alexandria Street\\nPort Richard, FL 22690             1          1   \n",
       "000 Amber Court\\nLake Pamelatown, IN 00813                1          1   \n",
       "000 Amy Pines Suite 498\\nSouth Susan, ND 22690            1          1   \n",
       "...                                                     ...        ...   \n",
       "Unit 9995 Box 6277\\nDPO AE 48052                          1          1   \n",
       "Unit 9995 Box 8360\\nDPO AP 00813                          1          1   \n",
       "Unit 9996 Box 9255\\nDPO AP 05113                          1          1   \n",
       "Unit 9997 Box 3228\\nDPO AA 11650                          1          1   \n",
       "Unit 9997 Box 3834\\nDPO AP 86630                          1          1   \n",
       "\n",
       "                                                 initial_list_status  \\\n",
       "address                                                                \n",
       "000 Adam Station Apt. 329\\nAshleyberg, AZ 22690                    1   \n",
       "000 Adrian Cliffs\\nRandyton, LA 22690                              1   \n",
       "000 Alexandria Street\\nPort Richard, FL 22690                      1   \n",
       "000 Amber Court\\nLake Pamelatown, IN 00813                         1   \n",
       "000 Amy Pines Suite 498\\nSouth Susan, ND 22690                     1   \n",
       "...                                                              ...   \n",
       "Unit 9995 Box 6277\\nDPO AE 48052                                   1   \n",
       "Unit 9995 Box 8360\\nDPO AP 00813                                   1   \n",
       "Unit 9996 Box 9255\\nDPO AP 05113                                   1   \n",
       "Unit 9997 Box 3228\\nDPO AA 11650                                   1   \n",
       "Unit 9997 Box 3834\\nDPO AP 86630                                   1   \n",
       "\n",
       "                                                 application_type  mort_acc  \\\n",
       "address                                                                       \n",
       "000 Adam Station Apt. 329\\nAshleyberg, AZ 22690                 1         1   \n",
       "000 Adrian Cliffs\\nRandyton, LA 22690                           1         1   \n",
       "000 Alexandria Street\\nPort Richard, FL 22690                   1         0   \n",
       "000 Amber Court\\nLake Pamelatown, IN 00813                      1         1   \n",
       "000 Amy Pines Suite 498\\nSouth Susan, ND 22690                  1         1   \n",
       "...                                                           ...       ...   \n",
       "Unit 9995 Box 6277\\nDPO AE 48052                                1         1   \n",
       "Unit 9995 Box 8360\\nDPO AP 00813                                1         1   \n",
       "Unit 9996 Box 9255\\nDPO AP 05113                                1         1   \n",
       "Unit 9997 Box 3228\\nDPO AA 11650                                1         1   \n",
       "Unit 9997 Box 3834\\nDPO AP 86630                                1         1   \n",
       "\n",
       "                                                 pub_rec_bankruptcies  \\\n",
       "address                                                                 \n",
       "000 Adam Station Apt. 329\\nAshleyberg, AZ 22690                     1   \n",
       "000 Adrian Cliffs\\nRandyton, LA 22690                               1   \n",
       "000 Alexandria Street\\nPort Richard, FL 22690                       1   \n",
       "000 Amber Court\\nLake Pamelatown, IN 00813                          1   \n",
       "000 Amy Pines Suite 498\\nSouth Susan, ND 22690                      1   \n",
       "...                                                               ...   \n",
       "Unit 9995 Box 6277\\nDPO AE 48052                                    1   \n",
       "Unit 9995 Box 8360\\nDPO AP 00813                                    1   \n",
       "Unit 9996 Box 9255\\nDPO AP 05113                                    1   \n",
       "Unit 9997 Box 3228\\nDPO AA 11650                                    1   \n",
       "Unit 9997 Box 3834\\nDPO AP 86630                                    1   \n",
       "\n",
       "                                                 length_emp  \n",
       "address                                                      \n",
       "000 Adam Station Apt. 329\\nAshleyberg, AZ 22690           1  \n",
       "000 Adrian Cliffs\\nRandyton, LA 22690                     1  \n",
       "000 Alexandria Street\\nPort Richard, FL 22690             1  \n",
       "000 Amber Court\\nLake Pamelatown, IN 00813                1  \n",
       "000 Amy Pines Suite 498\\nSouth Susan, ND 22690            1  \n",
       "...                                                     ...  \n",
       "Unit 9995 Box 6277\\nDPO AE 48052                          1  \n",
       "Unit 9995 Box 8360\\nDPO AP 00813                          1  \n",
       "Unit 9996 Box 9255\\nDPO AP 05113                          1  \n",
       "Unit 9997 Box 3228\\nDPO AA 11650                          1  \n",
       "Unit 9997 Box 3834\\nDPO AP 86630                          1  \n",
       "\n",
       "[393700 rows x 27 columns]"
      ]
     },
     "execution_count": 1308,
     "metadata": {},
     "output_type": "execute_result"
    }
   ],
   "source": [
    "df.groupby('address').count()"
   ]
  },
  {
   "cell_type": "code",
   "execution_count": 1309,
   "metadata": {},
   "outputs": [],
   "source": [
    "#Since there are too many titles,emp_titles they will be dropped. emp_length was used and will be dropped\n",
    "df.drop(['emp_title','emp_length','title'], inplace = True, axis = 1)"
   ]
  },
  {
   "cell_type": "code",
   "execution_count": 1310,
   "metadata": {},
   "outputs": [],
   "source": [
    "def get_term(term):\n",
    "    for i in term.split():\n",
    "        if i.isdigit():\n",
    "            return int(i)\n",
    "    return term"
   ]
  },
  {
   "cell_type": "code",
   "execution_count": 1311,
   "metadata": {},
   "outputs": [],
   "source": [
    "df['term'] = df['term']. apply(get_term)"
   ]
  },
  {
   "cell_type": "code",
   "execution_count": 1312,
   "metadata": {},
   "outputs": [
    {
     "data": {
      "text/html": [
       "<div>\n",
       "<style scoped>\n",
       "    .dataframe tbody tr th:only-of-type {\n",
       "        vertical-align: middle;\n",
       "    }\n",
       "\n",
       "    .dataframe tbody tr th {\n",
       "        vertical-align: top;\n",
       "    }\n",
       "\n",
       "    .dataframe thead th {\n",
       "        text-align: right;\n",
       "    }\n",
       "</style>\n",
       "<table border=\"1\" class=\"dataframe\">\n",
       "  <thead>\n",
       "    <tr style=\"text-align: right;\">\n",
       "      <th></th>\n",
       "      <th>loan_amnt</th>\n",
       "      <th>term</th>\n",
       "      <th>int_rate</th>\n",
       "      <th>installment</th>\n",
       "      <th>grade</th>\n",
       "      <th>sub_grade</th>\n",
       "      <th>home_ownership</th>\n",
       "      <th>annual_inc</th>\n",
       "      <th>verification_status</th>\n",
       "      <th>issue_d</th>\n",
       "      <th>...</th>\n",
       "      <th>pub_rec</th>\n",
       "      <th>revol_bal</th>\n",
       "      <th>revol_util</th>\n",
       "      <th>total_acc</th>\n",
       "      <th>initial_list_status</th>\n",
       "      <th>application_type</th>\n",
       "      <th>mort_acc</th>\n",
       "      <th>pub_rec_bankruptcies</th>\n",
       "      <th>address</th>\n",
       "      <th>length_emp</th>\n",
       "    </tr>\n",
       "    <tr>\n",
       "      <th>purpose</th>\n",
       "      <th></th>\n",
       "      <th></th>\n",
       "      <th></th>\n",
       "      <th></th>\n",
       "      <th></th>\n",
       "      <th></th>\n",
       "      <th></th>\n",
       "      <th></th>\n",
       "      <th></th>\n",
       "      <th></th>\n",
       "      <th></th>\n",
       "      <th></th>\n",
       "      <th></th>\n",
       "      <th></th>\n",
       "      <th></th>\n",
       "      <th></th>\n",
       "      <th></th>\n",
       "      <th></th>\n",
       "      <th></th>\n",
       "      <th></th>\n",
       "      <th></th>\n",
       "    </tr>\n",
       "  </thead>\n",
       "  <tbody>\n",
       "    <tr>\n",
       "      <th>car</th>\n",
       "      <td>4697</td>\n",
       "      <td>4697</td>\n",
       "      <td>4697</td>\n",
       "      <td>4697</td>\n",
       "      <td>4697</td>\n",
       "      <td>4697</td>\n",
       "      <td>4697</td>\n",
       "      <td>4697</td>\n",
       "      <td>4697</td>\n",
       "      <td>4697</td>\n",
       "      <td>...</td>\n",
       "      <td>4697</td>\n",
       "      <td>4697</td>\n",
       "      <td>4687</td>\n",
       "      <td>4697</td>\n",
       "      <td>4697</td>\n",
       "      <td>4697</td>\n",
       "      <td>3288</td>\n",
       "      <td>4680</td>\n",
       "      <td>4697</td>\n",
       "      <td>4697</td>\n",
       "    </tr>\n",
       "    <tr>\n",
       "      <th>credit_card</th>\n",
       "      <td>83019</td>\n",
       "      <td>83019</td>\n",
       "      <td>83019</td>\n",
       "      <td>83019</td>\n",
       "      <td>83019</td>\n",
       "      <td>83019</td>\n",
       "      <td>83019</td>\n",
       "      <td>83019</td>\n",
       "      <td>83019</td>\n",
       "      <td>83019</td>\n",
       "      <td>...</td>\n",
       "      <td>83019</td>\n",
       "      <td>83019</td>\n",
       "      <td>82999</td>\n",
       "      <td>83019</td>\n",
       "      <td>83019</td>\n",
       "      <td>83019</td>\n",
       "      <td>77699</td>\n",
       "      <td>82943</td>\n",
       "      <td>83019</td>\n",
       "      <td>83019</td>\n",
       "    </tr>\n",
       "    <tr>\n",
       "      <th>debt_consolidation</th>\n",
       "      <td>234507</td>\n",
       "      <td>234507</td>\n",
       "      <td>234507</td>\n",
       "      <td>234507</td>\n",
       "      <td>234507</td>\n",
       "      <td>234507</td>\n",
       "      <td>234507</td>\n",
       "      <td>234507</td>\n",
       "      <td>234507</td>\n",
       "      <td>234507</td>\n",
       "      <td>...</td>\n",
       "      <td>234507</td>\n",
       "      <td>234507</td>\n",
       "      <td>234384</td>\n",
       "      <td>234507</td>\n",
       "      <td>234507</td>\n",
       "      <td>234507</td>\n",
       "      <td>216474</td>\n",
       "      <td>234292</td>\n",
       "      <td>234507</td>\n",
       "      <td>234507</td>\n",
       "    </tr>\n",
       "    <tr>\n",
       "      <th>educational</th>\n",
       "      <td>257</td>\n",
       "      <td>257</td>\n",
       "      <td>257</td>\n",
       "      <td>257</td>\n",
       "      <td>257</td>\n",
       "      <td>257</td>\n",
       "      <td>257</td>\n",
       "      <td>257</td>\n",
       "      <td>257</td>\n",
       "      <td>257</td>\n",
       "      <td>...</td>\n",
       "      <td>257</td>\n",
       "      <td>257</td>\n",
       "      <td>255</td>\n",
       "      <td>257</td>\n",
       "      <td>257</td>\n",
       "      <td>257</td>\n",
       "      <td>1</td>\n",
       "      <td>248</td>\n",
       "      <td>257</td>\n",
       "      <td>257</td>\n",
       "    </tr>\n",
       "    <tr>\n",
       "      <th>home_improvement</th>\n",
       "      <td>24030</td>\n",
       "      <td>24030</td>\n",
       "      <td>24030</td>\n",
       "      <td>24030</td>\n",
       "      <td>24030</td>\n",
       "      <td>24030</td>\n",
       "      <td>24030</td>\n",
       "      <td>24030</td>\n",
       "      <td>24030</td>\n",
       "      <td>24030</td>\n",
       "      <td>...</td>\n",
       "      <td>24030</td>\n",
       "      <td>24030</td>\n",
       "      <td>23997</td>\n",
       "      <td>24030</td>\n",
       "      <td>24030</td>\n",
       "      <td>24030</td>\n",
       "      <td>21353</td>\n",
       "      <td>23994</td>\n",
       "      <td>24030</td>\n",
       "      <td>24030</td>\n",
       "    </tr>\n",
       "    <tr>\n",
       "      <th>house</th>\n",
       "      <td>2201</td>\n",
       "      <td>2201</td>\n",
       "      <td>2201</td>\n",
       "      <td>2201</td>\n",
       "      <td>2201</td>\n",
       "      <td>2201</td>\n",
       "      <td>2201</td>\n",
       "      <td>2201</td>\n",
       "      <td>2201</td>\n",
       "      <td>2201</td>\n",
       "      <td>...</td>\n",
       "      <td>2201</td>\n",
       "      <td>2201</td>\n",
       "      <td>2201</td>\n",
       "      <td>2201</td>\n",
       "      <td>2201</td>\n",
       "      <td>2201</td>\n",
       "      <td>1819</td>\n",
       "      <td>2197</td>\n",
       "      <td>2201</td>\n",
       "      <td>2201</td>\n",
       "    </tr>\n",
       "    <tr>\n",
       "      <th>major_purchase</th>\n",
       "      <td>8790</td>\n",
       "      <td>8790</td>\n",
       "      <td>8790</td>\n",
       "      <td>8790</td>\n",
       "      <td>8790</td>\n",
       "      <td>8790</td>\n",
       "      <td>8790</td>\n",
       "      <td>8790</td>\n",
       "      <td>8790</td>\n",
       "      <td>8790</td>\n",
       "      <td>...</td>\n",
       "      <td>8790</td>\n",
       "      <td>8790</td>\n",
       "      <td>8769</td>\n",
       "      <td>8790</td>\n",
       "      <td>8790</td>\n",
       "      <td>8790</td>\n",
       "      <td>6853</td>\n",
       "      <td>8777</td>\n",
       "      <td>8790</td>\n",
       "      <td>8790</td>\n",
       "    </tr>\n",
       "    <tr>\n",
       "      <th>medical</th>\n",
       "      <td>4196</td>\n",
       "      <td>4196</td>\n",
       "      <td>4196</td>\n",
       "      <td>4196</td>\n",
       "      <td>4196</td>\n",
       "      <td>4196</td>\n",
       "      <td>4196</td>\n",
       "      <td>4196</td>\n",
       "      <td>4196</td>\n",
       "      <td>4196</td>\n",
       "      <td>...</td>\n",
       "      <td>4196</td>\n",
       "      <td>4196</td>\n",
       "      <td>4183</td>\n",
       "      <td>4196</td>\n",
       "      <td>4196</td>\n",
       "      <td>4196</td>\n",
       "      <td>3570</td>\n",
       "      <td>4188</td>\n",
       "      <td>4196</td>\n",
       "      <td>4196</td>\n",
       "    </tr>\n",
       "    <tr>\n",
       "      <th>moving</th>\n",
       "      <td>2854</td>\n",
       "      <td>2854</td>\n",
       "      <td>2854</td>\n",
       "      <td>2854</td>\n",
       "      <td>2854</td>\n",
       "      <td>2854</td>\n",
       "      <td>2854</td>\n",
       "      <td>2854</td>\n",
       "      <td>2854</td>\n",
       "      <td>2854</td>\n",
       "      <td>...</td>\n",
       "      <td>2854</td>\n",
       "      <td>2854</td>\n",
       "      <td>2850</td>\n",
       "      <td>2854</td>\n",
       "      <td>2854</td>\n",
       "      <td>2854</td>\n",
       "      <td>2344</td>\n",
       "      <td>2846</td>\n",
       "      <td>2854</td>\n",
       "      <td>2854</td>\n",
       "    </tr>\n",
       "    <tr>\n",
       "      <th>other</th>\n",
       "      <td>21185</td>\n",
       "      <td>21185</td>\n",
       "      <td>21185</td>\n",
       "      <td>21185</td>\n",
       "      <td>21185</td>\n",
       "      <td>21185</td>\n",
       "      <td>21185</td>\n",
       "      <td>21185</td>\n",
       "      <td>21185</td>\n",
       "      <td>21185</td>\n",
       "      <td>...</td>\n",
       "      <td>21185</td>\n",
       "      <td>21185</td>\n",
       "      <td>21146</td>\n",
       "      <td>21185</td>\n",
       "      <td>21185</td>\n",
       "      <td>21185</td>\n",
       "      <td>17570</td>\n",
       "      <td>21098</td>\n",
       "      <td>21185</td>\n",
       "      <td>21185</td>\n",
       "    </tr>\n",
       "    <tr>\n",
       "      <th>renewable_energy</th>\n",
       "      <td>329</td>\n",
       "      <td>329</td>\n",
       "      <td>329</td>\n",
       "      <td>329</td>\n",
       "      <td>329</td>\n",
       "      <td>329</td>\n",
       "      <td>329</td>\n",
       "      <td>329</td>\n",
       "      <td>329</td>\n",
       "      <td>329</td>\n",
       "      <td>...</td>\n",
       "      <td>329</td>\n",
       "      <td>329</td>\n",
       "      <td>329</td>\n",
       "      <td>329</td>\n",
       "      <td>329</td>\n",
       "      <td>329</td>\n",
       "      <td>241</td>\n",
       "      <td>329</td>\n",
       "      <td>329</td>\n",
       "      <td>329</td>\n",
       "    </tr>\n",
       "    <tr>\n",
       "      <th>small_business</th>\n",
       "      <td>5701</td>\n",
       "      <td>5701</td>\n",
       "      <td>5701</td>\n",
       "      <td>5701</td>\n",
       "      <td>5701</td>\n",
       "      <td>5701</td>\n",
       "      <td>5701</td>\n",
       "      <td>5701</td>\n",
       "      <td>5701</td>\n",
       "      <td>5701</td>\n",
       "      <td>...</td>\n",
       "      <td>5701</td>\n",
       "      <td>5701</td>\n",
       "      <td>5697</td>\n",
       "      <td>5701</td>\n",
       "      <td>5701</td>\n",
       "      <td>5701</td>\n",
       "      <td>3943</td>\n",
       "      <td>5660</td>\n",
       "      <td>5701</td>\n",
       "      <td>5701</td>\n",
       "    </tr>\n",
       "    <tr>\n",
       "      <th>vacation</th>\n",
       "      <td>2452</td>\n",
       "      <td>2452</td>\n",
       "      <td>2452</td>\n",
       "      <td>2452</td>\n",
       "      <td>2452</td>\n",
       "      <td>2452</td>\n",
       "      <td>2452</td>\n",
       "      <td>2452</td>\n",
       "      <td>2452</td>\n",
       "      <td>2452</td>\n",
       "      <td>...</td>\n",
       "      <td>2452</td>\n",
       "      <td>2452</td>\n",
       "      <td>2447</td>\n",
       "      <td>2452</td>\n",
       "      <td>2452</td>\n",
       "      <td>2452</td>\n",
       "      <td>2123</td>\n",
       "      <td>2447</td>\n",
       "      <td>2452</td>\n",
       "      <td>2452</td>\n",
       "    </tr>\n",
       "    <tr>\n",
       "      <th>wedding</th>\n",
       "      <td>1812</td>\n",
       "      <td>1812</td>\n",
       "      <td>1812</td>\n",
       "      <td>1812</td>\n",
       "      <td>1812</td>\n",
       "      <td>1812</td>\n",
       "      <td>1812</td>\n",
       "      <td>1812</td>\n",
       "      <td>1812</td>\n",
       "      <td>1812</td>\n",
       "      <td>...</td>\n",
       "      <td>1812</td>\n",
       "      <td>1812</td>\n",
       "      <td>1810</td>\n",
       "      <td>1812</td>\n",
       "      <td>1812</td>\n",
       "      <td>1812</td>\n",
       "      <td>957</td>\n",
       "      <td>1796</td>\n",
       "      <td>1812</td>\n",
       "      <td>1812</td>\n",
       "    </tr>\n",
       "  </tbody>\n",
       "</table>\n",
       "<p>14 rows × 24 columns</p>\n",
       "</div>"
      ],
      "text/plain": [
       "                    loan_amnt    term  int_rate  installment   grade  \\\n",
       "purpose                                                                \n",
       "car                      4697    4697      4697         4697    4697   \n",
       "credit_card             83019   83019     83019        83019   83019   \n",
       "debt_consolidation     234507  234507    234507       234507  234507   \n",
       "educational               257     257       257          257     257   \n",
       "home_improvement        24030   24030     24030        24030   24030   \n",
       "house                    2201    2201      2201         2201    2201   \n",
       "major_purchase           8790    8790      8790         8790    8790   \n",
       "medical                  4196    4196      4196         4196    4196   \n",
       "moving                   2854    2854      2854         2854    2854   \n",
       "other                   21185   21185     21185        21185   21185   \n",
       "renewable_energy          329     329       329          329     329   \n",
       "small_business           5701    5701      5701         5701    5701   \n",
       "vacation                 2452    2452      2452         2452    2452   \n",
       "wedding                  1812    1812      1812         1812    1812   \n",
       "\n",
       "                    sub_grade  home_ownership  annual_inc  \\\n",
       "purpose                                                     \n",
       "car                      4697            4697        4697   \n",
       "credit_card             83019           83019       83019   \n",
       "debt_consolidation     234507          234507      234507   \n",
       "educational               257             257         257   \n",
       "home_improvement        24030           24030       24030   \n",
       "house                    2201            2201        2201   \n",
       "major_purchase           8790            8790        8790   \n",
       "medical                  4196            4196        4196   \n",
       "moving                   2854            2854        2854   \n",
       "other                   21185           21185       21185   \n",
       "renewable_energy          329             329         329   \n",
       "small_business           5701            5701        5701   \n",
       "vacation                 2452            2452        2452   \n",
       "wedding                  1812            1812        1812   \n",
       "\n",
       "                    verification_status  issue_d  ...  pub_rec  revol_bal  \\\n",
       "purpose                                           ...                       \n",
       "car                                4697     4697  ...     4697       4697   \n",
       "credit_card                       83019    83019  ...    83019      83019   \n",
       "debt_consolidation               234507   234507  ...   234507     234507   \n",
       "educational                         257      257  ...      257        257   \n",
       "home_improvement                  24030    24030  ...    24030      24030   \n",
       "house                              2201     2201  ...     2201       2201   \n",
       "major_purchase                     8790     8790  ...     8790       8790   \n",
       "medical                            4196     4196  ...     4196       4196   \n",
       "moving                             2854     2854  ...     2854       2854   \n",
       "other                             21185    21185  ...    21185      21185   \n",
       "renewable_energy                    329      329  ...      329        329   \n",
       "small_business                     5701     5701  ...     5701       5701   \n",
       "vacation                           2452     2452  ...     2452       2452   \n",
       "wedding                            1812     1812  ...     1812       1812   \n",
       "\n",
       "                    revol_util  total_acc  initial_list_status  \\\n",
       "purpose                                                          \n",
       "car                       4687       4697                 4697   \n",
       "credit_card              82999      83019                83019   \n",
       "debt_consolidation      234384     234507               234507   \n",
       "educational                255        257                  257   \n",
       "home_improvement         23997      24030                24030   \n",
       "house                     2201       2201                 2201   \n",
       "major_purchase            8769       8790                 8790   \n",
       "medical                   4183       4196                 4196   \n",
       "moving                    2850       2854                 2854   \n",
       "other                    21146      21185                21185   \n",
       "renewable_energy           329        329                  329   \n",
       "small_business            5697       5701                 5701   \n",
       "vacation                  2447       2452                 2452   \n",
       "wedding                   1810       1812                 1812   \n",
       "\n",
       "                    application_type  mort_acc  pub_rec_bankruptcies  address  \\\n",
       "purpose                                                                         \n",
       "car                             4697      3288                  4680     4697   \n",
       "credit_card                    83019     77699                 82943    83019   \n",
       "debt_consolidation            234507    216474                234292   234507   \n",
       "educational                      257         1                   248      257   \n",
       "home_improvement               24030     21353                 23994    24030   \n",
       "house                           2201      1819                  2197     2201   \n",
       "major_purchase                  8790      6853                  8777     8790   \n",
       "medical                         4196      3570                  4188     4196   \n",
       "moving                          2854      2344                  2846     2854   \n",
       "other                          21185     17570                 21098    21185   \n",
       "renewable_energy                 329       241                   329      329   \n",
       "small_business                  5701      3943                  5660     5701   \n",
       "vacation                        2452      2123                  2447     2452   \n",
       "wedding                         1812       957                  1796     1812   \n",
       "\n",
       "                    length_emp  \n",
       "purpose                         \n",
       "car                       4697  \n",
       "credit_card              83019  \n",
       "debt_consolidation      234507  \n",
       "educational                257  \n",
       "home_improvement         24030  \n",
       "house                     2201  \n",
       "major_purchase            8790  \n",
       "medical                   4196  \n",
       "moving                    2854  \n",
       "other                    21185  \n",
       "renewable_energy           329  \n",
       "small_business            5701  \n",
       "vacation                  2452  \n",
       "wedding                   1812  \n",
       "\n",
       "[14 rows x 24 columns]"
      ]
     },
     "execution_count": 1312,
     "metadata": {},
     "output_type": "execute_result"
    }
   ],
   "source": [
    "df.groupby('purpose').count()"
   ]
  },
  {
   "cell_type": "code",
   "execution_count": 1313,
   "metadata": {},
   "outputs": [],
   "source": [
    "df['zip'] = df['address'].apply(lambda x : (x[-5:]))"
   ]
  },
  {
   "cell_type": "code",
   "execution_count": 1314,
   "metadata": {},
   "outputs": [],
   "source": [
    "df['state'] = df['address'].apply(lambda x : (x[-8:-6]))"
   ]
  },
  {
   "cell_type": "code",
   "execution_count": 1315,
   "metadata": {},
   "outputs": [
    {
     "data": {
      "text/plain": [
       "Index(['loan_amnt', 'term', 'int_rate', 'installment', 'grade', 'sub_grade',\n",
       "       'home_ownership', 'annual_inc', 'verification_status', 'issue_d',\n",
       "       'loan_status', 'purpose', 'dti', 'earliest_cr_line', 'open_acc',\n",
       "       'pub_rec', 'revol_bal', 'revol_util', 'total_acc',\n",
       "       'initial_list_status', 'application_type', 'mort_acc',\n",
       "       'pub_rec_bankruptcies', 'address', 'length_emp', 'zip', 'state'],\n",
       "      dtype='object')"
      ]
     },
     "execution_count": 1315,
     "metadata": {},
     "output_type": "execute_result"
    }
   ],
   "source": [
    "df.columns"
   ]
  },
  {
   "cell_type": "code",
   "execution_count": 1316,
   "metadata": {},
   "outputs": [
    {
     "data": {
      "text/plain": [
       "26    Number of mortgage accounts.\n",
       "Name: Description, dtype: object"
      ]
     },
     "execution_count": 1316,
     "metadata": {},
     "output_type": "execute_result"
    }
   ],
   "source": [
    "feat_info('mort_acc')"
   ]
  },
  {
   "cell_type": "code",
   "execution_count": 1317,
   "metadata": {},
   "outputs": [
    {
     "data": {
      "text/plain": [
       "17    A ratio calculated using the borrower’s total ...\n",
       "Name: Description, dtype: object"
      ]
     },
     "execution_count": 1317,
     "metadata": {},
     "output_type": "execute_result"
    }
   ],
   "source": [
    "feat_info('dti')"
   ]
  },
  {
   "cell_type": "code",
   "execution_count": 1318,
   "metadata": {},
   "outputs": [],
   "source": [
    "#df.groupby('earliest_cr_line').count()"
   ]
  },
  {
   "cell_type": "code",
   "execution_count": 1319,
   "metadata": {},
   "outputs": [
    {
     "data": {
      "text/plain": [
       "str"
      ]
     },
     "execution_count": 1319,
     "metadata": {},
     "output_type": "execute_result"
    }
   ],
   "source": [
    "type(df['earliest_cr_line'][0])"
   ]
  },
  {
   "cell_type": "code",
   "execution_count": 1320,
   "metadata": {},
   "outputs": [
    {
     "data": {
      "text/plain": [
       "\"\\ndef get_crline(crline):\\n    for i in crline.split('-'):\\n        if i.isdigit():\\n            return i\\n    else:\\n        return crline\\n\\n\""
      ]
     },
     "execution_count": 1320,
     "metadata": {},
     "output_type": "execute_result"
    }
   ],
   "source": [
    "'''\n",
    "def get_crline(crline):\n",
    "    for i in crline.split('-'):\n",
    "        if i.isdigit():\n",
    "            return i\n",
    "    else:\n",
    "        return crline\n",
    "\n",
    "'''\n"
   ]
  },
  {
   "cell_type": "code",
   "execution_count": 1321,
   "metadata": {},
   "outputs": [
    {
     "data": {
      "text/plain": [
       "\"\\ndf['earliest_cr_year'] = df['earliest_cr_line'].apply(get_crline)\\ndf.drop('earliest_cr_line', axis = 1, inplace = True)\\n\""
      ]
     },
     "execution_count": 1321,
     "metadata": {},
     "output_type": "execute_result"
    }
   ],
   "source": [
    "'''\n",
    "df['earliest_cr_year'] = df['earliest_cr_line'].apply(get_crline)\n",
    "df.drop('earliest_cr_line', axis = 1, inplace = True)\n",
    "'''\n"
   ]
  },
  {
   "cell_type": "code",
   "execution_count": 1322,
   "metadata": {},
   "outputs": [],
   "source": [
    "#df.groupby('earliest_cr_year').count()"
   ]
  },
  {
   "cell_type": "code",
   "execution_count": 1323,
   "metadata": {},
   "outputs": [],
   "source": [
    "df.drop('earliest_cr_line', axis = 1, inplace = True)"
   ]
  },
  {
   "cell_type": "code",
   "execution_count": 1324,
   "metadata": {},
   "outputs": [
    {
     "data": {
      "text/plain": [
       "53.79174863677853"
      ]
     },
     "execution_count": 1324,
     "metadata": {},
     "output_type": "execute_result"
    }
   ],
   "source": [
    "df['revol_util'].mean()"
   ]
  },
  {
   "cell_type": "code",
   "execution_count": 1325,
   "metadata": {},
   "outputs": [],
   "source": [
    "df['revol_util'].fillna(df['revol_util'].mean(), inplace = True)"
   ]
  },
  {
   "cell_type": "code",
   "execution_count": 1326,
   "metadata": {},
   "outputs": [
    {
     "data": {
      "text/plain": [
       "int_rate               -0.082583\n",
       "dti                    -0.025439\n",
       "revol_util              0.007510\n",
       "pub_rec                 0.011552\n",
       "pub_rec_bankruptcies    0.027239\n",
       "term                    0.096220\n",
       "open_acc                0.109205\n",
       "installment             0.193694\n",
       "revol_bal               0.194925\n",
       "length_emp              0.203449\n",
       "loan_amnt               0.222315\n",
       "annual_inc              0.236320\n",
       "total_acc               0.381072\n",
       "mort_acc                1.000000\n",
       "Name: mort_acc, dtype: float64"
      ]
     },
     "execution_count": 1326,
     "metadata": {},
     "output_type": "execute_result"
    }
   ],
   "source": [
    "#let's see what has the highest correlation with number of mortrage account\n",
    "df.corr()['mort_acc'].sort_values()"
   ]
  },
  {
   "cell_type": "code",
   "execution_count": 1327,
   "metadata": {},
   "outputs": [
    {
     "data": {
      "text/html": [
       "<div>\n",
       "<style scoped>\n",
       "    .dataframe tbody tr th:only-of-type {\n",
       "        vertical-align: middle;\n",
       "    }\n",
       "\n",
       "    .dataframe tbody tr th {\n",
       "        vertical-align: top;\n",
       "    }\n",
       "\n",
       "    .dataframe thead th {\n",
       "        text-align: right;\n",
       "    }\n",
       "</style>\n",
       "<table border=\"1\" class=\"dataframe\">\n",
       "  <thead>\n",
       "    <tr style=\"text-align: right;\">\n",
       "      <th></th>\n",
       "      <th>mort_acc</th>\n",
       "      <th>total_acc</th>\n",
       "    </tr>\n",
       "  </thead>\n",
       "  <tbody>\n",
       "    <tr>\n",
       "      <th>0</th>\n",
       "      <td>0.0</td>\n",
       "      <td>25.0</td>\n",
       "    </tr>\n",
       "    <tr>\n",
       "      <th>1</th>\n",
       "      <td>3.0</td>\n",
       "      <td>27.0</td>\n",
       "    </tr>\n",
       "    <tr>\n",
       "      <th>2</th>\n",
       "      <td>0.0</td>\n",
       "      <td>26.0</td>\n",
       "    </tr>\n",
       "    <tr>\n",
       "      <th>3</th>\n",
       "      <td>0.0</td>\n",
       "      <td>13.0</td>\n",
       "    </tr>\n",
       "    <tr>\n",
       "      <th>4</th>\n",
       "      <td>1.0</td>\n",
       "      <td>43.0</td>\n",
       "    </tr>\n",
       "  </tbody>\n",
       "</table>\n",
       "</div>"
      ],
      "text/plain": [
       "   mort_acc  total_acc\n",
       "0       0.0       25.0\n",
       "1       3.0       27.0\n",
       "2       0.0       26.0\n",
       "3       0.0       13.0\n",
       "4       1.0       43.0"
      ]
     },
     "execution_count": 1327,
     "metadata": {},
     "output_type": "execute_result"
    }
   ],
   "source": [
    "df[['mort_acc','total_acc']].head()"
   ]
  },
  {
   "cell_type": "code",
   "execution_count": 1328,
   "metadata": {},
   "outputs": [
    {
     "data": {
      "text/plain": [
       "<seaborn.axisgrid.FacetGrid at 0x2dbecefc088>"
      ]
     },
     "execution_count": 1328,
     "metadata": {},
     "output_type": "execute_result"
    },
    {
     "data": {
      "image/png": "[encoded data removed]",
      "text/plain": [
       "<Figure size 360x360 with 1 Axes>"
      ]
     },
     "metadata": {
      "needs_background": "light"
     },
     "output_type": "display_data"
    }
   ],
   "source": [
    "sns.lmplot(x = 'total_acc', y = 'mort_acc', data = df)"
   ]
  },
  {
   "cell_type": "code",
   "execution_count": 1329,
   "metadata": {},
   "outputs": [
    {
     "data": {
      "text/plain": [
       "37795"
      ]
     },
     "execution_count": 1329,
     "metadata": {},
     "output_type": "execute_result"
    }
   ],
   "source": [
    "df['mort_acc'].isnull().sum()"
   ]
  },
  {
   "cell_type": "code",
   "execution_count": 1330,
   "metadata": {},
   "outputs": [],
   "source": [
    "df['mort_acc'].fillna(-1, inplace = True)"
   ]
  },
  {
   "cell_type": "code",
   "execution_count": 1331,
   "metadata": {},
   "outputs": [],
   "source": [
    "\n",
    "'''\n",
    "The slope of the regression line is roughly 10/140 = 0.07. \n",
    "We can derive the relation that mort_acc = 0.07*total_acc\n",
    "'''\n",
    "\n",
    "def get_mort(df_data2):\n",
    "    mort = df_data2[0]\n",
    "    total = df_data2[1]\n",
    "    if mort == -1:\n",
    "        return np.ceil(total*0.07)\n",
    "    else:\n",
    "        return mort"
   ]
  },
  {
   "cell_type": "code",
   "execution_count": 1332,
   "metadata": {},
   "outputs": [],
   "source": [
    "df['mort_acc'] = df[['mort_acc','total_acc']].apply(get_mort, axis = 1)"
   ]
  },
  {
   "cell_type": "code",
   "execution_count": 1333,
   "metadata": {},
   "outputs": [
    {
     "data": {
      "text/plain": [
       "loan_amnt                 0\n",
       "term                      0\n",
       "int_rate                  0\n",
       "installment               0\n",
       "grade                     0\n",
       "sub_grade                 0\n",
       "home_ownership            0\n",
       "annual_inc                0\n",
       "verification_status       0\n",
       "issue_d                   0\n",
       "loan_status               0\n",
       "purpose                   0\n",
       "dti                       0\n",
       "open_acc                  0\n",
       "pub_rec                   0\n",
       "revol_bal                 0\n",
       "revol_util                0\n",
       "total_acc                 0\n",
       "initial_list_status       0\n",
       "application_type          0\n",
       "mort_acc                  0\n",
       "pub_rec_bankruptcies    535\n",
       "address                   0\n",
       "length_emp                0\n",
       "zip                       0\n",
       "state                     0\n",
       "dtype: int64"
      ]
     },
     "execution_count": 1333,
     "metadata": {},
     "output_type": "execute_result"
    }
   ],
   "source": [
    "df.isnull().sum()"
   ]
  },
  {
   "cell_type": "code",
   "execution_count": 1334,
   "metadata": {},
   "outputs": [
    {
     "data": {
      "text/plain": [
       "revol_bal              -0.124532\n",
       "loan_amnt              -0.106539\n",
       "installment            -0.098628\n",
       "revol_util             -0.086745\n",
       "annual_inc             -0.050162\n",
       "length_emp             -0.036893\n",
       "open_acc               -0.027732\n",
       "term                   -0.019826\n",
       "dti                    -0.014558\n",
       "mort_acc                0.023969\n",
       "total_acc               0.042035\n",
       "int_rate                0.057450\n",
       "pub_rec                 0.699408\n",
       "pub_rec_bankruptcies    1.000000\n",
       "Name: pub_rec_bankruptcies, dtype: float64"
      ]
     },
     "execution_count": 1334,
     "metadata": {},
     "output_type": "execute_result"
    }
   ],
   "source": [
    "df.corr()['pub_rec_bankruptcies'].sort_values()"
   ]
  },
  {
   "cell_type": "code",
   "execution_count": 1335,
   "metadata": {},
   "outputs": [
    {
     "data": {
      "text/plain": [
       "<seaborn.axisgrid.FacetGrid at 0x2dbbfca9c48>"
      ]
     },
     "execution_count": 1335,
     "metadata": {},
     "output_type": "execute_result"
    },
    {
     "data": {
      "image/png": "[encoded data removed]",
      "text/plain": [
       "<Figure size 360x360 with 1 Axes>"
      ]
     },
     "metadata": {
      "needs_background": "light"
     },
     "output_type": "display_data"
    }
   ],
   "source": [
    "sns.lmplot(x = 'pub_rec', y = 'pub_rec_bankruptcies', data = df)"
   ]
  },
  {
   "cell_type": "code",
   "execution_count": 1336,
   "metadata": {},
   "outputs": [],
   "source": [
    "'''\n",
    "The regression plot above shows that the slope is about 10/22 = 0.45. Therefore, we can interpolate pub_rec_bankruptcies = \n",
    "0.45* pub_rec for NaN values.\n",
    "'''\n",
    "\n",
    "df['pub_rec_bankruptcies'].fillna(-1, inplace = True)\n",
    "\n",
    "def get_prb(df_data3):\n",
    "    prb = df_data3[0]\n",
    "    pr = df_data3[1]\n",
    "    if prb == -1:\n",
    "        return np.ceil(pr*0.45)\n",
    "    else:\n",
    "        return prb"
   ]
  },
  {
   "cell_type": "code",
   "execution_count": 1337,
   "metadata": {},
   "outputs": [],
   "source": [
    "df['pub_rec_bankruptcies'] = df[['pub_rec_bankruptcies', 'pub_rec']].apply(get_prb, axis = 1)"
   ]
  },
  {
   "cell_type": "code",
   "execution_count": 1338,
   "metadata": {},
   "outputs": [
    {
     "data": {
      "text/plain": [
       "loan_amnt               0\n",
       "term                    0\n",
       "int_rate                0\n",
       "installment             0\n",
       "grade                   0\n",
       "sub_grade               0\n",
       "home_ownership          0\n",
       "annual_inc              0\n",
       "verification_status     0\n",
       "issue_d                 0\n",
       "loan_status             0\n",
       "purpose                 0\n",
       "dti                     0\n",
       "open_acc                0\n",
       "pub_rec                 0\n",
       "revol_bal               0\n",
       "revol_util              0\n",
       "total_acc               0\n",
       "initial_list_status     0\n",
       "application_type        0\n",
       "mort_acc                0\n",
       "pub_rec_bankruptcies    0\n",
       "address                 0\n",
       "length_emp              0\n",
       "zip                     0\n",
       "state                   0\n",
       "dtype: int64"
      ]
     },
     "execution_count": 1338,
     "metadata": {},
     "output_type": "execute_result"
    }
   ],
   "source": [
    "df.isnull().sum()"
   ]
  },
  {
   "cell_type": "markdown",
   "metadata": {},
   "source": [
    "EXPLORATORY DATA ANALYSIS"
   ]
  },
  {
   "cell_type": "code",
   "execution_count": 1339,
   "metadata": {},
   "outputs": [
    {
     "data": {
      "text/plain": [
       "<AxesSubplot:xlabel='loan_status', ylabel='count'>"
      ]
     },
     "execution_count": 1339,
     "metadata": {},
     "output_type": "execute_result"
    },
    {
     "data": {
      "image/png": "[encoded data removed]",
      "text/plain": [
       "<Figure size 432x288 with 1 Axes>"
      ]
     },
     "metadata": {
      "needs_background": "light"
     },
     "output_type": "display_data"
    }
   ],
   "source": [
    "sns.countplot(x = 'loan_status', data = df)"
   ]
  },
  {
   "cell_type": "code",
   "execution_count": 1340,
   "metadata": {},
   "outputs": [
    {
     "data": {
      "text/plain": [
       "<AxesSubplot:xlabel='loan_amnt', ylabel='Count'>"
      ]
     },
     "execution_count": 1340,
     "metadata": {},
     "output_type": "execute_result"
    },
    {
     "data": {
      "image/png": "[encoded data removed]",
      "text/plain": [
       "<Figure size 720x432 with 1 Axes>"
      ]
     },
     "metadata": {
      "needs_background": "light"
     },
     "output_type": "display_data"
    }
   ],
   "source": [
    "plt.figure(figsize = (10,6))\n",
    "sns.histplot(data = df, x = 'loan_amnt', kde = False, bins = 30)"
   ]
  },
  {
   "cell_type": "code",
   "execution_count": 1341,
   "metadata": {},
   "outputs": [
    {
     "data": {
      "text/plain": [
       "<AxesSubplot:>"
      ]
     },
     "execution_count": 1341,
     "metadata": {},
     "output_type": "execute_result"
    },
    {
     "data": {
      "image/png": "[encoded data removed]",
      "text/plain": [
       "<Figure size 720x576 with 2 Axes>"
      ]
     },
     "metadata": {
      "needs_background": "light"
     },
     "output_type": "display_data"
    }
   ],
   "source": [
    "plt.figure(figsize = (10,8))\n",
    "sns.heatmap(df.corr())"
   ]
  },
  {
   "cell_type": "code",
   "execution_count": 1342,
   "metadata": {},
   "outputs": [
    {
     "data": {
      "text/plain": [
       "Text(0, 0.5, 'loan amount')"
      ]
     },
     "execution_count": 1342,
     "metadata": {},
     "output_type": "execute_result"
    },
    {
     "data": {
      "image/png": "[encoded data removed]",
      "text/plain": [
       "<Figure size 720x432 with 1 Axes>"
      ]
     },
     "metadata": {
      "needs_background": "light"
     },
     "output_type": "display_data"
    }
   ],
   "source": [
    "plt.figure(figsize = (10,6))\n",
    "plt.scatter(x = 'installment', y = 'loan_amnt', data = df, edgecolors = 'white')\n",
    "plt.xlabel('installment')\n",
    "plt.ylabel('loan amount')"
   ]
  },
  {
   "cell_type": "code",
   "execution_count": 1343,
   "metadata": {},
   "outputs": [
    {
     "data": {
      "text/plain": [
       "<AxesSubplot:xlabel='loan_status', ylabel='loan_amnt'>"
      ]
     },
     "execution_count": 1343,
     "metadata": {},
     "output_type": "execute_result"
    },
    {
     "data": {
      "image/png": "[encoded data removed]",
      "text/plain": [
       "<Figure size 432x288 with 1 Axes>"
      ]
     },
     "metadata": {
      "needs_background": "light"
     },
     "output_type": "display_data"
    }
   ],
   "source": [
    "sns.boxplot(x ='loan_status', y = 'loan_amnt', data = df)"
   ]
  },
  {
   "cell_type": "code",
   "execution_count": 1344,
   "metadata": {},
   "outputs": [
    {
     "data": {
      "text/plain": [
       "<AxesSubplot:xlabel='grade', ylabel='count'>"
      ]
     },
     "execution_count": 1344,
     "metadata": {},
     "output_type": "execute_result"
    },
    {
     "data": {
      "image/png": "[encoded data removed]",
      "text/plain": [
       "<Figure size 720x432 with 1 Axes>"
      ]
     },
     "metadata": {
      "needs_background": "light"
     },
     "output_type": "display_data"
    }
   ],
   "source": [
    "plt.figure(figsize = (10,6))\n",
    "sns.countplot(x = 'grade', data = df, hue = 'loan_status')"
   ]
  },
  {
   "cell_type": "code",
   "execution_count": 1345,
   "metadata": {},
   "outputs": [
    {
     "data": {
      "text/plain": [
       "<AxesSubplot:xlabel='sub_grade', ylabel='count'>"
      ]
     },
     "execution_count": 1345,
     "metadata": {},
     "output_type": "execute_result"
    },
    {
     "data": {
      "image/png": "[encoded data removed]",
      "text/plain": [
       "<Figure size 864x576 with 1 Axes>"
      ]
     },
     "metadata": {
      "needs_background": "light"
     },
     "output_type": "display_data"
    }
   ],
   "source": [
    "plt.figure(figsize = (12,8 ))\n",
    "subgrade_order = sorted(df['sub_grade'].unique())\n",
    "sns.countplot(x = 'sub_grade', data = df, order = subgrade_order, palette = 'coolwarm')"
   ]
  },
  {
   "cell_type": "code",
   "execution_count": 1346,
   "metadata": {},
   "outputs": [
    {
     "data": {
      "text/html": [
       "<div>\n",
       "<style scoped>\n",
       "    .dataframe tbody tr th:only-of-type {\n",
       "        vertical-align: middle;\n",
       "    }\n",
       "\n",
       "    .dataframe tbody tr th {\n",
       "        vertical-align: top;\n",
       "    }\n",
       "\n",
       "    .dataframe thead th {\n",
       "        text-align: right;\n",
       "    }\n",
       "</style>\n",
       "<table border=\"1\" class=\"dataframe\">\n",
       "  <thead>\n",
       "    <tr style=\"text-align: right;\">\n",
       "      <th></th>\n",
       "      <th>loan_amnt</th>\n",
       "      <th>term</th>\n",
       "      <th>int_rate</th>\n",
       "      <th>installment</th>\n",
       "      <th>grade</th>\n",
       "      <th>sub_grade</th>\n",
       "      <th>home_ownership</th>\n",
       "      <th>annual_inc</th>\n",
       "      <th>issue_d</th>\n",
       "      <th>loan_status</th>\n",
       "      <th>...</th>\n",
       "      <th>revol_util</th>\n",
       "      <th>total_acc</th>\n",
       "      <th>initial_list_status</th>\n",
       "      <th>application_type</th>\n",
       "      <th>mort_acc</th>\n",
       "      <th>pub_rec_bankruptcies</th>\n",
       "      <th>address</th>\n",
       "      <th>length_emp</th>\n",
       "      <th>zip</th>\n",
       "      <th>state</th>\n",
       "    </tr>\n",
       "    <tr>\n",
       "      <th>verification_status</th>\n",
       "      <th></th>\n",
       "      <th></th>\n",
       "      <th></th>\n",
       "      <th></th>\n",
       "      <th></th>\n",
       "      <th></th>\n",
       "      <th></th>\n",
       "      <th></th>\n",
       "      <th></th>\n",
       "      <th></th>\n",
       "      <th></th>\n",
       "      <th></th>\n",
       "      <th></th>\n",
       "      <th></th>\n",
       "      <th></th>\n",
       "      <th></th>\n",
       "      <th></th>\n",
       "      <th></th>\n",
       "      <th></th>\n",
       "      <th></th>\n",
       "      <th></th>\n",
       "    </tr>\n",
       "  </thead>\n",
       "  <tbody>\n",
       "    <tr>\n",
       "      <th>Not Verified</th>\n",
       "      <td>125082</td>\n",
       "      <td>125082</td>\n",
       "      <td>125082</td>\n",
       "      <td>125082</td>\n",
       "      <td>125082</td>\n",
       "      <td>125082</td>\n",
       "      <td>125082</td>\n",
       "      <td>125082</td>\n",
       "      <td>125082</td>\n",
       "      <td>125082</td>\n",
       "      <td>...</td>\n",
       "      <td>125082</td>\n",
       "      <td>125082</td>\n",
       "      <td>125082</td>\n",
       "      <td>125082</td>\n",
       "      <td>125082</td>\n",
       "      <td>125082</td>\n",
       "      <td>125082</td>\n",
       "      <td>125082</td>\n",
       "      <td>125082</td>\n",
       "      <td>125082</td>\n",
       "    </tr>\n",
       "    <tr>\n",
       "      <th>Source Verified</th>\n",
       "      <td>131385</td>\n",
       "      <td>131385</td>\n",
       "      <td>131385</td>\n",
       "      <td>131385</td>\n",
       "      <td>131385</td>\n",
       "      <td>131385</td>\n",
       "      <td>131385</td>\n",
       "      <td>131385</td>\n",
       "      <td>131385</td>\n",
       "      <td>131385</td>\n",
       "      <td>...</td>\n",
       "      <td>131385</td>\n",
       "      <td>131385</td>\n",
       "      <td>131385</td>\n",
       "      <td>131385</td>\n",
       "      <td>131385</td>\n",
       "      <td>131385</td>\n",
       "      <td>131385</td>\n",
       "      <td>131385</td>\n",
       "      <td>131385</td>\n",
       "      <td>131385</td>\n",
       "    </tr>\n",
       "    <tr>\n",
       "      <th>Verified</th>\n",
       "      <td>139563</td>\n",
       "      <td>139563</td>\n",
       "      <td>139563</td>\n",
       "      <td>139563</td>\n",
       "      <td>139563</td>\n",
       "      <td>139563</td>\n",
       "      <td>139563</td>\n",
       "      <td>139563</td>\n",
       "      <td>139563</td>\n",
       "      <td>139563</td>\n",
       "      <td>...</td>\n",
       "      <td>139563</td>\n",
       "      <td>139563</td>\n",
       "      <td>139563</td>\n",
       "      <td>139563</td>\n",
       "      <td>139563</td>\n",
       "      <td>139563</td>\n",
       "      <td>139563</td>\n",
       "      <td>139563</td>\n",
       "      <td>139563</td>\n",
       "      <td>139563</td>\n",
       "    </tr>\n",
       "  </tbody>\n",
       "</table>\n",
       "<p>3 rows × 25 columns</p>\n",
       "</div>"
      ],
      "text/plain": [
       "                     loan_amnt    term  int_rate  installment   grade  \\\n",
       "verification_status                                                     \n",
       "Not Verified            125082  125082    125082       125082  125082   \n",
       "Source Verified         131385  131385    131385       131385  131385   \n",
       "Verified                139563  139563    139563       139563  139563   \n",
       "\n",
       "                     sub_grade  home_ownership  annual_inc  issue_d  \\\n",
       "verification_status                                                   \n",
       "Not Verified            125082          125082      125082   125082   \n",
       "Source Verified         131385          131385      131385   131385   \n",
       "Verified                139563          139563      139563   139563   \n",
       "\n",
       "                     loan_status  ...  revol_util  total_acc  \\\n",
       "verification_status               ...                          \n",
       "Not Verified              125082  ...      125082     125082   \n",
       "Source Verified           131385  ...      131385     131385   \n",
       "Verified                  139563  ...      139563     139563   \n",
       "\n",
       "                     initial_list_status  application_type  mort_acc  \\\n",
       "verification_status                                                    \n",
       "Not Verified                      125082            125082    125082   \n",
       "Source Verified                   131385            131385    131385   \n",
       "Verified                          139563            139563    139563   \n",
       "\n",
       "                     pub_rec_bankruptcies  address  length_emp     zip   state  \n",
       "verification_status                                                             \n",
       "Not Verified                       125082   125082      125082  125082  125082  \n",
       "Source Verified                    131385   131385      131385  131385  131385  \n",
       "Verified                           139563   139563      139563  139563  139563  \n",
       "\n",
       "[3 rows x 25 columns]"
      ]
     },
     "execution_count": 1346,
     "metadata": {},
     "output_type": "execute_result"
    }
   ],
   "source": [
    "df.groupby('verification_status').count()"
   ]
  },
  {
   "cell_type": "code",
   "execution_count": 1347,
   "metadata": {},
   "outputs": [],
   "source": [
    "#we are dropping issue_d because we wouldn't know if a loan had been issued beforehand\n",
    "df.drop(['sub_grade', 'issue_d'], axis = 1, inplace = True)"
   ]
  },
  {
   "cell_type": "code",
   "execution_count": 1348,
   "metadata": {},
   "outputs": [
    {
     "name": "stdout",
     "output_type": "stream",
     "text": [
      "<class 'pandas.core.frame.DataFrame'>\n",
      "RangeIndex: 396030 entries, 0 to 396029\n",
      "Data columns (total 24 columns):\n",
      " #   Column                Non-Null Count   Dtype  \n",
      "---  ------                --------------   -----  \n",
      " 0   loan_amnt             396030 non-null  float64\n",
      " 1   term                  396030 non-null  int64  \n",
      " 2   int_rate              396030 non-null  float64\n",
      " 3   installment           396030 non-null  float64\n",
      " 4   grade                 396030 non-null  object \n",
      " 5   home_ownership        396030 non-null  object \n",
      " 6   annual_inc            396030 non-null  float64\n",
      " 7   verification_status   396030 non-null  object \n",
      " 8   loan_status           396030 non-null  object \n",
      " 9   purpose               396030 non-null  object \n",
      " 10  dti                   396030 non-null  float64\n",
      " 11  open_acc              396030 non-null  float64\n",
      " 12  pub_rec               396030 non-null  float64\n",
      " 13  revol_bal             396030 non-null  float64\n",
      " 14  revol_util            396030 non-null  float64\n",
      " 15  total_acc             396030 non-null  float64\n",
      " 16  initial_list_status   396030 non-null  object \n",
      " 17  application_type      396030 non-null  object \n",
      " 18  mort_acc              396030 non-null  float64\n",
      " 19  pub_rec_bankruptcies  396030 non-null  float64\n",
      " 20  address               396030 non-null  object \n",
      " 21  length_emp            396030 non-null  float64\n",
      " 22  zip                   396030 non-null  object \n",
      " 23  state                 396030 non-null  object \n",
      "dtypes: float64(13), int64(1), object(10)\n",
      "memory usage: 72.5+ MB\n"
     ]
    }
   ],
   "source": [
    "df.info()"
   ]
  },
  {
   "cell_type": "code",
   "execution_count": 1349,
   "metadata": {},
   "outputs": [
    {
     "data": {
      "text/plain": [
       "\"\\nNow that we don't have any null values,\\nthe following features will be converted into dummy variables: grade, home_ownership, verification status, purpose,\\napplication_type.\\nBefore that let's explore how each of these affect loan_status\\n\""
      ]
     },
     "execution_count": 1349,
     "metadata": {},
     "output_type": "execute_result"
    }
   ],
   "source": [
    "'''\n",
    "Now that we don't have any null values,\n",
    "the following features will be converted into dummy variables: grade, home_ownership, verification status, purpose,\n",
    "application_type.\n",
    "Before that let's explore how each of these affect loan_status\n",
    "'''"
   ]
  },
  {
   "cell_type": "code",
   "execution_count": 1350,
   "metadata": {},
   "outputs": [
    {
     "data": {
      "image/png": "[encoded data removed]",
      "text/plain": [
       "<Figure size 1008x432 with 1 Axes>"
      ]
     },
     "metadata": {
      "needs_background": "light"
     },
     "output_type": "display_data"
    }
   ],
   "source": [
    "plt.figure(figsize = (14,6))\n",
    "sns.countplot(x = 'purpose', data = df, hue = 'loan_status')\n",
    "plt.tight_layout()"
   ]
  },
  {
   "cell_type": "code",
   "execution_count": 1351,
   "metadata": {},
   "outputs": [
    {
     "data": {
      "image/png": "[encoded data removed]",
      "text/plain": [
       "<Figure size 720x432 with 1 Axes>"
      ]
     },
     "metadata": {
      "needs_background": "light"
     },
     "output_type": "display_data"
    }
   ],
   "source": [
    "plt.figure(figsize = (10,6))\n",
    "sns.countplot(x = 'application_type', data = df, hue = 'loan_status')\n",
    "plt.tight_layout()"
   ]
  },
  {
   "cell_type": "code",
   "execution_count": 1352,
   "metadata": {},
   "outputs": [
    {
     "data": {
      "image/png": "[encoded data removed]",
      "text/plain": [
       "<Figure size 720x432 with 1 Axes>"
      ]
     },
     "metadata": {
      "needs_background": "light"
     },
     "output_type": "display_data"
    }
   ],
   "source": [
    "plt.figure(figsize = (10,6))\n",
    "sns.countplot(x = 'home_ownership', data = df, hue = 'loan_status')\n",
    "plt.tight_layout()"
   ]
  },
  {
   "cell_type": "code",
   "execution_count": 1353,
   "metadata": {},
   "outputs": [
    {
     "data": {
      "text/plain": [
       "<AxesSubplot:xlabel='length_emp', ylabel='count'>"
      ]
     },
     "execution_count": 1353,
     "metadata": {},
     "output_type": "execute_result"
    },
    {
     "data": {
      "image/png": "[encoded data removed]",
      "text/plain": [
       "<Figure size 720x432 with 1 Axes>"
      ]
     },
     "metadata": {
      "needs_background": "light"
     },
     "output_type": "display_data"
    }
   ],
   "source": [
    "plt.figure(figsize = (10,6))\n",
    "sns.countplot(x = 'length_emp', data = df, hue = 'loan_status')"
   ]
  },
  {
   "cell_type": "code",
   "execution_count": 1354,
   "metadata": {},
   "outputs": [
    {
     "data": {
      "text/plain": [
       "<AxesSubplot:xlabel='verification_status', ylabel='count'>"
      ]
     },
     "execution_count": 1354,
     "metadata": {},
     "output_type": "execute_result"
    },
    {
     "data": {
      "image/png": "[encoded data removed]",
      "text/plain": [
       "<Figure size 432x288 with 1 Axes>"
      ]
     },
     "metadata": {
      "needs_background": "light"
     },
     "output_type": "display_data"
    }
   ],
   "source": [
    "sns.countplot(data = df , x = 'verification_status', hue = 'loan_status')"
   ]
  },
  {
   "cell_type": "code",
   "execution_count": 1355,
   "metadata": {},
   "outputs": [
    {
     "data": {
      "text/plain": [
       "<AxesSubplot:xlabel='initial_list_status', ylabel='count'>"
      ]
     },
     "execution_count": 1355,
     "metadata": {},
     "output_type": "execute_result"
    },
    {
     "data": {
      "image/png": "[encoded data removed]",
      "text/plain": [
       "<Figure size 720x432 with 1 Axes>"
      ]
     },
     "metadata": {
      "needs_background": "light"
     },
     "output_type": "display_data"
    }
   ],
   "source": [
    "plt.figure(figsize = (10,6))\n",
    "sns.countplot(x = 'initial_list_status', data = df, hue ='loan_status')"
   ]
  },
  {
   "cell_type": "code",
   "execution_count": 1356,
   "metadata": {},
   "outputs": [
    {
     "data": {
      "text/plain": [
       "'\\nNote that in all of the cases above, for every category, the count for fully paid seems to be greater than the count for \\ncharged off which does not provide evidence for string relationship between these categories and being able to pay off the\\nloan. In this scenario, we can find the actual ratio of charged off to fully paid per category.\\n'"
      ]
     },
     "execution_count": 1356,
     "metadata": {},
     "output_type": "execute_result"
    }
   ],
   "source": [
    "'''\n",
    "Note that in all of the cases above, for every category, the count for fully paid seems to be greater than the count for \n",
    "charged off which does not provide evidence for string relationship between these categories and being able to pay off the\n",
    "loan. In this scenario, we can find the actual ratio of charged off to fully paid per category.\n",
    "'''"
   ]
  },
  {
   "cell_type": "code",
   "execution_count": 1357,
   "metadata": {},
   "outputs": [
    {
     "data": {
      "text/plain": [
       "<AxesSubplot:xlabel='purpose'>"
      ]
     },
     "execution_count": 1357,
     "metadata": {},
     "output_type": "execute_result"
    },
    {
     "data": {
      "image/png": "[encoded data removed]",
      "text/plain": [
       "<Figure size 432x288 with 1 Axes>"
      ]
     },
     "metadata": {
      "needs_background": "light"
     },
     "output_type": "display_data"
    }
   ],
   "source": [
    "#for purpose\n",
    "pur_co = df[df['loan_status'] == 'Charged Off'].groupby('purpose').count()['loan_status']\n",
    "pur_fp = df[df['loan_status'] == 'Fully Paid'].groupby('purpose').count()['loan_status']\n",
    "pur_rt = pur_co/pur_fp\n",
    "\n",
    "pur_rt.plot(kind = 'bar')"
   ]
  },
  {
   "cell_type": "code",
   "execution_count": 1358,
   "metadata": {},
   "outputs": [
    {
     "data": {
      "text/plain": [
       "<AxesSubplot:xlabel='application_type'>"
      ]
     },
     "execution_count": 1358,
     "metadata": {},
     "output_type": "execute_result"
    },
    {
     "data": {
      "image/png": "[encoded data removed]",
      "text/plain": [
       "<Figure size 432x288 with 1 Axes>"
      ]
     },
     "metadata": {
      "needs_background": "light"
     },
     "output_type": "display_data"
    }
   ],
   "source": [
    "#for application_type\n",
    "app_co = df[df['loan_status'] == 'Charged Off'].groupby('application_type').count()['loan_status']\n",
    "app_fp = df[df['loan_status'] == 'Fully Paid'].groupby('application_type').count()['loan_status']\n",
    "app_rt = app_co/app_fp\n",
    "\n",
    "app_rt.plot(kind = 'bar')"
   ]
  },
  {
   "cell_type": "code",
   "execution_count": 1359,
   "metadata": {},
   "outputs": [
    {
     "data": {
      "text/plain": [
       "<AxesSubplot:xlabel='home_ownership'>"
      ]
     },
     "execution_count": 1359,
     "metadata": {},
     "output_type": "execute_result"
    },
    {
     "data": {
      "image/png": "[encoded data removed]",
      "text/plain": [
       "<Figure size 432x288 with 1 Axes>"
      ]
     },
     "metadata": {
      "needs_background": "light"
     },
     "output_type": "display_data"
    }
   ],
   "source": [
    "#for home_ownership\n",
    "home_co = df[df['loan_status'] == 'Charged Off'].groupby('home_ownership').count()['loan_status']\n",
    "home_fp = df[df['loan_status'] == 'Fully Paid'].groupby('home_ownership').count()['loan_status']\n",
    "home_rt = home_co/home_fp\n",
    "\n",
    "home_rt.plot(kind = 'bar')"
   ]
  },
  {
   "cell_type": "code",
   "execution_count": 1360,
   "metadata": {},
   "outputs": [],
   "source": [
    "df['home_ownership']=df['home_ownership'].replace(['NONE', 'ANY'], 'OTHER')"
   ]
  },
  {
   "cell_type": "code",
   "execution_count": 1361,
   "metadata": {},
   "outputs": [
    {
     "data": {
      "text/plain": [
       "<AxesSubplot:xlabel='length_emp'>"
      ]
     },
     "execution_count": 1361,
     "metadata": {},
     "output_type": "execute_result"
    },
    {
     "data": {
      "image/png": "[encoded data removed]",
      "text/plain": [
       "<Figure size 432x288 with 1 Axes>"
      ]
     },
     "metadata": {
      "needs_background": "light"
     },
     "output_type": "display_data"
    }
   ],
   "source": [
    "#for length_emp\n",
    "emp_co = df[df['loan_status'] == 'Charged Off'].groupby('length_emp').count()['loan_status']\n",
    "emp_fp = df[df['loan_status'] == 'Fully Paid'].groupby('length_emp').count()['loan_status']\n",
    "emp_rt = emp_co/emp_fp\n",
    "\n",
    "emp_rt.plot(kind = 'bar')"
   ]
  },
  {
   "cell_type": "code",
   "execution_count": 1362,
   "metadata": {},
   "outputs": [],
   "source": [
    "#The length of employment does not seem to have a strong effect either so we can drop it too\n",
    "df.drop('length_emp', axis = 1, inplace = True)"
   ]
  },
  {
   "cell_type": "code",
   "execution_count": 1363,
   "metadata": {},
   "outputs": [
    {
     "data": {
      "text/plain": [
       "<AxesSubplot:xlabel='grade'>"
      ]
     },
     "execution_count": 1363,
     "metadata": {},
     "output_type": "execute_result"
    },
    {
     "data": {
      "image/png": "[encoded data removed]",
      "text/plain": [
       "<Figure size 432x288 with 1 Axes>"
      ]
     },
     "metadata": {
      "needs_background": "light"
     },
     "output_type": "display_data"
    }
   ],
   "source": [
    "#for grade\n",
    "gr_co = df[df['loan_status'] == 'Charged Off'].groupby('grade').count()['loan_status']\n",
    "gr_fp = df[df['loan_status'] == 'Fully Paid'].groupby('grade').count()['loan_status']\n",
    "gr_rt = gr_co/gr_fp\n",
    "\n",
    "gr_rt.plot(kind = 'bar')"
   ]
  },
  {
   "cell_type": "code",
   "execution_count": 1364,
   "metadata": {},
   "outputs": [
    {
     "data": {
      "text/plain": [
       "<AxesSubplot:xlabel='verification_status'>"
      ]
     },
     "execution_count": 1364,
     "metadata": {},
     "output_type": "execute_result"
    },
    {
     "data": {
      "image/png": "[encoded data removed]",
      "text/plain": [
       "<Figure size 432x288 with 1 Axes>"
      ]
     },
     "metadata": {
      "needs_background": "light"
     },
     "output_type": "display_data"
    }
   ],
   "source": [
    "#for verification_status\n",
    "ver_co = df[df['loan_status'] == 'Charged Off'].groupby('verification_status').count()['loan_status']\n",
    "ver_fp = df[df['loan_status'] == 'Fully Paid'].groupby('verification_status').count()['loan_status']\n",
    "ver_rt = ver_co/ver_fp\n",
    "\n",
    "ver_rt.plot(kind = 'bar')"
   ]
  },
  {
   "cell_type": "code",
   "execution_count": 1365,
   "metadata": {},
   "outputs": [
    {
     "data": {
      "text/plain": [
       "<AxesSubplot:xlabel='initial_list_status'>"
      ]
     },
     "execution_count": 1365,
     "metadata": {},
     "output_type": "execute_result"
    },
    {
     "data": {
      "image/png": "[encoded data removed]",
      "text/plain": [
       "<Figure size 432x288 with 1 Axes>"
      ]
     },
     "metadata": {
      "needs_background": "light"
     },
     "output_type": "display_data"
    }
   ],
   "source": [
    "#for initial_list_status\n",
    "ils_co = df[df['loan_status'] == 'Charged Off'].groupby('initial_list_status').count()['loan_status']\n",
    "ils_fp = df[df['loan_status'] == 'Fully Paid'].groupby('initial_list_status').count()['loan_status']\n",
    "ils_rt = ils_co/ils_fp\n",
    "\n",
    "ils_rt.plot(kind = 'bar')"
   ]
  },
  {
   "cell_type": "code",
   "execution_count": 1366,
   "metadata": {},
   "outputs": [],
   "source": [
    "#The initial list status does not seem to have a strong effect either so we can drop it too\n",
    "df.drop('initial_list_status', axis = 1, inplace = True)"
   ]
  },
  {
   "cell_type": "code",
   "execution_count": 1367,
   "metadata": {},
   "outputs": [
    {
     "data": {
      "text/plain": [
       "<AxesSubplot:xlabel='state', ylabel='count'>"
      ]
     },
     "execution_count": 1367,
     "metadata": {},
     "output_type": "execute_result"
    },
    {
     "data": {
      "image/png": "[encoded data removed]",
      "text/plain": [
       "<Figure size 720x576 with 1 Axes>"
      ]
     },
     "metadata": {
      "needs_background": "light"
     },
     "output_type": "display_data"
    }
   ],
   "source": [
    "plt.figure(figsize = (10,8))\n",
    "sns.countplot(x = 'state', data = df, hue = 'loan_status')"
   ]
  },
  {
   "cell_type": "code",
   "execution_count": 1368,
   "metadata": {},
   "outputs": [
    {
     "data": {
      "text/plain": [
       "<AxesSubplot:xlabel='state'>"
      ]
     },
     "execution_count": 1368,
     "metadata": {},
     "output_type": "execute_result"
    },
    {
     "data": {
      "image/png": "[encoded data removed]",
      "text/plain": [
       "<Figure size 432x288 with 1 Axes>"
      ]
     },
     "metadata": {
      "needs_background": "light"
     },
     "output_type": "display_data"
    }
   ],
   "source": [
    "#for state\n",
    "st_co = df[df['loan_status'] == 'Charged Off'].groupby('state').count()['loan_status']\n",
    "st_fp = df[df['loan_status'] == 'Fully Paid'].groupby('state').count()['loan_status']\n",
    "st_rt = st_co/st_fp\n",
    "\n",
    "st_rt.plot(kind = 'bar')"
   ]
  },
  {
   "cell_type": "code",
   "execution_count": 1369,
   "metadata": {},
   "outputs": [],
   "source": [
    "#The states does not seem to have a strong effect either so we can drop it too\n",
    "df.drop('state', axis = 1, inplace = True)"
   ]
  },
  {
   "cell_type": "code",
   "execution_count": 1370,
   "metadata": {},
   "outputs": [
    {
     "data": {
      "text/plain": [
       "'\\nWith this analysis we can conclude that the following categorical variables have a strong correlation with loan_status:\\n1.grade\\n2.application_type\\n3.purpose\\n4.verifiation_status\\n5.home_ownership\\n6.zip\\n'"
      ]
     },
     "execution_count": 1370,
     "metadata": {},
     "output_type": "execute_result"
    }
   ],
   "source": [
    "'''\n",
    "With this analysis we can conclude that the following categorical variables have a strong correlation with loan_status:\n",
    "1.grade\n",
    "2.application_type\n",
    "3.purpose\n",
    "4.verifiation_status\n",
    "5.home_ownership\n",
    "6.zip\n",
    "'''"
   ]
  },
  {
   "cell_type": "code",
   "execution_count": 1371,
   "metadata": {},
   "outputs": [],
   "source": [
    "dummies = pd.get_dummies(df[['zip','grade','application_type','purpose','verification_status','home_ownership']], drop_first = True)"
   ]
  },
  {
   "cell_type": "code",
   "execution_count": 1372,
   "metadata": {},
   "outputs": [],
   "source": [
    "df.drop(['address','zip','grade','application_type','purpose','verification_status','home_ownership'], axis = 1, inplace = True)"
   ]
  },
  {
   "cell_type": "code",
   "execution_count": 1373,
   "metadata": {},
   "outputs": [],
   "source": [
    "df = pd.concat([df,dummies], axis = 1)"
   ]
  },
  {
   "cell_type": "code",
   "execution_count": 1374,
   "metadata": {},
   "outputs": [
    {
     "name": "stdout",
     "output_type": "stream",
     "text": [
      "<class 'pandas.core.frame.DataFrame'>\n",
      "RangeIndex: 396030 entries, 0 to 396029\n",
      "Data columns (total 49 columns):\n",
      " #   Column                               Non-Null Count   Dtype  \n",
      "---  ------                               --------------   -----  \n",
      " 0   loan_amnt                            396030 non-null  float64\n",
      " 1   term                                 396030 non-null  int64  \n",
      " 2   int_rate                             396030 non-null  float64\n",
      " 3   installment                          396030 non-null  float64\n",
      " 4   annual_inc                           396030 non-null  float64\n",
      " 5   loan_status                          396030 non-null  object \n",
      " 6   dti                                  396030 non-null  float64\n",
      " 7   open_acc                             396030 non-null  float64\n",
      " 8   pub_rec                              396030 non-null  float64\n",
      " 9   revol_bal                            396030 non-null  float64\n",
      " 10  revol_util                           396030 non-null  float64\n",
      " 11  total_acc                            396030 non-null  float64\n",
      " 12  mort_acc                             396030 non-null  float64\n",
      " 13  pub_rec_bankruptcies                 396030 non-null  float64\n",
      " 14  zip_05113                            396030 non-null  uint8  \n",
      " 15  zip_11650                            396030 non-null  uint8  \n",
      " 16  zip_22690                            396030 non-null  uint8  \n",
      " 17  zip_29597                            396030 non-null  uint8  \n",
      " 18  zip_30723                            396030 non-null  uint8  \n",
      " 19  zip_48052                            396030 non-null  uint8  \n",
      " 20  zip_70466                            396030 non-null  uint8  \n",
      " 21  zip_86630                            396030 non-null  uint8  \n",
      " 22  zip_93700                            396030 non-null  uint8  \n",
      " 23  grade_B                              396030 non-null  uint8  \n",
      " 24  grade_C                              396030 non-null  uint8  \n",
      " 25  grade_D                              396030 non-null  uint8  \n",
      " 26  grade_E                              396030 non-null  uint8  \n",
      " 27  grade_F                              396030 non-null  uint8  \n",
      " 28  grade_G                              396030 non-null  uint8  \n",
      " 29  application_type_INDIVIDUAL          396030 non-null  uint8  \n",
      " 30  application_type_JOINT               396030 non-null  uint8  \n",
      " 31  purpose_credit_card                  396030 non-null  uint8  \n",
      " 32  purpose_debt_consolidation           396030 non-null  uint8  \n",
      " 33  purpose_educational                  396030 non-null  uint8  \n",
      " 34  purpose_home_improvement             396030 non-null  uint8  \n",
      " 35  purpose_house                        396030 non-null  uint8  \n",
      " 36  purpose_major_purchase               396030 non-null  uint8  \n",
      " 37  purpose_medical                      396030 non-null  uint8  \n",
      " 38  purpose_moving                       396030 non-null  uint8  \n",
      " 39  purpose_other                        396030 non-null  uint8  \n",
      " 40  purpose_renewable_energy             396030 non-null  uint8  \n",
      " 41  purpose_small_business               396030 non-null  uint8  \n",
      " 42  purpose_vacation                     396030 non-null  uint8  \n",
      " 43  purpose_wedding                      396030 non-null  uint8  \n",
      " 44  verification_status_Source Verified  396030 non-null  uint8  \n",
      " 45  verification_status_Verified         396030 non-null  uint8  \n",
      " 46  home_ownership_OTHER                 396030 non-null  uint8  \n",
      " 47  home_ownership_OWN                   396030 non-null  uint8  \n",
      " 48  home_ownership_RENT                  396030 non-null  uint8  \n",
      "dtypes: float64(12), int64(1), object(1), uint8(35)\n",
      "memory usage: 55.5+ MB\n"
     ]
    }
   ],
   "source": [
    "df.info()"
   ]
  },
  {
   "cell_type": "code",
   "execution_count": 1375,
   "metadata": {},
   "outputs": [],
   "source": [
    "def conv_loan_status(status):\n",
    "    if status == 'Fully Paid':\n",
    "        return 1\n",
    "    else:\n",
    "        return 0"
   ]
  },
  {
   "cell_type": "code",
   "execution_count": 1376,
   "metadata": {},
   "outputs": [],
   "source": [
    "df['loan_status'] = df['loan_status'].apply(conv_loan_status)"
   ]
  },
  {
   "cell_type": "code",
   "execution_count": 1377,
   "metadata": {},
   "outputs": [
    {
     "data": {
      "text/html": [
       "<div>\n",
       "<style scoped>\n",
       "    .dataframe tbody tr th:only-of-type {\n",
       "        vertical-align: middle;\n",
       "    }\n",
       "\n",
       "    .dataframe tbody tr th {\n",
       "        vertical-align: top;\n",
       "    }\n",
       "\n",
       "    .dataframe thead th {\n",
       "        text-align: right;\n",
       "    }\n",
       "</style>\n",
       "<table border=\"1\" class=\"dataframe\">\n",
       "  <thead>\n",
       "    <tr style=\"text-align: right;\">\n",
       "      <th></th>\n",
       "      <th>loan_amnt</th>\n",
       "      <th>term</th>\n",
       "      <th>int_rate</th>\n",
       "      <th>installment</th>\n",
       "      <th>annual_inc</th>\n",
       "      <th>loan_status</th>\n",
       "      <th>dti</th>\n",
       "      <th>open_acc</th>\n",
       "      <th>pub_rec</th>\n",
       "      <th>revol_bal</th>\n",
       "      <th>...</th>\n",
       "      <th>purpose_other</th>\n",
       "      <th>purpose_renewable_energy</th>\n",
       "      <th>purpose_small_business</th>\n",
       "      <th>purpose_vacation</th>\n",
       "      <th>purpose_wedding</th>\n",
       "      <th>verification_status_Source Verified</th>\n",
       "      <th>verification_status_Verified</th>\n",
       "      <th>home_ownership_OTHER</th>\n",
       "      <th>home_ownership_OWN</th>\n",
       "      <th>home_ownership_RENT</th>\n",
       "    </tr>\n",
       "  </thead>\n",
       "  <tbody>\n",
       "    <tr>\n",
       "      <th>0</th>\n",
       "      <td>10000.0</td>\n",
       "      <td>36</td>\n",
       "      <td>11.44</td>\n",
       "      <td>329.48</td>\n",
       "      <td>117000.0</td>\n",
       "      <td>1</td>\n",
       "      <td>26.24</td>\n",
       "      <td>16.0</td>\n",
       "      <td>0.0</td>\n",
       "      <td>36369.0</td>\n",
       "      <td>...</td>\n",
       "      <td>0</td>\n",
       "      <td>0</td>\n",
       "      <td>0</td>\n",
       "      <td>1</td>\n",
       "      <td>0</td>\n",
       "      <td>0</td>\n",
       "      <td>0</td>\n",
       "      <td>0</td>\n",
       "      <td>0</td>\n",
       "      <td>1</td>\n",
       "    </tr>\n",
       "    <tr>\n",
       "      <th>1</th>\n",
       "      <td>8000.0</td>\n",
       "      <td>36</td>\n",
       "      <td>11.99</td>\n",
       "      <td>265.68</td>\n",
       "      <td>65000.0</td>\n",
       "      <td>1</td>\n",
       "      <td>22.05</td>\n",
       "      <td>17.0</td>\n",
       "      <td>0.0</td>\n",
       "      <td>20131.0</td>\n",
       "      <td>...</td>\n",
       "      <td>0</td>\n",
       "      <td>0</td>\n",
       "      <td>0</td>\n",
       "      <td>0</td>\n",
       "      <td>0</td>\n",
       "      <td>0</td>\n",
       "      <td>0</td>\n",
       "      <td>0</td>\n",
       "      <td>0</td>\n",
       "      <td>0</td>\n",
       "    </tr>\n",
       "    <tr>\n",
       "      <th>2</th>\n",
       "      <td>15600.0</td>\n",
       "      <td>36</td>\n",
       "      <td>10.49</td>\n",
       "      <td>506.97</td>\n",
       "      <td>43057.0</td>\n",
       "      <td>1</td>\n",
       "      <td>12.79</td>\n",
       "      <td>13.0</td>\n",
       "      <td>0.0</td>\n",
       "      <td>11987.0</td>\n",
       "      <td>...</td>\n",
       "      <td>0</td>\n",
       "      <td>0</td>\n",
       "      <td>0</td>\n",
       "      <td>0</td>\n",
       "      <td>0</td>\n",
       "      <td>1</td>\n",
       "      <td>0</td>\n",
       "      <td>0</td>\n",
       "      <td>0</td>\n",
       "      <td>1</td>\n",
       "    </tr>\n",
       "    <tr>\n",
       "      <th>3</th>\n",
       "      <td>7200.0</td>\n",
       "      <td>36</td>\n",
       "      <td>6.49</td>\n",
       "      <td>220.65</td>\n",
       "      <td>54000.0</td>\n",
       "      <td>1</td>\n",
       "      <td>2.60</td>\n",
       "      <td>6.0</td>\n",
       "      <td>0.0</td>\n",
       "      <td>5472.0</td>\n",
       "      <td>...</td>\n",
       "      <td>0</td>\n",
       "      <td>0</td>\n",
       "      <td>0</td>\n",
       "      <td>0</td>\n",
       "      <td>0</td>\n",
       "      <td>0</td>\n",
       "      <td>0</td>\n",
       "      <td>0</td>\n",
       "      <td>0</td>\n",
       "      <td>1</td>\n",
       "    </tr>\n",
       "    <tr>\n",
       "      <th>4</th>\n",
       "      <td>24375.0</td>\n",
       "      <td>60</td>\n",
       "      <td>17.27</td>\n",
       "      <td>609.33</td>\n",
       "      <td>55000.0</td>\n",
       "      <td>0</td>\n",
       "      <td>33.95</td>\n",
       "      <td>13.0</td>\n",
       "      <td>0.0</td>\n",
       "      <td>24584.0</td>\n",
       "      <td>...</td>\n",
       "      <td>0</td>\n",
       "      <td>0</td>\n",
       "      <td>0</td>\n",
       "      <td>0</td>\n",
       "      <td>0</td>\n",
       "      <td>0</td>\n",
       "      <td>1</td>\n",
       "      <td>0</td>\n",
       "      <td>0</td>\n",
       "      <td>0</td>\n",
       "    </tr>\n",
       "  </tbody>\n",
       "</table>\n",
       "<p>5 rows × 49 columns</p>\n",
       "</div>"
      ],
      "text/plain": [
       "   loan_amnt  term  int_rate  installment  annual_inc  loan_status    dti  \\\n",
       "0    10000.0    36     11.44       329.48    117000.0            1  26.24   \n",
       "1     8000.0    36     11.99       265.68     65000.0            1  22.05   \n",
       "2    15600.0    36     10.49       506.97     43057.0            1  12.79   \n",
       "3     7200.0    36      6.49       220.65     54000.0            1   2.60   \n",
       "4    24375.0    60     17.27       609.33     55000.0            0  33.95   \n",
       "\n",
       "   open_acc  pub_rec  revol_bal  ...  purpose_other  purpose_renewable_energy  \\\n",
       "0      16.0      0.0    36369.0  ...              0                         0   \n",
       "1      17.0      0.0    20131.0  ...              0                         0   \n",
       "2      13.0      0.0    11987.0  ...              0                         0   \n",
       "3       6.0      0.0     5472.0  ...              0                         0   \n",
       "4      13.0      0.0    24584.0  ...              0                         0   \n",
       "\n",
       "   purpose_small_business  purpose_vacation  purpose_wedding  \\\n",
       "0                       0                 1                0   \n",
       "1                       0                 0                0   \n",
       "2                       0                 0                0   \n",
       "3                       0                 0                0   \n",
       "4                       0                 0                0   \n",
       "\n",
       "   verification_status_Source Verified  verification_status_Verified  \\\n",
       "0                                    0                             0   \n",
       "1                                    0                             0   \n",
       "2                                    1                             0   \n",
       "3                                    0                             0   \n",
       "4                                    0                             1   \n",
       "\n",
       "   home_ownership_OTHER  home_ownership_OWN  home_ownership_RENT  \n",
       "0                     0                   0                    1  \n",
       "1                     0                   0                    0  \n",
       "2                     0                   0                    1  \n",
       "3                     0                   0                    1  \n",
       "4                     0                   0                    0  \n",
       "\n",
       "[5 rows x 49 columns]"
      ]
     },
     "execution_count": 1377,
     "metadata": {},
     "output_type": "execute_result"
    }
   ],
   "source": [
    "df.head()"
   ]
  },
  {
   "cell_type": "markdown",
   "metadata": {},
   "source": [
    "TRAIN TEST SPLIT AND SCALING"
   ]
  },
  {
   "cell_type": "code",
   "execution_count": 1378,
   "metadata": {},
   "outputs": [],
   "source": [
    "X = df.drop('loan_status', axis = 1).values\n",
    "y = df['loan_status'].values"
   ]
  },
  {
   "cell_type": "code",
   "execution_count": 1379,
   "metadata": {},
   "outputs": [],
   "source": [
    "from sklearn.model_selection import train_test_split"
   ]
  },
  {
   "cell_type": "code",
   "execution_count": 1380,
   "metadata": {},
   "outputs": [],
   "source": [
    "X_train, X_test, y_train, y_test = train_test_split(X, y, test_size=0.3, random_state=42)"
   ]
  },
  {
   "cell_type": "code",
   "execution_count": 1381,
   "metadata": {},
   "outputs": [],
   "source": [
    "from sklearn.preprocessing import MinMaxScaler"
   ]
  },
  {
   "cell_type": "code",
   "execution_count": 1382,
   "metadata": {},
   "outputs": [],
   "source": [
    "scaler = MinMaxScaler()"
   ]
  },
  {
   "cell_type": "code",
   "execution_count": 1383,
   "metadata": {},
   "outputs": [],
   "source": [
    "X_train = scaler.fit_transform(X_train)"
   ]
  },
  {
   "cell_type": "code",
   "execution_count": 1384,
   "metadata": {},
   "outputs": [],
   "source": [
    "X_test = scaler.transform(X_test)"
   ]
  },
  {
   "cell_type": "code",
   "execution_count": 1385,
   "metadata": {},
   "outputs": [],
   "source": [
    "from tensorflow.keras.models import Sequential\n",
    "from tensorflow.keras.layers import Dense,Dropout\n",
    "from tensorflow.keras.callbacks import EarlyStopping"
   ]
  },
  {
   "cell_type": "code",
   "execution_count": 1386,
   "metadata": {},
   "outputs": [
    {
     "data": {
      "text/plain": [
       "(277221, 48)"
      ]
     },
     "execution_count": 1386,
     "metadata": {},
     "output_type": "execute_result"
    }
   ],
   "source": [
    "X_train.shape"
   ]
  },
  {
   "cell_type": "code",
   "execution_count": 1387,
   "metadata": {},
   "outputs": [],
   "source": [
    "#creating a model\n",
    "\n",
    "model = Sequential()\n",
    "\n",
    "model.add(Dense(48, activation = 'relu'))       #input layer\n",
    "model.add(Dropout(0.3))\n",
    "\n",
    "model.add(Dense(25, activation = 'relu'))       #hidden layer\n",
    "model.add(Dropout(0.25))\n",
    "\n",
    "model.add(Dense(12, activation = 'relu'))       #hidden layer\n",
    "model.add(Dropout(0.25))\n",
    "\n",
    "model.add(Dense(1, activation = 'sigmoid'))     #output layer\n",
    "\n",
    "model.compile(loss = 'binary_crossentropy', optimizer = 'adam')"
   ]
  },
  {
   "cell_type": "code",
   "execution_count": 1388,
   "metadata": {},
   "outputs": [],
   "source": [
    "early_stop = EarlyStopping(monitor = 'val_loss', mode = 'min', patience = 6)"
   ]
  },
  {
   "cell_type": "code",
   "execution_count": 1389,
   "metadata": {},
   "outputs": [
    {
     "name": "stdout",
     "output_type": "stream",
     "text": [
      "Epoch 1/30\n",
      "2166/2166 [==============================] - 5s 2ms/step - loss: 0.3632 - val_loss: 0.2655\n",
      "Epoch 2/30\n",
      "2166/2166 [==============================] - 4s 2ms/step - loss: 0.2682 - val_loss: 0.2633\n",
      "Epoch 3/30\n",
      "2166/2166 [==============================] - 4s 2ms/step - loss: 0.2652 - val_loss: 0.2629\n",
      "Epoch 4/30\n",
      "2166/2166 [==============================] - 4s 2ms/step - loss: 0.2631 - val_loss: 0.2632\n",
      "Epoch 5/30\n",
      "2166/2166 [==============================] - 4s 2ms/step - loss: 0.2636 - val_loss: 0.2612\n",
      "Epoch 6/30\n",
      "2166/2166 [==============================] - 4s 2ms/step - loss: 0.2616 - val_loss: 0.2614\n",
      "Epoch 7/30\n",
      "2166/2166 [==============================] - 4s 2ms/step - loss: 0.2636 - val_loss: 0.2618\n",
      "Epoch 8/30\n",
      "2166/2166 [==============================] - 4s 2ms/step - loss: 0.2613 - val_loss: 0.2610\n",
      "Epoch 9/30\n",
      "2166/2166 [==============================] - 4s 2ms/step - loss: 0.2617 - val_loss: 0.2614\n",
      "Epoch 10/30\n",
      "2166/2166 [==============================] - 4s 2ms/step - loss: 0.2606 - val_loss: 0.2616\n",
      "Epoch 11/30\n",
      "2166/2166 [==============================] - 5s 2ms/step - loss: 0.2616 - val_loss: 0.2612\n",
      "Epoch 12/30\n",
      "2166/2166 [==============================] - 4s 2ms/step - loss: 0.2596 - val_loss: 0.2613\n",
      "Epoch 13/30\n",
      "2166/2166 [==============================] - 4s 2ms/step - loss: 0.2619 - val_loss: 0.2616\n",
      "Epoch 14/30\n",
      "2166/2166 [==============================] - 4s 2ms/step - loss: 0.2623 - val_loss: 0.2609\n",
      "Epoch 15/30\n",
      "2166/2166 [==============================] - 4s 2ms/step - loss: 0.2611 - val_loss: 0.2602\n",
      "Epoch 16/30\n",
      "2166/2166 [==============================] - 4s 2ms/step - loss: 0.2598 - val_loss: 0.2607\n",
      "Epoch 17/30\n",
      "2166/2166 [==============================] - 4s 2ms/step - loss: 0.2609 - val_loss: 0.2606\n",
      "Epoch 18/30\n",
      "2166/2166 [==============================] - 4s 2ms/step - loss: 0.2603 - val_loss: 0.2606\n",
      "Epoch 19/30\n",
      "2166/2166 [==============================] - 4s 2ms/step - loss: 0.2614 - val_loss: 0.2605\n",
      "Epoch 20/30\n",
      "2166/2166 [==============================] - 4s 2ms/step - loss: 0.2604 - val_loss: 0.2604\n",
      "Epoch 21/30\n",
      "2166/2166 [==============================] - 4s 2ms/step - loss: 0.2608 - val_loss: 0.2606\n",
      "Epoch 22/30\n",
      "2166/2166 [==============================] - 4s 2ms/step - loss: 0.2593 - val_loss: 0.2607\n",
      "Epoch 23/30\n",
      "2166/2166 [==============================] - 4s 2ms/step - loss: 0.2615 - val_loss: 0.2604\n",
      "Epoch 24/30\n",
      "2166/2166 [==============================] - 5s 2ms/step - loss: 0.2595 - val_loss: 0.2601\n",
      "Epoch 25/30\n",
      "2166/2166 [==============================] - 4s 2ms/step - loss: 0.2597 - val_loss: 0.2604\n",
      "Epoch 26/30\n",
      "2166/2166 [==============================] - 5s 2ms/step - loss: 0.2604 - val_loss: 0.2601\n",
      "Epoch 27/30\n",
      "2166/2166 [==============================] - 4s 2ms/step - loss: 0.2597 - val_loss: 0.2609\n",
      "Epoch 28/30\n",
      "2166/2166 [==============================] - 4s 2ms/step - loss: 0.2596 - val_loss: 0.2605\n",
      "Epoch 29/30\n",
      "2166/2166 [==============================] - 4s 2ms/step - loss: 0.2592 - val_loss: 0.2606\n",
      "Epoch 30/30\n",
      "2166/2166 [==============================] - 4s 2ms/step - loss: 0.2581 - val_loss: 0.2601\n"
     ]
    },
    {
     "data": {
      "text/plain": [
       "<tensorflow.python.keras.callbacks.History at 0x2dbcf384788>"
      ]
     },
     "execution_count": 1389,
     "metadata": {},
     "output_type": "execute_result"
    }
   ],
   "source": [
    "model.fit(x = X_train, y = y_train, validation_data = (X_test,y_test), epochs = 30, batch_size = 128)"
   ]
  },
  {
   "cell_type": "code",
   "execution_count": 1390,
   "metadata": {},
   "outputs": [],
   "source": [
    "from tensorflow.keras.models import load_model"
   ]
  },
  {
   "cell_type": "code",
   "execution_count": 1391,
   "metadata": {},
   "outputs": [],
   "source": [
    "model.save('project_NN_model1.h5')"
   ]
  },
  {
   "cell_type": "code",
   "execution_count": 1392,
   "metadata": {},
   "outputs": [],
   "source": [
    "loss = pd.DataFrame(model.history.history)"
   ]
  },
  {
   "cell_type": "code",
   "execution_count": 1393,
   "metadata": {},
   "outputs": [
    {
     "data": {
      "text/plain": [
       "<AxesSubplot:>"
      ]
     },
     "execution_count": 1393,
     "metadata": {},
     "output_type": "execute_result"
    },
    {
     "data": {
      "image/png": "[encoded data removed]",
      "text/plain": [
       "<Figure size 432x288 with 1 Axes>"
      ]
     },
     "metadata": {
      "needs_background": "light"
     },
     "output_type": "display_data"
    }
   ],
   "source": [
    "loss[['loss','val_loss']].plot()"
   ]
  },
  {
   "cell_type": "markdown",
   "metadata": {},
   "source": [
    "MODEL EVALUATION"
   ]
  },
  {
   "cell_type": "code",
   "execution_count": 1394,
   "metadata": {},
   "outputs": [],
   "source": [
    "from sklearn.metrics import classification_report, confusion_matrix"
   ]
  },
  {
   "cell_type": "code",
   "execution_count": 1396,
   "metadata": {},
   "outputs": [],
   "source": [
    "predictions = model.predict_classes(X_test)"
   ]
  },
  {
   "cell_type": "code",
   "execution_count": 1397,
   "metadata": {},
   "outputs": [
    {
     "name": "stdout",
     "output_type": "stream",
     "text": [
      "              precision    recall  f1-score   support\n",
      "\n",
      "           0       1.00      0.43      0.60     23370\n",
      "           1       0.88      1.00      0.93     95439\n",
      "\n",
      "    accuracy                           0.89    118809\n",
      "   macro avg       0.94      0.71      0.77    118809\n",
      "weighted avg       0.90      0.89      0.87    118809\n",
      "\n"
     ]
    }
   ],
   "source": [
    "print(classification_report(y_test,predictions))"
   ]
  },
  {
   "cell_type": "code",
   "execution_count": 1398,
   "metadata": {},
   "outputs": [
    {
     "name": "stdout",
     "output_type": "stream",
     "text": [
      "[[10046 13324]\n",
      " [   10 95429]]\n"
     ]
    }
   ],
   "source": [
    "print(confusion_matrix(y_test,predictions))"
   ]
  },
  {
   "cell_type": "code",
   "execution_count": null,
   "metadata": {},
   "outputs": [],
   "source": [
    "#THE END"
   ]
  }
 ],
 "metadata": {
  "kernelspec": {
   "display_name": "Python 3",
   "language": "python",
   "name": "python3"
  },
  "language_info": {
   "codemirror_mode": {
    "name": "ipython",
    "version": 3
   },
   "file_extension": ".py",
   "mimetype": "text/x-python",
   "name": "python",
   "nbconvert_exporter": "python",
   "pygments_lexer": "ipython3",
   "version": "3.7.9"
  }
 },
 "nbformat": 4,
 "nbformat_minor": 4
}
