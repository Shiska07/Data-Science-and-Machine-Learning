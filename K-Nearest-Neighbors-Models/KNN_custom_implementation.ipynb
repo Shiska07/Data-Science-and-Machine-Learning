{
 "cells": [
  {
   "cell_type": "code",
   "execution_count": 1,
   "metadata": {},
   "outputs": [],
   "source": [
    "# import libraries\n",
    "import sys\n",
    "import math\n",
    "import numpy as np\n",
    "import matplotlib.pyplot as plt\n",
    "%matplotlib inline            "
   ]
  },
  {
   "cell_type": "markdown",
   "metadata": {},
   "source": [
    "# 2 a)"
   ]
  },
  {
   "cell_type": "markdown",
   "metadata": {},
   "source": [
    "### Function to create feature matrix and and label vectors\n",
    "The function 'get_vectors' takes a filename as input and returns a matrix X containing feature vectors and vector y containing target labels."
   ]
  },
  {
   "cell_type": "code",
   "execution_count": 53,
   "metadata": {},
   "outputs": [],
   "source": [
    "def get_vectors(filename):\n",
    "    try:\n",
    "        f = open(filename, 'r')\n",
    "    except OSError:\n",
    "        print(f'{filename} could not be opened.\\n')\n",
    "        sys.exit()\n",
    "        \n",
    "    # initialize list to store feature and labels for training data\n",
    "    features = []             \n",
    "    labels = []\n",
    "    \n",
    "    with f:\n",
    "        line = f.readline()\n",
    "        while line != '':\n",
    "            # strip newline and outer parenthesis\n",
    "            line = line.strip('\\n')\n",
    "            line = line.strip('( )')\n",
    "            \n",
    "            # extrace label and append to labels list\n",
    "            single_label = line.split('), ')[-1]\n",
    "            labels.append(single_label)\n",
    "            \n",
    "            # extrace features and append to features list\n",
    "            feat = line.split('), ')[0].split(', ')\n",
    "            features.append(feat)\n",
    "            \n",
    "            # read next line\n",
    "            line = f.readline()\n",
    "        \n",
    "        # create dataframe of features and append labels\n",
    "        X = np.array(features, dtype = float, ndmin = 2)\n",
    "        \n",
    "        # convert labels list to array\n",
    "        y = np.array(labels, dtype = str, ndmin = 2)\n",
    "        \n",
    "        return X, y.transpose()"
   ]
  },
  {
   "cell_type": "markdown",
   "metadata": {},
   "source": [
    "### K Nearest Neighbors"
   ]
  },
  {
   "cell_type": "code",
   "execution_count": 79,
   "metadata": {},
   "outputs": [],
   "source": [
    "# calculates euclidean distance between training datapoints and test data point\n",
    "def get_euclidean_distance(X_train, p):\n",
    "    \n",
    "    # n = total number of datapoints, f_n = total number of features\n",
    "    n, f_n = X_train.shape\n",
    "    \n",
    "    sum_of_squared_diff = np.zeros((n, 1), dtype = float)\n",
    "    \n",
    "    # use vectorization to get sum of squared difference\n",
    "    for i in range(f_n):\n",
    "        x_vector = X_train[:,i].reshape((n,1))\n",
    "        sum_of_squared_diff = sum_of_squared_diff + (x_vector - p[i])**2\n",
    "        \n",
    "    # take sq root to get array of cartesianeuclidean distance\n",
    "    euc_dist = np.sqrt(sum_of_squared_diff)\n",
    "    \n",
    "    return euc_dist\n",
    "\n",
    "# returns distance and labels of 'k' nearest neighbors of 'p' wrt to training data\n",
    "def get_k_nearest_neighbors(X_train, y_train, p, k = 5):\n",
    "    \n",
    "    # get euclidean distance array\n",
    "    euc_dist_arr = get_euclidean_distance(X_train, p)\n",
    "    \n",
    "    # concat with y_train labels and sort in ascending order of the distance\n",
    "    euc_dist_arr = np.concatenate((euc_dist_arr, y_train), axis = 1)\n",
    "    \n",
    "    # sort wrt the euclidean distance(first col)\n",
    "    euc_dist_arr = euc_dist_arr[euc_dist_arr[:,0].argsort()]\n",
    "    \n",
    "    # return the first 'k' rows\n",
    "    return euc_dist_arr[0:k,:]"
   ]
  },
  {
   "cell_type": "markdown",
   "metadata": {},
   "source": [
    "### Provide training filename & prediction data point\n",
    "The file must contain 1 datapoint per line in format (( height, diameter, weight, hue ), label ) which is similar to the format provided for the assignment"
   ]
  },
  {
   "cell_type": "code",
   "execution_count": 80,
   "metadata": {},
   "outputs": [
    {
     "data": {
      "text/plain": [
       "array([['0.22991008654808265', 'Ceramic'],\n",
       "       ['0.40132508774163955', 'Metal'],\n",
       "       ['0.46414161830789835', 'Plastic'],\n",
       "       ['0.49305207385401356', 'Plastic'],\n",
       "       ['0.5236055005559364', 'Plastic']], dtype='<U32')"
      ]
     },
     "execution_count": 80,
     "metadata": {},
     "output_type": "execute_result"
    }
   ],
   "source": [
    "'''\n",
    "# provide filename\n",
    "filename = str(input('enter file containing training data: '))\n",
    "\n",
    "# provide prediction datapoint\n",
    "h_p = float(input('Enter height: '))\n",
    "d_p = float(input('Enter diameter: '))\n",
    "w_p = float(input('Enter weight: '))\n",
    "c_p = float(input('Enter hue/color: '))\n",
    "\n",
    "# save prediction datapont as a 1-D numpy array\n",
    "p = np.array([h_p, d_p, w_p, c_p])\n",
    "'''\n",
    "filename = '2_a_train.txt'\n",
    "p = np.array([0.1267104769925, 0.068040454192177, 0.20859882666808, 3.9587910256346], dtype = float)\n",
    "\n",
    "# get feature and target vectors\n",
    "X_train, y_train = get_vectors(filename)\n",
    "\n",
    "get_k_nearest_neighbors(X_train, y_train, p, 5)"
   ]
  },
  {
   "cell_type": "markdown",
   "metadata": {},
   "source": [
    "### Provide Single Datapoint for Prediction"
   ]
  },
  {
   "cell_type": "code",
   "execution_count": 16,
   "metadata": {},
   "outputs": [
    {
     "data": {
      "text/plain": [
       "(12,)"
      ]
     },
     "execution_count": 16,
     "metadata": {},
     "output_type": "execute_result"
    }
   ],
   "source": [
    "get_euclidean_distance(X_train, p).shape"
   ]
  },
  {
   "cell_type": "code",
   "execution_count": 20,
   "metadata": {},
   "outputs": [
    {
     "data": {
      "text/plain": [
       "(12,)"
      ]
     },
     "execution_count": 20,
     "metadata": {},
     "output_type": "execute_result"
    }
   ],
   "source": [
    "y_train.shape"
   ]
  },
  {
   "cell_type": "code",
   "execution_count": 47,
   "metadata": {},
   "outputs": [
    {
     "data": {
      "text/plain": [
       "(12,)"
      ]
     },
     "execution_count": 47,
     "metadata": {},
     "output_type": "execute_result"
    }
   ],
   "source": [
    "X_train[:,0].shape"
   ]
  },
  {
   "cell_type": "code",
   "execution_count": null,
   "metadata": {},
   "outputs": [],
   "source": []
  }
 ],
 "metadata": {
  "kernelspec": {
   "display_name": "Python 3",
   "language": "python",
   "name": "python3"
  },
  "language_info": {
   "codemirror_mode": {
    "name": "ipython",
    "version": 3
   },
   "file_extension": ".py",
   "mimetype": "text/x-python",
   "name": "python",
   "nbconvert_exporter": "python",
   "pygments_lexer": "ipython3",
   "version": "3.7.9"
  }
 },
 "nbformat": 4,
 "nbformat_minor": 4
}
