{
 "cells": [
  {
   "cell_type": "code",
   "execution_count": 57,
   "metadata": {},
   "outputs": [],
   "source": [
    "# import libraries\n",
    "import sys\n",
    "import math\n",
    "import numpy as np\n",
    "import pandas as pd\n",
    "import matplotlib.pyplot as plt\n",
    "%matplotlib inline            "
   ]
  },
  {
   "cell_type": "markdown",
   "metadata": {},
   "source": [
    "### Provide filename\n",
    "The file must contain 1 datapoint per line in format (( height, diameter, weight, hue ), label ) which is similar to the format provided for the assignment"
   ]
  },
  {
   "cell_type": "markdown",
   "metadata": {},
   "source": [
    "# 2 a)"
   ]
  },
  {
   "cell_type": "code",
   "execution_count": 6,
   "metadata": {},
   "outputs": [
    {
     "name": "stdout",
     "output_type": "stream",
     "text": [
      "enter file containing training data: 2_a_train.txt\n"
     ]
    }
   ],
   "source": [
    "# provide filename\n",
    "filename = str(input('enter file containing training data: '))"
   ]
  },
  {
   "cell_type": "markdown",
   "metadata": {},
   "source": [
    "### Read data from file\n",
    "The function 'create_df' takes a filename as input and returns a pandas dataframe with features and columns and lablels as the last column"
   ]
  },
  {
   "cell_type": "code",
   "execution_count": 44,
   "metadata": {},
   "outputs": [],
   "source": [
    "def create_df(filename):\n",
    "    try:\n",
    "        f = open(filename, 'r')\n",
    "    except OSError:\n",
    "        print(f'{filename} could not be opened.\\n')\n",
    "        sys.exit()\n",
    "        \n",
    "    # initialize list to store feature and labels for training data\n",
    "    features = []             \n",
    "    labels = []\n",
    "    \n",
    "    with f:\n",
    "        line = f.readline()\n",
    "        while line != '':\n",
    "            # strip newline and outer parenthesis\n",
    "            line = line.strip('\\n')\n",
    "            line = line.strip('( )')\n",
    "            \n",
    "            # extrace label and append to labels list\n",
    "            single_label = line.split('), ')[-1]\n",
    "            labels.append(single_label)\n",
    "            \n",
    "            # extrace features and append to features list\n",
    "            feat = line.split('), ')[0].split(', ')\n",
    "            features.append(feat)\n",
    "            \n",
    "            # read next line\n",
    "            line = f.readline()\n",
    "        \n",
    "        # convert labels list to series\n",
    "        labels_ser = pd.Series(labels, name = 'label')\n",
    "        \n",
    "        # create dataframe of features and append labels\n",
    "        df = pd.DataFrame(features, columns = ['height', 'diameter', 'weight', 'hue'], dtype = float)\n",
    "        df['label'] = labels\n",
    "        \n",
    "        return df"
   ]
  },
  {
   "cell_type": "code",
   "execution_count": 45,
   "metadata": {},
   "outputs": [],
   "source": [
    "# create dataframe\n",
    "df_train = create_df(filename)"
   ]
  },
  {
   "cell_type": "code",
   "execution_count": 46,
   "metadata": {},
   "outputs": [
    {
     "data": {
      "text/html": [
       "<div>\n",
       "<style scoped>\n",
       "    .dataframe tbody tr th:only-of-type {\n",
       "        vertical-align: middle;\n",
       "    }\n",
       "\n",
       "    .dataframe tbody tr th {\n",
       "        vertical-align: top;\n",
       "    }\n",
       "\n",
       "    .dataframe thead th {\n",
       "        text-align: right;\n",
       "    }\n",
       "</style>\n",
       "<table border=\"1\" class=\"dataframe\">\n",
       "  <thead>\n",
       "    <tr style=\"text-align: right;\">\n",
       "      <th></th>\n",
       "      <th>height</th>\n",
       "      <th>diameter</th>\n",
       "      <th>weight</th>\n",
       "      <th>hue</th>\n",
       "      <th>label</th>\n",
       "    </tr>\n",
       "  </thead>\n",
       "  <tbody>\n",
       "    <tr>\n",
       "      <th>0</th>\n",
       "      <td>0.087387</td>\n",
       "      <td>0.060082</td>\n",
       "      <td>0.319795</td>\n",
       "      <td>2.849626</td>\n",
       "      <td>Ceramic</td>\n",
       "    </tr>\n",
       "    <tr>\n",
       "      <th>1</th>\n",
       "      <td>0.109784</td>\n",
       "      <td>0.091370</td>\n",
       "      <td>0.473875</td>\n",
       "      <td>3.659025</td>\n",
       "      <td>Metal</td>\n",
       "    </tr>\n",
       "    <tr>\n",
       "      <th>2</th>\n",
       "      <td>0.085536</td>\n",
       "      <td>0.030000</td>\n",
       "      <td>0.119153</td>\n",
       "      <td>2.210429</td>\n",
       "      <td>Metal</td>\n",
       "    </tr>\n",
       "    <tr>\n",
       "      <th>3</th>\n",
       "      <td>0.084891</td>\n",
       "      <td>0.052961</td>\n",
       "      <td>0.196126</td>\n",
       "      <td>2.707810</td>\n",
       "      <td>Metal</td>\n",
       "    </tr>\n",
       "    <tr>\n",
       "      <th>4</th>\n",
       "      <td>0.061071</td>\n",
       "      <td>0.056669</td>\n",
       "      <td>0.246577</td>\n",
       "      <td>4.175536</td>\n",
       "      <td>Ceramic</td>\n",
       "    </tr>\n",
       "  </tbody>\n",
       "</table>\n",
       "</div>"
      ],
      "text/plain": [
       "     height  diameter    weight       hue    label\n",
       "0  0.087387  0.060082  0.319795  2.849626  Ceramic\n",
       "1  0.109784  0.091370  0.473875  3.659025    Metal\n",
       "2  0.085536  0.030000  0.119153  2.210429    Metal\n",
       "3  0.084891  0.052961  0.196126  2.707810    Metal\n",
       "4  0.061071  0.056669  0.246577  4.175536  Ceramic"
      ]
     },
     "execution_count": 46,
     "metadata": {},
     "output_type": "execute_result"
    }
   ],
   "source": [
    "# check dataframe head\n",
    "df_train.head()"
   ]
  },
  {
   "cell_type": "code",
   "execution_count": 47,
   "metadata": {},
   "outputs": [
    {
     "name": "stdout",
     "output_type": "stream",
     "text": [
      "<class 'pandas.core.frame.DataFrame'>\n",
      "RangeIndex: 12 entries, 0 to 11\n",
      "Data columns (total 5 columns):\n",
      " #   Column    Non-Null Count  Dtype  \n",
      "---  ------    --------------  -----  \n",
      " 0   height    12 non-null     float64\n",
      " 1   diameter  12 non-null     float64\n",
      " 2   weight    12 non-null     float64\n",
      " 3   hue       12 non-null     float64\n",
      " 4   label     12 non-null     object \n",
      "dtypes: float64(4), object(1)\n",
      "memory usage: 608.0+ bytes\n"
     ]
    }
   ],
   "source": [
    "df_train.info()"
   ]
  },
  {
   "cell_type": "markdown",
   "metadata": {},
   "source": [
    "### K Nearest Neighbors"
   ]
  },
  {
   "cell_type": "code",
   "execution_count": 77,
   "metadata": {},
   "outputs": [],
   "source": [
    "# this function returns the distance and labels of k nearest neighbors of prediction datapoint p\n",
    "def get_k_nearest_neighbors(df, p, k = 5):\n",
    "    df_f = df.drop(labels = ['label'], axis = 1)\n",
    "    \n",
    "    # get number of datapoints and features\n",
    "    n, f_n = df_f.shape\n",
    "    \n",
    "    sum_of_squared_diff = np.zeros(n)\n",
    "    \n",
    "    # use vectorization to sum of squared difference\n",
    "    for i in range(f_n):\n",
    "        sum_of_squared_diff = sum_of_squared_diff + (p[i] - df_f.iloc[:,i])**2\n",
    "    \n",
    "    # take sq root to get array of cartesian distance\n",
    "    cartesian_dist = np.sqrt(sum_of_squared_diff)\n",
    "    \n",
    "    # create distance series and append with corresponding label\n",
    "    cartesian_dist_ser = pd.Series(cartesian_dist, name = 'cartesian_distance')\n",
    "    df = pd.concat([cartesian_dist_ser, df['label']], axis = 1)\n",
    "    \n",
    "    df.sort_values(by = 'cartesian_distance', ascending = True, inplace = True)\n",
    "    \n",
    "    return df"
   ]
  },
  {
   "cell_type": "markdown",
   "metadata": {},
   "source": [
    "### Provide Single Datapoint for Prediction"
   ]
  },
  {
   "cell_type": "code",
   "execution_count": 24,
   "metadata": {},
   "outputs": [
    {
     "name": "stdout",
     "output_type": "stream",
     "text": [
      "Enter height: 0.126710477\n",
      "Enter diameter: 0.068040454\n",
      "Enter weight: 0.208598827\n",
      "Enter hue/color: 3.958791026\n"
     ]
    }
   ],
   "source": [
    "h_p = float(input('Enter height: '))\n",
    "d_p = float(input('Enter diameter: '))\n",
    "w_p = float(input('Enter weight: '))\n",
    "c_p = float(input('Enter hue/color: '))"
   ]
  },
  {
   "cell_type": "code",
   "execution_count": 25,
   "metadata": {},
   "outputs": [],
   "source": [
    "# save prediction datapont as a 1-D numpy array\n",
    "p = np.array([h_p, d_p, w_p, c_p])"
   ]
  },
  {
   "cell_type": "code",
   "execution_count": 78,
   "metadata": {},
   "outputs": [
    {
     "data": {
      "text/html": [
       "<div>\n",
       "<style scoped>\n",
       "    .dataframe tbody tr th:only-of-type {\n",
       "        vertical-align: middle;\n",
       "    }\n",
       "\n",
       "    .dataframe tbody tr th {\n",
       "        vertical-align: top;\n",
       "    }\n",
       "\n",
       "    .dataframe thead th {\n",
       "        text-align: right;\n",
       "    }\n",
       "</style>\n",
       "<table border=\"1\" class=\"dataframe\">\n",
       "  <thead>\n",
       "    <tr style=\"text-align: right;\">\n",
       "      <th></th>\n",
       "      <th>cartesian_distance</th>\n",
       "      <th>label</th>\n",
       "    </tr>\n",
       "  </thead>\n",
       "  <tbody>\n",
       "    <tr>\n",
       "      <th>4</th>\n",
       "      <td>0.229910</td>\n",
       "      <td>Ceramic</td>\n",
       "    </tr>\n",
       "    <tr>\n",
       "      <th>1</th>\n",
       "      <td>0.401325</td>\n",
       "      <td>Metal</td>\n",
       "    </tr>\n",
       "    <tr>\n",
       "      <th>9</th>\n",
       "      <td>0.464142</td>\n",
       "      <td>Plastic</td>\n",
       "    </tr>\n",
       "    <tr>\n",
       "      <th>6</th>\n",
       "      <td>0.493052</td>\n",
       "      <td>Plastic</td>\n",
       "    </tr>\n",
       "    <tr>\n",
       "      <th>10</th>\n",
       "      <td>0.523606</td>\n",
       "      <td>Plastic</td>\n",
       "    </tr>\n",
       "    <tr>\n",
       "      <th>5</th>\n",
       "      <td>0.547976</td>\n",
       "      <td>Plastic</td>\n",
       "    </tr>\n",
       "    <tr>\n",
       "      <th>7</th>\n",
       "      <td>0.871031</td>\n",
       "      <td>Plastic</td>\n",
       "    </tr>\n",
       "    <tr>\n",
       "      <th>8</th>\n",
       "      <td>0.880512</td>\n",
       "      <td>Plastic</td>\n",
       "    </tr>\n",
       "    <tr>\n",
       "      <th>11</th>\n",
       "      <td>0.881818</td>\n",
       "      <td>Ceramic</td>\n",
       "    </tr>\n",
       "    <tr>\n",
       "      <th>0</th>\n",
       "      <td>1.115446</td>\n",
       "      <td>Ceramic</td>\n",
       "    </tr>\n",
       "    <tr>\n",
       "      <th>3</th>\n",
       "      <td>1.251832</td>\n",
       "      <td>Metal</td>\n",
       "    </tr>\n",
       "    <tr>\n",
       "      <th>2</th>\n",
       "      <td>1.751546</td>\n",
       "      <td>Metal</td>\n",
       "    </tr>\n",
       "  </tbody>\n",
       "</table>\n",
       "</div>"
      ],
      "text/plain": [
       "    cartesian_distance    label\n",
       "4             0.229910  Ceramic\n",
       "1             0.401325    Metal\n",
       "9             0.464142  Plastic\n",
       "6             0.493052  Plastic\n",
       "10            0.523606  Plastic\n",
       "5             0.547976  Plastic\n",
       "7             0.871031  Plastic\n",
       "8             0.880512  Plastic\n",
       "11            0.881818  Ceramic\n",
       "0             1.115446  Ceramic\n",
       "3             1.251832    Metal\n",
       "2             1.751546    Metal"
      ]
     },
     "execution_count": 78,
     "metadata": {},
     "output_type": "execute_result"
    }
   ],
   "source": [
    "get_k_nearest_neighbors(df_train, p, 5)"
   ]
  },
  {
   "cell_type": "code",
   "execution_count": null,
   "metadata": {},
   "outputs": [],
   "source": []
  }
 ],
 "metadata": {
  "kernelspec": {
   "display_name": "Python 3",
   "language": "python",
   "name": "python3"
  },
  "language_info": {
   "codemirror_mode": {
    "name": "ipython",
    "version": 3
   },
   "file_extension": ".py",
   "mimetype": "text/x-python",
   "name": "python",
   "nbconvert_exporter": "python",
   "pygments_lexer": "ipython3",
   "version": "3.7.9"
  }
 },
 "nbformat": 4,
 "nbformat_minor": 4
}
