{
 "cells": [
  {
   "cell_type": "code",
   "execution_count": 1,
   "id": "3309bf40",
   "metadata": {},
   "outputs": [],
   "source": [
    "import numpy as np\n",
    "import pandas as pd\n",
    "%matplotlib inline"
   ]
  },
  {
   "cell_type": "markdown",
   "id": "6f1d5dee",
   "metadata": {},
   "source": [
    "### Stationary vs Non-Stationary Data\n",
    "Stationary data has a constant mean and variance as time progresses. This means it does not have an increasing or a decreasing trend, cyclic amplitude(variance) or frequency(covariance).\n",
    "\n",
    "#### ARIMA Parameters\n",
    "1. AR(p): Autoregression component relates to the relationship of current data with past data.\n",
    "2. I(d): Integrated component related to how many timesteps of diff() must be applied to convert non-stationary to stationary.\n",
    "3. MA(q): Moveing Average component relates to the dependency between an observation and a residual error from an moving average model applied to lagged observations."
   ]
  },
  {
   "cell_type": "code",
   "execution_count": null,
   "id": "916b3b22",
   "metadata": {},
   "outputs": [],
   "source": []
  }
 ],
 "metadata": {
  "kernelspec": {
   "display_name": "Python [conda env:sklearn]",
   "language": "python",
   "name": "conda-env-sklearn-py"
  },
  "language_info": {
   "codemirror_mode": {
    "name": "ipython",
    "version": 3
   },
   "file_extension": ".py",
   "mimetype": "text/x-python",
   "name": "python",
   "nbconvert_exporter": "python",
   "pygments_lexer": "ipython3",
   "version": "3.10.10"
  }
 },
 "nbformat": 4,
 "nbformat_minor": 5
}
